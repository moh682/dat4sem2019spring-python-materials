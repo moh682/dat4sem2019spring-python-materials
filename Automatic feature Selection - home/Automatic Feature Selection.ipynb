{
 "cells": [
  {
   "cell_type": "markdown",
   "metadata": {},
   "source": [
    "# Automatic Feature Selection\n",
    "\n",
    "* to reduce dimensionality\n",
    "* common methods: univeriate statistics, model-based selection, iterative selection\n",
    "\n",
    "### 1. Univariate Statistics \n",
    "* Determines the relationship between each feature and output (target)\n",
    "* only the features with highest confidence are selected\n",
    "* <bold> SelectKBest </bold> - Selectin K number of features \n",
    "* <bold> Select Percentile </bold> - selection is made based on percantage of the original features "
   ]
  },
  {
   "cell_type": "code",
   "execution_count": null,
   "metadata": {},
   "outputs": [],
   "source": [
    "import numpy as np \n",
    "from sklearn.datasets import load_b"
   ]
  }
 ],
 "metadata": {
  "kernelspec": {
   "display_name": "Python 3",
   "language": "python",
   "name": "python3"
  },
  "language_info": {
   "codemirror_mode": {
    "name": "ipython",
    "version": 3
   },
   "file_extension": ".py",
   "mimetype": "text/x-python",
   "name": "python",
   "nbconvert_exporter": "python",
   "pygments_lexer": "ipython3",
   "version": "3.7.1"
  }
 },
 "nbformat": 4,
 "nbformat_minor": 2
}
