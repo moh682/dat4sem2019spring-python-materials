{
 "cells": [
  {
   "cell_type": "markdown",
   "metadata": {
    "slideshow": {
     "slide_type": "slide"
    }
   },
   "source": [
    "# Agenda\n",
    "\n",
    "- Assignment feedback\n",
    "- Generators\n",
    "- Requests\n",
    "- Multiprocessing"
   ]
  },
  {
   "cell_type": "markdown",
   "metadata": {
    "slideshow": {
     "slide_type": "subslide"
    }
   },
   "source": [
    "## Multiprocessing\n",
    "  * A bit of functional programming: maps\n",
    "  * Multiprocessing in Python\n",
    "  * Multiprocessing in the OS"
   ]
  },
  {
   "cell_type": "markdown",
   "metadata": {
    "slideshow": {
     "slide_type": "slide"
    }
   },
   "source": [
    "## Functional programming: map\n",
    "\n",
    "* Given a function $f$ and a list\n",
    "  * Mapping simply means running the function $f$ for *every* element in the list"
   ]
  },
  {
   "cell_type": "code",
   "execution_count": null,
   "metadata": {
    "slideshow": {
     "slide_type": "subslide"
    }
   },
   "outputs": [],
   "source": [
    "def add_two(x):\n",
    "    return x + 2"
   ]
  },
  {
   "cell_type": "code",
   "execution_count": null,
   "metadata": {
    "slideshow": {
     "slide_type": "fragment"
    }
   },
   "outputs": [],
   "source": [
    "list = [1, 5, 7, 9]"
   ]
  },
  {
   "cell_type": "code",
   "execution_count": null,
   "metadata": {
    "slideshow": {
     "slide_type": "fragment"
    }
   },
   "outputs": [],
   "source": [
    "map(add_two, my_list)"
   ]
  },
  {
   "cell_type": "code",
   "execution_count": null,
   "metadata": {
    "slideshow": {
     "slide_type": "fragment"
    }
   },
   "outputs": [],
   "source": [
    "list(map(add_two, my_list))"
   ]
  },
  {
   "cell_type": "markdown",
   "metadata": {
    "slideshow": {
     "slide_type": "subslide"
    }
   },
   "source": [
    "## Mapping in pandas"
   ]
  },
  {
   "cell_type": "code",
   "execution_count": null,
   "metadata": {
    "slideshow": {
     "slide_type": "subslide"
    }
   },
   "outputs": [],
   "source": [
    "import pandas as pd\n",
    "\n",
    "df = pd.read_csv('befkbhalderstatkode.csv')\n",
    "df.head()"
   ]
  },
  {
   "cell_type": "code",
   "execution_count": null,
   "metadata": {
    "slideshow": {
     "slide_type": "subslide"
    }
   },
   "outputs": [],
   "source": [
    "df['BYDEL'].map(add_two)"
   ]
  },
  {
   "cell_type": "code",
   "execution_count": null,
   "metadata": {
    "slideshow": {
     "slide_type": "subslide"
    }
   },
   "outputs": [],
   "source": [
    "df['AAR'].map(add_two)"
   ]
  },
  {
   "cell_type": "markdown",
   "metadata": {
    "slideshow": {
     "slide_type": "slide"
    }
   },
   "source": [
    "# An intro to `multiprocessing`\n",
    "\n",
    "* Concurrency vs. parallelise"
   ]
  },
  {
   "cell_type": "markdown",
   "metadata": {
    "slideshow": {
     "slide_type": "fragment"
    }
   },
   "source": [
    "* Concurrency = out-of-order\n",
    "* Parallelism = same *time*"
   ]
  },
  {
   "cell_type": "markdown",
   "metadata": {
    "slideshow": {
     "slide_type": "subslide"
    }
   },
   "source": [
    "## Python multiprocessing library\n",
    "\n",
    "https://docs.python.org/3/library/multiprocessing.html"
   ]
  },
  {
   "cell_type": "code",
   "execution_count": null,
   "metadata": {
    "slideshow": {
     "slide_type": "fragment"
    }
   },
   "outputs": [],
   "source": [
    "from multiprocessing import Pool"
   ]
  },
  {
   "cell_type": "code",
   "execution_count": null,
   "metadata": {
    "slideshow": {
     "slide_type": "fragment"
    }
   },
   "outputs": [],
   "source": [
    "with Pool(5) as p:\n",
    "    print(p.map(add_two, [1, 2, 3]))"
   ]
  },
  {
   "cell_type": "code",
   "execution_count": null,
   "metadata": {
    "slideshow": {
     "slide_type": "subslide"
    }
   },
   "outputs": [],
   "source": [
    "contributor_urls = ['https://api.github.com/repositories/596892/contributors?page=' + str(x) for x in range(1, 15)]\n",
    "contributor_urls"
   ]
  },
  {
   "cell_type": "code",
   "execution_count": 1,
   "metadata": {
    "slideshow": {
     "slide_type": "subslide"
    }
   },
   "outputs": [],
   "source": [
    "### import os\n",
    "import sys\n",
    "import time\n",
    "import logging\n",
    "import requests\n",
    "import api_keys\n",
    "from multiprocessing import Pool, cpu_count\n",
    "\n",
    "\n",
    "HEADER = {'Authorization': f'token {api_keys.GITHUB_API_KEY}'}\n",
    "contributor_urls = [f'https://api.github.com/repositories/596892/contributors?page={idx}' for idx in range(1, 15)]\n",
    "\n",
    "\n",
    "def hard_work(a_url):\n",
    "    print(f'{__name__}/{os.getppid()}/{os.getpid()} gets data from {a_url}')\n",
    "    r = requests.get(a_url, headers=HEADER)\n",
    "    time.sleep(6)\n",
    "    print('Done')\n",
    "    return [(contrib['login'], contrib['contributions'],\n",
    "             contrib['html_url']) for contrib in r.json()]"
   ]
  },
  {
   "cell_type": "code",
   "execution_count": null,
   "metadata": {
    "slideshow": {
     "slide_type": "subslide"
    }
   },
   "outputs": [],
   "source": [
    "def run_sequential_download():\n",
    "    contributors = []\n",
    "    logging.info('Running the sequential program.')\n",
    "    start = time.time()\n",
    "    for contributor_url in contributor_urls:\n",
    "        contributors += hard_work(contributor_url)\n",
    "    print(f'It took {time.time() - start}s in total.')\n",
    "\n",
    "    return contributors"
   ]
  },
  {
   "cell_type": "code",
   "execution_count": null,
   "metadata": {
    "slideshow": {
     "slide_type": "subslide"
    }
   },
   "outputs": [],
   "source": [
    "def run_parallel_processes():\n",
    "    workers = cpu_count()\n",
    "    pool = Pool(processes=workers)\n",
    "\n",
    "    print('Running the concurrent program.')\n",
    "    start = time.time()\n",
    "    result = pool.map(hard_work, contributor_urls)\n",
    "\n",
    "    print(f'It took {time.time() - start}s in total.')\n",
    "    return result"
   ]
  },
  {
   "cell_type": "code",
   "execution_count": null,
   "metadata": {
    "slideshow": {
     "slide_type": "subslide"
    }
   },
   "outputs": [],
   "source": [
    "if __name__ == '__main__':\n",
    "    if sys.argv[1] == '-s':\n",
    "        run_sequential_download()\n",
    "    elif sys.argv[1] == '-p':\n",
    "        run_parallel_processes()"
   ]
  },
  {
   "cell_type": "markdown",
   "metadata": {
    "slideshow": {
     "slide_type": "subslide"
    }
   },
   "source": [
    "Run in one terminal `$ top` and in another one `$ python multiprocessing_example.py -p`\n",
    "\n",
    "~~~bash\n",
    "Running the concurrent program.\n",
    "__main__/21782/21783 gets data from https://api.github.com/repositories/596892/contributors?page=1\n",
    "__main__/21782/21784 gets data from https://api.github.com/repositories/596892/contributors?page=2\n",
    "__main__/21782/21785 gets data from https://api.github.com/repositories/596892/contributors?page=3\n",
    "__main__/21782/21786 gets data from https://api.github.com/repositories/596892/contributors?page=4\n",
    "__main__/21782/21787 gets data from https://api.github.com/repositories/596892/contributors?page=5\n",
    "__main__/21782/21788 gets data from https://api.github.com/repositories/596892/contributors?page=6\n",
    "__main__/21782/21789 gets data from https://api.github.com/repositories/596892/contributors?page=7\n",
    "__main__/21782/21790 gets data from https://api.github.com/repositories/596892/contributors?page=8\n",
    "Done\n",
    "__main__/21782/21790 gets data from https://api.github.com/repositories/596892/contributors?page=9\n",
    "Done\n",
    "__main__/21782/21788 gets data from https://api.github.com/repositories/596892/contributors?page=10\n",
    "Done\n",
    "Done\n",
    "__main__/21782/21784 gets data from https://api.github.com/repositories/596892/contributors?page=11\n",
    "__main__/21782/21785 gets data from https://api.github.com/repositories/596892/contributors?page=12\n",
    "Done\n",
    "Done\n",
    "__main__/21782/21789 gets data from https://api.github.com/repositories/596892/contributors?page=13\n",
    "__main__/21782/21787 gets data from https://api.github.com/repositories/596892/contributors?page=14\n",
    "Done\n",
    "Done\n",
    "Done\n",
    "Done\n",
    "Done\n",
    "Done\n",
    "Done\n",
    "Done\n",
    "It took 19.567875146865845s in total.\n",
    "~~~~\n",
    "\n",
    "\n",
    "~~~bash\n",
    "PID    COMMAND      %CPU  TIME     #TH    #WQ   #PORT MEM    PURG   CMPRS  PGRP  PPID  STATE    BOOSTS           %CPU_ME %CPU_OTHRS UID  FAULTS    COW      MSGSENT    MSGRECV\n",
    "21790  python3.6    0.0   00:00.04 4      2     31    12M    0B     0B     21782 21782 sleeping *0[2]            0.00000 0.00000    501  5340      1819     81         34\n",
    "21789  python3.6    0.0   00:00.04 4      2     31    12M    0B     0B     21782 21782 sleeping *0[2]            0.00000 0.00000    501  5353      1730     81         34\n",
    "21788  python3.6    0.0   00:00.04 4      2     31    12M    0B     0B     21782 21782 sleeping *0[2]            0.00000 0.00000    501  5323      1725     81         34\n",
    "21787  python3.6    0.0   00:00.04 4      2     31    12M    0B     0B     21782 21782 sleeping *0[2]            0.00000 0.00000    501  5350      1762     81         34\n",
    "21786  python3.6    0.0   00:00.04 4      2     31    12M    0B     0B     21782 21782 sleeping *0[2]            0.00000 0.00000    501  5342      1746     81         34\n",
    "21785  python3.6    0.0   00:00.04 4      2     31    12M    0B     0B     21782 21782 sleeping *0[2]            0.00000 0.00000    501  5358      1794     81         34\n",
    "21784  python3.6    0.0   00:00.04 5      3     33    12M    0B     0B     21782 21782 sleeping *0[2]            0.00000 0.00000    501  5328      1799     81         34\n",
    "21783  python3.6    0.0   00:00.04 5      3     32    12M    0B     0B     21782 21782 sleeping *0[2]            0.00000 0.00000    501  5344      1889     81         34\n",
    "21782  python3.6    0.1   00:00.26 4      0     17    19M    0B     0B     21782 21556 sleeping *0[1]            0.00000 0.00000    501  8136      2015     59         26\n",
    "~~~"
   ]
  },
  {
   "cell_type": "markdown",
   "metadata": {
    "slideshow": {
     "slide_type": "subslide"
    }
   },
   "source": [
    "## Let the OS do this.\n",
    "\n",
    "\n",
    "\n",
    "```python\n",
    "import os\n",
    "import sys\n",
    "import time\n",
    "import requests\n",
    "import api_keys\n",
    "\n",
    "\n",
    "HEADER = {'Authorization': f'token {api_keys.GITHUB_API_KEY}'}\n",
    "\n",
    "\n",
    "def hard_work(a_url):\n",
    "    sys.stdout.write(f'{__name__}/{os.getppid()}/{os.getpid()} gets data from {a_url}\\n')\n",
    "    r = requests.get(a_url, headers=HEADER)\n",
    "    time.sleep(3)\n",
    "    sys.stdout.write('Done')\n",
    "    return [(contrib['login'], contrib['contributions'],\n",
    "             contrib['html_url']) for contrib in r.json()]\n",
    "\n",
    "\n",
    "if __name__ == '__main__':\n",
    "    sys.stdout.write(str(hard_work(sys.argv[1])))\n",
    "```\n",
    "\n",
    "~~~bash\n",
    "#!/bin/bash\n",
    "for url in 'https://api.github.com/repositories/596892/contributors?page=1' 'https://api.github.com/repositories/596892/contributors?page=2' 'https://api.github.com/repositories/596892/contributors?page=3' 'https://api.github.com/repositories/596892/contributors?page=4' 'https://api.github.com/repositories/596892/contributors?page=5' 'https://api.github.com/repositories/596892/contributors?page=6' 'https://api.github.com/repositories/596892/contributors?page=7' 'https://api.github.com/repositories/596892/contributors?page=8' 'https://api.github.com/repositories/596892/contributors?page=9' 'https://api.github.com/repositories/596892/contributors?page=10' 'https://api.github.com/repositories/596892/contributors?page=11' 'https://api.github.com/repositories/596892/contributors?page=12' 'https://api.github.com/repositories/596892/contributors?page=13' 'https://api.github.com/repositories/596892/contributors?page=14'\n",
    "\n",
    "do\n",
    "    echo \"Started python ./hard_work.py ${url}\"\n",
    "    nohup python ./hard_work.py ${url} </dev/null >> output.log 2>&1 &\n",
    "done\n",
    "~~~"
   ]
  },
  {
   "cell_type": "markdown",
   "metadata": {
    "slideshow": {
     "slide_type": "subslide"
    }
   },
   "source": [
    "Read the official docs for more information on for example how to share data between processes: https://docs.python.org/3.6/library/multiprocessing.html"
   ]
  },
  {
   "cell_type": "markdown",
   "metadata": {
    "slideshow": {
     "slide_type": "subslide"
    }
   },
   "source": [
    "## Exercise\n",
    "\n",
    "* Find the ID of one of your repositories on GitHub\n",
    "* Write a function that creates a URL by adding an index to this url:\n",
    "    `https://api.github.com/repositories/33015583/contributors?page=`\n",
    "* Create a list of 100 URLs by calling the above function 100 times with indices from 0 to 99 inclusive\n",
    "* Using `%%timeit`, measure how long it takes to call the url 100 times sequentially\n",
    "* Create a thread pool\n",
    "* Using `%%timeit`, measure how long it takes to call the url 100 times *in parallel*"
   ]
  }
 ],
 "metadata": {
  "celltoolbar": "Slideshow",
  "kernelspec": {
   "display_name": "Python 3",
   "language": "python",
   "name": "python3"
  },
  "language_info": {
   "codemirror_mode": {
    "name": "ipython",
    "version": 3
   },
   "file_extension": ".py",
   "mimetype": "text/x-python",
   "name": "python",
   "nbconvert_exporter": "python",
   "pygments_lexer": "ipython3",
   "version": "3.6.7"
  }
 },
 "nbformat": 4,
 "nbformat_minor": 2
}
