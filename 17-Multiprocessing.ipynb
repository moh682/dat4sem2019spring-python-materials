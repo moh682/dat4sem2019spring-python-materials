{
 "cells": [
  {
   "cell_type": "markdown",
   "metadata": {
    "slideshow": {
     "slide_type": "slide"
    }
   },
   "source": [
    "# Agenda\n",
    "\n",
    "- Assignment feedback\n",
    "- Generators\n",
    "- Requests\n",
    "- Multiprocessing"
   ]
  },
  {
   "cell_type": "markdown",
   "metadata": {
    "slideshow": {
     "slide_type": "subslide"
    }
   },
   "source": [
    "## Multiprocessing\n",
    "  * A bit of functional programming: maps\n",
    "  * Multiprocessing in Python\n",
    "  * Multiprocessing in the OS"
   ]
  },
  {
   "cell_type": "markdown",
   "metadata": {
    "slideshow": {
     "slide_type": "slide"
    }
   },
   "source": [
    "## Functional programming: map\n",
    "\n",
    "* Given a function $f$ and a list\n",
    "  * Mapping simply means running the function $f$ for *every* element in the list"
   ]
  },
  {
   "cell_type": "code",
<<<<<<< HEAD
   "execution_count": null,
=======
   "execution_count": 3,
>>>>>>> upstream/master
   "metadata": {
    "slideshow": {
     "slide_type": "subslide"
    }
   },
   "outputs": [],
   "source": [
    "def add_two(x):\n",
    "    return x + 2"
   ]
  },
  {
   "cell_type": "code",
<<<<<<< HEAD
   "execution_count": null,
=======
   "execution_count": 4,
>>>>>>> upstream/master
   "metadata": {
    "slideshow": {
     "slide_type": "fragment"
    }
   },
   "outputs": [],
   "source": [
<<<<<<< HEAD
    "list = [1, 5, 7, 9]"
=======
    "my_list = [1, 5, 7, 9]"
>>>>>>> upstream/master
   ]
  },
  {
   "cell_type": "code",
<<<<<<< HEAD
   "execution_count": null,
=======
   "execution_count": 5,
>>>>>>> upstream/master
   "metadata": {
    "slideshow": {
     "slide_type": "fragment"
    }
   },
<<<<<<< HEAD
   "outputs": [],
=======
   "outputs": [
    {
     "data": {
      "text/plain": [
       "<map at 0x7f3ac86348d0>"
      ]
     },
     "execution_count": 5,
     "metadata": {},
     "output_type": "execute_result"
    }
   ],
>>>>>>> upstream/master
   "source": [
    "map(add_two, my_list)"
   ]
  },
  {
   "cell_type": "code",
<<<<<<< HEAD
   "execution_count": null,
=======
   "execution_count": 6,
>>>>>>> upstream/master
   "metadata": {
    "slideshow": {
     "slide_type": "fragment"
    }
   },
<<<<<<< HEAD
   "outputs": [],
   "source": [
    "list(map(add_two, my_list))"
=======
   "outputs": [
    {
     "data": {
      "text/plain": [
       "[3, 7, 9, 11]"
      ]
     },
     "execution_count": 6,
     "metadata": {},
     "output_type": "execute_result"
    }
   ],
   "source": [
    "list(map(add_two, my_list))\n",
    "# In JavaScript: my_list.map(add_two)"
>>>>>>> upstream/master
   ]
  },
  {
   "cell_type": "markdown",
   "metadata": {
    "slideshow": {
     "slide_type": "subslide"
    }
   },
   "source": [
    "## Mapping in pandas"
   ]
  },
  {
   "cell_type": "code",
<<<<<<< HEAD
   "execution_count": null,
=======
   "execution_count": 7,
>>>>>>> upstream/master
   "metadata": {
    "slideshow": {
     "slide_type": "subslide"
    }
   },
<<<<<<< HEAD
   "outputs": [],
=======
   "outputs": [
    {
     "data": {
      "text/html": [
       "<div>\n",
       "<style scoped>\n",
       "    .dataframe tbody tr th:only-of-type {\n",
       "        vertical-align: middle;\n",
       "    }\n",
       "\n",
       "    .dataframe tbody tr th {\n",
       "        vertical-align: top;\n",
       "    }\n",
       "\n",
       "    .dataframe thead th {\n",
       "        text-align: right;\n",
       "    }\n",
       "</style>\n",
       "<table border=\"1\" class=\"dataframe\">\n",
       "  <thead>\n",
       "    <tr style=\"text-align: right;\">\n",
       "      <th></th>\n",
       "      <th>AAR</th>\n",
       "      <th>BYDEL</th>\n",
       "      <th>ALDER</th>\n",
       "      <th>STATKODE</th>\n",
       "      <th>PERSONER</th>\n",
       "    </tr>\n",
       "  </thead>\n",
       "  <tbody>\n",
       "    <tr>\n",
       "      <th>0</th>\n",
       "      <td>2015</td>\n",
       "      <td>1</td>\n",
       "      <td>0</td>\n",
       "      <td>5100</td>\n",
       "      <td>614</td>\n",
       "    </tr>\n",
       "    <tr>\n",
       "      <th>1</th>\n",
       "      <td>2015</td>\n",
       "      <td>1</td>\n",
       "      <td>0</td>\n",
       "      <td>5104</td>\n",
       "      <td>2</td>\n",
       "    </tr>\n",
       "    <tr>\n",
       "      <th>2</th>\n",
       "      <td>2015</td>\n",
       "      <td>1</td>\n",
       "      <td>0</td>\n",
       "      <td>5106</td>\n",
       "      <td>1</td>\n",
       "    </tr>\n",
       "    <tr>\n",
       "      <th>3</th>\n",
       "      <td>2015</td>\n",
       "      <td>1</td>\n",
       "      <td>0</td>\n",
       "      <td>5110</td>\n",
       "      <td>1</td>\n",
       "    </tr>\n",
       "    <tr>\n",
       "      <th>4</th>\n",
       "      <td>2015</td>\n",
       "      <td>1</td>\n",
       "      <td>0</td>\n",
       "      <td>5120</td>\n",
       "      <td>4</td>\n",
       "    </tr>\n",
       "  </tbody>\n",
       "</table>\n",
       "</div>"
      ],
      "text/plain": [
       "    AAR  BYDEL  ALDER  STATKODE  PERSONER\n",
       "0  2015      1      0      5100       614\n",
       "1  2015      1      0      5104         2\n",
       "2  2015      1      0      5106         1\n",
       "3  2015      1      0      5110         1\n",
       "4  2015      1      0      5120         4"
      ]
     },
     "execution_count": 7,
     "metadata": {},
     "output_type": "execute_result"
    }
   ],
>>>>>>> upstream/master
   "source": [
    "import pandas as pd\n",
    "\n",
    "df = pd.read_csv('befkbhalderstatkode.csv')\n",
    "df.head()"
   ]
  },
  {
   "cell_type": "code",
<<<<<<< HEAD
   "execution_count": null,
=======
   "execution_count": 8,
>>>>>>> upstream/master
   "metadata": {
    "slideshow": {
     "slide_type": "subslide"
    }
   },
<<<<<<< HEAD
   "outputs": [],
=======
   "outputs": [
    {
     "data": {
      "text/plain": [
       "0           3\n",
       "1           3\n",
       "2           3\n",
       "3           3\n",
       "4           3\n",
       "5           3\n",
       "6           3\n",
       "7           3\n",
       "8           3\n",
       "9           3\n",
       "10          3\n",
       "11          3\n",
       "12          3\n",
       "13          3\n",
       "14          3\n",
       "15          3\n",
       "16          3\n",
       "17          3\n",
       "18          3\n",
       "19          3\n",
       "20          3\n",
       "21          3\n",
       "22          3\n",
       "23          3\n",
       "24          3\n",
       "25          3\n",
       "26          3\n",
       "27          3\n",
       "28          3\n",
       "29          3\n",
       "         ... \n",
       "542487    101\n",
       "542488    101\n",
       "542489    101\n",
       "542490    101\n",
       "542491    101\n",
       "542492    101\n",
       "542493    101\n",
       "542494    101\n",
       "542495    101\n",
       "542496    101\n",
       "542497    101\n",
       "542498    101\n",
       "542499    101\n",
       "542500    101\n",
       "542501    101\n",
       "542502    101\n",
       "542503    101\n",
       "542504    101\n",
       "542505    101\n",
       "542506    101\n",
       "542507    101\n",
       "542508    101\n",
       "542509    101\n",
       "542510    101\n",
       "542511    101\n",
       "542512    101\n",
       "542513    101\n",
       "542514    101\n",
       "542515    101\n",
       "542516    101\n",
       "Name: BYDEL, Length: 542517, dtype: int64"
      ]
     },
     "execution_count": 8,
     "metadata": {},
     "output_type": "execute_result"
    }
   ],
>>>>>>> upstream/master
   "source": [
    "df['BYDEL'].map(add_two)"
   ]
  },
  {
   "cell_type": "code",
<<<<<<< HEAD
   "execution_count": null,
=======
   "execution_count": 9,
>>>>>>> upstream/master
   "metadata": {
    "slideshow": {
     "slide_type": "subslide"
    }
   },
<<<<<<< HEAD
   "outputs": [],
=======
   "outputs": [
    {
     "data": {
      "text/plain": [
       "0         2017\n",
       "1         2017\n",
       "2         2017\n",
       "3         2017\n",
       "4         2017\n",
       "5         2017\n",
       "6         2017\n",
       "7         2017\n",
       "8         2017\n",
       "9         2017\n",
       "10        2017\n",
       "11        2017\n",
       "12        2017\n",
       "13        2017\n",
       "14        2017\n",
       "15        2017\n",
       "16        2017\n",
       "17        2017\n",
       "18        2017\n",
       "19        2017\n",
       "20        2017\n",
       "21        2017\n",
       "22        2017\n",
       "23        2017\n",
       "24        2017\n",
       "25        2017\n",
       "26        2017\n",
       "27        2017\n",
       "28        2017\n",
       "29        2017\n",
       "          ... \n",
       "542487    1994\n",
       "542488    1994\n",
       "542489    1994\n",
       "542490    1994\n",
       "542491    1994\n",
       "542492    1994\n",
       "542493    1994\n",
       "542494    1994\n",
       "542495    1994\n",
       "542496    1994\n",
       "542497    1994\n",
       "542498    1994\n",
       "542499    1994\n",
       "542500    1994\n",
       "542501    1994\n",
       "542502    1994\n",
       "542503    1994\n",
       "542504    1994\n",
       "542505    1994\n",
       "542506    1994\n",
       "542507    1994\n",
       "542508    1994\n",
       "542509    1994\n",
       "542510    1994\n",
       "542511    1994\n",
       "542512    1994\n",
       "542513    1994\n",
       "542514    1994\n",
       "542515    1994\n",
       "542516    1994\n",
       "Name: AAR, Length: 542517, dtype: int64"
      ]
     },
     "execution_count": 9,
     "metadata": {},
     "output_type": "execute_result"
    }
   ],
>>>>>>> upstream/master
   "source": [
    "df['AAR'].map(add_two)"
   ]
  },
  {
   "cell_type": "markdown",
   "metadata": {
    "slideshow": {
     "slide_type": "slide"
    }
   },
   "source": [
    "# An intro to `multiprocessing`\n",
    "\n",
    "* Concurrency vs. parallelise"
   ]
  },
  {
   "cell_type": "markdown",
   "metadata": {
    "slideshow": {
     "slide_type": "fragment"
    }
   },
   "source": [
    "* Concurrency = out-of-order\n",
    "* Parallelism = same *time*"
   ]
  },
  {
   "cell_type": "markdown",
   "metadata": {
    "slideshow": {
     "slide_type": "subslide"
    }
   },
   "source": [
    "## Python multiprocessing library\n",
    "\n",
    "https://docs.python.org/3/library/multiprocessing.html"
   ]
  },
  {
   "cell_type": "code",
<<<<<<< HEAD
   "execution_count": null,
=======
   "execution_count": 10,
>>>>>>> upstream/master
   "metadata": {
    "slideshow": {
     "slide_type": "fragment"
    }
   },
   "outputs": [],
   "source": [
    "from multiprocessing import Pool"
   ]
  },
  {
   "cell_type": "code",
<<<<<<< HEAD
   "execution_count": null,
=======
   "execution_count": 11,
>>>>>>> upstream/master
   "metadata": {
    "slideshow": {
     "slide_type": "fragment"
    }
   },
<<<<<<< HEAD
   "outputs": [],
   "source": [
    "with Pool(5) as p:\n",
    "    print(p.map(add_two, [1, 2, 3]))"
=======
   "outputs": [
    {
     "name": "stdout",
     "output_type": "stream",
     "text": [
      "[3, 4, 5]\n"
     ]
    }
   ],
   "source": [
    "with Pool(5) as pool:\n",
    "    print(pool.map(add_two, [1, 2, 3]))"
>>>>>>> upstream/master
   ]
  },
  {
   "cell_type": "code",
<<<<<<< HEAD
   "execution_count": null,
=======
   "execution_count": 12,
>>>>>>> upstream/master
   "metadata": {
    "slideshow": {
     "slide_type": "subslide"
    }
   },
<<<<<<< HEAD
   "outputs": [],
=======
   "outputs": [
    {
     "data": {
      "text/plain": [
       "['https://api.github.com/repositories/596892/contributors?page=1',\n",
       " 'https://api.github.com/repositories/596892/contributors?page=2',\n",
       " 'https://api.github.com/repositories/596892/contributors?page=3',\n",
       " 'https://api.github.com/repositories/596892/contributors?page=4',\n",
       " 'https://api.github.com/repositories/596892/contributors?page=5',\n",
       " 'https://api.github.com/repositories/596892/contributors?page=6',\n",
       " 'https://api.github.com/repositories/596892/contributors?page=7',\n",
       " 'https://api.github.com/repositories/596892/contributors?page=8',\n",
       " 'https://api.github.com/repositories/596892/contributors?page=9',\n",
       " 'https://api.github.com/repositories/596892/contributors?page=10',\n",
       " 'https://api.github.com/repositories/596892/contributors?page=11',\n",
       " 'https://api.github.com/repositories/596892/contributors?page=12',\n",
       " 'https://api.github.com/repositories/596892/contributors?page=13',\n",
       " 'https://api.github.com/repositories/596892/contributors?page=14']"
      ]
     },
     "execution_count": 12,
     "metadata": {},
     "output_type": "execute_result"
    }
   ],
>>>>>>> upstream/master
   "source": [
    "contributor_urls = ['https://api.github.com/repositories/596892/contributors?page=' + str(x) for x in range(1, 15)]\n",
    "contributor_urls"
   ]
  },
  {
   "cell_type": "code",
<<<<<<< HEAD
   "execution_count": 1,
=======
   "execution_count": 13,
>>>>>>> upstream/master
   "metadata": {
    "slideshow": {
     "slide_type": "subslide"
    }
   },
   "outputs": [],
   "source": [
    "### import os\n",
    "import sys\n",
    "import time\n",
    "import logging\n",
    "import requests\n",
    "import api_keys\n",
    "from multiprocessing import Pool, cpu_count\n",
    "\n",
<<<<<<< HEAD
    "\n",
    "HEADER = {'Authorization': f'token {api_keys.GITHUB_API_KEY}'}\n",
    "contributor_urls = [f'https://api.github.com/repositories/596892/contributors?page={idx}' for idx in range(1, 15)]\n",
    "\n",
    "\n",
=======
    "HEADER = {'Authorization': f'token {api_keys.GITHUB_API_KEY}'}\n",
    "contributor_urls = [f'https://api.github.com/repositories/596892/contributors?page={idx}' for idx in range(1, 15)]\n",
    "\n",
>>>>>>> upstream/master
    "def hard_work(a_url):\n",
    "    print(f'{__name__}/{os.getppid()}/{os.getpid()} gets data from {a_url}')\n",
    "    r = requests.get(a_url, headers=HEADER)\n",
    "    time.sleep(6)\n",
    "    print('Done')\n",
    "    return [(contrib['login'], contrib['contributions'],\n",
    "             contrib['html_url']) for contrib in r.json()]"
   ]
  },
  {
   "cell_type": "code",
<<<<<<< HEAD
   "execution_count": null,
=======
   "execution_count": 14,
>>>>>>> upstream/master
   "metadata": {
    "slideshow": {
     "slide_type": "subslide"
    }
   },
   "outputs": [],
   "source": [
    "def run_sequential_download():\n",
    "    contributors = []\n",
    "    logging.info('Running the sequential program.')\n",
    "    start = time.time()\n",
    "    for contributor_url in contributor_urls:\n",
    "        contributors += hard_work(contributor_url)\n",
    "    print(f'It took {time.time() - start}s in total.')\n",
    "\n",
    "    return contributors"
   ]
  },
  {
   "cell_type": "code",
<<<<<<< HEAD
   "execution_count": null,
=======
   "execution_count": 15,
>>>>>>> upstream/master
   "metadata": {
    "slideshow": {
     "slide_type": "subslide"
    }
   },
   "outputs": [],
   "source": [
    "def run_parallel_processes():\n",
    "    workers = cpu_count()\n",
    "    pool = Pool(processes=workers)\n",
    "\n",
    "    print('Running the concurrent program.')\n",
    "    start = time.time()\n",
    "    result = pool.map(hard_work, contributor_urls)\n",
    "\n",
    "    print(f'It took {time.time() - start}s in total.')\n",
    "    return result"
   ]
  },
  {
   "cell_type": "code",
   "execution_count": null,
   "metadata": {
    "slideshow": {
     "slide_type": "subslide"
    }
   },
   "outputs": [],
   "source": [
    "if __name__ == '__main__':\n",
    "    if sys.argv[1] == '-s':\n",
    "        run_sequential_download()\n",
    "    elif sys.argv[1] == '-p':\n",
    "        run_parallel_processes()"
   ]
  },
  {
   "cell_type": "markdown",
   "metadata": {
    "slideshow": {
     "slide_type": "subslide"
    }
   },
   "source": [
    "Run in one terminal `$ top` and in another one `$ python multiprocessing_example.py -p`\n",
    "\n",
    "~~~bash\n",
    "Running the concurrent program.\n",
    "__main__/21782/21783 gets data from https://api.github.com/repositories/596892/contributors?page=1\n",
    "__main__/21782/21784 gets data from https://api.github.com/repositories/596892/contributors?page=2\n",
    "__main__/21782/21785 gets data from https://api.github.com/repositories/596892/contributors?page=3\n",
    "__main__/21782/21786 gets data from https://api.github.com/repositories/596892/contributors?page=4\n",
    "__main__/21782/21787 gets data from https://api.github.com/repositories/596892/contributors?page=5\n",
    "__main__/21782/21788 gets data from https://api.github.com/repositories/596892/contributors?page=6\n",
    "__main__/21782/21789 gets data from https://api.github.com/repositories/596892/contributors?page=7\n",
    "__main__/21782/21790 gets data from https://api.github.com/repositories/596892/contributors?page=8\n",
    "Done\n",
    "__main__/21782/21790 gets data from https://api.github.com/repositories/596892/contributors?page=9\n",
    "Done\n",
    "__main__/21782/21788 gets data from https://api.github.com/repositories/596892/contributors?page=10\n",
    "Done\n",
    "Done\n",
    "__main__/21782/21784 gets data from https://api.github.com/repositories/596892/contributors?page=11\n",
    "__main__/21782/21785 gets data from https://api.github.com/repositories/596892/contributors?page=12\n",
    "Done\n",
    "Done\n",
    "__main__/21782/21789 gets data from https://api.github.com/repositories/596892/contributors?page=13\n",
    "__main__/21782/21787 gets data from https://api.github.com/repositories/596892/contributors?page=14\n",
    "Done\n",
    "Done\n",
    "Done\n",
    "Done\n",
    "Done\n",
    "Done\n",
    "Done\n",
    "Done\n",
    "It took 19.567875146865845s in total.\n",
    "~~~~\n",
    "\n",
    "\n",
    "~~~bash\n",
    "PID    COMMAND      %CPU  TIME     #TH    #WQ   #PORT MEM    PURG   CMPRS  PGRP  PPID  STATE    BOOSTS           %CPU_ME %CPU_OTHRS UID  FAULTS    COW      MSGSENT    MSGRECV\n",
    "21790  python3.6    0.0   00:00.04 4      2     31    12M    0B     0B     21782 21782 sleeping *0[2]            0.00000 0.00000    501  5340      1819     81         34\n",
    "21789  python3.6    0.0   00:00.04 4      2     31    12M    0B     0B     21782 21782 sleeping *0[2]            0.00000 0.00000    501  5353      1730     81         34\n",
    "21788  python3.6    0.0   00:00.04 4      2     31    12M    0B     0B     21782 21782 sleeping *0[2]            0.00000 0.00000    501  5323      1725     81         34\n",
    "21787  python3.6    0.0   00:00.04 4      2     31    12M    0B     0B     21782 21782 sleeping *0[2]            0.00000 0.00000    501  5350      1762     81         34\n",
    "21786  python3.6    0.0   00:00.04 4      2     31    12M    0B     0B     21782 21782 sleeping *0[2]            0.00000 0.00000    501  5342      1746     81         34\n",
    "21785  python3.6    0.0   00:00.04 4      2     31    12M    0B     0B     21782 21782 sleeping *0[2]            0.00000 0.00000    501  5358      1794     81         34\n",
    "21784  python3.6    0.0   00:00.04 5      3     33    12M    0B     0B     21782 21782 sleeping *0[2]            0.00000 0.00000    501  5328      1799     81         34\n",
    "21783  python3.6    0.0   00:00.04 5      3     32    12M    0B     0B     21782 21782 sleeping *0[2]            0.00000 0.00000    501  5344      1889     81         34\n",
    "21782  python3.6    0.1   00:00.26 4      0     17    19M    0B     0B     21782 21556 sleeping *0[1]            0.00000 0.00000    501  8136      2015     59         26\n",
    "~~~"
   ]
  },
  {
   "cell_type": "markdown",
   "metadata": {
    "slideshow": {
     "slide_type": "subslide"
    }
   },
   "source": [
    "## Let the OS do this.\n",
    "\n",
    "\n",
    "\n",
    "```python\n",
    "import os\n",
    "import sys\n",
    "import time\n",
    "import requests\n",
    "import api_keys\n",
    "\n",
    "\n",
    "HEADER = {'Authorization': f'token {api_keys.GITHUB_API_KEY}'}\n",
    "\n",
    "\n",
    "def hard_work(a_url):\n",
    "    sys.stdout.write(f'{__name__}/{os.getppid()}/{os.getpid()} gets data from {a_url}\\n')\n",
    "    r = requests.get(a_url, headers=HEADER)\n",
    "    time.sleep(3)\n",
    "    sys.stdout.write('Done')\n",
    "    return [(contrib['login'], contrib['contributions'],\n",
    "             contrib['html_url']) for contrib in r.json()]\n",
    "\n",
    "\n",
    "if __name__ == '__main__':\n",
    "    sys.stdout.write(str(hard_work(sys.argv[1])))\n",
    "```\n",
    "\n",
    "~~~bash\n",
    "#!/bin/bash\n",
    "for url in 'https://api.github.com/repositories/596892/contributors?page=1' 'https://api.github.com/repositories/596892/contributors?page=2' 'https://api.github.com/repositories/596892/contributors?page=3' 'https://api.github.com/repositories/596892/contributors?page=4' 'https://api.github.com/repositories/596892/contributors?page=5' 'https://api.github.com/repositories/596892/contributors?page=6' 'https://api.github.com/repositories/596892/contributors?page=7' 'https://api.github.com/repositories/596892/contributors?page=8' 'https://api.github.com/repositories/596892/contributors?page=9' 'https://api.github.com/repositories/596892/contributors?page=10' 'https://api.github.com/repositories/596892/contributors?page=11' 'https://api.github.com/repositories/596892/contributors?page=12' 'https://api.github.com/repositories/596892/contributors?page=13' 'https://api.github.com/repositories/596892/contributors?page=14'\n",
    "\n",
    "do\n",
    "    echo \"Started python ./hard_work.py ${url}\"\n",
    "    nohup python ./hard_work.py ${url} </dev/null >> output.log 2>&1 &\n",
    "done\n",
    "~~~"
   ]
  },
  {
   "cell_type": "markdown",
   "metadata": {
    "slideshow": {
     "slide_type": "subslide"
    }
   },
   "source": [
    "Read the official docs for more information on for example how to share data between processes: https://docs.python.org/3.6/library/multiprocessing.html"
   ]
  },
  {
   "cell_type": "markdown",
   "metadata": {
    "slideshow": {
     "slide_type": "subslide"
    }
   },
   "source": [
    "## Exercise\n",
    "\n",
<<<<<<< HEAD
    "* Find the ID of one of your repositories on GitHub\n",
=======
>>>>>>> upstream/master
    "* Write a function that creates a URL by adding an index to this url:\n",
    "    `https://api.github.com/repositories/33015583/contributors?page=`\n",
    "* Create a list of 100 URLs by calling the above function 100 times with indices from 0 to 99 inclusive\n",
    "* Using `%%timeit`, measure how long it takes to call the url 100 times sequentially\n",
    "* Create a thread pool\n",
    "* Using `%%timeit`, measure how long it takes to call the url 100 times *in parallel*"
   ]
  }
 ],
 "metadata": {
  "celltoolbar": "Slideshow",
  "kernelspec": {
   "display_name": "Python 3",
   "language": "python",
   "name": "python3"
  },
  "language_info": {
   "codemirror_mode": {
    "name": "ipython",
    "version": 3
   },
   "file_extension": ".py",
   "mimetype": "text/x-python",
   "name": "python",
   "nbconvert_exporter": "python",
   "pygments_lexer": "ipython3",
<<<<<<< HEAD
   "version": "3.7.1"
=======
   "version": "3.7.0"
>>>>>>> upstream/master
  }
 },
 "nbformat": 4,
 "nbformat_minor": 2
}
