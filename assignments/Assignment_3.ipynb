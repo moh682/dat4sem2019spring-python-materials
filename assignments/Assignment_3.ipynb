{
 "cells": [
  {
   "cell_type": "markdown",
   "metadata": {},
   "source": [
    "# Assignment 3: numpy\n",
    "\n",
    "This assignment is about slicing and plotting.\n",
    "\n",
    "### How to hand in\n",
    "The assignment is expected to be published on GitHub, but the actual hand-in is on peergrade and should contain only a link to a MyBinder. Remember her to use the link provided when first registering your notebook with mybinder (not the url taken from your browsers adress field). See the notebook `12-Assignments` for more information.\n"
   ]
  },
  {
   "cell_type": "markdown",
   "metadata": {},
   "source": [
    "## Create jupyter notebook with 4 data illustrations\n",
    "\n",
    "1. First create a file with your python module. This is where you should put your functions to be used in the notebook.\n",
    "2. Second create a function to read the csv file containing Copenhagen city population data and return a numpy array (numpy.ndarray). **hint:** use `np.genfromtxt(filename, delimiter=',', dtype=np.uint, skip_header=1)` as in the slides\n",
    "3. Third create a function that can extract the number of all the citizens from native english speaking countries and from non english speaking countries. How many are there of each? (**hint** remember that with python you can return multiple values from a function).\n",
    "4. Now create another function that can take 2 arguments: \n",
    "  - 1: the dataset in the form of a 2dimensional data array where y=data rows and x=[year, area, age nationality, amount].\n",
    "  - 2: the mask in the form: data[:,3] == 5120 to find swedish or data[:,0] == 1999 to filter on year\n",
    "  - the return value must be the filtered dataset.\n",
    "5. Create another function that can take 2 arguments:\n",
    "  - a dataset with same characteristics as above and\n",
    "  - a value for the x-axis (either year, area, age or nationality)\n",
    "  - return value should be the accumulated population for all x-values.\n",
    "  - **hint:** if year is chosen for x then y is all accumulated amounts from all areas, ages and nationalities.\n",
    "6. Create Illustration 1: In your notebook use the above function and create a 2d array of year as x and accumulated amount as y:\n",
    "  - create a line graph of the population change over time for all of Copenhagen\n",
    "7. Create illustration 2: In your notebook use your module to create a dataset where development of all German citizens can be shown over time\n",
    "8. Create illustration 3: Show a bar plot of all the 18-25 year old in the different areas of copenhagen and in the same plot show (in a different color) all 60-67 year old in the different areas.\n",
    "9. Create illustration 4: show a pie chart of age groups (0-10, 10-20, 20-30 ...) in Østerbro part of Copenhagen. create another similar piechart for Vesterbro."
   ]
  }
 ],
 "metadata": {
  "kernelspec": {
   "display_name": "Python 3",
   "language": "python",
   "name": "python3"
  },
  "language_info": {
   "codemirror_mode": {
    "name": "ipython",
    "version": 3
   },
   "file_extension": ".py",
   "mimetype": "text/x-python",
   "name": "python",
   "nbconvert_exporter": "python",
   "pygments_lexer": "ipython3",
   "version": "3.6.7"
  }
 },
 "nbformat": 4,
 "nbformat_minor": 2
}
