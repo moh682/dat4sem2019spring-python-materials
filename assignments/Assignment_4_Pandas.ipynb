{
 "cells": [
  {
   "cell_type": "markdown",
   "metadata": {},
   "source": [
    "## Assignment 4: Pandas\n",
    "\n",
    "This assignment is about data processing and plotting.\n",
    "\n",
    "### How to hand in\n",
    "The assignment is expected to be published on GitHub, but the actual hand-in is on peergrade and should contain only a link to a MyBinder. The assignment should fit in *a single Jupyter Notebook*.\n",
    "\n",
    "Remember her to use the link provided when first registering your notebook with mybinder (not the url taken from your browsers adress field). See the notebook `12-Assignments` for more information."
   ]
  },
  {
   "cell_type": "markdown",
   "metadata": {},
   "source": [
    "## Use pandas dataframe with poverty data\n",
    "Use this source: https://data.worldbank.org/indicator/SI.POV.DDAY and extract the csv file in jupyter notebook.\n",
    "With the help of Pandas' DataFrame do the following\n",
    "1. Create a line graph showing the development in poverty over time in both Argentina, Ivory cost, USA. (be aware of the missing data in particular years)\n",
    "2. Find the 10 countries with the highest poverty rate, and plot the rates in a bar chart\n",
    "3. Show the development of absolute poverty in all the central american countries. Hand in:\n",
    "  1. A description of what graphical representation you think is best for this task\n",
    "    * See this page for inspiration: https://scipy-lectures.org/intro/matplotlib/matplotlib.html\n",
    "  2. The actual graphical representation in a Jupyter Notebook\n",
    "4. From the worldbank api, find one more interesting question you would like to ask. Hand in:\n",
    "  1. A description of why that question is interesting\n",
    "  2. A visualisation of the question in your Jupyter Notebook\n",
    "    * See this page for inspiration: https://scipy-lectures.org/intro/matplotlib/matplotlib.html"
   ]
  }
 ],
 "metadata": {
  "kernelspec": {
   "display_name": "Python 3",
   "language": "python",
   "name": "python3"
  },
  "language_info": {
   "codemirror_mode": {
    "name": "ipython",
    "version": 3
   },
   "file_extension": ".py",
   "mimetype": "text/x-python",
   "name": "python",
   "nbconvert_exporter": "python",
   "pygments_lexer": "ipython3",
   "version": "3.6.7"
  }
 },
 "nbformat": 4,
 "nbformat_minor": 2
}
