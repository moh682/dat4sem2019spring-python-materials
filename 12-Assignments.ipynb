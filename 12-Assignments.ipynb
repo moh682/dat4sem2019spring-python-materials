{
 "cells": [
  {
   "cell_type": "markdown",
   "metadata": {
    "slideshow": {
     "slide_type": "slide"
    }
   },
   "source": [
    "## Notes about assignments\n",
    "\n",
    "* We will be using Peergrade for the assignments\n",
    "  * That means that you have **two** (2) deadlines: one for **hand-in** and one for **review**\n",
    "  * When you review, please try to be thorough and constructive\n",
    "    * Write to others, like you want them to write to you\n",
    "    \n",
    "* You will review **two** (2) other hand-ins.\n",
    "  * They will be assigned *at random*. We cannot control that in peergrade"
   ]
  },
  {
   "cell_type": "markdown",
   "metadata": {
    "slideshow": {
     "slide_type": "subslide"
    }
   },
   "source": [
    "\n",
    "  \n",
    "### How to hand in\n",
    "* Hand in will happen on GitHub, where you should place all the necessary files in a *single* repository\n",
    "* That repository should contain a *single* notebook, with code that **demonstrates that the assignment has been completed**."
   ]
  },
  {
   "cell_type": "markdown",
   "metadata": {
    "slideshow": {
     "slide_type": "subslide"
    }
   },
   "source": [
    "\n",
    "  * Example: You are expected to write a piece of code that writes `Hello World`. \n",
    "    * Solution: Make a single cell in your notebook: `print('Hello World')`\n",
    "  * Example: You are expected to write a function called `my_fun`:\n",
    "    * Solution: Write the function in a cell, **and**, in a *separate* cell, execute the function to show that you solved the problem"
   ]
  },
  {
   "cell_type": "markdown",
   "metadata": {
    "slideshow": {
     "slide_type": "subslide"
    }
   },
   "source": [
    "  * Example: You are expected to write a Python module `awesome.py`:\n",
    "    * Solution: Make a *file* in the git repository, and write the following in the notebook: `import awesome`\n",
    "  * Example: You are expected to write a program, that takes input arguments from the command line:\n",
    "    * Solution: Write your program in a file (`test.py`) and execute it from the Notebook like so: `!test.py argument1`\n",
    "    \n"
   ]
  },
  {
   "cell_type": "markdown",
   "metadata": {
    "slideshow": {
     "slide_type": "subslide"
    }
   },
   "source": [
    "    \n",
    "### What to hand in\n",
    "* On Peergrade you should hand in a **link to `mybinder`**, where your friends can execute the code directly.\n",
    "  * This is genious because you do not have to clone the repository you are reviewing"
   ]
  },
  {
   "cell_type": "markdown",
   "metadata": {
    "slideshow": {
     "slide_type": "subslide"
    }
   },
   "source": [
    "## Hand-in recap\n",
    "\n",
    "1. Do not forget to **both** hand-in and review!\n",
    "2. Write all your code in one repository \n",
    "  * You are welcome to re-use the repository, as long as it is clear *what* you are handing in\n",
    "3. Include code that **proves that you solved the problem**. The code alone is not good enough\n",
    "4. Hand-in a link to a **mybinder** that links to the correct solutions"
   ]
  }
 ],
 "metadata": {
  "celltoolbar": "Slideshow",
  "kernelspec": {
   "display_name": "Python 3",
   "language": "python",
   "name": "python3"
  },
  "language_info": {
   "codemirror_mode": {
    "name": "ipython",
    "version": 3
   },
   "file_extension": ".py",
   "mimetype": "text/x-python",
   "name": "python",
   "nbconvert_exporter": "python",
   "pygments_lexer": "ipython3",
<<<<<<< HEAD
   "version": "3.6.8"
=======
   "version": "3.7.0"
>>>>>>> upstream/master
  }
 },
 "nbformat": 4,
 "nbformat_minor": 2
}
