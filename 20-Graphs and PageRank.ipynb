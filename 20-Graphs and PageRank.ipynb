{
 "cells": [
  {
   "cell_type": "markdown",
   "metadata": {
    "slideshow": {
     "slide_type": "subslide"
    }
   },
   "source": [
    "## Sets"
   ]
  },
  {
   "cell_type": "code",
   "execution_count": null,
   "metadata": {},
   "outputs": [],
   "source": []
  },
  {
   "cell_type": "markdown",
   "metadata": {
    "slideshow": {
     "slide_type": "subslide"
    }
   },
   "source": [
    "* Empty set: $Ø = \\{\\}$\n",
    "* Non-empty set: $\\{1\\}$\n",
    "* Non-empty set: $\\{Red, Green\\}$\n",
    "* Distinct\n",
    "  * Set of the list $[1, 2, 2, 3]$ is $\\{1, 2, 3\\}$\n",
    "  * Set of $[Red, Green, Yellow, Green]$ is $\\{Red, Green, Yellow\\}$\n",
    "* Order doesn't matter\n",
    "  * $\\{Red, Green\\} == \\{Green, Red\\}$"
   ]
  },
  {
   "cell_type": "markdown",
   "metadata": {
    "slideshow": {
     "slide_type": "subslide"
    }
   },
   "source": [
    "## Different sets\n",
    "\n",
    "* The empty set, $Ø = \\{\\}$\n",
    "* All the students in this class\n",
    "* All the natural numbers, $\\mathbb{N} = \\{0, 1, 2, 3, 4 \\dots\\}$"
   ]
  },
  {
   "cell_type": "markdown",
   "metadata": {
    "slideshow": {
     "slide_type": "fragment"
    }
   },
   "source": [
    "\n",
    "* All the integers, $\\mathbb{Z} = \\{-\\infty, \\dots, -1, 0, 1, \\dots, \\infty\\}$\n",
    "* All the rational numbers $\\mathbb{Q} = \\{0, -2, 10, \\frac{-2832}{123}, \\frac{72}{1923892}, \\frac{67821}{1298732}, \\dots \\}$\n",
    "* All the real numbers, $\\mathbb{R} = \\{0, -2, 10, \\frac{-2832}{123}, \\frac{72}{1923892}, \\frac{67821}{1298732}, \\sqrt 2, \\pi, \\dots, \\infty\\}$"
   ]
  },
  {
   "cell_type": "markdown",
   "metadata": {
    "slideshow": {
     "slide_type": "subslide"
    }
   },
   "source": [
    "## Set membership\n",
    "\n",
    "* $4 \\in \\{1, 2, 3, 4, 5\\}$\n",
    "  * 4 **is a member of** the set $\\{1, 2, 3, 4, 5\\}$\n",
    "* $7 \\notin \\{1, 2, 3, 4, 5\\}$\n",
    "  * 7 **is not a member of** the set $\\{1, 2, 3, 4, 5\\}$"
   ]
  },
  {
   "cell_type": "markdown",
   "metadata": {
    "slideshow": {
     "slide_type": "subslide"
    }
   },
   "source": [
    "## Exercise on sets\n",
    "**Are these numbers inside the sets as stated below?**\n",
    "\n",
    "<table>\n",
    "    <tr><td>\n",
    "<ul>\n",
    "    <li>$4 \\in \\mathbb{R}$</li>\n",
    "<li>$\\pi \\in \\mathbb{Q}$</li>\n",
    "<li>$\\frac{2}{3} \\in \\mathbb{R}$</li>\n",
    "<li>$\\sqrt 2 \\notin \\mathbb{Q}$</li>\n",
    "<li>$-5 \\in \\mathbb{N}$</li>\n",
    "        <li>$log(7) \\notin \\mathbb{Q}$</li>\n",
    "        </td>\n",
    "        <td><img src=\"numbersystem.png\"/></td>\n",
    "    </tr>\n",
    "    </table>"
   ]
  },
  {
   "cell_type": "markdown",
   "metadata": {
    "slideshow": {
     "slide_type": "skip"
    }
   },
   "source": [
    "# What is a Graph?\n",
    "\n",
    "\n",
    "## Undirected Graphs\n",
    "\n",
    "A *graph* $G$ consists of a nonempty set, $V(G)$, called the *vertices* of $G$, and a set $E(G)$ called the *edges* of $G$. An element of $V(G)$ is called a *vertex*. A vertex is also called a *node*; the words \"vertex\" and \"node\" are used interchangeably. An element of $E(G)$ is an *undirected* edge or simply an \"edge\". An undirected edge has two vertices $u\\neq v$ called its endpoints. Such an edge can be represented by the two element set $\\{u, v\\}$. The notation $\\langle u—v \\rangle$ denotes this edge.\n",
    "Both $\\langle u—v \\rangle$ and $\\langle v—u \\rangle$ define the same undirected edge, whose endpoints are $u$ and $v$.\n",
    "\n",
    "![](./images/graph_example.png)\n",
    "\n",
    "For example, let $H$ be the graph pictured in Figure above. The vertices of $H$\n",
    "correspond to the nine dots, that is, $V(H) = \\{a,b,c,d,e,f,g,h,i\\}$\n",
    "\n",
    "The edges correspond to the eight lines, that is,\n",
    "\n",
    "$E(H) = \\big\\{\\langle a—b \\rangle,\\langle a—c \\rangle,\\langle b—d \\rangle,\\langle c—d \\rangle,\\langle c—e \\rangle,\\langle e—f \\rangle,\\langle e—g \\rangle,\\langle h—i \\rangle\\big\\} $\n",
    "\n",
    "\n",
    "## Directed Graphs\n",
    "\n",
    "A *directed graph* -or *digraph*- $G$ consists of a nonempty set $V(G)$, called the vertices of $G$, and a set $E(G)$, called the edges of $G$. An element of $V(G)$ is called a *vertex*. A vertex is also called a *node*; the words \"vertex\" and \"node\" are used interchangeably. An element of $E(G)$ is called a *directed edge*. A directed edge is also called an \"arrow\" or simply an \"edge\". A directed edge starts at some vertex $u$ called the *tail* of the edge, and ends at some vertex $v$ called the *head* of the edge.\n",
    "\n",
    "![](./images/digraph_example.png)\n",
    "\n",
    "\n",
    "### Vertex Degrees\n",
    "\n",
    "The *in-degree* of a vertex in a digraph is the number of arrows coming into it, and similarly its *out-degree* is the number of arrows out of it. More precisely,\n",
    "\n",
    "If $G$ is a *digraph* and $v \\in V(G)$, then \n",
    "    \n",
    "  * $indeg(v) ::= \\big\\vert e \\in \\{E(G)\\, \\vert\\, head(e) = v \\}\\big\\vert$\n",
    "  * $outdeg(v) ::= \\big\\vert e \\in \\{E(G)\\, \\vert\\, tail(e) = v \\}\\big\\vert$\n",
    "\n",
    "\n",
    "##### References:\n",
    "The definitions above and the illustrations are taken from the book:\n",
    "*Mathematics for Computer Science*, Eric Lehman, F. Tom Leighton, Albert R. Meyer\n",
    "https://courses.csail.mit.edu/6.042/spring17/mcs.pdf"
   ]
  },
  {
   "cell_type": "markdown",
   "metadata": {
    "slideshow": {
     "slide_type": "slide"
    }
   },
   "source": [
    "# What is a Graph?\n",
    "\n",
    "\n",
    "## Undirected Graphs\n",
    "\n",
    "![](./images/graph_example.png)\n",
    "\n",
    "For example, let $H$ be the graph pictured in Figure above. The vertices of $H$\n",
    "correspond to the nine dots, that is, $V(H) = \\{a,b,c,d,e,f,g,h,i\\}$\n",
    "\n",
    "The edges correspond to the eight lines, that is,\n",
    "\n",
    "$E(H) = \\big\\{\\langle a—b \\rangle,\\langle a—c \\rangle,\\langle b—d \\rangle,\\langle c—d \\rangle,\\langle c—e \\rangle,\\langle e—f \\rangle,\\langle e—g \\rangle,\\langle h—i \\rangle\\big\\} $"
   ]
  },
  {
   "cell_type": "markdown",
   "metadata": {
    "slideshow": {
     "slide_type": "subslide"
    }
   },
   "source": [
    "## Directed Graphs\n",
    "\n",
    "![](./images/digraph_example.png)\n",
    "\n",
    "\n",
    "Edges $E(G)$ are now *directed*."
   ]
  },
  {
   "cell_type": "markdown",
   "metadata": {
    "slideshow": {
     "slide_type": "subslide"
    }
   },
   "source": [
    "\n",
    "### Vertex Degrees\n",
    "\n",
    "The *in-degree* of a vertex in a digraph is the number of arrows coming into it, and similarly its *out-degree* is the number of arrows out of it. More precisely,\n",
    "\n",
    "If $G$ is a *digraph* and $v \\in V(G)$, then \n",
    "    \n",
    "  * $indeg(v) ::= \\big\\vert e \\in \\{E(G)\\, \\vert\\, head(e) = v \\}\\big\\vert$\n",
    "  * $outdeg(v) ::= \\big\\vert e \\in \\{E(G)\\, \\vert\\, tail(e) = v \\}\\big\\vert$\n",
    "\n",
    "\n",
    "##### References:\n",
    "The definitions above and the illustrations are taken from the book:\n",
    "*Mathematics for Computer Science*, Eric Lehman, F. Tom Leighton, Albert R. Meyer\n",
    "https://courses.csail.mit.edu/6.042/spring17/mcs.pdf"
   ]
  },
  {
   "cell_type": "markdown",
   "metadata": {
    "slideshow": {
     "slide_type": "subslide"
    }
   },
   "source": [
    "# Name Generator\n",
    "\n",
    "Lets generate a directed graph -a social network-, which expresses endorsements between various people similar as in *LinkedIn*. The nodes of our digraph will be persons and the edges will represent endorsments. \n",
    "\n",
    "\n",
    "For the nodes, we will generate a set of \"random\" people. That is, we generate names as given in the USA randomly. A list of US American names can be received here:\n",
    "http://www.census.gov/topics/population/genealogy/data/1990_census/1990_census_namefiles.html\n",
    "\n",
    "\n",
    "In the following we download the files and generate three lists, one for female names, one for male names, and one for surnames."
   ]
  },
  {
   "cell_type": "code",
   "execution_count": 1,
   "metadata": {
    "slideshow": {
     "slide_type": "subslide"
    }
   },
   "outputs": [
    {
     "name": "stdout",
     "output_type": "stream",
     "text": [
      "Downloading file to ./last_names.txt\n",
      "Downloading file to ./female_names.txt\n",
      "Downloading file to ./male_names.txt\n"
     ]
    },
    {
     "data": {
      "text/plain": [
       "'./male_names.txt'"
      ]
     },
     "execution_count": 1,
     "metadata": {},
     "output_type": "execute_result"
    }
   ],
   "source": [
    "import webget\n",
    "import random\n",
    "\n",
    "surnames_txt = 'http://www2.census.gov/topics/genealogy/1990surnames/dist.all.last'\n",
    "female_names_txt = 'http://www2.census.gov/topics/genealogy/1990surnames/dist.female.first'\n",
    "male_names_txt = 'http://www2.census.gov/topics/genealogy/1990surnames/dist.male.first'\n",
    "\n",
    "webget.download(surnames_txt, to='./last_names.txt')\n",
    "webget.download(female_names_txt, to='./female_names.txt')\n",
    "webget.download(male_names_txt, to='./male_names.txt') "
   ]
  },
  {
   "cell_type": "code",
   "execution_count": 2,
   "metadata": {
    "slideshow": {
     "slide_type": "subslide"
    }
   },
   "outputs": [
    {
     "name": "stdout",
     "output_type": "stream",
     "text": [
      "-rw-rw-r-- 1 jens jens 3107965 mar 19 14:01 last_names.txt\n",
      "-rw-rw-r-- 1 jens jens  149625 mar 19 14:01 female_names.txt\n",
      "-rw-rw-r-- 1 jens jens   42665 mar 19 14:01 male_names.txt\n"
     ]
    }
   ],
   "source": [
    "%%bash\n",
    "ls -ltr *names.txt"
   ]
  },
  {
   "cell_type": "code",
   "execution_count": 5,
   "metadata": {
    "slideshow": {
     "slide_type": "subslide"
    }
   },
   "outputs": [],
   "source": [
    "def get_names_from(file):\n",
    "    with open(file, 'r') as fp:\n",
    "        return [x.split()[0] for x in fp]"
   ]
  },
  {
   "cell_type": "code",
   "execution_count": 6,
   "metadata": {
    "slideshow": {
     "slide_type": "subslide"
    }
   },
   "outputs": [
    {
     "name": "stdout",
     "output_type": "stream",
     "text": [
      "88799 4275 1219\n"
     ]
    }
   ],
   "source": [
    "names = get_names_from('./last_names.txt')\n",
    "female_names = get_names_from('./female_names.txt')\n",
    "male_names = get_names_from('./male_names.txt')\n",
    "\n",
    "print(len(names), len(female_names), len(male_names))"
   ]
  },
  {
   "cell_type": "markdown",
   "metadata": {
    "slideshow": {
     "slide_type": "subslide"
    }
   },
   "source": [
    "We decide to let names be a two-element tuple consisting of a name and a surname."
   ]
  },
  {
   "cell_type": "code",
   "execution_count": 53,
   "metadata": {
    "slideshow": {
     "slide_type": "subslide"
    }
   },
   "outputs": [],
   "source": [
    "import random \n",
    "def random_combination(list_a, list_b):\n",
    "    return random.choice(list_a) + ' ' + random.choice(list_b)"
   ]
  },
  {
   "cell_type": "code",
   "execution_count": 59,
   "metadata": {
    "slideshow": {
     "slide_type": "subslide"
    }
   },
   "outputs": [
    {
     "data": {
      "text/plain": [
       "['KARIN STARKIE',\n",
       " 'XENIA MISENHIMER',\n",
       " 'ERMELINDA RATTRAY',\n",
       " 'EVON RISSER',\n",
       " 'JOANN CORBITT',\n",
       " 'KAYCEE KIZZIE',\n",
       " 'PAIGE GUTTIREZ',\n",
       " 'VINCENZO LAFLEN',\n",
       " 'ADA GARIN',\n",
       " 'CANDELARIA CIALELLA']"
      ]
     },
     "execution_count": 59,
     "metadata": {},
     "output_type": "execute_result"
    }
   ],
   "source": [
    "def generate_random_names(amount=1, gender='female'):  \n",
    "    random_names = []\n",
    "    for i in range(amount):\n",
    "        if gender == 'female':\n",
    "            name = random_combination(female_names, names)\n",
    "        elif gender == 'male':\n",
    "            name = random_combination(male_names, names)\n",
    "        else:\n",
    "            name = random_combination(male_names + female_names, names)\n",
    "        random_names.append(name)\n",
    "    return random_names\n",
    "    \n",
    "generate_random_names(amount=10, gender='random')"
   ]
  },
  {
   "cell_type": "markdown",
   "metadata": {
    "slideshow": {
     "slide_type": "subslide"
    }
   },
   "source": [
    "# Generating Nodes\n",
    "\n",
    "Now, that we have our name generator in place we are good to start generating our *endorsment graph*.\n",
    "\n",
    "For our example graph, we decide that it contains 100 persons, i.e., 100 nodes. Half of the nodes represents women and the other half represents men."
   ]
  },
  {
   "cell_type": "code",
   "execution_count": 60,
   "metadata": {
    "slideshow": {
     "slide_type": "subslide"
    }
   },
   "outputs": [],
   "source": [
    "total_no_nodes = 100\n",
    "no_nodes_per_gender = total_no_nodes // 2"
   ]
  },
  {
   "cell_type": "code",
   "execution_count": 61,
   "metadata": {
    "slideshow": {
     "slide_type": "fragment"
    }
   },
   "outputs": [],
   "source": [
    "female_names_list = generate_random_names(amount=no_nodes_per_gender, gender='female')\n",
    "male_names_list = generate_random_names(amount=no_nodes_per_gender, gender='male')"
   ]
  },
  {
   "cell_type": "code",
   "execution_count": 62,
   "metadata": {
    "slideshow": {
     "slide_type": "fragment"
    }
   },
   "outputs": [],
   "source": [
    "all_names_list = female_names_list + male_names_list\n",
    "person_list = all_names_list"
   ]
  },
  {
   "cell_type": "code",
   "execution_count": 63,
   "metadata": {
    "slideshow": {
     "slide_type": "subslide"
    }
   },
   "outputs": [
    {
     "name": "stdout",
     "output_type": "stream",
     "text": [
      "100\n",
      "['LAQUANDA KOSSEN', 'TAMAR CRITZER', 'SUNG RODEIGUES', 'ESPERANZA CUTTING', 'LATASHIA DANKO', 'BRINDA EBEN', 'JANUARY EAGIN', 'LAVINA BARANSKY', 'ALICIA SCHELLHASE', 'LORIA ANDRLE', 'MIN MCCANT', 'CHANTELLE LEINER', 'GWENN VELZEBOER', 'LASHANDA LANDRESS', 'LAVINIA NELLIS', 'CORETTA SAGAR', 'DESIREE PROSISE', 'KATHRINE TARANGELO', 'JACQULINE AKO', 'YOSHIE GOODPASTOR']\n"
     ]
    }
   ],
   "source": [
    "print(len(all_names_list))\n",
    "print(all_names_list[:20])"
   ]
  },
  {
   "cell_type": "markdown",
   "metadata": {
    "slideshow": {
     "slide_type": "subslide"
    }
   },
   "source": [
    "# Generating Edges\n",
    "\n",
    "Randomly connected (=endorsed).\n",
    "Also, it is not possible for a person to connect to herself."
   ]
  },
  {
   "cell_type": "code",
   "execution_count": 64,
   "metadata": {
    "slideshow": {
     "slide_type": "subslide"
    }
   },
   "outputs": [],
   "source": [
    "from tqdm import tqdm\n",
    "from random import randint\n",
    "from numpy.random import choice"
   ]
  },
  {
   "cell_type": "code",
   "execution_count": 67,
   "metadata": {
    "slideshow": {
     "slide_type": "fragment"
    }
   },
   "outputs": [],
   "source": [
    "# Sample probability\n",
    "choice?"
   ]
  },
  {
   "cell_type": "code",
   "execution_count": 66,
   "metadata": {
    "slideshow": {
     "slide_type": "subslide"
    }
   },
   "outputs": [],
   "source": [
    "RELATION_CLASSES = {\n",
    "        0: (0, 0),\n",
    "        1: (1, 4),\n",
    "        2: (5, 10),\n",
    "        3: (11, 20),\n",
    "        4: (21, 50),\n",
    "        5: (51, 100)\n",
    "    }\n",
    "PROBABILITIES = [0.05, 0.36, 0.45, 0.1, 0.035, 0.005]"
   ]
  },
  {
   "cell_type": "code",
   "execution_count": 84,
   "metadata": {
    "slideshow": {
     "slide_type": "subslide"
    }
   },
   "outputs": [
    {
     "data": {
      "text/plain": [
       "[(1, 5), (2, 6), (3, 7), (4, 8)]"
      ]
     },
     "execution_count": 84,
     "metadata": {},
     "output_type": "execute_result"
    }
   ],
   "source": [
    "def get_no_endorsements():\n",
    "    no_relation_class = choice(list(RELATION_CLASSES.keys()), \n",
    "                               p=PROBABILITIES)\n",
    "    no_endorsments = randint(RELATION_CLASSES[no_relation_class][0], \n",
    "                             RELATION_CLASSES[no_relation_class][1])\n",
    "    return no_endorsments\n",
    "\n",
    "a = [1, 2, 3, 4]\n",
    "b = [5, 6, 7, 8]\n",
    "list(zip(a, b))"
   ]
  },
  {
   "cell_type": "code",
   "execution_count": 89,
   "metadata": {
    "slideshow": {
     "slide_type": "subslide"
    }
   },
   "outputs": [
    {
     "name": "stderr",
     "output_type": "stream",
     "text": [
      "100it [00:00, 15821.59it/s]\n"
     ]
    }
   ],
   "source": [
    "def create_endorsements(node_list):\n",
    "    \"\"\"Creates a list of graph edges\n",
    "    like [(1,10), (50,4), (99,20000), ...]\"\"\"\n",
    "    endorsements = []\n",
    "    idx_list = range(len(node_list))\n",
    "\n",
    "    for idx, name_pair in tqdm(enumerate(node_list)):\n",
    "        # get how many people this person (name_pair) endorses\n",
    "        no_endorsments = get_no_endorsements()\n",
    "        if no_endorsments > 0:\n",
    "            # get a list of potential endorsements\n",
    "            potential_endorsement_idxs = random.sample(idx_list, no_endorsments)\n",
    "            if idx in potential_endorsement_idxs:\n",
    "                # Removing myself in case I am in the list\n",
    "                # cannot endorse myself\n",
    "                idx_me_in_endorsements = potential_endorsement_idxs.index(idx)\n",
    "                del potential_endorsement_idxs[idx_me_in_endorsements]\n",
    "    \n",
    "            endorsements += list(zip([idx for _ in range(len(potential_endorsement_idxs))], \n",
    "                                     potential_endorsement_idxs))\n",
    "    return endorsements\n",
    "\n",
    "endorsements = create_endorsements(person_list)"
   ]
  },
  {
   "cell_type": "code",
   "execution_count": 90,
   "metadata": {
    "slideshow": {
     "slide_type": "subslide"
    }
   },
   "outputs": [
    {
     "name": "stdout",
     "output_type": "stream",
     "text": [
      "[(0, 83), (0, 49), (0, 54), (0, 5), (0, 81), (0, 9), (0, 61), (0, 97), (0, 3), (0, 35), (1, 74), (1, 61), (1, 11), (1, 36), (1, 93), (2, 26), (2, 86), (2, 34), (2, 7), (2, 32), (2, 3), (2, 15), (2, 63), (2, 62), (3, 96), (3, 68), (3, 23), (3, 5), (3, 0), (3, 9)]\n",
      "['LAQUANDA KOSSEN', 'TAMAR CRITZER', 'SUNG RODEIGUES', 'ESPERANZA CUTTING', 'LATASHIA DANKO', 'BRINDA EBEN', 'JANUARY EAGIN', 'LAVINA BARANSKY', 'ALICIA SCHELLHASE', 'LORIA ANDRLE', 'MIN MCCANT', 'CHANTELLE LEINER', 'GWENN VELZEBOER', 'LASHANDA LANDRESS', 'LAVINIA NELLIS', 'CORETTA SAGAR', 'DESIREE PROSISE', 'KATHRINE TARANGELO', 'JACQULINE AKO', 'YOSHIE GOODPASTOR', 'JENE STEENBURG', 'FLAVIA CHULLA', 'ESTELA IRONHORSE', 'SHELLEY LONERGAN', 'MALLIE MCPEAK', 'ELEONORA BESONG', 'KEILA FOUTAIN', 'MARTINA FIX', 'MARTINE DIVENS', 'CECILIA ROCKWOOD', 'LESSIE LEBERMAN', 'SELMA GOLSON', 'CARROL KOERBER', 'EHTEL CELLAR', 'JENA DEJEAN', 'YASMIN NELL', 'HONEY WIED', 'JULIA HOSSACK', 'DEBBRA SARNI', 'MARGART HULLIHEN', 'ODELIA REISERT', 'ROSENDA CORNIEL', 'MARIE SUNDQUIST', 'ANALISA BENIGNI', 'MAGDALENA ZARATE', 'VIVIAN CINELLI', 'MARYANNE SAHL', 'KELSEY PRIBLE', 'BRUNA GOODWIN', 'MOIRA KOSMICKI', 'COLBY NAVEDO', 'MICHALE SIMELTON', 'DAMON SULLA', 'LAUREN DETEMPLE', 'BARRETT RADATZ', 'BLAINE MONHOLLEN', 'GARLAND PAPA', 'TIM HUFFNER', 'AMBROSE LIMTHONG', 'DIEGO GRANDI', 'BEAU LIGHTNER', 'LEMUEL GLANZ', 'WADE CHESICK', 'KENDALL SASENGBONG', 'BOYCE BACKMON', 'ROYAL GIRILLO', 'DONNY LINDSTEDT', 'IAN ROOF', 'RUSTY MURANO', 'CORDELL LYMAN', 'AUGUSTUS MALDOMADO', 'PAUL SCHOTT', 'COLUMBUS SIVYER', 'STACY KOVES', 'DONALD NOBOA', 'SHAYNE GELLERT', 'IGNACIO NIEBAUM', 'KIETH ERBST', 'LORENZO CORDY', 'JULIO YEPEZ', 'COLUMBUS LADT', 'DANA CHESNUT', 'ARLEN AURINGER', 'EDWIN LIBBY', 'CLAYTON FLAUM', 'JAE DACUNHA', 'DARON SCHOFIELD', 'RORY SURPRENANT', 'CLETUS KELLOW', 'CHESTER GAMBEL', 'EDGAR LUQUE', 'KIRK DOORN', 'TIM MIKULICH', 'CHARLIE FERLIC', 'COREY LIPSTONE', 'TROY KOSKI', 'JOAN MATER', 'STEPHAN KOFA', 'ED TIBBETS', 'CORNELL ESTOK']\n"
     ]
    }
   ],
   "source": [
    "print(endorsements[:30])\n",
    "print(person_list)"
   ]
  },
  {
   "cell_type": "code",
   "execution_count": 91,
   "metadata": {
    "slideshow": {
     "slide_type": "subslide"
    }
   },
   "outputs": [
    {
     "name": "stdout",
     "output_type": "stream",
     "text": [
      "Collecting pygraphviz\n",
      "  Downloading https://files.pythonhosted.org/packages/7e/b1/d6d849ddaf6f11036f9980d433f383d4c13d1ebcfc3cd09bc845bda7e433/pygraphviz-1.5.zip (117kB)\n",
      "Building wheels for collected packages: pygraphviz\n",
      "  Running setup.py bdist_wheel for pygraphviz: started\n",
      "  Running setup.py bdist_wheel for pygraphviz: finished with status 'error'\n",
      "  Complete output from command /home/jens/.virtualenvs/slides/bin/python3 -u -c \"import setuptools, tokenize;__file__='/tmp/pip-install-4kdd5w2m/pygraphviz/setup.py';f=getattr(tokenize, 'open', open)(__file__);code=f.read().replace('\\r\\n', '\\n');f.close();exec(compile(code, __file__, 'exec'))\" bdist_wheel -d /tmp/pip-wheel-st_kbrfk --python-tag cp36:\n",
      "  running bdist_wheel\n",
      "  running build\n",
      "  running build_py\n",
      "  creating build\n",
      "  creating build/lib.linux-x86_64-3.6\n",
      "  creating build/lib.linux-x86_64-3.6/pygraphviz\n",
      "  copying pygraphviz/graphviz.py -> build/lib.linux-x86_64-3.6/pygraphviz\n",
      "  copying pygraphviz/release.py -> build/lib.linux-x86_64-3.6/pygraphviz\n",
      "  copying pygraphviz/agraph.py -> build/lib.linux-x86_64-3.6/pygraphviz\n",
      "  copying pygraphviz/version.py -> build/lib.linux-x86_64-3.6/pygraphviz\n",
      "  copying pygraphviz/__init__.py -> build/lib.linux-x86_64-3.6/pygraphviz\n",
      "  creating build/lib.linux-x86_64-3.6/pygraphviz/tests\n",
      "  copying pygraphviz/tests/test_readwrite.py -> build/lib.linux-x86_64-3.6/pygraphviz/tests\n",
      "  copying pygraphviz/tests/test_attribute_defaults.py -> build/lib.linux-x86_64-3.6/pygraphviz/tests\n",
      "  copying pygraphviz/tests/test_setup.py -> build/lib.linux-x86_64-3.6/pygraphviz/tests\n",
      "  copying pygraphviz/tests/test_drawing.py -> build/lib.linux-x86_64-3.6/pygraphviz/tests\n",
      "  copying pygraphviz/tests/test_layout.py -> build/lib.linux-x86_64-3.6/pygraphviz/tests\n",
      "  copying pygraphviz/tests/test_unicode.py -> build/lib.linux-x86_64-3.6/pygraphviz/tests\n",
      "  copying pygraphviz/tests/test_clear.py -> build/lib.linux-x86_64-3.6/pygraphviz/tests\n",
      "  copying pygraphviz/tests/test_attributes.py -> build/lib.linux-x86_64-3.6/pygraphviz/tests\n",
      "  copying pygraphviz/tests/test_subgraph.py -> build/lib.linux-x86_64-3.6/pygraphviz/tests\n",
      "  copying pygraphviz/tests/test_string.py -> build/lib.linux-x86_64-3.6/pygraphviz/tests\n",
      "  copying pygraphviz/tests/test_node_attributes.py -> build/lib.linux-x86_64-3.6/pygraphviz/tests\n",
      "  copying pygraphviz/tests/__init__.py -> build/lib.linux-x86_64-3.6/pygraphviz/tests\n",
      "  copying pygraphviz/tests/test_html.py -> build/lib.linux-x86_64-3.6/pygraphviz/tests\n",
      "  copying pygraphviz/tests/test_edge_attributes.py -> build/lib.linux-x86_64-3.6/pygraphviz/tests\n",
      "  copying pygraphviz/tests/test.py -> build/lib.linux-x86_64-3.6/pygraphviz/tests\n",
      "  copying pygraphviz/tests/test_graph.py -> build/lib.linux-x86_64-3.6/pygraphviz/tests\n",
      "  running egg_info\n",
      "  writing pygraphviz.egg-info/PKG-INFO\n",
      "  writing dependency_links to pygraphviz.egg-info/dependency_links.txt\n",
      "  writing top-level names to pygraphviz.egg-info/top_level.txt\n",
      "  reading manifest file 'pygraphviz.egg-info/SOURCES.txt'\n",
      "  reading manifest template 'MANIFEST.in'\n",
      "  warning: no files found matching '*.png' under directory 'doc'\n",
      "  warning: no files found matching '*.html' under directory 'doc'\n",
      "  warning: no files found matching '*.txt' under directory 'doc'\n",
      "  warning: no files found matching '*.css' under directory 'doc'\n",
      "  warning: no previously-included files matching '*~' found anywhere in distribution\n",
      "  warning: no previously-included files matching '*.pyc' found anywhere in distribution\n",
      "  warning: no previously-included files matching '.svn' found anywhere in distribution\n",
      "  no previously-included directories found matching 'doc/build'\n",
      "  writing manifest file 'pygraphviz.egg-info/SOURCES.txt'\n",
      "  copying pygraphviz/graphviz.i -> build/lib.linux-x86_64-3.6/pygraphviz\n",
      "  copying pygraphviz/graphviz_wrap.c -> build/lib.linux-x86_64-3.6/pygraphviz\n",
      "  running build_ext\n",
      "  building 'pygraphviz._graphviz' extension\n",
      "  creating build/temp.linux-x86_64-3.6\n",
      "  creating build/temp.linux-x86_64-3.6/pygraphviz\n",
      "  x86_64-linux-gnu-gcc -pthread -DNDEBUG -g -fwrapv -O2 -Wall -g -fstack-protector-strong -Wformat -Werror=format-security -Wdate-time -D_FORTIFY_SOURCE=2 -fPIC -I/usr/include/python3.6m -I/home/jens/.virtualenvs/slides/include/python3.6m -c pygraphviz/graphviz_wrap.c -o build/temp.linux-x86_64-3.6/pygraphviz/graphviz_wrap.o\n",
      "  pygraphviz/graphviz_wrap.c:2987:10: fatal error: graphviz/cgraph.h: Datei oder Verzeichnis nicht gefunden\n",
      "   #include \"graphviz/cgraph.h\"\n",
      "            ^~~~~~~~~~~~~~~~~~~\n",
      "  compilation terminated.\n",
      "  error: command 'x86_64-linux-gnu-gcc' failed with exit status 1\n",
      "  \n",
      "  ----------------------------------------\n",
      "  Running setup.py clean for pygraphviz\n",
      "Failed to build pygraphviz\n",
      "Installing collected packages: pygraphviz\n",
      "  Running setup.py install for pygraphviz: started\n",
      "    Running setup.py install for pygraphviz: finished with status 'error'\n",
      "    Complete output from command /home/jens/.virtualenvs/slides/bin/python3 -u -c \"import setuptools, tokenize;__file__='/tmp/pip-install-4kdd5w2m/pygraphviz/setup.py';f=getattr(tokenize, 'open', open)(__file__);code=f.read().replace('\\r\\n', '\\n');f.close();exec(compile(code, __file__, 'exec'))\" install --record /tmp/pip-record-2o72s8co/install-record.txt --single-version-externally-managed --compile --install-headers /home/jens/.virtualenvs/slides/include/site/python3.6/pygraphviz:\n",
      "    running install\n",
      "    Trying dpkg\n",
      "    Trying pkg-config\n",
      "    Package libcgraph was not found in the pkg-config search path.\n",
      "    Perhaps you should add the directory containing `libcgraph.pc'\n",
      "    to the PKG_CONFIG_PATH environment variable\n",
      "    No package 'libcgraph' found\n",
      "    Traceback (most recent call last):\n",
      "      File \"<string>\", line 1, in <module>\n",
      "      File \"/tmp/pip-install-4kdd5w2m/pygraphviz/setup.py\", line 93, in <module>\n",
      "        tests_require=['nose>=1.3.7', 'doctest-ignore-unicode>=0.1.2', 'mock>=2.0.0'],\n",
      "      File \"/home/jens/.virtualenvs/slides/lib/python3.6/site-packages/setuptools/__init__.py\", line 143, in setup\n",
      "        return distutils.core.setup(**attrs)\n",
      "      File \"/usr/lib/python3.6/distutils/core.py\", line 148, in setup\n",
      "        dist.run_commands()\n",
      "      File \"/usr/lib/python3.6/distutils/dist.py\", line 955, in run_commands\n",
      "        self.run_command(cmd)\n",
      "      File \"/usr/lib/python3.6/distutils/dist.py\", line 974, in run_command\n",
      "        cmd_obj.run()\n",
      "      File \"/tmp/pip-install-4kdd5w2m/pygraphviz/setup_commands.py\", line 44, in modified_run\n",
      "        self.include_path, self.library_path = get_graphviz_dirs()\n",
      "      File \"/tmp/pip-install-4kdd5w2m/pygraphviz/setup_extra.py\", line 162, in get_graphviz_dirs\n",
      "        include_dirs, library_dirs = _try_configure(include_dirs, library_dirs, _pkg_config)\n",
      "      File \"/tmp/pip-install-4kdd5w2m/pygraphviz/setup_extra.py\", line 117, in _try_configure\n",
      "        i, l = try_function()\n",
      "      File \"/tmp/pip-install-4kdd5w2m/pygraphviz/setup_extra.py\", line 72, in _pkg_config\n",
      "        output = S.check_output(['pkg-config', '--libs-only-L', 'libcgraph'])\n",
      "      File \"/usr/lib/python3.6/subprocess.py\", line 336, in check_output\n",
      "        **kwargs).stdout\n",
      "      File \"/usr/lib/python3.6/subprocess.py\", line 418, in run\n",
      "        output=stdout, stderr=stderr)\n",
      "    subprocess.CalledProcessError: Command '['pkg-config', '--libs-only-L', 'libcgraph']' returned non-zero exit status 1.\n",
      "    \n",
      "    ----------------------------------------\n"
     ]
    },
    {
     "name": "stderr",
     "output_type": "stream",
     "text": [
      "bash: Zeile 1: conda: Befehl nicht gefunden\n",
      "  Failed building wheel for pygraphviz\n",
      "Command \"/home/jens/.virtualenvs/slides/bin/python3 -u -c \"import setuptools, tokenize;__file__='/tmp/pip-install-4kdd5w2m/pygraphviz/setup.py';f=getattr(tokenize, 'open', open)(__file__);code=f.read().replace('\\r\\n', '\\n');f.close();exec(compile(code, __file__, 'exec'))\" install --record /tmp/pip-record-2o72s8co/install-record.txt --single-version-externally-managed --compile --install-headers /home/jens/.virtualenvs/slides/include/site/python3.6/pygraphviz\" failed with error code 1 in /tmp/pip-install-4kdd5w2m/pygraphviz/\n",
      "You are using pip version 18.1, however version 19.0.3 is available.\n",
      "You should consider upgrading via the 'pip install --upgrade pip' command.\n"
     ]
    },
    {
     "ename": "CalledProcessError",
     "evalue": "Command 'b'conda install -y networkx=1.11\\npip install pygraphviz\\n'' returned non-zero exit status 1.",
     "output_type": "error",
     "traceback": [
      "\u001b[0;31m--------------------------------\u001b[0m",
      "\u001b[0;31mCalledProcessError\u001b[0mTraceback (most recent call last)",
      "\u001b[0;32m<ipython-input-91-888bc44d2aa9>\u001b[0m in \u001b[0;36m<module>\u001b[0;34m\u001b[0m\n\u001b[0;32m----> 1\u001b[0;31m \u001b[0mget_ipython\u001b[0m\u001b[0;34m(\u001b[0m\u001b[0;34m)\u001b[0m\u001b[0;34m.\u001b[0m\u001b[0mrun_cell_magic\u001b[0m\u001b[0;34m(\u001b[0m\u001b[0;34m'bash'\u001b[0m\u001b[0;34m,\u001b[0m \u001b[0;34m''\u001b[0m\u001b[0;34m,\u001b[0m \u001b[0;34m'conda install -y networkx=1.11\\npip install pygraphviz\\n'\u001b[0m\u001b[0;34m)\u001b[0m\u001b[0;34m\u001b[0m\u001b[0;34m\u001b[0m\u001b[0m\n\u001b[0m",
      "\u001b[0;32m~/.virtualenvs/slides/lib/python3.6/site-packages/IPython/core/interactiveshell.py\u001b[0m in \u001b[0;36mrun_cell_magic\u001b[0;34m(self, magic_name, line, cell)\u001b[0m\n\u001b[1;32m   2321\u001b[0m             \u001b[0mmagic_arg_s\u001b[0m \u001b[0;34m=\u001b[0m \u001b[0mself\u001b[0m\u001b[0;34m.\u001b[0m\u001b[0mvar_expand\u001b[0m\u001b[0;34m(\u001b[0m\u001b[0mline\u001b[0m\u001b[0;34m,\u001b[0m \u001b[0mstack_depth\u001b[0m\u001b[0;34m)\u001b[0m\u001b[0;34m\u001b[0m\u001b[0;34m\u001b[0m\u001b[0m\n\u001b[1;32m   2322\u001b[0m             \u001b[0;32mwith\u001b[0m \u001b[0mself\u001b[0m\u001b[0;34m.\u001b[0m\u001b[0mbuiltin_trap\u001b[0m\u001b[0;34m:\u001b[0m\u001b[0;34m\u001b[0m\u001b[0;34m\u001b[0m\u001b[0m\n\u001b[0;32m-> 2323\u001b[0;31m                 \u001b[0mresult\u001b[0m \u001b[0;34m=\u001b[0m \u001b[0mfn\u001b[0m\u001b[0;34m(\u001b[0m\u001b[0mmagic_arg_s\u001b[0m\u001b[0;34m,\u001b[0m \u001b[0mcell\u001b[0m\u001b[0;34m)\u001b[0m\u001b[0;34m\u001b[0m\u001b[0;34m\u001b[0m\u001b[0m\n\u001b[0m\u001b[1;32m   2324\u001b[0m             \u001b[0;32mreturn\u001b[0m \u001b[0mresult\u001b[0m\u001b[0;34m\u001b[0m\u001b[0;34m\u001b[0m\u001b[0m\n\u001b[1;32m   2325\u001b[0m \u001b[0;34m\u001b[0m\u001b[0m\n",
      "\u001b[0;32m~/.virtualenvs/slides/lib/python3.6/site-packages/IPython/core/magics/script.py\u001b[0m in \u001b[0;36mnamed_script_magic\u001b[0;34m(line, cell)\u001b[0m\n\u001b[1;32m    140\u001b[0m             \u001b[0;32melse\u001b[0m\u001b[0;34m:\u001b[0m\u001b[0;34m\u001b[0m\u001b[0;34m\u001b[0m\u001b[0m\n\u001b[1;32m    141\u001b[0m                 \u001b[0mline\u001b[0m \u001b[0;34m=\u001b[0m \u001b[0mscript\u001b[0m\u001b[0;34m\u001b[0m\u001b[0;34m\u001b[0m\u001b[0m\n\u001b[0;32m--> 142\u001b[0;31m             \u001b[0;32mreturn\u001b[0m \u001b[0mself\u001b[0m\u001b[0;34m.\u001b[0m\u001b[0mshebang\u001b[0m\u001b[0;34m(\u001b[0m\u001b[0mline\u001b[0m\u001b[0;34m,\u001b[0m \u001b[0mcell\u001b[0m\u001b[0;34m)\u001b[0m\u001b[0;34m\u001b[0m\u001b[0;34m\u001b[0m\u001b[0m\n\u001b[0m\u001b[1;32m    143\u001b[0m \u001b[0;34m\u001b[0m\u001b[0m\n\u001b[1;32m    144\u001b[0m         \u001b[0;31m# write a basic docstring:\u001b[0m\u001b[0;34m\u001b[0m\u001b[0;34m\u001b[0m\u001b[0;34m\u001b[0m\u001b[0m\n",
      "\u001b[0;32m<decorator-gen-109>\u001b[0m in \u001b[0;36mshebang\u001b[0;34m(self, line, cell)\u001b[0m\n",
      "\u001b[0;32m~/.virtualenvs/slides/lib/python3.6/site-packages/IPython/core/magic.py\u001b[0m in \u001b[0;36m<lambda>\u001b[0;34m(f, *a, **k)\u001b[0m\n\u001b[1;32m    185\u001b[0m     \u001b[0;31m# but it's overkill for just that one bit of state.\u001b[0m\u001b[0;34m\u001b[0m\u001b[0;34m\u001b[0m\u001b[0;34m\u001b[0m\u001b[0m\n\u001b[1;32m    186\u001b[0m     \u001b[0;32mdef\u001b[0m \u001b[0mmagic_deco\u001b[0m\u001b[0;34m(\u001b[0m\u001b[0marg\u001b[0m\u001b[0;34m)\u001b[0m\u001b[0;34m:\u001b[0m\u001b[0;34m\u001b[0m\u001b[0;34m\u001b[0m\u001b[0m\n\u001b[0;32m--> 187\u001b[0;31m         \u001b[0mcall\u001b[0m \u001b[0;34m=\u001b[0m \u001b[0;32mlambda\u001b[0m \u001b[0mf\u001b[0m\u001b[0;34m,\u001b[0m \u001b[0;34m*\u001b[0m\u001b[0ma\u001b[0m\u001b[0;34m,\u001b[0m \u001b[0;34m**\u001b[0m\u001b[0mk\u001b[0m\u001b[0;34m:\u001b[0m \u001b[0mf\u001b[0m\u001b[0;34m(\u001b[0m\u001b[0;34m*\u001b[0m\u001b[0ma\u001b[0m\u001b[0;34m,\u001b[0m \u001b[0;34m**\u001b[0m\u001b[0mk\u001b[0m\u001b[0;34m)\u001b[0m\u001b[0;34m\u001b[0m\u001b[0;34m\u001b[0m\u001b[0m\n\u001b[0m\u001b[1;32m    188\u001b[0m \u001b[0;34m\u001b[0m\u001b[0m\n\u001b[1;32m    189\u001b[0m         \u001b[0;32mif\u001b[0m \u001b[0mcallable\u001b[0m\u001b[0;34m(\u001b[0m\u001b[0marg\u001b[0m\u001b[0;34m)\u001b[0m\u001b[0;34m:\u001b[0m\u001b[0;34m\u001b[0m\u001b[0;34m\u001b[0m\u001b[0m\n",
      "\u001b[0;32m~/.virtualenvs/slides/lib/python3.6/site-packages/IPython/core/magics/script.py\u001b[0m in \u001b[0;36mshebang\u001b[0;34m(self, line, cell)\u001b[0m\n\u001b[1;32m    243\u001b[0m             \u001b[0msys\u001b[0m\u001b[0;34m.\u001b[0m\u001b[0mstderr\u001b[0m\u001b[0;34m.\u001b[0m\u001b[0mflush\u001b[0m\u001b[0;34m(\u001b[0m\u001b[0;34m)\u001b[0m\u001b[0;34m\u001b[0m\u001b[0;34m\u001b[0m\u001b[0m\n\u001b[1;32m    244\u001b[0m         \u001b[0;32mif\u001b[0m \u001b[0margs\u001b[0m\u001b[0;34m.\u001b[0m\u001b[0mraise_error\u001b[0m \u001b[0;32mand\u001b[0m \u001b[0mp\u001b[0m\u001b[0;34m.\u001b[0m\u001b[0mreturncode\u001b[0m\u001b[0;34m!=\u001b[0m\u001b[0;36m0\u001b[0m\u001b[0;34m:\u001b[0m\u001b[0;34m\u001b[0m\u001b[0;34m\u001b[0m\u001b[0m\n\u001b[0;32m--> 245\u001b[0;31m             \u001b[0;32mraise\u001b[0m \u001b[0mCalledProcessError\u001b[0m\u001b[0;34m(\u001b[0m\u001b[0mp\u001b[0m\u001b[0;34m.\u001b[0m\u001b[0mreturncode\u001b[0m\u001b[0;34m,\u001b[0m \u001b[0mcell\u001b[0m\u001b[0;34m,\u001b[0m \u001b[0moutput\u001b[0m\u001b[0;34m=\u001b[0m\u001b[0mout\u001b[0m\u001b[0;34m,\u001b[0m \u001b[0mstderr\u001b[0m\u001b[0;34m=\u001b[0m\u001b[0merr\u001b[0m\u001b[0;34m)\u001b[0m\u001b[0;34m\u001b[0m\u001b[0;34m\u001b[0m\u001b[0m\n\u001b[0m\u001b[1;32m    246\u001b[0m \u001b[0;34m\u001b[0m\u001b[0m\n\u001b[1;32m    247\u001b[0m     \u001b[0;32mdef\u001b[0m \u001b[0m_run_script\u001b[0m\u001b[0;34m(\u001b[0m\u001b[0mself\u001b[0m\u001b[0;34m,\u001b[0m \u001b[0mp\u001b[0m\u001b[0;34m,\u001b[0m \u001b[0mcell\u001b[0m\u001b[0;34m,\u001b[0m \u001b[0mto_close\u001b[0m\u001b[0;34m)\u001b[0m\u001b[0;34m:\u001b[0m\u001b[0;34m\u001b[0m\u001b[0;34m\u001b[0m\u001b[0m\n",
      "\u001b[0;31mCalledProcessError\u001b[0m: Command 'b'conda install -y networkx=1.11\\npip install pygraphviz\\n'' returned non-zero exit status 1."
     ]
    }
   ],
   "source": [
    "%%bash\n",
    "conda install -y networkx=1.11\n",
    "pip install pygraphviz"
   ]
  },
  {
   "cell_type": "code",
   "execution_count": 92,
   "metadata": {
    "slideshow": {
     "slide_type": "subslide"
    }
   },
   "outputs": [],
   "source": [
    "%matplotlib inline\n",
    "import warnings\n",
    "warnings.filterwarnings('ignore')"
   ]
  },
  {
   "cell_type": "code",
   "execution_count": 93,
   "metadata": {
    "scrolled": true,
    "slideshow": {
     "slide_type": "subslide"
    }
   },
   "outputs": [],
   "source": [
    "import networkx as nx\n",
    "import matplotlib.pyplot as plt\n",
    "from networkx.drawing.nx_agraph import graphviz_layout, write_dot\n",
    "\n",
    "def create_graph():\n",
    "    graph = nx.DiGraph()\n",
    "    graph.clear()\n",
    "\n",
    "    # add node by node, needed to add attributes...\n",
    "    print(len(all_names_list))\n",
    "\n",
    "    for idx, name_pair in enumerate(all_names_list):\n",
    "        graph.add_node(idx, name=' '.join(name_pair))\n",
    "    \n",
    "    # graph.add_nodes_from(all_names_list)\n",
    "    graph.add_edges_from(endorsements)\n",
    "\n",
    "    return graph"
   ]
  },
  {
   "cell_type": "code",
   "execution_count": 135,
   "metadata": {
    "slideshow": {
     "slide_type": "subslide"
    }
   },
   "outputs": [
    {
     "name": "stdout",
     "output_type": "stream",
     "text": [
      "100\n"
     ]
    },
    {
     "data": {
      "image/png": "[encoded data removed]",
      "text/plain": [
       "<Figure size 432x288 with 1 Axes>"
      ]
     },
     "metadata": {},
     "output_type": "display_data"
    }
   ],
   "source": [
    "def draw_graph(graph):\n",
    "    nx.draw(graph, pos=graphviz_layout(graph), \n",
    "            node_size=30, width=.05, cmap=plt.cm.Blues, \n",
    "            with_labels=True, node_color=range(len(graph)))\n",
    "    \n",
    "graph = create_graph()\n",
    "draw_graph(graph)\n",
    "\n",
    "#nx.write_gml(graph, './social_network.gml')"
   ]
  },
  {
   "cell_type": "code",
   "execution_count": 134,
   "metadata": {
    "slideshow": {
     "slide_type": "subslide"
    }
   },
   "outputs": [
    {
     "name": "stdout",
     "output_type": "stream",
     "text": [
      "A N T H O N Y   A S H N E R\n",
      "5\n",
      "[(10, 98), (10, 68), (10, 90), (10, 19), (10, 20)]\n"
     ]
    },
    {
     "ename": "TypeError",
     "evalue": "'OutEdgeDataView' object does not support indexing",
     "output_type": "error",
     "traceback": [
      "\u001b[0;31m-------------------------------------------------\u001b[0m",
      "\u001b[0;31mTypeError\u001b[0m       Traceback (most recent call last)",
      "\u001b[0;32m<ipython-input-134-845a1d8a78e1>\u001b[0m in \u001b[0;36m<module>\u001b[0;34m\u001b[0m\n\u001b[1;32m      2\u001b[0m \u001b[0mprint\u001b[0m\u001b[0;34m(\u001b[0m\u001b[0mgraph\u001b[0m\u001b[0;34m.\u001b[0m\u001b[0mout_degree\u001b[0m\u001b[0;34m(\u001b[0m\u001b[0;36m10\u001b[0m\u001b[0;34m)\u001b[0m\u001b[0;34m)\u001b[0m\u001b[0;34m\u001b[0m\u001b[0;34m\u001b[0m\u001b[0m\n\u001b[1;32m      3\u001b[0m \u001b[0mprint\u001b[0m\u001b[0;34m(\u001b[0m\u001b[0mgraph\u001b[0m\u001b[0;34m.\u001b[0m\u001b[0mout_edges\u001b[0m\u001b[0;34m(\u001b[0m\u001b[0;36m10\u001b[0m\u001b[0;34m)\u001b[0m\u001b[0;34m)\u001b[0m\u001b[0;34m\u001b[0m\u001b[0;34m\u001b[0m\u001b[0m\n\u001b[0;32m----> 4\u001b[0;31m \u001b[0mprint\u001b[0m\u001b[0;34m(\u001b[0m\u001b[0mgraph\u001b[0m\u001b[0;34m.\u001b[0m\u001b[0mnode\u001b[0m\u001b[0;34m[\u001b[0m\u001b[0mgraph\u001b[0m\u001b[0;34m.\u001b[0m\u001b[0mout_edges\u001b[0m\u001b[0;34m(\u001b[0m\u001b[0;36m10\u001b[0m\u001b[0;34m)\u001b[0m\u001b[0;34m[\u001b[0m\u001b[0;36m0\u001b[0m\u001b[0;34m]\u001b[0m\u001b[0;34m[\u001b[0m\u001b[0;36m1\u001b[0m\u001b[0;34m]\u001b[0m\u001b[0;34m]\u001b[0m\u001b[0;34m)\u001b[0m\u001b[0;34m\u001b[0m\u001b[0;34m\u001b[0m\u001b[0m\n\u001b[0m\u001b[1;32m      5\u001b[0m \u001b[0mprint\u001b[0m\u001b[0;34m(\u001b[0m\u001b[0mgraph\u001b[0m\u001b[0;34m.\u001b[0m\u001b[0min_edges\u001b[0m\u001b[0;34m(\u001b[0m\u001b[0;36m10\u001b[0m\u001b[0;34m)\u001b[0m\u001b[0;34m)\u001b[0m\u001b[0;34m\u001b[0m\u001b[0;34m\u001b[0m\u001b[0m\n",
      "\u001b[0;31mTypeError\u001b[0m: 'OutEdgeDataView' object does not support indexing"
     ]
    }
   ],
   "source": [
    "print(graph.node[10]['name'])\n",
    "print(graph.out_degree(10))\n",
    "print(graph.out_edges(10))\n",
    "print(graph.node[graph.out_edges(10)[0][1]])\n",
    "print(graph.in_edges(10))"
   ]
  },
  {
   "cell_type": "code",
   "execution_count": 96,
   "metadata": {
    "slideshow": {
     "slide_type": "subslide"
    }
   },
   "outputs": [
    {
     "name": "stdout",
     "output_type": "stream",
     "text": [
      "100\n"
     ]
    }
   ],
   "source": [
    "# print(graph.node)\n",
    "print(graph.number_of_nodes())"
   ]
  },
  {
   "cell_type": "markdown",
   "metadata": {
    "slideshow": {
     "slide_type": "subslide"
    }
   },
   "source": [
    "## Who is the most interesting person in our network?\n",
    "\n",
    "Likely, you are tempted to find the person in the graph, which has the highest in-degree. For example with code similar to the following."
   ]
  },
  {
   "cell_type": "code",
   "execution_count": 97,
   "metadata": {
    "slideshow": {
     "slide_type": "subslide"
    }
   },
   "outputs": [],
   "source": [
    "import numpy as np\n",
    "\n",
    "in_deg_vec = np.array([graph.in_degree(n) for n in graph.nodes()])\n",
    "max_ind_deg = in_deg_vec.max()"
   ]
  },
  {
   "cell_type": "code",
   "execution_count": 98,
   "metadata": {
    "slideshow": {
     "slide_type": "subslide"
    }
   },
   "outputs": [
    {
     "name": "stdout",
     "output_type": "stream",
     "text": [
      "8\n",
      "A L I C I A   S C H E L L H A S E\n"
     ]
    }
   ],
   "source": [
    "print(np.argmax(in_deg_vec))\n",
    "print(graph.node[np.argmax(in_deg_vec)]['name'])"
   ]
  },
  {
   "cell_type": "markdown",
   "metadata": {
    "slideshow": {
     "slide_type": "subslide"
    }
   },
   "source": [
    "However, there is an issue with this solution. To make yourself the most interesting person you would just have to create a lot of profiles of people endorsing you. This issue can be overcome by applying the *PageRank* algorithm."
   ]
  },
  {
   "cell_type": "code",
   "execution_count": null,
   "metadata": {
    "slideshow": {
     "slide_type": "subslide"
    }
   },
   "outputs": [],
   "source": [
    "d = 0.85\n",
    "n = graph.number_of_nodes()\n",
    "sub_term = (1 - d) / n\n",
    "\n",
    "def page_rank(p):\n",
    "    \n",
    "    page_rank = sub_term  + (d * pass)\n",
    "    return page_rank"
   ]
  },
  {
   "cell_type": "markdown",
   "metadata": {
    "slideshow": {
     "slide_type": "subslide"
    }
   },
   "source": [
    "## Working with a twitter dataset\n",
    "\n",
    "https://snap.stanford.edu/data/egonets-Twitter.html"
   ]
  },
  {
   "cell_type": "code",
   "execution_count": 155,
   "metadata": {
    "slideshow": {
     "slide_type": "subslide"
    }
   },
   "outputs": [
    {
     "name": "stdout",
     "output_type": "stream",
     "text": [
      "--2019-03-19 15:45:53--  https://snap.stanford.edu/data/twitter_combined.txt.gz\n",
      "Auflösen des Hostnamens snap.stanford.edu (snap.stanford.edu) … 171.64.75.80\n",
      "Verbindungsaufbau zu snap.stanford.edu (snap.stanford.edu)|171.64.75.80|:443 … verbunden.\n",
      "HTTP-Anforderung gesendet, auf Antwort wird gewartet … 200 OK\n",
      "Länge: 10621918 (10M) [application/x-gzip]\n",
      "Wird in »twitter_combined.txt.gz« gespeichert.\n",
      "\n",
      "twitter_combined.tx 100%[===================>]  10,13M  1,02MB/s    in 17s     \n",
      "\n",
      "2019-03-19 15:46:11 (615 KB/s) - »twitter_combined.txt.gz« gespeichert [10621918/10621918]\n",
      "\n"
     ]
    }
   ],
   "source": [
    "!wget https://snap.stanford.edu/data/twitter_combined.txt.gz"
   ]
  },
  {
   "cell_type": "code",
   "execution_count": 156,
   "metadata": {
    "slideshow": {
     "slide_type": "subslide"
    }
   },
   "outputs": [],
   "source": [
    "!gunzip twitter_combined.txt.gz"
   ]
  },
  {
   "cell_type": "code",
   "execution_count": 157,
   "metadata": {
    "slideshow": {
     "slide_type": "subslide"
    }
   },
   "outputs": [],
   "source": [
    "import networkx as nx"
   ]
  },
  {
   "cell_type": "code",
   "execution_count": null,
   "metadata": {
    "slideshow": {
     "slide_type": "subslide"
    }
   },
   "outputs": [],
   "source": [
    "g = nx.read_edgelist('twitter_combined.txt')"
   ]
  },
  {
   "cell_type": "markdown",
   "metadata": {
    "slideshow": {
     "slide_type": "subslide"
    }
   },
   "source": [
    "## Networkx documentation for undirected graphs\n",
    "https://networkx.github.io/documentation/stable/reference/classes/graph.html"
   ]
  },
  {
   "cell_type": "code",
   "execution_count": null,
   "metadata": {
    "slideshow": {
     "slide_type": "subslide"
    }
   },
   "outputs": [],
   "source": [
    "nx.info(g)"
   ]
  },
  {
   "cell_type": "code",
   "execution_count": null,
   "metadata": {
    "slideshow": {
     "slide_type": "subslide"
    }
   },
   "outputs": [],
   "source": [
    "'214328887' in g"
   ]
  },
  {
   "cell_type": "code",
   "execution_count": null,
   "metadata": {
    "slideshow": {
     "slide_type": "subslide"
    }
   },
   "outputs": [],
   "source": [
    "g['214328887']"
   ]
  },
  {
   "cell_type": "code",
   "execution_count": null,
   "metadata": {
    "slideshow": {
     "slide_type": "subslide"
    }
   },
   "outputs": [],
   "source": [
    "len(g)"
   ]
  },
  {
   "cell_type": "code",
   "execution_count": null,
   "metadata": {
    "slideshow": {
     "slide_type": "subslide"
    }
   },
   "outputs": [],
   "source": [
    "g.neighbors('214328887')"
   ]
  },
  {
   "cell_type": "code",
   "execution_count": null,
   "metadata": {
    "slideshow": {
     "slide_type": "subslide"
    }
   },
   "outputs": [],
   "source": [
    "for neighbor in g.neighbors('214328887'):\n",
    "    print(neighbor)"
   ]
  },
  {
   "cell_type": "markdown",
   "metadata": {
    "slideshow": {
     "slide_type": "slide"
    }
   },
   "source": [
    "# PageRank Algorithm\n",
    "\n",
    "**PageRank** was one of the two original ideas that set Google's search apart from other Web search engines when it was introduced in 1997.\n",
    "\n",
    "PageRank was invented to solve the problem of term-frequency (TF) tyranny: if we are searching for `IBM`, how do we make sure that the *first* result is IBM's website, and not a random page that mentioned `IBM` more frequently?\n",
    "\n",
    "##### References:\n",
    "The above description is from *Artificial Intelligence: A Modern Approach Third Edition* by Stuart J. Russell and Peter Norvig."
   ]
  },
  {
   "cell_type": "markdown",
   "metadata": {
    "slideshow": {
     "slide_type": "subslide"
    }
   },
   "source": [
    "## Let's Implement PageRank Together!\n",
    "\n",
    "Perhaps it is best, when we start implementing a function that encodes the *PageRank* formula.\n",
    "\n",
    "\n",
    "$PR(p) = \\frac{1-d}{N} + d \\sum_{i}^{} \\frac{PR(in_{i})}{C(in_{i})}$\n",
    "\n",
    "Where $PR(p)$ is the page rank of page $p$, $N$ is the total number of pages, $in_i$ are the pages that link *to* page $p$ and $C(in_i)$ is the count of the total number of out-links on page $in_i$. The constant $d$ is a dampening factor to reduce the value for each link.\n",
    "\n",
    "This is an iterative algorithm, where we start with all pages having rank = 1."
   ]
  },
  {
   "cell_type": "code",
   "execution_count": 153,
   "metadata": {
    "slideshow": {
     "slide_type": "subslide"
    }
   },
   "outputs": [],
   "source": [
    "import numpy as np\n",
    "\n",
    "GLOBAL_PR = np.ones(graph.number_of_nodes())\n",
    "d = 0.8\n",
    "\n",
    "def compute_page_rank(graph, no_it=100):\n",
    "    \"\"\"Computes the page rank of the given graph\n",
    "    \n",
    "    Arguments:\n",
    "      graph: A networkx graph\n",
    "      no_it: A number of iterations to run the algorithm\n",
    "    \"\"\"\n",
    "    for _ in range(no_it):\n",
    "        for node in graph.nodes:\n",
    "            edges_in = [t[0] for t in graph.in_edges(node)]\n",
    "            sum_in = 0\n",
    "            for in_node in edges_in:\n",
    "                c = len(graph.out_edges(in_node))\n",
    "                pr = GLOBAL_PR[in_node]\n",
    "                sum_in += pr / c\n",
    "            sum_in *= d\n",
    "            new_rank = sum_in + ((1 - d) / len(GLOBAL_PR))\n",
    "            GLOBAL_PR[node] = new_rank\n",
    "        \n",
    "compute_page_rank(graph)"
   ]
  },
  {
   "cell_type": "code",
   "execution_count": 154,
   "metadata": {
    "slideshow": {
     "slide_type": "subslide"
    }
   },
   "outputs": [
    {
     "name": "stdout",
     "output_type": "stream",
     "text": [
      "The highest PR is 0.02158738666085312\n",
      "The node with the highest PR is 1\n",
      "The person with the highest PR is E R L E N E   A R R O W\n",
      "[0.01518915 0.02158739 0.00658498 0.00831166 0.00679944 0.00481797\n",
      " 0.01179229 0.0066057  0.00680252 0.01217954 0.00679199 0.01133324\n",
      " 0.00439371 0.00748904 0.00623692 0.00303972 0.0083413  0.0060506\n",
      " 0.00599314 0.0108372  0.00777757 0.00440992 0.00783718 0.01377315\n",
      " 0.00797297 0.00460481 0.00673996 0.00406406 0.00401745 0.00657518\n",
      " 0.01087252 0.0096803  0.01350506 0.00436108 0.00732984 0.02008137\n",
      " 0.00862659 0.0069238  0.00421982 0.00500243 0.01373819 0.00447136\n",
      " 0.00911764 0.0078127  0.01720834 0.00372169 0.0077491  0.00843604\n",
      " 0.00921385 0.00646091 0.00813663 0.01177633 0.01684437 0.00363211\n",
      " 0.00454395 0.0132563  0.01176848 0.00988977 0.00731601 0.00566927\n",
      " 0.00625081 0.00319619 0.02113155 0.00504506 0.00642877 0.00904983\n",
      " 0.01412948 0.00762348 0.01357039 0.00975532 0.01089975 0.01027206\n",
      " 0.01382777 0.00660052 0.01954131 0.00649448 0.00691811 0.01061382\n",
      " 0.00549307 0.00439537 0.00907074 0.00813431 0.00704542 0.0167065\n",
      " 0.00896428 0.01114287 0.00473307 0.00480125 0.00726398 0.00979007\n",
      " 0.01160002 0.0062355  0.01181486 0.00763407 0.00548161 0.01404589\n",
      " 0.00918572 0.00841165 0.01677538 0.00729931]\n"
     ]
    }
   ],
   "source": [
    "compute_page_rank(graph, no_it=100)\n",
    "print('The highest PR is {}'.format(GLOBAL_PR[np.argmax(GLOBAL_PR)]))\n",
    "print('The node with the highest PR is {}'.format(np.argmax(GLOBAL_PR)))\n",
    "print('The person with the highest PR is {}'.format(graph.node[np.argmax(GLOBAL_PR)]['name']))\n",
    "print(GLOBAL_PR)"
   ]
  },
  {
   "cell_type": "code",
   "execution_count": null,
   "metadata": {
    "slideshow": {
     "slide_type": "subslide"
    }
   },
   "outputs": [],
   "source": [
    "import numpy as np\n",
    "\n",
    "\n",
    "GLOBAL_PR = np.ones(graph.number_of_nodes())\n",
    "\n",
    "\n",
    "def page_rank(node):\n",
    "    n = graph.number_of_nodes()\n",
    "    damping = 0.85\n",
    "\n",
    "    pr_in = np.array([GLOBAL_PR[remote] for remote, _ in graph.in_edges(node)])\n",
    "    c = np.array([graph.out_degree(remote) for remote, _ in graph.in_edges(node)])\n",
    "    pr_p = ((1 - damping) / n) + (damping * np.sum(pr_in / c))\n",
    "\n",
    "    return pr_p\n",
    "        \n",
    "\n",
    "def compute_page_rank_step(graph):\n",
    "    return np.array([page_rank(n) for n in graph.nodes()])\n",
    "    \n",
    "    \n",
    "def compute_page_rank(graph, no_it=100):\n",
    "    global GLOBAL_PR\n",
    "    if no_it == 'converge':\n",
    "        converged = False\n",
    "        it_count = 0\n",
    "        while not converged:\n",
    "            new_pr = compute_page_rank_step(graph)\n",
    "            converged = np.array_equal(GLOBAL_PR, new_pr)\n",
    "            GLOBAL_PR = new_pr \n",
    "            it_count += 1\n",
    "            \n",
    "        print('It took me {} iterations to converge'.format(it_count))\n",
    "    else:\n",
    "        for idx in range(no_it):\n",
    "            GLOBAL_PR = compute_page_rank_step(graph)\n",
    "            \n",
    "compute_page_rank(graph, no_it='converge')\n",
    "print('The highest PR is {}'.format(GLOBAL_PR[np.argmax(GLOBAL_PR)]))\n",
    "print('The node with the highest PR is {}'.format(np.argmax(GLOBAL_PR)))\n",
    "print('The person with the highest PR is {}'.format(graph.node[np.argmax(GLOBAL_PR)]['name']))\n",
    "print(GLOBAL_PR)"
   ]
  },
  {
   "cell_type": "code",
   "execution_count": null,
   "metadata": {},
   "outputs": [],
   "source": [
    "print(graph.node[27]['name'])"
   ]
  }
 ],
 "metadata": {
  "celltoolbar": "Slideshow",
  "kernelspec": {
   "display_name": "Python 3",
   "language": "python",
   "name": "python3"
  },
  "language_info": {
   "codemirror_mode": {
    "name": "ipython",
    "version": 3
   },
   "file_extension": ".py",
   "mimetype": "text/x-python",
   "name": "python",
   "nbconvert_exporter": "python",
   "pygments_lexer": "ipython3",
   "version": "3.6.7"
  }
 },
 "nbformat": 4,
 "nbformat_minor": 2
}
