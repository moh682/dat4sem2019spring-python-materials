{
 "cells": [
  {
   "cell_type": "code",
   "execution_count": null,
   "metadata": {},
   "outputs": [],
   "source": [
    "import warnings\n",
    "warnings.filterwarnings('ignore')"
   ]
  },
  {
   "cell_type": "markdown",
   "metadata": {
    "slideshow": {
     "slide_type": "slide"
    }
   },
   "source": [
    "# HTML Refresher\n",
    "This part is based on chapter 11 of *Automate the Boring Stuff with Python* by Al Sweigart\n",
    "\n",
    "HTML files are plain text files containing *tags*, which are words enclosed in angle brackets. Tags tell the browser how to format the web page. A starting tag and closing tag can enclose some text to form an element. The text (or inner HTML) is the content between the starting and closing tags.\n",
    "\n",
    "There are many different tags in HTML. Some of these tags have extra properties in the form of attributes within the angle brackets. For example, the `<a>` tag encloses text that should be a link.\n",
    "\n",
    "Some elements have an `id` attribute that is used to uniquely identify the element in the page. You will often instruct your programs to seek out an element by its id attribute, so figuring out an element’s id attribute using the browser’s developer tools is a common task in writing web scraping programs."
   ]
  },
  {
   "cell_type": "code",
   "execution_count": 21,
   "metadata": {},
   "outputs": [],
   "source": [
    "%%bash\n",
    "cat << EOF > example.html\n",
    "<!DOCTYPE html>\n",
    "<html>\n",
    "<head>\n",
    "<title>Hello!</title>\n",
    "</head>\n",
    "<body>\n",
    "<h1>Hello World!</h1>\n",
    "You are extremely welcome!<br>\n",
    "<br>\n",
    "The <a href=\\\"https://github.com/datsoftlyngby/dat4sem2019spring-python-materials\\\">Lecture Notes</a>.<br>\n",
    "<div>\n",
    "<p>paragraph 1</p>\n",
    "<p>and paragraph 2: <span id=\"span01\">This is span 1</span id=\"span02\"><span id=\"span03\">Second span element</span>\n",
    "<span class=\"red_border\">Here is the third span</span>\n",
    "</p>\n",
    "</div>\n",
    "</body>\n",
    "</html>\n",
    "EOF"
   ]
  },
  {
   "cell_type": "code",
   "execution_count": 11,
   "metadata": {
    "slideshow": {
     "slide_type": "-"
    }
   },
   "outputs": [],
   "source": [
    "%%bash\n",
    "xdg-open example.html"
   ]
  },
  {
   "cell_type": "markdown",
   "metadata": {
    "slideshow": {
     "slide_type": "slide"
    }
   },
   "source": [
    "# View a Page's HTML Sources\n",
    "\n",
    "Here, I will only describe how to use Firefox' development features.\n",
    "\n",
    "To view a page's sources right click on it and choose **View page source** which opens a new tab with the HTML sources.\n",
    "\n",
    "<img src=\"images/view_source_small.png\" width=\"500\"> "
   ]
  },
  {
   "cell_type": "markdown",
   "metadata": {
    "slideshow": {
     "slide_type": "slide"
    }
   },
   "source": [
    "In Firefox, you can bring up the Web Developer Tools Inspector by pressing `CTRL-SHIFT-C` on Windows and Linux or by `CMD-OPTION-C` on OS X.\n",
    "\n",
    "<img src=\"images/inspector_small.png\" width=\"600\"> "
   ]
  },
  {
   "cell_type": "markdown",
   "metadata": {
    "slideshow": {
     "slide_type": "slide"
    }
   },
   "source": [
    "# Parsing HTML with BeautifulSoup\n",
    "\n",
    "BeautifulSoup is a module for parsing and extracting information from HTML sources. The module’s name is bs4. In case it is not already installed on your machine:\n",
    "- install it with `pip install beautifulsoup4`. While beautifulsoup4 is the name used for installation, \n",
    "- to import BeautifulSoup you have to use `import bs4`.\n",
    "\n",
    "According to its documentation (https://www.crummy.com/software/BeautifulSoup/) *\"Beautiful Soup parses anything you give it, and does the tree traversal stuff for you. You can tell it \"Find all the links\", or \"Find all the links of class externalLink\", or \"Find all the links whose urls match \"foo.com\", or \"Find the table heading that's got bold text, then give me that text.\"\"*"
   ]
  },
  {
   "cell_type": "markdown",
   "metadata": {
    "slideshow": {
     "slide_type": "slide"
    }
   },
   "source": [
    "## Creating a BeautifulSoup Object from a Local HTML File\n",
    "\n",
    "- The `bs4.BeautifulSoup()` function needs to be called with a string containing the HTML it will parse. \n",
    "- The `bs4.BeautifulSoup()` function returns is a `BeautifulSoup` object.\n",
    "\n",
    "You can load a local HTML file and pass a file object to `bs4.BeautifulSoup()`."
   ]
  },
  {
   "cell_type": "code",
   "execution_count": 7,
   "metadata": {
    "slideshow": {
     "slide_type": "slide"
    }
   },
   "outputs": [
    {
     "name": "stdout",
     "output_type": "stream",
     "text": [
      "<class 'bs4.BeautifulSoup'>\n",
      "<!DOCTYPE html>\n",
      "<html>\n",
      " <head>\n",
      "  <title>\n",
      "   Hello!\n",
      "  </title>\n",
      " </head>\n",
      " <body>\n",
      "  <h1>\n",
      "   Hello World!\n",
      "  </h1>\n",
      "  You are extremely welcome!\n",
      "  <br/>\n",
      "  <br/>\n",
      "  The\n",
      "  <a href='\\\"https://github.com/datsoftlyngby/dat4sem2018fall-python\\\"'>\n",
      "   Lecture Notes\n",
      "  </a>\n",
      "  .\n",
      "  <br/>\n",
      " </body>\n",
      "</html>\n",
      "\n"
     ]
    }
   ],
   "source": [
    "import bs4\n",
    "\n",
    "with open('./example.html') as f:\n",
    "    example_html = f.read()\n",
    "    \n",
    "soup = bs4.BeautifulSoup(example_html)\n",
    "print(type(soup))\n",
    "print(soup.prettify())"
   ]
  },
  {
   "cell_type": "markdown",
   "metadata": {
    "slideshow": {
     "slide_type": "slide"
    }
   },
   "source": [
    "## Creating a BeautifulSoup Object from a Remote HTML File\n",
    "\n"
   ]
  },
  {
   "cell_type": "code",
   "execution_count": 9,
   "metadata": {
    "slideshow": {
     "slide_type": "slide"
    }
   },
   "outputs": [
    {
     "name": "stdout",
     "output_type": "stream",
     "text": [
      "<!DOCTYPE html>\n",
      "<html lang=\"en\">\n",
      " <head>\n",
      "  <meta charset=\"utf-8\"/>\n",
      "  <link href=\"https://github.githubassets.com\" rel=\"dns-prefetch\"/>\n",
      "  <link href=\"https://avatars0.githubusercontent.com\" rel=\"dns-prefetch\"/>\n",
      "  <link href=\"https://avatars1.githubusercontent.com\" rel=\"dns-prefetch\"/>\n",
      "  <link href=\"https://avatars2.githubusercontent.com\" rel=\"dns-prefetch\"/>\n",
      "  <link href=\"https://avatars3.githubusercontent.com\" rel=\"dns-prefetch\"/>\n",
      "  <link href=\"https://github-cloud.s3.amazonaws.com\" rel=\"dns-prefetch\"/>\n",
      "  <link href=\"https://user-images.githubusercontent.com/\" rel=\"dns-prefetch\"/>\n",
      "  <link crossorigin=\"anonymous\" href=\"https://github.githubassets.com/assets/frameworks-aea1483741d7c7c127f6294ced2bb4d0.css\" integrity=\"sha512-Cc73o557zxvw32bFLLW7+eLwVRIAuuA73yJTaC3Sa4e0hIej7Jp20LEujbX810MZ9UZvxB8tZrxGnv/ZTZzhBg==\" media=\"all\" rel=\"stylesheet\">\n",
      "   <link crossorigin=\"anonymous\" href=\"https://github.githubassets.com/assets/site-0e25450ff46c1fbf61d504f9ffc4d784.css\" integrity=\"sha512-5LDBQ/DhsFq/ry7aepdbc1FV0mW/0lPqH6GlYFfzzd5wo8MBz9Rb67LigKe0uKM8kK5QrA/QsJCpsE1+hOLF6w==\" media=\"all\" rel=\"stylesheet\">\n",
      "    <link crossorigin=\"anonymous\" href=\"https://github.githubassets.com/assets/github-99674072dc40b3da2332f5253acb142a.css\" integrity=\"sha512-gCEnB66HhIaKGVToELwzGKaFsWbPleggGMzN+opN7p7jHwfdy9KEzQoe7FoDZ8/a7tAhdGWlghft3djWshWtgg==\" media=\"all\" rel=\"stylesheet\">\n",
      "     <meta content=\"width=device-width\" name=\"viewport\"/>\n",
      "     <title>\n",
      "      GitHub - datsoftlyngby/dat4sem2018fall-python: Rep\n"
     ]
    }
   ],
   "source": [
    "import bs4\n",
    "import requests\n",
    "\n",
    "\n",
    "r = requests.get('https://github.com/datsoftlyngby/dat4sem2018fall-python')\n",
    "r.raise_for_status()\n",
    "soup = bs4.BeautifulSoup(r.text, 'html.parser')\n",
    "\n",
    "print(soup.prettify()[:1500])"
   ]
  },
  {
   "cell_type": "markdown",
   "metadata": {
    "slideshow": {
     "slide_type": "slide"
    }
   },
   "source": [
    "## Finding an Element with the `select()` Method\n",
    "\n",
    "You can retrieve HTML elements from a `BeautifulSoup` object by calling the `select()` method and passing a string of a CSS selector for the element you are looking for. Selectors are like regular expressions: They specify a pattern to look for, in this case, in HTML pages instead of general text strings.\n",
    "\n",
    "Common CSS selector patterns include:\n",
    "\n",
    "  * `soup.select('div')` ... selects all elements named `<div>`\n",
    "  * `soup.select('#lecturer')`  ... selects the element with an id attribute of author\n",
    "  * `soup.select('.notice')` ... selects all elements that use a CSS class attribute named notice\n",
    "  * `soup.select('div span')` ... selects all elements named ``<span>` that are within an element named `<div>`\n",
    "  * `soup.select('div > span')` ... selects all elements named `<span>` that are directly within an element named `<div>`, with no other element in between\n",
    "  * `soup.select('input[name]')` ... selects all elements named `<input>` that have a name attribute with any value\n",
    "  * `soup.select('input[type=\"button\"]')` ... selects all elements named `<input>` that have an attribute named type with value button\n",
    "  \n",
    "See more in the documentation: https://www.crummy.com/software/BeautifulSoup/bs4/doc/#css-selectors"
   ]
  },
  {
   "cell_type": "code",
   "execution_count": 38,
   "metadata": {
    "slideshow": {
     "slide_type": "slide"
    }
   },
   "outputs": [
    {
     "name": "stdout",
     "output_type": "stream",
     "text": [
      "1: return type of select() <class 'list'>\n",
      "2: length of the returned list 1\n",
      "3: type of elements in the list <class 'bs4.element.Tag'>\n",
      "4: get text from the element \n",
      "Hello World!\n",
      "You are extremely welcome!\n",
      "5: string representation of an element:  <body>\n",
      "<h1>Hello World!</h1>\n",
      "You are extremely welcome!<br/>\n",
      "<br/>\n",
      "The <a href='\\\"https://github.com/datsoftlyngby/dat4sem2019spring-python-materials\\\"'>Lecture Notes</a>.<br/>\n",
      "<div>\n",
      "<p>paragraph 1</p>\n",
      "<p>and paragraph 2: <span id=\"span01\">This is span 1</span><span id=\"span03\">Second span element</span>\n",
      "<span class=\"red_border\">Here is the third span</span>\n",
      "</p>\n",
      "</div>\n",
      "</body>\n",
      "6: the attributes of the element:  {}\n"
     ]
    }
   ],
   "source": [
    "import bs4\n",
    "\n",
    "\n",
    "with open('./example.html') as f:\n",
    "    example_html = f.read()\n",
    "\n",
    "soup = bs4.BeautifulSoup(example_html, 'html.parser')\n",
    "\n",
    "elems = soup.select('body')\n",
    "\n",
    "#print(soup.prettify())\n",
    "print('1: return type of select()',type(elems))\n",
    "print('2: length of the returned list',len(elems))\n",
    "print('3: type of elements in the list',type(elems[0]))\n",
    "print('4: get text from the element',elems[0].getText()[:40])\n",
    "print('5: string representation of an element: ',str(elems[0]))\n",
    "print('6: the attributes of the element: ',elems[0].attrs)"
   ]
  },
  {
   "cell_type": "code",
   "execution_count": 40,
   "metadata": {
    "slideshow": {
     "slide_type": "slide"
    }
   },
   "outputs": [
    {
     "name": "stdout",
     "output_type": "stream",
     "text": [
      "<p>paragraph 1</p>\n",
      "paragraph 1\n",
      "------------\n",
      "<p>and paragraph 2: <span id=\"span01\">This is span 1</span><span id=\"span03\">Second span element</span>\n",
      "<span class=\"red_border\">Here is the third span</span>\n",
      "</p>\n",
      "and paragraph 2: This is span 1Second span element\n",
      "Here is the third span\n",
      "\n",
      "------------\n"
     ]
    }
   ],
   "source": [
    "p_elems = soup.select('p')\n",
    "\n",
    "for el in p_elems:\n",
    "    print(str(el))\n",
    "    print(el.getText())\n",
    "    print('------------')"
   ]
  },
  {
   "cell_type": "markdown",
   "metadata": {
    "slideshow": {
     "slide_type": "slide"
    }
   },
   "source": [
    "## Getting Data from an Element’s Attributes\n",
    "\n",
    "The `get()` method for Tag objects makes it simple to access attribute values from an element. The method is passed a string of an attribute name and returns that attribute’s value."
   ]
  },
  {
   "cell_type": "code",
   "execution_count": 42,
   "metadata": {
    "slideshow": {
     "slide_type": "slide"
    }
   },
   "outputs": [
    {
     "data": {
      "text/plain": [
       "'lecturer'"
      ]
     },
     "execution_count": 42,
     "metadata": {},
     "output_type": "execute_result"
    }
   ],
   "source": [
    "{'id': 'lecturer'}.get('id', 0)"
   ]
  },
  {
   "cell_type": "code",
   "execution_count": 43,
   "metadata": {
    "slideshow": {
     "slide_type": "slide"
    }
   },
   "outputs": [
    {
     "name": "stdout",
     "output_type": "stream",
     "text": [
      "<span id=\"span01\">This is span 1</span>\n",
      "span01\n",
      "True\n",
      "{'id': 'span01'}\n"
     ]
    }
   ],
   "source": [
    "import bs4\n",
    "\n",
    "with open('./example.html') as f:\n",
    "    example_html = f.read()\n",
    "    \n",
    "soup = bs4.BeautifulSoup(example_html, 'html.parser')\n",
    "# soup.find_all?\n",
    "span_elem = soup.select('span')[0]\n",
    "print(str(span_elem))\n",
    "print(span_elem.get('id'))\n",
    "print(span_elem.get('some_nonexistent_addr') == None)\n",
    "print(span_elem.attrs)"
   ]
  },
  {
   "cell_type": "markdown",
   "metadata": {
    "slideshow": {
     "slide_type": "slide"
    }
   },
   "source": [
    "### What is the difference between the `select` and the `find`/`find_all` functions?\n",
    "\n",
    "You are not the first ones wondering about this... See:\n",
    "https://stackoverflow.com/questions/38028384/beautifulsoup-is-there-a-difference-between-find-and-select-python-3-x#38033910"
   ]
  },
  {
   "cell_type": "markdown",
   "metadata": {
    "slideshow": {
     "slide_type": "slide"
    }
   },
   "source": [
    "# Example Scraping Events from a Page\n",
    "\n",
    "\n",
    "Ususally, you will use web scraping to collect information, which you cannot gather otherwise. \n",
    "For example, let's imagine we want to do some statistics about:\n",
    "- concerts in Copenhagen, \n",
    "- their start times and \n",
    "- their door prices.\n",
    "\n",
    "Since we cannot find an API or any other open dataset, we decide to scrape the publicly available homepage www.kultunaut.dk, \n",
    "\n",
    "The website lists all possible events in Denmark. \n",
    "Concerts in Copenhagen are for example accessible here: \n",
    "- http://www.kultunaut.dk/perl/arrlist/type-nynaut/UK?showmap=&Area=Kbh.+og+Frederiksberg&periode=&Genre=Musik\n",
    "\n",
    "**OBS** Many web pages are not built to support high traffic or they exlicitely discourage automatic access. Keep this in mind when writing your scraping tool.\n",
    "- from time import sleep\n",
    "- sleep(3) # sleep 3 seconds\n",
    "\n",
    "\n",
    "Considering our example:\n",
    "- we have to first figure out how many events there are at all. \n",
    "- We need this information, as events are given paginated, i.e., twenty events per page.\n",
    "- The link given above only returns the link to the first page with the first twenty events. \n",
    "- Out of the total amount of events we can generate the URLs for the subsequent results."
   ]
  },
  {
   "cell_type": "code",
   "execution_count": 1,
   "metadata": {
    "slideshow": {
     "slide_type": "slide"
    }
   },
   "outputs": [
    {
     "name": "stdout",
     "output_type": "stream",
     "text": [
      "1282\n"
     ]
    }
   ],
   "source": [
    "import bs4\n",
    "import requests\n",
    "\n",
    "\n",
    "r = requests.get('http://www.kultunaut.dk/perl/arrlist/type-nynaut/UK?showmap=&Area=Kbh.+og+Frederiksberg&periode=&Genre=Musik')\n",
    "r.raise_for_status\n",
    "soup = bs4.BeautifulSoup(r.text, 'html.parser')\n",
    "\n",
    "elems = soup.find_all('td', {'style': 'background-color:#CBDCEE;color:#324669'})\n",
    "number = int(str(elems[0]).split(' ')[4].split('\\n')[0])\n",
    "\n",
    "print(number)"
   ]
  },
  {
   "cell_type": "code",
   "execution_count": 45,
   "metadata": {
    "slideshow": {
     "slide_type": "slide"
    }
   },
   "outputs": [
    {
     "name": "stdout",
     "output_type": "stream",
     "text": [
      "<b>Showing 1-20 of 1294\r\n",
      "events  in Cph. and Frederiksberg <span style=\"white-space: nowrap;\"> from/after 26 Mar 2019</span> </b>\n"
     ]
    }
   ],
   "source": [
    "r = requests.get('http://www.kultunaut.dk/perl/arrlist/type-nynaut/UK?showmap=&Area=Kbh.+og+Frederiksberg&periode=&Genre=Musik')\n",
    "r.raise_for_status()\n",
    "soup = bs4.BeautifulSoup(r.text, 'html.parser')\n",
    "\n",
    "elems = soup.find_all('td', attrs={'style': 'background-color:#CBDCEE;color:#324669'})[0].find('b')\n",
    "print(elems)"
   ]
  },
  {
   "cell_type": "markdown",
   "metadata": {},
   "source": [
    "### Looking at the browser inspector pane:\n",
    "\n",
    "<img src=\"images/inspect_element.png\" width=\"500\">\n",
    "\n",
    "We can see that the desired element is hiding in a structure like: a b-tag inside a h3-tag inside a td-tag or:\n",
    "- `('td h3 b')`"
   ]
  },
  {
   "cell_type": "code",
   "execution_count": 47,
   "metadata": {
    "slideshow": {
     "slide_type": "slide"
    }
   },
   "outputs": [
    {
     "name": "stdout",
     "output_type": "stream",
     "text": [
      "number of events is 20\n",
      "Nedenunder: Underwxlrd Showcase #2 + After Party.\n",
      "Odense Symfoniorkester: Clarinet.\n",
      "Odense Symfoniorkester: Flute.\n",
      "Aarhus International Piano Competition.\n",
      "Erindringsdans.\n",
      "Lunchkonsert.\n",
      "I and You.\n",
      "John Mogensen Live Duo.\n",
      "Aarhus International Piano Competition.\n",
      "Forårsfestival: Museumskoncert.\n",
      "Morten Grønvad The End.\n",
      "Orgel-musikkens kvarter.\n",
      "Fredagsbaren.\n",
      "Sebastian Klein - Mer' styr på dyr!\n",
      "Fyraftenskoncert.\n",
      "Fredagskoncert: Rued Langgaard.\n",
      "Den blå time.\n",
      "Wave Blues Band ( Fyraftens Jazz ).\n",
      "Vicious Rock Indoors 2019.\n",
      "Koncert med Stepp2 og fernisering på udstilling med Wiliam Skotte Olsen m.fl.\n"
     ]
    }
   ],
   "source": [
    "import bs4\n",
    "import requests\n",
    "html = requests.get('http://www.kultunaut.dk/perl/arrlist/type-nynaut?Area=&ArrStartday=22&ArrStartmonth=Marts&ArrStartyear=2019&ArrSlutday=29&ArrSlutmonth=Marts&ArrSlutyear=2019&ArrMaalgruppe=&DefaultGenre=Musik&ArrKunstner=')\n",
    "txt = html.text\n",
    "soup = bs4.BeautifulSoup(txt, 'html.parser')\n",
    "events = soup.select('td h3 b')\n",
    "print('number of events is {}'.format(len(events)))\n",
    "for e in events:\n",
    "    print(e.getText())"
   ]
  },
  {
   "cell_type": "code",
   "execution_count": 11,
   "metadata": {},
   "outputs": [
    {
     "name": "stdout",
     "output_type": "stream",
     "text": [
      "<!DOCTYPE html>\n",
      "<html lang=\"en\">\n",
      " <!-- Initalize title and data source variables -->\n",
      " <head>\n",
      "  <!--\n",
      "\n",
      "------------------------\n",
      "/\n",
      "#explanation\n",
      "https://analytics.usa.gov/data/\n",
      "data/\n",
      "#top-pages-realtime\n",
      "#top-pages-7-days\n",
      "#top-pages-30-days\n",
      "https://analytics.usa.gov/data/live/all-pages-realtime.csv\n",
      "https://analytics.usa.gov/data/live/all-domains-30-days.csv\n",
      "https://www.digitalgov.gov/services/dap/\n",
      "https://www.digitalgov.gov/services/dap/common-questions-about-dap-faq/#part-4\n",
      "https://support.google.com/analytics/answer/2763052?hl=en\n",
      "https://analytics.usa.gov/data/live/second-level-domains.csv\n",
      "https://analytics.usa.gov/data/live/sites.csv\n",
      "mailto:DAP@support.digitalgov.gov\n",
      "https://analytics.usa.gov/data/\n",
      "https://analytics.usa.gov/developer\n",
      "mailto:DAP@support.digitalgov.gov\n",
      "https://github.com/GSA/analytics.usa.gov/issues\n",
      "https://github.com/GSA/analytics.usa.gov\n",
      "https://github.com/18F/analytics-reporter\n",
      "http://www.gsa.gov/\n",
      "https://www.digitalgov.gov/services/dap/\n",
      "https://cloud.gov/\n"
     ]
    }
   ],
   "source": [
    "import requests\n",
    "from bs4 import BeautifulSoup\n",
    "gov = requests.get('https://analytics.usa.gov')\n",
    "soup = BeautifulSoup(gov.text, 'lxml')\n",
    "print(soup.prettify()[:100])\n",
    "print('------------------------')\n",
    "for link in soup.find_all('a'):\n",
    "    print(link.get('href'))"
   ]
  },
  {
   "cell_type": "code",
   "execution_count": 41,
   "metadata": {
    "scrolled": true,
    "slideshow": {
     "slide_type": "slide"
    }
   },
   "outputs": [
    {
     "name": "stdout",
     "output_type": "stream",
     "text": [
      "Showing 1-20 of 1310\r\n",
      "events  in Cph. and Frederiksberg  from/after 22 Mar 2019  <class 'str'>\n",
      "1310\n"
     ]
    }
   ],
   "source": [
    "r = requests.get('http://www.kultunaut.dk/perl/arrlist/type-nynaut/UK?showmap=&Area=Kbh.+og+Frederiksberg&periode=&Genre=Musik')\n",
    "r.raise_for_status()\n",
    "soup = bs4.BeautifulSoup(r.text, 'html.parser')\n",
    "\n",
    "elems = soup.find_all('td', attrs={'style': 'background-color:#CBDCEE;color:#324669'})[0].find('b')\n",
    "print(elems.text, type(elems.text))\n",
    "no_events = elems.text.split(' ')[3].split('\\r')[0]\n",
    "no_events = int(no_events)\n",
    "print(no_events)"
   ]
  },
  {
   "cell_type": "markdown",
   "metadata": {
    "slideshow": {
     "slide_type": "slide"
    }
   },
   "source": [
    "Now, we can scrape the events per page. Observe, that now, out `base_url` http://www.kultunaut.dk/perl/arrlist/type-nynaut/UK?Startnr={}&showmap=&Area=Kbh.%20og%20Frederiksberg&periode=&Genre=Musik& has a placeholder for the paginated results (`Startnr=`).\n",
    "\n",
    "Consequently, we scrape each page separately, see the function on the next slide: `scrape_events_per_page`. From examining the page's source code, we know that events are all given as table entries with a corresponding header. We iterate over each of the table cells and extract the strings for dates and prices if they exist."
   ]
  },
  {
   "cell_type": "code",
   "execution_count": 51,
   "metadata": {
    "slideshow": {
     "slide_type": "slide"
    }
   },
   "outputs": [
    {
     "name": "stderr",
     "output_type": "stream",
     "text": [
      " 80%|████████  | 53/66 [00:48<00:11,  1.09it/s]"
     ]
    },
    {
     "name": "stdout",
     "output_type": "stream",
     "text": [
      "list index out of range\n"
     ]
    },
    {
     "name": "stderr",
     "output_type": "stream",
     "text": [
      "100%|██████████| 66/66 [01:02<00:00,  1.18s/it]\n"
     ]
    }
   ],
   "source": [
    "from tqdm import tqdm\n",
    "\n",
    "    \n",
    "def scrape_events_per_page(url):\n",
    "    \"\"\"\n",
    "    returns:\n",
    "        A list of tuples of strings holding title, place, date, and price\n",
    "        for concerts in Copenhagen scraped from Kulturnaut.dk\n",
    "    \"\"\"\n",
    "    r = requests.get(url)\n",
    "    r.raise_for_status()\n",
    "\n",
    "    soup = bs4.BeautifulSoup(r.text, 'html.parser')\n",
    "    event_cells = soup.find_all('td', {'width': '100%', 'valign' : 'top'})\n",
    "    scraped_events_per_page = []\n",
    "    \n",
    "    for event_cell in event_cells:\n",
    "        try:\n",
    "            title = event_cell.find('b').text\n",
    "            spans = event_cell.find_all('span')\n",
    "            place = spans[1].text\n",
    "            try:\n",
    "                date, price = spans[0].text.splitlines()\n",
    "            except ValueError as e:\n",
    "                date = spans[0].text.splitlines()[0]\n",
    "                price = ''\n",
    "        except Exception as e:\n",
    "            print(e)\n",
    "            \n",
    "        scraped_events_per_page.append((title, place, date, price))\n",
    "        \n",
    "    return scraped_events_per_page\n",
    "\n",
    "\n",
    "base_url = 'http://www.kultunaut.dk/perl/arrlist/type-nynaut/UK?Startnr={}&showmap=&Area=Kbh.%20og%20Frederiksberg&periode=&Genre=Musik&'\n",
    "\n",
    "scraped_events = []\n",
    "indexes = list(range(1, no_events, 20))\n",
    "indexes[0] = 0\n",
    "\n",
    "for idx in tqdm(indexes):\n",
    "    scrape_url = base_url.format(idx)\n",
    "    scraped_events += scrape_events_per_page(scrape_url)"
   ]
  },
  {
   "cell_type": "markdown",
   "metadata": {
    "slideshow": {
     "slide_type": "slide"
    }
   },
   "source": [
    "### What do we have so far?\n",
    "\n",
    "Now, you can see that we extracted a list of four element string tuples consisting of the title of the event, its location, a date and a time, and an entrance fee."
   ]
  },
  {
   "cell_type": "code",
   "execution_count": 47,
   "metadata": {
    "slideshow": {
     "slide_type": "slide"
    }
   },
   "outputs": [
    {
     "data": {
      "text/plain": [
       "[('Nedenunder: Underwxlrd Showcase #2 + After Party.',\n",
       "  'Rust, Guldbergsgade 8, Copenhagen N',\n",
       "  'Fri 22 March 2019, kl. 00.',\n",
       "  ''),\n",
       " ('Morten Grønvad The End.',\n",
       "  'Jazzcup, Gothersgade 107, Copenhagen K',\n",
       "  'Fri 22 March 2019, 3.30 pm.',\n",
       "  '(Entrance fee: 120,- (100,-))'),\n",
       " ('Orgel-musikkens kvarter.',\n",
       "  'Kristkirken, Enghave Plads 18, Copenhagen V',\n",
       "  'Fri 22 March 2019, 4 pm.',\n",
       "  ''),\n",
       " ('Fredagskoncert: Rued Langgaard.',\n",
       "  'Trinitatis Kirke, Landemærket 2, Copenhagen K',\n",
       "  'Fri 22 March 2019, 4.30 pm  - 5.30 pm.',\n",
       "  ''),\n",
       " ('Wave Blues Band ( Fyraftens Jazz ).',\n",
       "  'Drop Inn, Kompagnistræde 34, Copenhagen K',\n",
       "  'Fri 22 March 2019, 4.30 pm  - 7.30 pm.',\n",
       "  '(Free admission)'),\n",
       " ('Thirst For You Gospel Workshop.',\n",
       "  'Timotheuskirken, Christen Bergs Allé 5, Valby',\n",
       "  'Fri 22 March 2019, 5.30 pm.',\n",
       "  '(Entrance fee: 129.50 DKK)'),\n",
       " ('Friday Rituals feat. Bryld & Haack.',\n",
       "  'Brochner Hotels - SP34, Sankt Peders Stræde 34, Copenhagen K',\n",
       "  'Fri 22 March 2019, 6 pm  - 7 pm.',\n",
       "  '(Free admission)'),\n",
       " ('Heart Flow Worldwides fødselsdag.',\n",
       "  'Center for Levende Teosofi, Sankt Peders Stræde 27 B, 3.sal, Copenhagen K',\n",
       "  'Fri 22 March 2019, 7 pm.',\n",
       "  '(Free admission)'),\n",
       " ('Viseaften, tema: Cornelis Vreeswijk.',\n",
       "  'Kulturhuset Pilegården, Brønshøjvej 17, Brønshøj',\n",
       "  'Fri 22 March 2019, 7 pm.',\n",
       "  '(Entrance fee: medl. DKK.40,- gæster DKK.70,-)'),\n",
       " ('Viseaften v/Visens Venner: Cornelis Vreeswijk.',\n",
       "  'Kulturhuset Pilegården, Brønshøjvej 17, Brønshøj',\n",
       "  'Fri 22 March 2019, 7 pm  - 10 pm.',\n",
       "  '(Entrance fee: 70 DKK.)'),\n",
       " ('Kammerkoncert i Rundetaarn.',\n",
       "  'Rundetaarn - Bibliotekssalen, Copenhagen K',\n",
       "  'Fri 22 March 2019, 7.30 pm.',\n",
       "  '(Entrance fee: 100 DKKoner, for unge under 25 år dog 50 DKKoner)'),\n",
       " (\"Robert Burns' roots in the origin of Scots and its folklore.\",\n",
       "  'Metronomen, Godthåbsvej 33, Frederiksberg',\n",
       "  'Fri 22 March 2019, 7.30 pm.',\n",
       "  '(Entrance fee: 40. DKK.)'),\n",
       " (\"I'm With Her.\",\n",
       "  'Christians Kirke, Strandgade 1, Copenhagen K',\n",
       "  'Fri 22 March 2019, 8 pm.',\n",
       "  ''),\n",
       " ('Redwolves album release party (+ Sort Skærm).',\n",
       "  'Lygten Station, Lygten 2, Copenhagen NV',\n",
       "  'Fri 22 March 2019, 8 pm.',\n",
       "  '(Entrance fee: 50)'),\n",
       " ('Karl William (dk) - Få Billetter.',\n",
       "  'VEGA, Enghavevej 40, Copenhagen V',\n",
       "  'Fri 22 March 2019, 8 pm.',\n",
       "  '(Entrance fee: 250,00 DKK)'),\n",
       " ('Cancer Bats (can) - Få Billetter.',\n",
       "  'Hotel Cecil, Niels Hemmingsens Gade 10, Copenhagen K',\n",
       "  'Fri 22 March 2019, 8 pm.',\n",
       "  '(Entrance fee: 195,00 DKK)'),\n",
       " ('Milonga med Quinteto Silbando.',\n",
       "  'Dansekapellet, Bispebjerg Torv 1, Copenhagen NV',\n",
       "  'Fri 22 March 2019, 8 pm.',\n",
       "  '(Entrance fee: nu fast pris på DKK.150 150 DKK, efter den 01 februar 185 DKK)'),\n",
       " ('Louise Brüel Band.',\n",
       "  'K-I-B, Kulturhuset Islands Brygge, Islands Brygge 18, Copenhagen S',\n",
       "  'Fri 22 March 2019, 8.30 pm  - 11 pm.',\n",
       "  '(Entrance fee: 80 DKK. + gebyr / 100 DKK. i dørsalg)'),\n",
       " ('Bogfinkevej (dk) - Udsolgt.',\n",
       "  'VEGA, Enghavevej 40, Copenhagen V',\n",
       "  'Fri 22 March 2019, 9 pm.',\n",
       "  '(Entrance fee: 185,00 DKK)'),\n",
       " ('Madrugada (N).',\n",
       "  'Amager Bio, Øresundsvej 6, Copenhagen S',\n",
       "  'Fri 22 March 2019, 9 pm.',\n",
       "  '(Entrance fee: 295,00 DKK)')]"
      ]
     },
     "execution_count": 47,
     "metadata": {},
     "output_type": "execute_result"
    }
   ],
   "source": [
    "scraped_events[:20]"
   ]
  },
  {
   "cell_type": "markdown",
   "metadata": {
    "slideshow": {
     "slide_type": "slide"
    }
   },
   "source": [
    "### How to Extract Dates and Prices from Strings.\n",
    "\n",
    "Remember, the raw data, which we extracted from the web pages is all of type `str`. To do statistics about possible correlation of start times and entry fees, we need to convert the corresponding tuple fields into datetimes and integers respectively.\n",
    "\n",
    "\n",
    "Since dates given on the web do not necessarily conform to standardized time formats, we can apply the `dateparser` (https://pypi.python.org/pypi/dateparser) module, which tries to parse arbitrary strings into datetimes.\n",
    "\n",
    "You can install the module via:\n",
    "\n",
    "```bash\n",
    "pip install dateparser\n",
    "```\n",
    "\n",
    "You can read more about the module and its capabilities https://dateparser.readthedocs.io/en/latest/."
   ]
  },
  {
   "cell_type": "code",
   "execution_count": null,
   "metadata": {},
   "outputs": [],
   "source": [
    "%%bash\n",
    "pip install dateparser"
   ]
  },
  {
   "cell_type": "code",
   "execution_count": 51,
   "metadata": {
    "scrolled": true,
    "slideshow": {
     "slide_type": "slide"
    }
   },
   "outputs": [
    {
     "name": "stderr",
     "output_type": "stream",
     "text": [
      "100%|██████████| 1310/1310 [03:23<00:00,  6.43it/s] \n"
     ]
    }
   ],
   "source": [
    "from tqdm import tqdm\n",
    "from dateparser import parse\n",
    "\n",
    "\n",
    "def get_dates_and_prices(scraped_events):\n",
    "    \"\"\"\n",
    "    Cleanup the data. Get price as integer and date as date.\n",
    "    \n",
    "    returns:\n",
    "        A two-element tuple with a datetime representing the start \n",
    "        time of an event and an integer representing the price in Dkk.\n",
    "    \"\"\"\n",
    "\n",
    "    price_regexp = r\"(?P<price>\\d+)\" #initial ? is a lookbehind. r() r is for raw text, P<some pattern> is to give a pattern name to refer to. \\d is numeric digit, + is for 1 or more.\n",
    "\n",
    "    data_points = []\n",
    "\n",
    "    for event_data in tqdm(scraped_events):\n",
    "        title_str, place_str, date_str, price_str = event_data\n",
    "        \n",
    "        if 'Free admission' in price_str:\n",
    "            price = 0\n",
    "        else:\n",
    "            m = re.search(price_regexp, price_str) # m is the Match object returned from re.search (might be None)\n",
    "            try:\n",
    "                price = int(m.group('price')) # if price can be converted to in then we do it else return 0.\n",
    "            except:\n",
    "                price = 0\n",
    "\n",
    "        date_str = date_str.strip().strip('.')\n",
    "        if '&' in date_str:\n",
    "            date_str = date_str.split('&')[0]\n",
    "        if '-' in date_str:\n",
    "            date_str = date_str.split('-')[0]\n",
    "        if '.' in date_str:\n",
    "            date_str = date_str.replace('.', ':')\n",
    "        \n",
    "        date = parse(date_str)\n",
    "        if date:\n",
    "            data_points.append((date, price))\n",
    "            \n",
    "    return data_points\n",
    "\n",
    "\n",
    "dates_and_prices = get_dates_and_prices(scraped_events)"
   ]
  },
  {
   "cell_type": "code",
   "execution_count": 52,
   "metadata": {
    "slideshow": {
     "slide_type": "slide"
    }
   },
   "outputs": [
    {
     "data": {
      "text/plain": [
       "[(datetime.datetime(2019, 3, 26, 20, 0), 110),\n",
       " (datetime.datetime(2019, 3, 26, 20, 0), 160),\n",
       " (datetime.datetime(2019, 3, 26, 20, 0), 130),\n",
       " (datetime.datetime(2019, 3, 26, 20, 0), 0),\n",
       " (datetime.datetime(2019, 3, 26, 20, 0), 80),\n",
       " (datetime.datetime(2019, 3, 26, 20, 15), 50),\n",
       " (datetime.datetime(2019, 3, 26, 21, 0), 0),\n",
       " (datetime.datetime(2019, 3, 27, 8, 30), 0),\n",
       " (datetime.datetime(2019, 3, 27, 17, 0), 0),\n",
       " (datetime.datetime(2019, 3, 27, 17, 0), 0)]"
      ]
     },
     "execution_count": 52,
     "metadata": {},
     "output_type": "execute_result"
    }
   ],
   "source": [
    "dates_and_prices[10:20]"
   ]
  },
  {
   "cell_type": "markdown",
   "metadata": {
    "slideshow": {
     "slide_type": "slide"
    }
   },
   "source": [
    "### Plotting Times vs. Prices"
   ]
  },
  {
   "cell_type": "code",
   "execution_count": 57,
   "metadata": {
    "slideshow": {
     "slide_type": "slide"
    }
   },
   "outputs": [
    {
     "data": {
      "application/javascript": [
       "/* Put everything inside the global mpl namespace */\n",
       "window.mpl = {};\n",
       "\n",
       "\n",
       "mpl.get_websocket_type = function() {\n",
       "    if (typeof(WebSocket) !== 'undefined') {\n",
       "        return WebSocket;\n",
       "    } else if (typeof(MozWebSocket) !== 'undefined') {\n",
       "        return MozWebSocket;\n",
       "    } else {\n",
       "        alert('Your browser does not have WebSocket support.' +\n",
       "              'Please try Chrome, Safari or Firefox ≥ 6. ' +\n",
       "              'Firefox 4 and 5 are also supported but you ' +\n",
       "              'have to enable WebSockets in about:config.');\n",
       "    };\n",
       "}\n",
       "\n",
       "mpl.figure = function(figure_id, websocket, ondownload, parent_element) {\n",
       "    this.id = figure_id;\n",
       "\n",
       "    this.ws = websocket;\n",
       "\n",
       "    this.supports_binary = (this.ws.binaryType != undefined);\n",
       "\n",
       "    if (!this.supports_binary) {\n",
       "        var warnings = document.getElementById(\"mpl-warnings\");\n",
       "        if (warnings) {\n",
       "            warnings.style.display = 'block';\n",
       "            warnings.textContent = (\n",
       "                \"This browser does not support binary websocket messages. \" +\n",
       "                    \"Performance may be slow.\");\n",
       "        }\n",
       "    }\n",
       "\n",
       "    this.imageObj = new Image();\n",
       "\n",
       "    this.context = undefined;\n",
       "    this.message = undefined;\n",
       "    this.canvas = undefined;\n",
       "    this.rubberband_canvas = undefined;\n",
       "    this.rubberband_context = undefined;\n",
       "    this.format_dropdown = undefined;\n",
       "\n",
       "    this.image_mode = 'full';\n",
       "\n",
       "    this.root = $('<div/>');\n",
       "    this._root_extra_style(this.root)\n",
       "    this.root.attr('style', 'display: inline-block');\n",
       "\n",
       "    $(parent_element).append(this.root);\n",
       "\n",
       "    this._init_header(this);\n",
       "    this._init_canvas(this);\n",
       "    this._init_toolbar(this);\n",
       "\n",
       "    var fig = this;\n",
       "\n",
       "    this.waiting = false;\n",
       "\n",
       "    this.ws.onopen =  function () {\n",
       "            fig.send_message(\"supports_binary\", {value: fig.supports_binary});\n",
       "            fig.send_message(\"send_image_mode\", {});\n",
       "            if (mpl.ratio != 1) {\n",
       "                fig.send_message(\"set_dpi_ratio\", {'dpi_ratio': mpl.ratio});\n",
       "            }\n",
       "            fig.send_message(\"refresh\", {});\n",
       "        }\n",
       "\n",
       "    this.imageObj.onload = function() {\n",
       "            if (fig.image_mode == 'full') {\n",
       "                // Full images could contain transparency (where diff images\n",
       "                // almost always do), so we need to clear the canvas so that\n",
       "                // there is no ghosting.\n",
       "                fig.context.clearRect(0, 0, fig.canvas.width, fig.canvas.height);\n",
       "            }\n",
       "            fig.context.drawImage(fig.imageObj, 0, 0);\n",
       "        };\n",
       "\n",
       "    this.imageObj.onunload = function() {\n",
       "        fig.ws.close();\n",
       "    }\n",
       "\n",
       "    this.ws.onmessage = this._make_on_message_function(this);\n",
       "\n",
       "    this.ondownload = ondownload;\n",
       "}\n",
       "\n",
       "mpl.figure.prototype._init_header = function() {\n",
       "    var titlebar = $(\n",
       "        '<div class=\"ui-dialog-titlebar ui-widget-header ui-corner-all ' +\n",
       "        'ui-helper-clearfix\"/>');\n",
       "    var titletext = $(\n",
       "        '<div class=\"ui-dialog-title\" style=\"width: 100%; ' +\n",
       "        'text-align: center; padding: 3px;\"/>');\n",
       "    titlebar.append(titletext)\n",
       "    this.root.append(titlebar);\n",
       "    this.header = titletext[0];\n",
       "}\n",
       "\n",
       "\n",
       "\n",
       "mpl.figure.prototype._canvas_extra_style = function(canvas_div) {\n",
       "\n",
       "}\n",
       "\n",
       "\n",
       "mpl.figure.prototype._root_extra_style = function(canvas_div) {\n",
       "\n",
       "}\n",
       "\n",
       "mpl.figure.prototype._init_canvas = function() {\n",
       "    var fig = this;\n",
       "\n",
       "    var canvas_div = $('<div/>');\n",
       "\n",
       "    canvas_div.attr('style', 'position: relative; clear: both; outline: 0');\n",
       "\n",
       "    function canvas_keyboard_event(event) {\n",
       "        return fig.key_event(event, event['data']);\n",
       "    }\n",
       "\n",
       "    canvas_div.keydown('key_press', canvas_keyboard_event);\n",
       "    canvas_div.keyup('key_release', canvas_keyboard_event);\n",
       "    this.canvas_div = canvas_div\n",
       "    this._canvas_extra_style(canvas_div)\n",
       "    this.root.append(canvas_div);\n",
       "\n",
       "    var canvas = $('<canvas/>');\n",
       "    canvas.addClass('mpl-canvas');\n",
       "    canvas.attr('style', \"left: 0; top: 0; z-index: 0; outline: 0\")\n",
       "\n",
       "    this.canvas = canvas[0];\n",
       "    this.context = canvas[0].getContext(\"2d\");\n",
       "\n",
       "    var backingStore = this.context.backingStorePixelRatio ||\n",
       "\tthis.context.webkitBackingStorePixelRatio ||\n",
       "\tthis.context.mozBackingStorePixelRatio ||\n",
       "\tthis.context.msBackingStorePixelRatio ||\n",
       "\tthis.context.oBackingStorePixelRatio ||\n",
       "\tthis.context.backingStorePixelRatio || 1;\n",
       "\n",
       "    mpl.ratio = (window.devicePixelRatio || 1) / backingStore;\n",
       "\n",
       "    var rubberband = $('<canvas/>');\n",
       "    rubberband.attr('style', \"position: absolute; left: 0; top: 0; z-index: 1;\")\n",
       "\n",
       "    var pass_mouse_events = true;\n",
       "\n",
       "    canvas_div.resizable({\n",
       "        start: function(event, ui) {\n",
       "            pass_mouse_events = false;\n",
       "        },\n",
       "        resize: function(event, ui) {\n",
       "            fig.request_resize(ui.size.width, ui.size.height);\n",
       "        },\n",
       "        stop: function(event, ui) {\n",
       "            pass_mouse_events = true;\n",
       "            fig.request_resize(ui.size.width, ui.size.height);\n",
       "        },\n",
       "    });\n",
       "\n",
       "    function mouse_event_fn(event) {\n",
       "        if (pass_mouse_events)\n",
       "            return fig.mouse_event(event, event['data']);\n",
       "    }\n",
       "\n",
       "    rubberband.mousedown('button_press', mouse_event_fn);\n",
       "    rubberband.mouseup('button_release', mouse_event_fn);\n",
       "    // Throttle sequential mouse events to 1 every 20ms.\n",
       "    rubberband.mousemove('motion_notify', mouse_event_fn);\n",
       "\n",
       "    rubberband.mouseenter('figure_enter', mouse_event_fn);\n",
       "    rubberband.mouseleave('figure_leave', mouse_event_fn);\n",
       "\n",
       "    canvas_div.on(\"wheel\", function (event) {\n",
       "        event = event.originalEvent;\n",
       "        event['data'] = 'scroll'\n",
       "        if (event.deltaY < 0) {\n",
       "            event.step = 1;\n",
       "        } else {\n",
       "            event.step = -1;\n",
       "        }\n",
       "        mouse_event_fn(event);\n",
       "    });\n",
       "\n",
       "    canvas_div.append(canvas);\n",
       "    canvas_div.append(rubberband);\n",
       "\n",
       "    this.rubberband = rubberband;\n",
       "    this.rubberband_canvas = rubberband[0];\n",
       "    this.rubberband_context = rubberband[0].getContext(\"2d\");\n",
       "    this.rubberband_context.strokeStyle = \"#000000\";\n",
       "\n",
       "    this._resize_canvas = function(width, height) {\n",
       "        // Keep the size of the canvas, canvas container, and rubber band\n",
       "        // canvas in synch.\n",
       "        canvas_div.css('width', width)\n",
       "        canvas_div.css('height', height)\n",
       "\n",
       "        canvas.attr('width', width * mpl.ratio);\n",
       "        canvas.attr('height', height * mpl.ratio);\n",
       "        canvas.attr('style', 'width: ' + width + 'px; height: ' + height + 'px;');\n",
       "\n",
       "        rubberband.attr('width', width);\n",
       "        rubberband.attr('height', height);\n",
       "    }\n",
       "\n",
       "    // Set the figure to an initial 600x600px, this will subsequently be updated\n",
       "    // upon first draw.\n",
       "    this._resize_canvas(600, 600);\n",
       "\n",
       "    // Disable right mouse context menu.\n",
       "    $(this.rubberband_canvas).bind(\"contextmenu\",function(e){\n",
       "        return false;\n",
       "    });\n",
       "\n",
       "    function set_focus () {\n",
       "        canvas.focus();\n",
       "        canvas_div.focus();\n",
       "    }\n",
       "\n",
       "    window.setTimeout(set_focus, 100);\n",
       "}\n",
       "\n",
       "mpl.figure.prototype._init_toolbar = function() {\n",
       "    var fig = this;\n",
       "\n",
       "    var nav_element = $('<div/>')\n",
       "    nav_element.attr('style', 'width: 100%');\n",
       "    this.root.append(nav_element);\n",
       "\n",
       "    // Define a callback function for later on.\n",
       "    function toolbar_event(event) {\n",
       "        return fig.toolbar_button_onclick(event['data']);\n",
       "    }\n",
       "    function toolbar_mouse_event(event) {\n",
       "        return fig.toolbar_button_onmouseover(event['data']);\n",
       "    }\n",
       "\n",
       "    for(var toolbar_ind in mpl.toolbar_items) {\n",
       "        var name = mpl.toolbar_items[toolbar_ind][0];\n",
       "        var tooltip = mpl.toolbar_items[toolbar_ind][1];\n",
       "        var image = mpl.toolbar_items[toolbar_ind][2];\n",
       "        var method_name = mpl.toolbar_items[toolbar_ind][3];\n",
       "\n",
       "        if (!name) {\n",
       "            // put a spacer in here.\n",
       "            continue;\n",
       "        }\n",
       "        var button = $('<button/>');\n",
       "        button.addClass('ui-button ui-widget ui-state-default ui-corner-all ' +\n",
       "                        'ui-button-icon-only');\n",
       "        button.attr('role', 'button');\n",
       "        button.attr('aria-disabled', 'false');\n",
       "        button.click(method_name, toolbar_event);\n",
       "        button.mouseover(tooltip, toolbar_mouse_event);\n",
       "\n",
       "        var icon_img = $('<span/>');\n",
       "        icon_img.addClass('ui-button-icon-primary ui-icon');\n",
       "        icon_img.addClass(image);\n",
       "        icon_img.addClass('ui-corner-all');\n",
       "\n",
       "        var tooltip_span = $('<span/>');\n",
       "        tooltip_span.addClass('ui-button-text');\n",
       "        tooltip_span.html(tooltip);\n",
       "\n",
       "        button.append(icon_img);\n",
       "        button.append(tooltip_span);\n",
       "\n",
       "        nav_element.append(button);\n",
       "    }\n",
       "\n",
       "    var fmt_picker_span = $('<span/>');\n",
       "\n",
       "    var fmt_picker = $('<select/>');\n",
       "    fmt_picker.addClass('mpl-toolbar-option ui-widget ui-widget-content');\n",
       "    fmt_picker_span.append(fmt_picker);\n",
       "    nav_element.append(fmt_picker_span);\n",
       "    this.format_dropdown = fmt_picker[0];\n",
       "\n",
       "    for (var ind in mpl.extensions) {\n",
       "        var fmt = mpl.extensions[ind];\n",
       "        var option = $(\n",
       "            '<option/>', {selected: fmt === mpl.default_extension}).html(fmt);\n",
       "        fmt_picker.append(option)\n",
       "    }\n",
       "\n",
       "    // Add hover states to the ui-buttons\n",
       "    $( \".ui-button\" ).hover(\n",
       "        function() { $(this).addClass(\"ui-state-hover\");},\n",
       "        function() { $(this).removeClass(\"ui-state-hover\");}\n",
       "    );\n",
       "\n",
       "    var status_bar = $('<span class=\"mpl-message\"/>');\n",
       "    nav_element.append(status_bar);\n",
       "    this.message = status_bar[0];\n",
       "}\n",
       "\n",
       "mpl.figure.prototype.request_resize = function(x_pixels, y_pixels) {\n",
       "    // Request matplotlib to resize the figure. Matplotlib will then trigger a resize in the client,\n",
       "    // which will in turn request a refresh of the image.\n",
       "    this.send_message('resize', {'width': x_pixels, 'height': y_pixels});\n",
       "}\n",
       "\n",
       "mpl.figure.prototype.send_message = function(type, properties) {\n",
       "    properties['type'] = type;\n",
       "    properties['figure_id'] = this.id;\n",
       "    this.ws.send(JSON.stringify(properties));\n",
       "}\n",
       "\n",
       "mpl.figure.prototype.send_draw_message = function() {\n",
       "    if (!this.waiting) {\n",
       "        this.waiting = true;\n",
       "        this.ws.send(JSON.stringify({type: \"draw\", figure_id: this.id}));\n",
       "    }\n",
       "}\n",
       "\n",
       "\n",
       "mpl.figure.prototype.handle_save = function(fig, msg) {\n",
       "    var format_dropdown = fig.format_dropdown;\n",
       "    var format = format_dropdown.options[format_dropdown.selectedIndex].value;\n",
       "    fig.ondownload(fig, format);\n",
       "}\n",
       "\n",
       "\n",
       "mpl.figure.prototype.handle_resize = function(fig, msg) {\n",
       "    var size = msg['size'];\n",
       "    if (size[0] != fig.canvas.width || size[1] != fig.canvas.height) {\n",
       "        fig._resize_canvas(size[0], size[1]);\n",
       "        fig.send_message(\"refresh\", {});\n",
       "    };\n",
       "}\n",
       "\n",
       "mpl.figure.prototype.handle_rubberband = function(fig, msg) {\n",
       "    var x0 = msg['x0'] / mpl.ratio;\n",
       "    var y0 = (fig.canvas.height - msg['y0']) / mpl.ratio;\n",
       "    var x1 = msg['x1'] / mpl.ratio;\n",
       "    var y1 = (fig.canvas.height - msg['y1']) / mpl.ratio;\n",
       "    x0 = Math.floor(x0) + 0.5;\n",
       "    y0 = Math.floor(y0) + 0.5;\n",
       "    x1 = Math.floor(x1) + 0.5;\n",
       "    y1 = Math.floor(y1) + 0.5;\n",
       "    var min_x = Math.min(x0, x1);\n",
       "    var min_y = Math.min(y0, y1);\n",
       "    var width = Math.abs(x1 - x0);\n",
       "    var height = Math.abs(y1 - y0);\n",
       "\n",
       "    fig.rubberband_context.clearRect(\n",
       "        0, 0, fig.canvas.width, fig.canvas.height);\n",
       "\n",
       "    fig.rubberband_context.strokeRect(min_x, min_y, width, height);\n",
       "}\n",
       "\n",
       "mpl.figure.prototype.handle_figure_label = function(fig, msg) {\n",
       "    // Updates the figure title.\n",
       "    fig.header.textContent = msg['label'];\n",
       "}\n",
       "\n",
       "mpl.figure.prototype.handle_cursor = function(fig, msg) {\n",
       "    var cursor = msg['cursor'];\n",
       "    switch(cursor)\n",
       "    {\n",
       "    case 0:\n",
       "        cursor = 'pointer';\n",
       "        break;\n",
       "    case 1:\n",
       "        cursor = 'default';\n",
       "        break;\n",
       "    case 2:\n",
       "        cursor = 'crosshair';\n",
       "        break;\n",
       "    case 3:\n",
       "        cursor = 'move';\n",
       "        break;\n",
       "    }\n",
       "    fig.rubberband_canvas.style.cursor = cursor;\n",
       "}\n",
       "\n",
       "mpl.figure.prototype.handle_message = function(fig, msg) {\n",
       "    fig.message.textContent = msg['message'];\n",
       "}\n",
       "\n",
       "mpl.figure.prototype.handle_draw = function(fig, msg) {\n",
       "    // Request the server to send over a new figure.\n",
       "    fig.send_draw_message();\n",
       "}\n",
       "\n",
       "mpl.figure.prototype.handle_image_mode = function(fig, msg) {\n",
       "    fig.image_mode = msg['mode'];\n",
       "}\n",
       "\n",
       "mpl.figure.prototype.updated_canvas_event = function() {\n",
       "    // Called whenever the canvas gets updated.\n",
       "    this.send_message(\"ack\", {});\n",
       "}\n",
       "\n",
       "// A function to construct a web socket function for onmessage handling.\n",
       "// Called in the figure constructor.\n",
       "mpl.figure.prototype._make_on_message_function = function(fig) {\n",
       "    return function socket_on_message(evt) {\n",
       "        if (evt.data instanceof Blob) {\n",
       "            /* FIXME: We get \"Resource interpreted as Image but\n",
       "             * transferred with MIME type text/plain:\" errors on\n",
       "             * Chrome.  But how to set the MIME type?  It doesn't seem\n",
       "             * to be part of the websocket stream */\n",
       "            evt.data.type = \"image/png\";\n",
       "\n",
       "            /* Free the memory for the previous frames */\n",
       "            if (fig.imageObj.src) {\n",
       "                (window.URL || window.webkitURL).revokeObjectURL(\n",
       "                    fig.imageObj.src);\n",
       "            }\n",
       "\n",
       "            fig.imageObj.src = (window.URL || window.webkitURL).createObjectURL(\n",
       "                evt.data);\n",
       "            fig.updated_canvas_event();\n",
       "            fig.waiting = false;\n",
       "            return;\n",
       "        }\n",
       "        else if (typeof evt.data === 'string' && evt.data.slice(0, 21) == \"data:image/png;base64\") {\n",
       "            fig.imageObj.src = evt.data;\n",
       "            fig.updated_canvas_event();\n",
       "            fig.waiting = false;\n",
       "            return;\n",
       "        }\n",
       "\n",
       "        var msg = JSON.parse(evt.data);\n",
       "        var msg_type = msg['type'];\n",
       "\n",
       "        // Call the  \"handle_{type}\" callback, which takes\n",
       "        // the figure and JSON message as its only arguments.\n",
       "        try {\n",
       "            var callback = fig[\"handle_\" + msg_type];\n",
       "        } catch (e) {\n",
       "            console.log(\"No handler for the '\" + msg_type + \"' message type: \", msg);\n",
       "            return;\n",
       "        }\n",
       "\n",
       "        if (callback) {\n",
       "            try {\n",
       "                // console.log(\"Handling '\" + msg_type + \"' message: \", msg);\n",
       "                callback(fig, msg);\n",
       "            } catch (e) {\n",
       "                console.log(\"Exception inside the 'handler_\" + msg_type + \"' callback:\", e, e.stack, msg);\n",
       "            }\n",
       "        }\n",
       "    };\n",
       "}\n",
       "\n",
       "// from http://stackoverflow.com/questions/1114465/getting-mouse-location-in-canvas\n",
       "mpl.findpos = function(e) {\n",
       "    //this section is from http://www.quirksmode.org/js/events_properties.html\n",
       "    var targ;\n",
       "    if (!e)\n",
       "        e = window.event;\n",
       "    if (e.target)\n",
       "        targ = e.target;\n",
       "    else if (e.srcElement)\n",
       "        targ = e.srcElement;\n",
       "    if (targ.nodeType == 3) // defeat Safari bug\n",
       "        targ = targ.parentNode;\n",
       "\n",
       "    // jQuery normalizes the pageX and pageY\n",
       "    // pageX,Y are the mouse positions relative to the document\n",
       "    // offset() returns the position of the element relative to the document\n",
       "    var x = e.pageX - $(targ).offset().left;\n",
       "    var y = e.pageY - $(targ).offset().top;\n",
       "\n",
       "    return {\"x\": x, \"y\": y};\n",
       "};\n",
       "\n",
       "/*\n",
       " * return a copy of an object with only non-object keys\n",
       " * we need this to avoid circular references\n",
       " * http://stackoverflow.com/a/24161582/3208463\n",
       " */\n",
       "function simpleKeys (original) {\n",
       "  return Object.keys(original).reduce(function (obj, key) {\n",
       "    if (typeof original[key] !== 'object')\n",
       "        obj[key] = original[key]\n",
       "    return obj;\n",
       "  }, {});\n",
       "}\n",
       "\n",
       "mpl.figure.prototype.mouse_event = function(event, name) {\n",
       "    var canvas_pos = mpl.findpos(event)\n",
       "\n",
       "    if (name === 'button_press')\n",
       "    {\n",
       "        this.canvas.focus();\n",
       "        this.canvas_div.focus();\n",
       "    }\n",
       "\n",
       "    var x = canvas_pos.x * mpl.ratio;\n",
       "    var y = canvas_pos.y * mpl.ratio;\n",
       "\n",
       "    this.send_message(name, {x: x, y: y, button: event.button,\n",
       "                             step: event.step,\n",
       "                             guiEvent: simpleKeys(event)});\n",
       "\n",
       "    /* This prevents the web browser from automatically changing to\n",
       "     * the text insertion cursor when the button is pressed.  We want\n",
       "     * to control all of the cursor setting manually through the\n",
       "     * 'cursor' event from matplotlib */\n",
       "    event.preventDefault();\n",
       "    return false;\n",
       "}\n",
       "\n",
       "mpl.figure.prototype._key_event_extra = function(event, name) {\n",
       "    // Handle any extra behaviour associated with a key event\n",
       "}\n",
       "\n",
       "mpl.figure.prototype.key_event = function(event, name) {\n",
       "\n",
       "    // Prevent repeat events\n",
       "    if (name == 'key_press')\n",
       "    {\n",
       "        if (event.which === this._key)\n",
       "            return;\n",
       "        else\n",
       "            this._key = event.which;\n",
       "    }\n",
       "    if (name == 'key_release')\n",
       "        this._key = null;\n",
       "\n",
       "    var value = '';\n",
       "    if (event.ctrlKey && event.which != 17)\n",
       "        value += \"ctrl+\";\n",
       "    if (event.altKey && event.which != 18)\n",
       "        value += \"alt+\";\n",
       "    if (event.shiftKey && event.which != 16)\n",
       "        value += \"shift+\";\n",
       "\n",
       "    value += 'k';\n",
       "    value += event.which.toString();\n",
       "\n",
       "    this._key_event_extra(event, name);\n",
       "\n",
       "    this.send_message(name, {key: value,\n",
       "                             guiEvent: simpleKeys(event)});\n",
       "    return false;\n",
       "}\n",
       "\n",
       "mpl.figure.prototype.toolbar_button_onclick = function(name) {\n",
       "    if (name == 'download') {\n",
       "        this.handle_save(this, null);\n",
       "    } else {\n",
       "        this.send_message(\"toolbar_button\", {name: name});\n",
       "    }\n",
       "};\n",
       "\n",
       "mpl.figure.prototype.toolbar_button_onmouseover = function(tooltip) {\n",
       "    this.message.textContent = tooltip;\n",
       "};\n",
       "mpl.toolbar_items = [[\"Home\", \"Reset original view\", \"fa fa-home icon-home\", \"home\"], [\"Back\", \"Back to previous view\", \"fa fa-arrow-left icon-arrow-left\", \"back\"], [\"Forward\", \"Forward to next view\", \"fa fa-arrow-right icon-arrow-right\", \"forward\"], [\"\", \"\", \"\", \"\"], [\"Pan\", \"Pan axes with left mouse, zoom with right\", \"fa fa-arrows icon-move\", \"pan\"], [\"Zoom\", \"Zoom to rectangle\", \"fa fa-square-o icon-check-empty\", \"zoom\"], [\"\", \"\", \"\", \"\"], [\"Download\", \"Download plot\", \"fa fa-floppy-o icon-save\", \"download\"]];\n",
       "\n",
       "mpl.extensions = [\"eps\", \"pdf\", \"png\", \"ps\", \"raw\", \"svg\"];\n",
       "\n",
       "mpl.default_extension = \"png\";var comm_websocket_adapter = function(comm) {\n",
       "    // Create a \"websocket\"-like object which calls the given IPython comm\n",
       "    // object with the appropriate methods. Currently this is a non binary\n",
       "    // socket, so there is still some room for performance tuning.\n",
       "    var ws = {};\n",
       "\n",
       "    ws.close = function() {\n",
       "        comm.close()\n",
       "    };\n",
       "    ws.send = function(m) {\n",
       "        //console.log('sending', m);\n",
       "        comm.send(m);\n",
       "    };\n",
       "    // Register the callback with on_msg.\n",
       "    comm.on_msg(function(msg) {\n",
       "        //console.log('receiving', msg['content']['data'], msg);\n",
       "        // Pass the mpl event to the overridden (by mpl) onmessage function.\n",
       "        ws.onmessage(msg['content']['data'])\n",
       "    });\n",
       "    return ws;\n",
       "}\n",
       "\n",
       "mpl.mpl_figure_comm = function(comm, msg) {\n",
       "    // This is the function which gets called when the mpl process\n",
       "    // starts-up an IPython Comm through the \"matplotlib\" channel.\n",
       "\n",
       "    var id = msg.content.data.id;\n",
       "    // Get hold of the div created by the display call when the Comm\n",
       "    // socket was opened in Python.\n",
       "    var element = $(\"#\" + id);\n",
       "    var ws_proxy = comm_websocket_adapter(comm)\n",
       "\n",
       "    function ondownload(figure, format) {\n",
       "        window.open(figure.imageObj.src);\n",
       "    }\n",
       "\n",
       "    var fig = new mpl.figure(id, ws_proxy,\n",
       "                           ondownload,\n",
       "                           element.get(0));\n",
       "\n",
       "    // Call onopen now - mpl needs it, as it is assuming we've passed it a real\n",
       "    // web socket which is closed, not our websocket->open comm proxy.\n",
       "    ws_proxy.onopen();\n",
       "\n",
       "    fig.parent_element = element.get(0);\n",
       "    fig.cell_info = mpl.find_output_cell(\"<div id='\" + id + \"'></div>\");\n",
       "    if (!fig.cell_info) {\n",
       "        console.error(\"Failed to find cell for figure\", id, fig);\n",
       "        return;\n",
       "    }\n",
       "\n",
       "    var output_index = fig.cell_info[2]\n",
       "    var cell = fig.cell_info[0];\n",
       "\n",
       "};\n",
       "\n",
       "mpl.figure.prototype.handle_close = function(fig, msg) {\n",
       "    var width = fig.canvas.width/mpl.ratio\n",
       "    fig.root.unbind('remove')\n",
       "\n",
       "    // Update the output cell to use the data from the current canvas.\n",
       "    fig.push_to_output();\n",
       "    var dataURL = fig.canvas.toDataURL();\n",
       "    // Re-enable the keyboard manager in IPython - without this line, in FF,\n",
       "    // the notebook keyboard shortcuts fail.\n",
       "    IPython.keyboard_manager.enable()\n",
       "    $(fig.parent_element).html('<img src=\"' + dataURL + '\" width=\"' + width + '\">');\n",
       "    fig.close_ws(fig, msg);\n",
       "}\n",
       "\n",
       "mpl.figure.prototype.close_ws = function(fig, msg){\n",
       "    fig.send_message('closing', msg);\n",
       "    // fig.ws.close()\n",
       "}\n",
       "\n",
       "mpl.figure.prototype.push_to_output = function(remove_interactive) {\n",
       "    // Turn the data on the canvas into data in the output cell.\n",
       "    var width = this.canvas.width/mpl.ratio\n",
       "    var dataURL = this.canvas.toDataURL();\n",
       "    this.cell_info[1]['text/html'] = '<img src=\"' + dataURL + '\" width=\"' + width + '\">';\n",
       "}\n",
       "\n",
       "mpl.figure.prototype.updated_canvas_event = function() {\n",
       "    // Tell IPython that the notebook contents must change.\n",
       "    IPython.notebook.set_dirty(true);\n",
       "    this.send_message(\"ack\", {});\n",
       "    var fig = this;\n",
       "    // Wait a second, then push the new image to the DOM so\n",
       "    // that it is saved nicely (might be nice to debounce this).\n",
       "    setTimeout(function () { fig.push_to_output() }, 1000);\n",
       "}\n",
       "\n",
       "mpl.figure.prototype._init_toolbar = function() {\n",
       "    var fig = this;\n",
       "\n",
       "    var nav_element = $('<div/>')\n",
       "    nav_element.attr('style', 'width: 100%');\n",
       "    this.root.append(nav_element);\n",
       "\n",
       "    // Define a callback function for later on.\n",
       "    function toolbar_event(event) {\n",
       "        return fig.toolbar_button_onclick(event['data']);\n",
       "    }\n",
       "    function toolbar_mouse_event(event) {\n",
       "        return fig.toolbar_button_onmouseover(event['data']);\n",
       "    }\n",
       "\n",
       "    for(var toolbar_ind in mpl.toolbar_items){\n",
       "        var name = mpl.toolbar_items[toolbar_ind][0];\n",
       "        var tooltip = mpl.toolbar_items[toolbar_ind][1];\n",
       "        var image = mpl.toolbar_items[toolbar_ind][2];\n",
       "        var method_name = mpl.toolbar_items[toolbar_ind][3];\n",
       "\n",
       "        if (!name) { continue; };\n",
       "\n",
       "        var button = $('<button class=\"btn btn-default\" href=\"#\" title=\"' + name + '\"><i class=\"fa ' + image + ' fa-lg\"></i></button>');\n",
       "        button.click(method_name, toolbar_event);\n",
       "        button.mouseover(tooltip, toolbar_mouse_event);\n",
       "        nav_element.append(button);\n",
       "    }\n",
       "\n",
       "    // Add the status bar.\n",
       "    var status_bar = $('<span class=\"mpl-message\" style=\"text-align:right; float: right;\"/>');\n",
       "    nav_element.append(status_bar);\n",
       "    this.message = status_bar[0];\n",
       "\n",
       "    // Add the close button to the window.\n",
       "    var buttongrp = $('<div class=\"btn-group inline pull-right\"></div>');\n",
       "    var button = $('<button class=\"btn btn-mini btn-primary\" href=\"#\" title=\"Stop Interaction\"><i class=\"fa fa-power-off icon-remove icon-large\"></i></button>');\n",
       "    button.click(function (evt) { fig.handle_close(fig, {}); } );\n",
       "    button.mouseover('Stop Interaction', toolbar_mouse_event);\n",
       "    buttongrp.append(button);\n",
       "    var titlebar = this.root.find($('.ui-dialog-titlebar'));\n",
       "    titlebar.prepend(buttongrp);\n",
       "}\n",
       "\n",
       "mpl.figure.prototype._root_extra_style = function(el){\n",
       "    var fig = this\n",
       "    el.on(\"remove\", function(){\n",
       "\tfig.close_ws(fig, {});\n",
       "    });\n",
       "}\n",
       "\n",
       "mpl.figure.prototype._canvas_extra_style = function(el){\n",
       "    // this is important to make the div 'focusable\n",
       "    el.attr('tabindex', 0)\n",
       "    // reach out to IPython and tell the keyboard manager to turn it's self\n",
       "    // off when our div gets focus\n",
       "\n",
       "    // location in version 3\n",
       "    if (IPython.notebook.keyboard_manager) {\n",
       "        IPython.notebook.keyboard_manager.register_events(el);\n",
       "    }\n",
       "    else {\n",
       "        // location in version 2\n",
       "        IPython.keyboard_manager.register_events(el);\n",
       "    }\n",
       "\n",
       "}\n",
       "\n",
       "mpl.figure.prototype._key_event_extra = function(event, name) {\n",
       "    var manager = IPython.notebook.keyboard_manager;\n",
       "    if (!manager)\n",
       "        manager = IPython.keyboard_manager;\n",
       "\n",
       "    // Check for shift+enter\n",
       "    if (event.shiftKey && event.which == 13) {\n",
       "        this.canvas_div.blur();\n",
       "        event.shiftKey = false;\n",
       "        // Send a \"J\" for go to next cell\n",
       "        event.which = 74;\n",
       "        event.keyCode = 74;\n",
       "        manager.command_mode();\n",
       "        manager.handle_keydown(event);\n",
       "    }\n",
       "}\n",
       "\n",
       "mpl.figure.prototype.handle_save = function(fig, msg) {\n",
       "    fig.ondownload(fig, null);\n",
       "}\n",
       "\n",
       "\n",
       "mpl.find_output_cell = function(html_output) {\n",
       "    // Return the cell and output element which can be found *uniquely* in the notebook.\n",
       "    // Note - this is a bit hacky, but it is done because the \"notebook_saving.Notebook\"\n",
       "    // IPython event is triggered only after the cells have been serialised, which for\n",
       "    // our purposes (turning an active figure into a static one), is too late.\n",
       "    var cells = IPython.notebook.get_cells();\n",
       "    var ncells = cells.length;\n",
       "    for (var i=0; i<ncells; i++) {\n",
       "        var cell = cells[i];\n",
       "        if (cell.cell_type === 'code'){\n",
       "            for (var j=0; j<cell.output_area.outputs.length; j++) {\n",
       "                var data = cell.output_area.outputs[j];\n",
       "                if (data.data) {\n",
       "                    // IPython >= 3 moved mimebundle to data attribute of output\n",
       "                    data = data.data;\n",
       "                }\n",
       "                if (data['text/html'] == html_output) {\n",
       "                    return [cell, data, j];\n",
       "                }\n",
       "            }\n",
       "        }\n",
       "    }\n",
       "}\n",
       "\n",
       "// Register the function which deals with the matplotlib target/channel.\n",
       "// The kernel may be null if the page has been refreshed.\n",
       "if (IPython.notebook.kernel != null) {\n",
       "    IPython.notebook.kernel.comm_manager.register_target('matplotlib', mpl.mpl_figure_comm);\n",
       "}\n"
      ],
      "text/plain": [
       "<IPython.core.display.Javascript object>"
      ]
     },
     "metadata": {},
     "output_type": "display_data"
    },
    {
     "data": {
      "text/html": [
       "<img src=\"data:image/png;base64,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\" width=\"640\">"
      ],
      "text/plain": [
       "<IPython.core.display.HTML object>"
      ]
     },
     "metadata": {},
     "output_type": "display_data"
    }
   ],
   "source": [
    "%matplotlib notebook \n",
    "from datetime import datetime\n",
    "import matplotlib.pyplot as plt\n",
    "\n",
    "\n",
    "dates, prices = zip(*dates_and_prices)\n",
    "ref_day = datetime.today()\n",
    "times = [datetime.combine(ref_day, t.time()) for t in dates] # get the time intervals for today\n",
    "\n",
    "# plot\n",
    "# plt.plot(times, prices, 'ro')\n",
    "plt.plot(dates, prices, 'ro')\n",
    "# beautify the x-labels\n",
    "plt.gcf().autofmt_xdate()\n",
    "\n",
    "plt.show()"
   ]
  },
  {
   "cell_type": "markdown",
   "metadata": {
    "slideshow": {
     "slide_type": "slide"
    }
   },
   "source": [
    "### The Pearson Correlation Coefficient\n",
    "\n",
    "The Pearson correlation coefficient measures the linear relationship\n",
    "between two datasets. Like other correlation coefficients, this one varies between -1 and +1\n",
    "with 0 implying no correlation. Correlations of -1 or +1 imply an exact\n",
    "linear relationship. Positive correlations imply that as x increases, so\n",
    "does y. Negative correlations imply that as x increases, y decreases.\n",
    "\n",
    "The p-value roughly indicates the probability of an uncorrelated system\n",
    "producing datasets that have a Pearson correlation at least as extreme\n",
    "as the one computed from these datasets."
   ]
  },
  {
   "cell_type": "code",
   "execution_count": 58,
   "metadata": {
    "slideshow": {
     "slide_type": "slide"
    }
   },
   "outputs": [
    {
     "data": {
      "text/plain": [
       "(0.008840273117261523, 0.7727034143471962)"
      ]
     },
     "execution_count": 58,
     "metadata": {},
     "output_type": "execute_result"
    }
   ],
   "source": [
    "import matplotlib\n",
    "from scipy.stats.stats import pearsonr\n",
    "\n",
    "\n",
    "x, y = zip(*dates_and_prices)\n",
    "x = matplotlib.dates.date2num(x)\n",
    "\n",
    "pearsonr(x, y)"
   ]
  },
  {
   "cell_type": "markdown",
   "metadata": {
    "slideshow": {
     "slide_type": "slide"
    }
   },
   "source": [
    "Consequently, since our Pearson Correlation Coefficient is quite close to zero, there is likely no correlation between the start time of a concert and the price you have to pay for it."
   ]
  },
  {
   "cell_type": "markdown",
   "metadata": {
    "slideshow": {
     "slide_type": "slide"
    }
   },
   "source": [
    "# Class exercise: Scraping Images from a Page\n",
    "\n",
    "In the following code you will use Beautiful Soup to extract all links to images, which are in `img` tags on a web page."
   ]
  },
  {
   "cell_type": "code",
   "execution_count": null,
   "metadata": {
    "scrolled": true,
    "slideshow": {
     "slide_type": "slide"
    }
   },
   "outputs": [],
   "source": [
    "import bs4\n",
    "import os\n",
    "import sys\n",
    "import requests\n",
    "\n",
    "\n",
    "def collect_img_links(url):\n",
    "    r = requests.get(url)\n",
    "    r.raise_for_status()\n",
    "    soup = bs4.BeautifulSoup(r.text, 'html5lib')\n",
    "    \n",
    "    return [img.get('src') for img in soup.select('img') \n",
    "            if img.get('src').startswith('http')]\n",
    "\n",
    "\n",
    "def download_imgs(links, out_folder=\"./test/\"):\n",
    "    for l in links:\n",
    "        # You know how to do this!\n",
    "        pass \n",
    "        \n",
    "        \n",
    "collect_img_links('https://www.google.dk/search?site=&tbm=isch&source=hp&biw=1163&bih=812&q=minions&oq=minions')"
   ]
  },
  {
   "cell_type": "markdown",
   "metadata": {
    "slideshow": {
     "slide_type": "slide"
    }
   },
   "source": [
    "# Exercise 2: Writing a Simple Web Crawler\n",
    "\n",
    "Write a simple web crawler. More precisely, a program that extracts recursively all links from web pages. The result of running the web crawler is a dictionary, were the key-value pairs correspond to outgoiung links from a web page with the URL, which is stored in the key.\n",
    "\n",
    "\n",
    "In case a page returns a status code, which is not `200` we just disregard this page. See https://en.wikipedia.org/wiki/List_of_HTTP_status_codes for more detailes on the various HTTP status codes."
   ]
  },
  {
   "cell_type": "code",
   "execution_count": null,
   "metadata": {
    "slideshow": {
     "slide_type": "slide"
    }
   },
   "outputs": [],
   "source": [
    "import re\n",
    "import bs4\n",
    "import pprint\n",
    "import requests\n",
    "from tqdm import tqdm"
   ]
  },
  {
   "cell_type": "code",
   "execution_count": null,
   "metadata": {
    "slideshow": {
     "slide_type": "slide"
    }
   },
   "outputs": [],
   "source": [
    "def scrape_links(from_url, for_depth, all_links={}):\n",
    "    # This is what the exercise below asks you to implement!\n",
    "    pass\n",
    "\n",
    "\n",
    "start_url = 'https://www.version2.dk/artikel/google-deepmind-vi-oeger-sikkerheden-mod-misbrug-sundhedsdata-1074452'\n",
    "\n",
    "link_dict = scrape_links(from_url=start_url, for_depth=2)\n",
    "\n",
    "print('{} pages link to {} other pages'.format(len(list(link_dict.keys())), \n",
    "                                               len(flatten(link_dict.values()))))"
   ]
  },
  {
   "cell_type": "markdown",
   "metadata": {
    "slideshow": {
     "slide_type": "slide"
    }
   },
   "source": [
    "The web crawler that you wrote above is perhaps not the most performant. If you are interested in more web scraping and application of crawlers have a look at the `scrapy` module (https://scrapy.org)"
   ]
  }
 ],
 "metadata": {
  "celltoolbar": "Slideshow",
  "kernelspec": {
   "display_name": "Python 3",
   "language": "python",
   "name": "python3"
  },
  "language_info": {
   "codemirror_mode": {
    "name": "ipython",
    "version": 3
   },
   "file_extension": ".py",
   "mimetype": "text/x-python",
   "name": "python",
   "nbconvert_exporter": "python",
   "pygments_lexer": "ipython3",
   "version": "3.7.1"
  }
 },
 "nbformat": 4,
 "nbformat_minor": 2
}
