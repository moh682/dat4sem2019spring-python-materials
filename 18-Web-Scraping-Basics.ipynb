{
 "cells": [
  {
   "cell_type": "code",
   "execution_count": null,
   "metadata": {},
   "outputs": [],
   "source": [
    "import warnings\n",
    "warnings.filterwarnings('ignore')"
   ]
  },
  {
   "cell_type": "markdown",
   "metadata": {
    "slideshow": {
     "slide_type": "slide"
    }
   },
   "source": [
    "# HTML Refresher\n",
    "This part is based on chapter 11 of *Automate the Boring Stuff with Python* by Al Sweigart\n",
    "\n",
    "HTML files are plain text files containing *tags*, which are words enclosed in angle brackets. Tags tell the browser how to format the web page. A starting tag and closing tag can enclose some text to form an element. The text (or inner HTML) is the content between the starting and closing tags.\n",
    "\n",
    "There are many different tags in HTML. Some of these tags have extra properties in the form of attributes within the angle brackets. For example, the `<a>` tag encloses text that should be a link.\n",
    "\n",
    "Some elements have an `id` attribute that is used to uniquely identify the element in the page. You will often instruct your programs to seek out an element by its id attribute, so figuring out an element’s id attribute using the browser’s developer tools is a common task in writing web scraping programs."
   ]
  },
  {
   "cell_type": "code",
   "execution_count": 21,
   "metadata": {},
   "outputs": [],
   "source": [
    "%%bash\n",
    "cat << EOF > example.html\n",
    "<!DOCTYPE html>\n",
    "<html>\n",
    "<head>\n",
    "<title>Hello!</title>\n",
    "</head>\n",
    "<body>\n",
    "<h1>Hello World!</h1>\n",
    "You are extremely welcome!<br>\n",
    "<br>\n",
    "The <a href=\\\"https://github.com/datsoftlyngby/dat4sem2019spring-python-materials\\\">Lecture Notes</a>.<br>\n",
    "<div>\n",
    "<p>paragraph 1</p>\n",
    "<p>and paragraph 2: <span id=\"span01\">This is span 1</span id=\"span02\"><span id=\"span03\">Second span element</span>\n",
    "<span class=\"red_border\">Here is the third span</span>\n",
    "</p>\n",
    "</div>\n",
    "</body>\n",
    "</html>\n",
    "EOF"
   ]
  },
  {
   "cell_type": "code",
   "execution_count": 11,
   "metadata": {
    "slideshow": {
     "slide_type": "-"
    }
   },
   "outputs": [],
   "source": [
    "%%bash\n",
    "xdg-open example.html"
   ]
  },
  {
   "cell_type": "markdown",
   "metadata": {
    "slideshow": {
     "slide_type": "slide"
    }
   },
   "source": [
    "# View a Page's HTML Sources\n",
    "\n",
    "Here, I will only describe how to use Firefox' development features.\n",
    "\n",
    "To view a page's sources right click on it and choose **View page source** which opens a new tab with the HTML sources.\n",
    "\n",
    "<img src=\"images/view_source_small.png\" width=\"500\"> "
   ]
  },
  {
   "cell_type": "markdown",
   "metadata": {
    "slideshow": {
     "slide_type": "slide"
    }
   },
   "source": [
    "In Firefox, you can bring up the Web Developer Tools Inspector by pressing `CTRL-SHIFT-C` on Windows and Linux or by `CMD-OPTION-C` on OS X.\n",
    "\n",
    "<img src=\"images/inspector_small.png\" width=\"600\"> "
   ]
  },
  {
   "cell_type": "markdown",
   "metadata": {
    "slideshow": {
     "slide_type": "slide"
    }
   },
   "source": [
    "# Parsing HTML with BeautifulSoup\n",
    "\n",
    "BeautifulSoup is a module for parsing and extracting information from HTML sources. The module’s name is bs4. In case it is not already installed on your machine:\n",
    "- install it with `pip install beautifulsoup4`. While beautifulsoup4 is the name used for installation, \n",
    "- to import BeautifulSoup you have to use `import bs4`.\n",
    "\n",
    "According to its documentation (https://www.crummy.com/software/BeautifulSoup/) *\"Beautiful Soup parses anything you give it, and does the tree traversal stuff for you. You can tell it \"Find all the links\", or \"Find all the links of class externalLink\", or \"Find all the links whose urls match \"foo.com\", or \"Find the table heading that's got bold text, then give me that text.\"\"*"
   ]
  },
  {
   "cell_type": "markdown",
   "metadata": {
    "slideshow": {
     "slide_type": "slide"
    }
   },
   "source": [
    "## Creating a BeautifulSoup Object from a Local HTML File\n",
    "\n",
    "- The `bs4.BeautifulSoup()` function needs to be called with a string containing the HTML it will parse. \n",
    "- The `bs4.BeautifulSoup()` function returns is a `BeautifulSoup` object.\n",
    "\n",
    "You can load a local HTML file and pass a file object to `bs4.BeautifulSoup()`."
   ]
  },
  {
   "cell_type": "code",
   "execution_count": 7,
   "metadata": {
    "slideshow": {
     "slide_type": "slide"
    }
   },
   "outputs": [
    {
     "name": "stdout",
     "output_type": "stream",
     "text": [
      "<class 'bs4.BeautifulSoup'>\n",
      "<!DOCTYPE html>\n",
      "<html>\n",
      " <head>\n",
      "  <title>\n",
      "   Hello!\n",
      "  </title>\n",
      " </head>\n",
      " <body>\n",
      "  <h1>\n",
      "   Hello World!\n",
      "  </h1>\n",
      "  You are extremely welcome!\n",
      "  <br/>\n",
      "  <br/>\n",
      "  The\n",
      "  <a href='\\\"https://github.com/datsoftlyngby/dat4sem2018fall-python\\\"'>\n",
      "   Lecture Notes\n",
      "  </a>\n",
      "  .\n",
      "  <br/>\n",
      " </body>\n",
      "</html>\n",
      "\n"
     ]
    }
   ],
   "source": [
    "import bs4\n",
    "\n",
    "with open('./example.html') as f:\n",
    "    example_html = f.read()\n",
    "    \n",
    "soup = bs4.BeautifulSoup(example_html)\n",
    "print(type(soup))\n",
    "print(soup.prettify())"
   ]
  },
  {
   "cell_type": "markdown",
   "metadata": {
    "slideshow": {
     "slide_type": "slide"
    }
   },
   "source": [
    "## Creating a BeautifulSoup Object from a Remote HTML File\n",
    "\n"
   ]
  },
  {
   "cell_type": "code",
   "execution_count": 9,
   "metadata": {
    "slideshow": {
     "slide_type": "slide"
    }
   },
   "outputs": [
    {
     "name": "stdout",
     "output_type": "stream",
     "text": [
      "<!DOCTYPE html>\n",
      "<html lang=\"en\">\n",
      " <head>\n",
      "  <meta charset=\"utf-8\"/>\n",
      "  <link href=\"https://github.githubassets.com\" rel=\"dns-prefetch\"/>\n",
      "  <link href=\"https://avatars0.githubusercontent.com\" rel=\"dns-prefetch\"/>\n",
      "  <link href=\"https://avatars1.githubusercontent.com\" rel=\"dns-prefetch\"/>\n",
      "  <link href=\"https://avatars2.githubusercontent.com\" rel=\"dns-prefetch\"/>\n",
      "  <link href=\"https://avatars3.githubusercontent.com\" rel=\"dns-prefetch\"/>\n",
      "  <link href=\"https://github-cloud.s3.amazonaws.com\" rel=\"dns-prefetch\"/>\n",
      "  <link href=\"https://user-images.githubusercontent.com/\" rel=\"dns-prefetch\"/>\n",
      "  <link crossorigin=\"anonymous\" href=\"https://github.githubassets.com/assets/frameworks-aea1483741d7c7c127f6294ced2bb4d0.css\" integrity=\"sha512-Cc73o557zxvw32bFLLW7+eLwVRIAuuA73yJTaC3Sa4e0hIej7Jp20LEujbX810MZ9UZvxB8tZrxGnv/ZTZzhBg==\" media=\"all\" rel=\"stylesheet\">\n",
      "   <link crossorigin=\"anonymous\" href=\"https://github.githubassets.com/assets/site-0e25450ff46c1fbf61d504f9ffc4d784.css\" integrity=\"sha512-5LDBQ/DhsFq/ry7aepdbc1FV0mW/0lPqH6GlYFfzzd5wo8MBz9Rb67LigKe0uKM8kK5QrA/QsJCpsE1+hOLF6w==\" media=\"all\" rel=\"stylesheet\">\n",
      "    <link crossorigin=\"anonymous\" href=\"https://github.githubassets.com/assets/github-99674072dc40b3da2332f5253acb142a.css\" integrity=\"sha512-gCEnB66HhIaKGVToELwzGKaFsWbPleggGMzN+opN7p7jHwfdy9KEzQoe7FoDZ8/a7tAhdGWlghft3djWshWtgg==\" media=\"all\" rel=\"stylesheet\">\n",
      "     <meta content=\"width=device-width\" name=\"viewport\"/>\n",
      "     <title>\n",
      "      GitHub - datsoftlyngby/dat4sem2018fall-python: Rep\n"
     ]
    }
   ],
   "source": [
    "import bs4\n",
    "import requests\n",
    "\n",
    "\n",
    "r = requests.get('https://github.com/datsoftlyngby/dat4sem2018fall-python')\n",
    "r.raise_for_status()\n",
    "soup = bs4.BeautifulSoup(r.text, 'html.parser')\n",
    "\n",
    "print(soup.prettify()[:1500])"
   ]
  },
  {
   "cell_type": "markdown",
   "metadata": {
    "slideshow": {
     "slide_type": "slide"
    }
   },
   "source": [
    "## Finding an Element with the `select()` Method\n",
    "\n",
    "You can retrieve HTML elements from a `BeautifulSoup` object by calling the `select()` method and passing a string of a CSS selector for the element you are looking for. Selectors are like regular expressions: They specify a pattern to look for, in this case, in HTML pages instead of general text strings.\n",
    "\n",
    "Common CSS selector patterns include:\n",
    "\n",
    "  * `soup.select('div')` ... selects all elements named `<div>`\n",
    "  * `soup.select('#lecturer')`  ... selects the element with an id attribute of author\n",
    "  * `soup.select('.notice')` ... selects all elements that use a CSS class attribute named notice\n",
    "  * `soup.select('div span')` ... selects all elements named ``<span>` that are within an element named `<div>`\n",
    "  * `soup.select('div > span')` ... selects all elements named `<span>` that are directly within an element named `<div>`, with no other element in between\n",
    "  * `soup.select('input[name]')` ... selects all elements named `<input>` that have a name attribute with any value\n",
    "  * `soup.select('input[type=\"button\"]')` ... selects all elements named `<input>` that have an attribute named type with value button\n",
    "  \n",
    "See more in the documentation: https://www.crummy.com/software/BeautifulSoup/bs4/doc/#css-selectors"
   ]
  },
  {
   "cell_type": "code",
   "execution_count": 38,
   "metadata": {
    "slideshow": {
     "slide_type": "slide"
    }
   },
   "outputs": [
    {
     "name": "stdout",
     "output_type": "stream",
     "text": [
      "1: return type of select() <class 'list'>\n",
      "2: length of the returned list 1\n",
      "3: type of elements in the list <class 'bs4.element.Tag'>\n",
      "4: get text from the element \n",
      "Hello World!\n",
      "You are extremely welcome!\n",
      "5: string representation of an element:  <body>\n",
      "<h1>Hello World!</h1>\n",
      "You are extremely welcome!<br/>\n",
      "<br/>\n",
      "The <a href='\\\"https://github.com/datsoftlyngby/dat4sem2019spring-python-materials\\\"'>Lecture Notes</a>.<br/>\n",
      "<div>\n",
      "<p>paragraph 1</p>\n",
      "<p>and paragraph 2: <span id=\"span01\">This is span 1</span><span id=\"span03\">Second span element</span>\n",
      "<span class=\"red_border\">Here is the third span</span>\n",
      "</p>\n",
      "</div>\n",
      "</body>\n",
      "6: the attributes of the element:  {}\n"
     ]
    }
   ],
   "source": [
    "import bs4\n",
    "\n",
    "\n",
    "with open('./example.html') as f:\n",
    "    example_html = f.read()\n",
    "\n",
    "soup = bs4.BeautifulSoup(example_html, 'html.parser')\n",
    "\n",
    "elems = soup.select('body')\n",
    "\n",
    "#print(soup.prettify())\n",
    "print('1: return type of select()',type(elems))\n",
    "print('2: length of the returned list',len(elems))\n",
    "print('3: type of elements in the list',type(elems[0]))\n",
    "print('4: get text from the element',elems[0].getText()[:40])\n",
    "print('5: string representation of an element: ',str(elems[0]))\n",
    "print('6: the attributes of the element: ',elems[0].attrs)"
   ]
  },
  {
   "cell_type": "code",
   "execution_count": 40,
   "metadata": {
    "slideshow": {
     "slide_type": "slide"
    }
   },
   "outputs": [
    {
     "name": "stdout",
     "output_type": "stream",
     "text": [
      "<p>paragraph 1</p>\n",
      "paragraph 1\n",
      "------------\n",
      "<p>and paragraph 2: <span id=\"span01\">This is span 1</span><span id=\"span03\">Second span element</span>\n",
      "<span class=\"red_border\">Here is the third span</span>\n",
      "</p>\n",
      "and paragraph 2: This is span 1Second span element\n",
      "Here is the third span\n",
      "\n",
      "------------\n"
     ]
    }
   ],
   "source": [
    "p_elems = soup.select('p')\n",
    "\n",
    "for el in p_elems:\n",
    "    print(str(el))\n",
    "    print(el.getText())\n",
    "    print('------------')"
   ]
  },
  {
   "cell_type": "markdown",
   "metadata": {
    "slideshow": {
     "slide_type": "slide"
    }
   },
   "source": [
    "## Getting Data from an Element’s Attributes\n",
    "\n",
    "The `get()` method for Tag objects makes it simple to access attribute values from an element. The method is passed a string of an attribute name and returns that attribute’s value."
   ]
  },
  {
   "cell_type": "code",
   "execution_count": 42,
   "metadata": {
    "slideshow": {
     "slide_type": "slide"
    }
   },
   "outputs": [
    {
     "data": {
      "text/plain": [
       "'lecturer'"
      ]
     },
     "execution_count": 42,
     "metadata": {},
     "output_type": "execute_result"
    }
   ],
   "source": [
    "{'id': 'lecturer'}.get('id', 0)"
   ]
  },
  {
   "cell_type": "code",
   "execution_count": 43,
   "metadata": {
    "slideshow": {
     "slide_type": "slide"
    }
   },
   "outputs": [
    {
     "name": "stdout",
     "output_type": "stream",
     "text": [
      "<span id=\"span01\">This is span 1</span>\n",
      "span01\n",
      "True\n",
      "{'id': 'span01'}\n"
     ]
    }
   ],
   "source": [
    "import bs4\n",
    "\n",
    "with open('./example.html') as f:\n",
    "    example_html = f.read()\n",
    "    \n",
    "soup = bs4.BeautifulSoup(example_html, 'html.parser')\n",
    "# soup.find_all?\n",
    "span_elem = soup.select('span')[0]\n",
    "print(str(span_elem))\n",
    "print(span_elem.get('id'))\n",
    "print(span_elem.get('some_nonexistent_addr') == None)\n",
    "print(span_elem.attrs)"
   ]
  },
  {
   "cell_type": "markdown",
   "metadata": {
    "slideshow": {
     "slide_type": "slide"
    }
   },
   "source": [
    "### What is the difference between the `select` and the `find`/`find_all` functions?\n",
    "\n",
    "You are not the first ones wondering about this... See:\n",
    "https://stackoverflow.com/questions/38028384/beautifulsoup-is-there-a-difference-between-find-and-select-python-3-x#38033910"
   ]
  },
  {
   "cell_type": "markdown",
   "metadata": {
    "slideshow": {
     "slide_type": "slide"
    }
   },
   "source": [
    "# Example Scraping Events from a Page\n",
    "\n",
    "\n",
    "Ususally, you will use web scraping to collect information, which you cannot gather otherwise. \n",
    "For example, let's imagine we want to do some statistics about:\n",
    "- concerts in Copenhagen, \n",
    "- their start times and \n",
    "- their door prices.\n",
    "\n",
    "Since we cannot find an API or any other open dataset, we decide to scrape the publicly available homepage www.kultunaut.dk, \n",
    "\n",
    "The website lists all possible events in Denmark. \n",
    "Concerts in Copenhagen are for example accessible here: \n",
    "- http://www.kultunaut.dk/perl/arrlist/type-nynaut/UK?showmap=&Area=Kbh.+og+Frederiksberg&periode=&Genre=Musik\n",
    "\n",
    "**OBS** Many web pages are not built to support high traffic or they exlicitely discourage automatic access. Keep this in mind when writing your scraping tool.\n",
    "- from time import sleep\n",
    "- sleep(3) # sleep 3 seconds\n",
    "\n",
    "\n",
    "Considering our example:\n",
    "- we have to first figure out how many events there are at all. \n",
    "- We need this information, as events are given paginated, i.e., twenty events per page.\n",
    "- The link given above only returns the link to the first page with the first twenty events. \n",
    "- Out of the total amount of events we can generate the URLs for the subsequent results."
   ]
  },
  {
   "cell_type": "code",
   "execution_count": 1,
   "metadata": {
    "slideshow": {
     "slide_type": "slide"
    }
   },
   "outputs": [
    {
     "name": "stdout",
     "output_type": "stream",
     "text": [
      "1282\n"
     ]
    }
   ],
   "source": [
    "import bs4\n",
    "import requests\n",
    "\n",
    "\n",
    "r = requests.get('http://www.kultunaut.dk/perl/arrlist/type-nynaut/UK?showmap=&Area=Kbh.+og+Frederiksberg&periode=&Genre=Musik')\n",
    "r.raise_for_status\n",
    "soup = bs4.BeautifulSoup(r.text, 'html.parser')\n",
    "\n",
    "elems = soup.find_all('td', {'style': 'background-color:#CBDCEE;color:#324669'})\n",
    "number = int(str(elems[0]).split(' ')[4].split('\\n')[0])\n",
    "\n",
    "print(number)"
   ]
  },
  {
   "cell_type": "code",
   "execution_count": 45,
   "metadata": {
    "slideshow": {
     "slide_type": "slide"
    }
   },
   "outputs": [
    {
     "name": "stdout",
     "output_type": "stream",
     "text": [
      "<b>Showing 1-20 of 1294\r\n",
      "events  in Cph. and Frederiksberg <span style=\"white-space: nowrap;\"> from/after 26 Mar 2019</span> </b>\n"
     ]
    }
   ],
   "source": [
    "r = requests.get('http://www.kultunaut.dk/perl/arrlist/type-nynaut/UK?showmap=&Area=Kbh.+og+Frederiksberg&periode=&Genre=Musik')\n",
    "r.raise_for_status()\n",
    "soup = bs4.BeautifulSoup(r.text, 'html.parser')\n",
    "\n",
    "elems = soup.find_all('td', attrs={'style': 'background-color:#CBDCEE;color:#324669'})[0].find('b')\n",
    "print(elems)"
   ]
  },
  {
   "cell_type": "markdown",
   "metadata": {},
   "source": [
    "### Looking at the browser inspector pane:\n",
    "\n",
    "<img src=\"images/inspect_element.png\" width=\"500\">\n",
    "\n",
    "We can see that the desired element is hiding in a structure like: a b-tag inside a h3-tag inside a td-tag or:\n",
    "- `('td h3 b')`"
   ]
  },
  {
   "cell_type": "code",
   "execution_count": 47,
   "metadata": {
    "slideshow": {
     "slide_type": "slide"
    }
   },
   "outputs": [
    {
     "name": "stdout",
     "output_type": "stream",
     "text": [
      "number of events is 20\n",
      "Nedenunder: Underwxlrd Showcase #2 + After Party.\n",
      "Odense Symfoniorkester: Clarinet.\n",
      "Odense Symfoniorkester: Flute.\n",
      "Aarhus International Piano Competition.\n",
      "Erindringsdans.\n",
      "Lunchkonsert.\n",
      "I and You.\n",
      "John Mogensen Live Duo.\n",
      "Aarhus International Piano Competition.\n",
      "Forårsfestival: Museumskoncert.\n",
      "Morten Grønvad The End.\n",
      "Orgel-musikkens kvarter.\n",
      "Fredagsbaren.\n",
      "Sebastian Klein - Mer' styr på dyr!\n",
      "Fyraftenskoncert.\n",
      "Fredagskoncert: Rued Langgaard.\n",
      "Den blå time.\n",
      "Wave Blues Band ( Fyraftens Jazz ).\n",
      "Vicious Rock Indoors 2019.\n",
      "Koncert med Stepp2 og fernisering på udstilling med Wiliam Skotte Olsen m.fl.\n"
     ]
    }
   ],
   "source": [
    "import bs4\n",
    "import requests\n",
    "html = requests.get('http://www.kultunaut.dk/perl/arrlist/type-nynaut?Area=&ArrStartday=22&ArrStartmonth=Marts&ArrStartyear=2019&ArrSlutday=29&ArrSlutmonth=Marts&ArrSlutyear=2019&ArrMaalgruppe=&DefaultGenre=Musik&ArrKunstner=')\n",
    "txt = html.text\n",
    "soup = bs4.BeautifulSoup(txt, 'html.parser')\n",
    "events = soup.select('td h3 b')\n",
    "print('number of events is {}'.format(len(events)))\n",
    "for e in events:\n",
    "    print(e.getText())"
   ]
  },
  {
   "cell_type": "code",
   "execution_count": 11,
   "metadata": {},
   "outputs": [
    {
     "name": "stdout",
     "output_type": "stream",
     "text": [
      "<!DOCTYPE html>\n",
      "<html lang=\"en\">\n",
      " <!-- Initalize title and data source variables -->\n",
      " <head>\n",
      "  <!--\n",
      "\n",
      "------------------------\n",
      "/\n",
      "#explanation\n",
      "https://analytics.usa.gov/data/\n",
      "data/\n",
      "#top-pages-realtime\n",
      "#top-pages-7-days\n",
      "#top-pages-30-days\n",
      "https://analytics.usa.gov/data/live/all-pages-realtime.csv\n",
      "https://analytics.usa.gov/data/live/all-domains-30-days.csv\n",
      "https://www.digitalgov.gov/services/dap/\n",
      "https://www.digitalgov.gov/services/dap/common-questions-about-dap-faq/#part-4\n",
      "https://support.google.com/analytics/answer/2763052?hl=en\n",
      "https://analytics.usa.gov/data/live/second-level-domains.csv\n",
      "https://analytics.usa.gov/data/live/sites.csv\n",
      "mailto:DAP@support.digitalgov.gov\n",
      "https://analytics.usa.gov/data/\n",
      "https://analytics.usa.gov/developer\n",
      "mailto:DAP@support.digitalgov.gov\n",
      "https://github.com/GSA/analytics.usa.gov/issues\n",
      "https://github.com/GSA/analytics.usa.gov\n",
      "https://github.com/18F/analytics-reporter\n",
      "http://www.gsa.gov/\n",
      "https://www.digitalgov.gov/services/dap/\n",
      "https://cloud.gov/\n"
     ]
    }
   ],
   "source": [
    "import requests\n",
    "from bs4 import BeautifulSoup\n",
    "gov = requests.get('https://analytics.usa.gov')\n",
    "soup = BeautifulSoup(gov.text, 'lxml')\n",
    "print(soup.prettify()[:100])\n",
    "print('------------------------')\n",
    "for link in soup.find_all('a'):\n",
    "    print(link.get('href'))"
   ]
  },
  {
   "cell_type": "code",
   "execution_count": 41,
   "metadata": {
    "scrolled": true,
    "slideshow": {
     "slide_type": "slide"
    }
   },
   "outputs": [
    {
     "name": "stdout",
     "output_type": "stream",
     "text": [
      "Showing 1-20 of 1310\r\n",
      "events  in Cph. and Frederiksberg  from/after 22 Mar 2019  <class 'str'>\n",
      "1310\n"
     ]
    }
   ],
   "source": [
    "r = requests.get('http://www.kultunaut.dk/perl/arrlist/type-nynaut/UK?showmap=&Area=Kbh.+og+Frederiksberg&periode=&Genre=Musik')\n",
    "r.raise_for_status()\n",
    "soup = bs4.BeautifulSoup(r.text, 'html.parser')\n",
    "\n",
    "elems = soup.find_all('td', attrs={'style': 'background-color:#CBDCEE;color:#324669'})[0].find('b')\n",
    "print(elems.text, type(elems.text))\n",
    "no_events = elems.text.split(' ')[3].split('\\r')[0]\n",
    "no_events = int(no_events)\n",
    "print(no_events)"
   ]
  },
  {
   "cell_type": "markdown",
   "metadata": {
    "slideshow": {
     "slide_type": "slide"
    }
   },
   "source": [
    "Now, we can scrape the events per page. Observe, that now, out `base_url` http://www.kultunaut.dk/perl/arrlist/type-nynaut/UK?Startnr={}&showmap=&Area=Kbh.%20og%20Frederiksberg&periode=&Genre=Musik& has a placeholder for the paginated results (`Startnr=`).\n",
    "\n",
    "Consequently, we scrape each page separately, see the function on the next slide: `scrape_events_per_page`. From examining the page's source code, we know that events are all given as table entries with a corresponding header. We iterate over each of the table cells and extract the strings for dates and prices if they exist."
   ]
  },
  {
   "cell_type": "code",
   "execution_count": 51,
   "metadata": {
    "slideshow": {
     "slide_type": "slide"
    }
   },
   "outputs": [
    {
     "name": "stderr",
     "output_type": "stream",
     "text": [
      " 80%|████████  | 53/66 [00:48<00:11,  1.09it/s]"
     ]
    },
    {
     "name": "stdout",
     "output_type": "stream",
     "text": [
      "list index out of range\n"
     ]
    },
    {
     "name": "stderr",
     "output_type": "stream",
     "text": [
      "100%|██████████| 66/66 [01:02<00:00,  1.18s/it]\n"
     ]
    }
   ],
   "source": [
    "from tqdm import tqdm\n",
    "\n",
    "    \n",
    "def scrape_events_per_page(url):\n",
    "    \"\"\"\n",
    "    returns:\n",
    "        A list of tuples of strings holding title, place, date, and price\n",
    "        for concerts in Copenhagen scraped from Kulturnaut.dk\n",
    "    \"\"\"\n",
    "    r = requests.get(url)\n",
    "    r.raise_for_status()\n",
    "\n",
    "    soup = bs4.BeautifulSoup(r.text, 'html.parser')\n",
    "    event_cells = soup.find_all('td', {'width': '100%', 'valign' : 'top'})\n",
    "    scraped_events_per_page = []\n",
    "    \n",
    "    for event_cell in event_cells:\n",
    "        try:\n",
    "            title = event_cell.find('b').text\n",
    "            spans = event_cell.find_all('span')\n",
    "            place = spans[1].text\n",
    "            try:\n",
    "                date, price = spans[0].text.splitlines()\n",
    "            except ValueError as e:\n",
    "                date = spans[0].text.splitlines()[0]\n",
    "                price = ''\n",
    "        except Exception as e:\n",
    "            print(e)\n",
    "            \n",
    "        scraped_events_per_page.append((title, place, date, price))\n",
    "        \n",
    "    return scraped_events_per_page\n",
    "\n",
    "\n",
    "base_url = 'http://www.kultunaut.dk/perl/arrlist/type-nynaut/UK?Startnr={}&showmap=&Area=Kbh.%20og%20Frederiksberg&periode=&Genre=Musik&'\n",
    "\n",
    "scraped_events = []\n",
    "indexes = list(range(1, no_events, 20))\n",
    "indexes[0] = 0\n",
    "\n",
    "for idx in tqdm(indexes):\n",
    "    scrape_url = base_url.format(idx)\n",
    "    scraped_events += scrape_events_per_page(scrape_url)"
   ]
  },
  {
   "cell_type": "markdown",
   "metadata": {
    "slideshow": {
     "slide_type": "slide"
    }
   },
   "source": [
    "### What do we have so far?\n",
    "\n",
    "Now, you can see that we extracted a list of four element string tuples consisting of the title of the event, its location, a date and a time, and an entrance fee."
   ]
  },
  {
   "cell_type": "code",
   "execution_count": 47,
   "metadata": {
    "slideshow": {
     "slide_type": "slide"
    }
   },
   "outputs": [
    {
     "data": {
      "text/plain": [
       "[('Nedenunder: Underwxlrd Showcase #2 + After Party.',\n",
       "  'Rust, Guldbergsgade 8, Copenhagen N',\n",
       "  'Fri 22 March 2019, kl. 00.',\n",
       "  ''),\n",
       " ('Morten Grønvad The End.',\n",
       "  'Jazzcup, Gothersgade 107, Copenhagen K',\n",
       "  'Fri 22 March 2019, 3.30 pm.',\n",
       "  '(Entrance fee: 120,- (100,-))'),\n",
       " ('Orgel-musikkens kvarter.',\n",
       "  'Kristkirken, Enghave Plads 18, Copenhagen V',\n",
       "  'Fri 22 March 2019, 4 pm.',\n",
       "  ''),\n",
       " ('Fredagskoncert: Rued Langgaard.',\n",
       "  'Trinitatis Kirke, Landemærket 2, Copenhagen K',\n",
       "  'Fri 22 March 2019, 4.30 pm  - 5.30 pm.',\n",
       "  ''),\n",
       " ('Wave Blues Band ( Fyraftens Jazz ).',\n",
       "  'Drop Inn, Kompagnistræde 34, Copenhagen K',\n",
       "  'Fri 22 March 2019, 4.30 pm  - 7.30 pm.',\n",
       "  '(Free admission)'),\n",
       " ('Thirst For You Gospel Workshop.',\n",
       "  'Timotheuskirken, Christen Bergs Allé 5, Valby',\n",
       "  'Fri 22 March 2019, 5.30 pm.',\n",
       "  '(Entrance fee: 129.50 DKK)'),\n",
       " ('Friday Rituals feat. Bryld & Haack.',\n",
       "  'Brochner Hotels - SP34, Sankt Peders Stræde 34, Copenhagen K',\n",
       "  'Fri 22 March 2019, 6 pm  - 7 pm.',\n",
       "  '(Free admission)'),\n",
       " ('Heart Flow Worldwides fødselsdag.',\n",
       "  'Center for Levende Teosofi, Sankt Peders Stræde 27 B, 3.sal, Copenhagen K',\n",
       "  'Fri 22 March 2019, 7 pm.',\n",
       "  '(Free admission)'),\n",
       " ('Viseaften, tema: Cornelis Vreeswijk.',\n",
       "  'Kulturhuset Pilegården, Brønshøjvej 17, Brønshøj',\n",
       "  'Fri 22 March 2019, 7 pm.',\n",
       "  '(Entrance fee: medl. DKK.40,- gæster DKK.70,-)'),\n",
       " ('Viseaften v/Visens Venner: Cornelis Vreeswijk.',\n",
       "  'Kulturhuset Pilegården, Brønshøjvej 17, Brønshøj',\n",
       "  'Fri 22 March 2019, 7 pm  - 10 pm.',\n",
       "  '(Entrance fee: 70 DKK.)'),\n",
       " ('Kammerkoncert i Rundetaarn.',\n",
       "  'Rundetaarn - Bibliotekssalen, Copenhagen K',\n",
       "  'Fri 22 March 2019, 7.30 pm.',\n",
       "  '(Entrance fee: 100 DKKoner, for unge under 25 år dog 50 DKKoner)'),\n",
       " (\"Robert Burns' roots in the origin of Scots and its folklore.\",\n",
       "  'Metronomen, Godthåbsvej 33, Frederiksberg',\n",
       "  'Fri 22 March 2019, 7.30 pm.',\n",
       "  '(Entrance fee: 40. DKK.)'),\n",
       " (\"I'm With Her.\",\n",
       "  'Christians Kirke, Strandgade 1, Copenhagen K',\n",
       "  'Fri 22 March 2019, 8 pm.',\n",
       "  ''),\n",
       " ('Redwolves album release party (+ Sort Skærm).',\n",
       "  'Lygten Station, Lygten 2, Copenhagen NV',\n",
       "  'Fri 22 March 2019, 8 pm.',\n",
       "  '(Entrance fee: 50)'),\n",
       " ('Karl William (dk) - Få Billetter.',\n",
       "  'VEGA, Enghavevej 40, Copenhagen V',\n",
       "  'Fri 22 March 2019, 8 pm.',\n",
       "  '(Entrance fee: 250,00 DKK)'),\n",
       " ('Cancer Bats (can) - Få Billetter.',\n",
       "  'Hotel Cecil, Niels Hemmingsens Gade 10, Copenhagen K',\n",
       "  'Fri 22 March 2019, 8 pm.',\n",
       "  '(Entrance fee: 195,00 DKK)'),\n",
       " ('Milonga med Quinteto Silbando.',\n",
       "  'Dansekapellet, Bispebjerg Torv 1, Copenhagen NV',\n",
       "  'Fri 22 March 2019, 8 pm.',\n",
       "  '(Entrance fee: nu fast pris på DKK.150 150 DKK, efter den 01 februar 185 DKK)'),\n",
       " ('Louise Brüel Band.',\n",
       "  'K-I-B, Kulturhuset Islands Brygge, Islands Brygge 18, Copenhagen S',\n",
       "  'Fri 22 March 2019, 8.30 pm  - 11 pm.',\n",
       "  '(Entrance fee: 80 DKK. + gebyr / 100 DKK. i dørsalg)'),\n",
       " ('Bogfinkevej (dk) - Udsolgt.',\n",
       "  'VEGA, Enghavevej 40, Copenhagen V',\n",
       "  'Fri 22 March 2019, 9 pm.',\n",
       "  '(Entrance fee: 185,00 DKK)'),\n",
       " ('Madrugada (N).',\n",
       "  'Amager Bio, Øresundsvej 6, Copenhagen S',\n",
       "  'Fri 22 March 2019, 9 pm.',\n",
       "  '(Entrance fee: 295,00 DKK)')]"
      ]
     },
     "execution_count": 47,
     "metadata": {},
     "output_type": "execute_result"
    }
   ],
   "source": [
    "scraped_events[:20]"
   ]
  },
  {
   "cell_type": "markdown",
   "metadata": {
    "slideshow": {
     "slide_type": "slide"
    }
   },
   "source": [
    "### How to Extract Dates and Prices from Strings.\n",
    "\n",
    "Remember, the raw data, which we extracted from the web pages is all of type `str`. To do statistics about possible correlation of start times and entry fees, we need to convert the corresponding tuple fields into datetimes and integers respectively.\n",
    "\n",
    "\n",
    "Since dates given on the web do not necessarily conform to standardized time formats, we can apply the `dateparser` (https://pypi.python.org/pypi/dateparser) module, which tries to parse arbitrary strings into datetimes.\n",
    "\n",
    "You can install the module via:\n",
    "\n",
    "```bash\n",
    "pip install dateparser\n",
    "```\n",
    "\n",
    "You can read more about the module and its capabilities https://dateparser.readthedocs.io/en/latest/."
   ]
  },
  {
   "cell_type": "code",
   "execution_count": null,
   "metadata": {},
   "outputs": [],
   "source": [
    "%%bash\n",
    "pip install dateparser"
   ]
  },
  {
   "cell_type": "code",
   "execution_count": 51,
   "metadata": {
    "scrolled": true,
    "slideshow": {
     "slide_type": "slide"
    }
   },
   "outputs": [
    {
     "name": "stderr",
     "output_type": "stream",
     "text": [
      "100%|██████████| 1310/1310 [03:23<00:00,  6.43it/s] \n"
     ]
    }
   ],
   "source": [
    "from tqdm import tqdm\n",
    "from dateparser import parse\n",
    "\n",
    "\n",
    "def get_dates_and_prices(scraped_events):\n",
    "    \"\"\"\n",
    "    Cleanup the data. Get price as integer and date as date.\n",
    "    \n",
    "    returns:\n",
    "        A two-element tuple with a datetime representing the start \n",
    "        time of an event and an integer representing the price in Dkk.\n",
    "    \"\"\"\n",
    "\n",
    "    price_regexp = r\"(?P<price>\\d+)\" #initial ? is a lookbehind. r() r is for raw text, P<some pattern> is to give a pattern name to refer to. \\d is numeric digit, + is for 1 or more.\n",
    "\n",
    "    data_points = []\n",
    "\n",
    "    for event_data in tqdm(scraped_events):\n",
    "        title_str, place_str, date_str, price_str = event_data\n",
    "        \n",
    "        if 'Free admission' in price_str:\n",
    "            price = 0\n",
    "        else:\n",
    "            m = re.search(price_regexp, price_str) # m is the Match object returned from re.search (might be None)\n",
    "            try:\n",
    "                price = int(m.group('price')) # if price can be converted to in then we do it else return 0.\n",
    "            except:\n",
    "                price = 0\n",
    "\n",
    "        date_str = date_str.strip().strip('.')\n",
    "        if '&' in date_str:\n",
    "            date_str = date_str.split('&')[0]\n",
    "        if '-' in date_str:\n",
    "            date_str = date_str.split('-')[0]\n",
    "        if '.' in date_str:\n",
    "            date_str = date_str.replace('.', ':')\n",
    "        \n",
    "        date = parse(date_str)\n",
    "        if date:\n",
    "            data_points.append((date, price))\n",
    "            \n",
    "    return data_points\n",
    "\n",
    "\n",
    "dates_and_prices = get_dates_and_prices(scraped_events)"
   ]
  },
  {
   "cell_type": "code",
   "execution_count": 52,
   "metadata": {
    "slideshow": {
     "slide_type": "slide"
    }
   },
   "outputs": [
    {
     "data": {
      "text/plain": [
       "[(datetime.datetime(2019, 3, 26, 20, 0), 110),\n",
       " (datetime.datetime(2019, 3, 26, 20, 0), 160),\n",
       " (datetime.datetime(2019, 3, 26, 20, 0), 130),\n",
       " (datetime.datetime(2019, 3, 26, 20, 0), 0),\n",
       " (datetime.datetime(2019, 3, 26, 20, 0), 80),\n",
       " (datetime.datetime(2019, 3, 26, 20, 15), 50),\n",
       " (datetime.datetime(2019, 3, 26, 21, 0), 0),\n",
       " (datetime.datetime(2019, 3, 27, 8, 30), 0),\n",
       " (datetime.datetime(2019, 3, 27, 17, 0), 0),\n",
       " (datetime.datetime(2019, 3, 27, 17, 0), 0)]"
      ]
     },
     "execution_count": 52,
     "metadata": {},
     "output_type": "execute_result"
    }
   ],
   "source": [
    "dates_and_prices[10:20]"
   ]
  },
  {
   "cell_type": "markdown",
   "metadata": {
    "slideshow": {
     "slide_type": "slide"
    }
   },
   "source": [
    "### Plotting Times vs. Prices"
   ]
  },
  {
   "cell_type": "code",
   "execution_count": 59,
   "metadata": {
    "slideshow": {
     "slide_type": "slide"
    }
   },
   "outputs": [
    {
     "data": {
      "application/javascript": [
       "/* Put everything inside the global mpl namespace */\n",
       "window.mpl = {};\n",
       "\n",
       "\n",
       "mpl.get_websocket_type = function() {\n",
       "    if (typeof(WebSocket) !== 'undefined') {\n",
       "        return WebSocket;\n",
       "    } else if (typeof(MozWebSocket) !== 'undefined') {\n",
       "        return MozWebSocket;\n",
       "    } else {\n",
       "        alert('Your browser does not have WebSocket support.' +\n",
       "              'Please try Chrome, Safari or Firefox ≥ 6. ' +\n",
       "              'Firefox 4 and 5 are also supported but you ' +\n",
       "              'have to enable WebSockets in about:config.');\n",
       "    };\n",
       "}\n",
       "\n",
       "mpl.figure = function(figure_id, websocket, ondownload, parent_element) {\n",
       "    this.id = figure_id;\n",
       "\n",
       "    this.ws = websocket;\n",
       "\n",
       "    this.supports_binary = (this.ws.binaryType != undefined);\n",
       "\n",
       "    if (!this.supports_binary) {\n",
       "        var warnings = document.getElementById(\"mpl-warnings\");\n",
       "        if (warnings) {\n",
       "            warnings.style.display = 'block';\n",
       "            warnings.textContent = (\n",
       "                \"This browser does not support binary websocket messages. \" +\n",
       "                    \"Performance may be slow.\");\n",
       "        }\n",
       "    }\n",
       "\n",
       "    this.imageObj = new Image();\n",
       "\n",
       "    this.context = undefined;\n",
       "    this.message = undefined;\n",
       "    this.canvas = undefined;\n",
       "    this.rubberband_canvas = undefined;\n",
       "    this.rubberband_context = undefined;\n",
       "    this.format_dropdown = undefined;\n",
       "\n",
       "    this.image_mode = 'full';\n",
       "\n",
       "    this.root = $('<div/>');\n",
       "    this._root_extra_style(this.root)\n",
       "    this.root.attr('style', 'display: inline-block');\n",
       "\n",
       "    $(parent_element).append(this.root);\n",
       "\n",
       "    this._init_header(this);\n",
       "    this._init_canvas(this);\n",
       "    this._init_toolbar(this);\n",
       "\n",
       "    var fig = this;\n",
       "\n",
       "    this.waiting = false;\n",
       "\n",
       "    this.ws.onopen =  function () {\n",
       "            fig.send_message(\"supports_binary\", {value: fig.supports_binary});\n",
       "            fig.send_message(\"send_image_mode\", {});\n",
       "            if (mpl.ratio != 1) {\n",
       "                fig.send_message(\"set_dpi_ratio\", {'dpi_ratio': mpl.ratio});\n",
       "            }\n",
       "            fig.send_message(\"refresh\", {});\n",
       "        }\n",
       "\n",
       "    this.imageObj.onload = function() {\n",
       "            if (fig.image_mode == 'full') {\n",
       "                // Full images could contain transparency (where diff images\n",
       "                // almost always do), so we need to clear the canvas so that\n",
       "                // there is no ghosting.\n",
       "                fig.context.clearRect(0, 0, fig.canvas.width, fig.canvas.height);\n",
       "            }\n",
       "            fig.context.drawImage(fig.imageObj, 0, 0);\n",
       "        };\n",
       "\n",
       "    this.imageObj.onunload = function() {\n",
       "        fig.ws.close();\n",
       "    }\n",
       "\n",
       "    this.ws.onmessage = this._make_on_message_function(this);\n",
       "\n",
       "    this.ondownload = ondownload;\n",
       "}\n",
       "\n",
       "mpl.figure.prototype._init_header = function() {\n",
       "    var titlebar = $(\n",
       "        '<div class=\"ui-dialog-titlebar ui-widget-header ui-corner-all ' +\n",
       "        'ui-helper-clearfix\"/>');\n",
       "    var titletext = $(\n",
       "        '<div class=\"ui-dialog-title\" style=\"width: 100%; ' +\n",
       "        'text-align: center; padding: 3px;\"/>');\n",
       "    titlebar.append(titletext)\n",
       "    this.root.append(titlebar);\n",
       "    this.header = titletext[0];\n",
       "}\n",
       "\n",
       "\n",
       "\n",
       "mpl.figure.prototype._canvas_extra_style = function(canvas_div) {\n",
       "\n",
       "}\n",
       "\n",
       "\n",
       "mpl.figure.prototype._root_extra_style = function(canvas_div) {\n",
       "\n",
       "}\n",
       "\n",
       "mpl.figure.prototype._init_canvas = function() {\n",
       "    var fig = this;\n",
       "\n",
       "    var canvas_div = $('<div/>');\n",
       "\n",
       "    canvas_div.attr('style', 'position: relative; clear: both; outline: 0');\n",
       "\n",
       "    function canvas_keyboard_event(event) {\n",
       "        return fig.key_event(event, event['data']);\n",
       "    }\n",
       "\n",
       "    canvas_div.keydown('key_press', canvas_keyboard_event);\n",
       "    canvas_div.keyup('key_release', canvas_keyboard_event);\n",
       "    this.canvas_div = canvas_div\n",
       "    this._canvas_extra_style(canvas_div)\n",
       "    this.root.append(canvas_div);\n",
       "\n",
       "    var canvas = $('<canvas/>');\n",
       "    canvas.addClass('mpl-canvas');\n",
       "    canvas.attr('style', \"left: 0; top: 0; z-index: 0; outline: 0\")\n",
       "\n",
       "    this.canvas = canvas[0];\n",
       "    this.context = canvas[0].getContext(\"2d\");\n",
       "\n",
       "    var backingStore = this.context.backingStorePixelRatio ||\n",
       "\tthis.context.webkitBackingStorePixelRatio ||\n",
       "\tthis.context.mozBackingStorePixelRatio ||\n",
       "\tthis.context.msBackingStorePixelRatio ||\n",
       "\tthis.context.oBackingStorePixelRatio ||\n",
       "\tthis.context.backingStorePixelRatio || 1;\n",
       "\n",
       "    mpl.ratio = (window.devicePixelRatio || 1) / backingStore;\n",
       "\n",
       "    var rubberband = $('<canvas/>');\n",
       "    rubberband.attr('style', \"position: absolute; left: 0; top: 0; z-index: 1;\")\n",
       "\n",
       "    var pass_mouse_events = true;\n",
       "\n",
       "    canvas_div.resizable({\n",
       "        start: function(event, ui) {\n",
       "            pass_mouse_events = false;\n",
       "        },\n",
       "        resize: function(event, ui) {\n",
       "            fig.request_resize(ui.size.width, ui.size.height);\n",
       "        },\n",
       "        stop: function(event, ui) {\n",
       "            pass_mouse_events = true;\n",
       "            fig.request_resize(ui.size.width, ui.size.height);\n",
       "        },\n",
       "    });\n",
       "\n",
       "    function mouse_event_fn(event) {\n",
       "        if (pass_mouse_events)\n",
       "            return fig.mouse_event(event, event['data']);\n",
       "    }\n",
       "\n",
       "    rubberband.mousedown('button_press', mouse_event_fn);\n",
       "    rubberband.mouseup('button_release', mouse_event_fn);\n",
       "    // Throttle sequential mouse events to 1 every 20ms.\n",
       "    rubberband.mousemove('motion_notify', mouse_event_fn);\n",
       "\n",
       "    rubberband.mouseenter('figure_enter', mouse_event_fn);\n",
       "    rubberband.mouseleave('figure_leave', mouse_event_fn);\n",
       "\n",
       "    canvas_div.on(\"wheel\", function (event) {\n",
       "        event = event.originalEvent;\n",
       "        event['data'] = 'scroll'\n",
       "        if (event.deltaY < 0) {\n",
       "            event.step = 1;\n",
       "        } else {\n",
       "            event.step = -1;\n",
       "        }\n",
       "        mouse_event_fn(event);\n",
       "    });\n",
       "\n",
       "    canvas_div.append(canvas);\n",
       "    canvas_div.append(rubberband);\n",
       "\n",
       "    this.rubberband = rubberband;\n",
       "    this.rubberband_canvas = rubberband[0];\n",
       "    this.rubberband_context = rubberband[0].getContext(\"2d\");\n",
       "    this.rubberband_context.strokeStyle = \"#000000\";\n",
       "\n",
       "    this._resize_canvas = function(width, height) {\n",
       "        // Keep the size of the canvas, canvas container, and rubber band\n",
       "        // canvas in synch.\n",
       "        canvas_div.css('width', width)\n",
       "        canvas_div.css('height', height)\n",
       "\n",
       "        canvas.attr('width', width * mpl.ratio);\n",
       "        canvas.attr('height', height * mpl.ratio);\n",
       "        canvas.attr('style', 'width: ' + width + 'px; height: ' + height + 'px;');\n",
       "\n",
       "        rubberband.attr('width', width);\n",
       "        rubberband.attr('height', height);\n",
       "    }\n",
       "\n",
       "    // Set the figure to an initial 600x600px, this will subsequently be updated\n",
       "    // upon first draw.\n",
       "    this._resize_canvas(600, 600);\n",
       "\n",
       "    // Disable right mouse context menu.\n",
       "    $(this.rubberband_canvas).bind(\"contextmenu\",function(e){\n",
       "        return false;\n",
       "    });\n",
       "\n",
       "    function set_focus () {\n",
       "        canvas.focus();\n",
       "        canvas_div.focus();\n",
       "    }\n",
       "\n",
       "    window.setTimeout(set_focus, 100);\n",
       "}\n",
       "\n",
       "mpl.figure.prototype._init_toolbar = function() {\n",
       "    var fig = this;\n",
       "\n",
       "    var nav_element = $('<div/>')\n",
       "    nav_element.attr('style', 'width: 100%');\n",
       "    this.root.append(nav_element);\n",
       "\n",
       "    // Define a callback function for later on.\n",
       "    function toolbar_event(event) {\n",
       "        return fig.toolbar_button_onclick(event['data']);\n",
       "    }\n",
       "    function toolbar_mouse_event(event) {\n",
       "        return fig.toolbar_button_onmouseover(event['data']);\n",
       "    }\n",
       "\n",
       "    for(var toolbar_ind in mpl.toolbar_items) {\n",
       "        var name = mpl.toolbar_items[toolbar_ind][0];\n",
       "        var tooltip = mpl.toolbar_items[toolbar_ind][1];\n",
       "        var image = mpl.toolbar_items[toolbar_ind][2];\n",
       "        var method_name = mpl.toolbar_items[toolbar_ind][3];\n",
       "\n",
       "        if (!name) {\n",
       "            // put a spacer in here.\n",
       "            continue;\n",
       "        }\n",
       "        var button = $('<button/>');\n",
       "        button.addClass('ui-button ui-widget ui-state-default ui-corner-all ' +\n",
       "                        'ui-button-icon-only');\n",
       "        button.attr('role', 'button');\n",
       "        button.attr('aria-disabled', 'false');\n",
       "        button.click(method_name, toolbar_event);\n",
       "        button.mouseover(tooltip, toolbar_mouse_event);\n",
       "\n",
       "        var icon_img = $('<span/>');\n",
       "        icon_img.addClass('ui-button-icon-primary ui-icon');\n",
       "        icon_img.addClass(image);\n",
       "        icon_img.addClass('ui-corner-all');\n",
       "\n",
       "        var tooltip_span = $('<span/>');\n",
       "        tooltip_span.addClass('ui-button-text');\n",
       "        tooltip_span.html(tooltip);\n",
       "\n",
       "        button.append(icon_img);\n",
       "        button.append(tooltip_span);\n",
       "\n",
       "        nav_element.append(button);\n",
       "    }\n",
       "\n",
       "    var fmt_picker_span = $('<span/>');\n",
       "\n",
       "    var fmt_picker = $('<select/>');\n",
       "    fmt_picker.addClass('mpl-toolbar-option ui-widget ui-widget-content');\n",
       "    fmt_picker_span.append(fmt_picker);\n",
       "    nav_element.append(fmt_picker_span);\n",
       "    this.format_dropdown = fmt_picker[0];\n",
       "\n",
       "    for (var ind in mpl.extensions) {\n",
       "        var fmt = mpl.extensions[ind];\n",
       "        var option = $(\n",
       "            '<option/>', {selected: fmt === mpl.default_extension}).html(fmt);\n",
       "        fmt_picker.append(option)\n",
       "    }\n",
       "\n",
       "    // Add hover states to the ui-buttons\n",
       "    $( \".ui-button\" ).hover(\n",
       "        function() { $(this).addClass(\"ui-state-hover\");},\n",
       "        function() { $(this).removeClass(\"ui-state-hover\");}\n",
       "    );\n",
       "\n",
       "    var status_bar = $('<span class=\"mpl-message\"/>');\n",
       "    nav_element.append(status_bar);\n",
       "    this.message = status_bar[0];\n",
       "}\n",
       "\n",
       "mpl.figure.prototype.request_resize = function(x_pixels, y_pixels) {\n",
       "    // Request matplotlib to resize the figure. Matplotlib will then trigger a resize in the client,\n",
       "    // which will in turn request a refresh of the image.\n",
       "    this.send_message('resize', {'width': x_pixels, 'height': y_pixels});\n",
       "}\n",
       "\n",
       "mpl.figure.prototype.send_message = function(type, properties) {\n",
       "    properties['type'] = type;\n",
       "    properties['figure_id'] = this.id;\n",
       "    this.ws.send(JSON.stringify(properties));\n",
       "}\n",
       "\n",
       "mpl.figure.prototype.send_draw_message = function() {\n",
       "    if (!this.waiting) {\n",
       "        this.waiting = true;\n",
       "        this.ws.send(JSON.stringify({type: \"draw\", figure_id: this.id}));\n",
       "    }\n",
       "}\n",
       "\n",
       "\n",
       "mpl.figure.prototype.handle_save = function(fig, msg) {\n",
       "    var format_dropdown = fig.format_dropdown;\n",
       "    var format = format_dropdown.options[format_dropdown.selectedIndex].value;\n",
       "    fig.ondownload(fig, format);\n",
       "}\n",
       "\n",
       "\n",
       "mpl.figure.prototype.handle_resize = function(fig, msg) {\n",
       "    var size = msg['size'];\n",
       "    if (size[0] != fig.canvas.width || size[1] != fig.canvas.height) {\n",
       "        fig._resize_canvas(size[0], size[1]);\n",
       "        fig.send_message(\"refresh\", {});\n",
       "    };\n",
       "}\n",
       "\n",
       "mpl.figure.prototype.handle_rubberband = function(fig, msg) {\n",
       "    var x0 = msg['x0'] / mpl.ratio;\n",
       "    var y0 = (fig.canvas.height - msg['y0']) / mpl.ratio;\n",
       "    var x1 = msg['x1'] / mpl.ratio;\n",
       "    var y1 = (fig.canvas.height - msg['y1']) / mpl.ratio;\n",
       "    x0 = Math.floor(x0) + 0.5;\n",
       "    y0 = Math.floor(y0) + 0.5;\n",
       "    x1 = Math.floor(x1) + 0.5;\n",
       "    y1 = Math.floor(y1) + 0.5;\n",
       "    var min_x = Math.min(x0, x1);\n",
       "    var min_y = Math.min(y0, y1);\n",
       "    var width = Math.abs(x1 - x0);\n",
       "    var height = Math.abs(y1 - y0);\n",
       "\n",
       "    fig.rubberband_context.clearRect(\n",
       "        0, 0, fig.canvas.width, fig.canvas.height);\n",
       "\n",
       "    fig.rubberband_context.strokeRect(min_x, min_y, width, height);\n",
       "}\n",
       "\n",
       "mpl.figure.prototype.handle_figure_label = function(fig, msg) {\n",
       "    // Updates the figure title.\n",
       "    fig.header.textContent = msg['label'];\n",
       "}\n",
       "\n",
       "mpl.figure.prototype.handle_cursor = function(fig, msg) {\n",
       "    var cursor = msg['cursor'];\n",
       "    switch(cursor)\n",
       "    {\n",
       "    case 0:\n",
       "        cursor = 'pointer';\n",
       "        break;\n",
       "    case 1:\n",
       "        cursor = 'default';\n",
       "        break;\n",
       "    case 2:\n",
       "        cursor = 'crosshair';\n",
       "        break;\n",
       "    case 3:\n",
       "        cursor = 'move';\n",
       "        break;\n",
       "    }\n",
       "    fig.rubberband_canvas.style.cursor = cursor;\n",
       "}\n",
       "\n",
       "mpl.figure.prototype.handle_message = function(fig, msg) {\n",
       "    fig.message.textContent = msg['message'];\n",
       "}\n",
       "\n",
       "mpl.figure.prototype.handle_draw = function(fig, msg) {\n",
       "    // Request the server to send over a new figure.\n",
       "    fig.send_draw_message();\n",
       "}\n",
       "\n",
       "mpl.figure.prototype.handle_image_mode = function(fig, msg) {\n",
       "    fig.image_mode = msg['mode'];\n",
       "}\n",
       "\n",
       "mpl.figure.prototype.updated_canvas_event = function() {\n",
       "    // Called whenever the canvas gets updated.\n",
       "    this.send_message(\"ack\", {});\n",
       "}\n",
       "\n",
       "// A function to construct a web socket function for onmessage handling.\n",
       "// Called in the figure constructor.\n",
       "mpl.figure.prototype._make_on_message_function = function(fig) {\n",
       "    return function socket_on_message(evt) {\n",
       "        if (evt.data instanceof Blob) {\n",
       "            /* FIXME: We get \"Resource interpreted as Image but\n",
       "             * transferred with MIME type text/plain:\" errors on\n",
       "             * Chrome.  But how to set the MIME type?  It doesn't seem\n",
       "             * to be part of the websocket stream */\n",
       "            evt.data.type = \"image/png\";\n",
       "\n",
       "            /* Free the memory for the previous frames */\n",
       "            if (fig.imageObj.src) {\n",
       "                (window.URL || window.webkitURL).revokeObjectURL(\n",
       "                    fig.imageObj.src);\n",
       "            }\n",
       "\n",
       "            fig.imageObj.src = (window.URL || window.webkitURL).createObjectURL(\n",
       "                evt.data);\n",
       "            fig.updated_canvas_event();\n",
       "            fig.waiting = false;\n",
       "            return;\n",
       "        }\n",
       "        else if (typeof evt.data === 'string' && evt.data.slice(0, 21) == \"data:image/png;base64\") {\n",
       "            fig.imageObj.src = evt.data;\n",
       "            fig.updated_canvas_event();\n",
       "            fig.waiting = false;\n",
       "            return;\n",
       "        }\n",
       "\n",
       "        var msg = JSON.parse(evt.data);\n",
       "        var msg_type = msg['type'];\n",
       "\n",
       "        // Call the  \"handle_{type}\" callback, which takes\n",
       "        // the figure and JSON message as its only arguments.\n",
       "        try {\n",
       "            var callback = fig[\"handle_\" + msg_type];\n",
       "        } catch (e) {\n",
       "            console.log(\"No handler for the '\" + msg_type + \"' message type: \", msg);\n",
       "            return;\n",
       "        }\n",
       "\n",
       "        if (callback) {\n",
       "            try {\n",
       "                // console.log(\"Handling '\" + msg_type + \"' message: \", msg);\n",
       "                callback(fig, msg);\n",
       "            } catch (e) {\n",
       "                console.log(\"Exception inside the 'handler_\" + msg_type + \"' callback:\", e, e.stack, msg);\n",
       "            }\n",
       "        }\n",
       "    };\n",
       "}\n",
       "\n",
       "// from http://stackoverflow.com/questions/1114465/getting-mouse-location-in-canvas\n",
       "mpl.findpos = function(e) {\n",
       "    //this section is from http://www.quirksmode.org/js/events_properties.html\n",
       "    var targ;\n",
       "    if (!e)\n",
       "        e = window.event;\n",
       "    if (e.target)\n",
       "        targ = e.target;\n",
       "    else if (e.srcElement)\n",
       "        targ = e.srcElement;\n",
       "    if (targ.nodeType == 3) // defeat Safari bug\n",
       "        targ = targ.parentNode;\n",
       "\n",
       "    // jQuery normalizes the pageX and pageY\n",
       "    // pageX,Y are the mouse positions relative to the document\n",
       "    // offset() returns the position of the element relative to the document\n",
       "    var x = e.pageX - $(targ).offset().left;\n",
       "    var y = e.pageY - $(targ).offset().top;\n",
       "\n",
       "    return {\"x\": x, \"y\": y};\n",
       "};\n",
       "\n",
       "/*\n",
       " * return a copy of an object with only non-object keys\n",
       " * we need this to avoid circular references\n",
       " * http://stackoverflow.com/a/24161582/3208463\n",
       " */\n",
       "function simpleKeys (original) {\n",
       "  return Object.keys(original).reduce(function (obj, key) {\n",
       "    if (typeof original[key] !== 'object')\n",
       "        obj[key] = original[key]\n",
       "    return obj;\n",
       "  }, {});\n",
       "}\n",
       "\n",
       "mpl.figure.prototype.mouse_event = function(event, name) {\n",
       "    var canvas_pos = mpl.findpos(event)\n",
       "\n",
       "    if (name === 'button_press')\n",
       "    {\n",
       "        this.canvas.focus();\n",
       "        this.canvas_div.focus();\n",
       "    }\n",
       "\n",
       "    var x = canvas_pos.x * mpl.ratio;\n",
       "    var y = canvas_pos.y * mpl.ratio;\n",
       "\n",
       "    this.send_message(name, {x: x, y: y, button: event.button,\n",
       "                             step: event.step,\n",
       "                             guiEvent: simpleKeys(event)});\n",
       "\n",
       "    /* This prevents the web browser from automatically changing to\n",
       "     * the text insertion cursor when the button is pressed.  We want\n",
       "     * to control all of the cursor setting manually through the\n",
       "     * 'cursor' event from matplotlib */\n",
       "    event.preventDefault();\n",
       "    return false;\n",
       "}\n",
       "\n",
       "mpl.figure.prototype._key_event_extra = function(event, name) {\n",
       "    // Handle any extra behaviour associated with a key event\n",
       "}\n",
       "\n",
       "mpl.figure.prototype.key_event = function(event, name) {\n",
       "\n",
       "    // Prevent repeat events\n",
       "    if (name == 'key_press')\n",
       "    {\n",
       "        if (event.which === this._key)\n",
       "            return;\n",
       "        else\n",
       "            this._key = event.which;\n",
       "    }\n",
       "    if (name == 'key_release')\n",
       "        this._key = null;\n",
       "\n",
       "    var value = '';\n",
       "    if (event.ctrlKey && event.which != 17)\n",
       "        value += \"ctrl+\";\n",
       "    if (event.altKey && event.which != 18)\n",
       "        value += \"alt+\";\n",
       "    if (event.shiftKey && event.which != 16)\n",
       "        value += \"shift+\";\n",
       "\n",
       "    value += 'k';\n",
       "    value += event.which.toString();\n",
       "\n",
       "    this._key_event_extra(event, name);\n",
       "\n",
       "    this.send_message(name, {key: value,\n",
       "                             guiEvent: simpleKeys(event)});\n",
       "    return false;\n",
       "}\n",
       "\n",
       "mpl.figure.prototype.toolbar_button_onclick = function(name) {\n",
       "    if (name == 'download') {\n",
       "        this.handle_save(this, null);\n",
       "    } else {\n",
       "        this.send_message(\"toolbar_button\", {name: name});\n",
       "    }\n",
       "};\n",
       "\n",
       "mpl.figure.prototype.toolbar_button_onmouseover = function(tooltip) {\n",
       "    this.message.textContent = tooltip;\n",
       "};\n",
       "mpl.toolbar_items = [[\"Home\", \"Reset original view\", \"fa fa-home icon-home\", \"home\"], [\"Back\", \"Back to previous view\", \"fa fa-arrow-left icon-arrow-left\", \"back\"], [\"Forward\", \"Forward to next view\", \"fa fa-arrow-right icon-arrow-right\", \"forward\"], [\"\", \"\", \"\", \"\"], [\"Pan\", \"Pan axes with left mouse, zoom with right\", \"fa fa-arrows icon-move\", \"pan\"], [\"Zoom\", \"Zoom to rectangle\", \"fa fa-square-o icon-check-empty\", \"zoom\"], [\"\", \"\", \"\", \"\"], [\"Download\", \"Download plot\", \"fa fa-floppy-o icon-save\", \"download\"]];\n",
       "\n",
       "mpl.extensions = [\"eps\", \"pdf\", \"png\", \"ps\", \"raw\", \"svg\"];\n",
       "\n",
       "mpl.default_extension = \"png\";var comm_websocket_adapter = function(comm) {\n",
       "    // Create a \"websocket\"-like object which calls the given IPython comm\n",
       "    // object with the appropriate methods. Currently this is a non binary\n",
       "    // socket, so there is still some room for performance tuning.\n",
       "    var ws = {};\n",
       "\n",
       "    ws.close = function() {\n",
       "        comm.close()\n",
       "    };\n",
       "    ws.send = function(m) {\n",
       "        //console.log('sending', m);\n",
       "        comm.send(m);\n",
       "    };\n",
       "    // Register the callback with on_msg.\n",
       "    comm.on_msg(function(msg) {\n",
       "        //console.log('receiving', msg['content']['data'], msg);\n",
       "        // Pass the mpl event to the overridden (by mpl) onmessage function.\n",
       "        ws.onmessage(msg['content']['data'])\n",
       "    });\n",
       "    return ws;\n",
       "}\n",
       "\n",
       "mpl.mpl_figure_comm = function(comm, msg) {\n",
       "    // This is the function which gets called when the mpl process\n",
       "    // starts-up an IPython Comm through the \"matplotlib\" channel.\n",
       "\n",
       "    var id = msg.content.data.id;\n",
       "    // Get hold of the div created by the display call when the Comm\n",
       "    // socket was opened in Python.\n",
       "    var element = $(\"#\" + id);\n",
       "    var ws_proxy = comm_websocket_adapter(comm)\n",
       "\n",
       "    function ondownload(figure, format) {\n",
       "        window.open(figure.imageObj.src);\n",
       "    }\n",
       "\n",
       "    var fig = new mpl.figure(id, ws_proxy,\n",
       "                           ondownload,\n",
       "                           element.get(0));\n",
       "\n",
       "    // Call onopen now - mpl needs it, as it is assuming we've passed it a real\n",
       "    // web socket which is closed, not our websocket->open comm proxy.\n",
       "    ws_proxy.onopen();\n",
       "\n",
       "    fig.parent_element = element.get(0);\n",
       "    fig.cell_info = mpl.find_output_cell(\"<div id='\" + id + \"'></div>\");\n",
       "    if (!fig.cell_info) {\n",
       "        console.error(\"Failed to find cell for figure\", id, fig);\n",
       "        return;\n",
       "    }\n",
       "\n",
       "    var output_index = fig.cell_info[2]\n",
       "    var cell = fig.cell_info[0];\n",
       "\n",
       "};\n",
       "\n",
       "mpl.figure.prototype.handle_close = function(fig, msg) {\n",
       "    var width = fig.canvas.width/mpl.ratio\n",
       "    fig.root.unbind('remove')\n",
       "\n",
       "    // Update the output cell to use the data from the current canvas.\n",
       "    fig.push_to_output();\n",
       "    var dataURL = fig.canvas.toDataURL();\n",
       "    // Re-enable the keyboard manager in IPython - without this line, in FF,\n",
       "    // the notebook keyboard shortcuts fail.\n",
       "    IPython.keyboard_manager.enable()\n",
       "    $(fig.parent_element).html('<img src=\"' + dataURL + '\" width=\"' + width + '\">');\n",
       "    fig.close_ws(fig, msg);\n",
       "}\n",
       "\n",
       "mpl.figure.prototype.close_ws = function(fig, msg){\n",
       "    fig.send_message('closing', msg);\n",
       "    // fig.ws.close()\n",
       "}\n",
       "\n",
       "mpl.figure.prototype.push_to_output = function(remove_interactive) {\n",
       "    // Turn the data on the canvas into data in the output cell.\n",
       "    var width = this.canvas.width/mpl.ratio\n",
       "    var dataURL = this.canvas.toDataURL();\n",
       "    this.cell_info[1]['text/html'] = '<img src=\"' + dataURL + '\" width=\"' + width + '\">';\n",
       "}\n",
       "\n",
       "mpl.figure.prototype.updated_canvas_event = function() {\n",
       "    // Tell IPython that the notebook contents must change.\n",
       "    IPython.notebook.set_dirty(true);\n",
       "    this.send_message(\"ack\", {});\n",
       "    var fig = this;\n",
       "    // Wait a second, then push the new image to the DOM so\n",
       "    // that it is saved nicely (might be nice to debounce this).\n",
       "    setTimeout(function () { fig.push_to_output() }, 1000);\n",
       "}\n",
       "\n",
       "mpl.figure.prototype._init_toolbar = function() {\n",
       "    var fig = this;\n",
       "\n",
       "    var nav_element = $('<div/>')\n",
       "    nav_element.attr('style', 'width: 100%');\n",
       "    this.root.append(nav_element);\n",
       "\n",
       "    // Define a callback function for later on.\n",
       "    function toolbar_event(event) {\n",
       "        return fig.toolbar_button_onclick(event['data']);\n",
       "    }\n",
       "    function toolbar_mouse_event(event) {\n",
       "        return fig.toolbar_button_onmouseover(event['data']);\n",
       "    }\n",
       "\n",
       "    for(var toolbar_ind in mpl.toolbar_items){\n",
       "        var name = mpl.toolbar_items[toolbar_ind][0];\n",
       "        var tooltip = mpl.toolbar_items[toolbar_ind][1];\n",
       "        var image = mpl.toolbar_items[toolbar_ind][2];\n",
       "        var method_name = mpl.toolbar_items[toolbar_ind][3];\n",
       "\n",
       "        if (!name) { continue; };\n",
       "\n",
       "        var button = $('<button class=\"btn btn-default\" href=\"#\" title=\"' + name + '\"><i class=\"fa ' + image + ' fa-lg\"></i></button>');\n",
       "        button.click(method_name, toolbar_event);\n",
       "        button.mouseover(tooltip, toolbar_mouse_event);\n",
       "        nav_element.append(button);\n",
       "    }\n",
       "\n",
       "    // Add the status bar.\n",
       "    var status_bar = $('<span class=\"mpl-message\" style=\"text-align:right; float: right;\"/>');\n",
       "    nav_element.append(status_bar);\n",
       "    this.message = status_bar[0];\n",
       "\n",
       "    // Add the close button to the window.\n",
       "    var buttongrp = $('<div class=\"btn-group inline pull-right\"></div>');\n",
       "    var button = $('<button class=\"btn btn-mini btn-primary\" href=\"#\" title=\"Stop Interaction\"><i class=\"fa fa-power-off icon-remove icon-large\"></i></button>');\n",
       "    button.click(function (evt) { fig.handle_close(fig, {}); } );\n",
       "    button.mouseover('Stop Interaction', toolbar_mouse_event);\n",
       "    buttongrp.append(button);\n",
       "    var titlebar = this.root.find($('.ui-dialog-titlebar'));\n",
       "    titlebar.prepend(buttongrp);\n",
       "}\n",
       "\n",
       "mpl.figure.prototype._root_extra_style = function(el){\n",
       "    var fig = this\n",
       "    el.on(\"remove\", function(){\n",
       "\tfig.close_ws(fig, {});\n",
       "    });\n",
       "}\n",
       "\n",
       "mpl.figure.prototype._canvas_extra_style = function(el){\n",
       "    // this is important to make the div 'focusable\n",
       "    el.attr('tabindex', 0)\n",
       "    // reach out to IPython and tell the keyboard manager to turn it's self\n",
       "    // off when our div gets focus\n",
       "\n",
       "    // location in version 3\n",
       "    if (IPython.notebook.keyboard_manager) {\n",
       "        IPython.notebook.keyboard_manager.register_events(el);\n",
       "    }\n",
       "    else {\n",
       "        // location in version 2\n",
       "        IPython.keyboard_manager.register_events(el);\n",
       "    }\n",
       "\n",
       "}\n",
       "\n",
       "mpl.figure.prototype._key_event_extra = function(event, name) {\n",
       "    var manager = IPython.notebook.keyboard_manager;\n",
       "    if (!manager)\n",
       "        manager = IPython.keyboard_manager;\n",
       "\n",
       "    // Check for shift+enter\n",
       "    if (event.shiftKey && event.which == 13) {\n",
       "        this.canvas_div.blur();\n",
       "        event.shiftKey = false;\n",
       "        // Send a \"J\" for go to next cell\n",
       "        event.which = 74;\n",
       "        event.keyCode = 74;\n",
       "        manager.command_mode();\n",
       "        manager.handle_keydown(event);\n",
       "    }\n",
       "}\n",
       "\n",
       "mpl.figure.prototype.handle_save = function(fig, msg) {\n",
       "    fig.ondownload(fig, null);\n",
       "}\n",
       "\n",
       "\n",
       "mpl.find_output_cell = function(html_output) {\n",
       "    // Return the cell and output element which can be found *uniquely* in the notebook.\n",
       "    // Note - this is a bit hacky, but it is done because the \"notebook_saving.Notebook\"\n",
       "    // IPython event is triggered only after the cells have been serialised, which for\n",
       "    // our purposes (turning an active figure into a static one), is too late.\n",
       "    var cells = IPython.notebook.get_cells();\n",
       "    var ncells = cells.length;\n",
       "    for (var i=0; i<ncells; i++) {\n",
       "        var cell = cells[i];\n",
       "        if (cell.cell_type === 'code'){\n",
       "            for (var j=0; j<cell.output_area.outputs.length; j++) {\n",
       "                var data = cell.output_area.outputs[j];\n",
       "                if (data.data) {\n",
       "                    // IPython >= 3 moved mimebundle to data attribute of output\n",
       "                    data = data.data;\n",
       "                }\n",
       "                if (data['text/html'] == html_output) {\n",
       "                    return [cell, data, j];\n",
       "                }\n",
       "            }\n",
       "        }\n",
       "    }\n",
       "}\n",
       "\n",
       "// Register the function which deals with the matplotlib target/channel.\n",
       "// The kernel may be null if the page has been refreshed.\n",
       "if (IPython.notebook.kernel != null) {\n",
       "    IPython.notebook.kernel.comm_manager.register_target('matplotlib', mpl.mpl_figure_comm);\n",
       "}\n"
      ],
      "text/plain": [
       "<IPython.core.display.Javascript object>"
      ]
     },
     "metadata": {},
     "output_type": "display_data"
    },
    {
     "data": {
      "text/html": [
       "<img src=\"data:image/png;base64,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\" width=\"640\">"
      ],
      "text/plain": [
       "<IPython.core.display.HTML object>"
      ]
     },
     "metadata": {},
     "output_type": "display_data"
    }
   ],
   "source": [
    "%matplotlib notebook \n",
    "from datetime import datetime\n",
    "import matplotlib.pyplot as plt\n",
    "\n",
    "\n",
    "dates, prices = zip(*dates_and_prices)\n",
    "ref_day = datetime.today()\n",
    "times = [datetime.combine(ref_day, t.time()) for t in dates] # get the time intervals for today\n",
    "\n",
    "# plot\n",
    "plt.plot(times, prices, 'ro')\n",
    "#plt.plot(dates, prices, 'ro')\n",
    "# beautify the x-labels\n",
    "plt.gcf().autofmt_xdate()\n",
    "\n",
    "plt.show()"
   ]
  },
  {
   "cell_type": "markdown",
   "metadata": {
    "slideshow": {
     "slide_type": "slide"
    }
   },
   "source": [
    "### The Pearson Correlation Coefficient\n",
    "\n",
    "The Pearson correlation coefficient measures the linear relationship\n",
    "between two datasets. Like other correlation coefficients, this one varies between -1 and +1\n",
    "with 0 implying no correlation. Correlations of -1 or +1 imply an exact\n",
    "linear relationship. Positive correlations imply that as x increases, so\n",
    "does y. Negative correlations imply that as x increases, y decreases.\n",
    "\n",
    "The p-value roughly indicates the probability of an uncorrelated system\n",
    "producing datasets that have a Pearson correlation at least as extreme\n",
    "as the one computed from these datasets."
   ]
  },
  {
   "cell_type": "code",
   "execution_count": 58,
   "metadata": {
    "slideshow": {
     "slide_type": "slide"
    }
   },
   "outputs": [
    {
     "data": {
      "text/plain": [
       "(0.008840273117261523, 0.7727034143471962)"
      ]
     },
     "execution_count": 58,
     "metadata": {},
     "output_type": "execute_result"
    }
   ],
   "source": [
    "import matplotlib\n",
    "from scipy.stats.stats import pearsonr\n",
    "\n",
    "\n",
    "x, y = zip(*dates_and_prices)\n",
    "x = matplotlib.dates.date2num(x)\n",
    "\n",
    "pearsonr(x, y)"
   ]
  },
  {
   "cell_type": "markdown",
   "metadata": {
    "slideshow": {
     "slide_type": "slide"
    }
   },
   "source": [
    "Consequently, since our Pearson Correlation Coefficient is quite close to zero, there is likely no correlation between the start time of a concert and the price you have to pay for it."
   ]
  },
  {
   "cell_type": "markdown",
   "metadata": {
    "slideshow": {
     "slide_type": "slide"
    }
   },
   "source": [
    "# Class exercise: Scraping Images from a Page\n",
    "\n",
    "In the following code you will use Beautiful Soup to extract all links to images, which are in `img` tags on a web page."
   ]
  },
  {
   "cell_type": "code",
   "execution_count": 72,
   "metadata": {
    "scrolled": true,
    "slideshow": {
     "slide_type": "slide"
    }
   },
   "outputs": [],
   "source": [
    "import bs4\n",
    "import os\n",
    "import sys\n",
    "import requests\n",
    "import shutil\n",
    "\n",
    "\n",
    "def collect_img_links(url):\n",
    "    r = requests.get(url)\n",
    "    r.raise_for_status()\n",
    "    soup = bs4.BeautifulSoup(r.text, 'html.parser')\n",
    "    \n",
    "    return [img.get('src') for img in soup.select('img') \n",
    "            if img.get('src').startswith('http')]\n",
    "\n",
    "\n",
    "def download_imgs(links, out_folder=\"./test/\"):\n",
    "    img_no = 0\n",
    "    for l in links:\n",
    "        img_no += 1\n",
    "        r = requests.get(l, stream=True)\n",
    "        with open(out_folder+'img'+str(img_no)+'.jpg', 'wb') as f:\n",
    "            r.raw.decode_content = True\n",
    "            shutil.copyfileobj(r.raw, f)     \n",
    "        \n",
    "links = collect_img_links('https://www.google.dk/search?site=&tbm=isch&source=hp&biw=1163&bih=812&q=minions&oq=minions')\n",
    "download_imgs(links)"
   ]
  },
  {
   "cell_type": "markdown",
   "metadata": {
    "slideshow": {
     "slide_type": "slide"
    }
   },
   "source": [
    "# Exercise 2: Writing a Simple Web Crawler\n",
    "\n",
    "Write a simple web crawler. More precisely, a program that extracts recursively all links from web pages. The result of running the web crawler is a dictionary, were the key-value pairs correspond to outgoiung links from a web page with the URL, which is stored in the key.\n",
    "\n",
    "\n",
    "In case a page returns a status code, which is not `200` we just disregard this page. See https://en.wikipedia.org/wiki/List_of_HTTP_status_codes for more detailes on the various HTTP status codes."
   ]
  },
  {
   "cell_type": "code",
   "execution_count": 77,
   "metadata": {
    "slideshow": {
     "slide_type": "slide"
    }
   },
   "outputs": [],
   "source": [
    "def scrape_links(from_url, for_depth, all_links={}):\n",
    "    # This is what the exercise below asks you to implement!\n",
    "    pass\n",
    "\n",
    "\n",
    "start_url = 'https://www.version2.dk/artikel/google-deepmind-vi-oeger-sikkerheden-mod-misbrug-sundhedsdata-1074452'\n",
    "\n",
    "link_dict = scrape_links(from_url=start_url, for_depth=2)"
   ]
  },
  {
   "cell_type": "markdown",
   "metadata": {
    "slideshow": {
     "slide_type": "slide"
    }
   },
   "source": [
    "The web crawler that you wrote above is perhaps not the most performant. If you are interested in more web scraping and application of crawlers have a look at the `scrapy` module (https://scrapy.org)"
   ]
  }
 ],
 "metadata": {
  "celltoolbar": "Slideshow",
  "kernelspec": {
   "display_name": "Python 3",
   "language": "python",
   "name": "python3"
  },
  "language_info": {
   "codemirror_mode": {
    "name": "ipython",
    "version": 3
   },
   "file_extension": ".py",
   "mimetype": "text/x-python",
   "name": "python",
   "nbconvert_exporter": "python",
   "pygments_lexer": "ipython3",
   "version": "3.7.1"
  }
 },
 "nbformat": 4,
 "nbformat_minor": 2
}
