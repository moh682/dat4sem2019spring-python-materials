{
 "cells": [
  {
   "cell_type": "markdown",
   "metadata": {},
   "source": [
    "# The course structure\n",
    "Tuesday afternoon: lectures and exercises\n",
    "Each second thursday: Working on exercises.\n",
    "\n",
    "## Homework 1\n",
    "\n",
    "First exercise: Go to https://codingbat.com/python and find 10 - 20 exercises, that matches your skills (not too easy and not too hard). Choose exercises in topics of both string, logic and lists. Solve the exercises."
   ]
  }
 ],
 "metadata": {
  "kernelspec": {
   "display_name": "Python 3",
   "language": "python",
   "name": "python3"
  },
  "language_info": {
   "codemirror_mode": {
    "name": "ipython",
    "version": 3
   },
   "file_extension": ".py",
   "mimetype": "text/x-python",
   "name": "python",
   "nbconvert_exporter": "python",
   "pygments_lexer": "ipython3",
   "version": "3.7.0"
  }
 },
 "nbformat": 4,
 "nbformat_minor": 2
}
