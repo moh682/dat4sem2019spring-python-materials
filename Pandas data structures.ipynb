{
 "cells": [
  {
   "cell_type": "markdown",
   "metadata": {},
   "source": [
    "# Pandas TOC\n",
    "[main ressource](https://www.tutorialspoint.com/python_pandas/python_pandas_introduction_to_data_structures.htm)\n",
    "- Datetime in python\n",
    "- 3 objects: Date, Time, DateTime  (from datetime import datetime, date, time)\n",
    "- time deltas (from datetime import timedelta)\n",
    "  - operations:\n",
    "    - minus, plus, multiply, divide\n",
    "- convert between datetime and string and vice versa\n",
    "  - `datetime.now().isoformat()` convert to string\n",
    "  - `datetime.strptime('21/11/06 16:30', '%d/%m/%y %H:%M')` convert to datetime\n",
    "  - `import dateutil.parser; dateutil.parser.parse('21/11-06 16:30')` easy (forgiving) datatime parsing lib\n",
    "- Pandas (Series and DataFrame)\n",
    "  - Series\n",
    "    - 1 dimensional data structure (keys and values)\n",
    "    - keys default to zero-indexed, but can be given anything\n",
    "  - DataFrame2\n",
    "    - 2 dimensional data structure\n",
    "    - `pandas.DataFrame( data, index, columns, dtype, copy)`\n",
    "    - columns can be of different types\n",
    "    - data can be lists, dicts, maps, ndarrays."
   ]
  },
  {
   "cell_type": "code",
   "execution_count": 4,
   "metadata": {},
   "outputs": [
    {
     "data": {
      "text/plain": [
       "0    4\n",
       "1    3\n",
       "2    2\n",
       "3    1\n",
       "dtype: int64"
      ]
     },
     "execution_count": 4,
     "metadata": {},
     "output_type": "execute_result"
    }
   ],
   "source": [
    "import pandas as pd\n",
    "pd.Series([4,3,2,1]) # zero indexed one dimentional data structure"
   ]
  },
  {
   "cell_type": "code",
   "execution_count": 6,
   "metadata": {},
   "outputs": [
    {
     "data": {
      "text/plain": [
       "address    Sønder boulevard 43\n",
       "age                         39\n",
       "job                  carpenter\n",
       "name                     Olsen\n",
       "dtype: object"
      ]
     },
     "execution_count": 6,
     "metadata": {},
     "output_type": "execute_result"
    }
   ],
   "source": [
    "pd.Series({'name':'Olsen','age':39,'address':'Sønder boulevard 43','job':'carpenter'}) #indexed by dict keys"
   ]
  },
  {
   "cell_type": "code",
   "execution_count": 8,
   "metadata": {},
   "outputs": [
    {
     "data": {
      "text/plain": [
       "5     56\n",
       "7     56\n",
       "9     56\n",
       "11    56\n",
       "13    56\n",
       "15    56\n",
       "17    56\n",
       "19    56\n",
       "dtype: int64"
      ]
     },
     "execution_count": 8,
     "metadata": {},
     "output_type": "execute_result"
    }
   ],
   "source": [
    "pd.Series(56, range(5,20,2)) #scalar value, and indexes created from "
   ]
  },
  {
   "cell_type": "code",
   "execution_count": 15,
   "metadata": {},
   "outputs": [
    {
     "name": "stdout",
     "output_type": "stream",
     "text": [
      "100    a\n",
      "90     b\n",
      "80     c\n",
      "70     d\n",
      "dtype: object\n"
     ]
    }
   ],
   "source": [
    "import pandas as pd\n",
    "import numpy as np\n",
    "data = np.array(['a','b','c','d'])\n",
    "pd_data = pd.Series(data, [100,90,80,70]) #numpy ndarray as input for pandas Series values\n",
    "print(pd_data)"
   ]
  },
  {
   "cell_type": "markdown",
   "metadata": {},
   "source": [
    "### Accessing data from pd.Series"
   ]
  },
  {
   "cell_type": "markdown",
   "metadata": {},
   "source": [
    "print(pd_data[100]) #acces with key\n",
    "print(pd_data[:3])  #acces with slicing\n",
    "print(pd_data[-2:])  #slicing from behind"
   ]
  },
  {
   "cell_type": "code",
   "execution_count": null,
   "metadata": {},
   "outputs": [],
   "source": [
    "# error when key does not exist in Series:\n",
    "print(pd_data[110])"
   ]
  },
  {
   "cell_type": "markdown",
   "metadata": {},
   "source": [
    "### pd.DataFrame\n",
    "The panda dataframe is a 2 dimentional data structure with columns and rows:\n",
    "<img src=\"https://www.tutorialspoint.com/python_pandas/images/structure_table.jpg\" alt=\"drawing\" width=\"300\"/>\n"
   ]
  },
  {
   "cell_type": "markdown",
   "metadata": {},
   "source": [
    "[Tutorial on concat of dataframes](https://www.dataquest.io/blog/pandas-concatenation-tutorial/)"
   ]
  }
 ],
 "metadata": {
  "kernelspec": {
   "display_name": "Python 3",
   "language": "python",
   "name": "python3"
  },
  "language_info": {
   "codemirror_mode": {
    "name": "ipython",
    "version": 3
   },
   "file_extension": ".py",
   "mimetype": "text/x-python",
   "name": "python",
   "nbconvert_exporter": "python",
   "pygments_lexer": "ipython3",
   "version": "3.5.2"
  }
 },
 "nbformat": 4,
 "nbformat_minor": 2
}
