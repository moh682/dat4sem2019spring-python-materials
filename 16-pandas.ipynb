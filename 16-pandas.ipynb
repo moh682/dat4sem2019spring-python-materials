{
 "cells": [
  {
   "cell_type": "markdown",
   "metadata": {
    "slideshow": {
     "slide_type": "slide"
    }
   },
   "source": [
    "# The course so far...\n",
    "\n",
    "* Whirlwind through Python\n",
    "* Filer, CLI, OO\n",
    "* Plotting\n",
    "* Numpy"
   ]
  },
  {
   "cell_type": "markdown",
   "metadata": {
    "slideshow": {
     "slide_type": "subslide"
    }
   },
   "source": [
    "## What is left ...\n",
    "\n",
    "* More data processing with Pandas (today)\n",
    "* Multiprocessing, generators and requests\n",
    "* Graphs and PageRank\n",
    "* Webscraping\n",
    "* Feature engineering\n",
    "* Neural networks\n",
    "* Image processing\n",
    "* Movement detection"
   ]
  },
  {
   "cell_type": "markdown",
   "metadata": {
    "slideshow": {
     "slide_type": "fragment"
    }
   },
   "source": [
    "* Project!"
   ]
  },
  {
   "cell_type": "markdown",
   "metadata": {
    "slideshow": {
     "slide_type": "slide"
    }
   },
   "source": [
    "# Learning objectives"
   ]
  },
  {
   "cell_type": "markdown",
   "metadata": {
    "slideshow": {
     "slide_type": "subslide"
    }
   },
   "source": [
    "## Skills \n",
    "\n",
    "* Write Python scripts and programs using common language constructs in the read-eval-print-loop (REPL), “Jupyter Notebooks”, as well as separate self-contained programs. \n",
    "\n",
    "* Download files from the web programmatically, as well as reading most common file formats programmatically. \n",
    "\n",
    "* Create various types of plots programmatically to share insight into data. \n",
    "\n",
    "* Apply Python’s scientific libraries and some of the most prominent algorithms in data science for problem solving and complexity reduction. \n",
    "\n",
    "* Programmatically, process images and streams of images. \n",
    "\n",
    "* Automate repetitive and boring tasks for example for data collection or UI testing. \n",
    "\n",
    " "
   ]
  },
  {
   "cell_type": "markdown",
   "metadata": {
    "slideshow": {
     "slide_type": "subslide"
    }
   },
   "source": [
    "\n",
    "\n",
    "## Competencies \n",
    "\n",
    "* collect various types of data \n",
    "\n",
    "* formulate problems about this data \n",
    "\n",
    "* implement solutions to given problem statements \n",
    "\n",
    "* present results on an abstract as well as technical level \n",
    "\n",
    "*  gain experiences in code reviews by reviewing Python code of their fellow students"
   ]
  },
  {
   "cell_type": "markdown",
   "metadata": {
    "slideshow": {
     "slide_type": "subslide"
    }
   },
   "source": [
    "## Exam\n",
    "* Group presentation of 10 minutes followed by 10 minutes of questions per student (minimum 30 minutes). \n",
    "\n",
    "* The exam is based on a presentation of the student’s group project and it is facilitated by an interactive programming environment. Additionally, this includes a discussion of the project’s solutions with respect to the main topics of the course.\n",
    "* For the main topics questions will be known to the students in advance. "
   ]
  },
  {
   "cell_type": "markdown",
   "metadata": {
    "slideshow": {
     "slide_type": "slide"
    }
   },
   "source": [
    "# TOC\n",
    "- Datetime in python\n",
    "  - Date, Time, DateTime\n",
    "  - time deltas (from datetime import timedelta)\n",
    "  - convert between datetime and string and vice versa\n",
    "- Pandas\n",
    "  - Loading and reading data\n",
    "  - Series\n",
    "    - 1 dimensional data structure\n",
    "  - DataFrame\n",
    "    - 2 dimensional data structure\n",
    "    - `pandas.DataFrame( data, index, columns, dtype, copy)`\n",
    "    - columns can be of different types\n",
    "    - data can be lists, dicts, maps, ndarrays."
   ]
  },
  {
   "cell_type": "markdown",
   "metadata": {
    "slideshow": {
     "slide_type": "subslide"
    }
   },
   "source": [
    "## Initialising `numpy` and `matplotlib`"
   ]
  },
  {
   "cell_type": "code",
   "execution_count": 54,
   "metadata": {
    "slideshow": {
     "slide_type": "fragment"
    }
   },
   "outputs": [
    {
     "name": "stdout",
     "output_type": "stream",
     "text": [
      "Populating the interactive namespace from numpy and matplotlib\n"
     ]
    },
    {
     "name": "stderr",
     "output_type": "stream",
     "text": [
      "/anaconda3/lib/python3.7/site-packages/IPython/core/magics/pylab.py:160: UserWarning: pylab import has clobbered these variables: ['f', 'time', 'datetime']\n",
      "`%matplotlib` prevents importing * from pylab and numpy\n",
      "  \"\\n`%matplotlib` prevents importing * from pylab and numpy\"\n"
     ]
    }
   ],
   "source": [
    "%pylab inline"
   ]
  },
  {
   "cell_type": "markdown",
   "metadata": {
    "slideshow": {
     "slide_type": "subslide"
    }
   },
   "source": [
    "# Datetime in Python\n",
    "\n",
    "This intro to handling *dates* and *times* in Python is based on the documentation of the standard library's `datetime` module https://docs.python.org/3.6/library/datetime.html.\n",
    "\n",
    "The datetime module supplies classes for manipulating *dates* and *times* in both simple and complex ways. While date and time arithmetic is supported, the focus of the implementation is on efficient attribute extraction for output formatting and manipulation."
   ]
  },
  {
   "cell_type": "markdown",
   "metadata": {
    "slideshow": {
     "slide_type": "subslide"
    }
   },
   "source": [
    "## Date Objects\n",
    "\n",
    "A date object represents a date (year, month and day) in an idealized calendar, the current Gregorian calendar indefinitely extended in both directions. January 1 of year 1 is called day number 1, January 2 of year 1 is called day number 2, and so on. This matches the definition of the \"proleptic Gregorian\" calendar in Dershowitz and Reingold’s book Calendrical Calculations, where it is the base calendar for all computations. See the book for algorithms for converting between proleptic Gregorian ordinals and many other calendar systems. Alternatively, you can have a look at the paper describing what is extended in the book:\n",
    "http://www.cs.tau.ac.il/~nachumd/papers/cc-paper.pdf"
   ]
  },
  {
   "cell_type": "code",
   "execution_count": 55,
   "metadata": {
    "slideshow": {
     "slide_type": "subslide"
    }
   },
   "outputs": [
    {
     "name": "stdout",
     "output_type": "stream",
     "text": [
      "2019-03-05\n"
     ]
    },
    {
     "data": {
      "text/plain": [
       "datetime.date(2019, 3, 5)"
      ]
     },
     "execution_count": 55,
     "metadata": {},
     "output_type": "execute_result"
    }
   ],
   "source": [
    "from datetime import date\n",
    "\n",
    "\n",
    "today = date.today()\n",
    "print(today)\n",
    "today"
   ]
  },
  {
   "cell_type": "code",
   "execution_count": 56,
   "metadata": {
    "slideshow": {
     "slide_type": "subslide"
    }
   },
   "outputs": [
    {
     "data": {
      "text/plain": [
       "datetime.date(2019, 10, 2)"
      ]
     },
     "execution_count": 56,
     "metadata": {},
     "output_type": "execute_result"
    }
   ],
   "source": [
    "today = date(today.year, 10, 2)\n",
    "today"
   ]
  },
  {
   "cell_type": "code",
   "execution_count": 57,
   "metadata": {
    "slideshow": {
     "slide_type": "subslide"
    }
   },
   "outputs": [
    {
     "data": {
      "text/plain": [
       "7"
      ]
     },
     "execution_count": 57,
     "metadata": {},
     "output_type": "execute_result"
    }
   ],
   "source": [
    "next_lecture = date(today.year, 10, 9)\n",
    "time_to_next_lecture = abs(next_lecture - today)\n",
    "time_to_next_lecture.days"
   ]
  },
  {
   "cell_type": "code",
   "execution_count": 58,
   "metadata": {
    "slideshow": {
     "slide_type": "subslide"
    }
   },
   "outputs": [
    {
     "data": {
      "text/plain": [
       "5"
      ]
     },
     "execution_count": 58,
     "metadata": {},
     "output_type": "execute_result"
    }
   ],
   "source": [
    "from datetime import timedelta\n",
    "# see the timedelta documentation:\n",
    "# https://docs.python.org/3.6/library/datetime.html#timedelta-objects\n",
    "\n",
    "next_lecture = date(today.year, 10, 2) + timedelta(5)\n",
    "time_to_next_lecture = abs(next_lecture - today)\n",
    "time_to_next_lecture.days"
   ]
  },
  {
   "cell_type": "code",
   "execution_count": 59,
   "metadata": {
    "slideshow": {
     "slide_type": "fragment"
    }
   },
   "outputs": [
    {
     "data": {
      "text/plain": [
       "'02/10/2019'"
      ]
     },
     "execution_count": 59,
     "metadata": {},
     "output_type": "execute_result"
    }
   ],
   "source": [
    "today.strftime(\"%d/%m/%Y\")"
   ]
  },
  {
   "cell_type": "code",
   "execution_count": 60,
   "metadata": {
    "slideshow": {
     "slide_type": "fragment"
    }
   },
   "outputs": [
    {
     "data": {
      "text/plain": [
       "'Wednesday 02. October 2019'"
      ]
     },
     "execution_count": 60,
     "metadata": {},
     "output_type": "execute_result"
    }
   ],
   "source": [
    "today.strftime(\"%A %d. %B %Y\")"
   ]
  },
  {
   "cell_type": "markdown",
   "metadata": {
    "slideshow": {
     "slide_type": "subslide"
    }
   },
   "source": [
    "## Time Objects\n",
    "\n",
    "A time object represents a (local) time of day, independent of any particular day. In our coure I will not consider times with respect to different time zones. In case you need to add information about which time zone a `time` refers, please read https://docs.python.org/3.4/library/datetime.html#tzinfo-objects."
   ]
  },
  {
   "cell_type": "code",
   "execution_count": 61,
   "metadata": {
    "slideshow": {
     "slide_type": "subslide"
    }
   },
   "outputs": [
    {
     "data": {
      "text/plain": [
       "'12:10:30'"
      ]
     },
     "execution_count": 61,
     "metadata": {},
     "output_type": "execute_result"
    }
   ],
   "source": [
    "from datetime import datetime, date, time\n",
    "\n",
    "\n",
    "t = time(12, 10, 30)\n",
    "t.isoformat()"
   ]
  },
  {
   "cell_type": "code",
   "execution_count": 62,
   "metadata": {
    "slideshow": {
     "slide_type": "fragment"
    }
   },
   "outputs": [
    {
     "name": "stdout",
     "output_type": "stream",
     "text": [
      "12:10:30\n",
      "The time is 12:10.\n"
     ]
    }
   ],
   "source": [
    "print(t.strftime('%H:%M:%S'))\n",
    "\n",
    "print('The time is {:%H:%M}.'.format(t))"
   ]
  },
  {
   "cell_type": "markdown",
   "metadata": {
    "slideshow": {
     "slide_type": "subslide"
    }
   },
   "source": [
    "## Datetime Objects"
   ]
  },
  {
   "cell_type": "code",
   "execution_count": 63,
   "metadata": {
    "slideshow": {
     "slide_type": "subslide"
    }
   },
   "outputs": [
    {
     "data": {
      "text/plain": [
       "datetime.datetime(2019, 3, 5, 12, 30)"
      ]
     },
     "execution_count": 63,
     "metadata": {},
     "output_type": "execute_result"
    }
   ],
   "source": [
    "from datetime import datetime, date, time\n",
    "\n",
    "\n",
    "d = date.today()\n",
    "t = time(12, 30)\n",
    "datetime.combine(d, t) # todays date combined with time: 12:30"
   ]
  },
  {
   "cell_type": "code",
   "execution_count": 64,
   "metadata": {
    "slideshow": {
     "slide_type": "subslide"
    }
   },
   "outputs": [
    {
     "name": "stdout",
     "output_type": "stream",
     "text": [
      "2019-03-05 15:06:03.852520\n",
      "2019-03-05 15:06:03\n"
     ]
    }
   ],
   "source": [
    "now = datetime.now()\n",
    "print(now)\n",
    "now = now.replace(microsecond=0)\n",
    "print(now)"
   ]
  },
  {
   "cell_type": "code",
   "execution_count": 65,
   "metadata": {
    "slideshow": {
     "slide_type": "fragment"
    }
   },
   "outputs": [
    {
     "data": {
      "text/plain": [
       "datetime.datetime(2019, 3, 5, 14, 6, 3, 863248)"
      ]
     },
     "execution_count": 65,
     "metadata": {},
     "output_type": "execute_result"
    }
   ],
   "source": [
    "datetime.utcnow()"
   ]
  },
  {
   "cell_type": "code",
   "execution_count": 66,
   "metadata": {
    "slideshow": {
     "slide_type": "subslide"
    }
   },
   "outputs": [
    {
     "name": "stdout",
     "output_type": "stream",
     "text": [
      "the year is 2019, the week is 10 and it is the 2th day\n",
      "10\n"
     ]
    }
   ],
   "source": [
    "ic = now.isocalendar()\n",
    "print('the year is {}, the week is {} and it is the {}th day'.format(ic[0], ic[1],ic[2]))\n",
    "week_number = ic[1]\n",
    "print(week_number)"
   ]
  },
  {
   "cell_type": "code",
   "execution_count": 67,
   "metadata": {
    "slideshow": {
     "slide_type": "fragment"
    }
   },
   "outputs": [
    {
     "data": {
      "text/plain": [
       "'Tuesday, 05. March 2019 03:06PM'"
      ]
     },
     "execution_count": 67,
     "metadata": {},
     "output_type": "execute_result"
    }
   ],
   "source": [
    "now.strftime(\"%A, %d. %B %Y %I:%M%p\")"
   ]
  },
  {
   "cell_type": "code",
   "execution_count": 68,
   "metadata": {
    "slideshow": {
     "slide_type": "fragment"
    }
   },
   "outputs": [
    {
     "data": {
      "text/plain": [
       "'The day is 05, the month is March, the time is 03:06PM.'"
      ]
     },
     "execution_count": 68,
     "metadata": {},
     "output_type": "execute_result"
    }
   ],
   "source": [
    "'The {1} is {0:%d}, the {2} is {0:%B}, the {3} is {0:%I:%M%p}.'.format(now, \"day\", \"month\", \"time\")"
   ]
  },
  {
   "cell_type": "code",
   "execution_count": 69,
   "metadata": {
    "slideshow": {
     "slide_type": "subslide"
    }
   },
   "outputs": [
    {
     "name": "stdout",
     "output_type": "stream",
     "text": [
      "2010-06-10 00:00:00\n"
     ]
    },
    {
     "data": {
      "text/plain": [
       "'10-06-2010 week: 23'"
      ]
     },
     "execution_count": 69,
     "metadata": {},
     "output_type": "execute_result"
    }
   ],
   "source": [
    "d = datetime.strptime('10 Jun 2010', '%d %b %Y')\n",
    "print(d)\n",
    "d.strftime('%d-%m-%Y week: %U')"
   ]
  },
  {
   "cell_type": "markdown",
   "metadata": {
    "slideshow": {
     "slide_type": "subslide"
    }
   },
   "source": [
    "## Timedeltas\n",
    "\n",
    "A `timedelta` object represents a duration, the difference between two dates or times."
   ]
  },
  {
   "cell_type": "code",
   "execution_count": 70,
   "metadata": {
    "slideshow": {
     "slide_type": "fragment"
    }
   },
   "outputs": [
    {
     "data": {
      "text/plain": [
       "(0, 0, 5)"
      ]
     },
     "execution_count": 70,
     "metadata": {},
     "output_type": "execute_result"
    }
   ],
   "source": [
    "from datetime import timedelta\n",
    "\n",
    "\n",
    "d = timedelta(microseconds=5)\n",
    "(d.days, d.seconds, d.microseconds)"
   ]
  },
  {
   "cell_type": "code",
   "execution_count": 71,
   "metadata": {
    "slideshow": {
     "slide_type": "fragment"
    }
   },
   "outputs": [
    {
     "data": {
      "text/plain": [
       "datetime.timedelta(days=-1, seconds=68400)"
      ]
     },
     "execution_count": 71,
     "metadata": {},
     "output_type": "execute_result"
    }
   ],
   "source": [
    "timedelta(hours=-5)"
   ]
  },
  {
   "cell_type": "markdown",
   "metadata": {
    "slideshow": {
     "slide_type": "subslide"
    }
   },
   "source": [
    "### Operations with `timedelta`s"
   ]
  },
  {
   "cell_type": "code",
   "execution_count": 72,
   "metadata": {
    "slideshow": {
     "slide_type": "subslide"
    }
   },
   "outputs": [
    {
     "name": "stdout",
     "output_type": "stream",
     "text": [
      "year_as_delta: 365 days, 0:00:00\n"
     ]
    }
   ],
   "source": [
    "year_as_delta = timedelta(days=365)\n",
    "print('year_as_delta:',year_as_delta)\n",
    "another_year_delta = timedelta(weeks=40, days=84, hours=23, minutes=50, seconds=600)  # adds up to 365 days"
   ]
  },
  {
   "cell_type": "code",
   "execution_count": 73,
   "metadata": {
    "slideshow": {
     "slide_type": "fragment"
    }
   },
   "outputs": [
    {
     "name": "stdout",
     "output_type": "stream",
     "text": [
      "2018-03-05 15:06:03.940243\n",
      "2020-03-04 15:06:03.940299\n"
     ]
    }
   ],
   "source": [
    "last_year = datetime.now() - year_as_delta\n",
    "next_year = datetime.now() - year_as_delta + (2 *another_year_delta)\n",
    "print(last_year)\n",
    "print(next_year)"
   ]
  },
  {
   "cell_type": "code",
   "execution_count": 74,
   "metadata": {
    "slideshow": {
     "slide_type": "fragment"
    }
   },
   "outputs": [
    {
     "name": "stdout",
     "output_type": "stream",
     "text": [
      "The two year difference is equivalent to 730 days or to 63072000.000056 seconds\n"
     ]
    }
   ],
   "source": [
    "two_year_delta = next_year - last_year\n",
    "print('The two year difference is equivalent to {} days or to {} seconds'.format(\n",
    "    two_year_delta.days, two_year_delta.total_seconds()))"
   ]
  },
  {
   "cell_type": "markdown",
   "metadata": {
    "slideshow": {
     "slide_type": "subslide"
    }
   },
   "source": [
    "## Converting Strings to Times and Vice Versa"
   ]
  },
  {
   "cell_type": "code",
   "execution_count": 75,
   "metadata": {
    "slideshow": {
     "slide_type": "subslide"
    }
   },
   "outputs": [
    {
     "data": {
      "text/plain": [
       "'2019-03-05T15:06:03.958220'"
      ]
     },
     "execution_count": 75,
     "metadata": {},
     "output_type": "execute_result"
    }
   ],
   "source": [
    "from datetime import datetime\n",
    "\n",
    "\n",
    "datetime.now().isoformat()"
   ]
  },
  {
   "cell_type": "code",
   "execution_count": 76,
   "metadata": {
    "slideshow": {
     "slide_type": "fragment"
    }
   },
   "outputs": [
    {
     "data": {
      "text/plain": [
       "datetime.datetime(2006, 11, 21, 16, 30)"
      ]
     },
     "execution_count": 76,
     "metadata": {},
     "output_type": "execute_result"
    }
   ],
   "source": [
    "dt = datetime.strptime('21/11/06 16:30', '%d/%m/%y %H:%M')\n",
    "dt"
   ]
  },
  {
   "cell_type": "code",
   "execution_count": 77,
   "metadata": {
    "slideshow": {
     "slide_type": "fragment"
    }
   },
   "outputs": [
    {
     "data": {
      "text/plain": [
       "'06-11-21 16:30'"
      ]
     },
     "execution_count": 77,
     "metadata": {},
     "output_type": "execute_result"
    }
   ],
   "source": [
    "dt.strftime('%y-%m-%d %H:%M')"
   ]
  },
  {
   "cell_type": "markdown",
   "metadata": {
    "slideshow": {
     "slide_type": "subslide"
    }
   },
   "source": [
    "### Parsing Arbitrary Dates from Strings\n",
    "\n",
    "The `dateutil.parser` module offers a generic date/time string parser which is able to parse most known formats to represent a date and/or time.\n",
    "\n",
    "The module attempts to be forgiving with regards to unlikely input formats, returning a datetime object even for dates which are ambiguous."
   ]
  },
  {
   "cell_type": "code",
   "execution_count": 78,
   "metadata": {
    "slideshow": {
     "slide_type": "fragment"
    }
   },
   "outputs": [
    {
     "data": {
      "text/plain": [
       "datetime.datetime(2006, 11, 21, 16, 30)"
      ]
     },
     "execution_count": 78,
     "metadata": {},
     "output_type": "execute_result"
    }
   ],
   "source": [
    "import dateutil.parser\n",
    "\n",
    "\n",
    "dateutil.parser.parse('21/11-06 16:30')"
   ]
  },
  {
   "cell_type": "markdown",
   "metadata": {
    "slideshow": {
     "slide_type": "subslide"
    }
   },
   "source": [
    "# Class exercise with dates\n",
    "Create a function: get_meeting_dates in a module called myUtilities.py\n",
    "- the function must take 3 arguments (start_date=now, period_as_timedelta, time_of_day, number_of_meetings)\n",
    "- the function should then return a list of datetimes for a series of meetings that should take place from start_date and evenly distributed throughout the period.\n",
    "- create another list of number of attendents, that was actually there at each meeting.\n",
    "- create a bar plot of attendance through the series of meetings."
   ]
  },
  {
   "cell_type": "code",
   "execution_count": 79,
   "metadata": {},
   "outputs": [
    {
     "data": {
      "text/plain": [
       "[datetime.datetime(2019, 3, 5, 17, 0),\n",
       " datetime.datetime(2019, 3, 24, 17, 0),\n",
       " datetime.datetime(2019, 4, 13, 17, 0),\n",
       " datetime.datetime(2019, 5, 3, 17, 0),\n",
       " datetime.datetime(2019, 5, 23, 17, 0),\n",
       " datetime.datetime(2019, 6, 12, 17, 0),\n",
       " datetime.datetime(2019, 7, 2, 17, 0),\n",
       " datetime.datetime(2019, 7, 22, 17, 0),\n",
       " datetime.datetime(2019, 8, 11, 17, 0),\n",
       " datetime.datetime(2019, 8, 31, 17, 0),\n",
       " datetime.datetime(2019, 9, 20, 17, 0),\n",
       " datetime.datetime(2019, 10, 10, 17, 0),\n",
       " datetime.datetime(2019, 10, 30, 17, 0),\n",
       " datetime.datetime(2019, 11, 19, 17, 0),\n",
       " datetime.datetime(2019, 12, 9, 17, 0),\n",
       " datetime.datetime(2019, 12, 29, 17, 0),\n",
       " datetime.datetime(2020, 1, 18, 17, 0),\n",
       " datetime.datetime(2020, 2, 7, 17, 0),\n",
       " datetime.datetime(2020, 2, 27, 17, 0),\n",
       " datetime.datetime(2020, 3, 18, 17, 0),\n",
       " datetime.datetime(2020, 4, 7, 17, 0),\n",
       " datetime.datetime(2020, 4, 27, 17, 0),\n",
       " datetime.datetime(2020, 5, 17, 17, 0),\n",
       " datetime.datetime(2020, 6, 6, 17, 0),\n",
       " datetime.datetime(2020, 6, 26, 17, 0),\n",
       " datetime.datetime(2020, 7, 16, 17, 0),\n",
       " datetime.datetime(2020, 8, 5, 17, 0),\n",
       " datetime.datetime(2020, 8, 25, 17, 0),\n",
       " datetime.datetime(2020, 9, 14, 17, 0),\n",
       " datetime.datetime(2020, 10, 4, 17, 0),\n",
       " datetime.datetime(2020, 10, 24, 17, 0),\n",
       " datetime.datetime(2020, 11, 13, 17, 0),\n",
       " datetime.datetime(2020, 12, 3, 17, 0),\n",
       " datetime.datetime(2020, 12, 23, 17, 0),\n",
       " datetime.datetime(2021, 1, 12, 17, 0),\n",
       " datetime.datetime(2021, 2, 1, 17, 0)]"
      ]
     },
     "execution_count": 79,
     "metadata": {},
     "output_type": "execute_result"
    }
   ],
   "source": [
    "from datetime import datetime, date, time, timedelta\n",
    "import numpy as np\n",
    "\n",
    "\n",
    "def get_meeting_dates (period_as_timedelta, time_of_day, number_of_meetings, start_date=datetime.today()):\n",
    "    if number_of_meetings > period_as_timedelta.days:\n",
    "        raise ValueError('Too many meetings!')\n",
    "    day_deltas = np.linspace(0, period_as_timedelta.days - 1, number_of_meetings, dtype=int)\n",
    "    base_time_of_day = datetime.combine(start_date, time_of_day)\n",
    "    list_of_meetings = [base_time_of_day + timedelta(int(day_delta)) for day_delta in day_deltas]\n",
    "    \n",
    "    return list_of_meetings\n",
    "\n",
    "get_meeting_dates(timedelta(700), time(17,0), 36)"
   ]
  },
  {
   "cell_type": "markdown",
   "metadata": {
    "slideshow": {
     "slide_type": "subslide"
    }
   },
   "source": [
    "# Pandas for Time Series and Data Frames\n",
    "\n",
    "Pandas is -similar to NumPy- another library offering high-level data structures, which enable fast data analyzis. For us, the most important are probably the types `Series` and `DataFrame`, both of which are introduced in the following.  \n",
    "\n",
    "This tutorial is based on the [intro to Pandas:](http://pandas.pydata.org/pandas-docs/stable/10min.html)"
   ]
  },
  {
   "cell_type": "markdown",
   "metadata": {},
   "source": [
    "panda er god til at arbejde med struktureret dataset "
   ]
  },
  {
   "cell_type": "markdown",
   "metadata": {
    "slideshow": {
     "slide_type": "subslide"
    }
   },
   "source": [
    "\n",
    "## Pandas vs Numpy\n",
    "1. In pandas we have 1D Series and 2D DataFrame in numpy we have multi dimensional ndArrays\n",
    "2. In DataFrame we have column names (like in sql) in ndArrays we are data slicing based in indices\n",
    "3. In DataFrame we can have multiple datatypes in different columns\n",
    "![](images/pandas_vs_numpy.png)U"
   ]
  },
  {
   "cell_type": "code",
   "execution_count": 80,
   "metadata": {
    "slideshow": {
     "slide_type": "subslide"
    }
   },
   "outputs": [
    {
     "name": "stdout",
     "output_type": "stream",
     "text": [
      "Requirement already satisfied: pandas in /Users/mohammahomarhariri/Library/Python/3.7/lib/python/site-packages (0.24.1)\n",
      "Requirement already satisfied: pytz>=2011k in /Users/mohammahomarhariri/Library/Python/3.7/lib/python/site-packages (from pandas) (2018.9)\n",
      "Requirement already satisfied: python-dateutil>=2.5.0 in /Users/mohammahomarhariri/Library/Python/3.7/lib/python/site-packages (from pandas) (2.8.0)\n",
      "Requirement already satisfied: numpy>=1.12.0 in /Users/mohammahomarhariri/Library/Python/3.7/lib/python/site-packages (from pandas) (1.16.2)\n",
      "Requirement already satisfied: six>=1.5 in /Users/mohammahomarhariri/Library/Python/3.7/lib/python/site-packages (from python-dateutil>=2.5.0->pandas) (1.12.0)\n"
     ]
    }
   ],
   "source": [
    "!pip3 install pandas --user"
   ]
  },
  {
   "cell_type": "markdown",
   "metadata": {
    "slideshow": {
     "slide_type": "subslide"
    }
   },
   "source": [
    "As we will refer to Panda's classes and functions often in code, we usually import the module as `pd`."
   ]
  },
  {
   "cell_type": "code",
   "execution_count": 81,
   "metadata": {
    "slideshow": {
     "slide_type": "fragment"
    }
   },
   "outputs": [],
   "source": [
    "import pandas as pd"
   ]
  },
  {
   "cell_type": "markdown",
   "metadata": {
    "slideshow": {
     "slide_type": "subslide"
    }
   },
   "source": [
    "## Learning a new framework\n",
    "\n",
    "1. Study the API\n",
    "  * https://pandas.pydata.org/pandas-docs/stable/reference/index.html"
   ]
  },
  {
   "cell_type": "markdown",
   "metadata": {
    "slideshow": {
     "slide_type": "fragment"
    }
   },
   "source": [
    "2. Use the API\n",
    "  1. Find out how to import a `.csv` file\n",
    "  2. Import the `befkbhalderstatkode.csv` into pandas\n",
    "  3. What `type` do you get out?"
   ]
  },
  {
   "cell_type": "markdown",
   "metadata": {
    "slideshow": {
     "slide_type": "subslide"
    }
   },
   "source": [
    "## Getting data with Pandas\n",
    "\n",
    "https://pandas.pydata.org/pandas-docs/stable/reference/io.html\n",
    "\n",
    "```python\n",
    "pd.read_csv(...)\n",
    "```"
   ]
  },
  {
   "cell_type": "code",
   "execution_count": 82,
   "metadata": {
    "slideshow": {
     "slide_type": "subslide"
    }
   },
   "outputs": [
    {
     "data": {
      "text/plain": [
       "pandas.core.series.Series"
      ]
     },
     "execution_count": 82,
     "metadata": {},
     "output_type": "execute_result"
    }
   ],
   "source": [
    "type(pd.read_csv('befkbhalderstatkode.csv').ALDER)"
   ]
  },
  {
   "cell_type": "code",
   "execution_count": 83,
   "metadata": {
    "slideshow": {
     "slide_type": "subslide"
    }
   },
   "outputs": [],
   "source": [
    "data_frame = pd.read_csv('befkbhalderstatkode.csv')"
   ]
  },
  {
   "cell_type": "code",
   "execution_count": 84,
   "metadata": {
    "slideshow": {
     "slide_type": "fragment"
    }
   },
   "outputs": [],
   "source": [
    "df = pd.read_csv('befkbhalderstatkode.csv')"
   ]
  },
  {
   "cell_type": "markdown",
   "metadata": {
    "slideshow": {
     "slide_type": "subslide"
    }
   },
   "source": [
    "* What are the columns in the dataset?"
   ]
  },
  {
   "cell_type": "code",
   "execution_count": 85,
   "metadata": {
    "slideshow": {
     "slide_type": "fragment"
    }
   },
   "outputs": [
    {
     "data": {
      "text/plain": [
       "Index(['AAR', 'BYDEL', 'ALDER', 'STATKODE', 'PERSONER'], dtype='object')"
      ]
     },
     "execution_count": 85,
     "metadata": {},
     "output_type": "execute_result"
    }
   ],
   "source": [
    "df.columns"
   ]
  },
  {
   "cell_type": "code",
   "execution_count": 86,
   "metadata": {
    "slideshow": {
     "slide_type": "subslide"
    }
   },
   "outputs": [
    {
     "data": {
      "text/plain": [
       "pandas.core.frame.DataFrame"
      ]
     },
     "execution_count": 86,
     "metadata": {},
     "output_type": "execute_result"
    }
   ],
   "source": [
    "type(df)"
   ]
  },
  {
   "cell_type": "markdown",
   "metadata": {
    "slideshow": {
     "slide_type": "subslide"
    }
   },
   "source": [
    "* What is the dimensionality of the dataframe?"
   ]
  },
  {
   "cell_type": "code",
   "execution_count": 87,
   "metadata": {
    "slideshow": {
     "slide_type": "fragment"
    }
   },
   "outputs": [
    {
     "data": {
      "text/plain": [
       "(542517, 5)"
      ]
     },
     "execution_count": 87,
     "metadata": {},
     "output_type": "execute_result"
    }
   ],
   "source": [
    "df.shape"
   ]
  },
  {
   "cell_type": "markdown",
   "metadata": {
    "slideshow": {
     "slide_type": "subslide"
    }
   },
   "source": [
    "What type is \n",
    "```python\n",
    "df['ALDER']\n",
    "```\n",
    "?"
   ]
  },
  {
   "cell_type": "code",
   "execution_count": 88,
   "metadata": {
    "scrolled": true,
    "slideshow": {
     "slide_type": "fragment"
    }
   },
   "outputs": [
    {
     "data": {
      "text/plain": [
       "pandas.core.series.Series"
      ]
     },
     "execution_count": 88,
     "metadata": {},
     "output_type": "execute_result"
    }
   ],
   "source": [
    "type(df['ALDER'])"
   ]
  },
  {
   "cell_type": "code",
   "execution_count": 89,
   "metadata": {
    "slideshow": {
     "slide_type": "fragment"
    }
   },
   "outputs": [
    {
     "data": {
      "text/plain": [
       "pandas.core.series.Series"
      ]
     },
     "execution_count": 89,
     "metadata": {},
     "output_type": "execute_result"
    }
   ],
   "source": [
    "type(df.iloc[:,0])"
   ]
  },
  {
   "cell_type": "markdown",
   "metadata": {
    "slideshow": {
     "slide_type": "subslide"
    }
   },
   "source": [
    "## `Series`\n",
    "\n",
    "A `Series` is a one-dimensional labeled array capable of holding any data type (integers, strings, floating point numbers, Python objects, etc.). The axis labels are collectively referred to as the index.\n",
    "\n",
    "http://pandas.pydata.org/pandas-docs/stable/dsintro.html#series\n",
    "\n",
    "You can create a Series by passing a list of values, letting Pandas create a default integer index."
   ]
  },
  {
   "cell_type": "code",
   "execution_count": 90,
   "metadata": {
    "slideshow": {
     "slide_type": "subslide"
    }
   },
   "outputs": [
    {
     "name": "stdout",
     "output_type": "stream",
     "text": [
      "0       1\n",
      "1       3\n",
      "2       5\n",
      "3     NaN\n",
      "4    seks\n",
      "5       8\n",
      "dtype: object \n",
      "---------------------\n",
      "6    seks\n",
      "5     fem\n",
      "4    fire\n",
      "dtype: object\n"
     ]
    }
   ],
   "source": [
    "s = pd.Series([1, 3, 5, np.nan, 'seks', 8])\n",
    "print(s,'\\n---------------------')\n",
    "s = pd.Series(['seks','fem','fire'],[6,5,4])\n",
    "print(s)"
   ]
  },
  {
   "cell_type": "markdown",
   "metadata": {
    "slideshow": {
     "slide_type": "subslide"
    }
   },
   "source": [
    "* Get the second element of the third column in the `befkbhalderstatkode.csv` dataset."
   ]
  },
  {
   "cell_type": "code",
   "execution_count": 91,
   "metadata": {},
   "outputs": [
    {
     "data": {
      "text/plain": [
       "0"
      ]
     },
     "execution_count": 91,
     "metadata": {},
     "output_type": "execute_result"
    }
   ],
   "source": [
    "df.iloc[1][2]"
   ]
  },
  {
   "cell_type": "code",
   "execution_count": 92,
   "metadata": {
    "slideshow": {
     "slide_type": "fragment"
    }
   },
   "outputs": [
    {
     "data": {
      "text/plain": [
       "0"
      ]
     },
     "execution_count": 92,
     "metadata": {},
     "output_type": "execute_result"
    }
   ],
   "source": [
    "df['ALDER'][1]"
   ]
  },
  {
   "cell_type": "markdown",
   "metadata": {
    "slideshow": {
     "slide_type": "subslide"
    }
   },
   "source": [
    "* Get the second element of the third column using the `iloc` method"
   ]
  },
  {
   "cell_type": "code",
   "execution_count": 93,
   "metadata": {
    "slideshow": {
     "slide_type": "fragment"
    }
   },
   "outputs": [
    {
     "data": {
      "text/plain": [
       "0"
      ]
     },
     "execution_count": 93,
     "metadata": {},
     "output_type": "execute_result"
    }
   ],
   "source": [
    "df.iloc[1][2]"
   ]
  },
  {
   "cell_type": "markdown",
   "metadata": {
    "slideshow": {
     "slide_type": "subslide"
    }
   },
   "source": [
    "## World bank data\n",
    "For the following example introducing `Series` we will collect some open data from the World Bank, see http://data.worldbank.org/?locations=DK-UY. This dataset includes a plethora of interesting data. However, for this example we will focus on the *CO2 emissions*.\n",
    "\n",
    "First, we have to download the data. We do this by writing the response to a request to the World Bank API into a file. As denoted in the response header, we receive a ZIP file."
   ]
  },
  {
   "cell_type": "code",
   "execution_count": 94,
   "metadata": {
    "slideshow": {
     "slide_type": "subslide"
    }
   },
   "outputs": [
    {
     "name": "stdout",
     "output_type": "stream",
     "text": [
      "Requirement already satisfied: requests in /usr/local/lib/python3.7/site-packages (2.21.0)\n",
      "Requirement already satisfied: chardet<3.1.0,>=3.0.2 in /usr/local/lib/python3.7/site-packages (from requests) (3.0.4)\n",
      "Requirement already satisfied: urllib3<1.25,>=1.21.1 in /usr/local/lib/python3.7/site-packages (from requests) (1.24.1)\n",
      "Requirement already satisfied: idna<2.9,>=2.5 in /usr/local/lib/python3.7/site-packages (from requests) (2.8)\n",
      "Requirement already satisfied: certifi>=2017.4.17 in /usr/local/lib/python3.7/site-packages (from requests) (2018.11.29)\n"
     ]
    }
   ],
   "source": [
    "!pip3 install requests"
   ]
  },
  {
   "cell_type": "code",
   "execution_count": 95,
   "metadata": {
    "slideshow": {
     "slide_type": "subslide"
    }
   },
   "outputs": [
    {
     "name": "stdout",
     "output_type": "stream",
     "text": [
      "{'Date': 'Tue, 05 Mar 2019 14:06:06 GMT', 'Content-Type': 'application/zip', 'Content-Length': '75906', 'Connection': 'keep-alive', 'Content-Disposition': 'attachment; filename=API_EN.ATM.CO2E.KT_DS2_en_csv_v2_10473877.zip', 'X-Powered-By': 'ASP.NET', 'Set-Cookie': 'TS019266c8=017189f94741b5e54a1724d61d466982cc65c2f0c00738a8aa69bf3c3fed684c4cbcfaf3ae; Path=/', 'Strict-Transport-Security': 'max-age=31536000; includeSubDomains', 'X-XSS-Protection': '1; mode=block', 'X-Content-Type-Options': 'nosniff', 'X-Frame-Options': 'deny'}\n"
     ]
    }
   ],
   "source": [
    "import requests\n",
    "\n",
    "# url = 'http://api.worldbank.org/v2/en/country/DNK;URY' \n",
    "# response = requests.get(url, params={'downloadformat': 'csv'})\n",
    "url = 'http://api.worldbank.org/v2/en/indicator/EN.ATM.CO2E.KT?downloadformat=csv'\n",
    "response = requests.get(url)\n",
    "\n",
    "print(response.headers)"
   ]
  },
  {
   "cell_type": "code",
   "execution_count": 96,
   "metadata": {
    "slideshow": {
     "slide_type": "fragment"
    }
   },
   "outputs": [
    {
     "name": "stdout",
     "output_type": "stream",
     "text": [
      "-----------------\n",
      "Downloaded API_EN.ATM.CO2E.KT_DS2_en_csv_v2_10473877.zip\n"
     ]
    }
   ],
   "source": [
    "fname = response.headers['Content-Disposition'].split('=')[1]\n",
    "\n",
    "if response.ok:  # status_code == 200:\n",
    "    with open(fname, 'wb') as f:\n",
    "        f.write(response.content)   \n",
    "print('-----------------')\n",
    "print('Downloaded {}'.format(fname))"
   ]
  },
  {
   "cell_type": "code",
   "execution_count": 97,
   "metadata": {
    "slideshow": {
     "slide_type": "subslide"
    }
   },
   "outputs": [
    {
     "name": "stdout",
     "output_type": "stream",
     "text": [
      "-rw-r--r--   1 mohammahomarhariri  staff   1.9K Mar  5 12:40 README.md\n",
      "-rw-r--r--   1 mohammahomarhariri  staff    12K Mar  5 12:40 ed 5!d API_EN.ATM.CO2E.KT_DS2_en_csv_v2_10473877.csv\n",
      "drwxr-xr-x  51 mohammahomarhariri  staff   1.6K Mar  5 12:40 images\n",
      "drwxr-xr-x   8 mohammahomarhariri  staff   256B Mar  5 12:40 Assignments\n",
      "-rw-r--r--   1 mohammahomarhariri  staff   855B Mar  5 12:56 Untitled.ipynb\n",
      "-rw-r--r--   1 mohammahomarhariri  staff    74K Mar  5 15:04 16-pandas.ipynb\n",
      "-rw-r--r--   1 mohammahomarhariri  staff   466B Mar  5 15:05 Metadata_Indicator_API_EN.ATM.CO2E.KT_DS2_en_csv_v2_10473877.csv\n",
      "-rw-r--r--   1 mohammahomarhariri  staff   173K Mar  5 15:05 API_EN.ATM.CO2E.KT_DS2_en_csv_v2_10473877.csv\n",
      "-rw-r--r--   1 mohammahomarhariri  staff    39K Mar  5 15:05 Metadata_Country_API_EN.ATM.CO2E.KT_DS2_en_csv_v2_10473877.csv\n",
      "-rw-r--r--   1 mohammahomarhariri  staff    74K Mar  5 15:06 API_EN.ATM.CO2E.KT_DS2_en_csv_v2_10473877.zip\n"
     ]
    }
   ],
   "source": [
    "%%bash\n",
    "ls -ltrh | tail\n",
    "#man ls"
   ]
  },
  {
   "cell_type": "markdown",
   "metadata": {
    "slideshow": {
     "slide_type": "subslide"
    }
   },
   "source": [
    "You can resort to the standard libraries `zipfile` module to uncompress the downloaded file."
   ]
  },
  {
   "cell_type": "code",
   "execution_count": 98,
   "metadata": {
    "slideshow": {
     "slide_type": "subslide"
    }
   },
   "outputs": [],
   "source": [
    "import zipfile\n",
    "\n",
    "zipfile.ZipFile(fname, 'r').extractall('.')"
   ]
  },
  {
   "cell_type": "code",
   "execution_count": 99,
   "metadata": {
    "slideshow": {
     "slide_type": "fragment"
    }
   },
   "outputs": [
    {
     "name": "stdout",
     "output_type": "stream",
     "text": [
      "-rw-r--r--   1 mohammahomarhariri  staff   1.9K Mar  5 12:40 README.md\n",
      "-rw-r--r--   1 mohammahomarhariri  staff    12K Mar  5 12:40 ed 5!d API_EN.ATM.CO2E.KT_DS2_en_csv_v2_10473877.csv\n",
      "drwxr-xr-x  51 mohammahomarhariri  staff   1.6K Mar  5 12:40 images\n",
      "drwxr-xr-x   8 mohammahomarhariri  staff   256B Mar  5 12:40 Assignments\n",
      "-rw-r--r--   1 mohammahomarhariri  staff   855B Mar  5 12:56 Untitled.ipynb\n",
      "-rw-r--r--   1 mohammahomarhariri  staff    74K Mar  5 15:04 16-pandas.ipynb\n",
      "-rw-r--r--   1 mohammahomarhariri  staff    74K Mar  5 15:06 API_EN.ATM.CO2E.KT_DS2_en_csv_v2_10473877.zip\n",
      "-rw-r--r--   1 mohammahomarhariri  staff   466B Mar  5 15:06 Metadata_Indicator_API_EN.ATM.CO2E.KT_DS2_en_csv_v2_10473877.csv\n",
      "-rw-r--r--   1 mohammahomarhariri  staff   173K Mar  5 15:06 API_EN.ATM.CO2E.KT_DS2_en_csv_v2_10473877.csv\n",
      "-rw-r--r--   1 mohammahomarhariri  staff    39K Mar  5 15:06 Metadata_Country_API_EN.ATM.CO2E.KT_DS2_en_csv_v2_10473877.csv\n"
     ]
    }
   ],
   "source": [
    "%%bash\n",
    "\n",
    "ls -ltrh | tail"
   ]
  },
  {
   "cell_type": "markdown",
   "metadata": {
    "slideshow": {
     "slide_type": "subslide"
    }
   },
   "source": [
    "Additionally, you can make use of the `glob` module to glob for certain file patterns. We will store the filename of the CSV file we are interested in, in a variable called `local_file`."
   ]
  },
  {
   "cell_type": "code",
   "execution_count": 8,
   "metadata": {
    "slideshow": {
     "slide_type": "subslide"
    }
   },
   "outputs": [
    {
     "data": {
      "text/plain": [
       "'./Metadata_Indicator_API_EN.ATM.CO2E.KT_DS2_en_csv_v2_10473877.csv'"
      ]
     },
     "execution_count": 8,
     "metadata": {},
     "output_type": "execute_result"
    }
   ],
   "source": [
    "from glob import glob\n",
    "# glob is useful in any situation where your program needs to look for a list of files on the filesystem with names matching a pattern. If you need a list of filenames that all have a certain extension, prefix, or any common string in the middle, use glob instead of writing code to scan the directory contents yourself.\n",
    "\n",
    "local_file = glob('./*API_EN*.csv')[0]\n",
    "local_file"
   ]
  },
  {
   "cell_type": "markdown",
   "metadata": {
    "slideshow": {
     "slide_type": "subslide"
    }
   },
   "source": [
    "## A small detour...\n",
    "\n",
    "### Collecting information on the CLI\n",
    "\n",
    "To see the header of the file that is of our interest, we can use the `head` command."
   ]
  },
  {
   "cell_type": "code",
   "execution_count": 101,
   "metadata": {
    "slideshow": {
     "slide_type": "subslide"
    }
   },
   "outputs": [
    {
     "name": "stdout",
     "output_type": "stream",
     "text": [
      "==> ./API_EN.ATM.CO2E.KT_DS2_en_csv_v2_10473877.csv <==\n",
      "﻿\"Data Source\",\"World Development Indicators\",\r\n",
      "\r\n",
      "\"Last Updated Date\",\"2019-01-30\",\r\n",
      "\r\n",
      "\"Country Name\",\"Country Code\",\"Indicator Name\",\"Indicator Code\",\"1960\",\"1961\",\"1962\",\"1963\",\"1964\",\"1965\",\"1966\",\"1967\",\"1968\",\"1969\",\"1970\",\"1971\",\"1972\",\"1973\",\"1974\",\"1975\",\"1976\",\"1977\",\"1978\",\"1979\",\"1980\",\"1981\",\"1982\",\"1983\",\"1984\",\"1985\",\"1986\",\"1987\",\"1988\",\"1989\",\"1990\",\"1991\",\"1992\",\"1993\",\"1994\",\"1995\",\"1996\",\"1997\",\"1998\",\"1999\",\"2000\",\"2001\",\"2002\",\"2003\",\"2004\",\"2005\",\"2006\",\"2007\",\"2008\",\"2009\",\"2010\",\"2011\",\"2012\",\"2013\",\"2014\",\"2015\",\"2016\",\"2017\",\"2018\",\r\n",
      "\"Aruba\",\"ABW\",\"CO2 emissions (kt)\",\"EN.ATM.CO2E.KT\",\"\",\"\",\"\",\"\",\"\",\"\",\"\",\"\",\"\",\"\",\"\",\"\",\"\",\"\",\"\",\"\",\"\",\"\",\"\",\"\",\"\",\"\",\"\",\"\",\"\",\"\",\"179.683\",\"447.374\",\"612.389\",\"649.059\",\"1639.149\",\"1683.153\",\"1463.133\",\"1595.145\",\"1613.48\",\"1668.485\",\"1690.487\",\"1745.492\",\"1796.83\",\"1807.831\",\"2379.883\",\"2409.219\",\"2438.555\",\"2563.233\",\"2618.238\",\"2720.914\",\"2717.247\",\"2823.59\",\"2658.575\",\"2629.239\",\"2508.228\",\"2500.894\",\"1349.456\",\"861.745\",\"872.746\",\"\",\"\",\"\",\"\",\r\n",
      "\"Afghanistan\",\"AFG\",\"CO2 emissions (kt)\",\"EN.ATM.CO2E.KT\",\"414.371\",\"491.378\",\"689.396\",\"707.731\",\"839.743\",\"1008.425\",\"1092.766\",\"1283.45\",\"1224.778\",\"942.419\",\"1672.152\",\"1895.839\",\"1532.806\",\"1639.149\",\"1917.841\",\"2126.86\",\"1987.514\",\"2390.884\",\"2159.863\",\"2240.537\",\"1760.16\",\"1983.847\",\"2101.191\",\"2522.896\",\"2830.924\",\"3509.319\",\"3142.619\",\"3124.284\",\"2867.594\",\"2775.919\",\"2614.571\",\"2438.555\",\"1393.46\",\"1345.789\",\"1294.451\",\"1243.113\",\"1177.107\",\"1096.433\",\"1041.428\",\"821.408\",\"773.737\",\"817.741\",\"1070.764\",\"1195.442\",\"949.753\",\"1327.454\",\"1650.15\",\"2273.54\",\"4206.049\",\"6769.282\",\"8463.436\",\"12240.446\",\"10755.311\",\"10014.577\",\"9809.225\",\"\",\"\",\"\",\"\",\r\n",
      "\"Angola\",\"AGO\",\"CO2 emissions (kt)\",\"EN.ATM.CO2E.KT\",\"550.05\",\"454.708\",\"1180.774\",\"1151.438\",\"1224.778\",\"1188.108\",\"1554.808\",\"993.757\",\"1672.152\",\"2786.92\",\"3582.659\",\"3410.31\",\"4506.743\",\"4880.777\",\"4873.443\",\"4415.068\",\"3285.632\",\"3534.988\",\"5412.492\",\"5504.167\",\"5346.486\",\"5280.48\",\"4649.756\",\"5115.465\",\"5009.122\",\"4701.094\",\"4660.757\",\"5815.862\",\"5130.133\",\"5009.122\",\"5115.465\",\"5089.796\",\"5196.139\",\"5775.525\",\"3890.687\",\"10975.331\",\"10458.284\",\"7381.671\",\"7308.331\",\"9156.499\",\"9541.534\",\"9732.218\",\"12665.818\",\"9064.824\",\"18793.375\",\"19156.408\",\"22266.024\",\"25151.953\",\"25709.337\",\"27792.193\",\"29057.308\",\"30340.758\",\"33399.036\",\"32617.965\",\"34763.16\",\"\",\"\",\"\",\"\",\r\n",
      "\"Albania\",\"ALB\",\"CO2 emissions (kt)\",\"EN.ATM.CO2E.KT\",\"2024.184\",\"2280.874\",\"2464.224\",\"2082.856\",\"2016.85\",\"2174.531\",\"2552.232\",\"2680.577\",\"3072.946\",\"3245.295\",\"3744.007\",\"4352.729\",\"5643.513\",\"5291.481\",\"4345.395\",\"4594.751\",\"4950.45\",\"5720.52\",\"6494.257\",\"7587.023\",\"5170.47\",\"7341.334\",\"7308.331\",\"7631.027\",\"7825.378\",\"7880.383\",\"8056.399\",\"7444.01\",\"7326.666\",\"8984.15\",\"5515.168\",\"4286.723\",\"2515.562\",\"2335.879\",\"1925.175\",\"2086.523\",\"2016.85\",\"1543.807\",\"1752.826\",\"2984.938\",\"3021.608\",\"3223.293\",\"3751.341\",\"4294.057\",\"4165.712\",\"4253.72\",\"3898.021\",\"3927.357\",\"4374.731\",\"4378.398\",\"4598.418\",\"5240.143\",\"4910.113\",\"5064.127\",\"5716.853\",\"\",\"\",\"\",\"\",\r\n",
      "\"Andorra\",\"AND\",\"CO2 emissions (kt)\",\"EN.ATM.CO2E.KT\",\"\",\"\",\"\",\"\",\"\",\"\",\"\",\"\",\"\",\"\",\"\",\"\",\"\",\"\",\"\",\"\",\"\",\"\",\"\",\"\",\"\",\"\",\"\",\"\",\"\",\"\",\"\",\"\",\"\",\"\",\"407.037\",\"407.037\",\"407.037\",\"410.704\",\"407.037\",\"425.372\",\"454.708\",\"465.709\",\"491.378\",\"513.38\",\"524.381\",\"524.381\",\"531.715\",\"535.382\",\"561.051\",\"575.719\",\"546.383\",\"539.049\",\"539.049\",\"517.047\",\"517.047\",\"491.378\",\"487.711\",\"476.71\",\"462.042\",\"\",\"\",\"\",\"\",\r\n",
      "\n",
      "==> ./Metadata_Country_API_EN.ATM.CO2E.KT_DS2_en_csv_v2_10473877.csv <==\n",
      "﻿\"Country Code\",\"Region\",\"IncomeGroup\",\"SpecialNotes\",\"TableName\",\r\n",
      "\"ABW\",\"Latin America & Caribbean\",\"High income\",\"Mining is included in agriculture\n",
      "Electricty and gas includes manufactures of refined petroleoum products\",\"Aruba\",\r\n",
      "\"AFG\",\"South Asia\",\"Low income\",\"Fiscal year end: March 20; reporting period for national accounts data is calendar year, estimated to insure consistency between national accounts and fiscal data. National accounts data are sourced from the IMF and differ from the Central Statistics Organization numbers due to exclusion of the opium economy.\",\"Afghanistan\",\r\n",
      "\"AGO\",\"Sub-Saharan Africa\",\"Lower middle income\",\"\",\"Angola\",\r\n",
      "\"ALB\",\"Europe & Central Asia\",\"Upper middle income\",\"\",\"Albania\",\r\n",
      "\"AND\",\"Europe & Central Asia\",\"High income\",\"WB-3 code changed from ADO to AND to align with ISO code.\",\"Andorra\",\r\n",
      "\"ARB\",\"\",\"\",\"Arab World aggregate. Arab World is composed of members of the League of Arab States.\",\"Arab World\",\r\n",
      "\"ARE\",\"Middle East & North Africa\",\"High income\",\"\",\"United Arab Emirates\",\r\n",
      "\"ARG\",\"Latin America & Caribbean\",\"High income\",\"Series of GNI and GNDI from 1993-2017 have been updated due to new data available\n",
      "\n",
      "==> ./Metadata_Indicator_API_EN.ATM.CO2E.KT_DS2_en_csv_v2_10473877.csv <==\n",
      "﻿\"INDICATOR_CODE\",\"INDICATOR_NAME\",\"SOURCE_NOTE\",\"SOURCE_ORGANIZATION\",\r\n",
      "\"EN.ATM.CO2E.KT\",\"CO2 emissions (kt)\",\"Carbon dioxide emissions are those stemming from the burning of fossil fuels and the manufacture of cement. They include carbon dioxide produced during consumption of solid, liquid, and gas fuels and gas flaring.\",\"Carbon Dioxide Information Analysis Center, Environmental Sciences Division, Oak Ridge National Laboratory, Tennessee, United States.\",\r\n",
      "\n",
      "==> ./ed 5!d API_EN.ATM.CO2E.KT_DS2_en_csv_v2_10473877.csv <==\n",
      "SED(1)                                                                                     User Commands                                                                                    SED(1)\n",
      "\n",
      "N\bNA\bAM\bME\bE\n",
      "       sed - stream editor for filtering and transforming text\n",
      "\n",
      "S\bSY\bYN\bNO\bOP\bPS\bSI\bIS\bS\n",
      "       s\bse\bed\bd [_\bO_\bP_\bT_\bI_\bO_\bN]... _\b{_\bs_\bc_\br_\bi_\bp_\bt_\b-_\bo_\bn_\bl_\by_\b-_\bi_\bf_\b-_\bn_\bo_\b-_\bo_\bt_\bh_\be_\br_\b-_\bs_\bc_\br_\bi_\bp_\bt_\b} [_\bi_\bn_\bp_\bu_\bt_\b-_\bf_\bi_\bl_\be]...\n",
      "\n",
      "D\bDE\bES\bSC\bCR\bRI\bIP\bPT\bTI\bIO\bON\bN\n",
      "       _\bS_\be_\bd is a stream editor.  A stream editor is used to perform basic text transformations on an input stream (a file or input from a pipeline).  While in some ways similar to an editor which\n"
     ]
    }
   ],
   "source": [
    "%%bash\n",
    "head ./*API_EN.ATM.CO2*.csv"
   ]
  },
  {
   "cell_type": "markdown",
   "metadata": {
    "slideshow": {
     "slide_type": "subslide"
    }
   },
   "source": [
    "We can see that the actual CSV header is on line five. To extract only the header row, we can use the stream editor *sed*, see `man sed`. The argument `'5!d'` tells `sed`, that we are only interested in the fifth line."
   ]
  },
  {
   "cell_type": "code",
   "execution_count": 7,
   "metadata": {
    "slideshow": {
     "slide_type": "subslide"
    }
   },
   "outputs": [
    {
     "name": "stdout",
     "output_type": "stream",
     "text": [
      "\"Country Name\",\"Country Code\",\"Indicator Name\",\"Indicator Code\",\"1960\",\"1961\",\"1962\",\"1963\",\"1964\",\"1965\",\"1966\",\"1967\",\"1968\",\"1969\",\"1970\",\"1971\",\"1972\",\"1973\",\"1974\",\"1975\",\"1976\",\"1977\",\"1978\",\"1979\",\"1980\",\"1981\",\"1982\",\"1983\",\"1984\",\"1985\",\"1986\",\"1987\",\"1988\",\"1989\",\"1990\",\"1991\",\"1992\",\"1993\",\"1994\",\"1995\",\"1996\",\"1997\",\"1998\",\"1999\",\"2000\",\"2001\",\"2002\",\"2003\",\"2004\",\"2005\",\"2006\",\"2007\",\"2008\",\"2009\",\"2010\",\"2011\",\"2012\",\"2013\",\"2014\",\"2015\",\"2016\",\"2017\",\"2018\",\r\n"
     ]
    }
   ],
   "source": [
    "%%bash\n",
    "# sed is a cli application that can filter text from pipeline (inputstream or a file)\n",
    "# Sed Linux command doesn’t update your data. It only sends the changed text to STDOUT\n",
    "# To know more about the sed tool: https://www.geeksforgeeks.org/sed-command-in-linux-unix-with-examples/\n",
    "sed '5!d' API_EN.ATM.CO2E.KT_DS2_en_csv_v2_10473877.csv # sed delete all lines except line 5 (sed '5d' filename.ext (would delete only line 5))\n"
   ]
  },
  {
   "cell_type": "markdown",
   "metadata": {
    "slideshow": {
     "slide_type": "subslide"
    }
   },
   "source": [
    "To get the two lines -one for Denmark and one for Uruguay repectively- holding the CO2 emission in tons, we can use the grep command, see `man grep`."
   ]
  },
  {
   "cell_type": "code",
   "execution_count": 4,
   "metadata": {
    "slideshow": {
     "slide_type": "subslide"
    }
   },
   "outputs": [
    {
     "name": "stdout",
     "output_type": "stream",
     "text": [
      "\"Denmark\",\"DNK\",\"CO2 emissions (kt)\",\"EN.ATM.CO2E.KT\",\"29779.707\",\"31734.218\",\"36926.69\",\"40707.367\",\"43189.926\",\"44337.697\",\"50127.89\",\"49075.461\",\"53325.514\",\"59401.733\",\"62100.645\",\"57062.187\",\"59643.755\",\"59266.054\",\"55078.34\",\"55778.737\",\"60135.133\",\"61847.622\",\"61117.889\",\"62999.06\",\"60369.821\",\"51789.041\",\"53695.881\",\"50175.561\",\"50861.29\",\"60072.794\",\"58903.021\",\"58341.97\",\"55107.676\",\"48785.768\",\"50230.566\",\"60270.812\",\"54322.938\",\"57065.854\",\"61000.545\",\"57172.197\",\"72181.228\",\"61557.929\",\"59552.08\",\"55148.013\",\"51330.666\",\"52918.477\",\"52049.398\",\"55998.757\",\"50600.933\",\"47095.281\",\"54986.665\",\"50256.235\",\"46933.933\",\"44510.046\",\"46640.573\",\"40645.028\",\"36427.978\",\"38532.836\",\"33498.045\",\"\",\"\",\"\",\"\",\r\n",
      "\"Uruguay\",\"URY\",\"CO2 emissions (kt)\",\"EN.ATM.CO2E.KT\",\"4319.726\",\"4121.708\",\"4011.698\",\"4319.726\",\"4558.081\",\"5522.502\",\"5405.158\",\"4884.444\",\"4884.444\",\"5595.842\",\"5742.522\",\"5808.528\",\"6076.219\",\"5775.525\",\"5683.85\",\"5969.876\",\"5896.536\",\"5650.847\",\"5742.522\",\"6277.904\",\"5837.864\",\"5375.822\",\"4873.443\",\"3817.347\",\"3450.647\",\"3296.633\",\"3179.289\",\"3560.657\",\"4807.437\",\"4880.777\",\"3993.363\",\"4554.414\",\"5170.47\",\"4466.406\",\"4066.703\",\"4591.084\",\"5441.828\",\"5555.505\",\"5687.517\",\"6725.278\",\"5306.149\",\"5089.796\",\"4620.42\",\"4598.418\",\"5610.51\",\"5775.525\",\"6648.271\",\"6002.879\",\"8265.418\",\"8060.066\",\"6387.914\",\"7763.039\",\"8694.457\",\"7587.023\",\"6747.28\",\"\",\"\",\"\",\"\",\r\n"
     ]
    }
   ],
   "source": [
    "%%bash\n",
    "grep -E \"DNK|URY\" API_EN.ATM.CO2E.KT_DS2_en_csv_v2_10473877.csv"
   ]
  },
  {
   "cell_type": "markdown",
   "metadata": {
    "slideshow": {
     "slide_type": "subslide"
    }
   },
   "source": [
    "### Executing OS Commands from Python\n",
    "\n",
    "\n",
    "With the help of the `subprocess` module allows us to execute shell commands and to read what the process was writing to standard out and standard error.\n",
    "\n",
    "https://docs.python.org/3/library/subprocess.html"
   ]
  },
  {
   "cell_type": "code",
   "execution_count": 5,
   "metadata": {
    "slideshow": {
     "slide_type": "fragment"
    }
   },
   "outputs": [],
   "source": [
    "import subprocess"
   ]
  },
  {
   "cell_type": "code",
   "execution_count": 14,
   "metadata": {
    "slideshow": {
     "slide_type": "subslide"
    }
   },
   "outputs": [],
   "source": [
    "cmd = 'sed 5!d {}'.format(local_file).split()\n",
    "out, err = subprocess.Popen(cmd, stdout=subprocess.PIPE, \n",
    "                            stderr=subprocess.STDOUT).communicate()"
   ]
  },
  {
   "cell_type": "code",
   "execution_count": 13,
   "metadata": {
    "slideshow": {
     "slide_type": "fragment"
    }
   },
   "outputs": [
    {
     "name": "stdout",
     "output_type": "stream",
     "text": [
      "[]\n"
     ]
    },
    {
     "ename": "IndexError",
     "evalue": "list index out of range",
     "output_type": "error",
     "traceback": [
      "\u001b[0;31m---------------------------------------------------------------------------\u001b[0m",
      "\u001b[0;31mIndexError\u001b[0m                                Traceback (most recent call last)",
      "\u001b[0;32m<ipython-input-13-2cb144e29d10>\u001b[0m in \u001b[0;36m<module>\u001b[0;34m\u001b[0m\n\u001b[1;32m      1\u001b[0m \u001b[0;31m# Since we are getting the output as a byte literal, we have to decode it into string\u001b[0m\u001b[0;34m\u001b[0m\u001b[0;34m\u001b[0m\u001b[0;34m\u001b[0m\u001b[0m\n\u001b[1;32m      2\u001b[0m \u001b[0mprint\u001b[0m\u001b[0;34m(\u001b[0m\u001b[0mout\u001b[0m\u001b[0;34m.\u001b[0m\u001b[0msplitlines\u001b[0m\u001b[0;34m(\u001b[0m\u001b[0;34m)\u001b[0m\u001b[0;34m)\u001b[0m\u001b[0;34m\u001b[0m\u001b[0;34m\u001b[0m\u001b[0m\n\u001b[0;32m----> 3\u001b[0;31m \u001b[0mheader_cols\u001b[0m \u001b[0;34m=\u001b[0m \u001b[0mout\u001b[0m\u001b[0;34m.\u001b[0m\u001b[0msplitlines\u001b[0m\u001b[0;34m(\u001b[0m\u001b[0;34m)\u001b[0m\u001b[0;34m[\u001b[0m\u001b[0;36m0\u001b[0m\u001b[0;34m]\u001b[0m\u001b[0;34m.\u001b[0m\u001b[0mdecode\u001b[0m\u001b[0;34m(\u001b[0m\u001b[0;34m'UTF-8'\u001b[0m\u001b[0;34m)\u001b[0m\u001b[0;34m.\u001b[0m\u001b[0msplit\u001b[0m\u001b[0;34m(\u001b[0m\u001b[0;34m','\u001b[0m\u001b[0;34m)\u001b[0m\u001b[0;34m\u001b[0m\u001b[0;34m\u001b[0m\u001b[0m\n\u001b[0m\u001b[1;32m      4\u001b[0m \u001b[0mheader_cols\u001b[0m \u001b[0;34m=\u001b[0m \u001b[0;34m[\u001b[0m\u001b[0mh\u001b[0m\u001b[0;34m.\u001b[0m\u001b[0mreplace\u001b[0m\u001b[0;34m(\u001b[0m\u001b[0;34m'\"'\u001b[0m\u001b[0;34m,\u001b[0m \u001b[0;34m''\u001b[0m\u001b[0;34m)\u001b[0m \u001b[0;32mfor\u001b[0m \u001b[0mh\u001b[0m \u001b[0;32min\u001b[0m \u001b[0mheader_cols\u001b[0m\u001b[0;34m]\u001b[0m\u001b[0;34m\u001b[0m\u001b[0;34m\u001b[0m\u001b[0m\n\u001b[1;32m      5\u001b[0m \u001b[0mprint\u001b[0m\u001b[0;34m(\u001b[0m\u001b[0mheader_cols\u001b[0m\u001b[0;34m)\u001b[0m\u001b[0;34m\u001b[0m\u001b[0;34m\u001b[0m\u001b[0m\n",
      "\u001b[0;31mIndexError\u001b[0m: list index out of range"
     ]
    }
   ],
   "source": [
    "# Since we are getting the output as a byte literal, we have to decode it into string\n",
    "print(out.splitlines())\n",
    "header_cols = out.splitlines()[0].decode('UTF-8').split(',')\n",
    "header_cols = [h.replace('\"', '') for h in header_cols]\n",
    "print(header_cols)"
   ]
  },
  {
   "cell_type": "code",
   "execution_count": null,
   "metadata": {
    "slideshow": {
     "slide_type": "subslide"
    }
   },
   "outputs": [],
   "source": [
    "%%bash\n",
    "ls -ltr *.csv"
   ]
  },
  {
   "cell_type": "markdown",
   "metadata": {
    "slideshow": {
     "slide_type": "subslide"
    }
   },
   "source": [
    "Now, let's get in a similar way the line of the CSV file containing the time series corresponding to Danmark's and Uruguay's CO2 emissions."
   ]
  },
  {
   "cell_type": "code",
   "execution_count": null,
   "metadata": {
    "slideshow": {
     "slide_type": "subslide"
    }
   },
   "outputs": [],
   "source": [
    "import subprocess"
   ]
  },
  {
   "cell_type": "code",
   "execution_count": null,
   "metadata": {
    "slideshow": {
     "slide_type": "subslide"
    }
   },
   "outputs": [],
   "source": [
    "local_file"
   ]
  },
  {
   "cell_type": "code",
   "execution_count": 15,
   "metadata": {
    "slideshow": {
     "slide_type": "subslide"
    }
   },
   "outputs": [],
   "source": [
    "cmd = ['grep', '-E', 'DNK|URY', local_file]\n",
    "out, err = subprocess.Popen(cmd, stdout=subprocess.PIPE, \n",
    "                            stderr=subprocess.STDOUT).communicate()"
   ]
  },
  {
   "cell_type": "code",
   "execution_count": 16,
   "metadata": {
    "slideshow": {
     "slide_type": "fragment"
    }
   },
   "outputs": [
    {
     "data": {
      "text/plain": [
       "[]"
      ]
     },
     "execution_count": 16,
     "metadata": {},
     "output_type": "execute_result"
    }
   ],
   "source": [
    "lines = out.decode('UTF-8').splitlines()\n",
    "lines = [l.split(',') for l in lines]\n",
    "lines = [[c.replace('\"', '') for c in l] for l in lines]\n",
    "lines"
   ]
  },
  {
   "cell_type": "markdown",
   "metadata": {
    "slideshow": {
     "slide_type": "subslide"
    }
   },
   "source": [
    "As in Pandas `Series` are one-dimensional labeled arrays, we are now ready to go to create two time series of CO2 emissions for Danmark and Uruguay repectively.\n",
    " "
   ]
  },
  {
   "cell_type": "code",
   "execution_count": null,
   "metadata": {
    "slideshow": {
     "slide_type": "fragment"
    }
   },
   "outputs": [],
   "source": [
    "print(header_cols)\n",
    "print(lines)"
   ]
  },
  {
   "cell_type": "markdown",
   "metadata": {
    "slideshow": {
     "slide_type": "subslide"
    }
   },
   "source": [
    "Since our data and the corresponding indexes are still all strings we have to convert them to floats and integers repectively. We do so using two different mechanisms. Once, creation of typed NumPy arrays and on the other hand via a Pandas method `convert_objects`, which converts strings to numerical values of a suitable type."
   ]
  },
  {
   "cell_type": "code",
   "execution_count": null,
   "metadata": {
    "slideshow": {
     "slide_type": "subslide"
    }
   },
   "outputs": [],
   "source": [
    "# reference to check graph: https://www.klimadebat.dk/grafer_co2udledning.php\n",
    "header_cols[4:-1]\n",
    "lines[0][4:-1]\n",
    "\n",
    "ts_dk = pd.Series(lines[0][4:-1], index=np.asarray(header_cols[4:-1], dtype=int))\n",
    "ts_dk = pd.to_numeric(ts_dk)\n",
    "ts_dk.loc[1960]"
   ]
  },
  {
   "cell_type": "code",
   "execution_count": null,
   "metadata": {
    "slideshow": {
     "slide_type": "subslide"
    }
   },
   "outputs": [],
   "source": [
    "ts_dk.plot()"
   ]
  },
  {
   "cell_type": "markdown",
   "metadata": {
    "slideshow": {
     "slide_type": "subslide"
    }
   },
   "source": [
    "Now we create a time series for the corresponding Uruguaian time series."
   ]
  },
  {
   "cell_type": "code",
   "execution_count": null,
   "metadata": {
    "slideshow": {
     "slide_type": "fragment"
    }
   },
   "outputs": [],
   "source": [
    "ts_ury = pd.Series(lines[1][4:-1], index=np.asarray(header_cols[4:-1], dtype=int))\n",
    "ts_ury = pd.to_numeric(ts_ury)\n",
    "ts_ury.plot()"
   ]
  },
  {
   "cell_type": "markdown",
   "metadata": {
    "slideshow": {
     "slide_type": "subslide"
    }
   },
   "source": [
    "# `DataFrame`\n",
    "\n",
    "Since `Series` are one-dimensional arrays, we have to create a `DataFrame` if we wanted to combine our two previous `Series` objects `ts_dk` and `ts_ur`.Since `Series` are one-dimensional arrays, we have to create a `DataFrame` if we wanted to combine our two previous `Series` objects `ts_dk` and `ts_ur`. \n",
    "\n",
    "A `DataFrame` is a 2-dimensional labeled data structure with columns of potentially different types. You can think of it like a spreadsheet or SQL table, or **a dict of Series objects**.\n",
    "\n",
    "In the following we concatenate two `Series`to form a `DataFrame`.\n",
    "\n",
    "We will use pandas concat() method [get a good explanation here](https://www.tutorialspoint.com/python_pandas/python_pandas_concatenation.htm)"
   ]
  },
  {
   "cell_type": "code",
   "execution_count": null,
   "metadata": {
    "slideshow": {
     "slide_type": "subslide"
    }
   },
   "outputs": [],
   "source": [
    "ts = pd.concat([ts_dk, ts_ury], axis=1, keys=['DNK', 'URY']) # axis=0 is default (concats like sql UNION) axis=1 concats the data along the x axis\n",
    "\n",
    "ts.plot()"
   ]
  },
  {
   "cell_type": "markdown",
   "metadata": {
    "slideshow": {
     "slide_type": "subslide"
    }
   },
   "source": [
    "More information on `DataFrame`s can be found here:\n",
    "http://pandas.pydata.org/pandas-docs/stable/dsintro.html#dataframe\n",
    "\n",
    "Similar to, we can create `DataFrame`s by giving the data for the values and indexes explicitely."
   ]
  },
  {
   "cell_type": "code",
   "execution_count": null,
   "metadata": {
    "slideshow": {
     "slide_type": "subslide"
    }
   },
   "outputs": [],
   "source": [
    "dates = pd.date_range('20180302', periods=6)\n",
    "df = pd.DataFrame(np.random.randn(6,4), index=dates, columns=list('ABCD'))\n",
    "df"
   ]
  },
  {
   "cell_type": "markdown",
   "metadata": {
    "slideshow": {
     "slide_type": "subslide"
    }
   },
   "source": [
    "But since we do not want to work on random example data. We will have a look on the military expenditures of some countries in the world. We will use this data to exemplify usage of Pandas' `DataFrame` methods.\n",
    "\n",
    "Again, we will receive the data from the World Bank.\n",
    "http://data.worldbank.org/indicator/MS.MIL.XPND.CN?locations=DK-CN-US-RU"
   ]
  },
  {
   "cell_type": "code",
   "execution_count": 17,
   "metadata": {
    "slideshow": {
     "slide_type": "subslide"
    }
   },
   "outputs": [
    {
     "name": "stdout",
     "output_type": "stream",
     "text": [
      "Downloaded {} API_MS.MIL.XPND.CN_DS2_en_csv_v2_10418495.zip\n"
     ]
    }
   ],
   "source": [
    "import requests\n",
    "\n",
    "url = 'http://api.worldbank.org/v2/en/indicator/MS.MIL.XPND.CN'\n",
    "\n",
    "response = requests.get(url, params={'downloadformat': 'csv'})\n",
    "fname = response.headers['Content-Disposition'].split('=')[1]\n",
    "\n",
    "if response.ok:  # status_code == 200:\n",
    "    with open(fname, 'wb') as f:\n",
    "        f.write(response.content)   \n",
    "\n",
    "print('Downloaded {}',fname)\n",
    "#print('Downloaded {}'.format(fname))"
   ]
  },
  {
   "cell_type": "code",
   "execution_count": 18,
   "metadata": {
    "slideshow": {
     "slide_type": "subslide"
    }
   },
   "outputs": [],
   "source": [
    "import os\n",
    "import zipfile\n",
    "\n",
    "\n",
    "zipfile.ZipFile(fname, 'r').extractall('.')\n",
    "os.remove(fname)"
   ]
  },
  {
   "cell_type": "code",
   "execution_count": 19,
   "metadata": {
    "slideshow": {
     "slide_type": "subslide"
    }
   },
   "outputs": [
    {
     "name": "stdout",
     "output_type": "stream",
     "text": [
      "drwxr-xr-x   8 mohammahomarhariri  staff   256B Mar  5 12:40 Assignments\n",
      "-rw-r--r--   1 mohammahomarhariri  staff   855B Mar  5 12:56 Untitled.ipynb\n",
      "-rw-r--r--   1 mohammahomarhariri  staff    74K Mar  5 15:06 API_EN.ATM.CO2E.KT_DS2_en_csv_v2_10473877.zip\n",
      "-rw-r--r--   1 mohammahomarhariri  staff   466B Mar  5 15:06 Metadata_Indicator_API_EN.ATM.CO2E.KT_DS2_en_csv_v2_10473877.csv\n",
      "-rw-r--r--   1 mohammahomarhariri  staff   173K Mar  5 15:06 API_EN.ATM.CO2E.KT_DS2_en_csv_v2_10473877.csv\n",
      "-rw-r--r--   1 mohammahomarhariri  staff    39K Mar  5 15:06 Metadata_Country_API_EN.ATM.CO2E.KT_DS2_en_csv_v2_10473877.csv\n",
      "-rw-r--r--   1 mohammahomarhariri  staff    73K Mar  5 15:22 16-pandas.ipynb\n",
      "-rw-r--r--   1 mohammahomarhariri  staff   1.6K Mar  5 15:22 Metadata_Indicator_API_MS.MIL.XPND.CN_DS2_en_csv_v2_10418495.csv\n",
      "-rw-r--r--   1 mohammahomarhariri  staff   135K Mar  5 15:22 API_MS.MIL.XPND.CN_DS2_en_csv_v2_10418495.csv\n",
      "-rw-r--r--   1 mohammahomarhariri  staff    39K Mar  5 15:22 Metadata_Country_API_MS.MIL.XPND.CN_DS2_en_csv_v2_10418495.csv\n"
     ]
    }
   ],
   "source": [
    "%%bash\n",
    "ls -ltrh | tail"
   ]
  },
  {
   "cell_type": "code",
   "execution_count": 20,
   "metadata": {
    "slideshow": {
     "slide_type": "subslide"
    }
   },
   "outputs": [
    {
     "data": {
      "text/plain": [
       "'API_MS.MIL.XPND.CN_DS2_en_csv_v2_10418495.csv'"
      ]
     },
     "execution_count": 20,
     "metadata": {},
     "output_type": "execute_result"
    }
   ],
   "source": [
    "from glob import glob\n",
    "\n",
    "\n",
    "milit_files = glob('API_MS.MIL.XPND.CN_DS2_en_csv_v2_10418495.csv')\n",
    "expenditure_csv = milit_files[0]\n",
    "expenditure_csv"
   ]
  },
  {
   "cell_type": "code",
   "execution_count": 21,
   "metadata": {
    "slideshow": {
     "slide_type": "subslide"
    }
   },
   "outputs": [
    {
     "name": "stdout",
     "output_type": "stream",
     "text": [
      "﻿\"Country Code\",\"Region\",\"IncomeGroup\",\"SpecialNotes\",\"TableName\",\r\n",
      "\"ABW\",\"Latin America & Caribbean\",\"High income\",\"Mining is included in agriculture\n",
      "Electricty and gas includes manufactures of refined petroleoum products\",\"Aruba\",\r\n",
      "\"AFG\",\"South Asia\",\"Low income\",\"Fiscal year end: March 20; reporting period for national accounts data is calendar year, estimated to insure consistency between national accounts and fiscal data. National accounts data are sourced from the IMF and differ from the Central Statistics Organization numbers due to exclusion of the opium economy.\",\"Afghanistan\",\r\n",
      "\"AGO\",\"Sub-Saharan Africa\",\"Lower middle income\",\"\",\"Angola\",\r\n",
      "\"ALB\",\"Europe & Central Asia\",\"Upper middle income\",\"\",\"Albania\",\r\n",
      "\"AND\",\"Europe & Central Asia\",\"High income\",\"WB-3 code changed from ADO to AND to align with ISO code.\",\"Andorra\",\r\n",
      "\"ARB\",\"\",\"\",\"Arab World aggregate. Arab World is composed of members of the League of Arab States.\",\"Arab World\",\r\n",
      "\"ARE\",\"Middle East & North Africa\",\"High income\",\"\",\"United Arab Emirates\",\r\n",
      "\"ARG\",\"Latin America & Caribbean\",\"High income\",\"Series of GNI and GNDI from 1993-2017 have been updated due to new data available\n"
     ]
    }
   ],
   "source": [
    "%%bash\n",
    "head ./Metadata_Country_API_MS.MIL.XPND.CN_DS2_en_csv_v2_10418495.csv"
   ]
  },
  {
   "cell_type": "markdown",
   "metadata": {
    "slideshow": {
     "slide_type": "subslide"
    }
   },
   "source": [
    "Now, we use Pandas' `read_csv` function to read the downloaded CSV file directly. Note that we have to skip the first four rows as they do not contain data we are interested in, see keyword argument `skiprows=4`.\n",
    "\n",
    "Reading the CSV file like this returns a `DataFrame` directly."
   ]
  },
  {
   "cell_type": "code",
   "execution_count": 22,
   "metadata": {
    "slideshow": {
     "slide_type": "subslide"
    }
   },
   "outputs": [
    {
     "data": {
      "text/html": [
       "<div>\n",
       "<style scoped>\n",
       "    .dataframe tbody tr th:only-of-type {\n",
       "        vertical-align: middle;\n",
       "    }\n",
       "\n",
       "    .dataframe tbody tr th {\n",
       "        vertical-align: top;\n",
       "    }\n",
       "\n",
       "    .dataframe thead th {\n",
       "        text-align: right;\n",
       "    }\n",
       "</style>\n",
       "<table border=\"1\" class=\"dataframe\">\n",
       "  <thead>\n",
       "    <tr style=\"text-align: right;\">\n",
       "      <th></th>\n",
       "      <th>Country Name</th>\n",
       "      <th>Country Code</th>\n",
       "      <th>Indicator Name</th>\n",
       "      <th>Indicator Code</th>\n",
       "      <th>1960</th>\n",
       "      <th>1961</th>\n",
       "      <th>1962</th>\n",
       "      <th>1963</th>\n",
       "      <th>1964</th>\n",
       "      <th>1965</th>\n",
       "      <th>...</th>\n",
       "      <th>2010</th>\n",
       "      <th>2011</th>\n",
       "      <th>2012</th>\n",
       "      <th>2013</th>\n",
       "      <th>2014</th>\n",
       "      <th>2015</th>\n",
       "      <th>2016</th>\n",
       "      <th>2017</th>\n",
       "      <th>2018</th>\n",
       "      <th>Unnamed: 63</th>\n",
       "    </tr>\n",
       "  </thead>\n",
       "  <tbody>\n",
       "    <tr>\n",
       "      <th>0</th>\n",
       "      <td>Aruba</td>\n",
       "      <td>ABW</td>\n",
       "      <td>Military expenditure (current LCU)</td>\n",
       "      <td>MS.MIL.XPND.CN</td>\n",
       "      <td>NaN</td>\n",
       "      <td>NaN</td>\n",
       "      <td>NaN</td>\n",
       "      <td>NaN</td>\n",
       "      <td>NaN</td>\n",
       "      <td>NaN</td>\n",
       "      <td>...</td>\n",
       "      <td>NaN</td>\n",
       "      <td>NaN</td>\n",
       "      <td>NaN</td>\n",
       "      <td>NaN</td>\n",
       "      <td>NaN</td>\n",
       "      <td>NaN</td>\n",
       "      <td>NaN</td>\n",
       "      <td>NaN</td>\n",
       "      <td>NaN</td>\n",
       "      <td>NaN</td>\n",
       "    </tr>\n",
       "    <tr>\n",
       "      <th>1</th>\n",
       "      <td>Afghanistan</td>\n",
       "      <td>AFG</td>\n",
       "      <td>Military expenditure (current LCU)</td>\n",
       "      <td>MS.MIL.XPND.CN</td>\n",
       "      <td>NaN</td>\n",
       "      <td>NaN</td>\n",
       "      <td>NaN</td>\n",
       "      <td>NaN</td>\n",
       "      <td>NaN</td>\n",
       "      <td>NaN</td>\n",
       "      <td>...</td>\n",
       "      <td>1.384967e+10</td>\n",
       "      <td>1.523050e+10</td>\n",
       "      <td>1.214900e+10</td>\n",
       "      <td>1.202767e+10</td>\n",
       "      <td>1.535600e+10</td>\n",
       "      <td>1.219917e+10</td>\n",
       "      <td>1.261483e+10</td>\n",
       "      <td>1.302083e+10</td>\n",
       "      <td>NaN</td>\n",
       "      <td>NaN</td>\n",
       "    </tr>\n",
       "    <tr>\n",
       "      <th>2</th>\n",
       "      <td>Angola</td>\n",
       "      <td>AGO</td>\n",
       "      <td>Military expenditure (current LCU)</td>\n",
       "      <td>MS.MIL.XPND.CN</td>\n",
       "      <td>NaN</td>\n",
       "      <td>NaN</td>\n",
       "      <td>NaN</td>\n",
       "      <td>NaN</td>\n",
       "      <td>NaN</td>\n",
       "      <td>NaN</td>\n",
       "      <td>...</td>\n",
       "      <td>3.217430e+11</td>\n",
       "      <td>3.418750e+11</td>\n",
       "      <td>3.956800e+11</td>\n",
       "      <td>5.878690e+11</td>\n",
       "      <td>6.730000e+11</td>\n",
       "      <td>4.332150e+11</td>\n",
       "      <td>4.622090e+11</td>\n",
       "      <td>5.081750e+11</td>\n",
       "      <td>NaN</td>\n",
       "      <td>NaN</td>\n",
       "    </tr>\n",
       "    <tr>\n",
       "      <th>3</th>\n",
       "      <td>Albania</td>\n",
       "      <td>ALB</td>\n",
       "      <td>Military expenditure (current LCU)</td>\n",
       "      <td>MS.MIL.XPND.CN</td>\n",
       "      <td>NaN</td>\n",
       "      <td>NaN</td>\n",
       "      <td>NaN</td>\n",
       "      <td>NaN</td>\n",
       "      <td>NaN</td>\n",
       "      <td>NaN</td>\n",
       "      <td>...</td>\n",
       "      <td>1.932100e+10</td>\n",
       "      <td>1.987700e+10</td>\n",
       "      <td>1.982000e+10</td>\n",
       "      <td>1.902200e+10</td>\n",
       "      <td>1.878800e+10</td>\n",
       "      <td>1.667100e+10</td>\n",
       "      <td>1.625000e+10</td>\n",
       "      <td>1.935200e+10</td>\n",
       "      <td>NaN</td>\n",
       "      <td>NaN</td>\n",
       "    </tr>\n",
       "    <tr>\n",
       "      <th>4</th>\n",
       "      <td>Andorra</td>\n",
       "      <td>AND</td>\n",
       "      <td>Military expenditure (current LCU)</td>\n",
       "      <td>MS.MIL.XPND.CN</td>\n",
       "      <td>NaN</td>\n",
       "      <td>NaN</td>\n",
       "      <td>NaN</td>\n",
       "      <td>NaN</td>\n",
       "      <td>NaN</td>\n",
       "      <td>NaN</td>\n",
       "      <td>...</td>\n",
       "      <td>NaN</td>\n",
       "      <td>NaN</td>\n",
       "      <td>NaN</td>\n",
       "      <td>NaN</td>\n",
       "      <td>NaN</td>\n",
       "      <td>NaN</td>\n",
       "      <td>NaN</td>\n",
       "      <td>NaN</td>\n",
       "      <td>NaN</td>\n",
       "      <td>NaN</td>\n",
       "    </tr>\n",
       "    <tr>\n",
       "      <th>5</th>\n",
       "      <td>Arab World</td>\n",
       "      <td>ARB</td>\n",
       "      <td>Military expenditure (current LCU)</td>\n",
       "      <td>MS.MIL.XPND.CN</td>\n",
       "      <td>NaN</td>\n",
       "      <td>NaN</td>\n",
       "      <td>NaN</td>\n",
       "      <td>NaN</td>\n",
       "      <td>NaN</td>\n",
       "      <td>NaN</td>\n",
       "      <td>...</td>\n",
       "      <td>NaN</td>\n",
       "      <td>NaN</td>\n",
       "      <td>NaN</td>\n",
       "      <td>NaN</td>\n",
       "      <td>NaN</td>\n",
       "      <td>NaN</td>\n",
       "      <td>NaN</td>\n",
       "      <td>NaN</td>\n",
       "      <td>NaN</td>\n",
       "      <td>NaN</td>\n",
       "    </tr>\n",
       "    <tr>\n",
       "      <th>6</th>\n",
       "      <td>United Arab Emirates</td>\n",
       "      <td>ARE</td>\n",
       "      <td>Military expenditure (current LCU)</td>\n",
       "      <td>MS.MIL.XPND.CN</td>\n",
       "      <td>NaN</td>\n",
       "      <td>NaN</td>\n",
       "      <td>NaN</td>\n",
       "      <td>NaN</td>\n",
       "      <td>NaN</td>\n",
       "      <td>NaN</td>\n",
       "      <td>...</td>\n",
       "      <td>6.428600e+10</td>\n",
       "      <td>7.044500e+10</td>\n",
       "      <td>6.986600e+10</td>\n",
       "      <td>8.652800e+10</td>\n",
       "      <td>8.356800e+10</td>\n",
       "      <td>NaN</td>\n",
       "      <td>NaN</td>\n",
       "      <td>NaN</td>\n",
       "      <td>NaN</td>\n",
       "      <td>NaN</td>\n",
       "    </tr>\n",
       "    <tr>\n",
       "      <th>7</th>\n",
       "      <td>Argentina</td>\n",
       "      <td>ARG</td>\n",
       "      <td>Military expenditure (current LCU)</td>\n",
       "      <td>MS.MIL.XPND.CN</td>\n",
       "      <td>1.550000e-03</td>\n",
       "      <td>2.140000e-03</td>\n",
       "      <td>2.660000e-03</td>\n",
       "      <td>3.360000e-03</td>\n",
       "      <td>3.450000e-03</td>\n",
       "      <td>4.280000e-03</td>\n",
       "      <td>...</td>\n",
       "      <td>1.354100e+10</td>\n",
       "      <td>1.665400e+10</td>\n",
       "      <td>2.070300e+10</td>\n",
       "      <td>2.805000e+10</td>\n",
       "      <td>4.020900e+10</td>\n",
       "      <td>5.062100e+10</td>\n",
       "      <td>6.658600e+10</td>\n",
       "      <td>9.403190e+10</td>\n",
       "      <td>NaN</td>\n",
       "      <td>NaN</td>\n",
       "    </tr>\n",
       "    <tr>\n",
       "      <th>8</th>\n",
       "      <td>Armenia</td>\n",
       "      <td>ARM</td>\n",
       "      <td>Military expenditure (current LCU)</td>\n",
       "      <td>MS.MIL.XPND.CN</td>\n",
       "      <td>NaN</td>\n",
       "      <td>NaN</td>\n",
       "      <td>NaN</td>\n",
       "      <td>NaN</td>\n",
       "      <td>NaN</td>\n",
       "      <td>NaN</td>\n",
       "      <td>...</td>\n",
       "      <td>1.476000e+11</td>\n",
       "      <td>1.456000e+11</td>\n",
       "      <td>1.529000e+11</td>\n",
       "      <td>1.821000e+11</td>\n",
       "      <td>1.904110e+11</td>\n",
       "      <td>2.138110e+11</td>\n",
       "      <td>2.072700e+11</td>\n",
       "      <td>2.142180e+11</td>\n",
       "      <td>NaN</td>\n",
       "      <td>NaN</td>\n",
       "    </tr>\n",
       "    <tr>\n",
       "      <th>9</th>\n",
       "      <td>American Samoa</td>\n",
       "      <td>ASM</td>\n",
       "      <td>Military expenditure (current LCU)</td>\n",
       "      <td>MS.MIL.XPND.CN</td>\n",
       "      <td>NaN</td>\n",
       "      <td>NaN</td>\n",
       "      <td>NaN</td>\n",
       "      <td>NaN</td>\n",
       "      <td>NaN</td>\n",
       "      <td>NaN</td>\n",
       "      <td>...</td>\n",
       "      <td>NaN</td>\n",
       "      <td>NaN</td>\n",
       "      <td>NaN</td>\n",
       "      <td>NaN</td>\n",
       "      <td>NaN</td>\n",
       "      <td>NaN</td>\n",
       "      <td>NaN</td>\n",
       "      <td>NaN</td>\n",
       "      <td>NaN</td>\n",
       "      <td>NaN</td>\n",
       "    </tr>\n",
       "    <tr>\n",
       "      <th>10</th>\n",
       "      <td>Antigua and Barbuda</td>\n",
       "      <td>ATG</td>\n",
       "      <td>Military expenditure (current LCU)</td>\n",
       "      <td>MS.MIL.XPND.CN</td>\n",
       "      <td>NaN</td>\n",
       "      <td>NaN</td>\n",
       "      <td>NaN</td>\n",
       "      <td>NaN</td>\n",
       "      <td>NaN</td>\n",
       "      <td>NaN</td>\n",
       "      <td>...</td>\n",
       "      <td>NaN</td>\n",
       "      <td>NaN</td>\n",
       "      <td>NaN</td>\n",
       "      <td>NaN</td>\n",
       "      <td>NaN</td>\n",
       "      <td>NaN</td>\n",
       "      <td>NaN</td>\n",
       "      <td>NaN</td>\n",
       "      <td>NaN</td>\n",
       "      <td>NaN</td>\n",
       "    </tr>\n",
       "    <tr>\n",
       "      <th>11</th>\n",
       "      <td>Australia</td>\n",
       "      <td>AUS</td>\n",
       "      <td>Military expenditure (current LCU)</td>\n",
       "      <td>MS.MIL.XPND.CN</td>\n",
       "      <td>4.105000e+08</td>\n",
       "      <td>4.205000e+08</td>\n",
       "      <td>4.370000e+08</td>\n",
       "      <td>4.940000e+08</td>\n",
       "      <td>5.855000e+08</td>\n",
       "      <td>7.030000e+08</td>\n",
       "      <td>...</td>\n",
       "      <td>2.531100e+10</td>\n",
       "      <td>2.578500e+10</td>\n",
       "      <td>2.532000e+10</td>\n",
       "      <td>2.571500e+10</td>\n",
       "      <td>2.860350e+10</td>\n",
       "      <td>3.200550e+10</td>\n",
       "      <td>3.549500e+10</td>\n",
       "      <td>3.582350e+10</td>\n",
       "      <td>NaN</td>\n",
       "      <td>NaN</td>\n",
       "    </tr>\n",
       "    <tr>\n",
       "      <th>12</th>\n",
       "      <td>Austria</td>\n",
       "      <td>AUT</td>\n",
       "      <td>Military expenditure (current LCU)</td>\n",
       "      <td>MS.MIL.XPND.CN</td>\n",
       "      <td>1.730000e+08</td>\n",
       "      <td>1.720000e+08</td>\n",
       "      <td>1.890000e+08</td>\n",
       "      <td>2.380000e+08</td>\n",
       "      <td>3.110000e+08</td>\n",
       "      <td>2.700000e+08</td>\n",
       "      <td>...</td>\n",
       "      <td>2.430000e+09</td>\n",
       "      <td>2.452800e+09</td>\n",
       "      <td>2.480600e+09</td>\n",
       "      <td>2.432000e+09</td>\n",
       "      <td>2.491200e+09</td>\n",
       "      <td>2.403400e+09</td>\n",
       "      <td>2.609600e+09</td>\n",
       "      <td>2.647100e+09</td>\n",
       "      <td>NaN</td>\n",
       "      <td>NaN</td>\n",
       "    </tr>\n",
       "    <tr>\n",
       "      <th>13</th>\n",
       "      <td>Azerbaijan</td>\n",
       "      <td>AZE</td>\n",
       "      <td>Military expenditure (current LCU)</td>\n",
       "      <td>MS.MIL.XPND.CN</td>\n",
       "      <td>NaN</td>\n",
       "      <td>NaN</td>\n",
       "      <td>NaN</td>\n",
       "      <td>NaN</td>\n",
       "      <td>NaN</td>\n",
       "      <td>NaN</td>\n",
       "      <td>...</td>\n",
       "      <td>1.185200e+09</td>\n",
       "      <td>2.432300e+09</td>\n",
       "      <td>2.550300e+09</td>\n",
       "      <td>2.642000e+09</td>\n",
       "      <td>2.688100e+09</td>\n",
       "      <td>2.971800e+09</td>\n",
       "      <td>2.228800e+09</td>\n",
       "      <td>2.642100e+09</td>\n",
       "      <td>NaN</td>\n",
       "      <td>NaN</td>\n",
       "    </tr>\n",
       "    <tr>\n",
       "      <th>14</th>\n",
       "      <td>Burundi</td>\n",
       "      <td>BDI</td>\n",
       "      <td>Military expenditure (current LCU)</td>\n",
       "      <td>MS.MIL.XPND.CN</td>\n",
       "      <td>NaN</td>\n",
       "      <td>NaN</td>\n",
       "      <td>4.210000e+08</td>\n",
       "      <td>5.060000e+07</td>\n",
       "      <td>5.810000e+07</td>\n",
       "      <td>1.817000e+08</td>\n",
       "      <td>...</td>\n",
       "      <td>NaN</td>\n",
       "      <td>NaN</td>\n",
       "      <td>8.506000e+10</td>\n",
       "      <td>9.464200e+10</td>\n",
       "      <td>9.616900e+10</td>\n",
       "      <td>1.040040e+11</td>\n",
       "      <td>1.098500e+11</td>\n",
       "      <td>1.098500e+11</td>\n",
       "      <td>NaN</td>\n",
       "      <td>NaN</td>\n",
       "    </tr>\n",
       "    <tr>\n",
       "      <th>15</th>\n",
       "      <td>Belgium</td>\n",
       "      <td>BEL</td>\n",
       "      <td>Military expenditure (current LCU)</td>\n",
       "      <td>MS.MIL.XPND.CN</td>\n",
       "      <td>4.749900e+08</td>\n",
       "      <td>4.849040e+08</td>\n",
       "      <td>5.233300e+08</td>\n",
       "      <td>5.510700e+08</td>\n",
       "      <td>6.160900e+08</td>\n",
       "      <td>6.206300e+08</td>\n",
       "      <td>...</td>\n",
       "      <td>3.960000e+09</td>\n",
       "      <td>3.956000e+09</td>\n",
       "      <td>4.023000e+09</td>\n",
       "      <td>3.964000e+09</td>\n",
       "      <td>3.913000e+09</td>\n",
       "      <td>3.789000e+09</td>\n",
       "      <td>3.901000e+09</td>\n",
       "      <td>3.965000e+09</td>\n",
       "      <td>NaN</td>\n",
       "      <td>NaN</td>\n",
       "    </tr>\n",
       "    <tr>\n",
       "      <th>16</th>\n",
       "      <td>Benin</td>\n",
       "      <td>BEN</td>\n",
       "      <td>Military expenditure (current LCU)</td>\n",
       "      <td>MS.MIL.XPND.CN</td>\n",
       "      <td>3.190000e+08</td>\n",
       "      <td>5.330000e+08</td>\n",
       "      <td>6.700000e+08</td>\n",
       "      <td>7.260000e+08</td>\n",
       "      <td>9.320000e+08</td>\n",
       "      <td>9.790000e+08</td>\n",
       "      <td>...</td>\n",
       "      <td>NaN</td>\n",
       "      <td>NaN</td>\n",
       "      <td>3.993500e+10</td>\n",
       "      <td>4.248900e+10</td>\n",
       "      <td>4.597600e+10</td>\n",
       "      <td>5.376049e+10</td>\n",
       "      <td>4.718700e+10</td>\n",
       "      <td>6.789800e+10</td>\n",
       "      <td>NaN</td>\n",
       "      <td>NaN</td>\n",
       "    </tr>\n",
       "    <tr>\n",
       "      <th>17</th>\n",
       "      <td>Burkina Faso</td>\n",
       "      <td>BFA</td>\n",
       "      <td>Military expenditure (current LCU)</td>\n",
       "      <td>MS.MIL.XPND.CN</td>\n",
       "      <td>3.110000e+08</td>\n",
       "      <td>4.030000e+08</td>\n",
       "      <td>1.201000e+09</td>\n",
       "      <td>1.294000e+09</td>\n",
       "      <td>1.313000e+09</td>\n",
       "      <td>8.600000e+08</td>\n",
       "      <td>...</td>\n",
       "      <td>6.126600e+10</td>\n",
       "      <td>6.551900e+10</td>\n",
       "      <td>7.542000e+10</td>\n",
       "      <td>8.207800e+10</td>\n",
       "      <td>8.759400e+10</td>\n",
       "      <td>8.749600e+10</td>\n",
       "      <td>8.862500e+10</td>\n",
       "      <td>1.116990e+11</td>\n",
       "      <td>NaN</td>\n",
       "      <td>NaN</td>\n",
       "    </tr>\n",
       "    <tr>\n",
       "      <th>18</th>\n",
       "      <td>Bangladesh</td>\n",
       "      <td>BGD</td>\n",
       "      <td>Military expenditure (current LCU)</td>\n",
       "      <td>MS.MIL.XPND.CN</td>\n",
       "      <td>NaN</td>\n",
       "      <td>NaN</td>\n",
       "      <td>NaN</td>\n",
       "      <td>NaN</td>\n",
       "      <td>NaN</td>\n",
       "      <td>NaN</td>\n",
       "      <td>...</td>\n",
       "      <td>1.131540e+11</td>\n",
       "      <td>1.335885e+11</td>\n",
       "      <td>1.492705e+11</td>\n",
       "      <td>1.599545e+11</td>\n",
       "      <td>1.829225e+11</td>\n",
       "      <td>2.194425e+11</td>\n",
       "      <td>2.544750e+11</td>\n",
       "      <td>2.884030e+11</td>\n",
       "      <td>NaN</td>\n",
       "      <td>NaN</td>\n",
       "    </tr>\n",
       "    <tr>\n",
       "      <th>19</th>\n",
       "      <td>Bulgaria</td>\n",
       "      <td>BGR</td>\n",
       "      <td>Military expenditure (current LCU)</td>\n",
       "      <td>MS.MIL.XPND.CN</td>\n",
       "      <td>NaN</td>\n",
       "      <td>NaN</td>\n",
       "      <td>NaN</td>\n",
       "      <td>NaN</td>\n",
       "      <td>NaN</td>\n",
       "      <td>NaN</td>\n",
       "      <td>...</td>\n",
       "      <td>1.320000e+09</td>\n",
       "      <td>1.166000e+09</td>\n",
       "      <td>1.229100e+09</td>\n",
       "      <td>1.325600e+09</td>\n",
       "      <td>1.232000e+09</td>\n",
       "      <td>1.166000e+09</td>\n",
       "      <td>1.336000e+09</td>\n",
       "      <td>1.508000e+09</td>\n",
       "      <td>NaN</td>\n",
       "      <td>NaN</td>\n",
       "    </tr>\n",
       "    <tr>\n",
       "      <th>20</th>\n",
       "      <td>Bahrain</td>\n",
       "      <td>BHR</td>\n",
       "      <td>Military expenditure (current LCU)</td>\n",
       "      <td>MS.MIL.XPND.CN</td>\n",
       "      <td>NaN</td>\n",
       "      <td>NaN</td>\n",
       "      <td>NaN</td>\n",
       "      <td>NaN</td>\n",
       "      <td>NaN</td>\n",
       "      <td>NaN</td>\n",
       "      <td>...</td>\n",
       "      <td>3.169000e+08</td>\n",
       "      <td>3.886000e+08</td>\n",
       "      <td>4.445000e+08</td>\n",
       "      <td>5.067000e+08</td>\n",
       "      <td>5.547000e+08</td>\n",
       "      <td>5.422000e+08</td>\n",
       "      <td>5.660810e+08</td>\n",
       "      <td>5.252000e+08</td>\n",
       "      <td>NaN</td>\n",
       "      <td>NaN</td>\n",
       "    </tr>\n",
       "    <tr>\n",
       "      <th>21</th>\n",
       "      <td>Bahamas, The</td>\n",
       "      <td>BHS</td>\n",
       "      <td>Military expenditure (current LCU)</td>\n",
       "      <td>MS.MIL.XPND.CN</td>\n",
       "      <td>NaN</td>\n",
       "      <td>NaN</td>\n",
       "      <td>NaN</td>\n",
       "      <td>NaN</td>\n",
       "      <td>NaN</td>\n",
       "      <td>NaN</td>\n",
       "      <td>...</td>\n",
       "      <td>NaN</td>\n",
       "      <td>NaN</td>\n",
       "      <td>NaN</td>\n",
       "      <td>NaN</td>\n",
       "      <td>NaN</td>\n",
       "      <td>NaN</td>\n",
       "      <td>NaN</td>\n",
       "      <td>NaN</td>\n",
       "      <td>NaN</td>\n",
       "      <td>NaN</td>\n",
       "    </tr>\n",
       "    <tr>\n",
       "      <th>22</th>\n",
       "      <td>Bosnia and Herzegovina</td>\n",
       "      <td>BIH</td>\n",
       "      <td>Military expenditure (current LCU)</td>\n",
       "      <td>MS.MIL.XPND.CN</td>\n",
       "      <td>NaN</td>\n",
       "      <td>NaN</td>\n",
       "      <td>NaN</td>\n",
       "      <td>NaN</td>\n",
       "      <td>NaN</td>\n",
       "      <td>NaN</td>\n",
       "      <td>...</td>\n",
       "      <td>3.247580e+08</td>\n",
       "      <td>2.981000e+08</td>\n",
       "      <td>3.004000e+08</td>\n",
       "      <td>2.911000e+08</td>\n",
       "      <td>2.806530e+08</td>\n",
       "      <td>2.860660e+08</td>\n",
       "      <td>2.908710e+08</td>\n",
       "      <td>2.856890e+08</td>\n",
       "      <td>NaN</td>\n",
       "      <td>NaN</td>\n",
       "    </tr>\n",
       "    <tr>\n",
       "      <th>23</th>\n",
       "      <td>Belarus</td>\n",
       "      <td>BLR</td>\n",
       "      <td>Military expenditure (current LCU)</td>\n",
       "      <td>MS.MIL.XPND.CN</td>\n",
       "      <td>NaN</td>\n",
       "      <td>NaN</td>\n",
       "      <td>NaN</td>\n",
       "      <td>NaN</td>\n",
       "      <td>NaN</td>\n",
       "      <td>NaN</td>\n",
       "      <td>...</td>\n",
       "      <td>2.286600e+08</td>\n",
       "      <td>3.762200e+08</td>\n",
       "      <td>6.811830e+08</td>\n",
       "      <td>8.623486e+08</td>\n",
       "      <td>1.033480e+09</td>\n",
       "      <td>1.152500e+09</td>\n",
       "      <td>1.200300e+09</td>\n",
       "      <td>1.222851e+09</td>\n",
       "      <td>NaN</td>\n",
       "      <td>NaN</td>\n",
       "    </tr>\n",
       "    <tr>\n",
       "      <th>24</th>\n",
       "      <td>Belize</td>\n",
       "      <td>BLZ</td>\n",
       "      <td>Military expenditure (current LCU)</td>\n",
       "      <td>MS.MIL.XPND.CN</td>\n",
       "      <td>NaN</td>\n",
       "      <td>NaN</td>\n",
       "      <td>NaN</td>\n",
       "      <td>NaN</td>\n",
       "      <td>NaN</td>\n",
       "      <td>NaN</td>\n",
       "      <td>...</td>\n",
       "      <td>3.067450e+07</td>\n",
       "      <td>3.083250e+07</td>\n",
       "      <td>3.043825e+07</td>\n",
       "      <td>3.555775e+07</td>\n",
       "      <td>3.983375e+07</td>\n",
       "      <td>3.943525e+07</td>\n",
       "      <td>4.372150e+07</td>\n",
       "      <td>4.558850e+07</td>\n",
       "      <td>NaN</td>\n",
       "      <td>NaN</td>\n",
       "    </tr>\n",
       "    <tr>\n",
       "      <th>25</th>\n",
       "      <td>Bermuda</td>\n",
       "      <td>BMU</td>\n",
       "      <td>Military expenditure (current LCU)</td>\n",
       "      <td>MS.MIL.XPND.CN</td>\n",
       "      <td>NaN</td>\n",
       "      <td>NaN</td>\n",
       "      <td>NaN</td>\n",
       "      <td>NaN</td>\n",
       "      <td>NaN</td>\n",
       "      <td>NaN</td>\n",
       "      <td>...</td>\n",
       "      <td>NaN</td>\n",
       "      <td>NaN</td>\n",
       "      <td>NaN</td>\n",
       "      <td>NaN</td>\n",
       "      <td>NaN</td>\n",
       "      <td>NaN</td>\n",
       "      <td>NaN</td>\n",
       "      <td>NaN</td>\n",
       "      <td>NaN</td>\n",
       "      <td>NaN</td>\n",
       "    </tr>\n",
       "    <tr>\n",
       "      <th>26</th>\n",
       "      <td>Bolivia</td>\n",
       "      <td>BOL</td>\n",
       "      <td>Military expenditure (current LCU)</td>\n",
       "      <td>MS.MIL.XPND.CN</td>\n",
       "      <td>NaN</td>\n",
       "      <td>5.863277e+01</td>\n",
       "      <td>6.172395e+01</td>\n",
       "      <td>7.608299e+01</td>\n",
       "      <td>NaN</td>\n",
       "      <td>NaN</td>\n",
       "      <td>...</td>\n",
       "      <td>2.297350e+09</td>\n",
       "      <td>2.799539e+09</td>\n",
       "      <td>3.454102e+09</td>\n",
       "      <td>3.900072e+09</td>\n",
       "      <td>4.324866e+09</td>\n",
       "      <td>3.976500e+09</td>\n",
       "      <td>3.818043e+09</td>\n",
       "      <td>4.555274e+09</td>\n",
       "      <td>NaN</td>\n",
       "      <td>NaN</td>\n",
       "    </tr>\n",
       "    <tr>\n",
       "      <th>27</th>\n",
       "      <td>Brazil</td>\n",
       "      <td>BRA</td>\n",
       "      <td>Military expenditure (current LCU)</td>\n",
       "      <td>MS.MIL.XPND.CN</td>\n",
       "      <td>3.100000e-05</td>\n",
       "      <td>4.000000e-05</td>\n",
       "      <td>6.500000e-05</td>\n",
       "      <td>1.100000e-04</td>\n",
       "      <td>1.920000e-04</td>\n",
       "      <td>5.200000e-04</td>\n",
       "      <td>...</td>\n",
       "      <td>5.981900e+10</td>\n",
       "      <td>6.178800e+10</td>\n",
       "      <td>6.637900e+10</td>\n",
       "      <td>7.088100e+10</td>\n",
       "      <td>7.687420e+10</td>\n",
       "      <td>8.187350e+10</td>\n",
       "      <td>8.450900e+10</td>\n",
       "      <td>9.312140e+10</td>\n",
       "      <td>NaN</td>\n",
       "      <td>NaN</td>\n",
       "    </tr>\n",
       "    <tr>\n",
       "      <th>28</th>\n",
       "      <td>Barbados</td>\n",
       "      <td>BRB</td>\n",
       "      <td>Military expenditure (current LCU)</td>\n",
       "      <td>MS.MIL.XPND.CN</td>\n",
       "      <td>NaN</td>\n",
       "      <td>NaN</td>\n",
       "      <td>NaN</td>\n",
       "      <td>NaN</td>\n",
       "      <td>NaN</td>\n",
       "      <td>NaN</td>\n",
       "      <td>...</td>\n",
       "      <td>NaN</td>\n",
       "      <td>NaN</td>\n",
       "      <td>NaN</td>\n",
       "      <td>NaN</td>\n",
       "      <td>NaN</td>\n",
       "      <td>NaN</td>\n",
       "      <td>NaN</td>\n",
       "      <td>NaN</td>\n",
       "      <td>NaN</td>\n",
       "      <td>NaN</td>\n",
       "    </tr>\n",
       "    <tr>\n",
       "      <th>29</th>\n",
       "      <td>Brunei Darussalam</td>\n",
       "      <td>BRN</td>\n",
       "      <td>Military expenditure (current LCU)</td>\n",
       "      <td>MS.MIL.XPND.CN</td>\n",
       "      <td>NaN</td>\n",
       "      <td>NaN</td>\n",
       "      <td>NaN</td>\n",
       "      <td>NaN</td>\n",
       "      <td>NaN</td>\n",
       "      <td>NaN</td>\n",
       "      <td>...</td>\n",
       "      <td>5.327500e+08</td>\n",
       "      <td>5.225000e+08</td>\n",
       "      <td>5.139000e+08</td>\n",
       "      <td>5.156000e+08</td>\n",
       "      <td>6.687250e+08</td>\n",
       "      <td>5.829925e+08</td>\n",
       "      <td>5.573725e+08</td>\n",
       "      <td>4.798425e+08</td>\n",
       "      <td>NaN</td>\n",
       "      <td>NaN</td>\n",
       "    </tr>\n",
       "    <tr>\n",
       "      <th>...</th>\n",
       "      <td>...</td>\n",
       "      <td>...</td>\n",
       "      <td>...</td>\n",
       "      <td>...</td>\n",
       "      <td>...</td>\n",
       "      <td>...</td>\n",
       "      <td>...</td>\n",
       "      <td>...</td>\n",
       "      <td>...</td>\n",
       "      <td>...</td>\n",
       "      <td>...</td>\n",
       "      <td>...</td>\n",
       "      <td>...</td>\n",
       "      <td>...</td>\n",
       "      <td>...</td>\n",
       "      <td>...</td>\n",
       "      <td>...</td>\n",
       "      <td>...</td>\n",
       "      <td>...</td>\n",
       "      <td>...</td>\n",
       "      <td>...</td>\n",
       "    </tr>\n",
       "    <tr>\n",
       "      <th>234</th>\n",
       "      <td>Latin America &amp; the Caribbean (IDA &amp; IBRD coun...</td>\n",
       "      <td>TLA</td>\n",
       "      <td>Military expenditure (current LCU)</td>\n",
       "      <td>MS.MIL.XPND.CN</td>\n",
       "      <td>NaN</td>\n",
       "      <td>NaN</td>\n",
       "      <td>NaN</td>\n",
       "      <td>NaN</td>\n",
       "      <td>NaN</td>\n",
       "      <td>NaN</td>\n",
       "      <td>...</td>\n",
       "      <td>NaN</td>\n",
       "      <td>NaN</td>\n",
       "      <td>NaN</td>\n",
       "      <td>NaN</td>\n",
       "      <td>NaN</td>\n",
       "      <td>NaN</td>\n",
       "      <td>NaN</td>\n",
       "      <td>NaN</td>\n",
       "      <td>NaN</td>\n",
       "      <td>NaN</td>\n",
       "    </tr>\n",
       "    <tr>\n",
       "      <th>235</th>\n",
       "      <td>Timor-Leste</td>\n",
       "      <td>TLS</td>\n",
       "      <td>Military expenditure (current LCU)</td>\n",
       "      <td>MS.MIL.XPND.CN</td>\n",
       "      <td>NaN</td>\n",
       "      <td>NaN</td>\n",
       "      <td>NaN</td>\n",
       "      <td>NaN</td>\n",
       "      <td>NaN</td>\n",
       "      <td>NaN</td>\n",
       "      <td>...</td>\n",
       "      <td>2.638900e+07</td>\n",
       "      <td>2.053000e+07</td>\n",
       "      <td>3.338800e+07</td>\n",
       "      <td>3.168300e+07</td>\n",
       "      <td>2.962400e+07</td>\n",
       "      <td>3.695900e+07</td>\n",
       "      <td>2.621700e+07</td>\n",
       "      <td>2.544200e+07</td>\n",
       "      <td>NaN</td>\n",
       "      <td>NaN</td>\n",
       "    </tr>\n",
       "    <tr>\n",
       "      <th>236</th>\n",
       "      <td>Middle East &amp; North Africa (IDA &amp; IBRD countries)</td>\n",
       "      <td>TMN</td>\n",
       "      <td>Military expenditure (current LCU)</td>\n",
       "      <td>MS.MIL.XPND.CN</td>\n",
       "      <td>NaN</td>\n",
       "      <td>NaN</td>\n",
       "      <td>NaN</td>\n",
       "      <td>NaN</td>\n",
       "      <td>NaN</td>\n",
       "      <td>NaN</td>\n",
       "      <td>...</td>\n",
       "      <td>NaN</td>\n",
       "      <td>NaN</td>\n",
       "      <td>NaN</td>\n",
       "      <td>NaN</td>\n",
       "      <td>NaN</td>\n",
       "      <td>NaN</td>\n",
       "      <td>NaN</td>\n",
       "      <td>NaN</td>\n",
       "      <td>NaN</td>\n",
       "      <td>NaN</td>\n",
       "    </tr>\n",
       "    <tr>\n",
       "      <th>237</th>\n",
       "      <td>Tonga</td>\n",
       "      <td>TON</td>\n",
       "      <td>Military expenditure (current LCU)</td>\n",
       "      <td>MS.MIL.XPND.CN</td>\n",
       "      <td>NaN</td>\n",
       "      <td>NaN</td>\n",
       "      <td>NaN</td>\n",
       "      <td>NaN</td>\n",
       "      <td>NaN</td>\n",
       "      <td>NaN</td>\n",
       "      <td>...</td>\n",
       "      <td>NaN</td>\n",
       "      <td>NaN</td>\n",
       "      <td>NaN</td>\n",
       "      <td>NaN</td>\n",
       "      <td>NaN</td>\n",
       "      <td>NaN</td>\n",
       "      <td>NaN</td>\n",
       "      <td>NaN</td>\n",
       "      <td>NaN</td>\n",
       "      <td>NaN</td>\n",
       "    </tr>\n",
       "    <tr>\n",
       "      <th>238</th>\n",
       "      <td>South Asia (IDA &amp; IBRD)</td>\n",
       "      <td>TSA</td>\n",
       "      <td>Military expenditure (current LCU)</td>\n",
       "      <td>MS.MIL.XPND.CN</td>\n",
       "      <td>NaN</td>\n",
       "      <td>NaN</td>\n",
       "      <td>NaN</td>\n",
       "      <td>NaN</td>\n",
       "      <td>NaN</td>\n",
       "      <td>NaN</td>\n",
       "      <td>...</td>\n",
       "      <td>NaN</td>\n",
       "      <td>NaN</td>\n",
       "      <td>NaN</td>\n",
       "      <td>NaN</td>\n",
       "      <td>NaN</td>\n",
       "      <td>NaN</td>\n",
       "      <td>NaN</td>\n",
       "      <td>NaN</td>\n",
       "      <td>NaN</td>\n",
       "      <td>NaN</td>\n",
       "    </tr>\n",
       "    <tr>\n",
       "      <th>239</th>\n",
       "      <td>Sub-Saharan Africa (IDA &amp; IBRD countries)</td>\n",
       "      <td>TSS</td>\n",
       "      <td>Military expenditure (current LCU)</td>\n",
       "      <td>MS.MIL.XPND.CN</td>\n",
       "      <td>NaN</td>\n",
       "      <td>NaN</td>\n",
       "      <td>NaN</td>\n",
       "      <td>NaN</td>\n",
       "      <td>NaN</td>\n",
       "      <td>NaN</td>\n",
       "      <td>...</td>\n",
       "      <td>NaN</td>\n",
       "      <td>NaN</td>\n",
       "      <td>NaN</td>\n",
       "      <td>NaN</td>\n",
       "      <td>NaN</td>\n",
       "      <td>NaN</td>\n",
       "      <td>NaN</td>\n",
       "      <td>NaN</td>\n",
       "      <td>NaN</td>\n",
       "      <td>NaN</td>\n",
       "    </tr>\n",
       "    <tr>\n",
       "      <th>240</th>\n",
       "      <td>Trinidad and Tobago</td>\n",
       "      <td>TTO</td>\n",
       "      <td>Military expenditure (current LCU)</td>\n",
       "      <td>MS.MIL.XPND.CN</td>\n",
       "      <td>NaN</td>\n",
       "      <td>NaN</td>\n",
       "      <td>NaN</td>\n",
       "      <td>NaN</td>\n",
       "      <td>NaN</td>\n",
       "      <td>NaN</td>\n",
       "      <td>...</td>\n",
       "      <td>9.121000e+08</td>\n",
       "      <td>9.362750e+08</td>\n",
       "      <td>1.085075e+09</td>\n",
       "      <td>1.360529e+09</td>\n",
       "      <td>1.210587e+09</td>\n",
       "      <td>1.288925e+09</td>\n",
       "      <td>1.433550e+09</td>\n",
       "      <td>1.367550e+09</td>\n",
       "      <td>NaN</td>\n",
       "      <td>NaN</td>\n",
       "    </tr>\n",
       "    <tr>\n",
       "      <th>241</th>\n",
       "      <td>Tunisia</td>\n",
       "      <td>TUN</td>\n",
       "      <td>Military expenditure (current LCU)</td>\n",
       "      <td>MS.MIL.XPND.CN</td>\n",
       "      <td>6.700000e+06</td>\n",
       "      <td>7.800000e+06</td>\n",
       "      <td>6.000000e+06</td>\n",
       "      <td>6.400000e+06</td>\n",
       "      <td>7.800000e+06</td>\n",
       "      <td>6.700000e+06</td>\n",
       "      <td>...</td>\n",
       "      <td>8.176000e+08</td>\n",
       "      <td>1.006900e+09</td>\n",
       "      <td>1.064000e+09</td>\n",
       "      <td>1.233700e+09</td>\n",
       "      <td>1.542100e+09</td>\n",
       "      <td>1.921400e+09</td>\n",
       "      <td>2.120120e+09</td>\n",
       "      <td>2.016200e+09</td>\n",
       "      <td>NaN</td>\n",
       "      <td>NaN</td>\n",
       "    </tr>\n",
       "    <tr>\n",
       "      <th>242</th>\n",
       "      <td>Turkey</td>\n",
       "      <td>TUR</td>\n",
       "      <td>Military expenditure (current LCU)</td>\n",
       "      <td>MS.MIL.XPND.CN</td>\n",
       "      <td>2.405000e+03</td>\n",
       "      <td>2.718000e+03</td>\n",
       "      <td>2.980000e+03</td>\n",
       "      <td>3.157000e+03</td>\n",
       "      <td>3.443000e+03</td>\n",
       "      <td>3.821000e+03</td>\n",
       "      <td>...</td>\n",
       "      <td>2.696018e+10</td>\n",
       "      <td>2.898481e+10</td>\n",
       "      <td>3.225300e+10</td>\n",
       "      <td>3.552925e+10</td>\n",
       "      <td>3.889510e+10</td>\n",
       "      <td>4.319612e+10</td>\n",
       "      <td>5.393238e+10</td>\n",
       "      <td>6.556623e+10</td>\n",
       "      <td>NaN</td>\n",
       "      <td>NaN</td>\n",
       "    </tr>\n",
       "    <tr>\n",
       "      <th>243</th>\n",
       "      <td>Tuvalu</td>\n",
       "      <td>TUV</td>\n",
       "      <td>Military expenditure (current LCU)</td>\n",
       "      <td>MS.MIL.XPND.CN</td>\n",
       "      <td>NaN</td>\n",
       "      <td>NaN</td>\n",
       "      <td>NaN</td>\n",
       "      <td>NaN</td>\n",
       "      <td>NaN</td>\n",
       "      <td>NaN</td>\n",
       "      <td>...</td>\n",
       "      <td>NaN</td>\n",
       "      <td>NaN</td>\n",
       "      <td>NaN</td>\n",
       "      <td>NaN</td>\n",
       "      <td>NaN</td>\n",
       "      <td>NaN</td>\n",
       "      <td>NaN</td>\n",
       "      <td>NaN</td>\n",
       "      <td>NaN</td>\n",
       "      <td>NaN</td>\n",
       "    </tr>\n",
       "    <tr>\n",
       "      <th>244</th>\n",
       "      <td>Tanzania</td>\n",
       "      <td>TZA</td>\n",
       "      <td>Military expenditure (current LCU)</td>\n",
       "      <td>MS.MIL.XPND.CN</td>\n",
       "      <td>NaN</td>\n",
       "      <td>NaN</td>\n",
       "      <td>NaN</td>\n",
       "      <td>NaN</td>\n",
       "      <td>NaN</td>\n",
       "      <td>NaN</td>\n",
       "      <td>...</td>\n",
       "      <td>3.984360e+11</td>\n",
       "      <td>4.833860e+11</td>\n",
       "      <td>5.694675e+11</td>\n",
       "      <td>7.096030e+11</td>\n",
       "      <td>8.390530e+11</td>\n",
       "      <td>1.029700e+12</td>\n",
       "      <td>1.185150e+12</td>\n",
       "      <td>1.321328e+12</td>\n",
       "      <td>NaN</td>\n",
       "      <td>NaN</td>\n",
       "    </tr>\n",
       "    <tr>\n",
       "      <th>245</th>\n",
       "      <td>Uganda</td>\n",
       "      <td>UGA</td>\n",
       "      <td>Military expenditure (current LCU)</td>\n",
       "      <td>MS.MIL.XPND.CN</td>\n",
       "      <td>NaN</td>\n",
       "      <td>NaN</td>\n",
       "      <td>5.200000e+04</td>\n",
       "      <td>1.950000e+05</td>\n",
       "      <td>3.920000e+05</td>\n",
       "      <td>7.670000e+05</td>\n",
       "      <td>...</td>\n",
       "      <td>1.325450e+12</td>\n",
       "      <td>1.620950e+12</td>\n",
       "      <td>1.075550e+12</td>\n",
       "      <td>1.119350e+12</td>\n",
       "      <td>1.209350e+12</td>\n",
       "      <td>1.569159e+12</td>\n",
       "      <td>1.789078e+12</td>\n",
       "      <td>1.604981e+12</td>\n",
       "      <td>NaN</td>\n",
       "      <td>NaN</td>\n",
       "    </tr>\n",
       "    <tr>\n",
       "      <th>246</th>\n",
       "      <td>Ukraine</td>\n",
       "      <td>UKR</td>\n",
       "      <td>Military expenditure (current LCU)</td>\n",
       "      <td>MS.MIL.XPND.CN</td>\n",
       "      <td>NaN</td>\n",
       "      <td>NaN</td>\n",
       "      <td>NaN</td>\n",
       "      <td>NaN</td>\n",
       "      <td>NaN</td>\n",
       "      <td>NaN</td>\n",
       "      <td>...</td>\n",
       "      <td>2.959600e+10</td>\n",
       "      <td>2.935800e+10</td>\n",
       "      <td>3.305800e+10</td>\n",
       "      <td>3.506100e+10</td>\n",
       "      <td>4.794300e+10</td>\n",
       "      <td>7.901000e+10</td>\n",
       "      <td>8.751000e+10</td>\n",
       "      <td>9.669114e+10</td>\n",
       "      <td>NaN</td>\n",
       "      <td>NaN</td>\n",
       "    </tr>\n",
       "    <tr>\n",
       "      <th>247</th>\n",
       "      <td>Upper middle income</td>\n",
       "      <td>UMC</td>\n",
       "      <td>Military expenditure (current LCU)</td>\n",
       "      <td>MS.MIL.XPND.CN</td>\n",
       "      <td>NaN</td>\n",
       "      <td>NaN</td>\n",
       "      <td>NaN</td>\n",
       "      <td>NaN</td>\n",
       "      <td>NaN</td>\n",
       "      <td>NaN</td>\n",
       "      <td>...</td>\n",
       "      <td>NaN</td>\n",
       "      <td>NaN</td>\n",
       "      <td>NaN</td>\n",
       "      <td>NaN</td>\n",
       "      <td>NaN</td>\n",
       "      <td>NaN</td>\n",
       "      <td>NaN</td>\n",
       "      <td>NaN</td>\n",
       "      <td>NaN</td>\n",
       "      <td>NaN</td>\n",
       "    </tr>\n",
       "    <tr>\n",
       "      <th>248</th>\n",
       "      <td>Uruguay</td>\n",
       "      <td>URY</td>\n",
       "      <td>Military expenditure (current LCU)</td>\n",
       "      <td>MS.MIL.XPND.CN</td>\n",
       "      <td>NaN</td>\n",
       "      <td>NaN</td>\n",
       "      <td>NaN</td>\n",
       "      <td>NaN</td>\n",
       "      <td>NaN</td>\n",
       "      <td>NaN</td>\n",
       "      <td>...</td>\n",
       "      <td>1.515800e+10</td>\n",
       "      <td>1.593100e+10</td>\n",
       "      <td>1.878000e+10</td>\n",
       "      <td>2.140500e+10</td>\n",
       "      <td>2.404800e+10</td>\n",
       "      <td>2.650500e+10</td>\n",
       "      <td>2.977300e+10</td>\n",
       "      <td>3.558400e+10</td>\n",
       "      <td>NaN</td>\n",
       "      <td>NaN</td>\n",
       "    </tr>\n",
       "    <tr>\n",
       "      <th>249</th>\n",
       "      <td>United States</td>\n",
       "      <td>USA</td>\n",
       "      <td>Military expenditure (current LCU)</td>\n",
       "      <td>MS.MIL.XPND.CN</td>\n",
       "      <td>4.538000e+10</td>\n",
       "      <td>4.780800e+10</td>\n",
       "      <td>5.238100e+10</td>\n",
       "      <td>5.229500e+10</td>\n",
       "      <td>5.121300e+10</td>\n",
       "      <td>5.182700e+10</td>\n",
       "      <td>...</td>\n",
       "      <td>6.981800e+11</td>\n",
       "      <td>7.113380e+11</td>\n",
       "      <td>6.847800e+11</td>\n",
       "      <td>6.397040e+11</td>\n",
       "      <td>6.099140e+11</td>\n",
       "      <td>5.961046e+11</td>\n",
       "      <td>6.001064e+11</td>\n",
       "      <td>6.097580e+11</td>\n",
       "      <td>NaN</td>\n",
       "      <td>NaN</td>\n",
       "    </tr>\n",
       "    <tr>\n",
       "      <th>250</th>\n",
       "      <td>Uzbekistan</td>\n",
       "      <td>UZB</td>\n",
       "      <td>Military expenditure (current LCU)</td>\n",
       "      <td>MS.MIL.XPND.CN</td>\n",
       "      <td>NaN</td>\n",
       "      <td>NaN</td>\n",
       "      <td>NaN</td>\n",
       "      <td>NaN</td>\n",
       "      <td>NaN</td>\n",
       "      <td>NaN</td>\n",
       "      <td>...</td>\n",
       "      <td>NaN</td>\n",
       "      <td>NaN</td>\n",
       "      <td>NaN</td>\n",
       "      <td>NaN</td>\n",
       "      <td>NaN</td>\n",
       "      <td>NaN</td>\n",
       "      <td>NaN</td>\n",
       "      <td>NaN</td>\n",
       "      <td>NaN</td>\n",
       "      <td>NaN</td>\n",
       "    </tr>\n",
       "    <tr>\n",
       "      <th>251</th>\n",
       "      <td>St. Vincent and the Grenadines</td>\n",
       "      <td>VCT</td>\n",
       "      <td>Military expenditure (current LCU)</td>\n",
       "      <td>MS.MIL.XPND.CN</td>\n",
       "      <td>NaN</td>\n",
       "      <td>NaN</td>\n",
       "      <td>NaN</td>\n",
       "      <td>NaN</td>\n",
       "      <td>NaN</td>\n",
       "      <td>NaN</td>\n",
       "      <td>...</td>\n",
       "      <td>NaN</td>\n",
       "      <td>NaN</td>\n",
       "      <td>NaN</td>\n",
       "      <td>NaN</td>\n",
       "      <td>NaN</td>\n",
       "      <td>NaN</td>\n",
       "      <td>NaN</td>\n",
       "      <td>NaN</td>\n",
       "      <td>NaN</td>\n",
       "      <td>NaN</td>\n",
       "    </tr>\n",
       "    <tr>\n",
       "      <th>252</th>\n",
       "      <td>Venezuela, RB</td>\n",
       "      <td>VEN</td>\n",
       "      <td>Military expenditure (current LCU)</td>\n",
       "      <td>MS.MIL.XPND.CN</td>\n",
       "      <td>7.850000e+05</td>\n",
       "      <td>3.840000e+05</td>\n",
       "      <td>6.830000e+05</td>\n",
       "      <td>8.220000e+05</td>\n",
       "      <td>8.720000e+05</td>\n",
       "      <td>1.000000e+06</td>\n",
       "      <td>...</td>\n",
       "      <td>1.030550e+10</td>\n",
       "      <td>1.534511e+10</td>\n",
       "      <td>2.193911e+10</td>\n",
       "      <td>3.749553e+10</td>\n",
       "      <td>3.521748e+10</td>\n",
       "      <td>5.672101e+10</td>\n",
       "      <td>1.078443e+11</td>\n",
       "      <td>9.698638e+11</td>\n",
       "      <td>NaN</td>\n",
       "      <td>NaN</td>\n",
       "    </tr>\n",
       "    <tr>\n",
       "      <th>253</th>\n",
       "      <td>British Virgin Islands</td>\n",
       "      <td>VGB</td>\n",
       "      <td>Military expenditure (current LCU)</td>\n",
       "      <td>MS.MIL.XPND.CN</td>\n",
       "      <td>NaN</td>\n",
       "      <td>NaN</td>\n",
       "      <td>NaN</td>\n",
       "      <td>NaN</td>\n",
       "      <td>NaN</td>\n",
       "      <td>NaN</td>\n",
       "      <td>...</td>\n",
       "      <td>NaN</td>\n",
       "      <td>NaN</td>\n",
       "      <td>NaN</td>\n",
       "      <td>NaN</td>\n",
       "      <td>NaN</td>\n",
       "      <td>NaN</td>\n",
       "      <td>NaN</td>\n",
       "      <td>NaN</td>\n",
       "      <td>NaN</td>\n",
       "      <td>NaN</td>\n",
       "    </tr>\n",
       "    <tr>\n",
       "      <th>254</th>\n",
       "      <td>Virgin Islands (U.S.)</td>\n",
       "      <td>VIR</td>\n",
       "      <td>Military expenditure (current LCU)</td>\n",
       "      <td>MS.MIL.XPND.CN</td>\n",
       "      <td>NaN</td>\n",
       "      <td>NaN</td>\n",
       "      <td>NaN</td>\n",
       "      <td>NaN</td>\n",
       "      <td>NaN</td>\n",
       "      <td>NaN</td>\n",
       "      <td>...</td>\n",
       "      <td>NaN</td>\n",
       "      <td>NaN</td>\n",
       "      <td>NaN</td>\n",
       "      <td>NaN</td>\n",
       "      <td>NaN</td>\n",
       "      <td>NaN</td>\n",
       "      <td>NaN</td>\n",
       "      <td>NaN</td>\n",
       "      <td>NaN</td>\n",
       "      <td>NaN</td>\n",
       "    </tr>\n",
       "    <tr>\n",
       "      <th>255</th>\n",
       "      <td>Vietnam</td>\n",
       "      <td>VNM</td>\n",
       "      <td>Military expenditure (current LCU)</td>\n",
       "      <td>MS.MIL.XPND.CN</td>\n",
       "      <td>NaN</td>\n",
       "      <td>NaN</td>\n",
       "      <td>NaN</td>\n",
       "      <td>NaN</td>\n",
       "      <td>NaN</td>\n",
       "      <td>NaN</td>\n",
       "      <td>...</td>\n",
       "      <td>4.973900e+13</td>\n",
       "      <td>5.510000e+13</td>\n",
       "      <td>7.000000e+13</td>\n",
       "      <td>7.802400e+13</td>\n",
       "      <td>9.000000e+13</td>\n",
       "      <td>9.900000e+13</td>\n",
       "      <td>1.100000e+14</td>\n",
       "      <td>1.135340e+14</td>\n",
       "      <td>NaN</td>\n",
       "      <td>NaN</td>\n",
       "    </tr>\n",
       "    <tr>\n",
       "      <th>256</th>\n",
       "      <td>Vanuatu</td>\n",
       "      <td>VUT</td>\n",
       "      <td>Military expenditure (current LCU)</td>\n",
       "      <td>MS.MIL.XPND.CN</td>\n",
       "      <td>NaN</td>\n",
       "      <td>NaN</td>\n",
       "      <td>NaN</td>\n",
       "      <td>NaN</td>\n",
       "      <td>NaN</td>\n",
       "      <td>NaN</td>\n",
       "      <td>...</td>\n",
       "      <td>NaN</td>\n",
       "      <td>NaN</td>\n",
       "      <td>NaN</td>\n",
       "      <td>NaN</td>\n",
       "      <td>NaN</td>\n",
       "      <td>NaN</td>\n",
       "      <td>NaN</td>\n",
       "      <td>NaN</td>\n",
       "      <td>NaN</td>\n",
       "      <td>NaN</td>\n",
       "    </tr>\n",
       "    <tr>\n",
       "      <th>257</th>\n",
       "      <td>World</td>\n",
       "      <td>WLD</td>\n",
       "      <td>Military expenditure (current LCU)</td>\n",
       "      <td>MS.MIL.XPND.CN</td>\n",
       "      <td>NaN</td>\n",
       "      <td>NaN</td>\n",
       "      <td>NaN</td>\n",
       "      <td>NaN</td>\n",
       "      <td>NaN</td>\n",
       "      <td>NaN</td>\n",
       "      <td>...</td>\n",
       "      <td>NaN</td>\n",
       "      <td>NaN</td>\n",
       "      <td>NaN</td>\n",
       "      <td>NaN</td>\n",
       "      <td>NaN</td>\n",
       "      <td>NaN</td>\n",
       "      <td>NaN</td>\n",
       "      <td>NaN</td>\n",
       "      <td>NaN</td>\n",
       "      <td>NaN</td>\n",
       "    </tr>\n",
       "    <tr>\n",
       "      <th>258</th>\n",
       "      <td>Samoa</td>\n",
       "      <td>WSM</td>\n",
       "      <td>Military expenditure (current LCU)</td>\n",
       "      <td>MS.MIL.XPND.CN</td>\n",
       "      <td>NaN</td>\n",
       "      <td>NaN</td>\n",
       "      <td>NaN</td>\n",
       "      <td>NaN</td>\n",
       "      <td>NaN</td>\n",
       "      <td>NaN</td>\n",
       "      <td>...</td>\n",
       "      <td>NaN</td>\n",
       "      <td>NaN</td>\n",
       "      <td>NaN</td>\n",
       "      <td>NaN</td>\n",
       "      <td>NaN</td>\n",
       "      <td>NaN</td>\n",
       "      <td>NaN</td>\n",
       "      <td>NaN</td>\n",
       "      <td>NaN</td>\n",
       "      <td>NaN</td>\n",
       "    </tr>\n",
       "    <tr>\n",
       "      <th>259</th>\n",
       "      <td>Kosovo</td>\n",
       "      <td>XKX</td>\n",
       "      <td>Military expenditure (current LCU)</td>\n",
       "      <td>MS.MIL.XPND.CN</td>\n",
       "      <td>NaN</td>\n",
       "      <td>NaN</td>\n",
       "      <td>NaN</td>\n",
       "      <td>NaN</td>\n",
       "      <td>NaN</td>\n",
       "      <td>NaN</td>\n",
       "      <td>...</td>\n",
       "      <td>2.912822e+07</td>\n",
       "      <td>3.666471e+07</td>\n",
       "      <td>3.377049e+07</td>\n",
       "      <td>3.660178e+07</td>\n",
       "      <td>4.038172e+07</td>\n",
       "      <td>4.507072e+07</td>\n",
       "      <td>4.696200e+07</td>\n",
       "      <td>5.103600e+07</td>\n",
       "      <td>NaN</td>\n",
       "      <td>NaN</td>\n",
       "    </tr>\n",
       "    <tr>\n",
       "      <th>260</th>\n",
       "      <td>Yemen, Rep.</td>\n",
       "      <td>YEM</td>\n",
       "      <td>Military expenditure (current LCU)</td>\n",
       "      <td>MS.MIL.XPND.CN</td>\n",
       "      <td>NaN</td>\n",
       "      <td>NaN</td>\n",
       "      <td>NaN</td>\n",
       "      <td>NaN</td>\n",
       "      <td>NaN</td>\n",
       "      <td>NaN</td>\n",
       "      <td>...</td>\n",
       "      <td>3.180000e+11</td>\n",
       "      <td>3.447000e+11</td>\n",
       "      <td>3.470000e+11</td>\n",
       "      <td>3.543000e+11</td>\n",
       "      <td>3.685000e+11</td>\n",
       "      <td>NaN</td>\n",
       "      <td>NaN</td>\n",
       "      <td>NaN</td>\n",
       "      <td>NaN</td>\n",
       "      <td>NaN</td>\n",
       "    </tr>\n",
       "    <tr>\n",
       "      <th>261</th>\n",
       "      <td>South Africa</td>\n",
       "      <td>ZAF</td>\n",
       "      <td>Military expenditure (current LCU)</td>\n",
       "      <td>MS.MIL.XPND.CN</td>\n",
       "      <td>5.000000e+07</td>\n",
       "      <td>8.125000e+07</td>\n",
       "      <td>1.330000e+08</td>\n",
       "      <td>1.350000e+08</td>\n",
       "      <td>1.940000e+08</td>\n",
       "      <td>2.067500e+08</td>\n",
       "      <td>...</td>\n",
       "      <td>3.066250e+10</td>\n",
       "      <td>3.335875e+10</td>\n",
       "      <td>3.685940e+10</td>\n",
       "      <td>3.976155e+10</td>\n",
       "      <td>4.225475e+10</td>\n",
       "      <td>4.451825e+10</td>\n",
       "      <td>4.669575e+10</td>\n",
       "      <td>4.827335e+10</td>\n",
       "      <td>NaN</td>\n",
       "      <td>NaN</td>\n",
       "    </tr>\n",
       "    <tr>\n",
       "      <th>262</th>\n",
       "      <td>Zambia</td>\n",
       "      <td>ZMB</td>\n",
       "      <td>Military expenditure (current LCU)</td>\n",
       "      <td>MS.MIL.XPND.CN</td>\n",
       "      <td>NaN</td>\n",
       "      <td>NaN</td>\n",
       "      <td>NaN</td>\n",
       "      <td>NaN</td>\n",
       "      <td>NaN</td>\n",
       "      <td>NaN</td>\n",
       "      <td>...</td>\n",
       "      <td>1.344100e+09</td>\n",
       "      <td>1.502500e+09</td>\n",
       "      <td>1.782500e+09</td>\n",
       "      <td>2.057700e+09</td>\n",
       "      <td>2.729418e+09</td>\n",
       "      <td>3.215100e+09</td>\n",
       "      <td>3.088700e+09</td>\n",
       "      <td>3.204640e+09</td>\n",
       "      <td>NaN</td>\n",
       "      <td>NaN</td>\n",
       "    </tr>\n",
       "    <tr>\n",
       "      <th>263</th>\n",
       "      <td>Zimbabwe</td>\n",
       "      <td>ZWE</td>\n",
       "      <td>Military expenditure (current LCU)</td>\n",
       "      <td>MS.MIL.XPND.CN</td>\n",
       "      <td>NaN</td>\n",
       "      <td>NaN</td>\n",
       "      <td>NaN</td>\n",
       "      <td>NaN</td>\n",
       "      <td>NaN</td>\n",
       "      <td>1.560000e+07</td>\n",
       "      <td>...</td>\n",
       "      <td>9.829300e+07</td>\n",
       "      <td>1.984380e+08</td>\n",
       "      <td>3.182720e+08</td>\n",
       "      <td>3.567000e+08</td>\n",
       "      <td>3.681000e+08</td>\n",
       "      <td>3.766770e+08</td>\n",
       "      <td>3.580650e+08</td>\n",
       "      <td>3.405220e+08</td>\n",
       "      <td>NaN</td>\n",
       "      <td>NaN</td>\n",
       "    </tr>\n",
       "  </tbody>\n",
       "</table>\n",
       "<p>264 rows × 64 columns</p>\n",
       "</div>"
      ],
      "text/plain": [
       "                                          Country Name Country Code  \\\n",
       "0                                                Aruba          ABW   \n",
       "1                                          Afghanistan          AFG   \n",
       "2                                               Angola          AGO   \n",
       "3                                              Albania          ALB   \n",
       "4                                              Andorra          AND   \n",
       "5                                           Arab World          ARB   \n",
       "6                                 United Arab Emirates          ARE   \n",
       "7                                            Argentina          ARG   \n",
       "8                                              Armenia          ARM   \n",
       "9                                       American Samoa          ASM   \n",
       "10                                 Antigua and Barbuda          ATG   \n",
       "11                                           Australia          AUS   \n",
       "12                                             Austria          AUT   \n",
       "13                                          Azerbaijan          AZE   \n",
       "14                                             Burundi          BDI   \n",
       "15                                             Belgium          BEL   \n",
       "16                                               Benin          BEN   \n",
       "17                                        Burkina Faso          BFA   \n",
       "18                                          Bangladesh          BGD   \n",
       "19                                            Bulgaria          BGR   \n",
       "20                                             Bahrain          BHR   \n",
       "21                                        Bahamas, The          BHS   \n",
       "22                              Bosnia and Herzegovina          BIH   \n",
       "23                                             Belarus          BLR   \n",
       "24                                              Belize          BLZ   \n",
       "25                                             Bermuda          BMU   \n",
       "26                                             Bolivia          BOL   \n",
       "27                                              Brazil          BRA   \n",
       "28                                            Barbados          BRB   \n",
       "29                                   Brunei Darussalam          BRN   \n",
       "..                                                 ...          ...   \n",
       "234  Latin America & the Caribbean (IDA & IBRD coun...          TLA   \n",
       "235                                        Timor-Leste          TLS   \n",
       "236  Middle East & North Africa (IDA & IBRD countries)          TMN   \n",
       "237                                              Tonga          TON   \n",
       "238                            South Asia (IDA & IBRD)          TSA   \n",
       "239          Sub-Saharan Africa (IDA & IBRD countries)          TSS   \n",
       "240                                Trinidad and Tobago          TTO   \n",
       "241                                            Tunisia          TUN   \n",
       "242                                             Turkey          TUR   \n",
       "243                                             Tuvalu          TUV   \n",
       "244                                           Tanzania          TZA   \n",
       "245                                             Uganda          UGA   \n",
       "246                                            Ukraine          UKR   \n",
       "247                                Upper middle income          UMC   \n",
       "248                                            Uruguay          URY   \n",
       "249                                      United States          USA   \n",
       "250                                         Uzbekistan          UZB   \n",
       "251                     St. Vincent and the Grenadines          VCT   \n",
       "252                                      Venezuela, RB          VEN   \n",
       "253                             British Virgin Islands          VGB   \n",
       "254                              Virgin Islands (U.S.)          VIR   \n",
       "255                                            Vietnam          VNM   \n",
       "256                                            Vanuatu          VUT   \n",
       "257                                              World          WLD   \n",
       "258                                              Samoa          WSM   \n",
       "259                                             Kosovo          XKX   \n",
       "260                                        Yemen, Rep.          YEM   \n",
       "261                                       South Africa          ZAF   \n",
       "262                                             Zambia          ZMB   \n",
       "263                                           Zimbabwe          ZWE   \n",
       "\n",
       "                         Indicator Name  Indicator Code          1960  \\\n",
       "0    Military expenditure (current LCU)  MS.MIL.XPND.CN           NaN   \n",
       "1    Military expenditure (current LCU)  MS.MIL.XPND.CN           NaN   \n",
       "2    Military expenditure (current LCU)  MS.MIL.XPND.CN           NaN   \n",
       "3    Military expenditure (current LCU)  MS.MIL.XPND.CN           NaN   \n",
       "4    Military expenditure (current LCU)  MS.MIL.XPND.CN           NaN   \n",
       "5    Military expenditure (current LCU)  MS.MIL.XPND.CN           NaN   \n",
       "6    Military expenditure (current LCU)  MS.MIL.XPND.CN           NaN   \n",
       "7    Military expenditure (current LCU)  MS.MIL.XPND.CN  1.550000e-03   \n",
       "8    Military expenditure (current LCU)  MS.MIL.XPND.CN           NaN   \n",
       "9    Military expenditure (current LCU)  MS.MIL.XPND.CN           NaN   \n",
       "10   Military expenditure (current LCU)  MS.MIL.XPND.CN           NaN   \n",
       "11   Military expenditure (current LCU)  MS.MIL.XPND.CN  4.105000e+08   \n",
       "12   Military expenditure (current LCU)  MS.MIL.XPND.CN  1.730000e+08   \n",
       "13   Military expenditure (current LCU)  MS.MIL.XPND.CN           NaN   \n",
       "14   Military expenditure (current LCU)  MS.MIL.XPND.CN           NaN   \n",
       "15   Military expenditure (current LCU)  MS.MIL.XPND.CN  4.749900e+08   \n",
       "16   Military expenditure (current LCU)  MS.MIL.XPND.CN  3.190000e+08   \n",
       "17   Military expenditure (current LCU)  MS.MIL.XPND.CN  3.110000e+08   \n",
       "18   Military expenditure (current LCU)  MS.MIL.XPND.CN           NaN   \n",
       "19   Military expenditure (current LCU)  MS.MIL.XPND.CN           NaN   \n",
       "20   Military expenditure (current LCU)  MS.MIL.XPND.CN           NaN   \n",
       "21   Military expenditure (current LCU)  MS.MIL.XPND.CN           NaN   \n",
       "22   Military expenditure (current LCU)  MS.MIL.XPND.CN           NaN   \n",
       "23   Military expenditure (current LCU)  MS.MIL.XPND.CN           NaN   \n",
       "24   Military expenditure (current LCU)  MS.MIL.XPND.CN           NaN   \n",
       "25   Military expenditure (current LCU)  MS.MIL.XPND.CN           NaN   \n",
       "26   Military expenditure (current LCU)  MS.MIL.XPND.CN           NaN   \n",
       "27   Military expenditure (current LCU)  MS.MIL.XPND.CN  3.100000e-05   \n",
       "28   Military expenditure (current LCU)  MS.MIL.XPND.CN           NaN   \n",
       "29   Military expenditure (current LCU)  MS.MIL.XPND.CN           NaN   \n",
       "..                                  ...             ...           ...   \n",
       "234  Military expenditure (current LCU)  MS.MIL.XPND.CN           NaN   \n",
       "235  Military expenditure (current LCU)  MS.MIL.XPND.CN           NaN   \n",
       "236  Military expenditure (current LCU)  MS.MIL.XPND.CN           NaN   \n",
       "237  Military expenditure (current LCU)  MS.MIL.XPND.CN           NaN   \n",
       "238  Military expenditure (current LCU)  MS.MIL.XPND.CN           NaN   \n",
       "239  Military expenditure (current LCU)  MS.MIL.XPND.CN           NaN   \n",
       "240  Military expenditure (current LCU)  MS.MIL.XPND.CN           NaN   \n",
       "241  Military expenditure (current LCU)  MS.MIL.XPND.CN  6.700000e+06   \n",
       "242  Military expenditure (current LCU)  MS.MIL.XPND.CN  2.405000e+03   \n",
       "243  Military expenditure (current LCU)  MS.MIL.XPND.CN           NaN   \n",
       "244  Military expenditure (current LCU)  MS.MIL.XPND.CN           NaN   \n",
       "245  Military expenditure (current LCU)  MS.MIL.XPND.CN           NaN   \n",
       "246  Military expenditure (current LCU)  MS.MIL.XPND.CN           NaN   \n",
       "247  Military expenditure (current LCU)  MS.MIL.XPND.CN           NaN   \n",
       "248  Military expenditure (current LCU)  MS.MIL.XPND.CN           NaN   \n",
       "249  Military expenditure (current LCU)  MS.MIL.XPND.CN  4.538000e+10   \n",
       "250  Military expenditure (current LCU)  MS.MIL.XPND.CN           NaN   \n",
       "251  Military expenditure (current LCU)  MS.MIL.XPND.CN           NaN   \n",
       "252  Military expenditure (current LCU)  MS.MIL.XPND.CN  7.850000e+05   \n",
       "253  Military expenditure (current LCU)  MS.MIL.XPND.CN           NaN   \n",
       "254  Military expenditure (current LCU)  MS.MIL.XPND.CN           NaN   \n",
       "255  Military expenditure (current LCU)  MS.MIL.XPND.CN           NaN   \n",
       "256  Military expenditure (current LCU)  MS.MIL.XPND.CN           NaN   \n",
       "257  Military expenditure (current LCU)  MS.MIL.XPND.CN           NaN   \n",
       "258  Military expenditure (current LCU)  MS.MIL.XPND.CN           NaN   \n",
       "259  Military expenditure (current LCU)  MS.MIL.XPND.CN           NaN   \n",
       "260  Military expenditure (current LCU)  MS.MIL.XPND.CN           NaN   \n",
       "261  Military expenditure (current LCU)  MS.MIL.XPND.CN  5.000000e+07   \n",
       "262  Military expenditure (current LCU)  MS.MIL.XPND.CN           NaN   \n",
       "263  Military expenditure (current LCU)  MS.MIL.XPND.CN           NaN   \n",
       "\n",
       "             1961          1962          1963          1964          1965  \\\n",
       "0             NaN           NaN           NaN           NaN           NaN   \n",
       "1             NaN           NaN           NaN           NaN           NaN   \n",
       "2             NaN           NaN           NaN           NaN           NaN   \n",
       "3             NaN           NaN           NaN           NaN           NaN   \n",
       "4             NaN           NaN           NaN           NaN           NaN   \n",
       "5             NaN           NaN           NaN           NaN           NaN   \n",
       "6             NaN           NaN           NaN           NaN           NaN   \n",
       "7    2.140000e-03  2.660000e-03  3.360000e-03  3.450000e-03  4.280000e-03   \n",
       "8             NaN           NaN           NaN           NaN           NaN   \n",
       "9             NaN           NaN           NaN           NaN           NaN   \n",
       "10            NaN           NaN           NaN           NaN           NaN   \n",
       "11   4.205000e+08  4.370000e+08  4.940000e+08  5.855000e+08  7.030000e+08   \n",
       "12   1.720000e+08  1.890000e+08  2.380000e+08  3.110000e+08  2.700000e+08   \n",
       "13            NaN           NaN           NaN           NaN           NaN   \n",
       "14            NaN  4.210000e+08  5.060000e+07  5.810000e+07  1.817000e+08   \n",
       "15   4.849040e+08  5.233300e+08  5.510700e+08  6.160900e+08  6.206300e+08   \n",
       "16   5.330000e+08  6.700000e+08  7.260000e+08  9.320000e+08  9.790000e+08   \n",
       "17   4.030000e+08  1.201000e+09  1.294000e+09  1.313000e+09  8.600000e+08   \n",
       "18            NaN           NaN           NaN           NaN           NaN   \n",
       "19            NaN           NaN           NaN           NaN           NaN   \n",
       "20            NaN           NaN           NaN           NaN           NaN   \n",
       "21            NaN           NaN           NaN           NaN           NaN   \n",
       "22            NaN           NaN           NaN           NaN           NaN   \n",
       "23            NaN           NaN           NaN           NaN           NaN   \n",
       "24            NaN           NaN           NaN           NaN           NaN   \n",
       "25            NaN           NaN           NaN           NaN           NaN   \n",
       "26   5.863277e+01  6.172395e+01  7.608299e+01           NaN           NaN   \n",
       "27   4.000000e-05  6.500000e-05  1.100000e-04  1.920000e-04  5.200000e-04   \n",
       "28            NaN           NaN           NaN           NaN           NaN   \n",
       "29            NaN           NaN           NaN           NaN           NaN   \n",
       "..            ...           ...           ...           ...           ...   \n",
       "234           NaN           NaN           NaN           NaN           NaN   \n",
       "235           NaN           NaN           NaN           NaN           NaN   \n",
       "236           NaN           NaN           NaN           NaN           NaN   \n",
       "237           NaN           NaN           NaN           NaN           NaN   \n",
       "238           NaN           NaN           NaN           NaN           NaN   \n",
       "239           NaN           NaN           NaN           NaN           NaN   \n",
       "240           NaN           NaN           NaN           NaN           NaN   \n",
       "241  7.800000e+06  6.000000e+06  6.400000e+06  7.800000e+06  6.700000e+06   \n",
       "242  2.718000e+03  2.980000e+03  3.157000e+03  3.443000e+03  3.821000e+03   \n",
       "243           NaN           NaN           NaN           NaN           NaN   \n",
       "244           NaN           NaN           NaN           NaN           NaN   \n",
       "245           NaN  5.200000e+04  1.950000e+05  3.920000e+05  7.670000e+05   \n",
       "246           NaN           NaN           NaN           NaN           NaN   \n",
       "247           NaN           NaN           NaN           NaN           NaN   \n",
       "248           NaN           NaN           NaN           NaN           NaN   \n",
       "249  4.780800e+10  5.238100e+10  5.229500e+10  5.121300e+10  5.182700e+10   \n",
       "250           NaN           NaN           NaN           NaN           NaN   \n",
       "251           NaN           NaN           NaN           NaN           NaN   \n",
       "252  3.840000e+05  6.830000e+05  8.220000e+05  8.720000e+05  1.000000e+06   \n",
       "253           NaN           NaN           NaN           NaN           NaN   \n",
       "254           NaN           NaN           NaN           NaN           NaN   \n",
       "255           NaN           NaN           NaN           NaN           NaN   \n",
       "256           NaN           NaN           NaN           NaN           NaN   \n",
       "257           NaN           NaN           NaN           NaN           NaN   \n",
       "258           NaN           NaN           NaN           NaN           NaN   \n",
       "259           NaN           NaN           NaN           NaN           NaN   \n",
       "260           NaN           NaN           NaN           NaN           NaN   \n",
       "261  8.125000e+07  1.330000e+08  1.350000e+08  1.940000e+08  2.067500e+08   \n",
       "262           NaN           NaN           NaN           NaN           NaN   \n",
       "263           NaN           NaN           NaN           NaN  1.560000e+07   \n",
       "\n",
       "        ...               2010          2011          2012          2013  \\\n",
       "0       ...                NaN           NaN           NaN           NaN   \n",
       "1       ...       1.384967e+10  1.523050e+10  1.214900e+10  1.202767e+10   \n",
       "2       ...       3.217430e+11  3.418750e+11  3.956800e+11  5.878690e+11   \n",
       "3       ...       1.932100e+10  1.987700e+10  1.982000e+10  1.902200e+10   \n",
       "4       ...                NaN           NaN           NaN           NaN   \n",
       "5       ...                NaN           NaN           NaN           NaN   \n",
       "6       ...       6.428600e+10  7.044500e+10  6.986600e+10  8.652800e+10   \n",
       "7       ...       1.354100e+10  1.665400e+10  2.070300e+10  2.805000e+10   \n",
       "8       ...       1.476000e+11  1.456000e+11  1.529000e+11  1.821000e+11   \n",
       "9       ...                NaN           NaN           NaN           NaN   \n",
       "10      ...                NaN           NaN           NaN           NaN   \n",
       "11      ...       2.531100e+10  2.578500e+10  2.532000e+10  2.571500e+10   \n",
       "12      ...       2.430000e+09  2.452800e+09  2.480600e+09  2.432000e+09   \n",
       "13      ...       1.185200e+09  2.432300e+09  2.550300e+09  2.642000e+09   \n",
       "14      ...                NaN           NaN  8.506000e+10  9.464200e+10   \n",
       "15      ...       3.960000e+09  3.956000e+09  4.023000e+09  3.964000e+09   \n",
       "16      ...                NaN           NaN  3.993500e+10  4.248900e+10   \n",
       "17      ...       6.126600e+10  6.551900e+10  7.542000e+10  8.207800e+10   \n",
       "18      ...       1.131540e+11  1.335885e+11  1.492705e+11  1.599545e+11   \n",
       "19      ...       1.320000e+09  1.166000e+09  1.229100e+09  1.325600e+09   \n",
       "20      ...       3.169000e+08  3.886000e+08  4.445000e+08  5.067000e+08   \n",
       "21      ...                NaN           NaN           NaN           NaN   \n",
       "22      ...       3.247580e+08  2.981000e+08  3.004000e+08  2.911000e+08   \n",
       "23      ...       2.286600e+08  3.762200e+08  6.811830e+08  8.623486e+08   \n",
       "24      ...       3.067450e+07  3.083250e+07  3.043825e+07  3.555775e+07   \n",
       "25      ...                NaN           NaN           NaN           NaN   \n",
       "26      ...       2.297350e+09  2.799539e+09  3.454102e+09  3.900072e+09   \n",
       "27      ...       5.981900e+10  6.178800e+10  6.637900e+10  7.088100e+10   \n",
       "28      ...                NaN           NaN           NaN           NaN   \n",
       "29      ...       5.327500e+08  5.225000e+08  5.139000e+08  5.156000e+08   \n",
       "..      ...                ...           ...           ...           ...   \n",
       "234     ...                NaN           NaN           NaN           NaN   \n",
       "235     ...       2.638900e+07  2.053000e+07  3.338800e+07  3.168300e+07   \n",
       "236     ...                NaN           NaN           NaN           NaN   \n",
       "237     ...                NaN           NaN           NaN           NaN   \n",
       "238     ...                NaN           NaN           NaN           NaN   \n",
       "239     ...                NaN           NaN           NaN           NaN   \n",
       "240     ...       9.121000e+08  9.362750e+08  1.085075e+09  1.360529e+09   \n",
       "241     ...       8.176000e+08  1.006900e+09  1.064000e+09  1.233700e+09   \n",
       "242     ...       2.696018e+10  2.898481e+10  3.225300e+10  3.552925e+10   \n",
       "243     ...                NaN           NaN           NaN           NaN   \n",
       "244     ...       3.984360e+11  4.833860e+11  5.694675e+11  7.096030e+11   \n",
       "245     ...       1.325450e+12  1.620950e+12  1.075550e+12  1.119350e+12   \n",
       "246     ...       2.959600e+10  2.935800e+10  3.305800e+10  3.506100e+10   \n",
       "247     ...                NaN           NaN           NaN           NaN   \n",
       "248     ...       1.515800e+10  1.593100e+10  1.878000e+10  2.140500e+10   \n",
       "249     ...       6.981800e+11  7.113380e+11  6.847800e+11  6.397040e+11   \n",
       "250     ...                NaN           NaN           NaN           NaN   \n",
       "251     ...                NaN           NaN           NaN           NaN   \n",
       "252     ...       1.030550e+10  1.534511e+10  2.193911e+10  3.749553e+10   \n",
       "253     ...                NaN           NaN           NaN           NaN   \n",
       "254     ...                NaN           NaN           NaN           NaN   \n",
       "255     ...       4.973900e+13  5.510000e+13  7.000000e+13  7.802400e+13   \n",
       "256     ...                NaN           NaN           NaN           NaN   \n",
       "257     ...                NaN           NaN           NaN           NaN   \n",
       "258     ...                NaN           NaN           NaN           NaN   \n",
       "259     ...       2.912822e+07  3.666471e+07  3.377049e+07  3.660178e+07   \n",
       "260     ...       3.180000e+11  3.447000e+11  3.470000e+11  3.543000e+11   \n",
       "261     ...       3.066250e+10  3.335875e+10  3.685940e+10  3.976155e+10   \n",
       "262     ...       1.344100e+09  1.502500e+09  1.782500e+09  2.057700e+09   \n",
       "263     ...       9.829300e+07  1.984380e+08  3.182720e+08  3.567000e+08   \n",
       "\n",
       "             2014          2015          2016          2017  2018  Unnamed: 63  \n",
       "0             NaN           NaN           NaN           NaN   NaN          NaN  \n",
       "1    1.535600e+10  1.219917e+10  1.261483e+10  1.302083e+10   NaN          NaN  \n",
       "2    6.730000e+11  4.332150e+11  4.622090e+11  5.081750e+11   NaN          NaN  \n",
       "3    1.878800e+10  1.667100e+10  1.625000e+10  1.935200e+10   NaN          NaN  \n",
       "4             NaN           NaN           NaN           NaN   NaN          NaN  \n",
       "5             NaN           NaN           NaN           NaN   NaN          NaN  \n",
       "6    8.356800e+10           NaN           NaN           NaN   NaN          NaN  \n",
       "7    4.020900e+10  5.062100e+10  6.658600e+10  9.403190e+10   NaN          NaN  \n",
       "8    1.904110e+11  2.138110e+11  2.072700e+11  2.142180e+11   NaN          NaN  \n",
       "9             NaN           NaN           NaN           NaN   NaN          NaN  \n",
       "10            NaN           NaN           NaN           NaN   NaN          NaN  \n",
       "11   2.860350e+10  3.200550e+10  3.549500e+10  3.582350e+10   NaN          NaN  \n",
       "12   2.491200e+09  2.403400e+09  2.609600e+09  2.647100e+09   NaN          NaN  \n",
       "13   2.688100e+09  2.971800e+09  2.228800e+09  2.642100e+09   NaN          NaN  \n",
       "14   9.616900e+10  1.040040e+11  1.098500e+11  1.098500e+11   NaN          NaN  \n",
       "15   3.913000e+09  3.789000e+09  3.901000e+09  3.965000e+09   NaN          NaN  \n",
       "16   4.597600e+10  5.376049e+10  4.718700e+10  6.789800e+10   NaN          NaN  \n",
       "17   8.759400e+10  8.749600e+10  8.862500e+10  1.116990e+11   NaN          NaN  \n",
       "18   1.829225e+11  2.194425e+11  2.544750e+11  2.884030e+11   NaN          NaN  \n",
       "19   1.232000e+09  1.166000e+09  1.336000e+09  1.508000e+09   NaN          NaN  \n",
       "20   5.547000e+08  5.422000e+08  5.660810e+08  5.252000e+08   NaN          NaN  \n",
       "21            NaN           NaN           NaN           NaN   NaN          NaN  \n",
       "22   2.806530e+08  2.860660e+08  2.908710e+08  2.856890e+08   NaN          NaN  \n",
       "23   1.033480e+09  1.152500e+09  1.200300e+09  1.222851e+09   NaN          NaN  \n",
       "24   3.983375e+07  3.943525e+07  4.372150e+07  4.558850e+07   NaN          NaN  \n",
       "25            NaN           NaN           NaN           NaN   NaN          NaN  \n",
       "26   4.324866e+09  3.976500e+09  3.818043e+09  4.555274e+09   NaN          NaN  \n",
       "27   7.687420e+10  8.187350e+10  8.450900e+10  9.312140e+10   NaN          NaN  \n",
       "28            NaN           NaN           NaN           NaN   NaN          NaN  \n",
       "29   6.687250e+08  5.829925e+08  5.573725e+08  4.798425e+08   NaN          NaN  \n",
       "..            ...           ...           ...           ...   ...          ...  \n",
       "234           NaN           NaN           NaN           NaN   NaN          NaN  \n",
       "235  2.962400e+07  3.695900e+07  2.621700e+07  2.544200e+07   NaN          NaN  \n",
       "236           NaN           NaN           NaN           NaN   NaN          NaN  \n",
       "237           NaN           NaN           NaN           NaN   NaN          NaN  \n",
       "238           NaN           NaN           NaN           NaN   NaN          NaN  \n",
       "239           NaN           NaN           NaN           NaN   NaN          NaN  \n",
       "240  1.210587e+09  1.288925e+09  1.433550e+09  1.367550e+09   NaN          NaN  \n",
       "241  1.542100e+09  1.921400e+09  2.120120e+09  2.016200e+09   NaN          NaN  \n",
       "242  3.889510e+10  4.319612e+10  5.393238e+10  6.556623e+10   NaN          NaN  \n",
       "243           NaN           NaN           NaN           NaN   NaN          NaN  \n",
       "244  8.390530e+11  1.029700e+12  1.185150e+12  1.321328e+12   NaN          NaN  \n",
       "245  1.209350e+12  1.569159e+12  1.789078e+12  1.604981e+12   NaN          NaN  \n",
       "246  4.794300e+10  7.901000e+10  8.751000e+10  9.669114e+10   NaN          NaN  \n",
       "247           NaN           NaN           NaN           NaN   NaN          NaN  \n",
       "248  2.404800e+10  2.650500e+10  2.977300e+10  3.558400e+10   NaN          NaN  \n",
       "249  6.099140e+11  5.961046e+11  6.001064e+11  6.097580e+11   NaN          NaN  \n",
       "250           NaN           NaN           NaN           NaN   NaN          NaN  \n",
       "251           NaN           NaN           NaN           NaN   NaN          NaN  \n",
       "252  3.521748e+10  5.672101e+10  1.078443e+11  9.698638e+11   NaN          NaN  \n",
       "253           NaN           NaN           NaN           NaN   NaN          NaN  \n",
       "254           NaN           NaN           NaN           NaN   NaN          NaN  \n",
       "255  9.000000e+13  9.900000e+13  1.100000e+14  1.135340e+14   NaN          NaN  \n",
       "256           NaN           NaN           NaN           NaN   NaN          NaN  \n",
       "257           NaN           NaN           NaN           NaN   NaN          NaN  \n",
       "258           NaN           NaN           NaN           NaN   NaN          NaN  \n",
       "259  4.038172e+07  4.507072e+07  4.696200e+07  5.103600e+07   NaN          NaN  \n",
       "260  3.685000e+11           NaN           NaN           NaN   NaN          NaN  \n",
       "261  4.225475e+10  4.451825e+10  4.669575e+10  4.827335e+10   NaN          NaN  \n",
       "262  2.729418e+09  3.215100e+09  3.088700e+09  3.204640e+09   NaN          NaN  \n",
       "263  3.681000e+08  3.766770e+08  3.580650e+08  3.405220e+08   NaN          NaN  \n",
       "\n",
       "[264 rows x 64 columns]"
      ]
     },
     "execution_count": 22,
     "metadata": {},
     "output_type": "execute_result"
    }
   ],
   "source": [
    "import pandas as pd\n",
    "\n",
    "\n",
    "expenditures = pd.read_csv(expenditure_csv, skiprows=4)\n",
    "expenditures"
   ]
  },
  {
   "cell_type": "markdown",
   "metadata": {
    "slideshow": {
     "slide_type": "subslide"
    }
   },
   "source": [
    "## Viewing Data"
   ]
  },
  {
   "cell_type": "code",
   "execution_count": 23,
   "metadata": {
    "slideshow": {
     "slide_type": "subslide"
    }
   },
   "outputs": [
    {
     "data": {
      "text/html": [
       "<div>\n",
       "<style scoped>\n",
       "    .dataframe tbody tr th:only-of-type {\n",
       "        vertical-align: middle;\n",
       "    }\n",
       "\n",
       "    .dataframe tbody tr th {\n",
       "        vertical-align: top;\n",
       "    }\n",
       "\n",
       "    .dataframe thead th {\n",
       "        text-align: right;\n",
       "    }\n",
       "</style>\n",
       "<table border=\"1\" class=\"dataframe\">\n",
       "  <thead>\n",
       "    <tr style=\"text-align: right;\">\n",
       "      <th></th>\n",
       "      <th>Country Name</th>\n",
       "      <th>Country Code</th>\n",
       "      <th>Indicator Name</th>\n",
       "      <th>Indicator Code</th>\n",
       "      <th>1960</th>\n",
       "      <th>1961</th>\n",
       "      <th>1962</th>\n",
       "      <th>1963</th>\n",
       "      <th>1964</th>\n",
       "      <th>1965</th>\n",
       "      <th>...</th>\n",
       "      <th>2010</th>\n",
       "      <th>2011</th>\n",
       "      <th>2012</th>\n",
       "      <th>2013</th>\n",
       "      <th>2014</th>\n",
       "      <th>2015</th>\n",
       "      <th>2016</th>\n",
       "      <th>2017</th>\n",
       "      <th>2018</th>\n",
       "      <th>Unnamed: 63</th>\n",
       "    </tr>\n",
       "  </thead>\n",
       "  <tbody>\n",
       "    <tr>\n",
       "      <th>0</th>\n",
       "      <td>Aruba</td>\n",
       "      <td>ABW</td>\n",
       "      <td>Military expenditure (current LCU)</td>\n",
       "      <td>MS.MIL.XPND.CN</td>\n",
       "      <td>NaN</td>\n",
       "      <td>NaN</td>\n",
       "      <td>NaN</td>\n",
       "      <td>NaN</td>\n",
       "      <td>NaN</td>\n",
       "      <td>NaN</td>\n",
       "      <td>...</td>\n",
       "      <td>NaN</td>\n",
       "      <td>NaN</td>\n",
       "      <td>NaN</td>\n",
       "      <td>NaN</td>\n",
       "      <td>NaN</td>\n",
       "      <td>NaN</td>\n",
       "      <td>NaN</td>\n",
       "      <td>NaN</td>\n",
       "      <td>NaN</td>\n",
       "      <td>NaN</td>\n",
       "    </tr>\n",
       "    <tr>\n",
       "      <th>1</th>\n",
       "      <td>Afghanistan</td>\n",
       "      <td>AFG</td>\n",
       "      <td>Military expenditure (current LCU)</td>\n",
       "      <td>MS.MIL.XPND.CN</td>\n",
       "      <td>NaN</td>\n",
       "      <td>NaN</td>\n",
       "      <td>NaN</td>\n",
       "      <td>NaN</td>\n",
       "      <td>NaN</td>\n",
       "      <td>NaN</td>\n",
       "      <td>...</td>\n",
       "      <td>1.384967e+10</td>\n",
       "      <td>1.523050e+10</td>\n",
       "      <td>1.214900e+10</td>\n",
       "      <td>1.202767e+10</td>\n",
       "      <td>1.535600e+10</td>\n",
       "      <td>1.219917e+10</td>\n",
       "      <td>1.261483e+10</td>\n",
       "      <td>1.302083e+10</td>\n",
       "      <td>NaN</td>\n",
       "      <td>NaN</td>\n",
       "    </tr>\n",
       "    <tr>\n",
       "      <th>2</th>\n",
       "      <td>Angola</td>\n",
       "      <td>AGO</td>\n",
       "      <td>Military expenditure (current LCU)</td>\n",
       "      <td>MS.MIL.XPND.CN</td>\n",
       "      <td>NaN</td>\n",
       "      <td>NaN</td>\n",
       "      <td>NaN</td>\n",
       "      <td>NaN</td>\n",
       "      <td>NaN</td>\n",
       "      <td>NaN</td>\n",
       "      <td>...</td>\n",
       "      <td>3.217430e+11</td>\n",
       "      <td>3.418750e+11</td>\n",
       "      <td>3.956800e+11</td>\n",
       "      <td>5.878690e+11</td>\n",
       "      <td>6.730000e+11</td>\n",
       "      <td>4.332150e+11</td>\n",
       "      <td>4.622090e+11</td>\n",
       "      <td>5.081750e+11</td>\n",
       "      <td>NaN</td>\n",
       "      <td>NaN</td>\n",
       "    </tr>\n",
       "    <tr>\n",
       "      <th>3</th>\n",
       "      <td>Albania</td>\n",
       "      <td>ALB</td>\n",
       "      <td>Military expenditure (current LCU)</td>\n",
       "      <td>MS.MIL.XPND.CN</td>\n",
       "      <td>NaN</td>\n",
       "      <td>NaN</td>\n",
       "      <td>NaN</td>\n",
       "      <td>NaN</td>\n",
       "      <td>NaN</td>\n",
       "      <td>NaN</td>\n",
       "      <td>...</td>\n",
       "      <td>1.932100e+10</td>\n",
       "      <td>1.987700e+10</td>\n",
       "      <td>1.982000e+10</td>\n",
       "      <td>1.902200e+10</td>\n",
       "      <td>1.878800e+10</td>\n",
       "      <td>1.667100e+10</td>\n",
       "      <td>1.625000e+10</td>\n",
       "      <td>1.935200e+10</td>\n",
       "      <td>NaN</td>\n",
       "      <td>NaN</td>\n",
       "    </tr>\n",
       "    <tr>\n",
       "      <th>4</th>\n",
       "      <td>Andorra</td>\n",
       "      <td>AND</td>\n",
       "      <td>Military expenditure (current LCU)</td>\n",
       "      <td>MS.MIL.XPND.CN</td>\n",
       "      <td>NaN</td>\n",
       "      <td>NaN</td>\n",
       "      <td>NaN</td>\n",
       "      <td>NaN</td>\n",
       "      <td>NaN</td>\n",
       "      <td>NaN</td>\n",
       "      <td>...</td>\n",
       "      <td>NaN</td>\n",
       "      <td>NaN</td>\n",
       "      <td>NaN</td>\n",
       "      <td>NaN</td>\n",
       "      <td>NaN</td>\n",
       "      <td>NaN</td>\n",
       "      <td>NaN</td>\n",
       "      <td>NaN</td>\n",
       "      <td>NaN</td>\n",
       "      <td>NaN</td>\n",
       "    </tr>\n",
       "  </tbody>\n",
       "</table>\n",
       "<p>5 rows × 64 columns</p>\n",
       "</div>"
      ],
      "text/plain": [
       "  Country Name Country Code                      Indicator Name  \\\n",
       "0        Aruba          ABW  Military expenditure (current LCU)   \n",
       "1  Afghanistan          AFG  Military expenditure (current LCU)   \n",
       "2       Angola          AGO  Military expenditure (current LCU)   \n",
       "3      Albania          ALB  Military expenditure (current LCU)   \n",
       "4      Andorra          AND  Military expenditure (current LCU)   \n",
       "\n",
       "   Indicator Code  1960  1961  1962  1963  1964  1965     ...       \\\n",
       "0  MS.MIL.XPND.CN   NaN   NaN   NaN   NaN   NaN   NaN     ...        \n",
       "1  MS.MIL.XPND.CN   NaN   NaN   NaN   NaN   NaN   NaN     ...        \n",
       "2  MS.MIL.XPND.CN   NaN   NaN   NaN   NaN   NaN   NaN     ...        \n",
       "3  MS.MIL.XPND.CN   NaN   NaN   NaN   NaN   NaN   NaN     ...        \n",
       "4  MS.MIL.XPND.CN   NaN   NaN   NaN   NaN   NaN   NaN     ...        \n",
       "\n",
       "           2010          2011          2012          2013          2014  \\\n",
       "0           NaN           NaN           NaN           NaN           NaN   \n",
       "1  1.384967e+10  1.523050e+10  1.214900e+10  1.202767e+10  1.535600e+10   \n",
       "2  3.217430e+11  3.418750e+11  3.956800e+11  5.878690e+11  6.730000e+11   \n",
       "3  1.932100e+10  1.987700e+10  1.982000e+10  1.902200e+10  1.878800e+10   \n",
       "4           NaN           NaN           NaN           NaN           NaN   \n",
       "\n",
       "           2015          2016          2017  2018  Unnamed: 63  \n",
       "0           NaN           NaN           NaN   NaN          NaN  \n",
       "1  1.219917e+10  1.261483e+10  1.302083e+10   NaN          NaN  \n",
       "2  4.332150e+11  4.622090e+11  5.081750e+11   NaN          NaN  \n",
       "3  1.667100e+10  1.625000e+10  1.935200e+10   NaN          NaN  \n",
       "4           NaN           NaN           NaN   NaN          NaN  \n",
       "\n",
       "[5 rows x 64 columns]"
      ]
     },
     "execution_count": 23,
     "metadata": {},
     "output_type": "execute_result"
    }
   ],
   "source": [
    "expenditures.head()"
   ]
  },
  {
   "cell_type": "code",
   "execution_count": 24,
   "metadata": {
    "slideshow": {
     "slide_type": "fragment"
    }
   },
   "outputs": [
    {
     "data": {
      "text/html": [
       "<div>\n",
       "<style scoped>\n",
       "    .dataframe tbody tr th:only-of-type {\n",
       "        vertical-align: middle;\n",
       "    }\n",
       "\n",
       "    .dataframe tbody tr th {\n",
       "        vertical-align: top;\n",
       "    }\n",
       "\n",
       "    .dataframe thead th {\n",
       "        text-align: right;\n",
       "    }\n",
       "</style>\n",
       "<table border=\"1\" class=\"dataframe\">\n",
       "  <thead>\n",
       "    <tr style=\"text-align: right;\">\n",
       "      <th></th>\n",
       "      <th>Country Name</th>\n",
       "      <th>Country Code</th>\n",
       "      <th>Indicator Name</th>\n",
       "      <th>Indicator Code</th>\n",
       "      <th>1960</th>\n",
       "      <th>1961</th>\n",
       "      <th>1962</th>\n",
       "      <th>1963</th>\n",
       "      <th>1964</th>\n",
       "      <th>1965</th>\n",
       "      <th>...</th>\n",
       "      <th>2010</th>\n",
       "      <th>2011</th>\n",
       "      <th>2012</th>\n",
       "      <th>2013</th>\n",
       "      <th>2014</th>\n",
       "      <th>2015</th>\n",
       "      <th>2016</th>\n",
       "      <th>2017</th>\n",
       "      <th>2018</th>\n",
       "      <th>Unnamed: 63</th>\n",
       "    </tr>\n",
       "  </thead>\n",
       "  <tbody>\n",
       "    <tr>\n",
       "      <th>259</th>\n",
       "      <td>Kosovo</td>\n",
       "      <td>XKX</td>\n",
       "      <td>Military expenditure (current LCU)</td>\n",
       "      <td>MS.MIL.XPND.CN</td>\n",
       "      <td>NaN</td>\n",
       "      <td>NaN</td>\n",
       "      <td>NaN</td>\n",
       "      <td>NaN</td>\n",
       "      <td>NaN</td>\n",
       "      <td>NaN</td>\n",
       "      <td>...</td>\n",
       "      <td>2.912822e+07</td>\n",
       "      <td>3.666471e+07</td>\n",
       "      <td>3.377049e+07</td>\n",
       "      <td>3.660178e+07</td>\n",
       "      <td>4.038172e+07</td>\n",
       "      <td>4.507072e+07</td>\n",
       "      <td>4.696200e+07</td>\n",
       "      <td>5.103600e+07</td>\n",
       "      <td>NaN</td>\n",
       "      <td>NaN</td>\n",
       "    </tr>\n",
       "    <tr>\n",
       "      <th>260</th>\n",
       "      <td>Yemen, Rep.</td>\n",
       "      <td>YEM</td>\n",
       "      <td>Military expenditure (current LCU)</td>\n",
       "      <td>MS.MIL.XPND.CN</td>\n",
       "      <td>NaN</td>\n",
       "      <td>NaN</td>\n",
       "      <td>NaN</td>\n",
       "      <td>NaN</td>\n",
       "      <td>NaN</td>\n",
       "      <td>NaN</td>\n",
       "      <td>...</td>\n",
       "      <td>3.180000e+11</td>\n",
       "      <td>3.447000e+11</td>\n",
       "      <td>3.470000e+11</td>\n",
       "      <td>3.543000e+11</td>\n",
       "      <td>3.685000e+11</td>\n",
       "      <td>NaN</td>\n",
       "      <td>NaN</td>\n",
       "      <td>NaN</td>\n",
       "      <td>NaN</td>\n",
       "      <td>NaN</td>\n",
       "    </tr>\n",
       "    <tr>\n",
       "      <th>261</th>\n",
       "      <td>South Africa</td>\n",
       "      <td>ZAF</td>\n",
       "      <td>Military expenditure (current LCU)</td>\n",
       "      <td>MS.MIL.XPND.CN</td>\n",
       "      <td>50000000.0</td>\n",
       "      <td>81250000.0</td>\n",
       "      <td>133000000.0</td>\n",
       "      <td>135000000.0</td>\n",
       "      <td>194000000.0</td>\n",
       "      <td>206750000.0</td>\n",
       "      <td>...</td>\n",
       "      <td>3.066250e+10</td>\n",
       "      <td>3.335875e+10</td>\n",
       "      <td>3.685940e+10</td>\n",
       "      <td>3.976155e+10</td>\n",
       "      <td>4.225475e+10</td>\n",
       "      <td>4.451825e+10</td>\n",
       "      <td>4.669575e+10</td>\n",
       "      <td>4.827335e+10</td>\n",
       "      <td>NaN</td>\n",
       "      <td>NaN</td>\n",
       "    </tr>\n",
       "    <tr>\n",
       "      <th>262</th>\n",
       "      <td>Zambia</td>\n",
       "      <td>ZMB</td>\n",
       "      <td>Military expenditure (current LCU)</td>\n",
       "      <td>MS.MIL.XPND.CN</td>\n",
       "      <td>NaN</td>\n",
       "      <td>NaN</td>\n",
       "      <td>NaN</td>\n",
       "      <td>NaN</td>\n",
       "      <td>NaN</td>\n",
       "      <td>NaN</td>\n",
       "      <td>...</td>\n",
       "      <td>1.344100e+09</td>\n",
       "      <td>1.502500e+09</td>\n",
       "      <td>1.782500e+09</td>\n",
       "      <td>2.057700e+09</td>\n",
       "      <td>2.729418e+09</td>\n",
       "      <td>3.215100e+09</td>\n",
       "      <td>3.088700e+09</td>\n",
       "      <td>3.204640e+09</td>\n",
       "      <td>NaN</td>\n",
       "      <td>NaN</td>\n",
       "    </tr>\n",
       "    <tr>\n",
       "      <th>263</th>\n",
       "      <td>Zimbabwe</td>\n",
       "      <td>ZWE</td>\n",
       "      <td>Military expenditure (current LCU)</td>\n",
       "      <td>MS.MIL.XPND.CN</td>\n",
       "      <td>NaN</td>\n",
       "      <td>NaN</td>\n",
       "      <td>NaN</td>\n",
       "      <td>NaN</td>\n",
       "      <td>NaN</td>\n",
       "      <td>15600000.0</td>\n",
       "      <td>...</td>\n",
       "      <td>9.829300e+07</td>\n",
       "      <td>1.984380e+08</td>\n",
       "      <td>3.182720e+08</td>\n",
       "      <td>3.567000e+08</td>\n",
       "      <td>3.681000e+08</td>\n",
       "      <td>3.766770e+08</td>\n",
       "      <td>3.580650e+08</td>\n",
       "      <td>3.405220e+08</td>\n",
       "      <td>NaN</td>\n",
       "      <td>NaN</td>\n",
       "    </tr>\n",
       "  </tbody>\n",
       "</table>\n",
       "<p>5 rows × 64 columns</p>\n",
       "</div>"
      ],
      "text/plain": [
       "     Country Name Country Code                      Indicator Name  \\\n",
       "259        Kosovo          XKX  Military expenditure (current LCU)   \n",
       "260   Yemen, Rep.          YEM  Military expenditure (current LCU)   \n",
       "261  South Africa          ZAF  Military expenditure (current LCU)   \n",
       "262        Zambia          ZMB  Military expenditure (current LCU)   \n",
       "263      Zimbabwe          ZWE  Military expenditure (current LCU)   \n",
       "\n",
       "     Indicator Code        1960        1961         1962         1963  \\\n",
       "259  MS.MIL.XPND.CN         NaN         NaN          NaN          NaN   \n",
       "260  MS.MIL.XPND.CN         NaN         NaN          NaN          NaN   \n",
       "261  MS.MIL.XPND.CN  50000000.0  81250000.0  133000000.0  135000000.0   \n",
       "262  MS.MIL.XPND.CN         NaN         NaN          NaN          NaN   \n",
       "263  MS.MIL.XPND.CN         NaN         NaN          NaN          NaN   \n",
       "\n",
       "            1964         1965     ...               2010          2011  \\\n",
       "259          NaN          NaN     ...       2.912822e+07  3.666471e+07   \n",
       "260          NaN          NaN     ...       3.180000e+11  3.447000e+11   \n",
       "261  194000000.0  206750000.0     ...       3.066250e+10  3.335875e+10   \n",
       "262          NaN          NaN     ...       1.344100e+09  1.502500e+09   \n",
       "263          NaN   15600000.0     ...       9.829300e+07  1.984380e+08   \n",
       "\n",
       "             2012          2013          2014          2015          2016  \\\n",
       "259  3.377049e+07  3.660178e+07  4.038172e+07  4.507072e+07  4.696200e+07   \n",
       "260  3.470000e+11  3.543000e+11  3.685000e+11           NaN           NaN   \n",
       "261  3.685940e+10  3.976155e+10  4.225475e+10  4.451825e+10  4.669575e+10   \n",
       "262  1.782500e+09  2.057700e+09  2.729418e+09  3.215100e+09  3.088700e+09   \n",
       "263  3.182720e+08  3.567000e+08  3.681000e+08  3.766770e+08  3.580650e+08   \n",
       "\n",
       "             2017  2018  Unnamed: 63  \n",
       "259  5.103600e+07   NaN          NaN  \n",
       "260           NaN   NaN          NaN  \n",
       "261  4.827335e+10   NaN          NaN  \n",
       "262  3.204640e+09   NaN          NaN  \n",
       "263  3.405220e+08   NaN          NaN  \n",
       "\n",
       "[5 rows x 64 columns]"
      ]
     },
     "execution_count": 24,
     "metadata": {},
     "output_type": "execute_result"
    }
   ],
   "source": [
    "expenditures.tail()"
   ]
  },
  {
   "cell_type": "code",
   "execution_count": 25,
   "metadata": {
    "slideshow": {
     "slide_type": "subslide"
    }
   },
   "outputs": [
    {
     "data": {
      "text/plain": [
       "RangeIndex(start=0, stop=264, step=1)"
      ]
     },
     "execution_count": 25,
     "metadata": {},
     "output_type": "execute_result"
    }
   ],
   "source": [
    "expenditures.index"
   ]
  },
  {
   "cell_type": "code",
   "execution_count": 26,
   "metadata": {
    "slideshow": {
     "slide_type": "fragment"
    }
   },
   "outputs": [
    {
     "data": {
      "text/plain": [
       "Index(['Country Name', 'Country Code', 'Indicator Name', 'Indicator Code',\n",
       "       '1960', '1961', '1962', '1963', '1964', '1965', '1966', '1967', '1968',\n",
       "       '1969', '1970', '1971', '1972', '1973', '1974', '1975', '1976', '1977',\n",
       "       '1978', '1979', '1980', '1981', '1982', '1983', '1984', '1985', '1986',\n",
       "       '1987', '1988', '1989', '1990', '1991', '1992', '1993', '1994', '1995',\n",
       "       '1996', '1997', '1998', '1999', '2000', '2001', '2002', '2003', '2004',\n",
       "       '2005', '2006', '2007', '2008', '2009', '2010', '2011', '2012', '2013',\n",
       "       '2014', '2015', '2016', '2017', '2018', 'Unnamed: 63'],\n",
       "      dtype='object')"
      ]
     },
     "execution_count": 26,
     "metadata": {},
     "output_type": "execute_result"
    }
   ],
   "source": [
    "expenditures.columns"
   ]
  },
  {
   "cell_type": "code",
   "execution_count": 27,
   "metadata": {
    "slideshow": {
     "slide_type": "fragment"
    }
   },
   "outputs": [
    {
     "data": {
      "text/plain": [
       "array([['Aruba', 'ABW', 'Military expenditure (current LCU)', ..., nan,\n",
       "        nan, nan],\n",
       "       ['Afghanistan', 'AFG', 'Military expenditure (current LCU)', ...,\n",
       "        13020833333.3333, nan, nan],\n",
       "       ['Angola', 'AGO', 'Military expenditure (current LCU)', ...,\n",
       "        508175000000.0, nan, nan],\n",
       "       ...,\n",
       "       ['South Africa', 'ZAF', 'Military expenditure (current LCU)', ...,\n",
       "        48273350000.0, nan, nan],\n",
       "       ['Zambia', 'ZMB', 'Military expenditure (current LCU)', ...,\n",
       "        3204640000.0, nan, nan],\n",
       "       ['Zimbabwe', 'ZWE', 'Military expenditure (current LCU)', ...,\n",
       "        340522000.0, nan, nan]], dtype=object)"
      ]
     },
     "execution_count": 27,
     "metadata": {},
     "output_type": "execute_result"
    }
   ],
   "source": [
    "expenditures.values"
   ]
  },
  {
   "cell_type": "markdown",
   "metadata": {
    "slideshow": {
     "slide_type": "subslide"
    }
   },
   "source": [
    "## Selection of Data in a `DataFrame`\n",
    "\n",
    "### Selection by Column Name\n"
   ]
  },
  {
   "cell_type": "code",
   "execution_count": 28,
   "metadata": {
    "slideshow": {
     "slide_type": "fragment"
    }
   },
   "outputs": [
    {
     "data": {
      "text/plain": [
       "0                                                  Aruba\n",
       "1                                            Afghanistan\n",
       "2                                                 Angola\n",
       "3                                                Albania\n",
       "4                                                Andorra\n",
       "5                                             Arab World\n",
       "6                                   United Arab Emirates\n",
       "7                                              Argentina\n",
       "8                                                Armenia\n",
       "9                                         American Samoa\n",
       "10                                   Antigua and Barbuda\n",
       "11                                             Australia\n",
       "12                                               Austria\n",
       "13                                            Azerbaijan\n",
       "14                                               Burundi\n",
       "15                                               Belgium\n",
       "16                                                 Benin\n",
       "17                                          Burkina Faso\n",
       "18                                            Bangladesh\n",
       "19                                              Bulgaria\n",
       "20                                               Bahrain\n",
       "21                                          Bahamas, The\n",
       "22                                Bosnia and Herzegovina\n",
       "23                                               Belarus\n",
       "24                                                Belize\n",
       "25                                               Bermuda\n",
       "26                                               Bolivia\n",
       "27                                                Brazil\n",
       "28                                              Barbados\n",
       "29                                     Brunei Darussalam\n",
       "                             ...                        \n",
       "234    Latin America & the Caribbean (IDA & IBRD coun...\n",
       "235                                          Timor-Leste\n",
       "236    Middle East & North Africa (IDA & IBRD countries)\n",
       "237                                                Tonga\n",
       "238                              South Asia (IDA & IBRD)\n",
       "239            Sub-Saharan Africa (IDA & IBRD countries)\n",
       "240                                  Trinidad and Tobago\n",
       "241                                              Tunisia\n",
       "242                                               Turkey\n",
       "243                                               Tuvalu\n",
       "244                                             Tanzania\n",
       "245                                               Uganda\n",
       "246                                              Ukraine\n",
       "247                                  Upper middle income\n",
       "248                                              Uruguay\n",
       "249                                        United States\n",
       "250                                           Uzbekistan\n",
       "251                       St. Vincent and the Grenadines\n",
       "252                                        Venezuela, RB\n",
       "253                               British Virgin Islands\n",
       "254                                Virgin Islands (U.S.)\n",
       "255                                              Vietnam\n",
       "256                                              Vanuatu\n",
       "257                                                World\n",
       "258                                                Samoa\n",
       "259                                               Kosovo\n",
       "260                                          Yemen, Rep.\n",
       "261                                         South Africa\n",
       "262                                               Zambia\n",
       "263                                             Zimbabwe\n",
       "Name: Country Name, Length: 264, dtype: object"
      ]
     },
     "execution_count": 28,
     "metadata": {},
     "output_type": "execute_result"
    }
   ],
   "source": [
    "expenditures['Country Name']"
   ]
  },
  {
   "cell_type": "markdown",
   "metadata": {
    "slideshow": {
     "slide_type": "subslide"
    }
   },
   "source": [
    "### Selection by Indexes\n",
    "\n",
    "In the following we index the third row directly."
   ]
  },
  {
   "cell_type": "code",
   "execution_count": 29,
   "metadata": {
    "slideshow": {
     "slide_type": "fragment"
    }
   },
   "outputs": [
    {
     "name": "stdout",
     "output_type": "stream",
     "text": [
      "Country Name                                 Albania\n",
      "Country Code                                     ALB\n",
      "Indicator Name    Military expenditure (current LCU)\n",
      "Indicator Code                        MS.MIL.XPND.CN\n",
      "1960                                             NaN\n",
      "1961                                             NaN\n",
      "1962                                             NaN\n",
      "1963                                             NaN\n",
      "1964                                             NaN\n",
      "1965                                             NaN\n",
      "1966                                             NaN\n",
      "1967                                             NaN\n",
      "1968                                             NaN\n",
      "1969                                             NaN\n",
      "1970                                             NaN\n",
      "1971                                             NaN\n",
      "1972                                             NaN\n",
      "1973                                             NaN\n",
      "1974                                             NaN\n",
      "1975                                        6.53e+08\n",
      "1976                                        7.83e+08\n",
      "1977                                        8.05e+08\n",
      "1978                                        8.25e+08\n",
      "1979                                        8.85e+08\n",
      "1980                                         9.4e+08\n",
      "1981                                         9.4e+08\n",
      "1982                                        9.35e+08\n",
      "1983                                         9.1e+08\n",
      "1984                                        1.01e+09\n",
      "1985                                        9.53e+08\n",
      "                                 ...                \n",
      "1990                                         9.9e+08\n",
      "1991                                         9.5e+08\n",
      "1992                                       2.368e+09\n",
      "1993                                        4.01e+09\n",
      "1994                                       4.698e+09\n",
      "1995                                       4.719e+09\n",
      "1996                                       4.777e+09\n",
      "1997                                       4.442e+09\n",
      "1998                                       5.067e+09\n",
      "1999                                       5.891e+09\n",
      "2000                                       6.519e+09\n",
      "2001                                       7.638e+09\n",
      "2002                                        8.22e+09\n",
      "2003                                       9.279e+09\n",
      "2004                                     1.03728e+10\n",
      "2005                                     1.09998e+10\n",
      "2006                                      1.3831e+10\n",
      "2007                                      1.7619e+10\n",
      "2008                                       2.145e+10\n",
      "2009                                      1.7356e+10\n",
      "2010                                      1.9321e+10\n",
      "2011                                      1.9877e+10\n",
      "2012                                       1.982e+10\n",
      "2013                                      1.9022e+10\n",
      "2014                                      1.8788e+10\n",
      "2015                                      1.6671e+10\n",
      "2016                                       1.625e+10\n",
      "2017                                      1.9352e+10\n",
      "2018                                             NaN\n",
      "Unnamed: 63                                      NaN\n",
      "Name: 3, Length: 64, dtype: object\n"
     ]
    }
   ],
   "source": [
    "albania = expenditures.iloc[3]\n",
    "print(albania)"
   ]
  },
  {
   "cell_type": "code",
   "execution_count": 30,
   "metadata": {
    "slideshow": {
     "slide_type": "fragment"
    }
   },
   "outputs": [
    {
     "data": {
      "text/plain": [
       "Country Name                                 Albania\n",
       "Country Code                                     ALB\n",
       "Indicator Name    Military expenditure (current LCU)\n",
       "Indicator Code                        MS.MIL.XPND.CN\n",
       "1960                                             NaN\n",
       "1961                                             NaN\n",
       "1962                                             NaN\n",
       "1963                                             NaN\n",
       "1964                                             NaN\n",
       "1965                                             NaN\n",
       "1966                                             NaN\n",
       "1967                                             NaN\n",
       "1968                                             NaN\n",
       "1969                                             NaN\n",
       "1970                                             NaN\n",
       "1971                                             NaN\n",
       "1972                                             NaN\n",
       "1973                                             NaN\n",
       "1974                                             NaN\n",
       "1975                                        6.53e+08\n",
       "1976                                        7.83e+08\n",
       "1977                                        8.05e+08\n",
       "1978                                        8.25e+08\n",
       "1979                                        8.85e+08\n",
       "1980                                         9.4e+08\n",
       "1981                                         9.4e+08\n",
       "1982                                        9.35e+08\n",
       "1983                                         9.1e+08\n",
       "1984                                        1.01e+09\n",
       "1985                                        9.53e+08\n",
       "                                 ...                \n",
       "1990                                         9.9e+08\n",
       "1991                                         9.5e+08\n",
       "1992                                       2.368e+09\n",
       "1993                                        4.01e+09\n",
       "1994                                       4.698e+09\n",
       "1995                                       4.719e+09\n",
       "1996                                       4.777e+09\n",
       "1997                                       4.442e+09\n",
       "1998                                       5.067e+09\n",
       "1999                                       5.891e+09\n",
       "2000                                       6.519e+09\n",
       "2001                                       7.638e+09\n",
       "2002                                        8.22e+09\n",
       "2003                                       9.279e+09\n",
       "2004                                     1.03728e+10\n",
       "2005                                     1.09998e+10\n",
       "2006                                      1.3831e+10\n",
       "2007                                      1.7619e+10\n",
       "2008                                       2.145e+10\n",
       "2009                                      1.7356e+10\n",
       "2010                                      1.9321e+10\n",
       "2011                                      1.9877e+10\n",
       "2012                                       1.982e+10\n",
       "2013                                      1.9022e+10\n",
       "2014                                      1.8788e+10\n",
       "2015                                      1.6671e+10\n",
       "2016                                       1.625e+10\n",
       "2017                                      1.9352e+10\n",
       "2018                                             NaN\n",
       "Unnamed: 63                                      NaN\n",
       "Name: 3, Length: 64, dtype: object"
      ]
     },
     "execution_count": 30,
     "metadata": {},
     "output_type": "execute_result"
    }
   ],
   "source": [
    "expenditures.loc[3]"
   ]
  },
  {
   "cell_type": "code",
   "execution_count": 31,
   "metadata": {
    "slideshow": {
     "slide_type": "subslide"
    }
   },
   "outputs": [
    {
     "data": {
      "text/html": [
       "<div>\n",
       "<style scoped>\n",
       "    .dataframe tbody tr th:only-of-type {\n",
       "        vertical-align: middle;\n",
       "    }\n",
       "\n",
       "    .dataframe tbody tr th {\n",
       "        vertical-align: top;\n",
       "    }\n",
       "\n",
       "    .dataframe thead th {\n",
       "        text-align: right;\n",
       "    }\n",
       "</style>\n",
       "<table border=\"1\" class=\"dataframe\">\n",
       "  <thead>\n",
       "    <tr style=\"text-align: right;\">\n",
       "      <th></th>\n",
       "      <th>Country Name</th>\n",
       "      <th>Country Code</th>\n",
       "      <th>Indicator Name</th>\n",
       "      <th>Indicator Code</th>\n",
       "      <th>1960</th>\n",
       "      <th>1961</th>\n",
       "      <th>1962</th>\n",
       "      <th>1963</th>\n",
       "      <th>1964</th>\n",
       "      <th>1965</th>\n",
       "      <th>...</th>\n",
       "      <th>2010</th>\n",
       "      <th>2011</th>\n",
       "      <th>2012</th>\n",
       "      <th>2013</th>\n",
       "      <th>2014</th>\n",
       "      <th>2015</th>\n",
       "      <th>2016</th>\n",
       "      <th>2017</th>\n",
       "      <th>2018</th>\n",
       "      <th>Unnamed: 63</th>\n",
       "    </tr>\n",
       "  </thead>\n",
       "  <tbody>\n",
       "    <tr>\n",
       "      <th>3</th>\n",
       "      <td>Albania</td>\n",
       "      <td>ALB</td>\n",
       "      <td>Military expenditure (current LCU)</td>\n",
       "      <td>MS.MIL.XPND.CN</td>\n",
       "      <td>NaN</td>\n",
       "      <td>NaN</td>\n",
       "      <td>NaN</td>\n",
       "      <td>NaN</td>\n",
       "      <td>NaN</td>\n",
       "      <td>NaN</td>\n",
       "      <td>...</td>\n",
       "      <td>1.932100e+10</td>\n",
       "      <td>1.987700e+10</td>\n",
       "      <td>1.982000e+10</td>\n",
       "      <td>1.902200e+10</td>\n",
       "      <td>1.878800e+10</td>\n",
       "      <td>1.667100e+10</td>\n",
       "      <td>1.625000e+10</td>\n",
       "      <td>1.935200e+10</td>\n",
       "      <td>NaN</td>\n",
       "      <td>NaN</td>\n",
       "    </tr>\n",
       "    <tr>\n",
       "      <th>4</th>\n",
       "      <td>Andorra</td>\n",
       "      <td>AND</td>\n",
       "      <td>Military expenditure (current LCU)</td>\n",
       "      <td>MS.MIL.XPND.CN</td>\n",
       "      <td>NaN</td>\n",
       "      <td>NaN</td>\n",
       "      <td>NaN</td>\n",
       "      <td>NaN</td>\n",
       "      <td>NaN</td>\n",
       "      <td>NaN</td>\n",
       "      <td>...</td>\n",
       "      <td>NaN</td>\n",
       "      <td>NaN</td>\n",
       "      <td>NaN</td>\n",
       "      <td>NaN</td>\n",
       "      <td>NaN</td>\n",
       "      <td>NaN</td>\n",
       "      <td>NaN</td>\n",
       "      <td>NaN</td>\n",
       "      <td>NaN</td>\n",
       "      <td>NaN</td>\n",
       "    </tr>\n",
       "  </tbody>\n",
       "</table>\n",
       "<p>2 rows × 64 columns</p>\n",
       "</div>"
      ],
      "text/plain": [
       "  Country Name Country Code                      Indicator Name  \\\n",
       "3      Albania          ALB  Military expenditure (current LCU)   \n",
       "4      Andorra          AND  Military expenditure (current LCU)   \n",
       "\n",
       "   Indicator Code  1960  1961  1962  1963  1964  1965     ...       \\\n",
       "3  MS.MIL.XPND.CN   NaN   NaN   NaN   NaN   NaN   NaN     ...        \n",
       "4  MS.MIL.XPND.CN   NaN   NaN   NaN   NaN   NaN   NaN     ...        \n",
       "\n",
       "           2010          2011          2012          2013          2014  \\\n",
       "3  1.932100e+10  1.987700e+10  1.982000e+10  1.902200e+10  1.878800e+10   \n",
       "4           NaN           NaN           NaN           NaN           NaN   \n",
       "\n",
       "           2015          2016          2017  2018  Unnamed: 63  \n",
       "3  1.667100e+10  1.625000e+10  1.935200e+10   NaN          NaN  \n",
       "4           NaN           NaN           NaN   NaN          NaN  \n",
       "\n",
       "[2 rows x 64 columns]"
      ]
     },
     "execution_count": 31,
     "metadata": {},
     "output_type": "execute_result"
    }
   ],
   "source": [
    "expenditures.iloc[3:5]"
   ]
  },
  {
   "cell_type": "code",
   "execution_count": null,
   "metadata": {
    "scrolled": true,
    "slideshow": {
     "slide_type": "subslide"
    }
   },
   "outputs": [],
   "source": [
    "expenditures.iloc[3:5, 4:-1]"
   ]
  },
  {
   "cell_type": "markdown",
   "metadata": {
    "slideshow": {
     "slide_type": "subslide"
    }
   },
   "source": [
    "## Boolean Indexing\n",
    "\n",
    "Similar to NumPy, you can use boolean arrays for indexing. That is, you can use boolean expressions directly for indexing.\n",
    "\n",
    "In the following we assign `expenditures` to `df`as the latter is shorter."
   ]
  },
  {
   "cell_type": "code",
   "execution_count": 32,
   "metadata": {
    "slideshow": {
     "slide_type": "fragment"
    }
   },
   "outputs": [
    {
     "data": {
      "text/html": [
       "<div>\n",
       "<style scoped>\n",
       "    .dataframe tbody tr th:only-of-type {\n",
       "        vertical-align: middle;\n",
       "    }\n",
       "\n",
       "    .dataframe tbody tr th {\n",
       "        vertical-align: top;\n",
       "    }\n",
       "\n",
       "    .dataframe thead th {\n",
       "        text-align: right;\n",
       "    }\n",
       "</style>\n",
       "<table border=\"1\" class=\"dataframe\">\n",
       "  <thead>\n",
       "    <tr style=\"text-align: right;\">\n",
       "      <th></th>\n",
       "      <th>Country Name</th>\n",
       "      <th>Country Code</th>\n",
       "      <th>Indicator Name</th>\n",
       "      <th>Indicator Code</th>\n",
       "      <th>1960</th>\n",
       "      <th>1961</th>\n",
       "      <th>1962</th>\n",
       "      <th>1963</th>\n",
       "      <th>1964</th>\n",
       "      <th>1965</th>\n",
       "      <th>...</th>\n",
       "      <th>2010</th>\n",
       "      <th>2011</th>\n",
       "      <th>2012</th>\n",
       "      <th>2013</th>\n",
       "      <th>2014</th>\n",
       "      <th>2015</th>\n",
       "      <th>2016</th>\n",
       "      <th>2017</th>\n",
       "      <th>2018</th>\n",
       "      <th>Unnamed: 63</th>\n",
       "    </tr>\n",
       "  </thead>\n",
       "  <tbody>\n",
       "    <tr>\n",
       "      <th>56</th>\n",
       "      <td>Denmark</td>\n",
       "      <td>DNK</td>\n",
       "      <td>Military expenditure (current LCU)</td>\n",
       "      <td>MS.MIL.XPND.CN</td>\n",
       "      <td>1.113000e+09</td>\n",
       "      <td>1.180000e+09</td>\n",
       "      <td>1.551000e+09</td>\n",
       "      <td>1.651000e+09</td>\n",
       "      <td>1.764000e+09</td>\n",
       "      <td>1.974000e+09</td>\n",
       "      <td>...</td>\n",
       "      <td>2.532800e+10</td>\n",
       "      <td>2.425900e+10</td>\n",
       "      <td>2.561700e+10</td>\n",
       "      <td>2.368200e+10</td>\n",
       "      <td>2.276900e+10</td>\n",
       "      <td>2.263300e+10</td>\n",
       "      <td>2.419000e+10</td>\n",
       "      <td>2.516500e+10</td>\n",
       "      <td>NaN</td>\n",
       "      <td>NaN</td>\n",
       "    </tr>\n",
       "  </tbody>\n",
       "</table>\n",
       "<p>1 rows × 64 columns</p>\n",
       "</div>"
      ],
      "text/plain": [
       "   Country Name Country Code                      Indicator Name  \\\n",
       "56      Denmark          DNK  Military expenditure (current LCU)   \n",
       "\n",
       "    Indicator Code          1960          1961          1962          1963  \\\n",
       "56  MS.MIL.XPND.CN  1.113000e+09  1.180000e+09  1.551000e+09  1.651000e+09   \n",
       "\n",
       "            1964          1965     ...               2010          2011  \\\n",
       "56  1.764000e+09  1.974000e+09     ...       2.532800e+10  2.425900e+10   \n",
       "\n",
       "            2012          2013          2014          2015          2016  \\\n",
       "56  2.561700e+10  2.368200e+10  2.276900e+10  2.263300e+10  2.419000e+10   \n",
       "\n",
       "            2017  2018  Unnamed: 63  \n",
       "56  2.516500e+10   NaN          NaN  \n",
       "\n",
       "[1 rows x 64 columns]"
      ]
     },
     "execution_count": 32,
     "metadata": {},
     "output_type": "execute_result"
    }
   ],
   "source": [
    "df = expenditures\n",
    "\n",
    "df[df['Country Name'] == 'Denmark']"
   ]
  },
  {
   "cell_type": "markdown",
   "metadata": {
    "slideshow": {
     "slide_type": "subslide"
    }
   },
   "source": [
    "Using the `isin()` method for filtering:"
   ]
  },
  {
   "cell_type": "code",
   "execution_count": 33,
   "metadata": {
    "slideshow": {
     "slide_type": "fragment"
    }
   },
   "outputs": [
    {
     "data": {
      "text/html": [
       "<div>\n",
       "<style scoped>\n",
       "    .dataframe tbody tr th:only-of-type {\n",
       "        vertical-align: middle;\n",
       "    }\n",
       "\n",
       "    .dataframe tbody tr th {\n",
       "        vertical-align: top;\n",
       "    }\n",
       "\n",
       "    .dataframe thead th {\n",
       "        text-align: right;\n",
       "    }\n",
       "</style>\n",
       "<table border=\"1\" class=\"dataframe\">\n",
       "  <thead>\n",
       "    <tr style=\"text-align: right;\">\n",
       "      <th></th>\n",
       "      <th>Country Name</th>\n",
       "      <th>Country Code</th>\n",
       "      <th>Indicator Name</th>\n",
       "      <th>Indicator Code</th>\n",
       "      <th>1960</th>\n",
       "      <th>1961</th>\n",
       "      <th>1962</th>\n",
       "      <th>1963</th>\n",
       "      <th>1964</th>\n",
       "      <th>1965</th>\n",
       "      <th>...</th>\n",
       "      <th>2010</th>\n",
       "      <th>2011</th>\n",
       "      <th>2012</th>\n",
       "      <th>2013</th>\n",
       "      <th>2014</th>\n",
       "      <th>2015</th>\n",
       "      <th>2016</th>\n",
       "      <th>2017</th>\n",
       "      <th>2018</th>\n",
       "      <th>Unnamed: 63</th>\n",
       "    </tr>\n",
       "  </thead>\n",
       "  <tbody>\n",
       "    <tr>\n",
       "      <th>38</th>\n",
       "      <td>China</td>\n",
       "      <td>CHN</td>\n",
       "      <td>Military expenditure (current LCU)</td>\n",
       "      <td>MS.MIL.XPND.CN</td>\n",
       "      <td>NaN</td>\n",
       "      <td>NaN</td>\n",
       "      <td>NaN</td>\n",
       "      <td>NaN</td>\n",
       "      <td>NaN</td>\n",
       "      <td>NaN</td>\n",
       "      <td>...</td>\n",
       "      <td>7.834000e+11</td>\n",
       "      <td>8.914702e+11</td>\n",
       "      <td>9.935000e+11</td>\n",
       "      <td>1.114496e+12</td>\n",
       "      <td>1.233430e+12</td>\n",
       "      <td>1.333262e+12</td>\n",
       "      <td>1.436617e+12</td>\n",
       "      <td>1.544163e+12</td>\n",
       "      <td>NaN</td>\n",
       "      <td>NaN</td>\n",
       "    </tr>\n",
       "    <tr>\n",
       "      <th>56</th>\n",
       "      <td>Denmark</td>\n",
       "      <td>DNK</td>\n",
       "      <td>Military expenditure (current LCU)</td>\n",
       "      <td>MS.MIL.XPND.CN</td>\n",
       "      <td>1.113000e+09</td>\n",
       "      <td>1.180000e+09</td>\n",
       "      <td>1.551000e+09</td>\n",
       "      <td>1.651000e+09</td>\n",
       "      <td>1.764000e+09</td>\n",
       "      <td>1.974000e+09</td>\n",
       "      <td>...</td>\n",
       "      <td>2.532800e+10</td>\n",
       "      <td>2.425900e+10</td>\n",
       "      <td>2.561700e+10</td>\n",
       "      <td>2.368200e+10</td>\n",
       "      <td>2.276900e+10</td>\n",
       "      <td>2.263300e+10</td>\n",
       "      <td>2.419000e+10</td>\n",
       "      <td>2.516500e+10</td>\n",
       "      <td>NaN</td>\n",
       "      <td>NaN</td>\n",
       "    </tr>\n",
       "    <tr>\n",
       "      <th>200</th>\n",
       "      <td>Russian Federation</td>\n",
       "      <td>RUS</td>\n",
       "      <td>Military expenditure (current LCU)</td>\n",
       "      <td>MS.MIL.XPND.CN</td>\n",
       "      <td>NaN</td>\n",
       "      <td>NaN</td>\n",
       "      <td>NaN</td>\n",
       "      <td>NaN</td>\n",
       "      <td>NaN</td>\n",
       "      <td>NaN</td>\n",
       "      <td>...</td>\n",
       "      <td>1.783210e+12</td>\n",
       "      <td>2.063740e+12</td>\n",
       "      <td>2.512500e+12</td>\n",
       "      <td>2.812900e+12</td>\n",
       "      <td>3.250500e+12</td>\n",
       "      <td>4.047400e+12</td>\n",
       "      <td>4.644800e+12</td>\n",
       "      <td>3.868700e+12</td>\n",
       "      <td>NaN</td>\n",
       "      <td>NaN</td>\n",
       "    </tr>\n",
       "    <tr>\n",
       "      <th>249</th>\n",
       "      <td>United States</td>\n",
       "      <td>USA</td>\n",
       "      <td>Military expenditure (current LCU)</td>\n",
       "      <td>MS.MIL.XPND.CN</td>\n",
       "      <td>4.538000e+10</td>\n",
       "      <td>4.780800e+10</td>\n",
       "      <td>5.238100e+10</td>\n",
       "      <td>5.229500e+10</td>\n",
       "      <td>5.121300e+10</td>\n",
       "      <td>5.182700e+10</td>\n",
       "      <td>...</td>\n",
       "      <td>6.981800e+11</td>\n",
       "      <td>7.113380e+11</td>\n",
       "      <td>6.847800e+11</td>\n",
       "      <td>6.397040e+11</td>\n",
       "      <td>6.099140e+11</td>\n",
       "      <td>5.961046e+11</td>\n",
       "      <td>6.001064e+11</td>\n",
       "      <td>6.097580e+11</td>\n",
       "      <td>NaN</td>\n",
       "      <td>NaN</td>\n",
       "    </tr>\n",
       "  </tbody>\n",
       "</table>\n",
       "<p>4 rows × 64 columns</p>\n",
       "</div>"
      ],
      "text/plain": [
       "           Country Name Country Code                      Indicator Name  \\\n",
       "38                China          CHN  Military expenditure (current LCU)   \n",
       "56              Denmark          DNK  Military expenditure (current LCU)   \n",
       "200  Russian Federation          RUS  Military expenditure (current LCU)   \n",
       "249       United States          USA  Military expenditure (current LCU)   \n",
       "\n",
       "     Indicator Code          1960          1961          1962          1963  \\\n",
       "38   MS.MIL.XPND.CN           NaN           NaN           NaN           NaN   \n",
       "56   MS.MIL.XPND.CN  1.113000e+09  1.180000e+09  1.551000e+09  1.651000e+09   \n",
       "200  MS.MIL.XPND.CN           NaN           NaN           NaN           NaN   \n",
       "249  MS.MIL.XPND.CN  4.538000e+10  4.780800e+10  5.238100e+10  5.229500e+10   \n",
       "\n",
       "             1964          1965     ...               2010          2011  \\\n",
       "38            NaN           NaN     ...       7.834000e+11  8.914702e+11   \n",
       "56   1.764000e+09  1.974000e+09     ...       2.532800e+10  2.425900e+10   \n",
       "200           NaN           NaN     ...       1.783210e+12  2.063740e+12   \n",
       "249  5.121300e+10  5.182700e+10     ...       6.981800e+11  7.113380e+11   \n",
       "\n",
       "             2012          2013          2014          2015          2016  \\\n",
       "38   9.935000e+11  1.114496e+12  1.233430e+12  1.333262e+12  1.436617e+12   \n",
       "56   2.561700e+10  2.368200e+10  2.276900e+10  2.263300e+10  2.419000e+10   \n",
       "200  2.512500e+12  2.812900e+12  3.250500e+12  4.047400e+12  4.644800e+12   \n",
       "249  6.847800e+11  6.397040e+11  6.099140e+11  5.961046e+11  6.001064e+11   \n",
       "\n",
       "             2017  2018  Unnamed: 63  \n",
       "38   1.544163e+12   NaN          NaN  \n",
       "56   2.516500e+10   NaN          NaN  \n",
       "200  3.868700e+12   NaN          NaN  \n",
       "249  6.097580e+11   NaN          NaN  \n",
       "\n",
       "[4 rows x 64 columns]"
      ]
     },
     "execution_count": 33,
     "metadata": {},
     "output_type": "execute_result"
    }
   ],
   "source": [
    "df[df['Country Name'].isin(['United States', 'China', 'Denmark', 'Russian Federation'])]"
   ]
  },
  {
   "cell_type": "markdown",
   "metadata": {
    "slideshow": {
     "slide_type": "subslide"
    }
   },
   "source": [
    "Here, we create a `DataFrame` of all country codes for the four countries, which we want to study further in the following."
   ]
  },
  {
   "cell_type": "code",
   "execution_count": 34,
   "metadata": {
    "slideshow": {
     "slide_type": "fragment"
    }
   },
   "outputs": [
    {
     "data": {
      "text/plain": [
       "38     CHN\n",
       "56     DNK\n",
       "200    RUS\n",
       "249    USA\n",
       "Name: Country Code, dtype: object"
      ]
     },
     "execution_count": 34,
     "metadata": {},
     "output_type": "execute_result"
    }
   ],
   "source": [
    "c_code_df = df[df['Country Name'].isin(['United States', 'China', \n",
    "                                        'Denmark', 'Russian Federation'])]['Country Code']\n",
    "c_code_df"
   ]
  },
  {
   "cell_type": "markdown",
   "metadata": {
    "slideshow": {
     "slide_type": "subslide"
    }
   },
   "source": [
    "We cannot plot the time series of military expenditures directly in a meaningful way as we would like to have the years on the y-axis but in the selection of our `DataFrame`, the year numbers are column names. Consequently, we have to transpose our `DataFrame`, see `T` function.\n",
    "\n",
    "Note, that the expenditures are given in `LUC` in the World Bank data set. That is, in currency of the corresponding country."
   ]
  },
  {
   "cell_type": "code",
   "execution_count": 40,
   "metadata": {
    "slideshow": {
     "slide_type": "subslide"
    }
   },
   "outputs": [
    {
     "data": {
      "text/plain": [
       "<matplotlib.axes._subplots.AxesSubplot at 0x117f90198>"
      ]
     },
     "execution_count": 40,
     "metadata": {},
     "output_type": "execute_result"
    },
    {
     "data": {
      "image/png": "[encoded data removed]",
      "text/plain": [
       "<Figure size 432x288 with 1 Axes>"
      ]
     },
     "metadata": {
      "needs_background": "light"
     },
     "output_type": "display_data"
    }
   ],
   "source": [
    "import matplotlib.pyplot as plt\n",
    "\n",
    "\n",
    "ts_df = df.iloc[c_code_df.index, 31:-1].T\n",
    "ts_df = ts_df.rename(columns=dict(c_code_df))\n",
    "ts_df\n",
    "ts_df.plot()"
   ]
  },
  {
   "cell_type": "markdown",
   "metadata": {
    "slideshow": {
     "slide_type": "subslide"
    }
   },
   "source": [
    "Since this plot may be a bit misleading, we will 'normalize' all expeditures to Euro, so that they are better comparible."
   ]
  },
  {
   "cell_type": "code",
   "execution_count": 37,
   "metadata": {
    "slideshow": {
     "slide_type": "fragment"
    }
   },
   "outputs": [
    {
     "data": {
      "text/plain": [
       "'<?xml version=\"1.0\" encoding=\"UTF-8\"?>\\n<gesmes:Envelope xmlns:gesmes=\"http://www.gesmes.org/xml/2002-08-01\" xmlns=\"http://www.ecb.int/vocabulary/2002-08-01/eurofxref\">\\n\\t<gesmes:subject>Reference rates</gesmes:subject>\\n\\t<gesmes:Sender>\\n\\t\\t<gesmes:name>European Central Bank</gesmes:name>\\n\\t</gesmes:Sender>\\n\\t<Cube>\\n\\t\\t<Cube time=\\'2019-03-04\\'>\\n\\t\\t\\t<Cube currency=\\'USD\\' rate=\\'1.1337\\'/>\\n\\t\\t\\t<Cube currency=\\'JPY\\' rate=\\'126.91\\'/>\\n\\t\\t\\t<Cube currency=\\'BGN\\' rate=\\'1.9558\\'/>\\n\\t\\t\\t<Cube currency=\\'CZK\\' rate=\\'25.621\\'/>\\n\\t\\t\\t<Cube currency=\\'DKK\\' rate=\\'7.4616\\'/>\\n\\t\\t\\t<Cube currency=\\'GBP\\' rate=\\'0.85775\\'/>\\n\\t\\t\\t<Cube currency=\\'HUF\\' rate=\\'315.84\\'/>\\n\\t\\t\\t<Cube currency=\\'PLN\\' rate=\\'4.2989\\'/>\\n\\t\\t\\t<Cube currency=\\'RON\\' rate=\\'4.7412\\'/>\\n\\t\\t\\t<Cube currency=\\'SEK\\' rate=\\'10.5543\\'/>\\n\\t\\t\\t<Cube currency=\\'CHF\\' rate=\\'1.1352\\'/>\\n\\t\\t\\t<Cube currency=\\'ISK\\' rate=\\'136.20\\'/>\\n\\t\\t\\t<Cube currency=\\'NOK\\' rate=\\'9.7633\\'/>\\n\\t\\t\\t<Cube currency=\\'HRK\\' rate=\\'7.4325\\'/>\\n\\t\\t\\t<Cube currency=\\'RUB\\' rate=\\'74.5435\\'/>\\n\\t\\t\\t<Cube currency=\\'TRY\\' rate=\\'6.1023\\'/>\\n\\t\\t\\t<Cube currency=\\'AUD\\' rate=\\'1.5990\\'/>\\n\\t\\t\\t<Cube currency=\\'BRL\\' rate=\\'4.2794\\'/>\\n\\t\\t\\t<Cube currency=\\'CAD\\' rate=\\'1.5092\\'/>\\n\\t\\t\\t<Cube currency=\\'CNY\\' rate=\\'7.5985\\'/>\\n\\t\\t\\t<Cube currency=\\'HKD\\' rate=\\'8.8986\\'/>\\n\\t\\t\\t<Cube currency=\\'IDR\\' rate=\\'16019.18\\'/>\\n\\t\\t\\t<Cube currency=\\'ILS\\' rate=\\'4.1102\\'/>\\n\\t\\t\\t<Cube currency=\\'INR\\' rate=\\'80.3630\\'/>\\n\\t\\t\\t<Cube currency=\\'KRW\\' rate=\\'1276.68\\'/>\\n\\t\\t\\t<Cube currency=\\'MXN\\' rate=\\'21.9374\\'/>\\n\\t\\t\\t<Cube currency=\\'MYR\\' rate=\\'4.6204\\'/>\\n\\t\\t\\t<Cube currency=\\'NZD\\' rate=\\'1.6660\\'/>\\n\\t\\t\\t<Cube currency=\\'PHP\\' rate=\\'58.726\\'/>\\n\\t\\t\\t<Cube currency=\\'SGD\\' rate=\\'1.5361\\'/>\\n\\t\\t\\t<Cube currency=\\'THB\\' rate=\\'36.142\\'/>\\n\\t\\t\\t<Cube currency=\\'ZAR\\' rate=\\'16.1463\\'/>\\n\\t\\t</Cube>\\n\\t</Cube>\\n</gesmes:Envelope>'"
      ]
     },
     "execution_count": 37,
     "metadata": {},
     "output_type": "execute_result"
    }
   ],
   "source": [
    "import requests\n",
    "\n",
    "\n",
    "# http://www.ecb.europa.eu/stats/policy_and_exchange_rates/euro_reference_exchange_rates/html/index.en.html#dev\n",
    "response = requests.get('http://www.ecb.europa.eu/stats/eurofxref/eurofxref-daily.xml')\n",
    "response.text"
   ]
  },
  {
   "cell_type": "code",
   "execution_count": 38,
   "metadata": {
    "slideshow": {
     "slide_type": "subslide"
    }
   },
   "outputs": [
    {
     "name": "stdout",
     "output_type": "stream",
     "text": [
      "1.1337\n",
      "7.4616\n",
      "74.5435\n",
      "7.5985\n"
     ]
    },
    {
     "data": {
      "text/plain": [
       "{'USD': 1.1337, 'DKK': 7.4616, 'RUB': 74.5435, 'CNY': 7.5985}"
      ]
     },
     "execution_count": 38,
     "metadata": {},
     "output_type": "execute_result"
    }
   ],
   "source": [
    "from bs4 import BeautifulSoup\n",
    "# Will be covered 26/3U\n",
    "\n",
    "xml = BeautifulSoup(response.text, 'html5lib')\n",
    "rate_list = xml.cube.cube.findAll(\"cube\") # [0]['rate']\n",
    "\n",
    "currency = ['USD', 'DKK', 'RUB', 'CNY']\n",
    "rate_dict = dict.fromkeys(currency)\n",
    "for r in rate_list:\n",
    "    if r['currency'] in currency:\n",
    "        rate_dict[r['currency']] = float(r['rate'])\n",
    "        print(r['rate'])\n",
    "rate_dict"
   ]
  },
  {
   "cell_type": "code",
   "execution_count": 39,
   "metadata": {
    "slideshow": {
     "slide_type": "subslide"
    }
   },
   "outputs": [
    {
     "data": {
      "text/plain": [
       "<matplotlib.axes._subplots.AxesSubplot at 0x117efdb38>"
      ]
     },
     "execution_count": 39,
     "metadata": {},
     "output_type": "execute_result"
    },
    {
     "data": {
      "image/png": "[encoded data removed]",
      "text/plain": [
       "<Figure size 432x288 with 1 Axes>"
      ]
     },
     "metadata": {
      "needs_background": "light"
     },
     "output_type": "display_data"
    }
   ],
   "source": [
    "ts_df['DNK'] = ts_df['DNK'] / rate_dict['DKK']\n",
    "ts_df['USA'] = ts_df['USA'] / rate_dict['USD']\n",
    "ts_df['CHN'] = ts_df['CHN'] / rate_dict['CNY']\n",
    "ts_df['RUS'] = ts_df['RUS'] / rate_dict['RUB']\n",
    "ts_df.plot()"
   ]
  },
  {
   "cell_type": "markdown",
   "metadata": {
    "slideshow": {
     "slide_type": "subslide"
    }
   },
   "source": [
    "**OBS!!!** Be careful, the graph above is still not really well suited for comparison as currency exchange rates are not fix. However, the code above normalizes just relying on the most current exchange rate from the European Central Bank. See the exercise block in the bottom for how to fix that isuue!"
   ]
  },
  {
   "cell_type": "markdown",
   "metadata": {
    "slideshow": {
     "slide_type": "subslide"
    }
   },
   "source": [
    "## PS\n",
    "\n",
    "In case you have to sort the data in your `DataFrames` see the methods `sort_index` and `sort_values`.\n",
    "\n",
    "\n",
    "```python\n",
    "df.sort_index(axis=1, ascending=True)\n",
    "df.sort_values(by='Country Code')\n",
    "```"
   ]
  },
  {
   "cell_type": "code",
   "execution_count": 41,
   "metadata": {
    "slideshow": {
     "slide_type": "fragment"
    }
   },
   "outputs": [],
   "source": [
    "df.sort_index?"
   ]
  },
  {
   "cell_type": "code",
   "execution_count": null,
   "metadata": {
    "slideshow": {
     "slide_type": "fragment"
    }
   },
   "outputs": [],
   "source": [
    "df.sort_values?"
   ]
  }
 ],
 "metadata": {
  "celltoolbar": "Slideshow",
  "kernelspec": {
   "display_name": "Python 3",
   "language": "python",
   "name": "python3"
  }
 },
 "nbformat": 4,
 "nbformat_minor": 2
}
