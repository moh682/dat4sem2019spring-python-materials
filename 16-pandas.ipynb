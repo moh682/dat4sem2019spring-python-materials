{
 "cells": [
  {
   "cell_type": "markdown",
   "metadata": {
    "slideshow": {
     "slide_type": "slide"
    }
   },
   "source": [
    "# The course so far...\n",
    "\n",
    "* Whirlwind through Python\n",
    "* Filer, CLI, OO\n",
    "* Plotting\n",
    "* Numpy"
   ]
  },
  {
   "cell_type": "markdown",
   "metadata": {
    "slideshow": {
     "slide_type": "subslide"
    }
   },
   "source": [
    "## What is left ...\n",
    "\n",
    "* More data processing with Pandas (today)\n",
    "* Multiprocessing, generators and requests\n",
    "* Graphs and PageRank\n",
    "* Webscraping\n",
    "* Feature engineering\n",
    "* Neural networks\n",
    "* Image processing\n",
    "* Movement detection"
   ]
  },
  {
   "cell_type": "markdown",
   "metadata": {
    "slideshow": {
     "slide_type": "fragment"
    }
   },
   "source": [
    "* Project!"
   ]
  },
  {
   "cell_type": "markdown",
   "metadata": {
    "slideshow": {
     "slide_type": "subslide"
    }
   },
   "source": [
    "# Learning objectives"
   ]
  },
  {
   "cell_type": "markdown",
   "metadata": {
    "slideshow": {
     "slide_type": "subslide"
    }
   },
   "source": [
    "## Skills \n",
    "\n",
    "* Write Python scripts and programs using common language constructs in the read-eval-print-loop (REPL), “Jupyter Notebooks”, as well as separate self-contained programs. \n",
    "\n",
    "* Download files from the web programmatically, as well as reading most common file formats programmatically. \n",
    "\n",
    "* Create various types of plots programmatically to share insight into data. \n",
    "\n",
    "* Apply Python’s scientific libraries and some of the most prominent algorithms in data science for problem solving and complexity reduction. \n",
    "\n",
    "* Programmatically, process images and streams of images. \n",
    "\n",
    "* Automate repetitive and boring tasks for example for data collection or UI testing. \n",
    "\n",
    " "
   ]
  },
  {
   "cell_type": "markdown",
   "metadata": {
    "slideshow": {
     "slide_type": "subslide"
    }
   },
   "source": [
    "\n",
    "\n",
    "## Competencies \n",
    "\n",
    "* collect various types of data \n",
    "\n",
    "* formulate problems about this data \n",
    "\n",
    "* implement solutions to given problem statements \n",
    "\n",
    "* present results on an abstract as well as technical level \n",
    "\n",
    "*  gain experiences in code reviews by reviewing Python code of their fellow students"
   ]
  },
  {
   "cell_type": "markdown",
   "metadata": {
    "slideshow": {
     "slide_type": "subslide"
    }
   },
   "source": [
    "## Exam\n",
    "* Group presentation of 10 minutes followed by 10 minutes of questions per student (minimum 30 minutes). \n",
    "\n",
    "* The exam is based on a presentation of the student’s group project and it is facilitated by an interactive programming environment. Additionally, this includes a discussion of the project’s solutions with respect to the main topics of the course.\n",
    "* For the main topics questions will be known to the students in advance. "
   ]
  },
  {
   "cell_type": "markdown",
   "metadata": {
    "slideshow": {
     "slide_type": "slide"
    }
   },
   "source": [
    "# TOC\n",
    "- Datetime in python\n",
    "  - Date, Time, DateTime\n",
    "  - time deltas (from datetime import timedelta)\n",
    "  - convert between datetime and string and vice versa\n",
    "- Pandas\n",
    "  - Loading and reading data\n",
    "  - Series\n",
    "    - 1 dimensional data structure\n",
    "  - DataFrame\n",
    "    - 2 dimensional data structure\n",
    "    - `pandas.DataFrame( data, index, columns, dtype, copy)`\n",
    "    - columns can be of different types\n",
    "    - data can be lists, dicts, maps, ndarrays."
   ]
  },
  {
   "cell_type": "markdown",
   "metadata": {
    "slideshow": {
     "slide_type": "subslide"
    }
   },
   "source": [
    "## Initialising `numpy` and `matplotlib`"
   ]
  },
  {
   "cell_type": "code",
<<<<<<< HEAD
<<<<<<< HEAD
   "execution_count": 54,
=======
   "execution_count": 1,
>>>>>>> upstream/master
=======
   "execution_count": 1,
>>>>>>> upstream/master
   "metadata": {
    "slideshow": {
     "slide_type": "fragment"
    }
   },
   "outputs": [
    {
     "name": "stdout",
     "output_type": "stream",
     "text": [
      "Populating the interactive namespace from numpy and matplotlib\n"
     ]
<<<<<<< HEAD
<<<<<<< HEAD
    },
    {
     "name": "stderr",
     "output_type": "stream",
     "text": [
      "/anaconda3/lib/python3.7/site-packages/IPython/core/magics/pylab.py:160: UserWarning: pylab import has clobbered these variables: ['f', 'time', 'datetime']\n",
      "`%matplotlib` prevents importing * from pylab and numpy\n",
      "  \"\\n`%matplotlib` prevents importing * from pylab and numpy\"\n"
     ]
=======
>>>>>>> upstream/master
=======
>>>>>>> upstream/master
    }
   ],
   "source": [
    "%pylab inline"
   ]
  },
  {
   "cell_type": "markdown",
   "metadata": {
    "slideshow": {
     "slide_type": "subslide"
    }
   },
   "source": [
    "# Datetime in Python\n",
    "\n",
    "This intro to handling *dates* and *times* in Python is based on the documentation of the standard library's `datetime` module https://docs.python.org/3.6/library/datetime.html.\n",
    "\n",
    "The datetime module supplies classes for manipulating *dates* and *times* in both simple and complex ways. While date and time arithmetic is supported, the focus of the implementation is on efficient attribute extraction for output formatting and manipulation."
   ]
  },
  {
   "cell_type": "markdown",
   "metadata": {
    "slideshow": {
     "slide_type": "subslide"
    }
   },
   "source": [
    "## Date Objects\n",
    "\n",
    "A date object represents a date (year, month and day) in an idealized calendar, the current Gregorian calendar indefinitely extended in both directions. January 1 of year 1 is called day number 1, January 2 of year 1 is called day number 2, and so on. This matches the definition of the \"proleptic Gregorian\" calendar in Dershowitz and Reingold’s book Calendrical Calculations, where it is the base calendar for all computations. See the book for algorithms for converting between proleptic Gregorian ordinals and many other calendar systems. Alternatively, you can have a look at the paper describing what is extended in the book:\n",
    "http://www.cs.tau.ac.il/~nachumd/papers/cc-paper.pdf"
   ]
  },
  {
   "cell_type": "code",
<<<<<<< HEAD
<<<<<<< HEAD
   "execution_count": 55,
=======
   "execution_count": 2,
>>>>>>> upstream/master
   "metadata": {
    "slideshow": {
     "slide_type": "subslide"
    }
   },
=======
   "execution_count": 1,
   "metadata": {},
>>>>>>> upstream/master
   "outputs": [
    {
     "name": "stdout",
     "output_type": "stream",
     "text": [
      "2019-03-05\n"
     ]
    },
    {
     "data": {
      "text/plain": [
       "datetime.date(2019, 3, 5)"
      ]
     },
<<<<<<< HEAD
<<<<<<< HEAD
     "execution_count": 55,
=======
     "execution_count": 2,
>>>>>>> upstream/master
=======
     "execution_count": 1,
>>>>>>> upstream/master
     "metadata": {},
     "output_type": "execute_result"
    }
   ],
   "source": [
    "from datetime import date\n",
    "\n",
    "\n",
    "today = date.today()\n",
    "print(today)\n",
    "today"
   ]
  },
  {
   "cell_type": "code",
<<<<<<< HEAD
<<<<<<< HEAD
   "execution_count": 56,
=======
   "execution_count": 3,
>>>>>>> upstream/master
=======
   "execution_count": 3,
>>>>>>> upstream/master
   "metadata": {
    "slideshow": {
     "slide_type": "subslide"
    }
   },
   "outputs": [
    {
     "data": {
      "text/plain": [
       "datetime.date(2019, 10, 2)"
      ]
     },
<<<<<<< HEAD
<<<<<<< HEAD
     "execution_count": 56,
=======
     "execution_count": 3,
>>>>>>> upstream/master
=======
     "execution_count": 3,
>>>>>>> upstream/master
     "metadata": {},
     "output_type": "execute_result"
    }
   ],
   "source": [
    "today = date(today.year, 10, 2)\n",
    "today"
   ]
  },
  {
   "cell_type": "code",
<<<<<<< HEAD
<<<<<<< HEAD
   "execution_count": 57,
=======
   "execution_count": 4,
>>>>>>> upstream/master
=======
   "execution_count": 4,
>>>>>>> upstream/master
   "metadata": {
    "slideshow": {
     "slide_type": "subslide"
    }
   },
   "outputs": [
    {
     "data": {
      "text/plain": [
       "7"
      ]
     },
<<<<<<< HEAD
<<<<<<< HEAD
     "execution_count": 57,
=======
     "execution_count": 4,
>>>>>>> upstream/master
=======
     "execution_count": 4,
>>>>>>> upstream/master
     "metadata": {},
     "output_type": "execute_result"
    }
   ],
   "source": [
    "next_lecture = date(today.year, 10, 9)\n",
    "time_to_next_lecture = abs(next_lecture - today)\n",
    "time_to_next_lecture.days"
   ]
  },
  {
   "cell_type": "code",
<<<<<<< HEAD
<<<<<<< HEAD
   "execution_count": 58,
=======
   "execution_count": 5,
>>>>>>> upstream/master
=======
   "execution_count": 5,
>>>>>>> upstream/master
   "metadata": {
    "slideshow": {
     "slide_type": "subslide"
    }
   },
   "outputs": [
    {
     "data": {
      "text/plain": [
       "5"
      ]
     },
<<<<<<< HEAD
<<<<<<< HEAD
     "execution_count": 58,
=======
     "execution_count": 5,
>>>>>>> upstream/master
=======
     "execution_count": 5,
>>>>>>> upstream/master
     "metadata": {},
     "output_type": "execute_result"
    }
   ],
   "source": [
    "from datetime import timedelta\n",
    "# see the timedelta documentation:\n",
    "# https://docs.python.org/3.6/library/datetime.html#timedelta-objects\n",
    "\n",
    "next_lecture = date(today.year, 10, 2) + timedelta(5)\n",
    "time_to_next_lecture = abs(next_lecture - today)\n",
    "time_to_next_lecture.days"
   ]
  },
  {
   "cell_type": "code",
<<<<<<< HEAD
<<<<<<< HEAD
   "execution_count": 59,
=======
   "execution_count": 8,
>>>>>>> upstream/master
=======
   "execution_count": 8,
>>>>>>> upstream/master
   "metadata": {
    "slideshow": {
     "slide_type": "fragment"
    }
   },
   "outputs": [
    {
     "data": {
      "text/plain": [
<<<<<<< HEAD
<<<<<<< HEAD
       "'02/10/2019'"
      ]
     },
     "execution_count": 59,
=======
=======
>>>>>>> upstream/master
       "'02/10/19'"
      ]
     },
     "execution_count": 8,
<<<<<<< HEAD
>>>>>>> upstream/master
=======
>>>>>>> upstream/master
     "metadata": {},
     "output_type": "execute_result"
    }
   ],
   "source": [
    "today.strftime(\"%d/%m/%y\")"
   ]
  },
  {
   "cell_type": "code",
<<<<<<< HEAD
<<<<<<< HEAD
   "execution_count": 60,
=======
   "execution_count": 9,
>>>>>>> upstream/master
=======
   "execution_count": 9,
>>>>>>> upstream/master
   "metadata": {
    "slideshow": {
     "slide_type": "fragment"
    }
   },
   "outputs": [
    {
     "data": {
      "text/plain": [
       "'Wednesday 02. October 2019'"
      ]
     },
<<<<<<< HEAD
<<<<<<< HEAD
     "execution_count": 60,
=======
     "execution_count": 9,
>>>>>>> upstream/master
=======
     "execution_count": 9,
>>>>>>> upstream/master
     "metadata": {},
     "output_type": "execute_result"
    }
   ],
   "source": [
    "today.strftime(\"%A %d. %B %Y\")"
   ]
  },
  {
   "cell_type": "markdown",
   "metadata": {
    "slideshow": {
     "slide_type": "subslide"
    }
   },
   "source": [
    "## Time Objects\n",
    "\n",
    "A time object represents a (local) time of day, independent of any particular day. In our coure I will not consider times with respect to different time zones. In case you need to add information about which time zone a `time` refers, please read https://docs.python.org/3.4/library/datetime.html#tzinfo-objects."
   ]
  },
  {
   "cell_type": "code",
<<<<<<< HEAD
<<<<<<< HEAD
   "execution_count": 61,
=======
   "execution_count": 10,
>>>>>>> upstream/master
=======
   "execution_count": 10,
>>>>>>> upstream/master
   "metadata": {
    "slideshow": {
     "slide_type": "subslide"
    }
   },
   "outputs": [
    {
     "data": {
      "text/plain": [
       "'12:10:30'"
      ]
     },
<<<<<<< HEAD
<<<<<<< HEAD
     "execution_count": 61,
=======
     "execution_count": 10,
>>>>>>> upstream/master
=======
     "execution_count": 10,
>>>>>>> upstream/master
     "metadata": {},
     "output_type": "execute_result"
    }
   ],
   "source": [
    "from datetime import datetime, date, time\n",
    "\n",
    "\n",
    "t = time(12, 10, 30)\n",
    "t.isoformat()"
   ]
  },
  {
   "cell_type": "code",
<<<<<<< HEAD
<<<<<<< HEAD
   "execution_count": 62,
=======
   "execution_count": 11,
>>>>>>> upstream/master
=======
   "execution_count": 11,
>>>>>>> upstream/master
   "metadata": {
    "slideshow": {
     "slide_type": "fragment"
    }
   },
   "outputs": [
    {
     "name": "stdout",
     "output_type": "stream",
     "text": [
      "12:10:30\n",
      "The time is 12:10.\n"
     ]
    }
   ],
   "source": [
    "print(t.strftime('%H:%M:%S'))\n",
    "\n",
    "print('The time is {:%H:%M}.'.format(t))"
   ]
  },
  {
   "cell_type": "markdown",
   "metadata": {
    "slideshow": {
     "slide_type": "subslide"
    }
   },
   "source": [
    "## Datetime Objects"
   ]
  },
  {
   "cell_type": "code",
<<<<<<< HEAD
<<<<<<< HEAD
   "execution_count": 63,
=======
   "execution_count": 12,
>>>>>>> upstream/master
   "metadata": {
    "slideshow": {
     "slide_type": "subslide"
    }
   },
=======
   "execution_count": 9,
   "metadata": {},
>>>>>>> upstream/master
   "outputs": [
    {
     "data": {
      "text/plain": [
       "datetime.datetime(2019, 3, 5, 12, 30)"
      ]
     },
<<<<<<< HEAD
<<<<<<< HEAD
     "execution_count": 63,
=======
     "execution_count": 12,
>>>>>>> upstream/master
=======
     "execution_count": 9,
>>>>>>> upstream/master
     "metadata": {},
     "output_type": "execute_result"
    }
   ],
   "source": [
    "from datetime import datetime, date, time\n",
    "\n",
    "\n",
    "d = date.today()\n",
    "t = time(12, 30)\n",
    "datetime.combine(d, t) # todays date combined with time: 12:30"
   ]
  },
  {
   "cell_type": "code",
<<<<<<< HEAD
<<<<<<< HEAD
   "execution_count": 64,
=======
   "execution_count": 13,
>>>>>>> upstream/master
   "metadata": {
    "slideshow": {
     "slide_type": "subslide"
    }
   },
=======
   "execution_count": 10,
   "metadata": {},
>>>>>>> upstream/master
   "outputs": [
    {
     "name": "stdout",
     "output_type": "stream",
     "text": [
<<<<<<< HEAD
<<<<<<< HEAD
      "2019-03-05 15:06:03.852520\n",
      "2019-03-05 15:06:03\n"
=======
      "2019-03-05 13:08:42.299651\n",
      "2019-03-05 13:08:42\n"
>>>>>>> upstream/master
=======
      "2019-03-05 07:40:59.571393\n",
      "2019-03-05 07:40:59\n"
>>>>>>> upstream/master
     ]
    }
   ],
   "source": [
    "now = datetime.now()\n",
    "print(now)\n",
    "now = now.replace(microsecond=0)\n",
    "print(now)"
   ]
  },
  {
   "cell_type": "code",
<<<<<<< HEAD
<<<<<<< HEAD
   "execution_count": 65,
=======
   "execution_count": 14,
>>>>>>> upstream/master
=======
   "execution_count": 14,
>>>>>>> upstream/master
   "metadata": {
    "slideshow": {
     "slide_type": "fragment"
    }
   },
   "outputs": [
    {
     "data": {
      "text/plain": [
<<<<<<< HEAD
<<<<<<< HEAD
       "datetime.datetime(2019, 3, 5, 14, 6, 3, 863248)"
      ]
     },
     "execution_count": 65,
=======
       "datetime.datetime(2019, 3, 5, 12, 9, 2, 548947)"
      ]
     },
     "execution_count": 14,
>>>>>>> upstream/master
=======
       "datetime.datetime(2019, 3, 5, 6, 40, 59, 614812)"
      ]
     },
     "execution_count": 14,
>>>>>>> upstream/master
     "metadata": {},
     "output_type": "execute_result"
    }
   ],
   "source": [
    "datetime.utcnow()"
   ]
  },
  {
   "cell_type": "code",
<<<<<<< HEAD
<<<<<<< HEAD
   "execution_count": 66,
=======
   "execution_count": 15,
>>>>>>> upstream/master
   "metadata": {
    "slideshow": {
     "slide_type": "subslide"
    }
   },
=======
   "execution_count": 12,
   "metadata": {},
>>>>>>> upstream/master
   "outputs": [
    {
     "name": "stdout",
     "output_type": "stream",
     "text": [
      "the year is 2019, the week is 10 and it is the 2th day\n",
      "10\n"
     ]
    }
   ],
   "source": [
    "ic = now.isocalendar()\n",
    "print('the year is {}, the week is {} and it is the {}th day'.format(ic[0], ic[1],ic[2]))\n",
    "week_number = ic[1]\n",
    "print(week_number)"
   ]
  },
  {
   "cell_type": "code",
<<<<<<< HEAD
<<<<<<< HEAD
   "execution_count": 67,
=======
   "execution_count": 16,
>>>>>>> upstream/master
   "metadata": {
    "slideshow": {
     "slide_type": "fragment"
    }
   },
=======
   "execution_count": 13,
   "metadata": {},
>>>>>>> upstream/master
   "outputs": [
    {
     "data": {
      "text/plain": [
<<<<<<< HEAD
<<<<<<< HEAD
       "'Tuesday, 05. March 2019 03:06PM'"
      ]
     },
     "execution_count": 67,
=======
       "'Tuesday, 05. March 2019 01:08PM'"
      ]
     },
     "execution_count": 16,
>>>>>>> upstream/master
=======
       "'Tuesday, 05. March 2019 07:40AM'"
      ]
     },
     "execution_count": 13,
>>>>>>> upstream/master
     "metadata": {},
     "output_type": "execute_result"
    }
   ],
   "source": [
    "now.strftime(\"%A, %d. %B %Y %I:%M%p\")"
   ]
  },
  {
   "cell_type": "code",
<<<<<<< HEAD
<<<<<<< HEAD
   "execution_count": 68,
=======
   "execution_count": 17,
>>>>>>> upstream/master
=======
   "execution_count": 17,
>>>>>>> upstream/master
   "metadata": {
    "slideshow": {
     "slide_type": "fragment"
    }
   },
   "outputs": [
    {
     "data": {
      "text/plain": [
<<<<<<< HEAD
<<<<<<< HEAD
       "'The day is 05, the month is March, the time is 03:06PM.'"
      ]
     },
     "execution_count": 68,
=======
       "'The day is 05, the month is March, the time is 01:08PM.'"
      ]
     },
     "execution_count": 17,
>>>>>>> upstream/master
=======
       "'The day is 05, the month is March, the time is 07:40AM.'"
      ]
     },
     "execution_count": 17,
>>>>>>> upstream/master
     "metadata": {},
     "output_type": "execute_result"
    }
   ],
   "source": [
    "'The {1} is {0:%d}, the {2} is {0:%B}, the {3} is {0:%I:%M%p}.'.format(now, \"day\", \"month\", \"time\")"
   ]
  },
  {
   "cell_type": "code",
<<<<<<< HEAD
<<<<<<< HEAD
   "execution_count": 69,
=======
   "execution_count": 18,
>>>>>>> upstream/master
=======
   "execution_count": 18,
>>>>>>> upstream/master
   "metadata": {
    "slideshow": {
     "slide_type": "subslide"
    }
   },
   "outputs": [
    {
     "name": "stdout",
     "output_type": "stream",
     "text": [
      "2010-06-10 00:00:00\n"
     ]
    },
    {
     "data": {
      "text/plain": [
       "'10-06-2010 week: 23'"
      ]
     },
<<<<<<< HEAD
<<<<<<< HEAD
     "execution_count": 69,
=======
     "execution_count": 18,
>>>>>>> upstream/master
=======
     "execution_count": 18,
>>>>>>> upstream/master
     "metadata": {},
     "output_type": "execute_result"
    }
   ],
   "source": [
    "d = datetime.strptime('10 Jun 2010', '%d %b %Y')\n",
    "print(d)\n",
    "d.strftime('%d-%m-%Y week: %U')"
   ]
  },
  {
   "cell_type": "markdown",
   "metadata": {
    "slideshow": {
     "slide_type": "subslide"
    }
   },
   "source": [
    "## Timedeltas\n",
    "\n",
    "A `timedelta` object represents a duration, the difference between two dates or times."
   ]
  },
  {
   "cell_type": "code",
<<<<<<< HEAD
<<<<<<< HEAD
   "execution_count": 70,
=======
   "execution_count": 19,
>>>>>>> upstream/master
   "metadata": {
    "slideshow": {
     "slide_type": "fragment"
    }
   },
=======
   "execution_count": 16,
   "metadata": {},
>>>>>>> upstream/master
   "outputs": [
    {
     "data": {
      "text/plain": [
       "(0, 0, 5)"
      ]
     },
<<<<<<< HEAD
<<<<<<< HEAD
     "execution_count": 70,
=======
     "execution_count": 19,
>>>>>>> upstream/master
=======
     "execution_count": 16,
>>>>>>> upstream/master
     "metadata": {},
     "output_type": "execute_result"
    }
   ],
   "source": [
    "from datetime import timedelta\n",
    "\n",
    "\n",
    "d = timedelta(microseconds=5)\n",
    "(d.days, d.seconds, d.microseconds)"
   ]
  },
  {
   "cell_type": "code",
<<<<<<< HEAD
<<<<<<< HEAD
   "execution_count": 71,
=======
   "execution_count": 22,
>>>>>>> upstream/master
=======
   "execution_count": 22,
>>>>>>> upstream/master
   "metadata": {
    "slideshow": {
     "slide_type": "fragment"
    }
   },
   "outputs": [
    {
     "data": {
      "text/plain": [
<<<<<<< HEAD
<<<<<<< HEAD
       "datetime.timedelta(days=-1, seconds=68400)"
      ]
     },
     "execution_count": 71,
=======
=======
>>>>>>> upstream/master
       "datetime.timedelta(-1, 68400)"
      ]
     },
     "execution_count": 22,
<<<<<<< HEAD
>>>>>>> upstream/master
=======
>>>>>>> upstream/master
     "metadata": {},
     "output_type": "execute_result"
    }
   ],
   "source": [
    "timedelta(hours=-5)"
   ]
  },
  {
   "cell_type": "markdown",
   "metadata": {
    "slideshow": {
     "slide_type": "subslide"
    }
   },
   "source": [
    "### Operations with `timedelta`s"
   ]
  },
  {
   "cell_type": "code",
<<<<<<< HEAD
<<<<<<< HEAD
   "execution_count": 72,
=======
   "execution_count": 23,
>>>>>>> upstream/master
=======
   "execution_count": 23,
>>>>>>> upstream/master
   "metadata": {
    "slideshow": {
     "slide_type": "subslide"
    }
   },
   "outputs": [
    {
     "name": "stdout",
     "output_type": "stream",
     "text": [
<<<<<<< HEAD
      "year_as_delta: 365 days, 0:00:00\n"
=======
      "year_as_delta: 365 days, 0:00:00\n",
      "2018-03-05 07:40:59.939820\n",
      "2020-03-04 07:40:59.939923\n",
      "The two year difference is equivalent to 730 days or to 63072000.000103 seconds\n"
>>>>>>> upstream/master
     ]
    }
   ],
   "source": [
    "year_as_delta = timedelta(days=365)\n",
    "print('year_as_delta:',year_as_delta)\n",
    "another_year_delta = timedelta(weeks=40, days=84, hours=23, minutes=50, seconds=600)  # adds up to 365 days"
   ]
  },
  {
   "cell_type": "code",
<<<<<<< HEAD
<<<<<<< HEAD
   "execution_count": 73,
=======
   "execution_count": 24,
>>>>>>> upstream/master
=======
   "execution_count": 24,
>>>>>>> upstream/master
   "metadata": {
    "slideshow": {
     "slide_type": "fragment"
    }
   },
   "outputs": [
    {
     "name": "stdout",
     "output_type": "stream",
     "text": [
<<<<<<< HEAD
<<<<<<< HEAD
      "2018-03-05 15:06:03.940243\n",
      "2020-03-04 15:06:03.940299\n"
=======
      "2018-03-05 13:12:18.473090\n",
      "2020-03-04 13:12:18.473189\n"
>>>>>>> upstream/master
=======
      "2018-03-05 13:12:18.473090\n",
      "2020-03-04 13:12:18.473189\n"
>>>>>>> upstream/master
     ]
    }
   ],
   "source": [
    "last_year = datetime.now() - year_as_delta\n",
    "next_year = datetime.now() - year_as_delta + (2 *another_year_delta)\n",
    "print(last_year)\n",
    "print(next_year)"
   ]
  },
  {
   "cell_type": "code",
<<<<<<< HEAD
<<<<<<< HEAD
   "execution_count": 74,
=======
   "execution_count": 25,
>>>>>>> upstream/master
=======
   "execution_count": 25,
>>>>>>> upstream/master
   "metadata": {
    "slideshow": {
     "slide_type": "fragment"
    }
   },
   "outputs": [
    {
     "name": "stdout",
     "output_type": "stream",
     "text": [
<<<<<<< HEAD
<<<<<<< HEAD
      "The two year difference is equivalent to 730 days or to 63072000.000056 seconds\n"
=======
      "The two year difference is equivalent to 730 days or to 63072000.000099 seconds\n"
>>>>>>> upstream/master
=======
      "The two year difference is equivalent to 730 days or to 63072000.000099 seconds\n"
>>>>>>> upstream/master
     ]
    }
   ],
   "source": [
    "two_year_delta = next_year - last_year\n",
    "print('The two year difference is equivalent to {} days or to {} seconds'.format(\n",
    "    two_year_delta.days, two_year_delta.total_seconds()))"
   ]
  },
  {
   "cell_type": "markdown",
   "metadata": {
    "slideshow": {
     "slide_type": "subslide"
    }
   },
   "source": [
    "## Converting Strings to Times and Vice Versa"
   ]
  },
  {
   "cell_type": "code",
<<<<<<< HEAD
<<<<<<< HEAD
   "execution_count": 75,
=======
   "execution_count": 26,
>>>>>>> upstream/master
=======
   "execution_count": 26,
>>>>>>> upstream/master
   "metadata": {
    "slideshow": {
     "slide_type": "subslide"
    }
   },
   "outputs": [
    {
     "data": {
      "text/plain": [
<<<<<<< HEAD
<<<<<<< HEAD
       "'2019-03-05T15:06:03.958220'"
      ]
     },
     "execution_count": 75,
=======
       "'2019-03-05T13:13:32.007906'"
      ]
     },
     "execution_count": 26,
>>>>>>> upstream/master
=======
       "'2019-03-05T07:40:59.987429'"
      ]
     },
     "execution_count": 26,
>>>>>>> upstream/master
     "metadata": {},
     "output_type": "execute_result"
    }
   ],
   "source": [
    "from datetime import datetime\n",
    "\n",
    "\n",
    "datetime.now().isoformat()"
   ]
  },
  {
   "cell_type": "code",
<<<<<<< HEAD
<<<<<<< HEAD
   "execution_count": 76,
=======
   "execution_count": 30,
>>>>>>> upstream/master
=======
   "execution_count": 30,
>>>>>>> upstream/master
   "metadata": {
    "slideshow": {
     "slide_type": "fragment"
    }
   },
   "outputs": [
    {
<<<<<<< HEAD
<<<<<<< HEAD
     "data": {
      "text/plain": [
       "datetime.datetime(2006, 11, 21, 16, 30)"
      ]
     },
     "execution_count": 76,
     "metadata": {},
     "output_type": "execute_result"
=======
=======
>>>>>>> upstream/master
     "ename": "ValueError",
     "evalue": "time data '21/11/06 16:30' does not match format '%d/%m/%Y %H:%M'",
     "output_type": "error",
     "traceback": [
      "\u001b[0;31m----------------------------------------------------------------------\u001b[0m",
      "\u001b[0;31mValueError\u001b[0m                           Traceback (most recent call last)",
      "\u001b[0;32m<ipython-input-30-a43a8714b5d9>\u001b[0m in \u001b[0;36m<module>\u001b[0;34m\u001b[0m\n\u001b[0;32m----> 1\u001b[0;31m \u001b[0mdt\u001b[0m \u001b[0;34m=\u001b[0m \u001b[0mdatetime\u001b[0m\u001b[0;34m.\u001b[0m\u001b[0mstrptime\u001b[0m\u001b[0;34m(\u001b[0m\u001b[0;34m'21/11/06 16:30'\u001b[0m\u001b[0;34m,\u001b[0m \u001b[0;34m'%d/%m/%Y %H:%M'\u001b[0m\u001b[0;34m)\u001b[0m\u001b[0;34m\u001b[0m\u001b[0;34m\u001b[0m\u001b[0m\n\u001b[0m\u001b[1;32m      2\u001b[0m \u001b[0mdt\u001b[0m\u001b[0;34m\u001b[0m\u001b[0;34m\u001b[0m\u001b[0m\n",
      "\u001b[0;32m/usr/lib/python3.6/_strptime.py\u001b[0m in \u001b[0;36m_strptime_datetime\u001b[0;34m(cls, data_string, format)\u001b[0m\n\u001b[1;32m    563\u001b[0m     \"\"\"Return a class cls instance based on the input string and the\n\u001b[1;32m    564\u001b[0m     format string.\"\"\"\n\u001b[0;32m--> 565\u001b[0;31m     \u001b[0mtt\u001b[0m\u001b[0;34m,\u001b[0m \u001b[0mfraction\u001b[0m \u001b[0;34m=\u001b[0m \u001b[0m_strptime\u001b[0m\u001b[0;34m(\u001b[0m\u001b[0mdata_string\u001b[0m\u001b[0;34m,\u001b[0m \u001b[0mformat\u001b[0m\u001b[0;34m)\u001b[0m\u001b[0;34m\u001b[0m\u001b[0;34m\u001b[0m\u001b[0m\n\u001b[0m\u001b[1;32m    566\u001b[0m     \u001b[0mtzname\u001b[0m\u001b[0;34m,\u001b[0m \u001b[0mgmtoff\u001b[0m \u001b[0;34m=\u001b[0m \u001b[0mtt\u001b[0m\u001b[0;34m[\u001b[0m\u001b[0;34m-\u001b[0m\u001b[0;36m2\u001b[0m\u001b[0;34m:\u001b[0m\u001b[0;34m]\u001b[0m\u001b[0;34m\u001b[0m\u001b[0;34m\u001b[0m\u001b[0m\n\u001b[1;32m    567\u001b[0m     \u001b[0margs\u001b[0m \u001b[0;34m=\u001b[0m \u001b[0mtt\u001b[0m\u001b[0;34m[\u001b[0m\u001b[0;34m:\u001b[0m\u001b[0;36m6\u001b[0m\u001b[0;34m]\u001b[0m \u001b[0;34m+\u001b[0m \u001b[0;34m(\u001b[0m\u001b[0mfraction\u001b[0m\u001b[0;34m,\u001b[0m\u001b[0;34m)\u001b[0m\u001b[0;34m\u001b[0m\u001b[0;34m\u001b[0m\u001b[0m\n",
      "\u001b[0;32m/usr/lib/python3.6/_strptime.py\u001b[0m in \u001b[0;36m_strptime\u001b[0;34m(data_string, format)\u001b[0m\n\u001b[1;32m    360\u001b[0m     \u001b[0;32mif\u001b[0m \u001b[0;32mnot\u001b[0m \u001b[0mfound\u001b[0m\u001b[0;34m:\u001b[0m\u001b[0;34m\u001b[0m\u001b[0;34m\u001b[0m\u001b[0m\n\u001b[1;32m    361\u001b[0m         raise ValueError(\"time data %r does not match format %r\" %\n\u001b[0;32m--> 362\u001b[0;31m                          (data_string, format))\n\u001b[0m\u001b[1;32m    363\u001b[0m     \u001b[0;32mif\u001b[0m \u001b[0mlen\u001b[0m\u001b[0;34m(\u001b[0m\u001b[0mdata_string\u001b[0m\u001b[0;34m)\u001b[0m \u001b[0;34m!=\u001b[0m \u001b[0mfound\u001b[0m\u001b[0;34m.\u001b[0m\u001b[0mend\u001b[0m\u001b[0;34m(\u001b[0m\u001b[0;34m)\u001b[0m\u001b[0;34m:\u001b[0m\u001b[0;34m\u001b[0m\u001b[0;34m\u001b[0m\u001b[0m\n\u001b[1;32m    364\u001b[0m         raise ValueError(\"unconverted data remains: %s\" %\n",
      "\u001b[0;31mValueError\u001b[0m: time data '21/11/06 16:30' does not match format '%d/%m/%Y %H:%M'"
     ]
<<<<<<< HEAD
>>>>>>> upstream/master
=======
>>>>>>> upstream/master
    }
   ],
   "source": [
    "dt = datetime.strptime('21/11/06 16:30', '%d/%m/%Y %H:%M')\n",
    "dt"
   ]
  },
  {
   "cell_type": "code",
<<<<<<< HEAD
<<<<<<< HEAD
   "execution_count": 77,
=======
=======
>>>>>>> upstream/master
   "execution_count": 29,
   "metadata": {},
   "outputs": [],
   "source": [
    "datetime.strptime?"
   ]
  },
  {
   "cell_type": "code",
   "execution_count": 28,
<<<<<<< HEAD
>>>>>>> upstream/master
=======
>>>>>>> upstream/master
   "metadata": {
    "slideshow": {
     "slide_type": "fragment"
    }
   },
   "outputs": [
    {
     "data": {
      "text/plain": [
       "'06-11-21 16:30'"
      ]
     },
<<<<<<< HEAD
<<<<<<< HEAD
     "execution_count": 77,
=======
     "execution_count": 28,
>>>>>>> upstream/master
=======
     "execution_count": 28,
>>>>>>> upstream/master
     "metadata": {},
     "output_type": "execute_result"
    }
   ],
   "source": [
    "dt.strftime('%y-%m-%d %H:%M')"
   ]
  },
  {
   "cell_type": "markdown",
   "metadata": {
    "slideshow": {
     "slide_type": "subslide"
    }
   },
   "source": [
    "### Parsing Arbitrary Dates from Strings\n",
    "\n",
    "The `dateutil.parser` module offers a generic date/time string parser which is able to parse most known formats to represent a date and/or time.\n",
    "\n",
    "The module attempts to be forgiving with regards to unlikely input formats, returning a datetime object even for dates which are ambiguous."
   ]
  },
  {
   "cell_type": "code",
<<<<<<< HEAD
<<<<<<< HEAD
   "execution_count": 78,
=======
   "execution_count": 34,
>>>>>>> upstream/master
=======
   "execution_count": 34,
>>>>>>> upstream/master
   "metadata": {
    "slideshow": {
     "slide_type": "fragment"
    }
   },
   "outputs": [
    {
     "data": {
      "text/plain": [
       "datetime.datetime(2006, 11, 21, 16, 30)"
      ]
     },
<<<<<<< HEAD
<<<<<<< HEAD
     "execution_count": 78,
=======
     "execution_count": 34,
>>>>>>> upstream/master
=======
     "execution_count": 34,
>>>>>>> upstream/master
     "metadata": {},
     "output_type": "execute_result"
    }
   ],
   "source": [
    "import dateutil.parser\n",
    "\n",
    "\n",
    "dateutil.parser.parse('21-11-06 16:30')"
   ]
  },
  {
   "cell_type": "markdown",
   "metadata": {
    "slideshow": {
     "slide_type": "subslide"
    }
   },
   "source": [
    "# Class exercise with dates\n",
    "Create a function: get_meeting_dates in a module called myUtilities.py\n",
    "- the function must take 3 arguments (period_as_timedelta, time_of_day, number_of_meetings, start_date=now())\n",
    "- the function should then return a list of datetimes for a series of meetings that should take place from start_date and evenly distributed throughout the period.\n",
    "- create another list of number of attendents, that was actually there at each meeting.\n",
    "- create a bar plot of attendance through the series of meetings."
   ]
  },
  {
   "cell_type": "code",
<<<<<<< HEAD
<<<<<<< HEAD
   "execution_count": 79,
   "metadata": {},
=======
=======
>>>>>>> upstream/master
   "execution_count": 38,
   "metadata": {
    "slideshow": {
     "slide_type": "fragment"
    }
   },
<<<<<<< HEAD
>>>>>>> upstream/master
=======
>>>>>>> upstream/master
   "outputs": [
    {
     "data": {
      "text/plain": [
<<<<<<< HEAD
<<<<<<< HEAD
       "[datetime.datetime(2019, 3, 5, 17, 0),\n",
       " datetime.datetime(2019, 3, 24, 17, 0),\n",
       " datetime.datetime(2019, 4, 13, 17, 0),\n",
       " datetime.datetime(2019, 5, 3, 17, 0),\n",
       " datetime.datetime(2019, 5, 23, 17, 0),\n",
       " datetime.datetime(2019, 6, 12, 17, 0),\n",
       " datetime.datetime(2019, 7, 2, 17, 0),\n",
       " datetime.datetime(2019, 7, 22, 17, 0),\n",
       " datetime.datetime(2019, 8, 11, 17, 0),\n",
       " datetime.datetime(2019, 8, 31, 17, 0),\n",
       " datetime.datetime(2019, 9, 20, 17, 0),\n",
       " datetime.datetime(2019, 10, 10, 17, 0),\n",
       " datetime.datetime(2019, 10, 30, 17, 0),\n",
       " datetime.datetime(2019, 11, 19, 17, 0),\n",
       " datetime.datetime(2019, 12, 9, 17, 0),\n",
       " datetime.datetime(2019, 12, 29, 17, 0),\n",
       " datetime.datetime(2020, 1, 18, 17, 0),\n",
       " datetime.datetime(2020, 2, 7, 17, 0),\n",
       " datetime.datetime(2020, 2, 27, 17, 0),\n",
       " datetime.datetime(2020, 3, 18, 17, 0),\n",
       " datetime.datetime(2020, 4, 7, 17, 0),\n",
       " datetime.datetime(2020, 4, 27, 17, 0),\n",
       " datetime.datetime(2020, 5, 17, 17, 0),\n",
       " datetime.datetime(2020, 6, 6, 17, 0),\n",
       " datetime.datetime(2020, 6, 26, 17, 0),\n",
       " datetime.datetime(2020, 7, 16, 17, 0),\n",
       " datetime.datetime(2020, 8, 5, 17, 0),\n",
       " datetime.datetime(2020, 8, 25, 17, 0),\n",
       " datetime.datetime(2020, 9, 14, 17, 0),\n",
       " datetime.datetime(2020, 10, 4, 17, 0),\n",
       " datetime.datetime(2020, 10, 24, 17, 0),\n",
       " datetime.datetime(2020, 11, 13, 17, 0),\n",
       " datetime.datetime(2020, 12, 3, 17, 0),\n",
       " datetime.datetime(2020, 12, 23, 17, 0),\n",
       " datetime.datetime(2021, 1, 12, 17, 0),\n",
       " datetime.datetime(2021, 2, 1, 17, 0)]"
      ]
     },
     "execution_count": 79,
=======
=======
>>>>>>> upstream/master
       "array([ 1,  3,  5,  7, 10])"
      ]
     },
     "execution_count": 38,
<<<<<<< HEAD
>>>>>>> upstream/master
=======
>>>>>>> upstream/master
     "metadata": {},
     "output_type": "execute_result"
    }
   ],
   "source": [
<<<<<<< HEAD
<<<<<<< HEAD
    "from datetime import datetime, date, time, timedelta\n",
    "import numpy as np\n",
    "\n",
    "\n",
    "def get_meeting_dates (period_as_timedelta, time_of_day, number_of_meetings, start_date=datetime.today()):\n",
    "    if number_of_meetings > period_as_timedelta.days:\n",
    "        raise ValueError('Too many meetings!')\n",
    "    day_deltas = np.linspace(0, period_as_timedelta.days - 1, number_of_meetings, dtype=int)\n",
    "    base_time_of_day = datetime.combine(start_date, time_of_day)\n",
    "    list_of_meetings = [base_time_of_day + timedelta(int(day_delta)) for day_delta in day_deltas]\n",
    "    \n",
    "    return list_of_meetings\n",
    "\n",
    "get_meeting_dates(timedelta(700), time(17,0), 36)"
=======
=======
>>>>>>> upstream/master
    "np.linspace(1, 10, 5, dtype=int)"
   ]
  },
  {
   "cell_type": "code",
   "execution_count": 59,
   "metadata": {
    "slideshow": {
     "slide_type": "subslide"
    }
   },
   "outputs": [
    {
     "data": {
      "text/plain": [
       "[datetime.datetime(2019, 3, 5, 17, 0)]"
      ]
     },
     "execution_count": 59,
     "metadata": {},
     "output_type": "execute_result"
    }
   ],
   "source": [
    "def get_meeting_dates(period, time_of_day, frequency, start=date.today()):\n",
    "    if frequency > period.days:\n",
    "        raise ValueError('Too many meetings!')\n",
    "    \n",
    "    day_deltas = np.linspace(0, period.days - 1, frequency, dtype=int)\n",
    "    base_time_of_day = datetime.combine(start, time_of_day)\n",
    "    list_of_meetings = [base_time_of_day + timedelta(int(day_delta)) for day_delta in day_deltas]\n",
    "    return list_of_meetings\n",
    "\n",
    "get_meeting_dates(timedelta(700), time(17, 0), 1)"
<<<<<<< HEAD
>>>>>>> upstream/master
=======
>>>>>>> upstream/master
   ]
  },
  {
   "cell_type": "markdown",
   "metadata": {
    "slideshow": {
     "slide_type": "subslide"
    }
   },
   "source": [
    "# Pandas for Time Series and Data Frames\n",
    "\n",
    "Pandas is -similar to NumPy- another library offering high-level data structures, which enable fast data analyzis. For us, the most important are probably the types `Series` and `DataFrame`, both of which are introduced in the following.  \n",
    "\n",
    "This tutorial is based on the [intro to Pandas:](http://pandas.pydata.org/pandas-docs/stable/10min.html)"
   ]
  },
  {
   "cell_type": "markdown",
<<<<<<< HEAD
   "metadata": {},
   "source": [
    "panda er god til at arbejde med struktureret dataset "
   ]
  },
  {
   "cell_type": "markdown",
=======
>>>>>>> upstream/master
   "metadata": {
    "slideshow": {
     "slide_type": "subslide"
    }
   },
   "source": [
    "\n",
    "## Pandas vs Numpy\n",
    "1. In pandas we have 1D Series and 2D DataFrame in numpy we have multi dimensional ndArrays\n",
    "2. In DataFrame we have column names (like in sql) in ndArrays we are data slicing based in indices\n",
    "3. In DataFrame we can have multiple datatypes in different columns\n",
    "![](images/pandas_vs_numpy.png)U"
   ]
  },
  {
   "cell_type": "code",
<<<<<<< HEAD
<<<<<<< HEAD
   "execution_count": 80,
=======
   "execution_count": 60,
>>>>>>> upstream/master
   "metadata": {
    "slideshow": {
     "slide_type": "subslide"
    }
   },
   "outputs": [
    {
     "name": "stdout",
     "output_type": "stream",
     "text": [
<<<<<<< HEAD
      "Requirement already satisfied: pandas in /Users/mohammahomarhariri/Library/Python/3.7/lib/python/site-packages (0.24.1)\n",
      "Requirement already satisfied: pytz>=2011k in /Users/mohammahomarhariri/Library/Python/3.7/lib/python/site-packages (from pandas) (2018.9)\n",
      "Requirement already satisfied: python-dateutil>=2.5.0 in /Users/mohammahomarhariri/Library/Python/3.7/lib/python/site-packages (from pandas) (2.8.0)\n",
      "Requirement already satisfied: numpy>=1.12.0 in /Users/mohammahomarhariri/Library/Python/3.7/lib/python/site-packages (from pandas) (1.16.2)\n",
      "Requirement already satisfied: six>=1.5 in /Users/mohammahomarhariri/Library/Python/3.7/lib/python/site-packages (from python-dateutil>=2.5.0->pandas) (1.12.0)\n"
=======
      "\u001b[31mCan not perform a '--user' install. User site-packages are not visible in this virtualenv.\u001b[0m\n",
      "\u001b[33mYou are using pip version 18.1, however version 19.0.3 is available.\n",
      "You should consider upgrading via the 'pip install --upgrade pip' command.\u001b[0m\n"
>>>>>>> upstream/master
     ]
    }
   ],
   "source": [
    "!pip3 install pandas --user"
   ]
  },
  {
   "cell_type": "markdown",
   "metadata": {
    "slideshow": {
     "slide_type": "subslide"
    }
   },
=======
   "execution_count": 23,
   "metadata": {},
   "outputs": [],
>>>>>>> upstream/master
   "source": [
    "As we will refer to Panda's classes and functions often in code, we usually import the module as `pd`."
   ]
  },
  {
   "cell_type": "code",
<<<<<<< HEAD
<<<<<<< HEAD
   "execution_count": 81,
=======
   "execution_count": 61,
>>>>>>> upstream/master
   "metadata": {
    "slideshow": {
     "slide_type": "fragment"
    }
   },
=======
   "execution_count": 24,
   "metadata": {},
>>>>>>> upstream/master
   "outputs": [],
   "source": [
    "import pandas as pd"
   ]
  },
  {
   "cell_type": "markdown",
   "metadata": {
    "slideshow": {
     "slide_type": "subslide"
    }
   },
   "source": [
    "## Learning a new framework\n",
    "\n",
    "1. Study the API\n",
    "  * https://pandas.pydata.org/pandas-docs/stable/reference/index.html"
   ]
  },
  {
   "cell_type": "markdown",
   "metadata": {
    "slideshow": {
     "slide_type": "fragment"
    }
   },
   "source": [
    "2. Use the API\n",
    "  1. Find out how to import a `.csv` file\n",
    "  2. Import the `befkbhalderstatkode.csv` into pandas\n",
    "  3. What `type` do you get out?"
   ]
  },
  {
   "cell_type": "markdown",
   "metadata": {
    "slideshow": {
     "slide_type": "subslide"
    }
   },
   "source": [
    "## Getting data with Pandas\n",
    "\n",
    "https://pandas.pydata.org/pandas-docs/stable/reference/io.html\n",
    "\n",
    "```python\n",
    "pd.read_csv(...)\n",
    "```"
   ]
  },
  {
   "cell_type": "code",
<<<<<<< HEAD
<<<<<<< HEAD
   "execution_count": 82,
=======
   "execution_count": 62,
>>>>>>> upstream/master
   "metadata": {
    "slideshow": {
     "slide_type": "subslide"
    }
   },
   "outputs": [
    {
     "data": {
<<<<<<< HEAD
      "text/plain": [
       "pandas.core.series.Series"
      ]
     },
     "execution_count": 82,
=======
      "text/html": [
       "<div>\n",
       "<style scoped>\n",
       "    .dataframe tbody tr th:only-of-type {\n",
       "        vertical-align: middle;\n",
       "    }\n",
       "\n",
       "    .dataframe tbody tr th {\n",
       "        vertical-align: top;\n",
       "    }\n",
       "\n",
       "    .dataframe thead th {\n",
       "        text-align: right;\n",
       "    }\n",
       "</style>\n",
       "<table border=\"1\" class=\"dataframe\">\n",
       "  <thead>\n",
       "    <tr style=\"text-align: right;\">\n",
       "      <th></th>\n",
       "      <th>AAR</th>\n",
       "      <th>BYDEL</th>\n",
       "      <th>ALDER</th>\n",
       "      <th>STATKODE</th>\n",
       "      <th>PERSONER</th>\n",
       "    </tr>\n",
       "  </thead>\n",
       "  <tbody>\n",
       "    <tr>\n",
       "      <th>0</th>\n",
       "      <td>2015</td>\n",
       "      <td>1</td>\n",
       "      <td>0</td>\n",
       "      <td>5100</td>\n",
       "      <td>614</td>\n",
       "    </tr>\n",
       "    <tr>\n",
       "      <th>1</th>\n",
       "      <td>2015</td>\n",
       "      <td>1</td>\n",
       "      <td>0</td>\n",
       "      <td>5104</td>\n",
       "      <td>2</td>\n",
       "    </tr>\n",
       "    <tr>\n",
       "      <th>2</th>\n",
       "      <td>2015</td>\n",
       "      <td>1</td>\n",
       "      <td>0</td>\n",
       "      <td>5106</td>\n",
       "      <td>1</td>\n",
       "    </tr>\n",
       "    <tr>\n",
       "      <th>3</th>\n",
       "      <td>2015</td>\n",
       "      <td>1</td>\n",
       "      <td>0</td>\n",
       "      <td>5110</td>\n",
       "      <td>1</td>\n",
       "    </tr>\n",
       "    <tr>\n",
       "      <th>4</th>\n",
       "      <td>2015</td>\n",
       "      <td>1</td>\n",
       "      <td>0</td>\n",
       "      <td>5120</td>\n",
       "      <td>4</td>\n",
       "    </tr>\n",
       "    <tr>\n",
       "      <th>5</th>\n",
       "      <td>2015</td>\n",
       "      <td>1</td>\n",
       "      <td>0</td>\n",
       "      <td>5126</td>\n",
       "      <td>1</td>\n",
       "    </tr>\n",
       "    <tr>\n",
       "      <th>6</th>\n",
       "      <td>2015</td>\n",
       "      <td>1</td>\n",
       "      <td>0</td>\n",
       "      <td>5130</td>\n",
       "      <td>5</td>\n",
       "    </tr>\n",
       "    <tr>\n",
       "      <th>7</th>\n",
       "      <td>2015</td>\n",
       "      <td>1</td>\n",
       "      <td>0</td>\n",
       "      <td>5140</td>\n",
       "      <td>3</td>\n",
       "    </tr>\n",
       "    <tr>\n",
       "      <th>8</th>\n",
       "      <td>2015</td>\n",
       "      <td>1</td>\n",
       "      <td>0</td>\n",
       "      <td>5150</td>\n",
       "      <td>5</td>\n",
       "    </tr>\n",
       "    <tr>\n",
       "      <th>9</th>\n",
       "      <td>2015</td>\n",
       "      <td>1</td>\n",
       "      <td>0</td>\n",
       "      <td>5154</td>\n",
       "      <td>1</td>\n",
       "    </tr>\n",
       "    <tr>\n",
       "      <th>10</th>\n",
       "      <td>2015</td>\n",
       "      <td>1</td>\n",
       "      <td>0</td>\n",
       "      <td>5164</td>\n",
       "      <td>3</td>\n",
       "    </tr>\n",
       "    <tr>\n",
       "      <th>11</th>\n",
       "      <td>2015</td>\n",
       "      <td>1</td>\n",
       "      <td>0</td>\n",
       "      <td>5170</td>\n",
       "      <td>3</td>\n",
       "    </tr>\n",
       "    <tr>\n",
       "      <th>12</th>\n",
       "      <td>2015</td>\n",
       "      <td>1</td>\n",
       "      <td>0</td>\n",
       "      <td>5180</td>\n",
       "      <td>3</td>\n",
       "    </tr>\n",
       "    <tr>\n",
       "      <th>13</th>\n",
       "      <td>2015</td>\n",
       "      <td>1</td>\n",
       "      <td>0</td>\n",
       "      <td>5228</td>\n",
       "      <td>1</td>\n",
       "    </tr>\n",
       "    <tr>\n",
       "      <th>14</th>\n",
       "      <td>2015</td>\n",
       "      <td>1</td>\n",
       "      <td>0</td>\n",
       "      <td>5306</td>\n",
       "      <td>2</td>\n",
       "    </tr>\n",
       "    <tr>\n",
       "      <th>15</th>\n",
       "      <td>2015</td>\n",
       "      <td>1</td>\n",
       "      <td>0</td>\n",
       "      <td>5390</td>\n",
       "      <td>1</td>\n",
       "    </tr>\n",
       "    <tr>\n",
       "      <th>16</th>\n",
       "      <td>2015</td>\n",
       "      <td>1</td>\n",
       "      <td>0</td>\n",
       "      <td>5448</td>\n",
       "      <td>1</td>\n",
       "    </tr>\n",
       "    <tr>\n",
       "      <th>17</th>\n",
       "      <td>2015</td>\n",
       "      <td>1</td>\n",
       "      <td>0</td>\n",
       "      <td>5464</td>\n",
       "      <td>1</td>\n",
       "    </tr>\n",
       "    <tr>\n",
       "      <th>18</th>\n",
       "      <td>2015</td>\n",
       "      <td>1</td>\n",
       "      <td>0</td>\n",
       "      <td>5472</td>\n",
       "      <td>1</td>\n",
       "    </tr>\n",
       "    <tr>\n",
       "      <th>19</th>\n",
       "      <td>2015</td>\n",
       "      <td>1</td>\n",
       "      <td>0</td>\n",
       "      <td>5502</td>\n",
       "      <td>1</td>\n",
       "    </tr>\n",
       "    <tr>\n",
       "      <th>20</th>\n",
       "      <td>2015</td>\n",
       "      <td>1</td>\n",
       "      <td>0</td>\n",
       "      <td>5704</td>\n",
       "      <td>1</td>\n",
       "    </tr>\n",
       "    <tr>\n",
       "      <th>21</th>\n",
       "      <td>2015</td>\n",
       "      <td>1</td>\n",
       "      <td>0</td>\n",
       "      <td>5752</td>\n",
       "      <td>1</td>\n",
       "    </tr>\n",
       "    <tr>\n",
       "      <th>22</th>\n",
       "      <td>2015</td>\n",
       "      <td>1</td>\n",
       "      <td>1</td>\n",
       "      <td>5100</td>\n",
       "      <td>540</td>\n",
       "    </tr>\n",
       "    <tr>\n",
       "      <th>23</th>\n",
       "      <td>2015</td>\n",
       "      <td>1</td>\n",
       "      <td>1</td>\n",
       "      <td>5104</td>\n",
       "      <td>3</td>\n",
       "    </tr>\n",
       "    <tr>\n",
       "      <th>24</th>\n",
       "      <td>2015</td>\n",
       "      <td>1</td>\n",
       "      <td>1</td>\n",
       "      <td>5106</td>\n",
       "      <td>2</td>\n",
       "    </tr>\n",
       "    <tr>\n",
       "      <th>25</th>\n",
       "      <td>2015</td>\n",
       "      <td>1</td>\n",
       "      <td>1</td>\n",
       "      <td>5110</td>\n",
       "      <td>3</td>\n",
       "    </tr>\n",
       "    <tr>\n",
       "      <th>26</th>\n",
       "      <td>2015</td>\n",
       "      <td>1</td>\n",
       "      <td>1</td>\n",
       "      <td>5120</td>\n",
       "      <td>4</td>\n",
       "    </tr>\n",
       "    <tr>\n",
       "      <th>27</th>\n",
       "      <td>2015</td>\n",
       "      <td>1</td>\n",
       "      <td>1</td>\n",
       "      <td>5130</td>\n",
       "      <td>3</td>\n",
       "    </tr>\n",
       "    <tr>\n",
       "      <th>28</th>\n",
       "      <td>2015</td>\n",
       "      <td>1</td>\n",
       "      <td>1</td>\n",
       "      <td>5140</td>\n",
       "      <td>1</td>\n",
       "    </tr>\n",
       "    <tr>\n",
       "      <th>29</th>\n",
       "      <td>2015</td>\n",
       "      <td>1</td>\n",
       "      <td>1</td>\n",
       "      <td>5142</td>\n",
       "      <td>1</td>\n",
       "    </tr>\n",
       "    <tr>\n",
       "      <th>...</th>\n",
       "      <td>...</td>\n",
       "      <td>...</td>\n",
       "      <td>...</td>\n",
       "      <td>...</td>\n",
       "      <td>...</td>\n",
       "    </tr>\n",
       "    <tr>\n",
       "      <th>542487</th>\n",
       "      <td>1992</td>\n",
       "      <td>99</td>\n",
       "      <td>65</td>\n",
       "      <td>5314</td>\n",
       "      <td>1</td>\n",
       "    </tr>\n",
       "    <tr>\n",
       "      <th>542488</th>\n",
       "      <td>1992</td>\n",
       "      <td>99</td>\n",
       "      <td>65</td>\n",
       "      <td>5432</td>\n",
       "      <td>1</td>\n",
       "    </tr>\n",
       "    <tr>\n",
       "      <th>542489</th>\n",
       "      <td>1992</td>\n",
       "      <td>99</td>\n",
       "      <td>66</td>\n",
       "      <td>5100</td>\n",
       "      <td>6</td>\n",
       "    </tr>\n",
       "    <tr>\n",
       "      <th>542490</th>\n",
       "      <td>1992</td>\n",
       "      <td>99</td>\n",
       "      <td>67</td>\n",
       "      <td>5100</td>\n",
       "      <td>8</td>\n",
       "    </tr>\n",
       "    <tr>\n",
       "      <th>542491</th>\n",
       "      <td>1992</td>\n",
       "      <td>99</td>\n",
       "      <td>67</td>\n",
       "      <td>5438</td>\n",
       "      <td>2</td>\n",
       "    </tr>\n",
       "    <tr>\n",
       "      <th>542492</th>\n",
       "      <td>1992</td>\n",
       "      <td>99</td>\n",
       "      <td>68</td>\n",
       "      <td>5100</td>\n",
       "      <td>4</td>\n",
       "    </tr>\n",
       "    <tr>\n",
       "      <th>542493</th>\n",
       "      <td>1992</td>\n",
       "      <td>99</td>\n",
       "      <td>68</td>\n",
       "      <td>5438</td>\n",
       "      <td>1</td>\n",
       "    </tr>\n",
       "    <tr>\n",
       "      <th>542494</th>\n",
       "      <td>1992</td>\n",
       "      <td>99</td>\n",
       "      <td>69</td>\n",
       "      <td>5100</td>\n",
       "      <td>4</td>\n",
       "    </tr>\n",
       "    <tr>\n",
       "      <th>542495</th>\n",
       "      <td>1992</td>\n",
       "      <td>99</td>\n",
       "      <td>69</td>\n",
       "      <td>5172</td>\n",
       "      <td>1</td>\n",
       "    </tr>\n",
       "    <tr>\n",
       "      <th>542496</th>\n",
       "      <td>1992</td>\n",
       "      <td>99</td>\n",
       "      <td>69</td>\n",
       "      <td>5438</td>\n",
       "      <td>1</td>\n",
       "    </tr>\n",
       "    <tr>\n",
       "      <th>542497</th>\n",
       "      <td>1992</td>\n",
       "      <td>99</td>\n",
       "      <td>70</td>\n",
       "      <td>5100</td>\n",
       "      <td>6</td>\n",
       "    </tr>\n",
       "    <tr>\n",
       "      <th>542498</th>\n",
       "      <td>1992</td>\n",
       "      <td>99</td>\n",
       "      <td>70</td>\n",
       "      <td>5390</td>\n",
       "      <td>1</td>\n",
       "    </tr>\n",
       "    <tr>\n",
       "      <th>542499</th>\n",
       "      <td>1992</td>\n",
       "      <td>99</td>\n",
       "      <td>71</td>\n",
       "      <td>5100</td>\n",
       "      <td>6</td>\n",
       "    </tr>\n",
       "    <tr>\n",
       "      <th>542500</th>\n",
       "      <td>1992</td>\n",
       "      <td>99</td>\n",
       "      <td>72</td>\n",
       "      <td>5100</td>\n",
       "      <td>1</td>\n",
       "    </tr>\n",
       "    <tr>\n",
       "      <th>542501</th>\n",
       "      <td>1992</td>\n",
       "      <td>99</td>\n",
       "      <td>72</td>\n",
       "      <td>5103</td>\n",
       "      <td>1</td>\n",
       "    </tr>\n",
       "    <tr>\n",
       "      <th>542502</th>\n",
       "      <td>1992</td>\n",
       "      <td>99</td>\n",
       "      <td>73</td>\n",
       "      <td>5100</td>\n",
       "      <td>4</td>\n",
       "    </tr>\n",
       "    <tr>\n",
       "      <th>542503</th>\n",
       "      <td>1992</td>\n",
       "      <td>99</td>\n",
       "      <td>74</td>\n",
       "      <td>5100</td>\n",
       "      <td>3</td>\n",
       "    </tr>\n",
       "    <tr>\n",
       "      <th>542504</th>\n",
       "      <td>1992</td>\n",
       "      <td>99</td>\n",
       "      <td>74</td>\n",
       "      <td>5272</td>\n",
       "      <td>1</td>\n",
       "    </tr>\n",
       "    <tr>\n",
       "      <th>542505</th>\n",
       "      <td>1992</td>\n",
       "      <td>99</td>\n",
       "      <td>75</td>\n",
       "      <td>5100</td>\n",
       "      <td>6</td>\n",
       "    </tr>\n",
       "    <tr>\n",
       "      <th>542506</th>\n",
       "      <td>1992</td>\n",
       "      <td>99</td>\n",
       "      <td>76</td>\n",
       "      <td>5100</td>\n",
       "      <td>3</td>\n",
       "    </tr>\n",
       "    <tr>\n",
       "      <th>542507</th>\n",
       "      <td>1992</td>\n",
       "      <td>99</td>\n",
       "      <td>76</td>\n",
       "      <td>5272</td>\n",
       "      <td>1</td>\n",
       "    </tr>\n",
       "    <tr>\n",
       "      <th>542508</th>\n",
       "      <td>1992</td>\n",
       "      <td>99</td>\n",
       "      <td>77</td>\n",
       "      <td>5100</td>\n",
       "      <td>1</td>\n",
       "    </tr>\n",
       "    <tr>\n",
       "      <th>542509</th>\n",
       "      <td>1992</td>\n",
       "      <td>99</td>\n",
       "      <td>78</td>\n",
       "      <td>5100</td>\n",
       "      <td>5</td>\n",
       "    </tr>\n",
       "    <tr>\n",
       "      <th>542510</th>\n",
       "      <td>1992</td>\n",
       "      <td>99</td>\n",
       "      <td>79</td>\n",
       "      <td>5100</td>\n",
       "      <td>2</td>\n",
       "    </tr>\n",
       "    <tr>\n",
       "      <th>542511</th>\n",
       "      <td>1992</td>\n",
       "      <td>99</td>\n",
       "      <td>80</td>\n",
       "      <td>5100</td>\n",
       "      <td>1</td>\n",
       "    </tr>\n",
       "    <tr>\n",
       "      <th>542512</th>\n",
       "      <td>1992</td>\n",
       "      <td>99</td>\n",
       "      <td>81</td>\n",
       "      <td>5100</td>\n",
       "      <td>1</td>\n",
       "    </tr>\n",
       "    <tr>\n",
       "      <th>542513</th>\n",
       "      <td>1992</td>\n",
       "      <td>99</td>\n",
       "      <td>87</td>\n",
       "      <td>5100</td>\n",
       "      <td>2</td>\n",
       "    </tr>\n",
       "    <tr>\n",
       "      <th>542514</th>\n",
       "      <td>1992</td>\n",
       "      <td>99</td>\n",
       "      <td>89</td>\n",
       "      <td>5100</td>\n",
       "      <td>1</td>\n",
       "    </tr>\n",
       "    <tr>\n",
       "      <th>542515</th>\n",
       "      <td>1992</td>\n",
       "      <td>99</td>\n",
       "      <td>90</td>\n",
       "      <td>5180</td>\n",
       "      <td>1</td>\n",
       "    </tr>\n",
       "    <tr>\n",
       "      <th>542516</th>\n",
       "      <td>1992</td>\n",
       "      <td>99</td>\n",
       "      <td>93</td>\n",
       "      <td>5100</td>\n",
       "      <td>1</td>\n",
       "    </tr>\n",
       "  </tbody>\n",
       "</table>\n",
       "<p>542517 rows × 5 columns</p>\n",
       "</div>"
      ],
      "text/plain": [
       "         AAR  BYDEL  ALDER  STATKODE  PERSONER\n",
       "0       2015      1      0      5100       614\n",
       "1       2015      1      0      5104         2\n",
       "2       2015      1      0      5106         1\n",
       "3       2015      1      0      5110         1\n",
       "4       2015      1      0      5120         4\n",
       "5       2015      1      0      5126         1\n",
       "6       2015      1      0      5130         5\n",
       "7       2015      1      0      5140         3\n",
       "8       2015      1      0      5150         5\n",
       "9       2015      1      0      5154         1\n",
       "10      2015      1      0      5164         3\n",
       "11      2015      1      0      5170         3\n",
       "12      2015      1      0      5180         3\n",
       "13      2015      1      0      5228         1\n",
       "14      2015      1      0      5306         2\n",
       "15      2015      1      0      5390         1\n",
       "16      2015      1      0      5448         1\n",
       "17      2015      1      0      5464         1\n",
       "18      2015      1      0      5472         1\n",
       "19      2015      1      0      5502         1\n",
       "20      2015      1      0      5704         1\n",
       "21      2015      1      0      5752         1\n",
       "22      2015      1      1      5100       540\n",
       "23      2015      1      1      5104         3\n",
       "24      2015      1      1      5106         2\n",
       "25      2015      1      1      5110         3\n",
       "26      2015      1      1      5120         4\n",
       "27      2015      1      1      5130         3\n",
       "28      2015      1      1      5140         1\n",
       "29      2015      1      1      5142         1\n",
       "...      ...    ...    ...       ...       ...\n",
       "542487  1992     99     65      5314         1\n",
       "542488  1992     99     65      5432         1\n",
       "542489  1992     99     66      5100         6\n",
       "542490  1992     99     67      5100         8\n",
       "542491  1992     99     67      5438         2\n",
       "542492  1992     99     68      5100         4\n",
       "542493  1992     99     68      5438         1\n",
       "542494  1992     99     69      5100         4\n",
       "542495  1992     99     69      5172         1\n",
       "542496  1992     99     69      5438         1\n",
       "542497  1992     99     70      5100         6\n",
       "542498  1992     99     70      5390         1\n",
       "542499  1992     99     71      5100         6\n",
       "542500  1992     99     72      5100         1\n",
       "542501  1992     99     72      5103         1\n",
       "542502  1992     99     73      5100         4\n",
       "542503  1992     99     74      5100         3\n",
       "542504  1992     99     74      5272         1\n",
       "542505  1992     99     75      5100         6\n",
       "542506  1992     99     76      5100         3\n",
       "542507  1992     99     76      5272         1\n",
       "542508  1992     99     77      5100         1\n",
       "542509  1992     99     78      5100         5\n",
       "542510  1992     99     79      5100         2\n",
       "542511  1992     99     80      5100         1\n",
       "542512  1992     99     81      5100         1\n",
       "542513  1992     99     87      5100         2\n",
       "542514  1992     99     89      5100         1\n",
       "542515  1992     99     90      5180         1\n",
       "542516  1992     99     93      5100         1\n",
       "\n",
       "[542517 rows x 5 columns]"
      ]
     },
     "execution_count": 62,
>>>>>>> upstream/master
     "metadata": {},
     "output_type": "execute_result"
    }
   ],
   "source": [
    "type(pd.read_csv('befkbhalderstatkode.csv').ALDER)"
   ]
  },
  {
   "cell_type": "code",
<<<<<<< HEAD
   "execution_count": 83,
=======
   "execution_count": 63,
>>>>>>> upstream/master
   "metadata": {
    "slideshow": {
     "slide_type": "subslide"
    }
   },
   "outputs": [],
   "source": [
    "data_frame = pd.read_csv('befkbhalderstatkode.csv')"
   ]
  },
  {
   "cell_type": "code",
<<<<<<< HEAD
   "execution_count": 84,
=======
   "execution_count": 67,
>>>>>>> upstream/master
   "metadata": {
    "slideshow": {
     "slide_type": "fragment"
=======
   "execution_count": 25,
   "metadata": {},
   "outputs": [],
   "source": [
    "data_frame = pd.read_csv('befkbhalderstatkode.csv')"
   ]
  },
  {
   "cell_type": "code",
   "execution_count": 67,
   "metadata": {
    "slideshow": {
     "slide_type": "fragment"
>>>>>>> upstream/master
    }
   },
   "outputs": [
    {
     "data": {
      "text/html": [
       "<div>\n",
       "<style scoped>\n",
       "    .dataframe tbody tr th:only-of-type {\n",
       "        vertical-align: middle;\n",
       "    }\n",
       "\n",
       "    .dataframe tbody tr th {\n",
       "        vertical-align: top;\n",
       "    }\n",
       "\n",
       "    .dataframe thead th {\n",
       "        text-align: right;\n",
       "    }\n",
       "</style>\n",
       "<table border=\"1\" class=\"dataframe\">\n",
       "  <thead>\n",
       "    <tr style=\"text-align: right;\">\n",
       "      <th></th>\n",
       "      <th>AAR</th>\n",
       "      <th>BYDEL</th>\n",
       "      <th>ALDER</th>\n",
       "      <th>STATKODE</th>\n",
       "      <th>PERSONER</th>\n",
       "    </tr>\n",
       "  </thead>\n",
       "  <tbody>\n",
       "    <tr>\n",
       "      <th>0</th>\n",
       "      <td>2015</td>\n",
       "      <td>1</td>\n",
       "      <td>0</td>\n",
       "      <td>5100</td>\n",
       "      <td>614</td>\n",
       "    </tr>\n",
       "    <tr>\n",
       "      <th>1</th>\n",
       "      <td>2015</td>\n",
       "      <td>1</td>\n",
       "      <td>0</td>\n",
       "      <td>5104</td>\n",
       "      <td>2</td>\n",
       "    </tr>\n",
       "    <tr>\n",
       "      <th>2</th>\n",
       "      <td>2015</td>\n",
       "      <td>1</td>\n",
       "      <td>0</td>\n",
       "      <td>5106</td>\n",
       "      <td>1</td>\n",
       "    </tr>\n",
       "    <tr>\n",
       "      <th>3</th>\n",
       "      <td>2015</td>\n",
       "      <td>1</td>\n",
       "      <td>0</td>\n",
       "      <td>5110</td>\n",
       "      <td>1</td>\n",
       "    </tr>\n",
       "    <tr>\n",
       "      <th>4</th>\n",
       "      <td>2015</td>\n",
       "      <td>1</td>\n",
       "      <td>0</td>\n",
       "      <td>5120</td>\n",
       "      <td>4</td>\n",
       "    </tr>\n",
       "  </tbody>\n",
       "</table>\n",
       "</div>"
      ],
      "text/plain": [
       "    AAR  BYDEL  ALDER  STATKODE  PERSONER\n",
       "0  2015      1      0      5100       614\n",
       "1  2015      1      0      5104         2\n",
       "2  2015      1      0      5106         1\n",
       "3  2015      1      0      5110         1\n",
       "4  2015      1      0      5120         4"
      ]
     },
     "execution_count": 67,
     "metadata": {},
     "output_type": "execute_result"
    }
   ],
   "source": [
    "df = pd.read_csv('befkbhalderstatkode.csv')\n",
    "df.head()"
   ]
  },
  {
   "cell_type": "markdown",
   "metadata": {
    "slideshow": {
     "slide_type": "subslide"
    }
   },
   "source": [
    "* What are the columns in the dataset?"
   ]
  },
  {
   "cell_type": "code",
<<<<<<< HEAD
<<<<<<< HEAD
   "execution_count": 85,
=======
   "execution_count": 68,
>>>>>>> upstream/master
=======
   "execution_count": 68,
>>>>>>> upstream/master
   "metadata": {
    "slideshow": {
     "slide_type": "fragment"
    }
   },
   "outputs": [
    {
     "data": {
      "text/plain": [
       "Index(['AAR', 'BYDEL', 'ALDER', 'STATKODE', 'PERSONER'], dtype='object')"
      ]
     },
<<<<<<< HEAD
<<<<<<< HEAD
     "execution_count": 85,
=======
     "execution_count": 68,
>>>>>>> upstream/master
=======
     "execution_count": 68,
>>>>>>> upstream/master
     "metadata": {},
     "output_type": "execute_result"
    }
   ],
   "source": [
    "df.columns"
   ]
  },
  {
   "cell_type": "code",
<<<<<<< HEAD
<<<<<<< HEAD
   "execution_count": 86,
=======
   "execution_count": 69,
>>>>>>> upstream/master
=======
   "execution_count": 69,
>>>>>>> upstream/master
   "metadata": {
    "slideshow": {
     "slide_type": "subslide"
    }
   },
   "outputs": [
    {
     "data": {
      "text/plain": [
       "pandas.core.frame.DataFrame"
      ]
     },
<<<<<<< HEAD
<<<<<<< HEAD
     "execution_count": 86,
=======
     "execution_count": 69,
>>>>>>> upstream/master
=======
     "execution_count": 69,
>>>>>>> upstream/master
     "metadata": {},
     "output_type": "execute_result"
    }
   ],
   "source": [
    "type(df)"
   ]
  },
  {
   "cell_type": "markdown",
   "metadata": {
    "slideshow": {
     "slide_type": "subslide"
    }
   },
   "source": [
    "* What is the dimensionality of the dataframe?"
   ]
  },
  {
   "cell_type": "code",
<<<<<<< HEAD
<<<<<<< HEAD
   "execution_count": 87,
=======
   "execution_count": 70,
>>>>>>> upstream/master
=======
   "execution_count": 70,
>>>>>>> upstream/master
   "metadata": {
    "slideshow": {
     "slide_type": "fragment"
    }
   },
   "outputs": [
    {
     "data": {
      "text/plain": [
       "(542517, 5)"
      ]
     },
<<<<<<< HEAD
<<<<<<< HEAD
     "execution_count": 87,
=======
     "execution_count": 70,
>>>>>>> upstream/master
=======
     "execution_count": 70,
>>>>>>> upstream/master
     "metadata": {},
     "output_type": "execute_result"
    }
   ],
   "source": [
    "df.shape"
   ]
  },
  {
   "cell_type": "markdown",
   "metadata": {
    "slideshow": {
     "slide_type": "subslide"
    }
   },
   "source": [
    "What type is \n",
    "```python\n",
    "df['ALDER']\n",
    "```\n",
    "?"
   ]
  },
  {
   "cell_type": "code",
<<<<<<< HEAD
<<<<<<< HEAD
   "execution_count": 88,
=======
   "execution_count": 71,
>>>>>>> upstream/master
   "metadata": {
    "scrolled": true,
=======
   "execution_count": 71,
   "metadata": {
>>>>>>> upstream/master
    "slideshow": {
     "slide_type": "fragment"
    }
   },
   "outputs": [
    {
     "data": {
      "text/plain": [
       "pandas.core.series.Series"
      ]
     },
<<<<<<< HEAD
<<<<<<< HEAD
     "execution_count": 88,
=======
     "execution_count": 71,
>>>>>>> upstream/master
=======
     "execution_count": 71,
>>>>>>> upstream/master
     "metadata": {},
     "output_type": "execute_result"
    }
   ],
   "source": [
    "type(df['ALDER'])"
   ]
  },
  {
   "cell_type": "code",
<<<<<<< HEAD
<<<<<<< HEAD
   "execution_count": 89,
=======
   "execution_count": 72,
>>>>>>> upstream/master
=======
   "execution_count": 72,
>>>>>>> upstream/master
   "metadata": {
    "slideshow": {
     "slide_type": "fragment"
    }
   },
   "outputs": [
    {
     "data": {
      "text/plain": [
       "pandas.core.series.Series"
      ]
     },
<<<<<<< HEAD
<<<<<<< HEAD
     "execution_count": 89,
=======
     "execution_count": 72,
>>>>>>> upstream/master
=======
     "execution_count": 72,
>>>>>>> upstream/master
     "metadata": {},
     "output_type": "execute_result"
    }
   ],
   "source": [
    "type(df.iloc[:,0])"
   ]
  },
  {
   "cell_type": "markdown",
   "metadata": {
    "slideshow": {
     "slide_type": "subslide"
    }
   },
   "source": [
    "## `Series`\n",
    "\n",
<<<<<<< HEAD
    "A `Series` is a one-dimensional labeled array capable of holding any data type (integers, strings, floating point numbers, Python objects, etc.). The axis labels are collectively referred to as the index.\n",
=======
    "A `Series` is a labeled array (one-dimensional ndarrays with axis-labels) capable of holding any data type (integers, strings, floating point numbers, Python objects, etc.). The axis labels are collectively referred to as the index. The data structure is similar to the python dictionary, but it differs in that pandas series has a lot of methods for complex data manipulation.\n",
>>>>>>> upstream/master
    "\n",
    "http://pandas.pydata.org/pandas-docs/stable/dsintro.html#series\n",
    "\n",
    "You can create a Series by passing a list of values, letting Pandas create a default integer index."
   ]
  },
  {
   "cell_type": "code",
<<<<<<< HEAD
<<<<<<< HEAD
   "execution_count": 90,
=======
   "execution_count": 73,
>>>>>>> upstream/master
   "metadata": {
    "slideshow": {
     "slide_type": "subslide"
    }
   },
=======
   "execution_count": 69,
   "metadata": {},
>>>>>>> upstream/master
   "outputs": [
    {
     "name": "stdout",
     "output_type": "stream",
     "text": [
      "0       1\n",
      "1       3\n",
      "2       5\n",
      "3     NaN\n",
      "4    seks\n",
      "5       8\n",
      "dtype: object \n",
      "---------------------\n",
      "6    seks\n",
      "5     fem\n",
      "4    fire\n",
      "dtype: object\n"
     ]
    }
   ],
   "source": [
    "s = pd.Series([1, 3, 5, np.nan, 'seks', 8])\n",
    "print(s,'\\n---------------------')\n",
<<<<<<< HEAD
    "s = pd.Series(['seks','fem','fire'],[6,5,4])\n",
=======
    "s = pd.Series(['seks','fem','fire'],[6,5,4]) # in pd.Series we can provide any keys we like to the data\n",
>>>>>>> upstream/master
    "print(s)"
   ]
  },
  {
   "cell_type": "markdown",
   "metadata": {
    "slideshow": {
     "slide_type": "subslide"
    }
   },
   "source": [
    "* Get the second element of the third column in the `befkbhalderstatkode.csv` dataset."
   ]
  },
  {
   "cell_type": "code",
<<<<<<< HEAD
<<<<<<< HEAD
   "execution_count": 91,
   "metadata": {},
   "outputs": [
    {
     "data": {
      "text/plain": [
       "0"
      ]
     },
     "execution_count": 91,
     "metadata": {},
     "output_type": "execute_result"
    }
   ],
   "source": [
    "df.iloc[1][2]"
   ]
  },
  {
   "cell_type": "code",
   "execution_count": 92,
=======
   "execution_count": 74,
>>>>>>> upstream/master
=======
   "execution_count": 74,
>>>>>>> upstream/master
   "metadata": {
    "slideshow": {
     "slide_type": "fragment"
    }
   },
   "outputs": [
    {
     "data": {
      "text/plain": [
       "0"
      ]
     },
<<<<<<< HEAD
<<<<<<< HEAD
     "execution_count": 92,
=======
     "execution_count": 74,
>>>>>>> upstream/master
=======
     "execution_count": 74,
>>>>>>> upstream/master
     "metadata": {},
     "output_type": "execute_result"
    }
   ],
   "source": [
    "df['ALDER'][1]"
   ]
  },
  {
   "cell_type": "markdown",
   "metadata": {
    "slideshow": {
     "slide_type": "subslide"
    }
   },
   "source": [
    "* Get the second element of the third column using the `iloc` method"
   ]
  },
  {
   "cell_type": "code",
<<<<<<< HEAD
<<<<<<< HEAD
   "execution_count": 93,
=======
   "execution_count": 75,
>>>>>>> upstream/master
=======
   "execution_count": 75,
>>>>>>> upstream/master
   "metadata": {
    "slideshow": {
     "slide_type": "fragment"
    }
   },
   "outputs": [
    {
     "data": {
      "text/plain": [
       "0"
      ]
     },
<<<<<<< HEAD
<<<<<<< HEAD
     "execution_count": 93,
=======
     "execution_count": 75,
>>>>>>> upstream/master
=======
     "execution_count": 75,
>>>>>>> upstream/master
     "metadata": {},
     "output_type": "execute_result"
    }
   ],
   "source": [
    "df.iloc[1][2]"
   ]
  },
  {
   "cell_type": "markdown",
   "metadata": {
    "slideshow": {
     "slide_type": "subslide"
    }
   },
   "source": [
    "## World bank data\n",
    "For the following example introducing `Series` we will collect some open data from the World Bank, see http://data.worldbank.org/?locations=DK-UY. This dataset includes a plethora of interesting data. However, for this example we will focus on the *CO2 emissions*.\n",
    "\n",
    "First, we have to download the data. We do this by writing the response to a request to the World Bank API into a file. As denoted in the response header, we receive a ZIP file."
   ]
  },
  {
   "cell_type": "code",
<<<<<<< HEAD
   "execution_count": 94,
   "metadata": {
    "slideshow": {
     "slide_type": "subslide"
    }
   },
=======
   "execution_count": 70,
   "metadata": {},
>>>>>>> upstream/master
   "outputs": [
    {
     "name": "stdout",
     "output_type": "stream",
     "text": [
<<<<<<< HEAD
      "Requirement already satisfied: requests in /usr/local/lib/python3.7/site-packages (2.21.0)\n",
      "Requirement already satisfied: chardet<3.1.0,>=3.0.2 in /usr/local/lib/python3.7/site-packages (from requests) (3.0.4)\n",
      "Requirement already satisfied: urllib3<1.25,>=1.21.1 in /usr/local/lib/python3.7/site-packages (from requests) (1.24.1)\n",
      "Requirement already satisfied: idna<2.9,>=2.5 in /usr/local/lib/python3.7/site-packages (from requests) (2.8)\n",
      "Requirement already satisfied: certifi>=2017.4.17 in /usr/local/lib/python3.7/site-packages (from requests) (2018.11.29)\n"
=======
      "{'Strict-Transport-Security': 'max-age=31536000; includeSubDomains', 'X-XSS-Protection': '1; mode=block', 'Set-Cookie': 'TS019266c8=017189f94751f35decd7cccb47c302f2b83f4d16480659ac1f83c681f02dd23135ef545239; Path=/', 'Date': 'Tue, 05 Mar 2019 07:08:25 GMT', 'Content-Type': 'application/zip', 'X-Content-Type-Options': 'nosniff', 'X-Powered-By': 'ASP.NET', 'Connection': 'keep-alive', 'Content-Length': '75906', 'X-Frame-Options': 'deny', 'Content-Disposition': 'attachment; filename=API_EN.ATM.CO2E.KT_DS2_en_csv_v2_10473877.zip'}\n",
      "-----------------\n",
      "Downloaded API_EN.ATM.CO2E.KT_DS2_en_csv_v2_10473877.zip\n"
>>>>>>> upstream/master
     ]
    }
   ],
   "source": [
    "!pip3 install requests"
   ]
  },
  {
   "cell_type": "code",
<<<<<<< HEAD
<<<<<<< HEAD
   "execution_count": 95,
=======
   "execution_count": 76,
>>>>>>> upstream/master
=======
   "execution_count": 76,
>>>>>>> upstream/master
   "metadata": {
    "slideshow": {
     "slide_type": "subslide"
    }
   },
   "outputs": [
    {
     "name": "stdout",
     "output_type": "stream",
     "text": [
<<<<<<< HEAD
<<<<<<< HEAD
      "{'Date': 'Tue, 05 Mar 2019 14:06:06 GMT', 'Content-Type': 'application/zip', 'Content-Length': '75906', 'Connection': 'keep-alive', 'Content-Disposition': 'attachment; filename=API_EN.ATM.CO2E.KT_DS2_en_csv_v2_10473877.zip', 'X-Powered-By': 'ASP.NET', 'Set-Cookie': 'TS019266c8=017189f94741b5e54a1724d61d466982cc65c2f0c00738a8aa69bf3c3fed684c4cbcfaf3ae; Path=/', 'Strict-Transport-Security': 'max-age=31536000; includeSubDomains', 'X-XSS-Protection': '1; mode=block', 'X-Content-Type-Options': 'nosniff', 'X-Frame-Options': 'deny'}\n"
=======
      "{'Date': 'Tue, 05 Mar 2019 13:41:15 GMT', 'Content-Type': 'application/zip', 'Content-Length': '75906', 'Connection': 'keep-alive', 'Content-Disposition': 'attachment; filename=API_EN.ATM.CO2E.KT_DS2_en_csv_v2_10473877.zip', 'X-Powered-By': 'ASP.NET', 'Set-Cookie': 'TS01fa65e4=01359ee976b3f1bcfdca3e75dea0a7899a83dc9fc860dae804a707c30639d5910dbf8f42d0; Path=/', 'Strict-Transport-Security': 'max-age=31536000; includeSubDomains', 'X-XSS-Protection': '1; mode=block', 'X-Content-Type-Options': 'nosniff', 'X-Frame-Options': 'deny'}\n"
>>>>>>> upstream/master
=======
      "{'Date': 'Tue, 05 Mar 2019 13:41:15 GMT', 'Content-Type': 'application/zip', 'Content-Length': '75906', 'Connection': 'keep-alive', 'Content-Disposition': 'attachment; filename=API_EN.ATM.CO2E.KT_DS2_en_csv_v2_10473877.zip', 'X-Powered-By': 'ASP.NET', 'Set-Cookie': 'TS01fa65e4=01359ee976b3f1bcfdca3e75dea0a7899a83dc9fc860dae804a707c30639d5910dbf8f42d0; Path=/', 'Strict-Transport-Security': 'max-age=31536000; includeSubDomains', 'X-XSS-Protection': '1; mode=block', 'X-Content-Type-Options': 'nosniff', 'X-Frame-Options': 'deny'}\n"
>>>>>>> upstream/master
     ]
    }
   ],
   "source": [
    "import requests\n",
    "\n",
    "# url = 'http://api.worldbank.org/v2/en/country/DNK;URY' \n",
    "# response = requests.get(url, params={'downloadformat': 'csv'})\n",
    "url = 'http://api.worldbank.org/v2/en/indicator/EN.ATM.CO2E.KT?downloadformat=csv'\n",
    "response = requests.get(url)\n",
    "\n",
    "print(response.headers)"
   ]
  },
  {
   "cell_type": "code",
<<<<<<< HEAD
<<<<<<< HEAD
   "execution_count": 96,
=======
   "execution_count": 77,
>>>>>>> upstream/master
=======
   "execution_count": 77,
>>>>>>> upstream/master
   "metadata": {
    "slideshow": {
     "slide_type": "fragment"
    }
   },
   "outputs": [
    {
     "name": "stdout",
     "output_type": "stream",
     "text": [
      "-----------------\n",
      "Downloaded API_EN.ATM.CO2E.KT_DS2_en_csv_v2_10473877.zip\n"
     ]
    }
   ],
   "source": [
    "fname = response.headers['Content-Disposition'].split('=')[1]\n",
    "\n",
    "if response.ok:  # status_code == 200:\n",
    "    with open(fname, 'wb') as f:\n",
    "        f.write(response.content)   \n",
    "print('-----------------')\n",
    "print('Downloaded {}'.format(fname))"
   ]
  },
  {
   "cell_type": "code",
<<<<<<< HEAD
<<<<<<< HEAD
   "execution_count": 97,
=======
   "execution_count": 78,
>>>>>>> upstream/master
   "metadata": {
    "slideshow": {
     "slide_type": "subslide"
    }
   },
=======
   "execution_count": 71,
   "metadata": {},
>>>>>>> upstream/master
   "outputs": [
    {
     "name": "stdout",
     "output_type": "stream",
     "text": [
<<<<<<< HEAD
<<<<<<< HEAD
      "-rw-r--r--   1 mohammahomarhariri  staff   1.9K Mar  5 12:40 README.md\n",
      "-rw-r--r--   1 mohammahomarhariri  staff    12K Mar  5 12:40 ed 5!d API_EN.ATM.CO2E.KT_DS2_en_csv_v2_10473877.csv\n",
      "drwxr-xr-x  51 mohammahomarhariri  staff   1.6K Mar  5 12:40 images\n",
      "drwxr-xr-x   8 mohammahomarhariri  staff   256B Mar  5 12:40 Assignments\n",
      "-rw-r--r--   1 mohammahomarhariri  staff   855B Mar  5 12:56 Untitled.ipynb\n",
      "-rw-r--r--   1 mohammahomarhariri  staff    74K Mar  5 15:04 16-pandas.ipynb\n",
      "-rw-r--r--   1 mohammahomarhariri  staff   466B Mar  5 15:05 Metadata_Indicator_API_EN.ATM.CO2E.KT_DS2_en_csv_v2_10473877.csv\n",
      "-rw-r--r--   1 mohammahomarhariri  staff   173K Mar  5 15:05 API_EN.ATM.CO2E.KT_DS2_en_csv_v2_10473877.csv\n",
      "-rw-r--r--   1 mohammahomarhariri  staff    39K Mar  5 15:05 Metadata_Country_API_EN.ATM.CO2E.KT_DS2_en_csv_v2_10473877.csv\n",
      "-rw-r--r--   1 mohammahomarhariri  staff    74K Mar  5 15:06 API_EN.ATM.CO2E.KT_DS2_en_csv_v2_10473877.zip\n"
=======
      "-rw-rw-r-- 1 jens jens 1006K mar  5 10:50 pi_million_digits.txt\n",
      "-rw-rw-r-- 1 jens jens   466 mar  5 11:04 Metadata_Indicator_API_EN.ATM.CO2E.KT_DS2_en_csv_v2_10473877.csv\n",
      "-rw-rw-r-- 1 jens jens  173K mar  5 11:04 API_EN.ATM.CO2E.KT_DS2_en_csv_v2_10473877.csv\n",
      "-rw-rw-r-- 1 jens jens   40K mar  5 11:04 Metadata_Country_API_EN.ATM.CO2E.KT_DS2_en_csv_v2_10473877.csv\n",
      "-rw-rw-r-- 1 jens jens   25K mar  5 11:27 01-Intro.ipynb\n",
      "-rw-rw-r-- 1 jens jens  8,3K mar  5 11:30 03-Metacognition.ipynb\n",
      "drwxrwxr-x 3 jens jens  4,0K mar  5 11:32 assignments\n",
      "-rw-rw-r-- 1 jens jens  4,2M mar  5 13:36 13and14-Plotting.ipynb\n",
      "-rw-rw-r-- 1 jens jens   75K mar  5 14:44 API_EN.ATM.CO2E.KT_DS2_en_csv_v2_10473877.zip\n",
      "-rw-rw-r-- 1 jens jens   79K mar  5 14:44 16-pandas.ipynb\n"
>>>>>>> upstream/master
=======
      "drwxrwxr-x 3 thomas thomas  4.0K Mar  3 21:00 assignments\n",
      "-rw-rw-r-- 1 thomas thomas  688K Mar  3 21:13 17-Intro to Requests.ipynb\n",
      "-rw-rw-r-- 1 thomas thomas   466 Mar  5 07:41 Metadata_Indicator_API_EN.ATM.CO2E.KT_DS2_en_csv_v2_10473877.csv\n",
      "-rw-rw-r-- 1 thomas thomas  173K Mar  5 07:41 API_EN.ATM.CO2E.KT_DS2_en_csv_v2_10473877.csv\n",
      "-rw-rw-r-- 1 thomas thomas   40K Mar  5 07:41 Metadata_Country_API_EN.ATM.CO2E.KT_DS2_en_csv_v2_10473877.csv\n",
      "-rw-rw-r-- 1 thomas thomas  1.7K Mar  5 07:41 Metadata_Indicator_API_MS.MIL.XPND.CN_DS2_en_csv_v2_10418495.csv\n",
      "-rw-rw-r-- 1 thomas thomas   40K Mar  5 07:41 Metadata_Country_API_MS.MIL.XPND.CN_DS2_en_csv_v2_10418495.csv\n",
      "-rw-rw-r-- 1 thomas thomas  135K Mar  5 07:41 API_MS.MIL.XPND.CN_DS2_en_csv_v2_10418495.csv\n",
      "-rw-rw-r-- 1 thomas thomas  298K Mar  5 08:05 16-pandas.ipynb\n",
      "-rw-rw-r-- 1 thomas thomas   75K Mar  5 08:08 API_EN.ATM.CO2E.KT_DS2_en_csv_v2_10473877.zip\n"
>>>>>>> upstream/master
     ]
    }
   ],
   "source": [
    "%%bash\n",
    "ls -ltrh | tail\n",
    "#man ls"
   ]
  },
  {
   "cell_type": "code",
   "execution_count": 83,
   "metadata": {},
   "outputs": [
    {
     "name": "stdout",
     "output_type": "stream",
     "text": [
      "01-Intro.ipynb\n",
      "02-Talk to me.ipynb\n",
      "03-Metacognition.ipynb\n",
      "04-Getting Started.ipynb\n",
      "05-A Whirlwind Tour through Python!.ipynb\n",
      "06-Lists.ipynb\n",
      "07-Functions and Modules.ipynb\n",
      "07-Loops.ipynb\n",
      "08-Dictionaries.ipynb\n",
      "09-CLI Programs.ipynb\n",
      "10-Working with Files.ipynb\n",
      "11-Object-oriented Programming.ipynb\n",
      "12-Assignments.ipynb\n",
      "12-Exceptions.ipynb\n",
      "13and14-Plotting.ipynb\n",
      "15-Intro to Numpy.ipynb\n",
      "16-pandas.ipynb\n",
      "17-Intro to Requests.ipynb\n",
      "18-Web Scraping Basics.ipynb\n",
      "19-Regular Expressions and Selenium.ipynb\n",
      "3d_histo2.png\n",
      "3d_histo.png\n",
      "API_EN.ATM.CO2E.KT_DS2_en_csv_v2_10473877.csv\n",
      "API_EN.ATM.CO2E.KT_DS2_en_csv_v2_10473877.zip\n",
      "api_keys.py\n",
      "API_MS.MIL.XPND.CN_DS2_en_csv_v2_10418495.csv\n",
      "assignments\n",
      "befkbhalderstatkode.csv\n",
      "bef_stat.svg\n",
      "book.py\n",
      "browser_usage.svg\n",
      "cit.py\n",
      "commander_keen_sprite_run.gif?w=611\n",
      "ed 5!d API_EN.ATM.CO2E.KT_DS2_en_csv_v2_10473877.csv\n",
      "eliza_language.py\n",
      "eliza.py\n",
      "images\n",
      "iris_data.xlsx\n",
      "kkdata.py\n",
      "List exercises.ipynb\n",
      "Metadata_Country_API_Download_DS2_en_csv_v2_10495444.csv\n",
      "Metadata_Country_API_EN.ATM.CO2E.KT_DS2_en_csv_v2_10473877.csv\n",
      "Metadata_Country_API_MS.MIL.XPND.CN_DS2_en_csv_v2_10418495.csv\n",
      "Metadata_Indicator_API_Download_DS2_en_csv_v2_10495444.csv\n",
      "Metadata_Indicator_API_EN.ATM.CO2E.KT_DS2_en_csv_v2_10473877.csv\n",
      "Metadata_Indicator_API_MS.MIL.XPND.CN_DS2_en_csv_v2_10418495.csv\n",
      "osm2.html\n",
      "osm.html\n",
      "Pandas data structures.ipynb\n",
      "pi_30_digits.txt\n",
      "pi_million_digits.txt\n",
      "prg.txt\n",
      "__pycache__\n",
      "README.md\n",
      "requirements.txt\n",
      "Selection_001.png\n",
      "squares_plot.png\n",
      "test_dir\n",
      "webget.py\n"
     ]
    }
   ],
   "source": [
    "%%bash\n",
    "ls"
   ]
  },
  {
   "cell_type": "markdown",
   "metadata": {
    "slideshow": {
     "slide_type": "subslide"
    }
   },
   "source": [
    "You can resort to the standard libraries `zipfile` module to uncompress the downloaded file."
   ]
  },
  {
   "cell_type": "code",
<<<<<<< HEAD
<<<<<<< HEAD
   "execution_count": 98,
=======
   "execution_count": 79,
>>>>>>> upstream/master
   "metadata": {
    "slideshow": {
     "slide_type": "subslide"
    }
   },
=======
   "execution_count": 29,
   "metadata": {},
>>>>>>> upstream/master
   "outputs": [],
   "source": [
    "import zipfile\n",
    "\n",
    "zipfile.ZipFile(fname, 'r').extractall('.')"
   ]
  },
  {
   "cell_type": "code",
<<<<<<< HEAD
<<<<<<< HEAD
   "execution_count": 99,
=======
   "execution_count": 80,
>>>>>>> upstream/master
   "metadata": {
    "slideshow": {
     "slide_type": "fragment"
    }
   },
=======
   "execution_count": 30,
   "metadata": {},
>>>>>>> upstream/master
   "outputs": [
    {
     "name": "stdout",
     "output_type": "stream",
     "text": [
<<<<<<< HEAD
<<<<<<< HEAD
      "-rw-r--r--   1 mohammahomarhariri  staff   1.9K Mar  5 12:40 README.md\n",
      "-rw-r--r--   1 mohammahomarhariri  staff    12K Mar  5 12:40 ed 5!d API_EN.ATM.CO2E.KT_DS2_en_csv_v2_10473877.csv\n",
      "drwxr-xr-x  51 mohammahomarhariri  staff   1.6K Mar  5 12:40 images\n",
      "drwxr-xr-x   8 mohammahomarhariri  staff   256B Mar  5 12:40 Assignments\n",
      "-rw-r--r--   1 mohammahomarhariri  staff   855B Mar  5 12:56 Untitled.ipynb\n",
      "-rw-r--r--   1 mohammahomarhariri  staff    74K Mar  5 15:04 16-pandas.ipynb\n",
      "-rw-r--r--   1 mohammahomarhariri  staff    74K Mar  5 15:06 API_EN.ATM.CO2E.KT_DS2_en_csv_v2_10473877.zip\n",
      "-rw-r--r--   1 mohammahomarhariri  staff   466B Mar  5 15:06 Metadata_Indicator_API_EN.ATM.CO2E.KT_DS2_en_csv_v2_10473877.csv\n",
      "-rw-r--r--   1 mohammahomarhariri  staff   173K Mar  5 15:06 API_EN.ATM.CO2E.KT_DS2_en_csv_v2_10473877.csv\n",
      "-rw-r--r--   1 mohammahomarhariri  staff    39K Mar  5 15:06 Metadata_Country_API_EN.ATM.CO2E.KT_DS2_en_csv_v2_10473877.csv\n"
=======
      "-rw-rw-r-- 1 jens jens 1006K mar  5 10:50 pi_million_digits.txt\n",
      "-rw-rw-r-- 1 jens jens   25K mar  5 11:27 01-Intro.ipynb\n",
      "-rw-rw-r-- 1 jens jens  8,3K mar  5 11:30 03-Metacognition.ipynb\n",
      "drwxrwxr-x 3 jens jens  4,0K mar  5 11:32 assignments\n",
      "-rw-rw-r-- 1 jens jens  4,2M mar  5 13:36 13and14-Plotting.ipynb\n",
      "-rw-rw-r-- 1 jens jens   75K mar  5 14:44 API_EN.ATM.CO2E.KT_DS2_en_csv_v2_10473877.zip\n",
      "-rw-rw-r-- 1 jens jens   80K mar  5 14:48 16-pandas.ipynb\n",
      "-rw-rw-r-- 1 jens jens   466 mar  5 14:49 Metadata_Indicator_API_EN.ATM.CO2E.KT_DS2_en_csv_v2_10473877.csv\n",
      "-rw-rw-r-- 1 jens jens   40K mar  5 14:49 Metadata_Country_API_EN.ATM.CO2E.KT_DS2_en_csv_v2_10473877.csv\n",
      "-rw-rw-r-- 1 jens jens  173K mar  5 14:49 API_EN.ATM.CO2E.KT_DS2_en_csv_v2_10473877.csv\n"
>>>>>>> upstream/master
=======
      "-rw-rw-r-- 1 thomas thomas   40K Mar  3 14:06 Metadata_Country_API_MS.MIL.XPND.CN_DS2_en_csv_v2_10418495.csv\n",
      "-rw-rw-r-- 1 thomas thomas  135K Mar  3 14:06 API_MS.MIL.XPND.CN_DS2_en_csv_v2_10418495.csv\n",
      "drwxrwxr-x 2 thomas thomas   12K Mar  3 19:27 images\n",
      "-rw-rw-r-- 1 thomas thomas   37K Mar  3 19:35 16-pandas.ipynb\n",
      "drwxrwxr-x 3 thomas thomas  4.0K Mar  3 21:00 assignments\n",
      "-rw-rw-r-- 1 thomas thomas  688K Mar  3 21:13 17-Intro to Requests.ipynb\n",
      "-rw-rw-r-- 1 thomas thomas   75K Mar  5 07:41 API_EN.ATM.CO2E.KT_DS2_en_csv_v2_10473877.zip\n",
      "-rw-rw-r-- 1 thomas thomas   466 Mar  5 07:41 Metadata_Indicator_API_EN.ATM.CO2E.KT_DS2_en_csv_v2_10473877.csv\n",
      "-rw-rw-r-- 1 thomas thomas  173K Mar  5 07:41 API_EN.ATM.CO2E.KT_DS2_en_csv_v2_10473877.csv\n",
      "-rw-rw-r-- 1 thomas thomas   40K Mar  5 07:41 Metadata_Country_API_EN.ATM.CO2E.KT_DS2_en_csv_v2_10473877.csv\n"
>>>>>>> upstream/master
     ]
    }
   ],
   "source": [
    "%%bash\n",
    "\n",
    "ls -ltrh | tail"
   ]
  },
  {
   "cell_type": "markdown",
   "metadata": {
    "slideshow": {
     "slide_type": "subslide"
    }
   },
   "source": [
    "Additionally, you can make use of the `glob` module to glob for certain file patterns. We will store the filename of the CSV file we are interested in, in a variable called `local_file`."
   ]
  },
  {
   "cell_type": "code",
<<<<<<< HEAD
<<<<<<< HEAD
   "execution_count": 8,
=======
   "execution_count": 100,
>>>>>>> upstream/master
   "metadata": {
    "slideshow": {
     "slide_type": "subslide"
    }
   },
=======
   "execution_count": 31,
   "metadata": {},
>>>>>>> upstream/master
   "outputs": [
    {
     "data": {
      "text/plain": [
<<<<<<< HEAD
<<<<<<< HEAD
       "'./Metadata_Indicator_API_EN.ATM.CO2E.KT_DS2_en_csv_v2_10473877.csv'"
      ]
     },
     "execution_count": 8,
=======
       "'./API_EN.ATM.CO2E.KT_DS2_en_csv_v2_10473877.csv'"
      ]
     },
     "execution_count": 100,
>>>>>>> upstream/master
=======
       "'./API_EN.ATM.CO2E.KT_DS2_en_csv_v2_10473877.csv'"
      ]
     },
     "execution_count": 31,
>>>>>>> upstream/master
     "metadata": {},
     "output_type": "execute_result"
    }
   ],
   "source": [
    "from glob import glob\n",
    "# glob is useful in any situation where your program needs to look for a list of files on the filesystem with names matching a pattern. If you need a list of filenames that all have a certain extension, prefix, or any common string in the middle, use glob instead of writing code to scan the directory contents yourself.\n",
    "\n",
    "local_file = glob('./*API_EN*.csv')[3]\n",
    "local_file"
   ]
  },
  {
   "cell_type": "markdown",
   "metadata": {
    "slideshow": {
     "slide_type": "subslide"
    }
   },
   "source": [
    "## A small detour...\n",
    "\n",
    "### Collecting information on the CLI\n",
    "\n",
    "To see the header of the file that is of our interest, we can use the `head` command."
   ]
  },
  {
   "cell_type": "code",
<<<<<<< HEAD
<<<<<<< HEAD
   "execution_count": 101,
=======
   "execution_count": 86,
>>>>>>> upstream/master
   "metadata": {
    "slideshow": {
     "slide_type": "subslide"
    }
   },
=======
   "execution_count": 32,
   "metadata": {},
>>>>>>> upstream/master
   "outputs": [
    {
     "name": "stdout",
     "output_type": "stream",
     "text": [
      "==> ./API_EN.ATM.CO2E.KT_DS2_en_csv_v2_10473877.csv <==\n",
      "﻿\"Data Source\",\"World Development Indicators\",\r\n",
      "\r\n",
      "\"Last Updated Date\",\"2019-01-30\",\r\n",
      "\r\n",
      "\"Country Name\",\"Country Code\",\"Indicator Name\",\"Indicator Code\",\"1960\",\"1961\",\"1962\",\"1963\",\"1964\",\"1965\",\"1966\",\"1967\",\"1968\",\"1969\",\"1970\",\"1971\",\"1972\",\"1973\",\"1974\",\"1975\",\"1976\",\"1977\",\"1978\",\"1979\",\"1980\",\"1981\",\"1982\",\"1983\",\"1984\",\"1985\",\"1986\",\"1987\",\"1988\",\"1989\",\"1990\",\"1991\",\"1992\",\"1993\",\"1994\",\"1995\",\"1996\",\"1997\",\"1998\",\"1999\",\"2000\",\"2001\",\"2002\",\"2003\",\"2004\",\"2005\",\"2006\",\"2007\",\"2008\",\"2009\",\"2010\",\"2011\",\"2012\",\"2013\",\"2014\",\"2015\",\"2016\",\"2017\",\"2018\",\r\n",
      "\"Aruba\",\"ABW\",\"CO2 emissions (kt)\",\"EN.ATM.CO2E.KT\",\"\",\"\",\"\",\"\",\"\",\"\",\"\",\"\",\"\",\"\",\"\",\"\",\"\",\"\",\"\",\"\",\"\",\"\",\"\",\"\",\"\",\"\",\"\",\"\",\"\",\"\",\"179.683\",\"447.374\",\"612.389\",\"649.059\",\"1639.149\",\"1683.153\",\"1463.133\",\"1595.145\",\"1613.48\",\"1668.485\",\"1690.487\",\"1745.492\",\"1796.83\",\"1807.831\",\"2379.883\",\"2409.219\",\"2438.555\",\"2563.233\",\"2618.238\",\"2720.914\",\"2717.247\",\"2823.59\",\"2658.575\",\"2629.239\",\"2508.228\",\"2500.894\",\"1349.456\",\"861.745\",\"872.746\",\"\",\"\",\"\",\"\",\r\n",
      "\"Afghanistan\",\"AFG\",\"CO2 emissions (kt)\",\"EN.ATM.CO2E.KT\",\"414.371\",\"491.378\",\"689.396\",\"707.731\",\"839.743\",\"1008.425\",\"1092.766\",\"1283.45\",\"1224.778\",\"942.419\",\"1672.152\",\"1895.839\",\"1532.806\",\"1639.149\",\"1917.841\",\"2126.86\",\"1987.514\",\"2390.884\",\"2159.863\",\"2240.537\",\"1760.16\",\"1983.847\",\"2101.191\",\"2522.896\",\"2830.924\",\"3509.319\",\"3142.619\",\"3124.284\",\"2867.594\",\"2775.919\",\"2614.571\",\"2438.555\",\"1393.46\",\"1345.789\",\"1294.451\",\"1243.113\",\"1177.107\",\"1096.433\",\"1041.428\",\"821.408\",\"773.737\",\"817.741\",\"1070.764\",\"1195.442\",\"949.753\",\"1327.454\",\"1650.15\",\"2273.54\",\"4206.049\",\"6769.282\",\"8463.436\",\"12240.446\",\"10755.311\",\"10014.577\",\"9809.225\",\"\",\"\",\"\",\"\",\r\n",
      "\"Angola\",\"AGO\",\"CO2 emissions (kt)\",\"EN.ATM.CO2E.KT\",\"550.05\",\"454.708\",\"1180.774\",\"1151.438\",\"1224.778\",\"1188.108\",\"1554.808\",\"993.757\",\"1672.152\",\"2786.92\",\"3582.659\",\"3410.31\",\"4506.743\",\"4880.777\",\"4873.443\",\"4415.068\",\"3285.632\",\"3534.988\",\"5412.492\",\"5504.167\",\"5346.486\",\"5280.48\",\"4649.756\",\"5115.465\",\"5009.122\",\"4701.094\",\"4660.757\",\"5815.862\",\"5130.133\",\"5009.122\",\"5115.465\",\"5089.796\",\"5196.139\",\"5775.525\",\"3890.687\",\"10975.331\",\"10458.284\",\"7381.671\",\"7308.331\",\"9156.499\",\"9541.534\",\"9732.218\",\"12665.818\",\"9064.824\",\"18793.375\",\"19156.408\",\"22266.024\",\"25151.953\",\"25709.337\",\"27792.193\",\"29057.308\",\"30340.758\",\"33399.036\",\"32617.965\",\"34763.16\",\"\",\"\",\"\",\"\",\r\n",
      "\"Albania\",\"ALB\",\"CO2 emissions (kt)\",\"EN.ATM.CO2E.KT\",\"2024.184\",\"2280.874\",\"2464.224\",\"2082.856\",\"2016.85\",\"2174.531\",\"2552.232\",\"2680.577\",\"3072.946\",\"3245.295\",\"3744.007\",\"4352.729\",\"5643.513\",\"5291.481\",\"4345.395\",\"4594.751\",\"4950.45\",\"5720.52\",\"6494.257\",\"7587.023\",\"5170.47\",\"7341.334\",\"7308.331\",\"7631.027\",\"7825.378\",\"7880.383\",\"8056.399\",\"7444.01\",\"7326.666\",\"8984.15\",\"5515.168\",\"4286.723\",\"2515.562\",\"2335.879\",\"1925.175\",\"2086.523\",\"2016.85\",\"1543.807\",\"1752.826\",\"2984.938\",\"3021.608\",\"3223.293\",\"3751.341\",\"4294.057\",\"4165.712\",\"4253.72\",\"3898.021\",\"3927.357\",\"4374.731\",\"4378.398\",\"4598.418\",\"5240.143\",\"4910.113\",\"5064.127\",\"5716.853\",\"\",\"\",\"\",\"\",\r\n",
      "\"Andorra\",\"AND\",\"CO2 emissions (kt)\",\"EN.ATM.CO2E.KT\",\"\",\"\",\"\",\"\",\"\",\"\",\"\",\"\",\"\",\"\",\"\",\"\",\"\",\"\",\"\",\"\",\"\",\"\",\"\",\"\",\"\",\"\",\"\",\"\",\"\",\"\",\"\",\"\",\"\",\"\",\"407.037\",\"407.037\",\"407.037\",\"410.704\",\"407.037\",\"425.372\",\"454.708\",\"465.709\",\"491.378\",\"513.38\",\"524.381\",\"524.381\",\"531.715\",\"535.382\",\"561.051\",\"575.719\",\"546.383\",\"539.049\",\"539.049\",\"517.047\",\"517.047\",\"491.378\",\"487.711\",\"476.71\",\"462.042\",\"\",\"\",\"\",\"\",\r\n",
      "\n",
<<<<<<< HEAD
<<<<<<< HEAD
=======
=======
>>>>>>> upstream/master
      "==> ./ed 5!d API_EN.ATM.CO2E.KT_DS2_en_csv_v2_10473877.csv <==\n",
      "SED(1)                                                                                     User Commands                                                                                    SED(1)\n",
      "\n",
      "N\bNA\bAM\bME\bE\n",
      "       sed - stream editor for filtering and transforming text\n",
      "\n",
      "S\bSY\bYN\bNO\bOP\bPS\bSI\bIS\bS\n",
      "       s\bse\bed\bd [_\bO_\bP_\bT_\bI_\bO_\bN]... _\b{_\bs_\bc_\br_\bi_\bp_\bt_\b-_\bo_\bn_\bl_\by_\b-_\bi_\bf_\b-_\bn_\bo_\b-_\bo_\bt_\bh_\be_\br_\b-_\bs_\bc_\br_\bi_\bp_\bt_\b} [_\bi_\bn_\bp_\bu_\bt_\b-_\bf_\bi_\bl_\be]...\n",
      "\n",
      "D\bDE\bES\bSC\bCR\bRI\bIP\bPT\bTI\bIO\bON\bN\n",
      "       _\bS_\be_\bd is a stream editor.  A stream editor is used to perform basic text transformations on an input stream (a file or input from a pipeline).  While in some ways similar to an editor which\n",
      "\n",
<<<<<<< HEAD
>>>>>>> upstream/master
=======
>>>>>>> upstream/master
      "==> ./Metadata_Country_API_EN.ATM.CO2E.KT_DS2_en_csv_v2_10473877.csv <==\n",
      "﻿\"Country Code\",\"Region\",\"IncomeGroup\",\"SpecialNotes\",\"TableName\",\r\n",
      "\"ABW\",\"Latin America & Caribbean\",\"High income\",\"Mining is included in agriculture\n",
      "Electricty and gas includes manufactures of refined petroleoum products\",\"Aruba\",\r\n",
      "\"AFG\",\"South Asia\",\"Low income\",\"Fiscal year end: March 20; reporting period for national accounts data is calendar year, estimated to insure consistency between national accounts and fiscal data. National accounts data are sourced from the IMF and differ from the Central Statistics Organization numbers due to exclusion of the opium economy.\",\"Afghanistan\",\r\n",
      "\"AGO\",\"Sub-Saharan Africa\",\"Lower middle income\",\"\",\"Angola\",\r\n",
      "\"ALB\",\"Europe & Central Asia\",\"Upper middle income\",\"\",\"Albania\",\r\n",
      "\"AND\",\"Europe & Central Asia\",\"High income\",\"WB-3 code changed from ADO to AND to align with ISO code.\",\"Andorra\",\r\n",
      "\"ARB\",\"\",\"\",\"Arab World aggregate. Arab World is composed of members of the League of Arab States.\",\"Arab World\",\r\n",
      "\"ARE\",\"Middle East & North Africa\",\"High income\",\"\",\"United Arab Emirates\",\r\n",
      "\"ARG\",\"Latin America & Caribbean\",\"High income\",\"Series of GNI and GNDI from 1993-2017 have been updated due to new data available\n",
      "\n",
      "==> ./Metadata_Indicator_API_EN.ATM.CO2E.KT_DS2_en_csv_v2_10473877.csv <==\n",
      "﻿\"INDICATOR_CODE\",\"INDICATOR_NAME\",\"SOURCE_NOTE\",\"SOURCE_ORGANIZATION\",\r\n",
<<<<<<< HEAD
<<<<<<< HEAD
      "\"EN.ATM.CO2E.KT\",\"CO2 emissions (kt)\",\"Carbon dioxide emissions are those stemming from the burning of fossil fuels and the manufacture of cement. They include carbon dioxide produced during consumption of solid, liquid, and gas fuels and gas flaring.\",\"Carbon Dioxide Information Analysis Center, Environmental Sciences Division, Oak Ridge National Laboratory, Tennessee, United States.\",\r\n",
      "\n",
      "==> ./ed 5!d API_EN.ATM.CO2E.KT_DS2_en_csv_v2_10473877.csv <==\n",
      "SED(1)                                                                                     User Commands                                                                                    SED(1)\n",
      "\n",
      "N\bNA\bAM\bME\bE\n",
      "       sed - stream editor for filtering and transforming text\n",
      "\n",
      "S\bSY\bYN\bNO\bOP\bPS\bSI\bIS\bS\n",
      "       s\bse\bed\bd [_\bO_\bP_\bT_\bI_\bO_\bN]... _\b{_\bs_\bc_\br_\bi_\bp_\bt_\b-_\bo_\bn_\bl_\by_\b-_\bi_\bf_\b-_\bn_\bo_\b-_\bo_\bt_\bh_\be_\br_\b-_\bs_\bc_\br_\bi_\bp_\bt_\b} [_\bi_\bn_\bp_\bu_\bt_\b-_\bf_\bi_\bl_\be]...\n",
      "\n",
      "D\bDE\bES\bSC\bCR\bRI\bIP\bPT\bTI\bIO\bON\bN\n",
      "       _\bS_\be_\bd is a stream editor.  A stream editor is used to perform basic text transformations on an input stream (a file or input from a pipeline).  While in some ways similar to an editor which\n"
=======
      "\"EN.ATM.CO2E.KT\",\"CO2 emissions (kt)\",\"Carbon dioxide emissions are those stemming from the burning of fossil fuels and the manufacture of cement. They include carbon dioxide produced during consumption of solid, liquid, and gas fuels and gas flaring.\",\"Carbon Dioxide Information Analysis Center, Environmental Sciences Division, Oak Ridge National Laboratory, Tennessee, United States.\",\r\n"
>>>>>>> upstream/master
=======
      "\"EN.ATM.CO2E.KT\",\"CO2 emissions (kt)\",\"Carbon dioxide emissions are those stemming from the burning of fossil fuels and the manufacture of cement. They include carbon dioxide produced during consumption of solid, liquid, and gas fuels and gas flaring.\",\"Carbon Dioxide Information Analysis Center, Environmental Sciences Division, Oak Ridge National Laboratory, Tennessee, United States.\",\r\n"
>>>>>>> upstream/master
     ]
    }
   ],
   "source": [
    "%%bash\n",
    "head ./*API_EN.ATM.CO2*.csv"
   ]
  },
  {
   "cell_type": "markdown",
   "metadata": {
    "slideshow": {
     "slide_type": "subslide"
    }
   },
   "source": [
    "We can see that the actual CSV header is on line five. To extract only the header row, we can use the stream editor *sed*, see `man sed`. The argument `'5!d'` tells `sed`, that we are only interested in the fifth line."
   ]
  },
  {
   "cell_type": "code",
<<<<<<< HEAD
<<<<<<< HEAD
   "execution_count": 7,
=======
   "execution_count": 87,
>>>>>>> upstream/master
   "metadata": {
    "slideshow": {
     "slide_type": "subslide"
    }
   },
=======
   "execution_count": 72,
   "metadata": {},
>>>>>>> upstream/master
   "outputs": [
    {
     "name": "stdout",
     "output_type": "stream",
     "text": [
      "\"Country Name\",\"Country Code\",\"Indicator Name\",\"Indicator Code\",\"1960\",\"1961\",\"1962\",\"1963\",\"1964\",\"1965\",\"1966\",\"1967\",\"1968\",\"1969\",\"1970\",\"1971\",\"1972\",\"1973\",\"1974\",\"1975\",\"1976\",\"1977\",\"1978\",\"1979\",\"1980\",\"1981\",\"1982\",\"1983\",\"1984\",\"1985\",\"1986\",\"1987\",\"1988\",\"1989\",\"1990\",\"1991\",\"1992\",\"1993\",\"1994\",\"1995\",\"1996\",\"1997\",\"1998\",\"1999\",\"2000\",\"2001\",\"2002\",\"2003\",\"2004\",\"2005\",\"2006\",\"2007\",\"2008\",\"2009\",\"2010\",\"2011\",\"2012\",\"2013\",\"2014\",\"2015\",\"2016\",\"2017\",\"2018\",\r\n"
     ]
    }
   ],
   "source": [
    "%%bash\n",
    "# sed is a cli application that can filter text from pipeline (inputstream or a file)\n",
    "# Sed Linux command doesn’t update your data. It only sends the changed text to STDOUT\n",
    "# To know more about the sed tool: https://www.geeksforgeeks.org/sed-command-in-linux-unix-with-examples/\n",
<<<<<<< HEAD
    "sed '5!d' API_EN.ATM.CO2E.KT_DS2_en_csv_v2_10473877.csv # sed delete all lines except line 5 (sed '5d' filename.ext (would delete only line 5))\n"
=======
    "sed '5!d' API_EN.ATM.CO2E.KT_DS2_en_csv_v2_10473877.csv # sed delete all lines except line 5 (sed '5d' filename.ext (would delete only line 5))"
>>>>>>> upstream/master
   ]
  },
  {
   "cell_type": "markdown",
   "metadata": {
    "slideshow": {
     "slide_type": "subslide"
    }
   },
   "source": [
    "To get the two lines -one for Denmark and one for Uruguay repectively- holding the CO2 emission in tons, we can use the grep command, see `man grep`."
   ]
  },
  {
   "cell_type": "code",
<<<<<<< HEAD
<<<<<<< HEAD
   "execution_count": 4,
=======
   "execution_count": 88,
>>>>>>> upstream/master
   "metadata": {
    "slideshow": {
     "slide_type": "subslide"
    }
   },
=======
   "execution_count": 73,
   "metadata": {},
>>>>>>> upstream/master
   "outputs": [
    {
     "name": "stdout",
     "output_type": "stream",
     "text": [
      "\"Denmark\",\"DNK\",\"CO2 emissions (kt)\",\"EN.ATM.CO2E.KT\",\"29779.707\",\"31734.218\",\"36926.69\",\"40707.367\",\"43189.926\",\"44337.697\",\"50127.89\",\"49075.461\",\"53325.514\",\"59401.733\",\"62100.645\",\"57062.187\",\"59643.755\",\"59266.054\",\"55078.34\",\"55778.737\",\"60135.133\",\"61847.622\",\"61117.889\",\"62999.06\",\"60369.821\",\"51789.041\",\"53695.881\",\"50175.561\",\"50861.29\",\"60072.794\",\"58903.021\",\"58341.97\",\"55107.676\",\"48785.768\",\"50230.566\",\"60270.812\",\"54322.938\",\"57065.854\",\"61000.545\",\"57172.197\",\"72181.228\",\"61557.929\",\"59552.08\",\"55148.013\",\"51330.666\",\"52918.477\",\"52049.398\",\"55998.757\",\"50600.933\",\"47095.281\",\"54986.665\",\"50256.235\",\"46933.933\",\"44510.046\",\"46640.573\",\"40645.028\",\"36427.978\",\"38532.836\",\"33498.045\",\"\",\"\",\"\",\"\",\r\n",
      "\"Uruguay\",\"URY\",\"CO2 emissions (kt)\",\"EN.ATM.CO2E.KT\",\"4319.726\",\"4121.708\",\"4011.698\",\"4319.726\",\"4558.081\",\"5522.502\",\"5405.158\",\"4884.444\",\"4884.444\",\"5595.842\",\"5742.522\",\"5808.528\",\"6076.219\",\"5775.525\",\"5683.85\",\"5969.876\",\"5896.536\",\"5650.847\",\"5742.522\",\"6277.904\",\"5837.864\",\"5375.822\",\"4873.443\",\"3817.347\",\"3450.647\",\"3296.633\",\"3179.289\",\"3560.657\",\"4807.437\",\"4880.777\",\"3993.363\",\"4554.414\",\"5170.47\",\"4466.406\",\"4066.703\",\"4591.084\",\"5441.828\",\"5555.505\",\"5687.517\",\"6725.278\",\"5306.149\",\"5089.796\",\"4620.42\",\"4598.418\",\"5610.51\",\"5775.525\",\"6648.271\",\"6002.879\",\"8265.418\",\"8060.066\",\"6387.914\",\"7763.039\",\"8694.457\",\"7587.023\",\"6747.28\",\"\",\"\",\"\",\"\",\r\n"
     ]
    }
   ],
   "source": [
    "%%bash\n",
    "grep -E \"DNK|URY\" API_EN.ATM.CO2E.KT_DS2_en_csv_v2_10473877.csv"
   ]
  },
  {
   "cell_type": "markdown",
   "metadata": {
    "slideshow": {
     "slide_type": "subslide"
    }
   },
   "source": [
    "### Executing OS Commands from Python\n",
    "\n",
    "\n",
    "With the help of the `subprocess` module allows us to execute shell commands and to read what the process was writing to standard out and standard error.\n",
    "\n",
    "https://docs.python.org/3/library/subprocess.html"
   ]
  },
  {
   "cell_type": "code",
<<<<<<< HEAD
<<<<<<< HEAD
   "execution_count": 5,
=======
   "execution_count": 89,
>>>>>>> upstream/master
   "metadata": {
    "slideshow": {
     "slide_type": "fragment"
    }
   },
   "outputs": [],
   "source": [
    "import subprocess"
   ]
  },
  {
   "cell_type": "code",
<<<<<<< HEAD
   "execution_count": 14,
=======
   "execution_count": 101,
>>>>>>> upstream/master
   "metadata": {
    "slideshow": {
     "slide_type": "subslide"
    }
   },
   "outputs": [],
=======
   "execution_count": 35,
   "metadata": {},
   "outputs": [
    {
     "name": "stdout",
     "output_type": "stream",
     "text": [
      "['Country Name', 'Country Code', 'Indicator Name', 'Indicator Code', '1960', '1961', '1962', '1963', '1964', '1965', '1966', '1967', '1968', '1969', '1970', '1971', '1972', '1973', '1974', '1975', '1976', '1977', '1978', '1979', '1980', '1981', '1982', '1983', '1984', '1985', '1986', '1987', '1988', '1989', '1990', '1991', '1992', '1993', '1994', '1995', '1996', '1997', '1998', '1999', '2000', '2001', '2002', '2003', '2004', '2005', '2006', '2007', '2008', '2009', '2010', '2011', '2012', '2013', '2014', '2015', '2016', '2017', '2018', '']\n"
     ]
    }
   ],
>>>>>>> upstream/master
   "source": [
    "cmd = 'sed 5!d {}'.format(local_file).split()\n",
    "out, err = subprocess.Popen(cmd, stdout=subprocess.PIPE, \n",
    "                            stderr=subprocess.STDOUT).communicate()"
   ]
  },
  {
   "cell_type": "code",
<<<<<<< HEAD
<<<<<<< HEAD
   "execution_count": 13,
=======
   "execution_count": 103,
>>>>>>> upstream/master
=======
   "execution_count": 103,
>>>>>>> upstream/master
   "metadata": {
    "slideshow": {
     "slide_type": "fragment"
    }
   },
   "outputs": [
    {
     "name": "stdout",
     "output_type": "stream",
     "text": [
<<<<<<< HEAD
<<<<<<< HEAD
      "[]\n"
     ]
    },
    {
     "ename": "IndexError",
     "evalue": "list index out of range",
     "output_type": "error",
     "traceback": [
      "\u001b[0;31m---------------------------------------------------------------------------\u001b[0m",
      "\u001b[0;31mIndexError\u001b[0m                                Traceback (most recent call last)",
      "\u001b[0;32m<ipython-input-13-2cb144e29d10>\u001b[0m in \u001b[0;36m<module>\u001b[0;34m\u001b[0m\n\u001b[1;32m      1\u001b[0m \u001b[0;31m# Since we are getting the output as a byte literal, we have to decode it into string\u001b[0m\u001b[0;34m\u001b[0m\u001b[0;34m\u001b[0m\u001b[0;34m\u001b[0m\u001b[0m\n\u001b[1;32m      2\u001b[0m \u001b[0mprint\u001b[0m\u001b[0;34m(\u001b[0m\u001b[0mout\u001b[0m\u001b[0;34m.\u001b[0m\u001b[0msplitlines\u001b[0m\u001b[0;34m(\u001b[0m\u001b[0;34m)\u001b[0m\u001b[0;34m)\u001b[0m\u001b[0;34m\u001b[0m\u001b[0;34m\u001b[0m\u001b[0m\n\u001b[0;32m----> 3\u001b[0;31m \u001b[0mheader_cols\u001b[0m \u001b[0;34m=\u001b[0m \u001b[0mout\u001b[0m\u001b[0;34m.\u001b[0m\u001b[0msplitlines\u001b[0m\u001b[0;34m(\u001b[0m\u001b[0;34m)\u001b[0m\u001b[0;34m[\u001b[0m\u001b[0;36m0\u001b[0m\u001b[0;34m]\u001b[0m\u001b[0;34m.\u001b[0m\u001b[0mdecode\u001b[0m\u001b[0;34m(\u001b[0m\u001b[0;34m'UTF-8'\u001b[0m\u001b[0;34m)\u001b[0m\u001b[0;34m.\u001b[0m\u001b[0msplit\u001b[0m\u001b[0;34m(\u001b[0m\u001b[0;34m','\u001b[0m\u001b[0;34m)\u001b[0m\u001b[0;34m\u001b[0m\u001b[0;34m\u001b[0m\u001b[0m\n\u001b[0m\u001b[1;32m      4\u001b[0m \u001b[0mheader_cols\u001b[0m \u001b[0;34m=\u001b[0m \u001b[0;34m[\u001b[0m\u001b[0mh\u001b[0m\u001b[0;34m.\u001b[0m\u001b[0mreplace\u001b[0m\u001b[0;34m(\u001b[0m\u001b[0;34m'\"'\u001b[0m\u001b[0;34m,\u001b[0m \u001b[0;34m''\u001b[0m\u001b[0;34m)\u001b[0m \u001b[0;32mfor\u001b[0m \u001b[0mh\u001b[0m \u001b[0;32min\u001b[0m \u001b[0mheader_cols\u001b[0m\u001b[0;34m]\u001b[0m\u001b[0;34m\u001b[0m\u001b[0;34m\u001b[0m\u001b[0m\n\u001b[1;32m      5\u001b[0m \u001b[0mprint\u001b[0m\u001b[0;34m(\u001b[0m\u001b[0mheader_cols\u001b[0m\u001b[0;34m)\u001b[0m\u001b[0;34m\u001b[0m\u001b[0;34m\u001b[0m\u001b[0m\n",
      "\u001b[0;31mIndexError\u001b[0m: list index out of range"
=======
      "['Country Name', 'Country Code', 'Indicator Name', 'Indicator Code', '1960', '1961', '1962', '1963', '1964', '1965', '1966', '1967', '1968', '1969', '1970', '1971', '1972', '1973', '1974', '1975', '1976', '1977', '1978', '1979', '1980', '1981', '1982', '1983', '1984', '1985', '1986', '1987', '1988', '1989', '1990', '1991', '1992', '1993', '1994', '1995', '1996', '1997', '1998', '1999', '2000', '2001', '2002', '2003', '2004', '2005', '2006', '2007', '2008', '2009', '2010', '2011', '2012', '2013', '2014', '2015', '2016', '2017', '2018', '']\n"
>>>>>>> upstream/master
=======
      "['Country Name', 'Country Code', 'Indicator Name', 'Indicator Code', '1960', '1961', '1962', '1963', '1964', '1965', '1966', '1967', '1968', '1969', '1970', '1971', '1972', '1973', '1974', '1975', '1976', '1977', '1978', '1979', '1980', '1981', '1982', '1983', '1984', '1985', '1986', '1987', '1988', '1989', '1990', '1991', '1992', '1993', '1994', '1995', '1996', '1997', '1998', '1999', '2000', '2001', '2002', '2003', '2004', '2005', '2006', '2007', '2008', '2009', '2010', '2011', '2012', '2013', '2014', '2015', '2016', '2017', '2018', '']\n"
>>>>>>> upstream/master
     ]
    }
   ],
   "source": [
    "# Since we are getting the output as a byte literal, we have to decode it into string\n",
<<<<<<< HEAD
    "print(out.splitlines())\n",
=======
>>>>>>> upstream/master
    "header_cols = out.splitlines()[0].decode('UTF-8').split(',')\n",
    "header_cols = [h.replace('\"', '') for h in header_cols]\n",
    "print(header_cols)"
   ]
  },
  {
   "cell_type": "code",
<<<<<<< HEAD
   "execution_count": 104,
   "metadata": {
    "slideshow": {
     "slide_type": "subslide"
    }
   },
=======
   "execution_count": 36,
   "metadata": {},
>>>>>>> upstream/master
   "outputs": [
    {
     "name": "stdout",
     "output_type": "stream",
     "text": [
<<<<<<< HEAD
      "-rw-rw-r-- 1 jens jens   39996 mar  5 10:50 Metadata_Country_API_MS.MIL.XPND.CN_DS2_en_csv_v2_10418495.csv\n",
      "-rw-rw-r-- 1 jens jens     192 mar  5 10:50 Metadata_Country_API_Download_DS2_en_csv_v2_10495444.csv\n",
      "-rw-rw-r-- 1 jens jens  138038 mar  5 10:50 API_MS.MIL.XPND.CN_DS2_en_csv_v2_10418495.csv\n",
      "-rw-rw-r-- 1 jens jens    1648 mar  5 10:50 Metadata_Indicator_API_MS.MIL.XPND.CN_DS2_en_csv_v2_10418495.csv\n",
      "-rw-rw-r-- 1 jens jens  944764 mar  5 10:50 Metadata_Indicator_API_Download_DS2_en_csv_v2_10495444.csv\n",
      "-rw-rw-r-- 1 jens jens 9852462 mar  5 10:50 befkbhalderstatkode.csv\n",
      "-rw-rw-r-- 1 jens jens   12362 mar  5 10:50 ed 5!d API_EN.ATM.CO2E.KT_DS2_en_csv_v2_10473877.csv\n",
      "-rw-rw-r-- 1 jens jens     466 mar  5 14:49 Metadata_Indicator_API_EN.ATM.CO2E.KT_DS2_en_csv_v2_10473877.csv\n",
      "-rw-rw-r-- 1 jens jens   39996 mar  5 14:49 Metadata_Country_API_EN.ATM.CO2E.KT_DS2_en_csv_v2_10473877.csv\n",
      "-rw-rw-r-- 1 jens jens  177069 mar  5 14:49 API_EN.ATM.CO2E.KT_DS2_en_csv_v2_10473877.csv\n"
=======
      "-rw-rw-r-- 1 thomas thomas 9852462 Feb 15 22:18 befkbhalderstatkode.csv\n",
      "-rw-rw-r-- 1 thomas thomas  944764 Mar  2 17:11 Metadata_Indicator_API_Download_DS2_en_csv_v2_10495444.csv\n",
      "-rw-rw-r-- 1 thomas thomas     192 Mar  2 17:11 Metadata_Country_API_Download_DS2_en_csv_v2_10495444.csv\n",
      "-rw-r--r-- 1 thomas thomas   12362 Mar  2 18:09 ed 5!d API_EN.ATM.CO2E.KT_DS2_en_csv_v2_10473877.csv\n",
      "-rw-rw-r-- 1 thomas thomas    1648 Mar  3 14:06 Metadata_Indicator_API_MS.MIL.XPND.CN_DS2_en_csv_v2_10418495.csv\n",
      "-rw-rw-r-- 1 thomas thomas   39996 Mar  3 14:06 Metadata_Country_API_MS.MIL.XPND.CN_DS2_en_csv_v2_10418495.csv\n",
      "-rw-rw-r-- 1 thomas thomas  138038 Mar  3 14:06 API_MS.MIL.XPND.CN_DS2_en_csv_v2_10418495.csv\n",
      "-rw-rw-r-- 1 thomas thomas     466 Mar  5 07:41 Metadata_Indicator_API_EN.ATM.CO2E.KT_DS2_en_csv_v2_10473877.csv\n",
      "-rw-rw-r-- 1 thomas thomas  177069 Mar  5 07:41 API_EN.ATM.CO2E.KT_DS2_en_csv_v2_10473877.csv\n",
      "-rw-rw-r-- 1 thomas thomas   39996 Mar  5 07:41 Metadata_Country_API_EN.ATM.CO2E.KT_DS2_en_csv_v2_10473877.csv\n"
>>>>>>> upstream/master
     ]
    }
   ],
   "source": [
    "%%bash\n",
    "ls -ltr *.csv"
   ]
  },
  {
   "cell_type": "markdown",
   "metadata": {
    "slideshow": {
     "slide_type": "subslide"
    }
   },
   "source": [
    "Now, let's get in a similar way the line of the CSV file containing the time series corresponding to Danmark's and Uruguay's CO2 emissions."
   ]
  },
  {
   "cell_type": "code",
<<<<<<< HEAD
   "execution_count": 105,
   "metadata": {
    "slideshow": {
     "slide_type": "subslide"
    }
   },
   "outputs": [],
   "source": [
    "import subprocess"
   ]
  },
  {
   "cell_type": "code",
   "execution_count": 106,
   "metadata": {
    "slideshow": {
     "slide_type": "subslide"
    }
   },
=======
   "execution_count": 37,
   "metadata": {},
>>>>>>> upstream/master
   "outputs": [
    {
     "data": {
      "text/plain": [
<<<<<<< HEAD
       "'./API_EN.ATM.CO2E.KT_DS2_en_csv_v2_10473877.csv'"
      ]
     },
     "execution_count": 106,
=======
       "[['Denmark',\n",
       "  'DNK',\n",
       "  'CO2 emissions (kt)',\n",
       "  'EN.ATM.CO2E.KT',\n",
       "  '29779.707',\n",
       "  '31734.218',\n",
       "  '36926.69',\n",
       "  '40707.367',\n",
       "  '43189.926',\n",
       "  '44337.697',\n",
       "  '50127.89',\n",
       "  '49075.461',\n",
       "  '53325.514',\n",
       "  '59401.733',\n",
       "  '62100.645',\n",
       "  '57062.187',\n",
       "  '59643.755',\n",
       "  '59266.054',\n",
       "  '55078.34',\n",
       "  '55778.737',\n",
       "  '60135.133',\n",
       "  '61847.622',\n",
       "  '61117.889',\n",
       "  '62999.06',\n",
       "  '60369.821',\n",
       "  '51789.041',\n",
       "  '53695.881',\n",
       "  '50175.561',\n",
       "  '50861.29',\n",
       "  '60072.794',\n",
       "  '58903.021',\n",
       "  '58341.97',\n",
       "  '55107.676',\n",
       "  '48785.768',\n",
       "  '50230.566',\n",
       "  '60270.812',\n",
       "  '54322.938',\n",
       "  '57065.854',\n",
       "  '61000.545',\n",
       "  '57172.197',\n",
       "  '72181.228',\n",
       "  '61557.929',\n",
       "  '59552.08',\n",
       "  '55148.013',\n",
       "  '51330.666',\n",
       "  '52918.477',\n",
       "  '52049.398',\n",
       "  '55998.757',\n",
       "  '50600.933',\n",
       "  '47095.281',\n",
       "  '54986.665',\n",
       "  '50256.235',\n",
       "  '46933.933',\n",
       "  '44510.046',\n",
       "  '46640.573',\n",
       "  '40645.028',\n",
       "  '36427.978',\n",
       "  '38532.836',\n",
       "  '33498.045',\n",
       "  '',\n",
       "  '',\n",
       "  '',\n",
       "  '',\n",
       "  ''],\n",
       " ['Uruguay',\n",
       "  'URY',\n",
       "  'CO2 emissions (kt)',\n",
       "  'EN.ATM.CO2E.KT',\n",
       "  '4319.726',\n",
       "  '4121.708',\n",
       "  '4011.698',\n",
       "  '4319.726',\n",
       "  '4558.081',\n",
       "  '5522.502',\n",
       "  '5405.158',\n",
       "  '4884.444',\n",
       "  '4884.444',\n",
       "  '5595.842',\n",
       "  '5742.522',\n",
       "  '5808.528',\n",
       "  '6076.219',\n",
       "  '5775.525',\n",
       "  '5683.85',\n",
       "  '5969.876',\n",
       "  '5896.536',\n",
       "  '5650.847',\n",
       "  '5742.522',\n",
       "  '6277.904',\n",
       "  '5837.864',\n",
       "  '5375.822',\n",
       "  '4873.443',\n",
       "  '3817.347',\n",
       "  '3450.647',\n",
       "  '3296.633',\n",
       "  '3179.289',\n",
       "  '3560.657',\n",
       "  '4807.437',\n",
       "  '4880.777',\n",
       "  '3993.363',\n",
       "  '4554.414',\n",
       "  '5170.47',\n",
       "  '4466.406',\n",
       "  '4066.703',\n",
       "  '4591.084',\n",
       "  '5441.828',\n",
       "  '5555.505',\n",
       "  '5687.517',\n",
       "  '6725.278',\n",
       "  '5306.149',\n",
       "  '5089.796',\n",
       "  '4620.42',\n",
       "  '4598.418',\n",
       "  '5610.51',\n",
       "  '5775.525',\n",
       "  '6648.271',\n",
       "  '6002.879',\n",
       "  '8265.418',\n",
       "  '8060.066',\n",
       "  '6387.914',\n",
       "  '7763.039',\n",
       "  '8694.457',\n",
       "  '7587.023',\n",
       "  '6747.28',\n",
       "  '',\n",
       "  '',\n",
       "  '',\n",
       "  '',\n",
       "  '']]"
      ]
     },
     "execution_count": 37,
>>>>>>> upstream/master
     "metadata": {},
     "output_type": "execute_result"
    }
   ],
   "source": [
<<<<<<< HEAD
    "local_file"
   ]
  },
  {
   "cell_type": "code",
<<<<<<< HEAD
   "execution_count": 15,
=======
   "execution_count": 107,
>>>>>>> upstream/master
   "metadata": {
    "slideshow": {
     "slide_type": "subslide"
    }
   },
   "outputs": [],
   "source": [
=======
>>>>>>> upstream/master
    "cmd = ['grep', '-E', 'DNK|URY', local_file]\n",
    "out, err = subprocess.Popen(cmd, stdout=subprocess.PIPE, \n",
    "                            stderr=subprocess.STDOUT).communicate()"
   ]
  },
  {
   "cell_type": "code",
<<<<<<< HEAD
<<<<<<< HEAD
   "execution_count": 16,
=======
   "execution_count": 108,
>>>>>>> upstream/master
=======
   "execution_count": 108,
>>>>>>> upstream/master
   "metadata": {
    "slideshow": {
     "slide_type": "fragment"
    }
   },
   "outputs": [
    {
     "data": {
      "text/plain": [
<<<<<<< HEAD
<<<<<<< HEAD
       "[]"
      ]
     },
     "execution_count": 16,
=======
=======
>>>>>>> upstream/master
       "[['Denmark',\n",
       "  'DNK',\n",
       "  'CO2 emissions (kt)',\n",
       "  'EN.ATM.CO2E.KT',\n",
       "  '29779.707',\n",
       "  '31734.218',\n",
       "  '36926.69',\n",
       "  '40707.367',\n",
       "  '43189.926',\n",
       "  '44337.697',\n",
       "  '50127.89',\n",
       "  '49075.461',\n",
       "  '53325.514',\n",
       "  '59401.733',\n",
       "  '62100.645',\n",
       "  '57062.187',\n",
       "  '59643.755',\n",
       "  '59266.054',\n",
       "  '55078.34',\n",
       "  '55778.737',\n",
       "  '60135.133',\n",
       "  '61847.622',\n",
       "  '61117.889',\n",
       "  '62999.06',\n",
       "  '60369.821',\n",
       "  '51789.041',\n",
       "  '53695.881',\n",
       "  '50175.561',\n",
       "  '50861.29',\n",
       "  '60072.794',\n",
       "  '58903.021',\n",
       "  '58341.97',\n",
       "  '55107.676',\n",
       "  '48785.768',\n",
       "  '50230.566',\n",
       "  '60270.812',\n",
       "  '54322.938',\n",
       "  '57065.854',\n",
       "  '61000.545',\n",
       "  '57172.197',\n",
       "  '72181.228',\n",
       "  '61557.929',\n",
       "  '59552.08',\n",
       "  '55148.013',\n",
       "  '51330.666',\n",
       "  '52918.477',\n",
       "  '52049.398',\n",
       "  '55998.757',\n",
       "  '50600.933',\n",
       "  '47095.281',\n",
       "  '54986.665',\n",
       "  '50256.235',\n",
       "  '46933.933',\n",
       "  '44510.046',\n",
       "  '46640.573',\n",
       "  '40645.028',\n",
       "  '36427.978',\n",
       "  '38532.836',\n",
       "  '33498.045',\n",
       "  '',\n",
       "  '',\n",
       "  '',\n",
       "  '',\n",
       "  ''],\n",
       " ['Uruguay',\n",
       "  'URY',\n",
       "  'CO2 emissions (kt)',\n",
       "  'EN.ATM.CO2E.KT',\n",
       "  '4319.726',\n",
       "  '4121.708',\n",
       "  '4011.698',\n",
       "  '4319.726',\n",
       "  '4558.081',\n",
       "  '5522.502',\n",
       "  '5405.158',\n",
       "  '4884.444',\n",
       "  '4884.444',\n",
       "  '5595.842',\n",
       "  '5742.522',\n",
       "  '5808.528',\n",
       "  '6076.219',\n",
       "  '5775.525',\n",
       "  '5683.85',\n",
       "  '5969.876',\n",
       "  '5896.536',\n",
       "  '5650.847',\n",
       "  '5742.522',\n",
       "  '6277.904',\n",
       "  '5837.864',\n",
       "  '5375.822',\n",
       "  '4873.443',\n",
       "  '3817.347',\n",
       "  '3450.647',\n",
       "  '3296.633',\n",
       "  '3179.289',\n",
       "  '3560.657',\n",
       "  '4807.437',\n",
       "  '4880.777',\n",
       "  '3993.363',\n",
       "  '4554.414',\n",
       "  '5170.47',\n",
       "  '4466.406',\n",
       "  '4066.703',\n",
       "  '4591.084',\n",
       "  '5441.828',\n",
       "  '5555.505',\n",
       "  '5687.517',\n",
       "  '6725.278',\n",
       "  '5306.149',\n",
       "  '5089.796',\n",
       "  '4620.42',\n",
       "  '4598.418',\n",
       "  '5610.51',\n",
       "  '5775.525',\n",
       "  '6648.271',\n",
       "  '6002.879',\n",
       "  '8265.418',\n",
       "  '8060.066',\n",
       "  '6387.914',\n",
       "  '7763.039',\n",
       "  '8694.457',\n",
       "  '7587.023',\n",
       "  '6747.28',\n",
       "  '',\n",
       "  '',\n",
       "  '',\n",
       "  '',\n",
       "  '']]"
      ]
     },
     "execution_count": 108,
<<<<<<< HEAD
>>>>>>> upstream/master
=======
>>>>>>> upstream/master
     "metadata": {},
     "output_type": "execute_result"
    }
   ],
   "source": [
    "lines = out.decode('UTF-8').splitlines()\n",
    "lines = [l.split(',') for l in lines]\n",
    "lines = [[c.replace('\"', '') for c in l] for l in lines]\n",
    "lines"
   ]
  },
  {
   "cell_type": "markdown",
   "metadata": {
    "slideshow": {
     "slide_type": "subslide"
    }
   },
   "source": [
    "As in Pandas `Series` are one-dimensional labeled arrays, we are now ready to go to create two time series of CO2 emissions for Danmark and Uruguay repectively.\n",
    " "
   ]
  },
  {
   "cell_type": "code",
<<<<<<< HEAD
   "execution_count": 109,
   "metadata": {
    "slideshow": {
     "slide_type": "fragment"
    }
   },
=======
   "execution_count": 38,
   "metadata": {},
>>>>>>> upstream/master
   "outputs": [
    {
     "name": "stdout",
     "output_type": "stream",
     "text": [
      "['Country Name', 'Country Code', 'Indicator Name', 'Indicator Code', '1960', '1961', '1962', '1963', '1964', '1965', '1966', '1967', '1968', '1969', '1970', '1971', '1972', '1973', '1974', '1975', '1976', '1977', '1978', '1979', '1980', '1981', '1982', '1983', '1984', '1985', '1986', '1987', '1988', '1989', '1990', '1991', '1992', '1993', '1994', '1995', '1996', '1997', '1998', '1999', '2000', '2001', '2002', '2003', '2004', '2005', '2006', '2007', '2008', '2009', '2010', '2011', '2012', '2013', '2014', '2015', '2016', '2017', '2018', '']\n",
      "[['Denmark', 'DNK', 'CO2 emissions (kt)', 'EN.ATM.CO2E.KT', '29779.707', '31734.218', '36926.69', '40707.367', '43189.926', '44337.697', '50127.89', '49075.461', '53325.514', '59401.733', '62100.645', '57062.187', '59643.755', '59266.054', '55078.34', '55778.737', '60135.133', '61847.622', '61117.889', '62999.06', '60369.821', '51789.041', '53695.881', '50175.561', '50861.29', '60072.794', '58903.021', '58341.97', '55107.676', '48785.768', '50230.566', '60270.812', '54322.938', '57065.854', '61000.545', '57172.197', '72181.228', '61557.929', '59552.08', '55148.013', '51330.666', '52918.477', '52049.398', '55998.757', '50600.933', '47095.281', '54986.665', '50256.235', '46933.933', '44510.046', '46640.573', '40645.028', '36427.978', '38532.836', '33498.045', '', '', '', '', ''], ['Uruguay', 'URY', 'CO2 emissions (kt)', 'EN.ATM.CO2E.KT', '4319.726', '4121.708', '4011.698', '4319.726', '4558.081', '5522.502', '5405.158', '4884.444', '4884.444', '5595.842', '5742.522', '5808.528', '6076.219', '5775.525', '5683.85', '5969.876', '5896.536', '5650.847', '5742.522', '6277.904', '5837.864', '5375.822', '4873.443', '3817.347', '3450.647', '3296.633', '3179.289', '3560.657', '4807.437', '4880.777', '3993.363', '4554.414', '5170.47', '4466.406', '4066.703', '4591.084', '5441.828', '5555.505', '5687.517', '6725.278', '5306.149', '5089.796', '4620.42', '4598.418', '5610.51', '5775.525', '6648.271', '6002.879', '8265.418', '8060.066', '6387.914', '7763.039', '8694.457', '7587.023', '6747.28', '', '', '', '', '']]\n"
     ]
    }
   ],
   "source": [
    "print(header_cols)\n",
    "print(lines)"
   ]
  },
  {
   "cell_type": "markdown",
   "metadata": {
    "slideshow": {
     "slide_type": "subslide"
    }
   },
   "source": [
    "Since our data and the corresponding indexes are still all strings we have to convert them to floats and integers repectively. We do so using two different mechanisms. Once, creation of typed NumPy arrays and on the other hand via a Pandas method `convert_objects`, which converts strings to numerical values of a suitable type."
   ]
  },
  {
   "cell_type": "code",
<<<<<<< HEAD
   "execution_count": 112,
   "metadata": {
    "slideshow": {
     "slide_type": "subslide"
    }
   },
=======
   "execution_count": 39,
   "metadata": {},
>>>>>>> upstream/master
   "outputs": [
    {
     "data": {
      "text/plain": [
       "29779.707000000002"
      ]
     },
<<<<<<< HEAD
     "execution_count": 112,
=======
     "execution_count": 39,
>>>>>>> upstream/master
     "metadata": {},
     "output_type": "execute_result"
    }
   ],
   "source": [
    "# reference to check graph: https://www.klimadebat.dk/grafer_co2udledning.php\n",
    "header_cols[4:-1]\n",
    "lines[0][4:-1]\n",
    "\n",
    "ts_dk = pd.Series(lines[0][4:-1], index=np.asarray(header_cols[4:-1], dtype=int))\n",
    "ts_dk = pd.to_numeric(ts_dk)\n",
    "ts_dk.loc[1960]"
   ]
  },
  {
   "cell_type": "code",
<<<<<<< HEAD
   "execution_count": 113,
   "metadata": {
    "slideshow": {
     "slide_type": "subslide"
    }
   },
=======
   "execution_count": 40,
   "metadata": {},
>>>>>>> upstream/master
   "outputs": [
    {
     "data": {
      "text/plain": [
<<<<<<< HEAD
       "<matplotlib.axes._subplots.AxesSubplot at 0x7f724c185ef0>"
      ]
     },
     "execution_count": 113,
=======
       "<matplotlib.axes._subplots.AxesSubplot at 0x7fd146974be0>"
      ]
     },
     "execution_count": 40,
>>>>>>> upstream/master
     "metadata": {},
     "output_type": "execute_result"
    },
    {
     "data": {
<<<<<<< HEAD
      "image/png": "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\n",
=======
      "image/png": "iVBORw0KGgoAAAANSUhEUgAAAYcAAAD8CAYAAACcjGjIAAAABHNCSVQICAgIfAhkiAAAAAlwSFlzAAALEgAACxIB0t1+/AAAADl0RVh0U29mdHdhcmUAbWF0cGxvdGxpYiB2ZXJzaW9uIDIuMi4yLCBodHRwOi8vbWF0cGxvdGxpYi5vcmcvhp/UCwAAIABJREFUeJzt3Xt829V9+P/XkWz5Gt/vdhLbiXN1nCu5cAsECAltCSuU0RtZy6AblLG2bF+6reuvl21tt/W2djAGdLB2pfQGKbcQcoMCuTjkfrcTx5f4fr/Lls7vD33kyLFkS7ZlydL7+XjoEel8Pvr4HMvR+3PuSmuNEEII4coU6AwIIYQIPhIchBBCjCDBQQghxAgSHIQQQowgwUEIIcQIEhyEEEKMIMFBCCHECBIchBBCjCDBQQghxAgRgc7AeKWlpen8/PxAZ0MIIaaNQ4cONWmt0705d9oGh/z8fEpLSwOdDSGEmDaUUpe8PVealYQQQowgwUEIIcQIEhyEEEKMIMFBCCHECBIchBBCjCDBQQghxAgSHIQQQowgwUGIMNLVP8jvPqxGtgcWY5HgIEQYee3YZb780lHKG7sCnRUR5CQ4CBFGGjv7Aahu7Q1wTkSwk+AgRBhp7rYCcLmtL8A5EcFOgoMQYaTFCA617VJzEKOT4CBEGHEGh5o2CQ5idBIchAgjzV3OZiUJDmJ0EhyECCMt0ucgvDRmcFBKzVdKHXF5dCil/loplaKU2qGUOm/8m2ycr5RSP1ZKlSmljimlVrhca6tx/nml1FaX9JVKqePGe36slFL+Ka4Q4UtrPazPwW6XuQ7CszGDg9b6rNZ6mdZ6GbAS6AF+DzwB7NRaFwE7jdcAm4Ei4/EQ8CSAUioF+DqwBlgNfN0ZUIxzHnR536ZJKZ0QYkhX/yBWm52ZKTEM2DRNXf2BzpIIYr42K90ClGutLwFbgOeN9OeBu4znW4AXtMM+IEkplQ3cDuzQWrdorVuBHcAm41iC1nqfdkzbfMHlWkKISeLsbyjJTQLgcrs0LQnPfA0O9wG/NJ5naq1rjed1QKbxPBeocnlPtZE2Wnq1m/QRlFIPKaVKlVKljY2NPmZdiPDmnONQnJsISKe0GJ3XwUEpZQHuBH599THjjt/vDZha66e11qu01qvS073aI1sIYXD2NyyR4CC84EvNYTPwoda63nhdbzQJYfzbYKTXADNd3pdnpI2WnucmXQgxiVq6HX0M+WmxxFnMMtdBjMqX4PBJrjQpAWwDnCOOtgKvuKTfb4xaWgu0G81P24GNSqlkoyN6I7DdONahlFprjFK63+VaQohJ4mxWSo2LIicpRmoOYlQR3pyklIoDbgO+4JL8HeAlpdQDwCXgXiP9deAOoAzHyKbPAWitW5RS3wIOGud9U2vdYjx/GPgfIAZ4w3gIISZRS5eVmEgzMRazERykQ1p45lVw0Fp3A6lXpTXjGL109bkaeMTDdZ4DnnOTXgoUe5MXIcT4tHRbSYmzAJCTFMPJy+0BzpEIZjJDWogw0dxtJTXeERxyk6Jp6rLSN2ALcK5EsJLgIESYaOm2kupScwColbkOwgMJDkKEieauflLiogDITnQEB+mUFp5IcBAiDGitr2pWcgQHGc4qPJHgIEQY6LHa6B+0D3VIZyZGoZTUHIRnEhyECAPO2dHO4BAVYSY9PkqCg/BIgoMQYeDKBDjLUFpOUox0SAuPJDgIEQacS2ekuASH3KQY6XMQHklwECIMOJfrTjVGKwFkJ0Zzua0Xx7xVIYaT4CBEGBjqc4gf3qzUN2CntWcgUNkSQUyCgxBhoKXbSlSEiTiLeSjNORFOOqWFOxIchAgDTV2O2dGu27PLXAcxGgkOQoSBlu7+YU1KADlJ0QDUSnAQbkhwECIMOFZkjRqWlhJnISrCJHtJC7ckOAgRBppdFt1zUkrJcFbhkQQHIcKA614OrrKToqVDWrglwUGIENc3YKPHanMbHHISZbtQ4Z4EByFCnLulM5xykmJo6OzHOmif6myJICfBQYgQ1+KcHR0fNeJYblIMWkN9h3RKi+EkOAgR4prdrKvkJBPhhCcSHIQIcS2jNis55jpcbpfgIIaT4CBEiHMuunf1JDhwrTlIs5IYToKDECGuudtKpFkxIypixLHoSDMpcRaZ6yBGkOAgRIhr6e4n5ap1lVzlyFwH4YYEByFCnLulM1zJXAfhjgQHIUKcu6UzXOUkxVArfQ7iKhIcxJT4sLKV7791VnYdCwBPS2c45SbF0Nk/SEefbPojrhjZQyXEJOvoG+Dhn39IXUcfy2YlsWFBZqCzFFZauqykuhmp5OQ61yEhK3KqsiWCnNQchN/982unaejsIyXOwpN7ygOdnbDSP2ijs39wjGYlY66D9DsIFxIchF+9e76RFw9W8dCNc3h0w1wOVrRysKIl0NkKG63djqaiUTukh3aEk34HcYUEhyDV0NHH7z6sDnQ2JqS7f5AnfnucwvQ4/vrWIu67ZpbUHqZYU5fnpTOc0uOjiDQrqTmIYSQ4BKlvv3aaL790lEvN3YHOikfHqtto7/HcifndN89wub2Xf72nhOhIMzEWM392bT67zjRwurZjCnMavoaWzhilz8FkUmQlRst2oWIYCQ5BqKqlh9eO1wKw/0JwNsHsPtvAnT95j5v/fQ+/PFCJzT58FNL+C8288MElPndtAStnpwylb12XT5zFzFN7pfYwFZzBYbSaAzjnOkizkrhCgkMQevaPF1HAjOgI9l1sDnR2Rmjo7OPxl44yLzOeuRnxfPV3x7nrp+9x6FIrAL1WG3/722PMSonl8dvnDXtvYmwkn147mz8cvUxlc08gsh9WRtvLwVVuUgwXmrroH7RNRbbENCDBIci0dlv51cEq7lyWw3Vz0jhwMbhqDna75isvHaXbOshPP7WCXz20lh9/cjmNnf3c/eT7fPmlI3zjDye51NzDd+8uIdYycrT0A9cXEGEy8V/vSO3B31q6+zGbFAnRow9R3bI8l6YuK0/vvTBFORPBToJDkPn5vkv0Dth46MZC1hSmUN3aG1SLoj3zxwu8e76Jr310EUWZM1BKcefSHHZ+ZT0P3zSHV4/W8uLBKj6zdhbr5qS6vUZmQjR3r8zl14eqaeiUpoyJOlHT7vH36JwAZzK5X1fJaf28dD5Sks1/7C6joil4+7nE1JHgEET6Bmz8z/sV3DQ/nQVZCawpcHy57r8QHE1Lx6vb+dftZ9m0OItPrZ417FhcVAR/u2kBb33pRv7m9vl8dfPCUa/10I1zGLTZee6PFX7Mcejrtdq4978+4BvbTrk93tw1+tIZrv7xo4uwmE187ZUTMpNdeBcclFJJSqnfKKXOKKVOK6XWKaVSlFI7lFLnjX+TjXOVUurHSqkypdQxpdQKl+tsNc4/r5Ta6pK+Uil13HjPj5Wn5SND3G8/rKa528pDNxYCsCBrBokxkUHRKd3dP8hfvXiYtPgovnP3Eo8rfOanxfHIzXOJc7M8tKuCtDg2L8nmF/suybINE/Du+UZ6rDZ2nWmg1zqyv2CspTNcZSZE8/jGebx7vmloQIQIX97WHH4EvKm1XgAsBU4DTwA7tdZFwE7jNcBmoMh4PAQ8CaCUSgG+DqwBVgNfdwYU45wHXd63aWLFmn5sds1/v3OBkrxE1hU6agwmk+Ka/BT2B0Gn9Ne3naSiuZsf/OkykmK9+7IZy1+un0Nn/yD/+8GlSbleONp+sh6loHfAxt5zjSOO+xIcAD67Lp8luYl88w+nJGiHuTGDg1IqEbgReBZAa23VWrcBW4DnjdOeB+4ynm8BXtAO+4AkpVQ2cDuwQ2vdorVuBXYAm4xjCVrrfdpRl33B5VphY8epOiqae3joxsJhd+VrC1OoaO4J6Abwrxyp4TeHqnn05rmsLXTfjzAexbmJrC5I4bVjU3uXarProGg2qWnr5Ybv7aKsoWtc7x+02dl5pp6PLMkmKTaSN0+M/D02dfV73awEYDYp/ulPimns6ufft58dV75EaPCm5lAANAI/U0odVko9o5SKAzK11s6/xjrAuZpaLlDl8v5qI2209Go36WFDa81Tey8wKyWWTYuzhh1z9jvsC1C/g9aa7715lqV5ifzVLUWTfv1F2QlUNHdP6Zf1J5/ex9afHaTHOjhlP9Odo1VtVLX0ur3j98aBihbaegb4yJJsbluYyc7TDVgH7UPHB2x2OvoGR106w52SvCTuXzubF/Zd4lh127jyJqY/b4JDBLACeFJrvRzo5koTEgDGHb/f/3crpR5SSpUqpUobG8f3HyoYHaxo5UhVG39+QwER5uEfyaKcBGZERbB/jCGtdj/dDZc1dFHT1sufXjNrRN4mQ0FaHD1WG42d/ZN+bXdsds3hqlbeOdfIZ589QHtv4JpOalodo9DG+wX81sl6oiJMrJ+fzuYlWXT2D/JeedPQ8dZuz3tHj+Urt88nLT6Kv/v98RETHEV48OZ/ezVQrbXeb7z+DY5gUW80CWH822AcrwFmurw/z0gbLT3PTfoIWuuntdartNar0tPTvcj69PD0O+Ukx0byiZUzRxwzmxSr8pNHHbE0YLNz2w/2su5fdvEPLx9nz9mGSZvMtOesIwivn++f33d+WhwAF6do+GRdRx8DNs3GRZkcq27jk0/vG1p/aKpVtzomAR6t8j04aK3ZcaqeG4rSiLVEcN3cNOKjInjzeN3QOd5OgHMnITqSf/zoIk7UdPDzfdInFI7GDA5a6zqgSik130i6BTgFbAOcI462Aq8Yz7cB9xujltYC7Ubz03Zgo1Iq2eiI3ghsN451KKXWGqOU7ne5Vsi71NzN26cbuH9dPjEWs9tz1hSmUt7Y7fHu+veHayhv7CY/LZbffVjDn/3sICu+uYO/+N9D/O7DauwTuPPbe66Roox4co2VOydbQaojOFRM0RpSzrWqtl6bzzNbr+FCUxf3/tcH1LZP/VwS5/yViuaeUdeocudETQc1bb1sNJohoyLMbFiQwVun6hi0OZqWvF06w5OPlmSzfFYSvzpYNfbJIuR4207wKPALpdQxYBnwz8B3gNuUUueBW43XAK8DF4Ay4L+BhwG01i3At4CDxuObRhrGOc8Y7ykH3phYsaYPZ3PRx5bmeDxndYFjbSJ3s6Vtds2Te8pZnJPALx9cy4dfu42ffe4a7lqey+GqVr780lF+VTq+/9zd/YMcuNjCTX6qNYBjL4FIs+Ji09QspVHV4vg5s1JiWT8vnRc+v4bGjn7uefKDKV/ksLq1l4Rox5DfYzW+1R7eOlWHScGtC69snLS5OIvWnoGhvxNnzSFtHM1KAEopNi7K4lRtBw0BHBAhAsOr4KC1PmI055Rore/SWrdqrZu11rdorYu01rc6v+iNUUqPaK3naK2XaK1LXa7znNZ6rvH4mUt6qda62HjPF3UwDCWZIser24mPiqDQaF5xZ0luIrEWs9shra8fr+ViUzeP3DwXpRTRkWZunp/BP/3JEj544hZmp8by1sk6N1cd2wflzVhtdm6anzGu93sjwmxiZkrslM3KvdTcQ4RJkZ3o2OBmdUEK//fgWnqsg3ziqQ94+1T9hGpa3tJaU93ay62LHF/ux6rbfXr/9pN1XJOfMqxWsH5+OtGRJt444fi8W4aW6/atQ9rV+nmOG4N3zjeNcaYINTJDOsCO1bRTnJsw6vIGkWYTK2cnj6g5aK356e4y5qTHjRjlBI55EhsWZPB+ebPbCVJj2XuukViLmVX5yWOfPAEFqXFT1qxU2dJDbnLMsM71JXmJvPSFdURFmvjzF0q57Qd7efFAJX0D/luErqN3kK7+QRZlJ1CYFscRH/odLjZ1c66+i9uv+sxjLRGsn5fO9pN12O2alm4rJgVJMePf+nNh9gzSZ0SNe0SVmL4kOASQddDO6doOSvKSxjx3TUEKZ+o6h0agAOw608CZuk7+8qa5HoPLhgUZ9A/aeb/ctzs/rTV7zjVw7ZxUoiLc94VMlvw0R3CYijv2qpYeZqXEjkgvypzBrq/cxI/uW0Z0pJknfnec67+7i//YeX7Y73zS8mF0RucmxVCSl+jTiCVnTfC2RSP34t5cnE1DZz+Hq1pp7raSHDv2ukqjUUqxfl46755vlFFLYUaCQwCdq+/EOmhnSW7imOeuMSafHTC22NRa85PdZeQlx7Bl2ej9FXEWMzvPNHg8x50LTd1UtfSy3o9NSk75aXH0Ddipn4JF+C55CA7gqKFtWZbLq49ez/89uIYluYn8+45z3Pivu4f6KiaLszM6LzmWpTOTqO/op67du/K/daqexTkJzHRTjg0LM4g0K944Xufz7GhP1s9Lp61nQOY8hBkJDgHkbGcuyRs7OJTkJRIVYRpaZ+mD8mYOV7bxhfVziBxl/kFUhJkbitLZfabBp3kQziGsN83z/5Bh54glfw9nbe8doK1nwGNwcFJKce2cNH72udW8+uj1dPcP8tI4O/U9qW51BoeYoZrjUS++fBs6+/iwspWNi0Y2I4JjCOr1c9N440QdzV2TExyun5uGSSFNS2FGgkMAHa9pIzEmcswvK3B8ya+YlTzUKf3TPWVkzIjiEyvzxnino2mptr2P07WdXudt77lG5qTHub07nWyzUx0/45KfN/9xHankreLcRNbPS+c3h6ontVmlurWHWIuZpNhIFuckEGFSXt2Zv32qAa3h9uKRTUpOm4uzqWnr5Uh126jbg3orOc7C0plJEhzCjASHADpW3U5JXqLHFU6vtqYwhVO1Hew918h7Zc08eEMh0ZFj9wfctMBx97/rTL1XP6fXamPfhWbWz/N/kxJATlIMFrPJ7yOWKp3BIdW3gHfvqpnUtvfxx7LJG7FT09pLXnLM0Aiz+VkzvBqxtP1kHbNTY5mfOcPjObcuysRsUlgH7ZNScwBH09LRqja/9L+I4CTBIUD6Bmycrev0qr/BaU1BKlrDV146SlJsJJ9aM2vsNwEZM6JZmpfodb/DvgvNWAftfp3f4MpsUsxKjfV7s1LlOGoOALcszCQlzjKpTUvVrb3DJhaW5CVxtKpt1Ka/zr4B3i9vYuOizFFvKFLiLKwx5sakTmAYq6sb56Vj10xqgBTBTYJDgJyp62TQrr3qb3BaPisJi9lEU1c/n7+uYMw9E1zdvCCDI1VtNHuxVMSesw3ERJqHJt9NhfwpGM56qbmHlDgLM8bYMvNqlggTdy3LZcfJ+km7c65p6yUv+UqQWpqXSEffIBWjNK3tPtvIgE2PGMLqzuZixzmT0azkyF8SiTGR0rQURiQ4BMhxo315iRfDWJ2iI80sm5lEfFQEW9fl+/TzblmQidZXOppHs/dcI+vmpHrVZDVZCtJiudTc49fhrFUtPePuQ7n3mjysNjuvHHG77JdPOvsGaO8dIC95eM0BRl+E77Vjl0mLt7B81tjzTjYvyaYoI56lPvx9jcZsUtxQlMbec41Bsdy58D8JDgFytLqdtHgLOcZMXW99867FPPdn15AY69vd7+KcBDJmRLFrjKaliqZuKpp7hmbGTpX8tDj6B+3U+nGZhkst3cweZ3BYkJVASV4iL5VWj33yGJzDWHNdgsO8zHiiI00eJ8NVNvew41Q9d6/Mw+zFvIW0+Ch2fHk9S2dOTnAAR79DY2e/TwMbxPQlwSFAjle3syTX+85opwVZCeNq7nHOln7nXCMDNrvH8/acdQSPqepvcBpagM9P/Q4DNjuX2/p87m9w9YlVMzlV28GJGt+WurhadcuVOQ5OEWYTxTmJHjuln3vvIial+Ny1BRP62RPhvGGQpqXwIMEhAHqsg5xv6PSpSWky3Lwgg87+QQ5WeN4bYs+5RgrS4pid6nmtJ3/w99Ldl9t6sdn1hILDnUtziIow8esJdkxXu8yOdlWSl8TJy+0jgndbj5WXSqu4c1kOWT7WNCdTRkI0C7MT2HvOtwmVYnqS4BAApy53YNdQ4sNIpclw/dw0LGYTu067/8/dN+Acwjr1e2VkJUQTFeG/4azjHcbqKjEmkk3FWbx85PKE1l2qaeslKsI0YrXUpTMT6Ruwc65+eLPNL/ZX0mO18eANheP+mZNl/bx0Sita6er33y560qcRHCQ4BICz6WCJDyOVJkNcVARr56Sy66z74LD/Ygt9A3a/bewzGpNJ+XXE0niHsV7t3lUzae8d4K1T3s0Zcae6tZdcY46Dq6VDndJXmpb6B208/34FNxSlsTA7Ydw/c7Ksn5fOoF3zvp+GtA7a7Nz0b3t45t0Lfrm+8J4EhwA4XtNOZkIUmQlT30SwYX46Fxq7RzTffFjZynffOENUhIl1xjpOUy0/zX9zHSqbe7CYTWRN8He+rjCV3KSYCTUtXT2M1Wl2aiyJMZHDRixtO3KZhs7+oKg1AKycnUycxey3focDFS1cau7h7dPjD75ickhwCICj1W1ercTqDxsWOJZdcI5aqmnr5a9+eZiP/+f7NHb188M/XTalQ1hd5afFUdXS65fVPytbeshLiZnQCqXgqOF8YlUefyxrGuo78FW1MTv6akopSvISOVrlqDlorXnm3YssyJrBDUVpE8r3ZLFEmLh2rv+GtL510hEUjlaN7HsRU0uCwxTr7BvgQmP3lPc3OM1KjaUoI543T9Tyb9vPsuHf9rD9ZB2PbpjLnsdvYvOS7IDkCxwjlqw2O5fbJn/LzkvNnldj9dU9xnpWvz3k+5yHHusgLd1Wj9uuLs1L4mx9J71WG++cb+JsfSd/fkOhz6Pa/Gn9vHSqW3u5MMm1POe+2PFREfQO2Dhd2zGp1xe+keAwxU7UOP7gp7q/wdWGBRkcrGjlJ7vL2Fycxa7Hb+IrG+f7NOPaH/w1YklrTVVLz7jnOFwtLzmW6+ak8dsPfZ/zUOOyGqs7JXmJ2OyaU7XtPPPuBTITorhzlC1kA8E5YGG3j8vAj+XkZce+2F+40dGEVlrROu5rNXT2caGxa7KyFpYkOEyx48Zewb6sqTTZPrN2NnevyOP3D1/LD+9b7vEudqoVGMFhsjul23oG6OwfnNQVZjcsyKCypcfnvZWrxwgOzklrLx6o4t3zTWy9Nh9LRHD9N52ZEsuCrBm8eWJ828968tZJx77Yn147m9ykGA5Vjj84fPvV03zqv/fLyKcJCK6/ujBwrLqd3KQYUuMnZ0G08ZiZEsu/37vUq2UYplLGjChiLeZJrzlcMkYqTebcjWIjuJ+87FvTR3XbyAlwrjIToslMiOLXh6qJtZj59OrZE8uon2wuzuZQZavPwXE0b52qH9oXe8XsZA5VtI77y/1MXQd1HX2cb5Daw3hJcJhix2vafVpsL5wopZidGjfpcx0maxirq0U5CSiFz7Olq1sdo6bSR7k5cA5pvXfVTJ+XSZkqm5dkobVjCfHJcKm5mzN1nWw0FhVcNTuZuo6+oaVGfDFos1PR5PjM35NVZMdNgsMUau8Z4FJzT8BGKk0HzgX4JlOl0Uw1mcEhPiqCgrQ4Tlz2LTjUtPaSkxQ96qip1QUpRJoVD1wfuKUyxlKUEU9hehxvTFLTknOU0kZjX+yVsx212kOXfG9aqmrtxWqMdHqvrHlS8heOJDhMoWNGf4PUHDzLT42jsqWHwUkcxljZ0kP6jChiLJM7RLc4J3FogIG3HMNYRw9S96/LZ/fjN03JLnzjpZRic3EW+y+20DIJy5i/daqORdlX9sVekDWDOIt5XMGh3GhKWpA1g/0Xmif1bymcSHCYQs6Zr8U5Ehw8yU+LY9Cu3TYnaK0prWjxeR7EZA5jdVWcm0BNW69PX45Xb/LjjiXCNGYACQabi7Ox2TU7Tk2s9tDU1U/ppVY2Lr6y9WmE2cSyWUnjGrFUboxS+uy62XT2D3J8ggslhisJDlPoeHU7+amxQduOHAzyUz0PZ/11aTX3PPUBvznk2+zkyRzG6soZ5E962bTUN2Cjqavf40il6WZxTgJ5yTETblraebresS/2VZsYrZydwpm6Dp/XcSpv7CItPopNxvXeL5empfGQ4DCFjte0T/lKrNNNfprjS/zqTun6jj6+9dopAF4+fNnr6/UP2qjt6PNLE81iIzh427Tkbh+H6czZtPReWRPtvQPjvs72k/XMTIlhQdbwfbFXzU7GruFIpecNkNwpb+xmTnocqfFRLMiaIZ3S4yTBYYpUNvdQ09bLilkSHEaTHh9FnMU8bLtMrTVfe/kE1kE7f7I8l30Xm6lr924IZXVrL1o71i2abImxkcxMifG6U/rKBLjgbzLy1qbibAZsml1nxrcWUlf/IH8sa2LjoqwRs8CXz0pCKSi95HmJ+atprSlr6GJORjwA181No/RS64RW0Q1XEhymyG5jJdSb52cEOCfBTSlFflrcsGalN07U8daper502zwe3TAXreHVY97VHvwxjNVVcU4iJ71s03ZOgAuVmgPA8plJZCZE8cZxz01LH5Q387WXT9DkZv/yd841Yh20D41ScjUjOpL5mTN86pRu7rbS3jvAnHRncEjFOmgfV8d2uJPgMEV2nWmgIC1uaIkI4Vl+2pWlu9t6rPzjKycozk3gz68voDA9npK8RF454mVwaPZzcMhNpKK5h46+sZtVatp6iDApMmcEbgLkZDOZFJsWZ7H3XCPdbvoGKpt7+ML/lvK/+y6x6YfvjKhhvHWyjpQ4C6vy3e9uuCo/mcOVbV4PQnCOVJpr1BxWF6QSYVLStDQOEhymQK/VxgcXmqXW4KWC1DiqW3sZsNn51qunaesZ4Ht3LyXC7PhzvXNpDsdr2odGpYymsqWH6EgT6X76Ql6c49hj4aQX/Q7Vrb1kJ0UPlSNUbCrOpn/Qzp6zw5fx7rXa+MLPDwHwzP2rSIuP4vP/U8o/vHycXqsN66CdnWcauHVhhsd9sVfNTqGrf5Czdd7tW13e6LipmJPuuAmLj4pg6cwk3pNOaZ+F1l9pkHq/vAnroJ2bF0z9JjrTUX5aHDa75hf7LvHbD6v5i/VzWJRzZaObjy3NQSnHXgdjqWxxDGP116qmV5bRGLtpyZthrNPR6oIUUuMsvHGidihNa83fv3yc07Ud/Oi+5dy6KJNXvngdD91YyM/3VfKRH7/Ls3+8SGffIBsXZXm89pXJcN71O5Q3dhEdaSIn8crv+bo5qRyvbptQp3k4kuAwBXafbSDWYmZ1gfuqsxiuwBivcy9IAAAdh0lEQVSx9O3XTjMnPY5Hb5k77HhmQjTrClPZdvTymGvvVDb3MCvFf015afFRZCdGe7WMRo0XE+CmI7NJsXFxJrvPNAx1/P5ifyW/+7CGx24p4uYFjhpzVISZv7tjIf/352voHbDx3TfPEGsxc/0oe1XkJceQmRBFqZd9BuWNXRSmxQ+bgX7t3DTsGvZfkNqDLyQ4+JnWmt1nGrl+bhpREYHZRGe6cc51sGnN9+4pcft727Ish4tN3aNOcNJaD9Uc/GlxTiInxliAzzpop76zLyRrDuBoWuq22nj3fBOHK1v5xh9Osn5eOo/dUjTi3GvnpvHmYzdy3zUz+Yv1c0bdXEopxcrZyV53KJc3Xhmp5LR8VhLRkSaZ7+AjCQ5+dq6+i5q23qG7JzG2lDgLhelxPHRjIStnu69tbVqcjcVsGrVjurGrn94Bm1+Gsboqzk2gvLGLHqvnyVq17Y4htaEyAe5q6wpTSYiO4MUDlTz8iw/JTIjmR/ct87iGVGJsJN+5u4S/chM8rrZydgrVrb3Uj7ECbN+AjerW3qH+BqeoCDPX5KdIp7SPJDj4mQxh9Z1Sire/tJ6vbl7o8ZzE2Ehump/OH45e9jiSpcrPw1idinMS0ZpRdy6rDsE5Dq4sESZuXZTJzjMNNHdbeeozK0mKtUzKtVcZ/Q5jLaVxobEbra+MVHJ13dw0zjd0TeoS46FOgoOf7TrTwMLsBLISJ7axfbjxZq/nLctyaejs99iW7Fzd1d8L2Dk7pY9Xe27iGmsHuFCwZVkuAN/eUjz0O5kMi3ISiI40jdm05By95pzj4Oq6OY5+DWla8p4EBz9q7x3g0KVWNsgoJb+4ZWEGcRazx6alypYelPL/F3JmQhRp8ZZR+x2qW3swKUL6JmH9vHT2ffUW7r1m5qReN9JsYmle0pgjlsobu1Dqyo6CrhblJJAYEylNSz6Q4OBH755vxGbX0qTkJ9GRZm4vzuL1E7X0D15ZHkFrzWvHavnVwSrykmNG7fCcDEopR6f0KJ3j1a29ZCVEExlicxyu5q/gtyo/mZOXO+i1el4Go7yx2+PnbTYp1hWm8n55s2wd6iWv/lKVUhVKqeNKqSNKqVIjLUUptUMpdd74N9lIV0qpHyulypRSx5RSK1yus9U4/7xSaqtL+krj+mXGe/0zKH2K7TrTQFJsZNBtxxlKtizLpbNvcGgC1qFLLXz8yfd55P8+JCE6ku/fu2xK8rEkN5HzDV0e1/CpbgvNYaxTZdXsFAbtmsOj7Ctd3tDltknJ6bq5qdS09U76ZlKhypfbmJu11su01quM108AO7XWRcBO4zXAZqDIeDwEPAmOYAJ8HVgDrAa+7gwoxjkPurxv07hLFCTsds3es42sn5fucfanmLjr5qSSGmfhhQ8q+MufH+LuJz+gprWX791dwuuP3cA1HpZlmGzFuQnY7NrjTN6a1t6QWlNpqq0uSCE60uRxeXC7XXOhafTgcO1cR7/De+XStOSNidRxtwDPG8+fB+5ySX9BO+wDkpRS2cDtwA6tdYvWuhXYAWwyjiVorfdpR33vBZdrBbUjVW18980zbqu6x2raae62SpOSn0WYTXy0JJv3yprZe66RL906jz1/cxP3XjNzSoPy0PLdbmZKH65spba91+9DakNZXFQEty3K4rXjtQy42dmtpq2XvgG725FKToVpceQkRrPrdIM/sxoyvA0OGnhLKXVIKfWQkZaptXbOl68DnMsq5gKuu7FUG2mjpVe7SQ96z7x7gSf3lPOnT38wYojc7jMNKOXopBP+9fDNc3l8oyMoPHZrEbGWiCnPQ15yDIkxkSP6HapaenjwhVLykmP57NrZU56vULJlaQ4t3Vb+eH7knf9oI5WclFJ8bFkOe881ul0hVgznbXC4Xmu9AkeT0SNKqRtdDxp3/H7v5VFKPaSUKlVKlTY2No79Bj87UtVGUUY8ZQ1dbPnpe5xyGa2y+2wDy2cmkRw3OWO9hWeZCdF8cUMRGTMCNxJIKUVxbsKwjX/aewf43P8cxDpo57k/u4bU+NBZjTUQbpyXTlJsJC8fqRlx7OoF9zy5Z0Ueg3bt9aq+4cyr4KC1rjH+bQB+j6PPoN5oEsL411lXqwFcx7LlGWmjpee5SXeXj6e11qu01qvS0wN7R97U1U91ay+fWJXHr/9iHQCfeOp9dp6up6Gzj2PV7WyQWdFhpTgnkbN1nVgH7QzY7Dz8i0Ncau7mvz67atTmDuEdS4SJO5Zk89bJ+hGz0csbu0iKjSRljJuxoswZLM1L5DeHqkc9T3gRHJRScUqpGc7nwEbgBLANcI442gq8YjzfBtxvjFpaC7QbzU/bgY1KqWSjI3ojsN041qGUWmuMUrrf5VpB62iVY+vCZTOTWZyTyMuPXEdhejwPvlDK3/z6GIAsmRFmFucmYrXZOVffyddePsF7Zc38y8dLWDcnNdBZCxl3Lculd8DGjlPD94VwjlTyZqDj3SvzOF3b4fXe3+HKm5pDJvBHpdRR4ADwmtb6TeA7wG1KqfPArcZrgNeBC0AZ8N/AwwBa6xbgW8BB4/FNIw3jnGeM95QDb0y8aP51pKoNs8nRlACOpo1ffWEtty7MZO+5RjIToliUnTDGVUQoKTaWFf+Hl0/w4sEqHt0wl3tW5o3xLuGLVbOTyUmMHtEsVN7YNWaTktPHSnKINCt+e8htA4UwjNlzp7W+ACx1k94M3OImXQOPeLjWc8BzbtJLgWIv8hs0jlS1MS9zxrDOz1hLBE99ZiX//e4FshKj/baHgAhO+alxxEdFcKSqjY8tzeHLt80LdJZCjsnk6FR+9t2LtHRbSYmz0NZjpanL6nXTXXKchVsXZvLKkRq+eseCkJ+YOF7yWxkHu11ztKqNZTOTRhwzmRRfWD9naJ0ZET5MJsV1c1NZU5DCv95TIjcHfnLXslwG7ZrXjjsGS17pjPa+X+fuFXk0d1tH7F4nrpDgMA4Xm7vp6BtkuZvgIMLbU59ZyS8fXOv3JTvC2YKsGczLjGebMWrJm2GsV1s/P520eAu/lY5pjyQ4jMORSqMzepYEBzGcUsqrFWXF+Cml2LIsl4MVrVS39lDe2IXFbPJpgcVIs4kty3LZeaae1m6rH3M7fUlwGIej1W3EWcw+3akIISbPnUtzANh29DLlDV3kp8US4WPfwT0r8xiwabYdlTkP7khwGIcjVW2U5CXJmklCBMjMlFhWzk5m25HLlDd2j+tGbWF2AouyE2TOgwcSHHzUN2DjdG2HNCkJEWBbluVwpq6Ti03d455kePfKPI7XtHOu3v2CieFMgoOPTl7uYMCm3Y5UEkJMnY8syR6qvY+3iXfLshwiTEo6pt2Q4OCjKzOjJTgIEUip8VHcUORYhnu8wSEtPoqb5mfwu8M1DLpZ7TWcSXDw0ZGqNrITo8lMCN3tHoWYLj5/XQHFuQkUZY5/cMg9K/No7Oxn7zmZ8+BKgoOPjniY/CaEmHo3zkvn1UdvmNC8kg0LMshJjOYnu8u82kK0tr2X98NgL2oJDj5o7uqnsqWHpRIchAgZlggTX9xQxOHKtjFnTNvtmr/8+Yf82f8cHLZveSiS4OCDY9WOVRyl5iBEaPnEqjxmpsTw/R3nRq09/P5wDUeq2rAO2jlTG9ojnCQ4+OBwVRsm5dhMXggROiLNJh7dUMTxmvYRy4E7dfUP8p03z1CQ5lj99Vh121RmccpJcPCBcyXWuKip34ZSCOFfH1+eS0FaHN/fcQ67fWTt4ae7y2js7Of79y4lNc4y1JIQqiQ4eElrzyuxCiGmvwizicduKeJMXSdvnKgbdqyiqZtn373Ix1fksnxWMiV5iRIchENFcw/tvQMSHIQIYR9bmsPcjHh++PY5bC61h2+/dppIs+KJTQsAKMlL4nxD54jtSkOJBAcvHalqBWQlViFCmdmk+Otbizjf0MWrxxwL8r1zrpG3T9fzyIa5ZBjzm0ryErFrOFHTEcjs+pUEBy8dqWwj1mKmKGNGoLMihPCjO4qzWZA1gx++fZ6+ARvffPUUs1NjeeD6gqFzSvIcN4mh3CktwcFLR6raWJKbKCuxChHiTCbFl26bx8WmbrY+d4Cyhi7+4SOLiIq4MtEufUYUOYnRHA3hfgcJDl7oH7RxSlZiFSJsbFyUSXFuAvsvtnBDURq3LswYcU5JXpLUHMLdwYutDNi0bAsqRJhQSvF3dyykMC2Or39skdv9wEtmJnKpuYe2ntDcSU6CwxgOXWrh4V8cIishmnWFaYHOjhBiilw7J41dj9/EXA/9jEuNfofjNaHZtCTBYRR7zjbw6Wf2kxofxW/+ch2JsZGBzpIQIkgUGyslhOp8B5nq68Efjl7myy8doShjBi88sJq0+KhAZ0kIEUQSYyIpSIsb2uMl1EjNwY1f7L/EX714mOUzk3nxC2slMAgh3ArlmdISHK7yn3vK+Pvfn2DD/AxeeGA1CdHSlCSEcK8kL4m6jj4aOvoCnZVJJ8HBRWlFC9978yxbluXw1GdXTmgDESFE6Fua5+h3CMX5DhIcXPxo53nS4i38y8eXEGmWX40QYnSLcxwTY0NxvoN8AxoOXWrh3fNNPHRjIbEW6acXQowtxmKmKCM+JPsdJDgYfvj2eVLjLHxm7exAZ0UIMY04OqXbvNp/ejqR4IDUGoQQ41eSl0RrzwDVrb2BzsqkkuCAo9aQEmfhs+uk1iCE8I1zpvTREOt3CPvgcOhSK++eb+ILUmsQQozD/KwZWMymkOt3CPvg8KOdUmsQQoyfJcLEwpyEkJspHdbB4cPKVt451yh9DUKICVmal8iJmvZhW4tOd2EdHH7k7GuQEUpCiAlYkptIt9XGxaauQGdl0oRtcDhc2crec408eEMhcVFSaxBCjN9SY6+Xo1Wh0+8QtsHhP3aVkRwbyf3S1yCEmKA56fHEWswhNVPa6+CglDIrpQ4rpV41XhcopfYrpcqUUr9SSlmM9CjjdZlxPN/lGl810s8qpW53Sd9kpJUppZ6YvOK519TV79irYc1sqTUIISbMbFIsm5nE/ostgc7KpPGl5vAYcNrl9XeBH2it5wKtwANG+gNAq5H+A+M8lFKLgPuAxcAm4D+NgGMGfgpsBhYBnzTO9Zu3TtZj1/CRkmx//hghRBhZPy+dM3Wd1LSFxmQ4r4KDUioP+AjwjPFaARuA3xinPA/cZTzfYrzGOH6Lcf4W4EWtdb/W+iJQBqw2HmVa6wtaayvwonGu37xxopb81FgWZLnf/k8IIXx1y8IMAHafaQhwTiaHtzWHHwJ/C9iN16lAm9Z60HhdDeQaz3OBKgDjeLtx/lD6Ve/xlD6CUuohpVSpUqq0sbHRy6wP19pt5f3yZjYvyXa7abgQQozHnPR4ZqbEhE9wUEp9FGjQWh+agvyMSmv9tNZ6ldZ6VXp6+riuseNUPTa75o5iaVISQkwepRQb5mfwXnkTfQO2QGdnwrypOVwH3KmUqsDR5LMB+BGQpJRy9ubmATXG8xpgJoBxPBFodk2/6j2e0v3i9RO15CXHUJyb4K8fIYQIUzcvyKBvwM4HF5oDnZUJGzM4aK2/qrXO01rn4+hQ3qW1/jSwG7jHOG0r8IrxfJvxGuP4Lu1Yy3YbcJ8xmqkAKAIOAAeBImP0k8X4GdsmpXRXae8d4L2yJu6QJiUhhB+sLUwlJtIcEk1LE5nn8P+ALyulynD0KTxrpD8LpBrpXwaeANBanwReAk4BbwKPaK1tRr/EF4HtOEZDvWScO+l2nq5nwKbZXJzlj8sLIcJcdKSZ6+amsvN0w7Tf38GnQf5a6z3AHuP5BRwjja4+pw/4hIf3/xPwT27SXwde9yUv4/H68TpyEqNZZsxmFEKIybZhQSZvn27gfEMX8zKn74jIsJkh3dk3wDvnG7m9OEualIQQfnPzAsdgmV2jNC219wzwL6+fpqNvYKqy5bOwCQ67zjRgHbRzxxIZpSSE8J/sxBgWZieMGhy+t/0M//XOBd48XjeFOfNN2ASHN0/UkTEjipWzkgOdFSFEiNuwIJ1Dl1pp7xlZMzhR087/HagEYN/F4B3VFBbBocc6yO6zDWwqzsJkkiYlIYR/bViQgc2u2Xt++GRdrTXf+MNJkmMtXD83jf0XgnctprAIDnvONtI3YGezTHwTQkyBZTOTSY6NHDGkddvRyxysaOVvb5/PrQszqGnrpbq1J0C5HF1YBIfXj9eSGmdhdUFKoLMihAgDZpPipvkZ7DnbMLQ7XHf/IP/8+mlK8hK5d9VMVhekAgRt7SHkg0PfgI1dZxq4vTgLszQpCSGmyM0LMmjtGeCIsbf0f+wqo76jn//vzsWYTIoFWTNIjInkQJAu8x3ymxnsPddIj9UmE9+EEFNqfVE6ZpNi95kGUuIsPPvHC9y9Io8VxqAYk0lxTX4K+4O0Uzrkg8OOU/UkxkSytjA10FkRQoSRxNhIVs5KZteZBk5ebicqwsz/2zx/2DlrC1N4+3Q99R19ZCZEByin7oV8s9L+i82sK0wl0hzyRRVCBJmbF2RwqraD3WcbeeyWIjJmDA8Aa4x+h31BuFBfSH9j1rb3UtXSyzXSES2ECADnBkBz0uPYem3+iOOLchKYERURlNuLhnSzkrOjZ3W+BAchxNQryojnizfPZePiTCwRI+/FzSbFqvxk9kvNYWodrGghzmJmYfb0XfxKCDF9KaV4/Pb5lOR5XuxzTWEq5Y3dNHb2T2HOxhbaweFiKytmJxMh/Q1CiCC1xmj2DrYhrSH7rdnWY+Vsfac0KQkhglpxbiKxFnPQDWkN2eBQWtEKIJ3RQoigFmk2sXJ2ctDNlA7Z4HCwooVIs5KNfYQQQW9tYSpn6ztp6bYGOitDQjY4HKhooSQviehIc6CzIoQQo1odhP0OIRkceq02jle3c430NwghpoGSvESiIkxB1e8QksHhcFUrg3bN6gLZ2EcIEfyiIsysmBVc/Q4hGRwOXmxFKVg5W2oOQojpYU1hCqfrOmjvDY59pUMzOFS0MD/TsRyuEEJMB2sKUtEaSiuCo/YQcsFh0Gbnw8pW2dhHCDGtLJ+VhMVsCpp1lkIuOJy83EGP1Sad0UKIaSU60syymUlBs85SyAWHg0aVTGoOQojpZk1hCicud9DVPxjorITeqqwHLrYwKyU26DbOEEKIsdy1PJeleUlEmgO/pXFIBQetNaWXWrl5fkagsyKEED6bkx7PnPT4QGcDCLFmpfLGLlq6rTK/QQghJiikgsOBi47F9lYXyH7RQggxESEVHA5WtJAWH0V+amygsyKEENNaSAWHAxdbWF2QjFKB78wRQojpLGSCQ01bLzVtvTK/QQghJkHIBIc9ZxsAJDgIIcQkCIng0Npt5ftvnWPpzCQWZScEOjtCCDHthcQ8h39+/TTtvQP8/ONLMJmkv0EIISZq2tcc3i9r4teHqnnwxkIWSq1BCCEmxbQODn0DNv7u98eZnRrLY7cUBTo7QggRMsYMDkqpaKXUAaXUUaXUSaXUN4z0AqXUfqVUmVLqV0opi5EeZbwuM47nu1zrq0b6WaXU7S7pm4y0MqXUE95m/ie7yqho7uGf/2SJ7BUthBCTyJuaQz+wQWu9FFgGbFJKrQW+C/xAaz0XaAUeMM5/AGg10n9gnIdSahFwH7AY2AT8p1LKrJQyAz8FNgOLgE8a546qb8DGU3vLuXtFHtfNTfO+xEIIIcY0ZnDQDl3Gy0jjoYENwG+M9OeBu4znW4zXGMdvUY5ZaVuAF7XW/Vrri0AZsNp4lGmtL2itrcCLxrmjqmnrJSEmkr//yEIviimEEMIXXvU5GHf4R4AGYAdQDrRprZ2LjlcDucbzXKAKwDjeDqS6pl/1Hk/po+qx2vjaRxeSEmfxpghCCCF84FVw0FrbtNbLgDwcd/oL/JorD5RSDymlSpVSpRZl565lY8YQIYQQ4+DTaCWtdRuwG1gHJCmlnPMk8oAa43kNMBPAOJ4INLumX/UeT+nufv7TWutVWutVBRmJsoaSEEL4iTejldKVUknG8xjgNuA0jiBxj3HaVuAV4/k24zXG8V1aa22k32eMZioAioADwEGgyBj9ZMHRab1trHxZIqb1KFwhhAhq3syQzgaeN0YVmYCXtNavKqVOAS8qpb4NHAaeNc5/FvhfpVQZ0ILjyx6t9Uml1EvAKWAQeERrbQNQSn0R2A6Ygee01icnrYRCCCF8phw39dPPqlWrdGlpaaCzIYQQ04ZS6pDWepU350rbjBBCiBEkOAghhBhBgoMQQogRJDgIIYQYQYKDEEKIESQ4CCGEGGHaDmVVSnUCZwOdDz9LA5oCnYkpIOUMHeFQRpi+5ZyttU735sTpvE3oWW/H605XSqnSUC8jSDlDSTiUEcKjnNKsJIQQYgQJDkIIIUaYzsHh6UBnYAqEQxlByhlKwqGMEAblnLYd0kIIIfxnOtcchBBC+EnQBAel1HNKqQal1AmXtKVKqQ+UUseVUn9QSiW4HCsxjp00jkcb6SuN12VKqR+rINsRyJdyKqU+rZQ64vKwK6WWGcdCqZyRSqnnjfTTSqmvurxnk1LqrFHOJwJRFk98LKNFKfUzI/2oUuoml/cE+2c5Uym1Wyl1yvj/9piRnqKU2qGUOm/8m2ykK6McZUqpY0qpFS7X2mqcf14ptdXTz5xq4yjjAuNz7ldKPX7VtYL2b9YnWuugeAA3AiuAEy5pB4H1xvPPA98ynkcAx4ClxutUwGw8PwCsBRTwBrA50GUbbzmvet8SoNzldciUE/gU8KLxPBaoAPJx7O9RDhQCFuAosCjQZRtnGR8BfmY8zwAOAaZp8llmAyuM5zOAc8Ai4HvAE0b6E8B3jed3GOVQRrn2G+kpwAXj32TjeXKgyzfOMmYA1wD/BDzucp2g/pv15RE0NQet9Ts4NgdyNQ94x3i+A7jbeL4ROKa1Pmq8t1lrbVNKZQMJWut92vFJvQDc5f/ce8/Hcrr6JPAiQAiWUwNxyrGtbAxgBTpw7FdeprW+oLW24ij/Fn/n3Vs+lnERsMt4XwPQBqyaJp9lrdb6Q+N5J46dIHNxfBbPG6c9z5V8bwFe0A77cGwpnA3cDuzQWrdorVtx/H42TWFRPPK1jFrrBq31QWDgqksF9d+sL4ImOHhwkiu/2E9wZa/peYBWSm1XSn2olPpbIz0XqHZ5f7WRFuw8ldPVnwK/NJ6HWjl/A3QDtUAl8G9a6xYcZapyef90KKenMh4F7lRKRSjHNrkrjWPT6rNUSuUDy4H9QKbWutY4VAdkGs89fW7T4vP0soyeTIsyeiPYg8PngYeVUodwVPWsRnoEcD3waePfP1FK3RKYLE4KT+UEQCm1BujRWp9w9+ZpxFM5VwM2IAcoAL6ilCoMTBYnzFMZn8PxRVEK/BB4H0eZpw2lVDzwW+CvtdYdrseMWs+0H/oYDmX0VlAvn6G1PoOjCQml1DzgI8ahauAdrXWTcex1HG2/PwfyXC6RB9RMWYbHaZRyOt3HlVoDOMoUSuX8FPCm1noAaFBKvQeswnEH5lqLCvpyeiqj1noQ+JLzPKXU+zjatVuZBp+lUioSx5fmL7TWvzOS65VS2VrrWqPZqMFIr8H951YD3HRV+h5/5tsXPpbRE09ln3aCuuaglMow/jUB/wA8ZRzaDixRSsUa7dTrgVNG9a9DKbXWGPFxP/BKALLuk1HK6Uy7F6O/ARzto4RWOSuBDcaxOBydmGdwdO4WKaUKlFIWHEFy21Tn2xeeymj8rcYZz28DBrXW0+Jv1sjXs8BprfX3XQ5tA5wjjrZyJd/bgPuNUUtrgXajnNuBjUqpZGPUz0YjLeDGUUZPpt3frEeB7hF3PnDcGdfi6OCpBh4AHsNxd3UO+A7GpD3j/M/gaN89AXzPJX2VkVYO/MT1PcHwGEc5bwL2ublOyJQTiAd+bXyep4C/cbnOHcb55cDfB7pcEyhjPo5VhE8Db+NYHXO6fJbX42hOOQYcMR534BgluBM4b5QpxThfAT81ynMcWOVyrc8DZcbjc4Eu2wTKmGV85h04BhdU4xhYENR/s748ZIa0EEKIEYK6WUkIIURgSHAQQggxggQHIYQQI0hwEEIIMYIEByGEECNIcBBCCDGCBAchhBAjSHAQQggxwv8PUuOv0rrXX5cAAAAASUVORK5CYII=\n",
>>>>>>> upstream/master
      "text/plain": [
       "<Figure size 432x288 with 1 Axes>"
      ]
     },
     "metadata": {
      "needs_background": "light"
     },
     "output_type": "display_data"
    }
   ],
   "source": [
    "ts_dk.plot()"
   ]
  },
  {
   "cell_type": "markdown",
   "metadata": {
    "slideshow": {
     "slide_type": "subslide"
    }
   },
   "source": [
    "Now we create a time series for the corresponding Uruguaian time series."
   ]
  },
  {
   "cell_type": "code",
<<<<<<< HEAD
   "execution_count": 116,
   "metadata": {
    "slideshow": {
     "slide_type": "fragment"
    }
   },
=======
   "execution_count": 41,
   "metadata": {},
>>>>>>> upstream/master
   "outputs": [
    {
     "data": {
      "text/plain": [
<<<<<<< HEAD
       "<matplotlib.axes._subplots.AxesSubplot at 0x7f724adad128>"
      ]
     },
     "execution_count": 116,
=======
       "<matplotlib.axes._subplots.AxesSubplot at 0x7fd1460788d0>"
      ]
     },
     "execution_count": 41,
>>>>>>> upstream/master
     "metadata": {},
     "output_type": "execute_result"
    },
    {
     "data": {
<<<<<<< HEAD
      "image/png": "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\n",
=======
      "image/png": "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\n",
>>>>>>> upstream/master
      "text/plain": [
       "<Figure size 432x288 with 1 Axes>"
      ]
     },
     "metadata": {
      "needs_background": "light"
     },
     "output_type": "display_data"
    }
   ],
   "source": [
    "ts_ury = pd.Series(lines[1][4:-1], index=np.asarray(header_cols[4:-1], dtype=int))\n",
    "ts_ury = pd.to_numeric(ts_ury)\n",
    "ts_ury.plot()"
   ]
  },
  {
   "cell_type": "markdown",
   "metadata": {
    "slideshow": {
     "slide_type": "subslide"
    }
   },
   "source": [
    "# `DataFrame`\n",
    "\n",
    "Since `Series` are one-dimensional arrays, we have to create a `DataFrame` if we wanted to combine our two previous `Series` objects `ts_dk` and `ts_ur`.Since `Series` are one-dimensional arrays, we have to create a `DataFrame` if we wanted to combine our two previous `Series` objects `ts_dk` and `ts_ur`. \n",
    "\n",
    "A `DataFrame` is a 2-dimensional labeled data structure with columns of potentially different types. You can think of it like a spreadsheet or SQL table, or **a dict of Series objects**.\n",
    "\n",
    "In the following we concatenate two `Series`to form a `DataFrame`.\n",
    "\n",
    "We will use pandas concat() method [get a good explanation here](https://www.tutorialspoint.com/python_pandas/python_pandas_concatenation.htm)"
   ]
  },
  {
   "cell_type": "code",
<<<<<<< HEAD
   "execution_count": 117,
   "metadata": {
    "slideshow": {
     "slide_type": "subslide"
    }
   },
=======
   "execution_count": 42,
   "metadata": {},
>>>>>>> upstream/master
   "outputs": [
    {
     "data": {
      "text/plain": [
<<<<<<< HEAD
       "<matplotlib.axes._subplots.AxesSubplot at 0x7f724ad88a58>"
      ]
     },
     "execution_count": 117,
=======
       "<matplotlib.axes._subplots.AxesSubplot at 0x7fd144033668>"
      ]
     },
     "execution_count": 42,
>>>>>>> upstream/master
     "metadata": {},
     "output_type": "execute_result"
    },
    {
     "data": {
<<<<<<< HEAD
      "image/png": "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\n",
=======
      "image/png": "iVBORw0KGgoAAAANSUhEUgAAAYcAAAD8CAYAAACcjGjIAAAABHNCSVQICAgIfAhkiAAAAAlwSFlzAAALEgAACxIB0t1+/AAAADl0RVh0U29mdHdhcmUAbWF0cGxvdGxpYiB2ZXJzaW9uIDIuMi4yLCBodHRwOi8vbWF0cGxvdGxpYi5vcmcvhp/UCwAAIABJREFUeJzs3Xd8VeX9wPHPN4sMsgkhC5JAANkjLAciIuDEXUcLVitasbXtT61VW6vW1g6r1VZbnKBVq9YqKoqIIioz7A1hZRAgZBGyx/P745zAhZtxE25yM77v1+u+7rnPGXlOcnO+55lHjDEopZRSjrw8nQGllFLtjwYHpZRSTjQ4KKWUcqLBQSmllBMNDkoppZxocFBKKeVEg4NSSiknGhyUUko50eCglFLKiY+nM9BSPXr0MImJiZ7OhlJKdRhr1649aoyJcmXbDhscEhMTSUtL83Q2lFKqwxCRA65uq9VKSimlnGhwUEop5USDg1JKKScdts1BKaVaqqqqiqysLMrLyz2dlVbh7+9PfHw8vr6+LT6GBgelVJeTlZVFcHAwiYmJiIins+NWxhjy8vLIysoiKSmpxcfRaiWlVJdTXl5OZGRkpwsMACJCZGTkGZeKNDgopbqkzhgY6rjj3DQ4KNWFFJdX8d7aLPTxwKopGhyU6kI+2HCQe9/dyNaDxzydlS7P29ubESNGMHjwYIYPH85TTz1FbW0tAEuXLkVE+Oijj05sf9lll7F06VIAJk2adGIQ8L59+0hJSWHRokVuzZ8GB6W6kIy8EgC2aXDwuICAADZs2MDWrVtZvHgxn376KY8++uiJ9fHx8TzxxBONHiMrK4vp06fz1FNPMW3aNLfmT4ODUl3IgbxSALblaHBoT3r27MncuXP5+9//fqLKb/jw4YSGhrJ48eJ698nJyWHq1Kk88cQTXHHFFW7PU5NdWUVkAPAfh6Rk4DfAfDs9EdgPXG+MKRCrJeRvwCVAKXCLMWadfaxZwMP2cX5njJlnp48GXgMCgIXAPUYrRZVyu4x8KzhsPVjk4Zy0H49+tNXtJalBsSE8cvngZu2TnJxMTU0NR44cOZH20EMP8etf/5qLLrrIaftZs2bxu9/9jmuvvfaM81ufJksOxpidxpgRxpgRwGisC/7/gAeAJcaYFGCJ/RngYiDFfs0GXgAQkQjgEWAcMBZ4RETC7X1eAG532G+6W85OKXWCMYZMOzhszymmtlbvv9q7iRMnAvDtt986rZsyZQpvvPEGpaWlrfKzmzsI7kJgjzHmgIjMACbZ6fOApcAvgRnAfPvOf6WIhIlIjL3tYmNMPoCILAami8hSIMQYs9JOnw9cCXx6BuellDpNXkklJZU1DOwVzI5DxWTkl5LYI8jT2fK45t7ht5a9e/fi7e1Nz5492b59+4n0hx56iN/97nf4+Jx6ub7//vt5/fXXue666/jwww+d1p+p5rY53AC8ZS9HG2Ny7OVDQLS9HAdkOuyTZac1lp5VT7oTEZktImkikpabm9vMrCvVtdVVKU0f0gvQdof2JDc3lzvvvJO7777baYzC1KlTKSgoYNOmTU77PfPMM4SEhHDbbbe5vXuyy8FBRPyAK4B3T19nlxJavYxqjJlrjEk1xqRGRbn0vAqllK2uSmnKWdH4eIm2O3hYWVnZia6sU6ZMYerUqTzyyCP1bvvQQw+RmZnplC4izJs3j5ycHO6//3635q855ZCLgXXGmMP258MiEmOMybGrjepaUbKBBIf94u20bE5WQ9WlL7XT4+vZXinlRnU9lfr17E6/nt11rIOH1dTUNLhu0qRJTJo06cTnK6644pSSQd14BwA/Pz8+//xzt+evOdVKN3KySglgATDLXp4FfOiQPlMs44Eiu/ppETBVRMLthuipwCJ73TERGW/3dJrpcCyllJtk5JcSHdINf19vBsWG6FgH1SiXgoOIBAEXAe87JD8JXCQiu4Ep9mewuqLuBdKBF4G7AOyG6MeBNfbrsbrGaXubl+x99qCN0Uq5XUZ+KX0irAboQTEhHCmuILe4wsO5Uu2VS9VKxpgSIPK0tDys3kunb2uAOQ0c5xXglXrS04AhruRFKdUyGXmlnNOvBwCDY0MBq1H6/GBtv1POdIS0Ul1AeVUNh46V0zsiELAGaYEOhlMN0+CgVBeQVVAGQJ9IKziEBvgSHx6g7Q6qQRoclOoCMvKtCfcS7JIDwGBtlFaN0OCgVBeQYXdj7e0QHAbFhLIvr4SSimpPZavL2r9/P0OGnNrM+tvf/pa//OUv3HLLLSQlJTFixAiGDx/OkiVLAGuswy9/+csT2x84cIDk5GQKCwtbJY8aHJTqAg7klxLo502P7n4n0gbHhmAM7DikpYf25s9//jMbNmzgmWee4c477wTg4Ycf5oMPPjgxtcY999zD448/TlhYWKvkQYODUl1AZn4pvSMCT5ma4WSjtAaH9mrChAlkZ1tjggMCAnj66aeZM2cOCxcupLi4mJtvvrnVfrZ7Z2pSSrVLGfml9Ik8dZK9mFB/wgN9td3h0wfg0Gb3HrPXULj4yaa3a8Jnn33GlVdeeeLzJZdcwssvv8ysWbPqnanVnTQ4KNXJGWPIyC9lYsqp4xlEhMGxoVpy8IDTJ9c7Pf2+++7jwQcfJCsrixUrVpyyzZw5cygrK2PAgAGtmkcNDkp1crnFFZRX1dI7MtBp3aDYEF5bvp+qmlp8vbtoLbMb7vCbKzIykoKCglPS8vPzSUpKAqw2h2uvvZbnnnuOW2+9lbVr157YzsvLCy+v1v9bddFvg1JdR91U3Y49leoMjg2hsrqWPbnH2zpbXVr37t2JiYnhyy+/BKzA8Nlnn3Huueeest3dd99NbW0tixYtavM8anBQqpM7UE831jqDYuxG6WytWmpr8+fP5/HHH2fEiBFMnjyZRx55hL59+56yjYjw8MMP86c//anN86fVSkp1chn5pYhAXHiA07rkqO74+3qxLecY13ggb13ZoEGD+Oqrr5zSX3vttVM+X3PNNVxzzcm/zunTebcWLTko1cll5pcSGxpANx9vp3XeXsKAXiE6x5JyosFBtYnqmlryjuv00J5wIL+UhAjnUkOdumk03P2YSdWxaXBQra64vIqbX1rF2U9+yZZsvUNtaxn2ALiGDI4N4Vh59YnJ+bqKzhwM3XFuGhxUq8ovqeSmF1ex9kAB3bv5cNe/11FUVuXpbHUZZZU15BZXOA2Ac1TXKL0tp+s0Svv7+5OXl9cpA4Qxhry8PPz9/c/oONog3U6lHynmqx253HZuEl5e9Q+Yae9yisr4wcurycwvZe7M0YQG+PG9f63g3nc3MvcHoxscCKTcp64ba0IjJYeBvULwEmsajWmDe7VV1jwqPj6erKwscnNzPZ2VVuHv7098fPwZHUODQzt0rLyKW19LIyO/lMGxIZxtP72rPdlx6Bi//mALUcHduGpkPOf3j8LP52RBdN/REr7/0iqKyqqYd+tYxidbDxJ88JKzeOzjbcxdtpc7zu/b0OGVm9QFhz6NBIcAP2+So7qzrQs1Svv6+p4YcKbqp8GhnTHG8MB/N5FdWEaQnzdvrs5od8Fh6c4j3P3mevx9vdibW8LCzYcID/TlsmGxXDUqDn8fb2a+spqa2lreun08Q+NDT+z7w3MSSTuQz58W7WREQhjjkiMb+UnqTDU2AM7RkNgQvtxxhL25x0mO6t4WWVPtnEttDiISJiLvicgOEdkuIhNEJEJEFovIbvs93N5WRORZEUkXkU0iMsrhOLPs7XeLyCyH9NEistne51npwvUNb6w8wMLNh7hv2gC+N6Y3i7Ye4mg76uUzf8V+bn1tDb0jAvnoJ+ey8sELeeWWVM7p14N30jK5+vnlXPrcN/h6C+/eOeGUwADWoJ4/XjOM3hGB3P3Weo4Ul3vmRDqRr+yLen0y8koI7uZDWKBvo8e4e3I/fL29uGHuSh0trQDXG6T/BnxmjBkIDAe2Aw8AS4wxKcAS+zPAxUCK/ZoNvAAgIhHAI8A4YCzwSF1Asbe53WG/6Wd2Wh3TluwiHv94O5MGRDH7vGRuGpdAVY3hv2uzPJ01amoNv12wld98uJXJA3vy7p0TiAkNwNfbi8kDo/n7TaNIe3gKf7p2GNeOiufdOyfQr2dwvccK9vflhe+Pori8inve2kB1TW0bn03nse9oCT+an8ZP315fb+NqRn4pvSMDm2zf6dczmDdvH09NreFGDRAKF4KDiIQCE4GXAYwxlcaYQmAGMM/ebB5QN6/sDGC+sawEwkQkBpgGLDbG5BtjCoDFwHR7XYgxZqWxvt3zHY7VZRSXVzHnzXVEBPnx1+tH4OUl9OsZzNjECN5anUFtred6VRyvqOb2+Wm8tnw/t52bxL9+kEpQN+cayWB/X65PTeDP1w0nPrzxaoyBvUL43ZVDWbE3j+e+TG+trLdrxhi+3pV7Rn/bv32xi5paw5bsY3y65ZDT+qa6sToa0CuYt2aPp9YYbpi7kvQjGiC6MldKDklALvCqiKwXkZdEJAiINsbk2NscAqLt5Tgg02H/LDutsfSsetK7DGMMv3p/M1kFZTx300gigk4+revGcQnszytl5d48j+Xt9nlpfL0rl99dOYRfXzYIbzf1nrp2dDwXDuzJ22sy2rRL4ZOf7uDRj7ZSUFLZZj+zPsv35DHrldV8tOlgi/bffbiYDzce5EfnJpHSszt/+XznKaWw2lpDZkGZy8EBoH90MG/dPh5j4MYXNUB0Za4EBx9gFPCCMWYkUMLJKiQA7Dv+Vv/vFpHZIpImImmdqQvam6sz+HhTDr+4qD9jEiNOWXfxkBhCA3x5c3VGo8d4feUBnluymyXbD5NTVOa2i+3qffms2JvHQ5ecxffH93HLMR2dPyCKw8cq2mwAVnlVDS99s5dXv9vPpL8sZd7y/R6r1tqQaT3796ONLQsOz3yxm0Bfb+66oB//N3UAe3NLeH9d9on1h4vLqayuf6ruxqREB/P27HEYg12CKG5R/lTH5kpwyAKyjDGr7M/vYQWLw3aVEPb7EXt9NpDgsH+8ndZYenw96U6MMXONManGmNSoqKj6NulwMvNLefSjbUzsH8WP6+na6e/rzTWj4httmH43LZNff7CFpxbv4rZ5aUz4w5eMenwxN7+0kic/3XFGg87+tWwvEUF+3Di2d4uP0ZjUPlYwTDuQ3yrHP93Wg0VU1xrumzaAwbEhPLJgK5c++y3L04+2yc93tDnL6jr69a7cZv+Nth08xiebc/jhOUlEBPkxbXA0wxPCeOaLXZRX1QCNz8balH49rQABhv97Z2OnHCymGtdkcDDGHAIyRaTusUMXAtuABUBdj6NZwIf28gJgpt1raTxQZFc/LQKmiki43RA9FVhkrzsmIuPtXkozHY7V6X24IZvK6lr+cPXQBge73Ti24YbpLdlFPPzBFs7uG8nG30zlvTsn8NiMwUwb3Ivi8mrmLtvDXz/f2aK87TxUzJc7jjBrQiIBfs6TtrnDgF7BBHfzYc3+gqY3doP1Gdbd+nWp8fz7R+P45/dHU1pVzU0vreKO19P4dvdRKqpr2iQvm7OLSO4RRFWN4fOtzu0FjXn6i10E+/tw+3nJgNUL7P5pAzhYVM6bq6xS5skxDg2Pjm5Mv57B3DOlPxuzili1r22Ct2o/XB3n8BPg3yLiB+wFfogVWN4RkduAA8D19rYLgUuAdKDU3hZjTL6IPA6ssbd7zBhT9427C3gNCAA+tV9dwiebDzG6TzhxYQ1PjJYSHcyYxHDeWp3B7eclnwgihaWV/Pjfa4kI8uPZG0cSGuhLamIEqQ5VU/e/t5G312Ry9+QUooK7NStv/1q2hwBfb2ZOcH91Uh1vL2FUn3DS9rfNxWd9RiHx4QH0DLamFpg+pBeTBkTx8rf7+MdX6SzaepgAX2/GJ0cwsX8U5/ePIqlHkNtHc+eXVJJdWMYDFw/kjZUH+GRzDtelJjS9I7Apq5DF2w7z8yn9CXXoonpOvx6c3TeSf3yVzvVjEsjML8XbS4gJa/k0CteNjufpxbuYu2zviYGMqmtwqSurMWaDXZ0zzBhzpTGmwBiTZ4y50BiTYoyZUneht3spzTHG9DXGDDXGpDkc5xVjTD/79apDepoxZoi9z92mi5Rh9x0tYXvOMS4ZGtPktjeN631Kw3RtreFn/9nAoaJynr95FD2613/h//GkflTV1PLSt3ublbeDhWUs2HCQ741JINyhgbw1jE2KYNfh423SQLw+o4CRvcNPSfP39WbOBf1Ie3gKr9ySyvWp8ezPs6r7Jj/1NVP++jXZhe5tE9lsT0A4LD6US4fF8O3uoy6f/18X7yIs0Jdbz010WnfftAHklVTyyrf7OJBXSmyY/xk9/tPfvjn4cscRdh/WtoeuRCfe86CFm63OXpcMbXo+m9Mbpp/9cjdLd+byyOWDnS52jpJ6BHHpsFjeWHGAwlLXL74vf7sPA/zovNafYiC1j5X/tQdat2rpUFE5B4vKGZkQVu/6QD8fJg+M5tEZQ/jq3kksu+8CHp8xmIOF5Tzy4Ra31rtvzrKqt4bEhXL5sFiqaw2LXKhaWnuggKU7c7ljYl+C/Z0Hto3sHc7UQdG8uGwvWw4WtbhKydHMCYn4+3oxd1nzbjBUx6bBwYMWbs5hVO8wYkIbrlKq4+/rzdWj4li09RD/XZvF35bs5ppR8dw8rumG4jkX9KWksobXlu93KV9FpVW8tTqDy4fFNDlewR2GJ4Th6y2saeVG6Q2ZVvAZ2bv+4HC63pGB/GBCIj+/KIUvth9h0dbDbsvL5uwiknoEEeLvy+DYEBIjA/lkc06T+/118U56dPdj1tkNV/XdO20Axyur2Ztb0uiEe66KCPLj+tQEPtiQzeFjOqK9q9Dg4CEH8krYetC1KqU6N43tTVWN4f/e3chZvUJ44qohLtWFD+wVwkWDonn1u/0cr6hucvvXV+6ntLKmzSbG8/f1ZmhcKGmt3Ci9LqMQP28vBsWGNGu/H56TxMBewfx2wVaXfn+u2JxVxJA4a2oREeHSYTEs35PX6AORVu7N47v0PO48vy+Bfg03F/aPDuaqEdZQoZb0VKrPj85NpqbW8Op3+91yPNX+aXDwkLq7xIubERxSooMZlxRBiL8P//z+aPx9Xe9BdPcF/Sgqq+LfKw80ul15lVXCOL9/FGfFNO8ieibGJEawKavwRDfM1rA+o4DBcSH1Pi6zMb7eXvz+6qEcLi7nqRb2/HKUd7yCg0XlDI07+fu9bFgsNbWm3lHOYP1dHv1oG9Eh3Vwab/Lzi/qTEBHA2KSGqxybo3dkIBcPieHfqw64LUCq9k2Dg4cs3JzDiISwRnsp1edfPxjN4l+c3+yBTcMTwjgvpQcvfrOv0Qvwe2uzOHq8kjvOT27W8c9UamIEVTWGTVmtM210VU0tm7KKGJnQsovlqN7h3DyuN/OW7z8xPqGl6hqjh8adrN4a2CuYvlFBfNzAaOknP93B9pxj/OHqoS7dFCREBPLN/ZMZ3SeiyW1dNXtiMsXl1bzdxIBM1TlocPCAjLxStmQf49JmlBrqhAX6ER3Ssq6Jcy7ox9HjFfxnTWa962tqDS9+s5fh8aFMaONui3WN0mtaqUvrjpxiKqprXW5vqM990wYS2b0bv/rfpjMaVV0XXAY7lBysqqVYVu3Ld5qp9vOth07MazV5YDSeMjwhjPHJEbz87T6qWnFU+fGKamo8OJeYsmhw8ICTVUpt+9StcUkRjEkM519f76Gy+tR/7rLKGl78Zi8H8kq54/y+bf6UtvAgP1J6dm+18Q7rm9kYXZ/QAF9+c9kgtmQfY/6KxqvnGuPYGO3o8mExGAOfbj5ZtXSwsIz73tvEkLgQ7p8+4PRDtbk7JvYlp6i8xVN+NKWotIqJf/rKLdV36sxocPCAhZtzGJ4Q1iY9gRyJCHMu6MfBonI+WJ9NVU0tX+44zM/eXk/q7xbz5Kc7GB4f6rFHRaYmRpB2oKBVZqBdn1FIVHC3Zlfjne6yYTGc3z+Kpz7fSU5Ry8Y+bMkuYmhcqFN6SnQwA6KDT1QtVdfUcs/b66muqeW5G0c1u62kNUwaEEX/6O7MXba3VabUePGbveSXVPJOWmarlk5U0zQ4tLGMvFI2ZxdxaRuXGuqc3z+KoXGhPPnZDsY88QW3vpbGVztzuXx4LG/ePo737zrHbbOuNteYxHCKy6vZ1QoTva3PKGBkQtgZl4hEhMdnDKG61vDogm3N3v/oicZo5+AAVvBZs7+AQ0Xl/G3JbtbsL+CJq4aS1OPMxyu4g4hw+3nJ7DhUzNe73Dv5ZX5JJa9+t4+4sACOHq9k2Rkcv7i8Sh8kdYY0OLSxhVvsKqUhzW9vcAcR4d5pAxBgYkoUL81MZc1DU3jymmGc3beHxwIDcGJG2jVunscnv6SS/XmljQ4WbI7ekYHMnpjMZ1sPcaioeRegE43R8fUHh0uHWd+LRz/ayt+/Sufa0fFcObJ9zWA/Y0QccWEBPP3FbreWHv61bA+lVTW8NCuVyCA/3juDh1w9/MEWZvz9O6fqU+U6DQ5t7NPNOQyPD3XL4KSWOr9/FGt/fRHP3jiSKYOi8fNpH1+D+PAAokO6uX0SvuYOfnPFjBGxAHy+rXkT5p1ojG5grEVyVHcGxYTw6ZZDJPUI4tErBp9ZRluBn48X90xJYWNmodsGBuYWVzB/+QFmDI/lrJgQZoyIY8n2Iy2aUqW21rBsVy45ReV8uqXpgYWqfu3jqtBFZOaXsjGrqFkD37oSEbHaHdzcKL0+oxAvseYxcpd+Pa2up581MC6hIXUzsdY39UWda0bH4+/rxXM3jqz3iXvtwdUj4+gbFcRfPt/plp5F//x6DxXVNfz0whTAehBUZU1tix6EtONQMQWlVYjAPBdnBVDONDi0obq7GA0ODRubGMHBovJ6J7o7XlHNy9/uo6i0ec8+WJ9RyMBeIY2OKm6JaYN7sWpffrPubrdkFzVYpVTnh2cnsurBKQyOdV8wczcfby/unTqA9CPHeX/dmT3j/PCxct5YeYCrR8WTHNUdgEGxIZwVE9Ki56evsCenvO2cJNZlFJ7xuJSuSoNDG/pk8yGGxnm2Sqm9S0202gVOLz0UlVbx/ZdW8fjH23jys+0uH6+m1rAhs9CtVUp1pg/pRU2t4YvtrlWt5BZXkNNIY3QdLy8hNKDhkkV7MX1IL4bFh/LMF7vP6BkYz3+VTk2t4aeTU05Jv3Z0PBuzipo9G+yKPXn0iQzkp1NSCPTzdnlOMXUqDQ5tZEt2ERszC7l8uJYaGjOwVwjdu/mcMhgut7iC781dwbaDxzinXyRvr8lk60HX7gb35B7neEW12xqjHQ2NCyU21N/levctdmP0kCaCQ0chItw3bQDZhWUnHjBUn2PlVWzOKqq3i3J2YRlvrc7kutR4p1H/M0bE4uMlvNeMkklNrWHVvjwmJEcS4u/L1aPi+GjTwUbnrFL10+DQRl5Yuofgbj7c0EqP2+wsTj78x2pEzi4s43v/WsGBvFJeviWV528eTViAL499tM2lnjLrM9zfGF1HRJg6uBfLdudS4sJ8Q5uzixBpuDG6Izq3Xw8mJEfy9y/T6/0dbMku4uJnvuHyv3/LlKe/Zv6KUyd//PuX6QDcfVqpAaBH925MGtCT/63LdnlE+taDRRSXVzOhrzXCf9aERCqra3m7gVkBVMM0OLSBPbnHWbglhx9M6OM0KlY5G9MnnJ2Hi9mUVcj1/1xh9WS5bSznpUQRGuDLL6YOYNW+fJeef7A+o5DQAF+SIltnnMD0Ib2orK51qc//pixrZHRjjdEdjYhw3/STDxhy9N7aLK55YTm1xvCbywYR3M2H33y4lQm/X8LjH29jefpR3k3L5IaxCQ0OTrx2dBxHiiv41sVnfK/YY7U31E3/khIdzDn9Inlj5YEzmvKkK9Lg0Ab+9fUe/Ly9uPXc1n9wTmeQmhiBMXDtCysorazmrdnjT4yBALhxTAIDooN5YuH2Juu612cUMiIhrMHnc5+pMYkRRAb5udRraUt2EcM6SZWSo1G9w7loUDRzl+2loKSSyupafv3BFu59dyOjeofz0U/O5dZzk/jw7nN5/66zuWBgT+Yt389NL63Cy0u4a1K/Bo89eWA04YG+Lo95WL4nj349u9PTYf6xW85OIqeonM+3ue95HF2BBodWdrCwjPfXZXPDmIQGH+WpTjUiIQw/Hy/Cg3x5544JTnX0Pt5e/PqyQWTml/HKt/sbPE5xeRW7jhQzqhXaG+p4ewlTzormyx1HGg1UR4rLOXSsvNO0N5zuPvsBQ79fuJ0b5q7g9ZUHuGNiMq/fNvaU7/2o3uE8e+NIvntgMj+bksIfrhpKr9CGJ5L08/Fixog4Pt92uMlealU1tazZn+80aeTkgT2JDw/Qhulm0uDQyl78xnq04u0T23YK7I4swM+bd++YwIK7zyUlOrjebc5N6cGUs6L5x1fpDU6TsCmrCGNap73B0fQhvTheUc1yu0qjPltOTNPdOYND/+hgrhoZx7trs9hxqJh/3DSKX11yFj4NPL86OsSfn03pzzWj45s89jWj4qmsruXjzY2PediUVUhpZc2J9oY63l7CzAl9WL0vn+05x1w/qS7OpeAgIvtFZLOIbBCRNDstQkQWi8hu+z3cThcReVZE0kVkk4iMcjjOLHv73SIyyyF9tH38dHtfz83h4EZ5xyt4a3UGM0bEtfkkex3d8ISwJqcmf+jSs6ioruGpRbuc1lXX1PLljiMnjtWazu4XSfduPixqpGppc9YxqzG6kwYHgPunDeT61Hg+mHPOiWlA3GFIXAgDooObrFqqa28YX89089enJuDv66WD4pqhOSWHC4wxI4wxqfbnB4AlxpgUYIn9GeBiIMV+zQZeACuYAI8A44CxwCN1AcXe5naH/aa3+IzakdeW76eiupYfT9JSQ2tI6hHELWcn8s7aTLZkF1FTa1i5N4+HP9jMuN8v4eVv9zEuKaLVxwx08/HmgoE9WbztcIOjhTdnF5LcI4ju7XTEszv0CvXnT9cOp38Dpb2WEhGuGR3H+oxC0huZlHHF3jwG9gomIsjPaV1YoB9XjYzjgw3ZFJY2f0qOruhMqpVmAPPs5XnAlQ7p841lJRAmIjHANGCxMSa3vHsYAAAgAElEQVTfGFMALAam2+tCjDErjdU3cb7Dsdq1Y+VVbMoqrLdLZXF5FfOW72fqoGj69XTvP4s66ScXphAR6MecN9cx4Q9LuGHuSt5bm8X45Ej++f1RzLt1bJvkY/rgXuSVVNY79cfximo2ZNY/TbdyzVUj4wnw9eYv9ZQSASqqa0jbX8DZfXs0eIxZZydSXlXLW6u1W6srXA0OBvhcRNaKyGw7LdoYUzer1SGg7hFVcYDjbz/LTmssPaue9Hbv959s54q/f8cNc1c6XRT+vSqDY+XVjfbEUGcuxN+XX11yFoePlTMiIYxnbxzJ2ocv4h83j2L6kJhmPWf7TEwaEIWfj5fTgLgNmYVc+uw35JdU6LQpZyAquBt3TerLZ1sPnag+crQ+o5CK6lqn9gZHA3uFcH7/KJ5fmk5usQ6Ka4qrweFcY8worCqjOSIy0XGlfcff6s/1E5HZIpImImm5ue6dS765Kqpr+GRzDoNjQ9iTW8K1/1zBD19dzZbsIsqranjpm32c269Hq9d3K2uahR2PX8zcmalcMTzWI5PVBXXzYWJKDxZtPYQxhppawz++SufaF5ZTXWN4e/YEpnroIUqdxe0Tk4kLC+Cxj7c5Vd8t35OHl8DYpMafmf2bywdRXlXDHxa6PgVLV+VScDDGZNvvR4D/YbUZHLarhLDfj9ibZwMJDrvH22mNpcfXk15fPuYaY1KNMalRUVGuZL3VLN2ZS3F5NfdNG8Cy+yfxy+kDWZdRyGXPfcvVzy/n6PEK7rqgr0fzqNrWtMG9yC4sY/G2w9z04kr+vGgn04b0YuE95zV50VJN8/f15sFLzmJ7zjGn56Cv3JPHkLjQJtuX+kZ1Z/bEZN5fn82qvQ33LlMuBAcRCRKR4LplYCqwBVgA1PU4mgV8aC8vAGbavZbGA0V29dMiYKqIhNsN0VOBRfa6YyIy3u6lNNPhWO3Wgo0HiQjy45x+PQj08+HHk/qy7P4L+OnkfuzPK2FMYrhTf2vVuU05KxpvL2H262vZnF3En68dxt9vHNkhJtHrKC4Z2ouxiRE89flOisqscQ9llTWszyxw+f/t7gtSiAsL4NcfbtFHkTbClZJDNPCtiGwEVgOfGGM+A54ELhKR3cAU+zPAQmAvkA68CNwFYIzJBx4H1tivx+w07G1esvfZA3x65qfWekoqqlmy/TCXDO2Fr0M/7hNTOzx4IfNuHXvGj6RUHUt4kB+XD4thTGI4n/z0PK5LTdDvgJuJCL+5fBD5pZU8t2Q3AGkH8qmqMY22NzgK8PPmt1cMZtfh47z23f5WzG3H1mTlrDFmLzC8nvQ84MJ60g0wp4FjvQK8Uk96GjDEhfy2C4u3Haa8qpYZI+pvN+9Mc+eo5nnmhpGezkKnNyQulOtHJ/Da8v3cNK43K/bk4eMlp0yx0pSLBkVz4cCePP3FLi4bHkNMaP1zO3VlOkK6BRZsPEhsqD+jW3FaBqVUw+6dNgB/X2+e+GQ7K/bmMTwhrNkdEX57xWBqag2/+1gbp+ujwaGZCkoqWbYrl8uHx7baZG5KqcZFBXfjJ5P7sWTHEdZnFLaofS8hIpA5F/Tjk805LHNhVt2uRoNDMy3ckkN1reHy4bGezopSXdot5yTSx35AkKvtDaebPTGZxMhAHlmw9YyeZtcZaXBopgUbDpIcFdSpHtiiVEfUzcebP1w1lPNSejC6T8uqeP19vXlsxhD2HS3hDwt3uLRPUVkVe3KPt+jndSQaHJrhUFE5q/fnc8XwWO2FolQ7cHa/Hrx+27gzGgk/sX8Ut52bxGvL9zf6uFOAo8cruPr577js2W9PeaJdZ6TBoRk+3nQQY+AKrVJSqlN58JKzmDQgit98uIXle+p/6lxRWRUzX17N/rxSyqpqWLK9cz88SINDMyzYeJAhcSEkR3X3dFaUUm7k7SU8e+NIEnsEcde/17H/aMkp60sqqvnhq6vZfaSYl2el0ivEn4835TRwtM5Bg4OL9h0tYVNWETOGd4g5AZVSzRTi78vLs6wnEvxofhrHyq0R2OVVNcx+PY0NmYU8d+NIJg3oySVDY/h6Zy7F5Y0/na4j0+Dgoo82HkQELhuuM2sq1Vn1iQzihZtHs/9oCT95cz3lVTXc/eZ6vkvP48/XDmf6EOv//9JhMVTW1PJFJ65a0uDgAmMMCzYeZExihI6kVKqTm9A3ksdmDOHrXblM+evXfLH9MI/NGHzKI01HJoQRG+rPJ524akmDQxOMMfxvfTbpR45rQ7RSXcRN43pzy9mJZBWUcf/0AcyckHjKei8v4ZKhMSzbdfTEBICdTed9ZqEbbMku4rGPt7F6Xz5nxYTowDelupDfXDaIH0zoQ98GOqBcOiyGl77dxxfbDp9SqugsNDjU48ixcv68aCfvrcsiPNCPJ64awvdSE/Dx1oKWUl2Fl5c0GBgARiSEERcWwCebczQ4dHbGGP759V6e+3I3VTW13H5eMnMu6Kfz8SulnIgIlw6L4dXv9lFUWkVoYOe6TuitsIMXvt7DHz/bwdl9e7D45+fz4CVnaWBQSjXo0qExVNUYPt92yNNZcTsNDrYvdxzmz4t2cvnwWF6cOZrEHkGezpJSqp0bFh9KfLhVtdTZaHAA0o8c5563NjAoJoQ/XTNM501SSrmkrmrp291HKSyt9HR23KrLB4eisipmz0/Dz8eLuTNTCfBr+QReSqmu57KhsVTXGj7f2rkGxHXp4FBTa7jn7fVk5Jfy/M2jiAvTAW5KqeYZEhdC74hAPu5kVUtdOjj8edFOlu7M5bdXDGZcC54kpZRSdVVL36UfpaCk81QtuRwcRMRbRNaLyMf25yQRWSUi6SLyHxHxs9O72Z/T7fWJDsf4lZ2+U0SmOaRPt9PSReQB951ewxZsPMg/v97DTeN68/3xfdriRyqlOqnLhsVQU2tYtLXz9FpqTsnhHsDxSdx/BJ42xvQDCoDb7PTbgAI7/Wl7O0RkEHADMBiYDjxvBxxv4B/AxcAg4EZ721ZTUFLJQ//bTGqfcH57+eDW/FFKqS5gUEwIST2CeG9tlqez4jYuBQcRiQcuBV6yPwswGXjP3mQecKW9PMP+jL3+Qnv7GcDbxpgKY8w+IB0Ya7/SjTF7jTGVwNv2tq3mha/3cLyimieuGoqfT5euWVNKuYGIMHNCH9IOFLB6X76ns+MWrl4ZnwHuB2rtz5FAoTGm7jl5WUDdgw7igEwAe32Rvf2J9NP2aSjdiYjMFpE0EUnLzc11Meunyikq47Xl+7l6ZDwDegW36BhKKXW6G8b0JjLIj+eXpns6K27RZHAQkcuAI8aYtW2Qn0YZY+YaY1KNMalRUVEtOsYzi3eDgZ9flOLm3CmlurIAP29uPTeJpTtz2ZJd5OnsnDFXSg7nAFeIyH6sKp/JwN+AMBGpm5spHsi2l7OBBAB7fSiQ55h+2j4Npbtd+pHjvLs2k++P70N8eGBr/AilVBf2gwl9CO7m0ylKD00GB2PMr4wx8caYRKwG5S+NMTcDXwHX2pvNAj60lxfYn7HXf2mMMXb6DXZvpiQgBVgNrAFS7N5PfvbPWOCWszvNXxbtJMDXmzkX9G2NwyulurgQf19mnt2HT7ccIv3I8Ua3rayubXS9p51Ja+wvgV+ISDpWm8LLdvrLQKSd/gvgAQBjzFbgHWAb8BkwxxhTY7dL3A0swuoN9Y69rVttyCzks62HuH1iMpHdu7n78EopBcCt5yTRzceLF5buaXCbf686wNDfLmrXjddi3dR3PKmpqSYtLc2lbY0x3PTiKnYdLubr+y+gezedqVwp1Xoe/Wgr81ccYOm9k0iIOLUK+/11WfzfuxsxBi4Z2ovnbx7dZvkSkbXGmFRXtu0S/Ti/2X2UFXvzuHtyPw0MSqlWd/t5yXgJvPjN3lPSF27O4d53NzIhOZIfjO/D51sPk1tc4aFcNq7TB4faWsMfP9tBfHgAN43r7ensKKW6gNiwAK4eGc/bazI5UlwOWI8F+Olb6xnZO5wXZ6Yy6+xEqmtNux041+mDwyebc9h68Bi/uKg/3Xx0xlWlVNu4c1JfqmtqefnbfXyXfpQ731jHWTEhvPrDMQR186Ffz+6MS4rgrdUZ1Na2v+r9Th8cXvpmL32jgpgxot5xdUop1SqSegRx6bBYXl9xgB/NSyMpMoj5t44lxP/k0yVvGtebjPxSlu/J82BO69epg8OOQ8fYmFXETeP64O2lD/BRSrWtuyb1pbSyhphQf9740TjCg/xOWT9tcC/CA315c/UBD+WwYZ26dfY/azLx8/biqpFaalBKtb2zYkL4z+zx9OvZvd4u9P6+3lwzKp7Xlu8nt7iCqOD2082+05YcKqpr+N/6bC4aHE3EadFaKaXayrjkyEbHVt0wtjfVtYZ312Y2uI0ndNrg8PnWwxSWVnHDmISmN1ZKKQ+pa5h+e3Vmu2qY7rTB4Z20TOLCAjinbw9PZ0UppRpV1zD93Z6jns7KCZ0yOGTml/LN7qNclxqPlzZEK6XaubqG6bdWZ3g6Kyd0yuDw7tosROC6VK1SUkq1f3UN0+1pxHSnCw41tYZ30zI5LyWKuLAAT2dHKaVccuO49tUw3emCwze7c8kpKud7WmpQSnUgfaPaV8N0pwsO76RlEhHkx5RBPT2dFaWUapabxvUmIsiPoyWer1rqVIPg8o5XsHjbYWZOSNR5lJRSHc4Vw2PbzVQ/nark8L/12VTVGL6nYxuUUh2QSPvpXdlpgoMxhv+syWRk7zD6Rwd7OjtKKdWhdZrgsGJvHruPHNeGaKWUcoNOERw2ZRXy4zfWERvqz2XDYz2dHaWU6vCaDA4i4i8iq0Vko4hsFZFH7fQkEVklIuki8h8R8bPTu9mf0+31iQ7H+pWdvlNEpjmkT7fT0kXkgeacwNoDBdz84iqC/X34zx0T9DGgSinlBq6UHCqAycaY4cAIYLqIjAf+CDxtjOkHFAC32dvfBhTY6U/b2yEig4AbgMHAdOB5EfEWEW/gH8DFwCDgRnvbJq3cm8cPXl5FZHc/3rljgtODvJVSSrVMk8HBWI7bH33tlwEmA+/Z6fOAK+3lGfZn7PUXitUEPwN42xhTYYzZB6QDY+1XujFmrzGmEnjb3rZRxyuqueXV1cSGBfDOHROI1dHQSinlNi61Odh3+BuAI8BiYA9QaIyptjfJAuo658YBmQD2+iIg0jH9tH0aSm/U/qMlJEYG8fbs8fQM8XflNJRSSrnIpeBgjKkxxowA4rHu9Ae2aq4aICKzRSRNRNJ8xPDW7ePp0chDNJRSSrVMs3orGWMKga+ACUCYiNS1/sYD2fZyNpAAYK8PBfIc00/bp6H0+n7+XGNMqjEmNaVXqNPzWJVSSrmHK72VokQkzF4OAC4CtmMFiWvtzWYBH9rLC+zP2Ou/NMYYO/0GuzdTEpACrAbWACl27yc/rEbrBU3ly1uf06CUUq3GlX6fMcA8u1eRF/COMeZjEdkGvC0ivwPWAy/b278MvC4i6UA+1sUeY8xWEXkH2AZUA3OMMTUAInI3sAjwBl4xxmx12xkqpZRqNrFu6jue1NRUk5aW5ulsKKVUhyEia40xqa5s2ylGSCullHIvDQ5KKaWcaHBQSinlRIODUkopJxoclFJKOdHgoJRSyokGB6WUUk40OCillHKiwUEppZQTDQ5KKaWcaHBQSinlRIODUkopJxoclFJKOdHgoJRSyokGB6WUUk40OCillHKiwUEppZQTDQ5KKaWcaHBQSinlRIODUkopJ00GBxFJEJGvRGSbiGwVkXvs9AgRWSwiu+33cDtdRORZEUkXkU0iMsrhWLPs7XeLyCyH9NEistne51kRkdY4WaWUUq5xpeRQDfyfMWYQMB6YIyKDgAeAJcaYFGCJ/RngYiDFfs0GXgArmACPAOOAscAjdQHF3uZ2h/2mn/mpKaWUaqkmg4MxJscYs85eLga2A3HADGCevdk84Ep7eQYw31hWAmEiEgNMAxYbY/KNMQXAYmC6vS7EGLPSGGOA+Q7HUkop5QHNanMQkURgJLAKiDbG5NirDgHR9nIckOmwW5ad1lh6Vj3pSimlPMTl4CAi3YH/Aj8zxhxzXGff8Rs3562+PMwWkTQRScvNzW3tH6eUUl2WS8FBRHyxAsO/jTHv28mH7Soh7Pcjdno2kOCwe7yd1lh6fD3pTowxc40xqcaY1KioKFeyrpRSqgVc6a0kwMvAdmPMXx1WLQDqehzNAj50SJ9p91oaDxTZ1U+LgKkiEm43RE8FFtnrjonIePtnzXQ4llJKKQ/wcWGbc4AfAJtFZIOd9iDwJPCOiNwGHACut9ctBC4B0oFS4IcAxph8EXkcWGNv95gxJt9evgt4DQgAPrVfSimlPESs5oKOJzU11aSlpXk6G0op1WGIyFpjTKor2+oIaaWUUk40OCillHKiwUEppZQTDQ5KKaWcaHBQSinlRIODUkopJxoclFJKOdHgoJRSyokGB6WUUk40OCillHKiwUEppZQTDQ5KKaWcaHBQSinlRIODUkopJxoclFJKOdHgoJRSyokGB6WUUk40OCillHKiwUEppZQTDQ5KKaWcNBkcROQVETkiIlsc0iJEZLGI7Lbfw+10EZFnRSRdRDaJyCiHfWbZ2+8WkVkO6aNFZLO9z7MiIu4+SaWUUs3jSsnhNWD6aWkPAEuMMSnAEvszwMVAiv2aDbwAVjABHgHGAWOBR+oCir3N7Q77nf6zlFJKtbEmg4MxZhmQf1ryDGCevTwPuNIhfb6xrATCRCQGmAYsNsbkG2MKgMXAdHtdiDFmpTHGAPMdjqWUUspDWtrmEG2MybGXDwHR9nIckOmwXZad1lh6Vj3p9RKR2SKSJiJpubm5Lcy6Ukqpppxxg7R9x2/ckBdXftZcY0yqMSY1KiqqLX6kUkp1SS0NDoftKiHs9yN2ejaQ4LBdvJ3WWHp8PelKKaU8qKXBYQFQ1+NoFvChQ/pMu9fSeKDIrn5aBEwVkXC7IXoqsMhed0xExtu9lGY6HEsppTq2o+mw5HHYtgBMm1SwuI1PUxuIyFvAJKCHiGRh9Tp6EnhHRG4DDgDX25svBC4B0oFS4IcAxph8EXkcWGNv95gxpq6R+y6sHlEBwKf2Syml2oYxsPtzqK6A4BgI7gXdo8HHr+XHzEqD756B7R9zotY9YRxc9Dj0HueWbLc2MR0smtVJTU01aWlpns6GUqqjW/pHWPp75/TAHhCRDJf+BWKGN30cY2D3Yvjub3DgW/APhTG3w5gfWcHnq9/D8UNw1uUw5VGI7Ov+c2mCiKw1xqS6tK0GB6VUl7VuPiz4CQy/EcbfBcWHoDgHjh+23nd+BuWFcNU/YdCMho+TuxM++DFkr4WQOJgwB0bNhG7BJ7epLIEV/7CCR3U5jP4hnP0TCO/T+udp0+CglFJN2bUI3roRkifBTf8Bb1/nbYoPw39uhqw1MOlBOP9+cJzEobYWVj4PSx4DvyCY+jgM+179x6pz/AgsfRLWvgamFvpPt0oXfSeDV+vOaKTBQSmlGpO1FuZdBj1S4JZPTr3DP11VOXx0D2x6GwZfDVc+D74BkL8PPpwDB76D/hfD5X+D4OiGj3O6oiwrQKydByVHrCqs1NtgxE0QGHHGp1gfDQ5KqdZRcRxW/wtW/hMGXgLTfm/dMbcnR3fD6rnWHfqAi6H/NAgIP7k+bw+8fBH4dYfbFrt2QTfGamD+4lGIHQFDr4MvnwAvb5j+pHVBb+m0cNWVsH0BrHkJMlaATwD8dD2ExLTseI3Q4NDVGAMludbdTGN3QJ5QWWp94fcute6UYkdA/BiIGQF+gZ7OnXJVVRmkvQLf/BVKj0LcaMheZ93tXvOi9dmTamthz5ew6gVI/wK8/SAgwmoA9vKBpIlWQ3DCOHj7Zqg4ZgWG5jYK71gI798OlcetY854HsISmt7PVYc2Q/oSOPdn7jumAw0OHZkx1hevNB/Ki6zuddXlDq8KKDkKBftPfVWXWfsHx0BkP+tLH9kPIvpad01+gdadkl8Q+AaCeEHhAesuKn/vyVdZAfh0s7bx8Qdff2s5MBJCE6x/hNAECOttHVfE+sesKrVelcfheC7s/8YKCJmroKYSvHyt7oHH7NlSxBuiB1uBImGs9QpPavndl2od1ZWwfj4s+4vVQJt0Pkx+2Pp77fsG/nenlT7pV3Duz8G7yd7xZ84Yq3G39CiU5llBatW/IG+39R0b8yOrsTcwEg6ut+7Kty+wvt9g3Znf8jHEu3SNdJa7Cw5vhkFXtXobgbtpcHC3nE2w7UPrbsQ/xOqi1i3EWq67GLfkonYsB7a+D7s+s4rApfnWxbm2qul9fYMgIgnCE61XWG/rwpy3B/LSrVdpnut5qeu2F9TDCkJV5VbAqSq3LvolR6GqxDkPGGt9fXoNtRr7kidB7wlWYCo5avUBz1pjvbLXQWWxtX1QT6sPeMJ46D3e6j7YWMOear7yIuuiXlYAFcXWHXRFsZVecQzKCq3eOWWFJ9NMrfU3mfwwJJ136vHKCuCT/4Mt/7Xuyq/6l/W9dKfaGtj8HqS9DEXZVlCoLj91m9iRMO7HMPiq+scnGANHtsPOhVY+Tz+PLkKDg7tkrIJvnoLdiwChwSmkukdbRcy6V3hiw8csK7TuYja/a/2TYiB6KEQkWsXgwAjrjjwgwgo+dXfwdXfxPv7gH2ZdxJsKSKX5ULAPyo9Zd1qVJVYAqSyB2mqrC11EsnXHHhDW+LGMsY5XlAGFmVCYAceyrRJIXWnEL8gqnfiHWneWQT0aPyZY//i5OyBjpVXKyFxllYTAOmbCOEg8FxLPsy4AZzIwqSMoPwZ7lkDBAasXS8+B7jnu4W2w5kXY+J/6g3y3YPvGJ8z6LviHWX/HgDArsPed3Pj3bdO78MkvrJJtZF8IibVunELirOXwPlbVU3OqPWtrrKDz9R+tm52os6xqycBI67sV2MN6D+sNPQdpqdMFGhzOhDGw9ytY9pQ1kCUgwur/PPZ26+LneJdVfswqqu5bZr1K7CmmwnpbpQlO+7LWVJ6sZolIthq1hl5n9ZhQJxUfsoLFgeWw/1s4stVK9w20ShRj77AaGT15McheBzs/tavTyuzSVpn16pFiVW242n+9KMs61s5Pre+RY8kxeigMvQaGXGN9r5qjptq6U14916rm8+5mfd9Gfh9C46wLtV+w+6qCCjNgxfMnbxyKc6wScd1NlXhB9BAr2PQeZ72HxDofp7YGtrxvB4Xd0HMwTPolDLy8w1XjtDddIziMHm3S1q5t+QHKj1lf4qJM65+zKNO6Iz6yHXK3W3c9Z/8ERt/iWm8MY6yBMPuWwb6vrQvc6UQgLhWGXQexo/ROx1UleVZ3wQPfWRe7wgyIHwsX/qbtqwfKi6y5cta8ZH32DbBePnXv3azvEMZqAB0/xypFOf6ta6ogc7VVQti9GA5tstIj+lo9gAZcagWW7R9ZJcwse9aZhPHW+tiRVpWbf6hz/ooPWd/BvV9bxy/OsdqIxtwGI2dCUGSr/nqc1FRZeTq6y7oxylhhVSvWVUX6BFg9fsTb+h15eVul2vIiqzRw/i/hrCs0KLhJ1wgOsd4m7Wd9oHsvqyta917QvadVNO4WYt8VdbfeqyusO5Cju63i6dFd1ghIR95+VhE4LMHqyzziJusfXbUvNVWw/g34+k9QfNCq7pj8a4gb1fS+Z8IYq4pj0YNWz7Axt1t18P4hztsWZVt362tfs+rvY0fBuDutKr30JdbFu7LYuiAmjLW6Ww64pOESZP4+62dv+S8c2XYyPSLZChK9hllBYO/XcHSntc4/zAqcw2+0qqe8vN3+K2mxmiqrV07GSutvWFsLpsYqMZha65U8SYNCK+gawWFAvEn7y7X2MPdD1vvxI4035gaEQ2SK9U8Y2c9qOAu1e98ERekXsSOpKrPu3r/5K5TlQ8pU6HO2VW0RPcSaPM1dJbO8PbDwXqurZMwIuOxp14JRZQlseBNW/dO6KQEI7Q39LrReSRPrv/tvTMlRyNkABzfY7xutdiDfQOv8kyZaPYp6DdPvs3LSNYJDQ20O1RWn9sKoKLb6OUemtH2RWrW+8mPWfDUb/m1VDdYJjLS6ykb2sxouAyOstLpGf//Qk73OHBu5qyusu/NDm61eaoc2w8F1Vn39hb+xqmeaexdeWwuZK60bkJb2bGtMWYHVqNzZG+vVGevawUF1XWUFVq+cw1us16EtVs+nsgIafVihj78VJPwCrfan2mor3a+71R03dpTV/tQKI1aVakvNCQ5tMGJFqTYSEA6J51gvR7U1VgNnab419qM079QeZxV1r+NWr6Bew6ygEJ6kVTOqy9LgoDo/L2+7WikC6Ofp3CjVIehtkVJKKScaHJRSSjnR4KCUUspJuwkOIjJdRHaKSLqIPODp/CilVFfWLoKDiHgD/wAuBgYBN4rIIM/mSimluq52ERyAsUC6MWavMaYSeBto5GneSimlWlN7CQ5xgMPwVrLsNKWUUh7QXoKDS0RktoikiUhabm6up7OjlFKdVnsZBJcNOD6INd5OO4UxZi4wF0BEikVkZ9tkz2N6AEc9nYk2oOfZeXSFc4SOe54uPmSk/QSHNUCKiCRhBYUbgJua2Genq3OEdFQiktbZzxH0PDuTrnCO0DXOs10EB2NMtYjcDSwCvIFXjDFbPZwtpZTqstpFcAAwxiwEFno6H0oppTpYg/Rp5no6A22gK5wj6Hl2Jl3hHKELnGeHfZ6DUkqp1tORSw5KKaVaSbsJDiLyiogcEZEtDmnDRWSFiGwWkY9EJMRh3TB73VZ7vb+dPtr+nC4iz4q4+5mMZ6Y55ykiN4vIBodXrYiMsNd1pvP0FZF5dvp2EfmVwz7tds6tZp6jn4i8aqdvFJFJDvu0979lgoh8JSLb7P+3e+z0CBFZLCK77fdwO13s80gXkU0iMsrhWLPs7XeLyCxPndPpWnCOA+2/c4WI3Hvasdrtd7ZZjDHt4v0AzPkAAAQ0SURBVAVMBEYBWxzS1gDn28u3Ao/byz7AJmC4/TkS8LaXVwPjAQE+BS729Lm19DxP228osMfhc6c5T6xuy2/by4HAfiARq+faHiAZ8AM2AoM8fW4tPMc5wKv2ck9gLeDVQf6WMcAoezkY2IU1B9qfgAfs9AeAP9rLl9jnIfZ5rbLTI4C99nu4vRzu6fNr4Tn2BMYATwD3OhynXX9nm/NqNyUHY8wyIP+05P7AMnt5MXCNvTwV2GSM2Wjvm2eMqRGRGCDEGLPSWH+p+cCVrZ971zXzPB3diDXnFJ3wPA0QJCI+QABQCRyjnc+51cxzHAR8ae93BCgEUjvI3zLHGLPOXi4GtmNNbzMDmGdvNo+T+Z4BzDeWlUCYfZ7TgMXGmHxjTAHW72d6G55Kg5p7jsaYI8aYNUDVaYdq19/Z5mg3waEBWzn5i72Ok6Oo+wNGRBaJyDoRud9Oj8Oal6lOR5mjqaHzdPQ94C17ubOd53tACZADZAB/Mcbk0zHn3GroHDcCV4iIj1iDPUfb6zrU31JEEoGRwCog2hiTY686BETbyw393TrE39PFc2xIhzhHV7T34HArcJeIrMUq6lXa6T7AucDN9vtVInKhZ7LoFg2dJwAiMg4oNcZsqW/nDqSh8xwL1ACxQBLwfyKS7JksnrGGzvEVrAtFGvAMsBzrnDsMEekO/Bf4mTHmmOM6u9TT4bs+doVzdFW7GQRXH2PMDqwqJESkP3CpvSoLWGaMOWqvW4hV9/sG1rxMdeqdo6m9aeQ869zAyVIDWOfUmc7zJuAzY0wVcEREvgNSse7Ampxzqz1p6ByNMdXAz+u2E5HlWPXaBXSAv6WI+GJdNP9tjHnfTj4sIjHGmBy72uiInd7QXGnZwKTT0pe2Zr6bo5nn2BCX5onrCNp1yUFEetrvXsDDwD/tVYuAoSISaNdTnw9ss4t/x0RkvN3jYybwoQey3iyNnGdd2vXY7Q1g1Y/Suc4zA5hsrwvCasTcgcOcWyLihxUkF7R1vpujoXO0v6tB9vJFQLUxpkN8Z+18vQxsN8b81WHVAqCux9EsTuZ7ATDT7rU0Hiiyz3MRMFVEwu1eP1PtNI9rwTk2pMN9Zxvk6RbxuhfWnXEOVgNP1v+3d784CsRQAMa/9ahV6+AQIxGr5wwY4AAoFBcgq/cWe4XFIwkQEv6M4wScANEnJikGEDOQ75c803SavHSSN+m0KTAGJqSvqwMwJw7tRf8BaX13C/zU2otoq4Df+jNtiAfy/AaWN8Z5mzyBDvAX87kDprVxyuhfAbOm83oixx6wJ/3o/Ae6LzSXfdJyyhpYRZSkXYIL4Bg5fUb/D9LNjhWwAYraWCPgFDFsOrcncvyKOb+QNhecSRsLWv3O3hOekJYkZVq9rCRJaobFQZKUsThIkjIWB0lSxuIgScpYHCRJGYuDJCljcZAkZa6mRAfl+k4w4QAAAABJRU5ErkJggg==\n",
>>>>>>> upstream/master
      "text/plain": [
       "<Figure size 432x288 with 1 Axes>"
      ]
     },
     "metadata": {
      "needs_background": "light"
     },
     "output_type": "display_data"
    }
   ],
   "source": [
    "ts = pd.concat([ts_dk, ts_ury], axis=1, keys=['DNK', 'URY']) # axis=0 is default (concats like sql UNION) axis=1 concats the data along the x axis\n",
    "\n",
    "ts.plot()"
   ]
  },
  {
   "cell_type": "markdown",
   "metadata": {
    "slideshow": {
     "slide_type": "subslide"
    }
   },
   "source": [
    "More information on `DataFrame`s can be found here:\n",
    "http://pandas.pydata.org/pandas-docs/stable/dsintro.html#dataframe\n",
    "\n",
    "Similar to, we can create `DataFrame`s by giving the data for the values and indexes explicitely."
   ]
  },
  {
   "cell_type": "code",
<<<<<<< HEAD
   "execution_count": 118,
   "metadata": {
    "slideshow": {
     "slide_type": "subslide"
    }
   },
=======
   "execution_count": 43,
   "metadata": {},
>>>>>>> upstream/master
   "outputs": [
    {
     "data": {
      "text/html": [
       "<div>\n",
       "<style scoped>\n",
       "    .dataframe tbody tr th:only-of-type {\n",
       "        vertical-align: middle;\n",
       "    }\n",
       "\n",
       "    .dataframe tbody tr th {\n",
       "        vertical-align: top;\n",
       "    }\n",
       "\n",
       "    .dataframe thead th {\n",
       "        text-align: right;\n",
       "    }\n",
       "</style>\n",
       "<table border=\"1\" class=\"dataframe\">\n",
       "  <thead>\n",
       "    <tr style=\"text-align: right;\">\n",
       "      <th></th>\n",
       "      <th>A</th>\n",
       "      <th>B</th>\n",
       "      <th>C</th>\n",
       "      <th>D</th>\n",
       "    </tr>\n",
       "  </thead>\n",
       "  <tbody>\n",
       "    <tr>\n",
       "      <th>2018-03-02</th>\n",
<<<<<<< HEAD
       "      <td>2.366549</td>\n",
       "      <td>1.023539</td>\n",
       "      <td>0.022630</td>\n",
       "      <td>-1.595355</td>\n",
       "    </tr>\n",
       "    <tr>\n",
       "      <th>2018-03-03</th>\n",
       "      <td>-0.200928</td>\n",
       "      <td>0.303509</td>\n",
       "      <td>0.931305</td>\n",
       "      <td>0.126302</td>\n",
       "    </tr>\n",
       "    <tr>\n",
       "      <th>2018-03-04</th>\n",
       "      <td>-1.585894</td>\n",
       "      <td>0.509193</td>\n",
       "      <td>-0.676395</td>\n",
       "      <td>-0.090884</td>\n",
       "    </tr>\n",
       "    <tr>\n",
       "      <th>2018-03-05</th>\n",
       "      <td>0.521745</td>\n",
       "      <td>0.269262</td>\n",
       "      <td>-0.055889</td>\n",
       "      <td>0.501692</td>\n",
       "    </tr>\n",
       "    <tr>\n",
       "      <th>2018-03-06</th>\n",
       "      <td>-1.864555</td>\n",
       "      <td>0.117016</td>\n",
       "      <td>0.018722</td>\n",
       "      <td>-0.322562</td>\n",
       "    </tr>\n",
       "    <tr>\n",
       "      <th>2018-03-07</th>\n",
       "      <td>0.230149</td>\n",
       "      <td>0.019132</td>\n",
       "      <td>0.345709</td>\n",
       "      <td>1.373647</td>\n",
=======
       "      <td>-1.427160</td>\n",
       "      <td>-0.046035</td>\n",
       "      <td>-0.112639</td>\n",
       "      <td>-0.610186</td>\n",
       "    </tr>\n",
       "    <tr>\n",
       "      <th>2018-03-03</th>\n",
       "      <td>-0.692237</td>\n",
       "      <td>-1.992205</td>\n",
       "      <td>-0.934125</td>\n",
       "      <td>1.416785</td>\n",
       "    </tr>\n",
       "    <tr>\n",
       "      <th>2018-03-04</th>\n",
       "      <td>2.848303</td>\n",
       "      <td>-0.242331</td>\n",
       "      <td>0.266040</td>\n",
       "      <td>1.042689</td>\n",
       "    </tr>\n",
       "    <tr>\n",
       "      <th>2018-03-05</th>\n",
       "      <td>0.896506</td>\n",
       "      <td>0.223677</td>\n",
       "      <td>2.458587</td>\n",
       "      <td>0.783847</td>\n",
       "    </tr>\n",
       "    <tr>\n",
       "      <th>2018-03-06</th>\n",
       "      <td>-0.804743</td>\n",
       "      <td>-1.756672</td>\n",
       "      <td>-0.754998</td>\n",
       "      <td>-1.638421</td>\n",
       "    </tr>\n",
       "    <tr>\n",
       "      <th>2018-03-07</th>\n",
       "      <td>0.714476</td>\n",
       "      <td>-3.494993</td>\n",
       "      <td>-0.101177</td>\n",
       "      <td>2.257731</td>\n",
>>>>>>> upstream/master
       "    </tr>\n",
       "  </tbody>\n",
       "</table>\n",
       "</div>"
      ],
      "text/plain": [
       "                   A         B         C         D\n",
<<<<<<< HEAD
       "2018-03-02  2.366549  1.023539  0.022630 -1.595355\n",
       "2018-03-03 -0.200928  0.303509  0.931305  0.126302\n",
       "2018-03-04 -1.585894  0.509193 -0.676395 -0.090884\n",
       "2018-03-05  0.521745  0.269262 -0.055889  0.501692\n",
       "2018-03-06 -1.864555  0.117016  0.018722 -0.322562\n",
       "2018-03-07  0.230149  0.019132  0.345709  1.373647"
      ]
     },
     "execution_count": 118,
=======
       "2018-03-02 -1.427160 -0.046035 -0.112639 -0.610186\n",
       "2018-03-03 -0.692237 -1.992205 -0.934125  1.416785\n",
       "2018-03-04  2.848303 -0.242331  0.266040  1.042689\n",
       "2018-03-05  0.896506  0.223677  2.458587  0.783847\n",
       "2018-03-06 -0.804743 -1.756672 -0.754998 -1.638421\n",
       "2018-03-07  0.714476 -3.494993 -0.101177  2.257731"
      ]
     },
     "execution_count": 43,
>>>>>>> upstream/master
     "metadata": {},
     "output_type": "execute_result"
    }
   ],
   "source": [
    "dates = pd.date_range('20180302', periods=6)\n",
    "df = pd.DataFrame(np.random.randn(6,4), index=dates, columns=list('ABCD'))\n",
    "df"
   ]
  },
  {
   "cell_type": "markdown",
   "metadata": {
    "slideshow": {
     "slide_type": "subslide"
    }
   },
   "source": [
    "But since we do not want to work on random example data. We will have a look on the military expenditures of some countries in the world. We will use this data to exemplify usage of Pandas' `DataFrame` methods.\n",
    "\n",
    "Again, we will receive the data from the World Bank.\n",
    "http://data.worldbank.org/indicator/MS.MIL.XPND.CN?locations=DK-CN-US-RU"
   ]
  },
  {
   "cell_type": "code",
<<<<<<< HEAD
<<<<<<< HEAD
   "execution_count": 17,
=======
   "execution_count": 119,
>>>>>>> upstream/master
   "metadata": {
    "slideshow": {
     "slide_type": "subslide"
    }
   },
=======
   "execution_count": 44,
   "metadata": {},
>>>>>>> upstream/master
   "outputs": [
    {
     "name": "stdout",
     "output_type": "stream",
     "text": [
      "Downloaded {} API_MS.MIL.XPND.CN_DS2_en_csv_v2_10418495.zip\n"
     ]
    }
   ],
   "source": [
    "import requests\n",
    "\n",
    "url = 'http://api.worldbank.org/v2/en/indicator/MS.MIL.XPND.CN'\n",
    "\n",
    "response = requests.get(url, params={'downloadformat': 'csv'})\n",
    "fname = response.headers['Content-Disposition'].split('=')[1]\n",
    "\n",
    "if response.ok:  # status_code == 200:\n",
    "    with open(fname, 'wb') as f:\n",
    "        f.write(response.content)   \n",
    "\n",
    "print('Downloaded {}',fname)\n",
    "#print('Downloaded {}'.format(fname))"
   ]
  },
  {
   "cell_type": "code",
<<<<<<< HEAD
<<<<<<< HEAD
   "execution_count": 18,
=======
   "execution_count": 120,
>>>>>>> upstream/master
   "metadata": {
    "slideshow": {
     "slide_type": "subslide"
    }
   },
=======
   "execution_count": null,
   "metadata": {},
   "outputs": [],
   "source": []
  },
  {
   "cell_type": "code",
   "execution_count": 45,
   "metadata": {},
>>>>>>> upstream/master
   "outputs": [],
   "source": [
    "import os\n",
    "import zipfile\n",
    "\n",
    "\n",
    "zipfile.ZipFile(fname, 'r').extractall('.')\n",
    "os.remove(fname)"
   ]
  },
  {
   "cell_type": "code",
<<<<<<< HEAD
<<<<<<< HEAD
   "execution_count": 19,
=======
   "execution_count": 121,
>>>>>>> upstream/master
   "metadata": {
    "slideshow": {
     "slide_type": "subslide"
    }
   },
=======
   "execution_count": 46,
   "metadata": {},
>>>>>>> upstream/master
   "outputs": [
    {
     "name": "stdout",
     "output_type": "stream",
     "text": [
<<<<<<< HEAD
<<<<<<< HEAD
      "drwxr-xr-x   8 mohammahomarhariri  staff   256B Mar  5 12:40 Assignments\n",
      "-rw-r--r--   1 mohammahomarhariri  staff   855B Mar  5 12:56 Untitled.ipynb\n",
      "-rw-r--r--   1 mohammahomarhariri  staff    74K Mar  5 15:06 API_EN.ATM.CO2E.KT_DS2_en_csv_v2_10473877.zip\n",
      "-rw-r--r--   1 mohammahomarhariri  staff   466B Mar  5 15:06 Metadata_Indicator_API_EN.ATM.CO2E.KT_DS2_en_csv_v2_10473877.csv\n",
      "-rw-r--r--   1 mohammahomarhariri  staff   173K Mar  5 15:06 API_EN.ATM.CO2E.KT_DS2_en_csv_v2_10473877.csv\n",
      "-rw-r--r--   1 mohammahomarhariri  staff    39K Mar  5 15:06 Metadata_Country_API_EN.ATM.CO2E.KT_DS2_en_csv_v2_10473877.csv\n",
      "-rw-r--r--   1 mohammahomarhariri  staff    73K Mar  5 15:22 16-pandas.ipynb\n",
      "-rw-r--r--   1 mohammahomarhariri  staff   1.6K Mar  5 15:22 Metadata_Indicator_API_MS.MIL.XPND.CN_DS2_en_csv_v2_10418495.csv\n",
      "-rw-r--r--   1 mohammahomarhariri  staff   135K Mar  5 15:22 API_MS.MIL.XPND.CN_DS2_en_csv_v2_10418495.csv\n",
      "-rw-r--r--   1 mohammahomarhariri  staff    39K Mar  5 15:22 Metadata_Country_API_MS.MIL.XPND.CN_DS2_en_csv_v2_10418495.csv\n"
=======
      "drwxrwxr-x 3 jens jens  4,0K mar  5 11:32 assignments\n",
      "-rw-rw-r-- 1 jens jens  4,2M mar  5 13:36 13and14-Plotting.ipynb\n",
      "-rw-rw-r-- 1 jens jens   75K mar  5 14:44 API_EN.ATM.CO2E.KT_DS2_en_csv_v2_10473877.zip\n",
      "-rw-rw-r-- 1 jens jens   466 mar  5 14:49 Metadata_Indicator_API_EN.ATM.CO2E.KT_DS2_en_csv_v2_10473877.csv\n",
      "-rw-rw-r-- 1 jens jens   40K mar  5 14:49 Metadata_Country_API_EN.ATM.CO2E.KT_DS2_en_csv_v2_10473877.csv\n",
      "-rw-rw-r-- 1 jens jens  173K mar  5 14:49 API_EN.ATM.CO2E.KT_DS2_en_csv_v2_10473877.csv\n",
      "-rw-rw-r-- 1 jens jens  170K mar  5 15:20 16-pandas.ipynb\n",
      "-rw-rw-r-- 1 jens jens  1,7K mar  5 15:22 Metadata_Indicator_API_MS.MIL.XPND.CN_DS2_en_csv_v2_10418495.csv\n",
      "-rw-rw-r-- 1 jens jens   40K mar  5 15:22 Metadata_Country_API_MS.MIL.XPND.CN_DS2_en_csv_v2_10418495.csv\n",
      "-rw-rw-r-- 1 jens jens  135K mar  5 15:22 API_MS.MIL.XPND.CN_DS2_en_csv_v2_10418495.csv\n"
>>>>>>> upstream/master
=======
      "-rw-rw-r-- 1 thomas thomas   37K Mar  3 19:35 16-pandas.ipynb\n",
      "drwxrwxr-x 3 thomas thomas  4.0K Mar  3 21:00 assignments\n",
      "-rw-rw-r-- 1 thomas thomas  688K Mar  3 21:13 17-Intro to Requests.ipynb\n",
      "-rw-rw-r-- 1 thomas thomas   75K Mar  5 07:41 API_EN.ATM.CO2E.KT_DS2_en_csv_v2_10473877.zip\n",
      "-rw-rw-r-- 1 thomas thomas   466 Mar  5 07:41 Metadata_Indicator_API_EN.ATM.CO2E.KT_DS2_en_csv_v2_10473877.csv\n",
      "-rw-rw-r-- 1 thomas thomas  173K Mar  5 07:41 API_EN.ATM.CO2E.KT_DS2_en_csv_v2_10473877.csv\n",
      "-rw-rw-r-- 1 thomas thomas   40K Mar  5 07:41 Metadata_Country_API_EN.ATM.CO2E.KT_DS2_en_csv_v2_10473877.csv\n",
      "-rw-rw-r-- 1 thomas thomas  1.7K Mar  5 07:41 Metadata_Indicator_API_MS.MIL.XPND.CN_DS2_en_csv_v2_10418495.csv\n",
      "-rw-rw-r-- 1 thomas thomas   40K Mar  5 07:41 Metadata_Country_API_MS.MIL.XPND.CN_DS2_en_csv_v2_10418495.csv\n",
      "-rw-rw-r-- 1 thomas thomas  135K Mar  5 07:41 API_MS.MIL.XPND.CN_DS2_en_csv_v2_10418495.csv\n"
>>>>>>> upstream/master
     ]
    }
   ],
   "source": [
    "%%bash\n",
    "ls -ltrh | tail"
   ]
  },
  {
   "cell_type": "code",
<<<<<<< HEAD
<<<<<<< HEAD
   "execution_count": 20,
=======
   "execution_count": 122,
>>>>>>> upstream/master
   "metadata": {
    "slideshow": {
     "slide_type": "subslide"
    }
   },
=======
   "execution_count": 47,
   "metadata": {},
>>>>>>> upstream/master
   "outputs": [
    {
     "data": {
      "text/plain": [
       "'API_MS.MIL.XPND.CN_DS2_en_csv_v2_10418495.csv'"
      ]
     },
<<<<<<< HEAD
<<<<<<< HEAD
     "execution_count": 20,
=======
     "execution_count": 122,
>>>>>>> upstream/master
=======
     "execution_count": 47,
>>>>>>> upstream/master
     "metadata": {},
     "output_type": "execute_result"
    }
   ],
   "source": [
    "from glob import glob\n",
    "\n",
    "\n",
    "milit_files = glob('API_MS.MIL.XPND.CN_DS2_en_csv_v2_10418495.csv')\n",
    "expenditure_csv = milit_files[0]\n",
    "expenditure_csv"
   ]
  },
  {
   "cell_type": "code",
<<<<<<< HEAD
<<<<<<< HEAD
   "execution_count": 21,
=======
   "execution_count": 123,
>>>>>>> upstream/master
   "metadata": {
    "slideshow": {
     "slide_type": "subslide"
    }
   },
=======
   "execution_count": 48,
   "metadata": {},
>>>>>>> upstream/master
   "outputs": [
    {
     "name": "stdout",
     "output_type": "stream",
     "text": [
      "﻿\"Country Code\",\"Region\",\"IncomeGroup\",\"SpecialNotes\",\"TableName\",\r\n",
      "\"ABW\",\"Latin America & Caribbean\",\"High income\",\"Mining is included in agriculture\n",
      "Electricty and gas includes manufactures of refined petroleoum products\",\"Aruba\",\r\n",
      "\"AFG\",\"South Asia\",\"Low income\",\"Fiscal year end: March 20; reporting period for national accounts data is calendar year, estimated to insure consistency between national accounts and fiscal data. National accounts data are sourced from the IMF and differ from the Central Statistics Organization numbers due to exclusion of the opium economy.\",\"Afghanistan\",\r\n",
      "\"AGO\",\"Sub-Saharan Africa\",\"Lower middle income\",\"\",\"Angola\",\r\n",
      "\"ALB\",\"Europe & Central Asia\",\"Upper middle income\",\"\",\"Albania\",\r\n",
      "\"AND\",\"Europe & Central Asia\",\"High income\",\"WB-3 code changed from ADO to AND to align with ISO code.\",\"Andorra\",\r\n",
      "\"ARB\",\"\",\"\",\"Arab World aggregate. Arab World is composed of members of the League of Arab States.\",\"Arab World\",\r\n",
      "\"ARE\",\"Middle East & North Africa\",\"High income\",\"\",\"United Arab Emirates\",\r\n",
      "\"ARG\",\"Latin America & Caribbean\",\"High income\",\"Series of GNI and GNDI from 1993-2017 have been updated due to new data available\n"
     ]
    }
   ],
   "source": [
    "%%bash\n",
    "head ./Metadata_Country_API_MS.MIL.XPND.CN_DS2_en_csv_v2_10418495.csv"
   ]
  },
  {
   "cell_type": "markdown",
   "metadata": {
    "slideshow": {
     "slide_type": "subslide"
    }
   },
   "source": [
    "Now, we use Pandas' `read_csv` function to read the downloaded CSV file directly. Note that we have to skip the first four rows as they do not contain data we are interested in, see keyword argument `skiprows=4`.\n",
    "\n",
    "Reading the CSV file like this returns a `DataFrame` directly."
   ]
  },
  {
   "cell_type": "code",
<<<<<<< HEAD
<<<<<<< HEAD
   "execution_count": 22,
=======
   "execution_count": 124,
>>>>>>> upstream/master
   "metadata": {
    "slideshow": {
     "slide_type": "subslide"
    }
   },
=======
   "execution_count": 49,
   "metadata": {},
>>>>>>> upstream/master
   "outputs": [
    {
     "data": {
      "text/html": [
       "<div>\n",
       "<style scoped>\n",
       "    .dataframe tbody tr th:only-of-type {\n",
       "        vertical-align: middle;\n",
       "    }\n",
       "\n",
       "    .dataframe tbody tr th {\n",
       "        vertical-align: top;\n",
       "    }\n",
       "\n",
       "    .dataframe thead th {\n",
       "        text-align: right;\n",
       "    }\n",
       "</style>\n",
       "<table border=\"1\" class=\"dataframe\">\n",
       "  <thead>\n",
       "    <tr style=\"text-align: right;\">\n",
       "      <th></th>\n",
       "      <th>Country Name</th>\n",
       "      <th>Country Code</th>\n",
       "      <th>Indicator Name</th>\n",
       "      <th>Indicator Code</th>\n",
       "      <th>1960</th>\n",
       "      <th>1961</th>\n",
       "      <th>1962</th>\n",
       "      <th>1963</th>\n",
       "      <th>1964</th>\n",
       "      <th>1965</th>\n",
       "      <th>...</th>\n",
       "      <th>2010</th>\n",
       "      <th>2011</th>\n",
       "      <th>2012</th>\n",
       "      <th>2013</th>\n",
       "      <th>2014</th>\n",
       "      <th>2015</th>\n",
       "      <th>2016</th>\n",
       "      <th>2017</th>\n",
       "      <th>2018</th>\n",
       "      <th>Unnamed: 63</th>\n",
       "    </tr>\n",
       "  </thead>\n",
       "  <tbody>\n",
       "    <tr>\n",
       "      <th>0</th>\n",
       "      <td>Aruba</td>\n",
       "      <td>ABW</td>\n",
       "      <td>Military expenditure (current LCU)</td>\n",
       "      <td>MS.MIL.XPND.CN</td>\n",
       "      <td>NaN</td>\n",
       "      <td>NaN</td>\n",
       "      <td>NaN</td>\n",
       "      <td>NaN</td>\n",
       "      <td>NaN</td>\n",
       "      <td>NaN</td>\n",
       "      <td>...</td>\n",
       "      <td>NaN</td>\n",
       "      <td>NaN</td>\n",
       "      <td>NaN</td>\n",
       "      <td>NaN</td>\n",
       "      <td>NaN</td>\n",
       "      <td>NaN</td>\n",
       "      <td>NaN</td>\n",
       "      <td>NaN</td>\n",
       "      <td>NaN</td>\n",
       "      <td>NaN</td>\n",
       "    </tr>\n",
       "    <tr>\n",
       "      <th>1</th>\n",
       "      <td>Afghanistan</td>\n",
       "      <td>AFG</td>\n",
       "      <td>Military expenditure (current LCU)</td>\n",
       "      <td>MS.MIL.XPND.CN</td>\n",
       "      <td>NaN</td>\n",
       "      <td>NaN</td>\n",
       "      <td>NaN</td>\n",
       "      <td>NaN</td>\n",
       "      <td>NaN</td>\n",
       "      <td>NaN</td>\n",
       "      <td>...</td>\n",
       "      <td>1.384967e+10</td>\n",
       "      <td>1.523050e+10</td>\n",
       "      <td>1.214900e+10</td>\n",
       "      <td>1.202767e+10</td>\n",
       "      <td>1.535600e+10</td>\n",
       "      <td>1.219917e+10</td>\n",
       "      <td>1.261483e+10</td>\n",
       "      <td>1.302083e+10</td>\n",
       "      <td>NaN</td>\n",
       "      <td>NaN</td>\n",
       "    </tr>\n",
       "    <tr>\n",
       "      <th>2</th>\n",
       "      <td>Angola</td>\n",
       "      <td>AGO</td>\n",
       "      <td>Military expenditure (current LCU)</td>\n",
       "      <td>MS.MIL.XPND.CN</td>\n",
       "      <td>NaN</td>\n",
       "      <td>NaN</td>\n",
       "      <td>NaN</td>\n",
       "      <td>NaN</td>\n",
       "      <td>NaN</td>\n",
       "      <td>NaN</td>\n",
       "      <td>...</td>\n",
       "      <td>3.217430e+11</td>\n",
       "      <td>3.418750e+11</td>\n",
       "      <td>3.956800e+11</td>\n",
       "      <td>5.878690e+11</td>\n",
       "      <td>6.730000e+11</td>\n",
       "      <td>4.332150e+11</td>\n",
       "      <td>4.622090e+11</td>\n",
       "      <td>5.081750e+11</td>\n",
       "      <td>NaN</td>\n",
       "      <td>NaN</td>\n",
       "    </tr>\n",
       "    <tr>\n",
       "      <th>3</th>\n",
       "      <td>Albania</td>\n",
       "      <td>ALB</td>\n",
       "      <td>Military expenditure (current LCU)</td>\n",
       "      <td>MS.MIL.XPND.CN</td>\n",
       "      <td>NaN</td>\n",
       "      <td>NaN</td>\n",
       "      <td>NaN</td>\n",
       "      <td>NaN</td>\n",
       "      <td>NaN</td>\n",
       "      <td>NaN</td>\n",
       "      <td>...</td>\n",
       "      <td>1.932100e+10</td>\n",
       "      <td>1.987700e+10</td>\n",
       "      <td>1.982000e+10</td>\n",
       "      <td>1.902200e+10</td>\n",
       "      <td>1.878800e+10</td>\n",
       "      <td>1.667100e+10</td>\n",
       "      <td>1.625000e+10</td>\n",
       "      <td>1.935200e+10</td>\n",
       "      <td>NaN</td>\n",
       "      <td>NaN</td>\n",
       "    </tr>\n",
       "    <tr>\n",
       "      <th>4</th>\n",
       "      <td>Andorra</td>\n",
       "      <td>AND</td>\n",
       "      <td>Military expenditure (current LCU)</td>\n",
       "      <td>MS.MIL.XPND.CN</td>\n",
       "      <td>NaN</td>\n",
       "      <td>NaN</td>\n",
       "      <td>NaN</td>\n",
       "      <td>NaN</td>\n",
       "      <td>NaN</td>\n",
       "      <td>NaN</td>\n",
       "      <td>...</td>\n",
       "      <td>NaN</td>\n",
       "      <td>NaN</td>\n",
       "      <td>NaN</td>\n",
       "      <td>NaN</td>\n",
       "      <td>NaN</td>\n",
       "      <td>NaN</td>\n",
       "      <td>NaN</td>\n",
       "      <td>NaN</td>\n",
       "      <td>NaN</td>\n",
       "      <td>NaN</td>\n",
       "    </tr>\n",
       "    <tr>\n",
       "      <th>5</th>\n",
       "      <td>Arab World</td>\n",
       "      <td>ARB</td>\n",
       "      <td>Military expenditure (current LCU)</td>\n",
       "      <td>MS.MIL.XPND.CN</td>\n",
       "      <td>NaN</td>\n",
       "      <td>NaN</td>\n",
       "      <td>NaN</td>\n",
       "      <td>NaN</td>\n",
       "      <td>NaN</td>\n",
       "      <td>NaN</td>\n",
       "      <td>...</td>\n",
       "      <td>NaN</td>\n",
       "      <td>NaN</td>\n",
       "      <td>NaN</td>\n",
       "      <td>NaN</td>\n",
       "      <td>NaN</td>\n",
       "      <td>NaN</td>\n",
       "      <td>NaN</td>\n",
       "      <td>NaN</td>\n",
       "      <td>NaN</td>\n",
       "      <td>NaN</td>\n",
       "    </tr>\n",
       "    <tr>\n",
       "      <th>6</th>\n",
       "      <td>United Arab Emirates</td>\n",
       "      <td>ARE</td>\n",
       "      <td>Military expenditure (current LCU)</td>\n",
       "      <td>MS.MIL.XPND.CN</td>\n",
       "      <td>NaN</td>\n",
       "      <td>NaN</td>\n",
       "      <td>NaN</td>\n",
       "      <td>NaN</td>\n",
       "      <td>NaN</td>\n",
       "      <td>NaN</td>\n",
       "      <td>...</td>\n",
       "      <td>6.428600e+10</td>\n",
       "      <td>7.044500e+10</td>\n",
       "      <td>6.986600e+10</td>\n",
       "      <td>8.652800e+10</td>\n",
       "      <td>8.356800e+10</td>\n",
       "      <td>NaN</td>\n",
       "      <td>NaN</td>\n",
       "      <td>NaN</td>\n",
       "      <td>NaN</td>\n",
       "      <td>NaN</td>\n",
       "    </tr>\n",
       "    <tr>\n",
       "      <th>7</th>\n",
       "      <td>Argentina</td>\n",
       "      <td>ARG</td>\n",
       "      <td>Military expenditure (current LCU)</td>\n",
       "      <td>MS.MIL.XPND.CN</td>\n",
       "      <td>1.550000e-03</td>\n",
       "      <td>2.140000e-03</td>\n",
       "      <td>2.660000e-03</td>\n",
       "      <td>3.360000e-03</td>\n",
       "      <td>3.450000e-03</td>\n",
       "      <td>4.280000e-03</td>\n",
       "      <td>...</td>\n",
       "      <td>1.354100e+10</td>\n",
       "      <td>1.665400e+10</td>\n",
       "      <td>2.070300e+10</td>\n",
       "      <td>2.805000e+10</td>\n",
       "      <td>4.020900e+10</td>\n",
       "      <td>5.062100e+10</td>\n",
       "      <td>6.658600e+10</td>\n",
       "      <td>9.403190e+10</td>\n",
       "      <td>NaN</td>\n",
       "      <td>NaN</td>\n",
       "    </tr>\n",
       "    <tr>\n",
       "      <th>8</th>\n",
       "      <td>Armenia</td>\n",
       "      <td>ARM</td>\n",
       "      <td>Military expenditure (current LCU)</td>\n",
       "      <td>MS.MIL.XPND.CN</td>\n",
       "      <td>NaN</td>\n",
       "      <td>NaN</td>\n",
       "      <td>NaN</td>\n",
       "      <td>NaN</td>\n",
       "      <td>NaN</td>\n",
       "      <td>NaN</td>\n",
       "      <td>...</td>\n",
       "      <td>1.476000e+11</td>\n",
       "      <td>1.456000e+11</td>\n",
       "      <td>1.529000e+11</td>\n",
       "      <td>1.821000e+11</td>\n",
       "      <td>1.904110e+11</td>\n",
       "      <td>2.138110e+11</td>\n",
       "      <td>2.072700e+11</td>\n",
       "      <td>2.142180e+11</td>\n",
       "      <td>NaN</td>\n",
       "      <td>NaN</td>\n",
       "    </tr>\n",
       "    <tr>\n",
       "      <th>9</th>\n",
       "      <td>American Samoa</td>\n",
       "      <td>ASM</td>\n",
       "      <td>Military expenditure (current LCU)</td>\n",
       "      <td>MS.MIL.XPND.CN</td>\n",
       "      <td>NaN</td>\n",
       "      <td>NaN</td>\n",
       "      <td>NaN</td>\n",
       "      <td>NaN</td>\n",
       "      <td>NaN</td>\n",
       "      <td>NaN</td>\n",
       "      <td>...</td>\n",
       "      <td>NaN</td>\n",
       "      <td>NaN</td>\n",
       "      <td>NaN</td>\n",
       "      <td>NaN</td>\n",
       "      <td>NaN</td>\n",
       "      <td>NaN</td>\n",
       "      <td>NaN</td>\n",
       "      <td>NaN</td>\n",
       "      <td>NaN</td>\n",
       "      <td>NaN</td>\n",
       "    </tr>\n",
       "    <tr>\n",
       "      <th>10</th>\n",
       "      <td>Antigua and Barbuda</td>\n",
       "      <td>ATG</td>\n",
       "      <td>Military expenditure (current LCU)</td>\n",
       "      <td>MS.MIL.XPND.CN</td>\n",
       "      <td>NaN</td>\n",
       "      <td>NaN</td>\n",
       "      <td>NaN</td>\n",
       "      <td>NaN</td>\n",
       "      <td>NaN</td>\n",
       "      <td>NaN</td>\n",
       "      <td>...</td>\n",
       "      <td>NaN</td>\n",
       "      <td>NaN</td>\n",
       "      <td>NaN</td>\n",
       "      <td>NaN</td>\n",
       "      <td>NaN</td>\n",
       "      <td>NaN</td>\n",
       "      <td>NaN</td>\n",
       "      <td>NaN</td>\n",
       "      <td>NaN</td>\n",
       "      <td>NaN</td>\n",
       "    </tr>\n",
       "    <tr>\n",
       "      <th>11</th>\n",
       "      <td>Australia</td>\n",
       "      <td>AUS</td>\n",
       "      <td>Military expenditure (current LCU)</td>\n",
       "      <td>MS.MIL.XPND.CN</td>\n",
       "      <td>4.105000e+08</td>\n",
       "      <td>4.205000e+08</td>\n",
       "      <td>4.370000e+08</td>\n",
       "      <td>4.940000e+08</td>\n",
       "      <td>5.855000e+08</td>\n",
       "      <td>7.030000e+08</td>\n",
       "      <td>...</td>\n",
       "      <td>2.531100e+10</td>\n",
       "      <td>2.578500e+10</td>\n",
       "      <td>2.532000e+10</td>\n",
       "      <td>2.571500e+10</td>\n",
       "      <td>2.860350e+10</td>\n",
       "      <td>3.200550e+10</td>\n",
       "      <td>3.549500e+10</td>\n",
       "      <td>3.582350e+10</td>\n",
       "      <td>NaN</td>\n",
       "      <td>NaN</td>\n",
       "    </tr>\n",
       "    <tr>\n",
       "      <th>12</th>\n",
       "      <td>Austria</td>\n",
       "      <td>AUT</td>\n",
       "      <td>Military expenditure (current LCU)</td>\n",
       "      <td>MS.MIL.XPND.CN</td>\n",
       "      <td>1.730000e+08</td>\n",
       "      <td>1.720000e+08</td>\n",
       "      <td>1.890000e+08</td>\n",
       "      <td>2.380000e+08</td>\n",
       "      <td>3.110000e+08</td>\n",
       "      <td>2.700000e+08</td>\n",
       "      <td>...</td>\n",
       "      <td>2.430000e+09</td>\n",
       "      <td>2.452800e+09</td>\n",
       "      <td>2.480600e+09</td>\n",
       "      <td>2.432000e+09</td>\n",
       "      <td>2.491200e+09</td>\n",
       "      <td>2.403400e+09</td>\n",
       "      <td>2.609600e+09</td>\n",
       "      <td>2.647100e+09</td>\n",
       "      <td>NaN</td>\n",
       "      <td>NaN</td>\n",
       "    </tr>\n",
       "    <tr>\n",
       "      <th>13</th>\n",
       "      <td>Azerbaijan</td>\n",
       "      <td>AZE</td>\n",
       "      <td>Military expenditure (current LCU)</td>\n",
       "      <td>MS.MIL.XPND.CN</td>\n",
       "      <td>NaN</td>\n",
       "      <td>NaN</td>\n",
       "      <td>NaN</td>\n",
       "      <td>NaN</td>\n",
       "      <td>NaN</td>\n",
       "      <td>NaN</td>\n",
       "      <td>...</td>\n",
       "      <td>1.185200e+09</td>\n",
       "      <td>2.432300e+09</td>\n",
       "      <td>2.550300e+09</td>\n",
       "      <td>2.642000e+09</td>\n",
       "      <td>2.688100e+09</td>\n",
       "      <td>2.971800e+09</td>\n",
       "      <td>2.228800e+09</td>\n",
       "      <td>2.642100e+09</td>\n",
       "      <td>NaN</td>\n",
       "      <td>NaN</td>\n",
       "    </tr>\n",
       "    <tr>\n",
       "      <th>14</th>\n",
       "      <td>Burundi</td>\n",
       "      <td>BDI</td>\n",
       "      <td>Military expenditure (current LCU)</td>\n",
       "      <td>MS.MIL.XPND.CN</td>\n",
       "      <td>NaN</td>\n",
       "      <td>NaN</td>\n",
       "      <td>4.210000e+08</td>\n",
       "      <td>5.060000e+07</td>\n",
       "      <td>5.810000e+07</td>\n",
       "      <td>1.817000e+08</td>\n",
       "      <td>...</td>\n",
       "      <td>NaN</td>\n",
       "      <td>NaN</td>\n",
       "      <td>8.506000e+10</td>\n",
       "      <td>9.464200e+10</td>\n",
       "      <td>9.616900e+10</td>\n",
       "      <td>1.040040e+11</td>\n",
       "      <td>1.098500e+11</td>\n",
       "      <td>1.098500e+11</td>\n",
       "      <td>NaN</td>\n",
       "      <td>NaN</td>\n",
       "    </tr>\n",
       "    <tr>\n",
       "      <th>15</th>\n",
       "      <td>Belgium</td>\n",
       "      <td>BEL</td>\n",
       "      <td>Military expenditure (current LCU)</td>\n",
       "      <td>MS.MIL.XPND.CN</td>\n",
       "      <td>4.749900e+08</td>\n",
       "      <td>4.849040e+08</td>\n",
       "      <td>5.233300e+08</td>\n",
       "      <td>5.510700e+08</td>\n",
       "      <td>6.160900e+08</td>\n",
       "      <td>6.206300e+08</td>\n",
       "      <td>...</td>\n",
       "      <td>3.960000e+09</td>\n",
       "      <td>3.956000e+09</td>\n",
       "      <td>4.023000e+09</td>\n",
       "      <td>3.964000e+09</td>\n",
       "      <td>3.913000e+09</td>\n",
       "      <td>3.789000e+09</td>\n",
       "      <td>3.901000e+09</td>\n",
       "      <td>3.965000e+09</td>\n",
       "      <td>NaN</td>\n",
       "      <td>NaN</td>\n",
       "    </tr>\n",
       "    <tr>\n",
       "      <th>16</th>\n",
       "      <td>Benin</td>\n",
       "      <td>BEN</td>\n",
       "      <td>Military expenditure (current LCU)</td>\n",
       "      <td>MS.MIL.XPND.CN</td>\n",
       "      <td>3.190000e+08</td>\n",
       "      <td>5.330000e+08</td>\n",
       "      <td>6.700000e+08</td>\n",
       "      <td>7.260000e+08</td>\n",
       "      <td>9.320000e+08</td>\n",
       "      <td>9.790000e+08</td>\n",
       "      <td>...</td>\n",
       "      <td>NaN</td>\n",
       "      <td>NaN</td>\n",
       "      <td>3.993500e+10</td>\n",
       "      <td>4.248900e+10</td>\n",
       "      <td>4.597600e+10</td>\n",
       "      <td>5.376049e+10</td>\n",
       "      <td>4.718700e+10</td>\n",
       "      <td>6.789800e+10</td>\n",
       "      <td>NaN</td>\n",
       "      <td>NaN</td>\n",
       "    </tr>\n",
       "    <tr>\n",
       "      <th>17</th>\n",
       "      <td>Burkina Faso</td>\n",
       "      <td>BFA</td>\n",
       "      <td>Military expenditure (current LCU)</td>\n",
       "      <td>MS.MIL.XPND.CN</td>\n",
       "      <td>3.110000e+08</td>\n",
       "      <td>4.030000e+08</td>\n",
       "      <td>1.201000e+09</td>\n",
       "      <td>1.294000e+09</td>\n",
       "      <td>1.313000e+09</td>\n",
       "      <td>8.600000e+08</td>\n",
       "      <td>...</td>\n",
       "      <td>6.126600e+10</td>\n",
       "      <td>6.551900e+10</td>\n",
       "      <td>7.542000e+10</td>\n",
       "      <td>8.207800e+10</td>\n",
       "      <td>8.759400e+10</td>\n",
       "      <td>8.749600e+10</td>\n",
       "      <td>8.862500e+10</td>\n",
       "      <td>1.116990e+11</td>\n",
       "      <td>NaN</td>\n",
       "      <td>NaN</td>\n",
       "    </tr>\n",
       "    <tr>\n",
       "      <th>18</th>\n",
       "      <td>Bangladesh</td>\n",
       "      <td>BGD</td>\n",
       "      <td>Military expenditure (current LCU)</td>\n",
       "      <td>MS.MIL.XPND.CN</td>\n",
       "      <td>NaN</td>\n",
       "      <td>NaN</td>\n",
       "      <td>NaN</td>\n",
       "      <td>NaN</td>\n",
       "      <td>NaN</td>\n",
       "      <td>NaN</td>\n",
       "      <td>...</td>\n",
       "      <td>1.131540e+11</td>\n",
       "      <td>1.335885e+11</td>\n",
       "      <td>1.492705e+11</td>\n",
       "      <td>1.599545e+11</td>\n",
       "      <td>1.829225e+11</td>\n",
       "      <td>2.194425e+11</td>\n",
       "      <td>2.544750e+11</td>\n",
       "      <td>2.884030e+11</td>\n",
       "      <td>NaN</td>\n",
       "      <td>NaN</td>\n",
       "    </tr>\n",
       "    <tr>\n",
       "      <th>19</th>\n",
       "      <td>Bulgaria</td>\n",
       "      <td>BGR</td>\n",
       "      <td>Military expenditure (current LCU)</td>\n",
       "      <td>MS.MIL.XPND.CN</td>\n",
       "      <td>NaN</td>\n",
       "      <td>NaN</td>\n",
       "      <td>NaN</td>\n",
       "      <td>NaN</td>\n",
       "      <td>NaN</td>\n",
       "      <td>NaN</td>\n",
       "      <td>...</td>\n",
       "      <td>1.320000e+09</td>\n",
       "      <td>1.166000e+09</td>\n",
       "      <td>1.229100e+09</td>\n",
       "      <td>1.325600e+09</td>\n",
       "      <td>1.232000e+09</td>\n",
       "      <td>1.166000e+09</td>\n",
       "      <td>1.336000e+09</td>\n",
       "      <td>1.508000e+09</td>\n",
       "      <td>NaN</td>\n",
       "      <td>NaN</td>\n",
       "    </tr>\n",
       "    <tr>\n",
       "      <th>20</th>\n",
       "      <td>Bahrain</td>\n",
       "      <td>BHR</td>\n",
       "      <td>Military expenditure (current LCU)</td>\n",
       "      <td>MS.MIL.XPND.CN</td>\n",
       "      <td>NaN</td>\n",
       "      <td>NaN</td>\n",
       "      <td>NaN</td>\n",
       "      <td>NaN</td>\n",
       "      <td>NaN</td>\n",
       "      <td>NaN</td>\n",
       "      <td>...</td>\n",
       "      <td>3.169000e+08</td>\n",
       "      <td>3.886000e+08</td>\n",
       "      <td>4.445000e+08</td>\n",
       "      <td>5.067000e+08</td>\n",
       "      <td>5.547000e+08</td>\n",
       "      <td>5.422000e+08</td>\n",
       "      <td>5.660810e+08</td>\n",
       "      <td>5.252000e+08</td>\n",
       "      <td>NaN</td>\n",
       "      <td>NaN</td>\n",
       "    </tr>\n",
       "    <tr>\n",
       "      <th>21</th>\n",
       "      <td>Bahamas, The</td>\n",
       "      <td>BHS</td>\n",
       "      <td>Military expenditure (current LCU)</td>\n",
       "      <td>MS.MIL.XPND.CN</td>\n",
       "      <td>NaN</td>\n",
       "      <td>NaN</td>\n",
       "      <td>NaN</td>\n",
       "      <td>NaN</td>\n",
       "      <td>NaN</td>\n",
       "      <td>NaN</td>\n",
       "      <td>...</td>\n",
       "      <td>NaN</td>\n",
       "      <td>NaN</td>\n",
       "      <td>NaN</td>\n",
       "      <td>NaN</td>\n",
       "      <td>NaN</td>\n",
       "      <td>NaN</td>\n",
       "      <td>NaN</td>\n",
       "      <td>NaN</td>\n",
       "      <td>NaN</td>\n",
       "      <td>NaN</td>\n",
       "    </tr>\n",
       "    <tr>\n",
       "      <th>22</th>\n",
       "      <td>Bosnia and Herzegovina</td>\n",
       "      <td>BIH</td>\n",
       "      <td>Military expenditure (current LCU)</td>\n",
       "      <td>MS.MIL.XPND.CN</td>\n",
       "      <td>NaN</td>\n",
       "      <td>NaN</td>\n",
       "      <td>NaN</td>\n",
       "      <td>NaN</td>\n",
       "      <td>NaN</td>\n",
       "      <td>NaN</td>\n",
       "      <td>...</td>\n",
       "      <td>3.247580e+08</td>\n",
       "      <td>2.981000e+08</td>\n",
       "      <td>3.004000e+08</td>\n",
       "      <td>2.911000e+08</td>\n",
       "      <td>2.806530e+08</td>\n",
       "      <td>2.860660e+08</td>\n",
       "      <td>2.908710e+08</td>\n",
       "      <td>2.856890e+08</td>\n",
       "      <td>NaN</td>\n",
       "      <td>NaN</td>\n",
       "    </tr>\n",
       "    <tr>\n",
       "      <th>23</th>\n",
       "      <td>Belarus</td>\n",
       "      <td>BLR</td>\n",
       "      <td>Military expenditure (current LCU)</td>\n",
       "      <td>MS.MIL.XPND.CN</td>\n",
       "      <td>NaN</td>\n",
       "      <td>NaN</td>\n",
       "      <td>NaN</td>\n",
       "      <td>NaN</td>\n",
       "      <td>NaN</td>\n",
       "      <td>NaN</td>\n",
       "      <td>...</td>\n",
       "      <td>2.286600e+08</td>\n",
       "      <td>3.762200e+08</td>\n",
       "      <td>6.811830e+08</td>\n",
       "      <td>8.623486e+08</td>\n",
       "      <td>1.033480e+09</td>\n",
       "      <td>1.152500e+09</td>\n",
       "      <td>1.200300e+09</td>\n",
       "      <td>1.222851e+09</td>\n",
       "      <td>NaN</td>\n",
       "      <td>NaN</td>\n",
       "    </tr>\n",
       "    <tr>\n",
       "      <th>24</th>\n",
       "      <td>Belize</td>\n",
       "      <td>BLZ</td>\n",
       "      <td>Military expenditure (current LCU)</td>\n",
       "      <td>MS.MIL.XPND.CN</td>\n",
       "      <td>NaN</td>\n",
       "      <td>NaN</td>\n",
       "      <td>NaN</td>\n",
       "      <td>NaN</td>\n",
       "      <td>NaN</td>\n",
       "      <td>NaN</td>\n",
       "      <td>...</td>\n",
       "      <td>3.067450e+07</td>\n",
       "      <td>3.083250e+07</td>\n",
       "      <td>3.043825e+07</td>\n",
       "      <td>3.555775e+07</td>\n",
       "      <td>3.983375e+07</td>\n",
       "      <td>3.943525e+07</td>\n",
       "      <td>4.372150e+07</td>\n",
       "      <td>4.558850e+07</td>\n",
       "      <td>NaN</td>\n",
       "      <td>NaN</td>\n",
       "    </tr>\n",
       "    <tr>\n",
       "      <th>25</th>\n",
       "      <td>Bermuda</td>\n",
       "      <td>BMU</td>\n",
       "      <td>Military expenditure (current LCU)</td>\n",
       "      <td>MS.MIL.XPND.CN</td>\n",
       "      <td>NaN</td>\n",
       "      <td>NaN</td>\n",
       "      <td>NaN</td>\n",
       "      <td>NaN</td>\n",
       "      <td>NaN</td>\n",
       "      <td>NaN</td>\n",
       "      <td>...</td>\n",
       "      <td>NaN</td>\n",
       "      <td>NaN</td>\n",
       "      <td>NaN</td>\n",
       "      <td>NaN</td>\n",
       "      <td>NaN</td>\n",
       "      <td>NaN</td>\n",
       "      <td>NaN</td>\n",
       "      <td>NaN</td>\n",
       "      <td>NaN</td>\n",
       "      <td>NaN</td>\n",
       "    </tr>\n",
       "    <tr>\n",
       "      <th>26</th>\n",
       "      <td>Bolivia</td>\n",
       "      <td>BOL</td>\n",
       "      <td>Military expenditure (current LCU)</td>\n",
       "      <td>MS.MIL.XPND.CN</td>\n",
       "      <td>NaN</td>\n",
       "      <td>5.863277e+01</td>\n",
       "      <td>6.172395e+01</td>\n",
       "      <td>7.608299e+01</td>\n",
       "      <td>NaN</td>\n",
       "      <td>NaN</td>\n",
       "      <td>...</td>\n",
       "      <td>2.297350e+09</td>\n",
       "      <td>2.799539e+09</td>\n",
       "      <td>3.454102e+09</td>\n",
       "      <td>3.900072e+09</td>\n",
       "      <td>4.324866e+09</td>\n",
       "      <td>3.976500e+09</td>\n",
       "      <td>3.818043e+09</td>\n",
       "      <td>4.555274e+09</td>\n",
       "      <td>NaN</td>\n",
       "      <td>NaN</td>\n",
       "    </tr>\n",
       "    <tr>\n",
       "      <th>27</th>\n",
       "      <td>Brazil</td>\n",
       "      <td>BRA</td>\n",
       "      <td>Military expenditure (current LCU)</td>\n",
       "      <td>MS.MIL.XPND.CN</td>\n",
       "      <td>3.100000e-05</td>\n",
       "      <td>4.000000e-05</td>\n",
       "      <td>6.500000e-05</td>\n",
       "      <td>1.100000e-04</td>\n",
       "      <td>1.920000e-04</td>\n",
       "      <td>5.200000e-04</td>\n",
       "      <td>...</td>\n",
       "      <td>5.981900e+10</td>\n",
       "      <td>6.178800e+10</td>\n",
       "      <td>6.637900e+10</td>\n",
       "      <td>7.088100e+10</td>\n",
       "      <td>7.687420e+10</td>\n",
       "      <td>8.187350e+10</td>\n",
       "      <td>8.450900e+10</td>\n",
       "      <td>9.312140e+10</td>\n",
       "      <td>NaN</td>\n",
       "      <td>NaN</td>\n",
       "    </tr>\n",
       "    <tr>\n",
       "      <th>28</th>\n",
       "      <td>Barbados</td>\n",
       "      <td>BRB</td>\n",
       "      <td>Military expenditure (current LCU)</td>\n",
       "      <td>MS.MIL.XPND.CN</td>\n",
       "      <td>NaN</td>\n",
       "      <td>NaN</td>\n",
       "      <td>NaN</td>\n",
       "      <td>NaN</td>\n",
       "      <td>NaN</td>\n",
       "      <td>NaN</td>\n",
       "      <td>...</td>\n",
       "      <td>NaN</td>\n",
       "      <td>NaN</td>\n",
       "      <td>NaN</td>\n",
       "      <td>NaN</td>\n",
       "      <td>NaN</td>\n",
       "      <td>NaN</td>\n",
       "      <td>NaN</td>\n",
       "      <td>NaN</td>\n",
       "      <td>NaN</td>\n",
       "      <td>NaN</td>\n",
       "    </tr>\n",
       "    <tr>\n",
       "      <th>29</th>\n",
       "      <td>Brunei Darussalam</td>\n",
       "      <td>BRN</td>\n",
       "      <td>Military expenditure (current LCU)</td>\n",
       "      <td>MS.MIL.XPND.CN</td>\n",
       "      <td>NaN</td>\n",
       "      <td>NaN</td>\n",
       "      <td>NaN</td>\n",
       "      <td>NaN</td>\n",
       "      <td>NaN</td>\n",
       "      <td>NaN</td>\n",
       "      <td>...</td>\n",
       "      <td>5.327500e+08</td>\n",
       "      <td>5.225000e+08</td>\n",
       "      <td>5.139000e+08</td>\n",
       "      <td>5.156000e+08</td>\n",
       "      <td>6.687250e+08</td>\n",
       "      <td>5.829925e+08</td>\n",
       "      <td>5.573725e+08</td>\n",
       "      <td>4.798425e+08</td>\n",
       "      <td>NaN</td>\n",
       "      <td>NaN</td>\n",
       "    </tr>\n",
       "    <tr>\n",
       "      <th>...</th>\n",
       "      <td>...</td>\n",
       "      <td>...</td>\n",
       "      <td>...</td>\n",
       "      <td>...</td>\n",
       "      <td>...</td>\n",
       "      <td>...</td>\n",
       "      <td>...</td>\n",
       "      <td>...</td>\n",
       "      <td>...</td>\n",
       "      <td>...</td>\n",
       "      <td>...</td>\n",
       "      <td>...</td>\n",
       "      <td>...</td>\n",
       "      <td>...</td>\n",
       "      <td>...</td>\n",
       "      <td>...</td>\n",
       "      <td>...</td>\n",
       "      <td>...</td>\n",
       "      <td>...</td>\n",
       "      <td>...</td>\n",
       "      <td>...</td>\n",
       "    </tr>\n",
       "    <tr>\n",
       "      <th>234</th>\n",
       "      <td>Latin America &amp; the Caribbean (IDA &amp; IBRD coun...</td>\n",
       "      <td>TLA</td>\n",
       "      <td>Military expenditure (current LCU)</td>\n",
       "      <td>MS.MIL.XPND.CN</td>\n",
       "      <td>NaN</td>\n",
       "      <td>NaN</td>\n",
       "      <td>NaN</td>\n",
       "      <td>NaN</td>\n",
       "      <td>NaN</td>\n",
       "      <td>NaN</td>\n",
       "      <td>...</td>\n",
       "      <td>NaN</td>\n",
       "      <td>NaN</td>\n",
       "      <td>NaN</td>\n",
       "      <td>NaN</td>\n",
       "      <td>NaN</td>\n",
       "      <td>NaN</td>\n",
       "      <td>NaN</td>\n",
       "      <td>NaN</td>\n",
       "      <td>NaN</td>\n",
       "      <td>NaN</td>\n",
       "    </tr>\n",
       "    <tr>\n",
       "      <th>235</th>\n",
       "      <td>Timor-Leste</td>\n",
       "      <td>TLS</td>\n",
       "      <td>Military expenditure (current LCU)</td>\n",
       "      <td>MS.MIL.XPND.CN</td>\n",
       "      <td>NaN</td>\n",
       "      <td>NaN</td>\n",
       "      <td>NaN</td>\n",
       "      <td>NaN</td>\n",
       "      <td>NaN</td>\n",
       "      <td>NaN</td>\n",
       "      <td>...</td>\n",
       "      <td>2.638900e+07</td>\n",
       "      <td>2.053000e+07</td>\n",
       "      <td>3.338800e+07</td>\n",
       "      <td>3.168300e+07</td>\n",
       "      <td>2.962400e+07</td>\n",
       "      <td>3.695900e+07</td>\n",
       "      <td>2.621700e+07</td>\n",
       "      <td>2.544200e+07</td>\n",
       "      <td>NaN</td>\n",
       "      <td>NaN</td>\n",
       "    </tr>\n",
       "    <tr>\n",
       "      <th>236</th>\n",
       "      <td>Middle East &amp; North Africa (IDA &amp; IBRD countries)</td>\n",
       "      <td>TMN</td>\n",
       "      <td>Military expenditure (current LCU)</td>\n",
       "      <td>MS.MIL.XPND.CN</td>\n",
       "      <td>NaN</td>\n",
       "      <td>NaN</td>\n",
       "      <td>NaN</td>\n",
       "      <td>NaN</td>\n",
       "      <td>NaN</td>\n",
       "      <td>NaN</td>\n",
       "      <td>...</td>\n",
       "      <td>NaN</td>\n",
       "      <td>NaN</td>\n",
       "      <td>NaN</td>\n",
       "      <td>NaN</td>\n",
       "      <td>NaN</td>\n",
       "      <td>NaN</td>\n",
       "      <td>NaN</td>\n",
       "      <td>NaN</td>\n",
       "      <td>NaN</td>\n",
       "      <td>NaN</td>\n",
       "    </tr>\n",
       "    <tr>\n",
       "      <th>237</th>\n",
       "      <td>Tonga</td>\n",
       "      <td>TON</td>\n",
       "      <td>Military expenditure (current LCU)</td>\n",
       "      <td>MS.MIL.XPND.CN</td>\n",
       "      <td>NaN</td>\n",
       "      <td>NaN</td>\n",
       "      <td>NaN</td>\n",
       "      <td>NaN</td>\n",
       "      <td>NaN</td>\n",
       "      <td>NaN</td>\n",
       "      <td>...</td>\n",
       "      <td>NaN</td>\n",
       "      <td>NaN</td>\n",
       "      <td>NaN</td>\n",
       "      <td>NaN</td>\n",
       "      <td>NaN</td>\n",
       "      <td>NaN</td>\n",
       "      <td>NaN</td>\n",
       "      <td>NaN</td>\n",
       "      <td>NaN</td>\n",
       "      <td>NaN</td>\n",
       "    </tr>\n",
       "    <tr>\n",
       "      <th>238</th>\n",
       "      <td>South Asia (IDA &amp; IBRD)</td>\n",
       "      <td>TSA</td>\n",
       "      <td>Military expenditure (current LCU)</td>\n",
       "      <td>MS.MIL.XPND.CN</td>\n",
       "      <td>NaN</td>\n",
       "      <td>NaN</td>\n",
       "      <td>NaN</td>\n",
       "      <td>NaN</td>\n",
       "      <td>NaN</td>\n",
       "      <td>NaN</td>\n",
       "      <td>...</td>\n",
       "      <td>NaN</td>\n",
       "      <td>NaN</td>\n",
       "      <td>NaN</td>\n",
       "      <td>NaN</td>\n",
       "      <td>NaN</td>\n",
       "      <td>NaN</td>\n",
       "      <td>NaN</td>\n",
       "      <td>NaN</td>\n",
       "      <td>NaN</td>\n",
       "      <td>NaN</td>\n",
       "    </tr>\n",
       "    <tr>\n",
       "      <th>239</th>\n",
       "      <td>Sub-Saharan Africa (IDA &amp; IBRD countries)</td>\n",
       "      <td>TSS</td>\n",
       "      <td>Military expenditure (current LCU)</td>\n",
       "      <td>MS.MIL.XPND.CN</td>\n",
       "      <td>NaN</td>\n",
       "      <td>NaN</td>\n",
       "      <td>NaN</td>\n",
       "      <td>NaN</td>\n",
       "      <td>NaN</td>\n",
       "      <td>NaN</td>\n",
       "      <td>...</td>\n",
       "      <td>NaN</td>\n",
       "      <td>NaN</td>\n",
       "      <td>NaN</td>\n",
       "      <td>NaN</td>\n",
       "      <td>NaN</td>\n",
       "      <td>NaN</td>\n",
       "      <td>NaN</td>\n",
       "      <td>NaN</td>\n",
       "      <td>NaN</td>\n",
       "      <td>NaN</td>\n",
       "    </tr>\n",
       "    <tr>\n",
       "      <th>240</th>\n",
       "      <td>Trinidad and Tobago</td>\n",
       "      <td>TTO</td>\n",
       "      <td>Military expenditure (current LCU)</td>\n",
       "      <td>MS.MIL.XPND.CN</td>\n",
       "      <td>NaN</td>\n",
       "      <td>NaN</td>\n",
       "      <td>NaN</td>\n",
       "      <td>NaN</td>\n",
       "      <td>NaN</td>\n",
       "      <td>NaN</td>\n",
       "      <td>...</td>\n",
       "      <td>9.121000e+08</td>\n",
       "      <td>9.362750e+08</td>\n",
       "      <td>1.085075e+09</td>\n",
       "      <td>1.360529e+09</td>\n",
       "      <td>1.210587e+09</td>\n",
       "      <td>1.288925e+09</td>\n",
       "      <td>1.433550e+09</td>\n",
       "      <td>1.367550e+09</td>\n",
       "      <td>NaN</td>\n",
       "      <td>NaN</td>\n",
       "    </tr>\n",
       "    <tr>\n",
       "      <th>241</th>\n",
       "      <td>Tunisia</td>\n",
       "      <td>TUN</td>\n",
       "      <td>Military expenditure (current LCU)</td>\n",
       "      <td>MS.MIL.XPND.CN</td>\n",
       "      <td>6.700000e+06</td>\n",
       "      <td>7.800000e+06</td>\n",
       "      <td>6.000000e+06</td>\n",
       "      <td>6.400000e+06</td>\n",
       "      <td>7.800000e+06</td>\n",
       "      <td>6.700000e+06</td>\n",
       "      <td>...</td>\n",
       "      <td>8.176000e+08</td>\n",
       "      <td>1.006900e+09</td>\n",
       "      <td>1.064000e+09</td>\n",
       "      <td>1.233700e+09</td>\n",
       "      <td>1.542100e+09</td>\n",
       "      <td>1.921400e+09</td>\n",
       "      <td>2.120120e+09</td>\n",
       "      <td>2.016200e+09</td>\n",
       "      <td>NaN</td>\n",
       "      <td>NaN</td>\n",
       "    </tr>\n",
       "    <tr>\n",
       "      <th>242</th>\n",
       "      <td>Turkey</td>\n",
       "      <td>TUR</td>\n",
       "      <td>Military expenditure (current LCU)</td>\n",
       "      <td>MS.MIL.XPND.CN</td>\n",
       "      <td>2.405000e+03</td>\n",
       "      <td>2.718000e+03</td>\n",
       "      <td>2.980000e+03</td>\n",
       "      <td>3.157000e+03</td>\n",
       "      <td>3.443000e+03</td>\n",
       "      <td>3.821000e+03</td>\n",
       "      <td>...</td>\n",
       "      <td>2.696018e+10</td>\n",
       "      <td>2.898481e+10</td>\n",
       "      <td>3.225300e+10</td>\n",
       "      <td>3.552925e+10</td>\n",
       "      <td>3.889510e+10</td>\n",
       "      <td>4.319612e+10</td>\n",
       "      <td>5.393238e+10</td>\n",
       "      <td>6.556623e+10</td>\n",
       "      <td>NaN</td>\n",
       "      <td>NaN</td>\n",
       "    </tr>\n",
       "    <tr>\n",
       "      <th>243</th>\n",
       "      <td>Tuvalu</td>\n",
       "      <td>TUV</td>\n",
       "      <td>Military expenditure (current LCU)</td>\n",
       "      <td>MS.MIL.XPND.CN</td>\n",
       "      <td>NaN</td>\n",
       "      <td>NaN</td>\n",
       "      <td>NaN</td>\n",
       "      <td>NaN</td>\n",
       "      <td>NaN</td>\n",
       "      <td>NaN</td>\n",
       "      <td>...</td>\n",
       "      <td>NaN</td>\n",
       "      <td>NaN</td>\n",
       "      <td>NaN</td>\n",
       "      <td>NaN</td>\n",
       "      <td>NaN</td>\n",
       "      <td>NaN</td>\n",
       "      <td>NaN</td>\n",
       "      <td>NaN</td>\n",
       "      <td>NaN</td>\n",
       "      <td>NaN</td>\n",
       "    </tr>\n",
       "    <tr>\n",
       "      <th>244</th>\n",
       "      <td>Tanzania</td>\n",
       "      <td>TZA</td>\n",
       "      <td>Military expenditure (current LCU)</td>\n",
       "      <td>MS.MIL.XPND.CN</td>\n",
       "      <td>NaN</td>\n",
       "      <td>NaN</td>\n",
       "      <td>NaN</td>\n",
       "      <td>NaN</td>\n",
       "      <td>NaN</td>\n",
       "      <td>NaN</td>\n",
       "      <td>...</td>\n",
       "      <td>3.984360e+11</td>\n",
       "      <td>4.833860e+11</td>\n",
       "      <td>5.694675e+11</td>\n",
       "      <td>7.096030e+11</td>\n",
       "      <td>8.390530e+11</td>\n",
       "      <td>1.029700e+12</td>\n",
       "      <td>1.185150e+12</td>\n",
       "      <td>1.321328e+12</td>\n",
       "      <td>NaN</td>\n",
       "      <td>NaN</td>\n",
       "    </tr>\n",
       "    <tr>\n",
       "      <th>245</th>\n",
       "      <td>Uganda</td>\n",
       "      <td>UGA</td>\n",
       "      <td>Military expenditure (current LCU)</td>\n",
       "      <td>MS.MIL.XPND.CN</td>\n",
       "      <td>NaN</td>\n",
       "      <td>NaN</td>\n",
       "      <td>5.200000e+04</td>\n",
       "      <td>1.950000e+05</td>\n",
       "      <td>3.920000e+05</td>\n",
       "      <td>7.670000e+05</td>\n",
       "      <td>...</td>\n",
       "      <td>1.325450e+12</td>\n",
       "      <td>1.620950e+12</td>\n",
       "      <td>1.075550e+12</td>\n",
       "      <td>1.119350e+12</td>\n",
       "      <td>1.209350e+12</td>\n",
       "      <td>1.569159e+12</td>\n",
       "      <td>1.789078e+12</td>\n",
       "      <td>1.604981e+12</td>\n",
       "      <td>NaN</td>\n",
       "      <td>NaN</td>\n",
       "    </tr>\n",
       "    <tr>\n",
       "      <th>246</th>\n",
       "      <td>Ukraine</td>\n",
       "      <td>UKR</td>\n",
       "      <td>Military expenditure (current LCU)</td>\n",
       "      <td>MS.MIL.XPND.CN</td>\n",
       "      <td>NaN</td>\n",
       "      <td>NaN</td>\n",
       "      <td>NaN</td>\n",
       "      <td>NaN</td>\n",
       "      <td>NaN</td>\n",
       "      <td>NaN</td>\n",
       "      <td>...</td>\n",
       "      <td>2.959600e+10</td>\n",
       "      <td>2.935800e+10</td>\n",
       "      <td>3.305800e+10</td>\n",
       "      <td>3.506100e+10</td>\n",
       "      <td>4.794300e+10</td>\n",
       "      <td>7.901000e+10</td>\n",
       "      <td>8.751000e+10</td>\n",
       "      <td>9.669114e+10</td>\n",
       "      <td>NaN</td>\n",
       "      <td>NaN</td>\n",
       "    </tr>\n",
       "    <tr>\n",
       "      <th>247</th>\n",
       "      <td>Upper middle income</td>\n",
       "      <td>UMC</td>\n",
       "      <td>Military expenditure (current LCU)</td>\n",
       "      <td>MS.MIL.XPND.CN</td>\n",
       "      <td>NaN</td>\n",
       "      <td>NaN</td>\n",
       "      <td>NaN</td>\n",
       "      <td>NaN</td>\n",
       "      <td>NaN</td>\n",
       "      <td>NaN</td>\n",
       "      <td>...</td>\n",
       "      <td>NaN</td>\n",
       "      <td>NaN</td>\n",
       "      <td>NaN</td>\n",
       "      <td>NaN</td>\n",
       "      <td>NaN</td>\n",
       "      <td>NaN</td>\n",
       "      <td>NaN</td>\n",
       "      <td>NaN</td>\n",
       "      <td>NaN</td>\n",
       "      <td>NaN</td>\n",
       "    </tr>\n",
       "    <tr>\n",
       "      <th>248</th>\n",
       "      <td>Uruguay</td>\n",
       "      <td>URY</td>\n",
       "      <td>Military expenditure (current LCU)</td>\n",
       "      <td>MS.MIL.XPND.CN</td>\n",
       "      <td>NaN</td>\n",
       "      <td>NaN</td>\n",
       "      <td>NaN</td>\n",
       "      <td>NaN</td>\n",
       "      <td>NaN</td>\n",
       "      <td>NaN</td>\n",
       "      <td>...</td>\n",
       "      <td>1.515800e+10</td>\n",
       "      <td>1.593100e+10</td>\n",
       "      <td>1.878000e+10</td>\n",
       "      <td>2.140500e+10</td>\n",
       "      <td>2.404800e+10</td>\n",
       "      <td>2.650500e+10</td>\n",
       "      <td>2.977300e+10</td>\n",
       "      <td>3.558400e+10</td>\n",
       "      <td>NaN</td>\n",
       "      <td>NaN</td>\n",
       "    </tr>\n",
       "    <tr>\n",
       "      <th>249</th>\n",
       "      <td>United States</td>\n",
       "      <td>USA</td>\n",
       "      <td>Military expenditure (current LCU)</td>\n",
       "      <td>MS.MIL.XPND.CN</td>\n",
       "      <td>4.538000e+10</td>\n",
       "      <td>4.780800e+10</td>\n",
       "      <td>5.238100e+10</td>\n",
       "      <td>5.229500e+10</td>\n",
       "      <td>5.121300e+10</td>\n",
       "      <td>5.182700e+10</td>\n",
       "      <td>...</td>\n",
       "      <td>6.981800e+11</td>\n",
       "      <td>7.113380e+11</td>\n",
       "      <td>6.847800e+11</td>\n",
       "      <td>6.397040e+11</td>\n",
       "      <td>6.099140e+11</td>\n",
       "      <td>5.961046e+11</td>\n",
       "      <td>6.001064e+11</td>\n",
       "      <td>6.097580e+11</td>\n",
       "      <td>NaN</td>\n",
       "      <td>NaN</td>\n",
       "    </tr>\n",
       "    <tr>\n",
       "      <th>250</th>\n",
       "      <td>Uzbekistan</td>\n",
       "      <td>UZB</td>\n",
       "      <td>Military expenditure (current LCU)</td>\n",
       "      <td>MS.MIL.XPND.CN</td>\n",
       "      <td>NaN</td>\n",
       "      <td>NaN</td>\n",
       "      <td>NaN</td>\n",
       "      <td>NaN</td>\n",
       "      <td>NaN</td>\n",
       "      <td>NaN</td>\n",
       "      <td>...</td>\n",
       "      <td>NaN</td>\n",
       "      <td>NaN</td>\n",
       "      <td>NaN</td>\n",
       "      <td>NaN</td>\n",
       "      <td>NaN</td>\n",
       "      <td>NaN</td>\n",
       "      <td>NaN</td>\n",
       "      <td>NaN</td>\n",
       "      <td>NaN</td>\n",
       "      <td>NaN</td>\n",
       "    </tr>\n",
       "    <tr>\n",
       "      <th>251</th>\n",
       "      <td>St. Vincent and the Grenadines</td>\n",
       "      <td>VCT</td>\n",
       "      <td>Military expenditure (current LCU)</td>\n",
       "      <td>MS.MIL.XPND.CN</td>\n",
       "      <td>NaN</td>\n",
       "      <td>NaN</td>\n",
       "      <td>NaN</td>\n",
       "      <td>NaN</td>\n",
       "      <td>NaN</td>\n",
       "      <td>NaN</td>\n",
       "      <td>...</td>\n",
       "      <td>NaN</td>\n",
       "      <td>NaN</td>\n",
       "      <td>NaN</td>\n",
       "      <td>NaN</td>\n",
       "      <td>NaN</td>\n",
       "      <td>NaN</td>\n",
       "      <td>NaN</td>\n",
       "      <td>NaN</td>\n",
       "      <td>NaN</td>\n",
       "      <td>NaN</td>\n",
       "    </tr>\n",
       "    <tr>\n",
       "      <th>252</th>\n",
       "      <td>Venezuela, RB</td>\n",
       "      <td>VEN</td>\n",
       "      <td>Military expenditure (current LCU)</td>\n",
       "      <td>MS.MIL.XPND.CN</td>\n",
       "      <td>7.850000e+05</td>\n",
       "      <td>3.840000e+05</td>\n",
       "      <td>6.830000e+05</td>\n",
       "      <td>8.220000e+05</td>\n",
       "      <td>8.720000e+05</td>\n",
       "      <td>1.000000e+06</td>\n",
       "      <td>...</td>\n",
       "      <td>1.030550e+10</td>\n",
       "      <td>1.534511e+10</td>\n",
       "      <td>2.193911e+10</td>\n",
       "      <td>3.749553e+10</td>\n",
       "      <td>3.521748e+10</td>\n",
       "      <td>5.672101e+10</td>\n",
       "      <td>1.078443e+11</td>\n",
       "      <td>9.698638e+11</td>\n",
       "      <td>NaN</td>\n",
       "      <td>NaN</td>\n",
       "    </tr>\n",
       "    <tr>\n",
       "      <th>253</th>\n",
       "      <td>British Virgin Islands</td>\n",
       "      <td>VGB</td>\n",
       "      <td>Military expenditure (current LCU)</td>\n",
       "      <td>MS.MIL.XPND.CN</td>\n",
       "      <td>NaN</td>\n",
       "      <td>NaN</td>\n",
       "      <td>NaN</td>\n",
       "      <td>NaN</td>\n",
       "      <td>NaN</td>\n",
       "      <td>NaN</td>\n",
       "      <td>...</td>\n",
       "      <td>NaN</td>\n",
       "      <td>NaN</td>\n",
       "      <td>NaN</td>\n",
       "      <td>NaN</td>\n",
       "      <td>NaN</td>\n",
       "      <td>NaN</td>\n",
       "      <td>NaN</td>\n",
       "      <td>NaN</td>\n",
       "      <td>NaN</td>\n",
       "      <td>NaN</td>\n",
       "    </tr>\n",
       "    <tr>\n",
       "      <th>254</th>\n",
       "      <td>Virgin Islands (U.S.)</td>\n",
       "      <td>VIR</td>\n",
       "      <td>Military expenditure (current LCU)</td>\n",
       "      <td>MS.MIL.XPND.CN</td>\n",
       "      <td>NaN</td>\n",
       "      <td>NaN</td>\n",
       "      <td>NaN</td>\n",
       "      <td>NaN</td>\n",
       "      <td>NaN</td>\n",
       "      <td>NaN</td>\n",
       "      <td>...</td>\n",
       "      <td>NaN</td>\n",
       "      <td>NaN</td>\n",
       "      <td>NaN</td>\n",
       "      <td>NaN</td>\n",
       "      <td>NaN</td>\n",
       "      <td>NaN</td>\n",
       "      <td>NaN</td>\n",
       "      <td>NaN</td>\n",
       "      <td>NaN</td>\n",
       "      <td>NaN</td>\n",
       "    </tr>\n",
       "    <tr>\n",
       "      <th>255</th>\n",
       "      <td>Vietnam</td>\n",
       "      <td>VNM</td>\n",
       "      <td>Military expenditure (current LCU)</td>\n",
       "      <td>MS.MIL.XPND.CN</td>\n",
       "      <td>NaN</td>\n",
       "      <td>NaN</td>\n",
       "      <td>NaN</td>\n",
       "      <td>NaN</td>\n",
       "      <td>NaN</td>\n",
       "      <td>NaN</td>\n",
       "      <td>...</td>\n",
       "      <td>4.973900e+13</td>\n",
       "      <td>5.510000e+13</td>\n",
       "      <td>7.000000e+13</td>\n",
       "      <td>7.802400e+13</td>\n",
       "      <td>9.000000e+13</td>\n",
       "      <td>9.900000e+13</td>\n",
       "      <td>1.100000e+14</td>\n",
       "      <td>1.135340e+14</td>\n",
       "      <td>NaN</td>\n",
       "      <td>NaN</td>\n",
       "    </tr>\n",
       "    <tr>\n",
       "      <th>256</th>\n",
       "      <td>Vanuatu</td>\n",
       "      <td>VUT</td>\n",
       "      <td>Military expenditure (current LCU)</td>\n",
       "      <td>MS.MIL.XPND.CN</td>\n",
       "      <td>NaN</td>\n",
       "      <td>NaN</td>\n",
       "      <td>NaN</td>\n",
       "      <td>NaN</td>\n",
       "      <td>NaN</td>\n",
       "      <td>NaN</td>\n",
       "      <td>...</td>\n",
       "      <td>NaN</td>\n",
       "      <td>NaN</td>\n",
       "      <td>NaN</td>\n",
       "      <td>NaN</td>\n",
       "      <td>NaN</td>\n",
       "      <td>NaN</td>\n",
       "      <td>NaN</td>\n",
       "      <td>NaN</td>\n",
       "      <td>NaN</td>\n",
       "      <td>NaN</td>\n",
       "    </tr>\n",
       "    <tr>\n",
       "      <th>257</th>\n",
       "      <td>World</td>\n",
       "      <td>WLD</td>\n",
       "      <td>Military expenditure (current LCU)</td>\n",
       "      <td>MS.MIL.XPND.CN</td>\n",
       "      <td>NaN</td>\n",
       "      <td>NaN</td>\n",
       "      <td>NaN</td>\n",
       "      <td>NaN</td>\n",
       "      <td>NaN</td>\n",
       "      <td>NaN</td>\n",
       "      <td>...</td>\n",
       "      <td>NaN</td>\n",
       "      <td>NaN</td>\n",
       "      <td>NaN</td>\n",
       "      <td>NaN</td>\n",
       "      <td>NaN</td>\n",
       "      <td>NaN</td>\n",
       "      <td>NaN</td>\n",
       "      <td>NaN</td>\n",
       "      <td>NaN</td>\n",
       "      <td>NaN</td>\n",
       "    </tr>\n",
       "    <tr>\n",
       "      <th>258</th>\n",
       "      <td>Samoa</td>\n",
       "      <td>WSM</td>\n",
       "      <td>Military expenditure (current LCU)</td>\n",
       "      <td>MS.MIL.XPND.CN</td>\n",
       "      <td>NaN</td>\n",
       "      <td>NaN</td>\n",
       "      <td>NaN</td>\n",
       "      <td>NaN</td>\n",
       "      <td>NaN</td>\n",
       "      <td>NaN</td>\n",
       "      <td>...</td>\n",
       "      <td>NaN</td>\n",
       "      <td>NaN</td>\n",
       "      <td>NaN</td>\n",
       "      <td>NaN</td>\n",
       "      <td>NaN</td>\n",
       "      <td>NaN</td>\n",
       "      <td>NaN</td>\n",
       "      <td>NaN</td>\n",
       "      <td>NaN</td>\n",
       "      <td>NaN</td>\n",
       "    </tr>\n",
       "    <tr>\n",
       "      <th>259</th>\n",
       "      <td>Kosovo</td>\n",
       "      <td>XKX</td>\n",
       "      <td>Military expenditure (current LCU)</td>\n",
       "      <td>MS.MIL.XPND.CN</td>\n",
       "      <td>NaN</td>\n",
       "      <td>NaN</td>\n",
       "      <td>NaN</td>\n",
       "      <td>NaN</td>\n",
       "      <td>NaN</td>\n",
       "      <td>NaN</td>\n",
       "      <td>...</td>\n",
       "      <td>2.912822e+07</td>\n",
       "      <td>3.666471e+07</td>\n",
       "      <td>3.377049e+07</td>\n",
       "      <td>3.660178e+07</td>\n",
       "      <td>4.038172e+07</td>\n",
       "      <td>4.507072e+07</td>\n",
       "      <td>4.696200e+07</td>\n",
       "      <td>5.103600e+07</td>\n",
       "      <td>NaN</td>\n",
       "      <td>NaN</td>\n",
       "    </tr>\n",
       "    <tr>\n",
       "      <th>260</th>\n",
       "      <td>Yemen, Rep.</td>\n",
       "      <td>YEM</td>\n",
       "      <td>Military expenditure (current LCU)</td>\n",
       "      <td>MS.MIL.XPND.CN</td>\n",
       "      <td>NaN</td>\n",
       "      <td>NaN</td>\n",
       "      <td>NaN</td>\n",
       "      <td>NaN</td>\n",
       "      <td>NaN</td>\n",
       "      <td>NaN</td>\n",
       "      <td>...</td>\n",
       "      <td>3.180000e+11</td>\n",
       "      <td>3.447000e+11</td>\n",
       "      <td>3.470000e+11</td>\n",
       "      <td>3.543000e+11</td>\n",
       "      <td>3.685000e+11</td>\n",
       "      <td>NaN</td>\n",
       "      <td>NaN</td>\n",
       "      <td>NaN</td>\n",
       "      <td>NaN</td>\n",
       "      <td>NaN</td>\n",
       "    </tr>\n",
       "    <tr>\n",
       "      <th>261</th>\n",
       "      <td>South Africa</td>\n",
       "      <td>ZAF</td>\n",
       "      <td>Military expenditure (current LCU)</td>\n",
       "      <td>MS.MIL.XPND.CN</td>\n",
       "      <td>5.000000e+07</td>\n",
       "      <td>8.125000e+07</td>\n",
       "      <td>1.330000e+08</td>\n",
       "      <td>1.350000e+08</td>\n",
       "      <td>1.940000e+08</td>\n",
       "      <td>2.067500e+08</td>\n",
       "      <td>...</td>\n",
       "      <td>3.066250e+10</td>\n",
       "      <td>3.335875e+10</td>\n",
       "      <td>3.685940e+10</td>\n",
       "      <td>3.976155e+10</td>\n",
       "      <td>4.225475e+10</td>\n",
       "      <td>4.451825e+10</td>\n",
       "      <td>4.669575e+10</td>\n",
       "      <td>4.827335e+10</td>\n",
       "      <td>NaN</td>\n",
       "      <td>NaN</td>\n",
       "    </tr>\n",
       "    <tr>\n",
       "      <th>262</th>\n",
       "      <td>Zambia</td>\n",
       "      <td>ZMB</td>\n",
       "      <td>Military expenditure (current LCU)</td>\n",
       "      <td>MS.MIL.XPND.CN</td>\n",
       "      <td>NaN</td>\n",
       "      <td>NaN</td>\n",
       "      <td>NaN</td>\n",
       "      <td>NaN</td>\n",
       "      <td>NaN</td>\n",
       "      <td>NaN</td>\n",
       "      <td>...</td>\n",
       "      <td>1.344100e+09</td>\n",
       "      <td>1.502500e+09</td>\n",
       "      <td>1.782500e+09</td>\n",
       "      <td>2.057700e+09</td>\n",
       "      <td>2.729418e+09</td>\n",
       "      <td>3.215100e+09</td>\n",
       "      <td>3.088700e+09</td>\n",
       "      <td>3.204640e+09</td>\n",
       "      <td>NaN</td>\n",
       "      <td>NaN</td>\n",
       "    </tr>\n",
       "    <tr>\n",
       "      <th>263</th>\n",
       "      <td>Zimbabwe</td>\n",
       "      <td>ZWE</td>\n",
       "      <td>Military expenditure (current LCU)</td>\n",
       "      <td>MS.MIL.XPND.CN</td>\n",
       "      <td>NaN</td>\n",
       "      <td>NaN</td>\n",
       "      <td>NaN</td>\n",
       "      <td>NaN</td>\n",
       "      <td>NaN</td>\n",
       "      <td>1.560000e+07</td>\n",
       "      <td>...</td>\n",
       "      <td>9.829300e+07</td>\n",
       "      <td>1.984380e+08</td>\n",
       "      <td>3.182720e+08</td>\n",
       "      <td>3.567000e+08</td>\n",
       "      <td>3.681000e+08</td>\n",
       "      <td>3.766770e+08</td>\n",
       "      <td>3.580650e+08</td>\n",
       "      <td>3.405220e+08</td>\n",
       "      <td>NaN</td>\n",
       "      <td>NaN</td>\n",
       "    </tr>\n",
       "  </tbody>\n",
       "</table>\n",
       "<p>264 rows × 64 columns</p>\n",
       "</div>"
      ],
      "text/plain": [
       "                                          Country Name Country Code  \\\n",
       "0                                                Aruba          ABW   \n",
       "1                                          Afghanistan          AFG   \n",
       "2                                               Angola          AGO   \n",
       "3                                              Albania          ALB   \n",
       "4                                              Andorra          AND   \n",
       "5                                           Arab World          ARB   \n",
       "6                                 United Arab Emirates          ARE   \n",
       "7                                            Argentina          ARG   \n",
       "8                                              Armenia          ARM   \n",
       "9                                       American Samoa          ASM   \n",
       "10                                 Antigua and Barbuda          ATG   \n",
       "11                                           Australia          AUS   \n",
       "12                                             Austria          AUT   \n",
       "13                                          Azerbaijan          AZE   \n",
       "14                                             Burundi          BDI   \n",
       "15                                             Belgium          BEL   \n",
       "16                                               Benin          BEN   \n",
       "17                                        Burkina Faso          BFA   \n",
       "18                                          Bangladesh          BGD   \n",
       "19                                            Bulgaria          BGR   \n",
       "20                                             Bahrain          BHR   \n",
       "21                                        Bahamas, The          BHS   \n",
       "22                              Bosnia and Herzegovina          BIH   \n",
       "23                                             Belarus          BLR   \n",
       "24                                              Belize          BLZ   \n",
       "25                                             Bermuda          BMU   \n",
       "26                                             Bolivia          BOL   \n",
       "27                                              Brazil          BRA   \n",
       "28                                            Barbados          BRB   \n",
       "29                                   Brunei Darussalam          BRN   \n",
       "..                                                 ...          ...   \n",
       "234  Latin America & the Caribbean (IDA & IBRD coun...          TLA   \n",
       "235                                        Timor-Leste          TLS   \n",
       "236  Middle East & North Africa (IDA & IBRD countries)          TMN   \n",
       "237                                              Tonga          TON   \n",
       "238                            South Asia (IDA & IBRD)          TSA   \n",
       "239          Sub-Saharan Africa (IDA & IBRD countries)          TSS   \n",
       "240                                Trinidad and Tobago          TTO   \n",
       "241                                            Tunisia          TUN   \n",
       "242                                             Turkey          TUR   \n",
       "243                                             Tuvalu          TUV   \n",
       "244                                           Tanzania          TZA   \n",
       "245                                             Uganda          UGA   \n",
       "246                                            Ukraine          UKR   \n",
       "247                                Upper middle income          UMC   \n",
       "248                                            Uruguay          URY   \n",
       "249                                      United States          USA   \n",
       "250                                         Uzbekistan          UZB   \n",
       "251                     St. Vincent and the Grenadines          VCT   \n",
       "252                                      Venezuela, RB          VEN   \n",
       "253                             British Virgin Islands          VGB   \n",
       "254                              Virgin Islands (U.S.)          VIR   \n",
       "255                                            Vietnam          VNM   \n",
       "256                                            Vanuatu          VUT   \n",
       "257                                              World          WLD   \n",
       "258                                              Samoa          WSM   \n",
       "259                                             Kosovo          XKX   \n",
       "260                                        Yemen, Rep.          YEM   \n",
       "261                                       South Africa          ZAF   \n",
       "262                                             Zambia          ZMB   \n",
       "263                                           Zimbabwe          ZWE   \n",
       "\n",
       "                         Indicator Name  Indicator Code          1960  \\\n",
       "0    Military expenditure (current LCU)  MS.MIL.XPND.CN           NaN   \n",
       "1    Military expenditure (current LCU)  MS.MIL.XPND.CN           NaN   \n",
       "2    Military expenditure (current LCU)  MS.MIL.XPND.CN           NaN   \n",
       "3    Military expenditure (current LCU)  MS.MIL.XPND.CN           NaN   \n",
       "4    Military expenditure (current LCU)  MS.MIL.XPND.CN           NaN   \n",
       "5    Military expenditure (current LCU)  MS.MIL.XPND.CN           NaN   \n",
       "6    Military expenditure (current LCU)  MS.MIL.XPND.CN           NaN   \n",
       "7    Military expenditure (current LCU)  MS.MIL.XPND.CN  1.550000e-03   \n",
       "8    Military expenditure (current LCU)  MS.MIL.XPND.CN           NaN   \n",
       "9    Military expenditure (current LCU)  MS.MIL.XPND.CN           NaN   \n",
       "10   Military expenditure (current LCU)  MS.MIL.XPND.CN           NaN   \n",
       "11   Military expenditure (current LCU)  MS.MIL.XPND.CN  4.105000e+08   \n",
       "12   Military expenditure (current LCU)  MS.MIL.XPND.CN  1.730000e+08   \n",
       "13   Military expenditure (current LCU)  MS.MIL.XPND.CN           NaN   \n",
       "14   Military expenditure (current LCU)  MS.MIL.XPND.CN           NaN   \n",
       "15   Military expenditure (current LCU)  MS.MIL.XPND.CN  4.749900e+08   \n",
       "16   Military expenditure (current LCU)  MS.MIL.XPND.CN  3.190000e+08   \n",
       "17   Military expenditure (current LCU)  MS.MIL.XPND.CN  3.110000e+08   \n",
       "18   Military expenditure (current LCU)  MS.MIL.XPND.CN           NaN   \n",
       "19   Military expenditure (current LCU)  MS.MIL.XPND.CN           NaN   \n",
       "20   Military expenditure (current LCU)  MS.MIL.XPND.CN           NaN   \n",
       "21   Military expenditure (current LCU)  MS.MIL.XPND.CN           NaN   \n",
       "22   Military expenditure (current LCU)  MS.MIL.XPND.CN           NaN   \n",
       "23   Military expenditure (current LCU)  MS.MIL.XPND.CN           NaN   \n",
       "24   Military expenditure (current LCU)  MS.MIL.XPND.CN           NaN   \n",
       "25   Military expenditure (current LCU)  MS.MIL.XPND.CN           NaN   \n",
       "26   Military expenditure (current LCU)  MS.MIL.XPND.CN           NaN   \n",
       "27   Military expenditure (current LCU)  MS.MIL.XPND.CN  3.100000e-05   \n",
       "28   Military expenditure (current LCU)  MS.MIL.XPND.CN           NaN   \n",
       "29   Military expenditure (current LCU)  MS.MIL.XPND.CN           NaN   \n",
       "..                                  ...             ...           ...   \n",
       "234  Military expenditure (current LCU)  MS.MIL.XPND.CN           NaN   \n",
       "235  Military expenditure (current LCU)  MS.MIL.XPND.CN           NaN   \n",
       "236  Military expenditure (current LCU)  MS.MIL.XPND.CN           NaN   \n",
       "237  Military expenditure (current LCU)  MS.MIL.XPND.CN           NaN   \n",
       "238  Military expenditure (current LCU)  MS.MIL.XPND.CN           NaN   \n",
       "239  Military expenditure (current LCU)  MS.MIL.XPND.CN           NaN   \n",
       "240  Military expenditure (current LCU)  MS.MIL.XPND.CN           NaN   \n",
       "241  Military expenditure (current LCU)  MS.MIL.XPND.CN  6.700000e+06   \n",
       "242  Military expenditure (current LCU)  MS.MIL.XPND.CN  2.405000e+03   \n",
       "243  Military expenditure (current LCU)  MS.MIL.XPND.CN           NaN   \n",
       "244  Military expenditure (current LCU)  MS.MIL.XPND.CN           NaN   \n",
       "245  Military expenditure (current LCU)  MS.MIL.XPND.CN           NaN   \n",
       "246  Military expenditure (current LCU)  MS.MIL.XPND.CN           NaN   \n",
       "247  Military expenditure (current LCU)  MS.MIL.XPND.CN           NaN   \n",
       "248  Military expenditure (current LCU)  MS.MIL.XPND.CN           NaN   \n",
       "249  Military expenditure (current LCU)  MS.MIL.XPND.CN  4.538000e+10   \n",
       "250  Military expenditure (current LCU)  MS.MIL.XPND.CN           NaN   \n",
       "251  Military expenditure (current LCU)  MS.MIL.XPND.CN           NaN   \n",
       "252  Military expenditure (current LCU)  MS.MIL.XPND.CN  7.850000e+05   \n",
       "253  Military expenditure (current LCU)  MS.MIL.XPND.CN           NaN   \n",
       "254  Military expenditure (current LCU)  MS.MIL.XPND.CN           NaN   \n",
       "255  Military expenditure (current LCU)  MS.MIL.XPND.CN           NaN   \n",
       "256  Military expenditure (current LCU)  MS.MIL.XPND.CN           NaN   \n",
       "257  Military expenditure (current LCU)  MS.MIL.XPND.CN           NaN   \n",
       "258  Military expenditure (current LCU)  MS.MIL.XPND.CN           NaN   \n",
       "259  Military expenditure (current LCU)  MS.MIL.XPND.CN           NaN   \n",
       "260  Military expenditure (current LCU)  MS.MIL.XPND.CN           NaN   \n",
       "261  Military expenditure (current LCU)  MS.MIL.XPND.CN  5.000000e+07   \n",
       "262  Military expenditure (current LCU)  MS.MIL.XPND.CN           NaN   \n",
       "263  Military expenditure (current LCU)  MS.MIL.XPND.CN           NaN   \n",
       "\n",
       "             1961          1962          1963          1964          1965  \\\n",
       "0             NaN           NaN           NaN           NaN           NaN   \n",
       "1             NaN           NaN           NaN           NaN           NaN   \n",
       "2             NaN           NaN           NaN           NaN           NaN   \n",
       "3             NaN           NaN           NaN           NaN           NaN   \n",
       "4             NaN           NaN           NaN           NaN           NaN   \n",
       "5             NaN           NaN           NaN           NaN           NaN   \n",
       "6             NaN           NaN           NaN           NaN           NaN   \n",
       "7    2.140000e-03  2.660000e-03  3.360000e-03  3.450000e-03  4.280000e-03   \n",
       "8             NaN           NaN           NaN           NaN           NaN   \n",
       "9             NaN           NaN           NaN           NaN           NaN   \n",
       "10            NaN           NaN           NaN           NaN           NaN   \n",
       "11   4.205000e+08  4.370000e+08  4.940000e+08  5.855000e+08  7.030000e+08   \n",
       "12   1.720000e+08  1.890000e+08  2.380000e+08  3.110000e+08  2.700000e+08   \n",
       "13            NaN           NaN           NaN           NaN           NaN   \n",
       "14            NaN  4.210000e+08  5.060000e+07  5.810000e+07  1.817000e+08   \n",
       "15   4.849040e+08  5.233300e+08  5.510700e+08  6.160900e+08  6.206300e+08   \n",
       "16   5.330000e+08  6.700000e+08  7.260000e+08  9.320000e+08  9.790000e+08   \n",
       "17   4.030000e+08  1.201000e+09  1.294000e+09  1.313000e+09  8.600000e+08   \n",
       "18            NaN           NaN           NaN           NaN           NaN   \n",
       "19            NaN           NaN           NaN           NaN           NaN   \n",
       "20            NaN           NaN           NaN           NaN           NaN   \n",
       "21            NaN           NaN           NaN           NaN           NaN   \n",
       "22            NaN           NaN           NaN           NaN           NaN   \n",
       "23            NaN           NaN           NaN           NaN           NaN   \n",
       "24            NaN           NaN           NaN           NaN           NaN   \n",
       "25            NaN           NaN           NaN           NaN           NaN   \n",
       "26   5.863277e+01  6.172395e+01  7.608299e+01           NaN           NaN   \n",
       "27   4.000000e-05  6.500000e-05  1.100000e-04  1.920000e-04  5.200000e-04   \n",
       "28            NaN           NaN           NaN           NaN           NaN   \n",
       "29            NaN           NaN           NaN           NaN           NaN   \n",
       "..            ...           ...           ...           ...           ...   \n",
       "234           NaN           NaN           NaN           NaN           NaN   \n",
       "235           NaN           NaN           NaN           NaN           NaN   \n",
       "236           NaN           NaN           NaN           NaN           NaN   \n",
       "237           NaN           NaN           NaN           NaN           NaN   \n",
       "238           NaN           NaN           NaN           NaN           NaN   \n",
       "239           NaN           NaN           NaN           NaN           NaN   \n",
       "240           NaN           NaN           NaN           NaN           NaN   \n",
       "241  7.800000e+06  6.000000e+06  6.400000e+06  7.800000e+06  6.700000e+06   \n",
       "242  2.718000e+03  2.980000e+03  3.157000e+03  3.443000e+03  3.821000e+03   \n",
       "243           NaN           NaN           NaN           NaN           NaN   \n",
       "244           NaN           NaN           NaN           NaN           NaN   \n",
       "245           NaN  5.200000e+04  1.950000e+05  3.920000e+05  7.670000e+05   \n",
       "246           NaN           NaN           NaN           NaN           NaN   \n",
       "247           NaN           NaN           NaN           NaN           NaN   \n",
       "248           NaN           NaN           NaN           NaN           NaN   \n",
       "249  4.780800e+10  5.238100e+10  5.229500e+10  5.121300e+10  5.182700e+10   \n",
       "250           NaN           NaN           NaN           NaN           NaN   \n",
       "251           NaN           NaN           NaN           NaN           NaN   \n",
       "252  3.840000e+05  6.830000e+05  8.220000e+05  8.720000e+05  1.000000e+06   \n",
       "253           NaN           NaN           NaN           NaN           NaN   \n",
       "254           NaN           NaN           NaN           NaN           NaN   \n",
       "255           NaN           NaN           NaN           NaN           NaN   \n",
       "256           NaN           NaN           NaN           NaN           NaN   \n",
       "257           NaN           NaN           NaN           NaN           NaN   \n",
       "258           NaN           NaN           NaN           NaN           NaN   \n",
       "259           NaN           NaN           NaN           NaN           NaN   \n",
       "260           NaN           NaN           NaN           NaN           NaN   \n",
       "261  8.125000e+07  1.330000e+08  1.350000e+08  1.940000e+08  2.067500e+08   \n",
       "262           NaN           NaN           NaN           NaN           NaN   \n",
       "263           NaN           NaN           NaN           NaN  1.560000e+07   \n",
       "\n",
<<<<<<< HEAD
<<<<<<< HEAD
       "        ...               2010          2011          2012          2013  \\\n",
       "0       ...                NaN           NaN           NaN           NaN   \n",
       "1       ...       1.384967e+10  1.523050e+10  1.214900e+10  1.202767e+10   \n",
       "2       ...       3.217430e+11  3.418750e+11  3.956800e+11  5.878690e+11   \n",
       "3       ...       1.932100e+10  1.987700e+10  1.982000e+10  1.902200e+10   \n",
       "4       ...                NaN           NaN           NaN           NaN   \n",
       "5       ...                NaN           NaN           NaN           NaN   \n",
       "6       ...       6.428600e+10  7.044500e+10  6.986600e+10  8.652800e+10   \n",
       "7       ...       1.354100e+10  1.665400e+10  2.070300e+10  2.805000e+10   \n",
       "8       ...       1.476000e+11  1.456000e+11  1.529000e+11  1.821000e+11   \n",
       "9       ...                NaN           NaN           NaN           NaN   \n",
       "10      ...                NaN           NaN           NaN           NaN   \n",
       "11      ...       2.531100e+10  2.578500e+10  2.532000e+10  2.571500e+10   \n",
       "12      ...       2.430000e+09  2.452800e+09  2.480600e+09  2.432000e+09   \n",
       "13      ...       1.185200e+09  2.432300e+09  2.550300e+09  2.642000e+09   \n",
       "14      ...                NaN           NaN  8.506000e+10  9.464200e+10   \n",
       "15      ...       3.960000e+09  3.956000e+09  4.023000e+09  3.964000e+09   \n",
       "16      ...                NaN           NaN  3.993500e+10  4.248900e+10   \n",
       "17      ...       6.126600e+10  6.551900e+10  7.542000e+10  8.207800e+10   \n",
       "18      ...       1.131540e+11  1.335885e+11  1.492705e+11  1.599545e+11   \n",
       "19      ...       1.320000e+09  1.166000e+09  1.229100e+09  1.325600e+09   \n",
       "20      ...       3.169000e+08  3.886000e+08  4.445000e+08  5.067000e+08   \n",
       "21      ...                NaN           NaN           NaN           NaN   \n",
       "22      ...       3.247580e+08  2.981000e+08  3.004000e+08  2.911000e+08   \n",
       "23      ...       2.286600e+08  3.762200e+08  6.811830e+08  8.623486e+08   \n",
       "24      ...       3.067450e+07  3.083250e+07  3.043825e+07  3.555775e+07   \n",
       "25      ...                NaN           NaN           NaN           NaN   \n",
       "26      ...       2.297350e+09  2.799539e+09  3.454102e+09  3.900072e+09   \n",
       "27      ...       5.981900e+10  6.178800e+10  6.637900e+10  7.088100e+10   \n",
       "28      ...                NaN           NaN           NaN           NaN   \n",
       "29      ...       5.327500e+08  5.225000e+08  5.139000e+08  5.156000e+08   \n",
       "..      ...                ...           ...           ...           ...   \n",
       "234     ...                NaN           NaN           NaN           NaN   \n",
       "235     ...       2.638900e+07  2.053000e+07  3.338800e+07  3.168300e+07   \n",
       "236     ...                NaN           NaN           NaN           NaN   \n",
       "237     ...                NaN           NaN           NaN           NaN   \n",
       "238     ...                NaN           NaN           NaN           NaN   \n",
       "239     ...                NaN           NaN           NaN           NaN   \n",
       "240     ...       9.121000e+08  9.362750e+08  1.085075e+09  1.360529e+09   \n",
       "241     ...       8.176000e+08  1.006900e+09  1.064000e+09  1.233700e+09   \n",
       "242     ...       2.696018e+10  2.898481e+10  3.225300e+10  3.552925e+10   \n",
       "243     ...                NaN           NaN           NaN           NaN   \n",
       "244     ...       3.984360e+11  4.833860e+11  5.694675e+11  7.096030e+11   \n",
       "245     ...       1.325450e+12  1.620950e+12  1.075550e+12  1.119350e+12   \n",
       "246     ...       2.959600e+10  2.935800e+10  3.305800e+10  3.506100e+10   \n",
       "247     ...                NaN           NaN           NaN           NaN   \n",
       "248     ...       1.515800e+10  1.593100e+10  1.878000e+10  2.140500e+10   \n",
       "249     ...       6.981800e+11  7.113380e+11  6.847800e+11  6.397040e+11   \n",
       "250     ...                NaN           NaN           NaN           NaN   \n",
       "251     ...                NaN           NaN           NaN           NaN   \n",
       "252     ...       1.030550e+10  1.534511e+10  2.193911e+10  3.749553e+10   \n",
       "253     ...                NaN           NaN           NaN           NaN   \n",
       "254     ...                NaN           NaN           NaN           NaN   \n",
       "255     ...       4.973900e+13  5.510000e+13  7.000000e+13  7.802400e+13   \n",
       "256     ...                NaN           NaN           NaN           NaN   \n",
       "257     ...                NaN           NaN           NaN           NaN   \n",
       "258     ...                NaN           NaN           NaN           NaN   \n",
       "259     ...       2.912822e+07  3.666471e+07  3.377049e+07  3.660178e+07   \n",
       "260     ...       3.180000e+11  3.447000e+11  3.470000e+11  3.543000e+11   \n",
       "261     ...       3.066250e+10  3.335875e+10  3.685940e+10  3.976155e+10   \n",
       "262     ...       1.344100e+09  1.502500e+09  1.782500e+09  2.057700e+09   \n",
       "263     ...       9.829300e+07  1.984380e+08  3.182720e+08  3.567000e+08   \n",
=======
=======
>>>>>>> upstream/master
       "     ...          2010          2011          2012          2013  \\\n",
       "0    ...           NaN           NaN           NaN           NaN   \n",
       "1    ...  1.384967e+10  1.523050e+10  1.214900e+10  1.202767e+10   \n",
       "2    ...  3.217430e+11  3.418750e+11  3.956800e+11  5.878690e+11   \n",
       "3    ...  1.932100e+10  1.987700e+10  1.982000e+10  1.902200e+10   \n",
       "4    ...           NaN           NaN           NaN           NaN   \n",
       "5    ...           NaN           NaN           NaN           NaN   \n",
       "6    ...  6.428600e+10  7.044500e+10  6.986600e+10  8.652800e+10   \n",
       "7    ...  1.354100e+10  1.665400e+10  2.070300e+10  2.805000e+10   \n",
       "8    ...  1.476000e+11  1.456000e+11  1.529000e+11  1.821000e+11   \n",
       "9    ...           NaN           NaN           NaN           NaN   \n",
       "10   ...           NaN           NaN           NaN           NaN   \n",
       "11   ...  2.531100e+10  2.578500e+10  2.532000e+10  2.571500e+10   \n",
       "12   ...  2.430000e+09  2.452800e+09  2.480600e+09  2.432000e+09   \n",
       "13   ...  1.185200e+09  2.432300e+09  2.550300e+09  2.642000e+09   \n",
       "14   ...           NaN           NaN  8.506000e+10  9.464200e+10   \n",
       "15   ...  3.960000e+09  3.956000e+09  4.023000e+09  3.964000e+09   \n",
       "16   ...           NaN           NaN  3.993500e+10  4.248900e+10   \n",
       "17   ...  6.126600e+10  6.551900e+10  7.542000e+10  8.207800e+10   \n",
       "18   ...  1.131540e+11  1.335885e+11  1.492705e+11  1.599545e+11   \n",
       "19   ...  1.320000e+09  1.166000e+09  1.229100e+09  1.325600e+09   \n",
       "20   ...  3.169000e+08  3.886000e+08  4.445000e+08  5.067000e+08   \n",
       "21   ...           NaN           NaN           NaN           NaN   \n",
       "22   ...  3.247580e+08  2.981000e+08  3.004000e+08  2.911000e+08   \n",
       "23   ...  2.286600e+08  3.762200e+08  6.811830e+08  8.623486e+08   \n",
       "24   ...  3.067450e+07  3.083250e+07  3.043825e+07  3.555775e+07   \n",
       "25   ...           NaN           NaN           NaN           NaN   \n",
       "26   ...  2.297350e+09  2.799539e+09  3.454102e+09  3.900072e+09   \n",
       "27   ...  5.981900e+10  6.178800e+10  6.637900e+10  7.088100e+10   \n",
       "28   ...           NaN           NaN           NaN           NaN   \n",
       "29   ...  5.327500e+08  5.225000e+08  5.139000e+08  5.156000e+08   \n",
       "..   ...           ...           ...           ...           ...   \n",
       "234  ...           NaN           NaN           NaN           NaN   \n",
       "235  ...  2.638900e+07  2.053000e+07  3.338800e+07  3.168300e+07   \n",
       "236  ...           NaN           NaN           NaN           NaN   \n",
       "237  ...           NaN           NaN           NaN           NaN   \n",
       "238  ...           NaN           NaN           NaN           NaN   \n",
       "239  ...           NaN           NaN           NaN           NaN   \n",
       "240  ...  9.121000e+08  9.362750e+08  1.085075e+09  1.360529e+09   \n",
       "241  ...  8.176000e+08  1.006900e+09  1.064000e+09  1.233700e+09   \n",
       "242  ...  2.696018e+10  2.898481e+10  3.225300e+10  3.552925e+10   \n",
       "243  ...           NaN           NaN           NaN           NaN   \n",
       "244  ...  3.984360e+11  4.833860e+11  5.694675e+11  7.096030e+11   \n",
       "245  ...  1.325450e+12  1.620950e+12  1.075550e+12  1.119350e+12   \n",
       "246  ...  2.959600e+10  2.935800e+10  3.305800e+10  3.506100e+10   \n",
       "247  ...           NaN           NaN           NaN           NaN   \n",
       "248  ...  1.515800e+10  1.593100e+10  1.878000e+10  2.140500e+10   \n",
       "249  ...  6.981800e+11  7.113380e+11  6.847800e+11  6.397040e+11   \n",
       "250  ...           NaN           NaN           NaN           NaN   \n",
       "251  ...           NaN           NaN           NaN           NaN   \n",
       "252  ...  1.030550e+10  1.534511e+10  2.193911e+10  3.749553e+10   \n",
       "253  ...           NaN           NaN           NaN           NaN   \n",
       "254  ...           NaN           NaN           NaN           NaN   \n",
       "255  ...  4.973900e+13  5.510000e+13  7.000000e+13  7.802400e+13   \n",
       "256  ...           NaN           NaN           NaN           NaN   \n",
       "257  ...           NaN           NaN           NaN           NaN   \n",
       "258  ...           NaN           NaN           NaN           NaN   \n",
       "259  ...  2.912822e+07  3.666471e+07  3.377049e+07  3.660178e+07   \n",
       "260  ...  3.180000e+11  3.447000e+11  3.470000e+11  3.543000e+11   \n",
       "261  ...  3.066250e+10  3.335875e+10  3.685940e+10  3.976155e+10   \n",
       "262  ...  1.344100e+09  1.502500e+09  1.782500e+09  2.057700e+09   \n",
       "263  ...  9.829300e+07  1.984380e+08  3.182720e+08  3.567000e+08   \n",
<<<<<<< HEAD
>>>>>>> upstream/master
=======
>>>>>>> upstream/master
       "\n",
       "             2014          2015          2016          2017  2018  Unnamed: 63  \n",
       "0             NaN           NaN           NaN           NaN   NaN          NaN  \n",
       "1    1.535600e+10  1.219917e+10  1.261483e+10  1.302083e+10   NaN          NaN  \n",
       "2    6.730000e+11  4.332150e+11  4.622090e+11  5.081750e+11   NaN          NaN  \n",
       "3    1.878800e+10  1.667100e+10  1.625000e+10  1.935200e+10   NaN          NaN  \n",
       "4             NaN           NaN           NaN           NaN   NaN          NaN  \n",
       "5             NaN           NaN           NaN           NaN   NaN          NaN  \n",
       "6    8.356800e+10           NaN           NaN           NaN   NaN          NaN  \n",
       "7    4.020900e+10  5.062100e+10  6.658600e+10  9.403190e+10   NaN          NaN  \n",
       "8    1.904110e+11  2.138110e+11  2.072700e+11  2.142180e+11   NaN          NaN  \n",
       "9             NaN           NaN           NaN           NaN   NaN          NaN  \n",
       "10            NaN           NaN           NaN           NaN   NaN          NaN  \n",
       "11   2.860350e+10  3.200550e+10  3.549500e+10  3.582350e+10   NaN          NaN  \n",
       "12   2.491200e+09  2.403400e+09  2.609600e+09  2.647100e+09   NaN          NaN  \n",
       "13   2.688100e+09  2.971800e+09  2.228800e+09  2.642100e+09   NaN          NaN  \n",
       "14   9.616900e+10  1.040040e+11  1.098500e+11  1.098500e+11   NaN          NaN  \n",
       "15   3.913000e+09  3.789000e+09  3.901000e+09  3.965000e+09   NaN          NaN  \n",
       "16   4.597600e+10  5.376049e+10  4.718700e+10  6.789800e+10   NaN          NaN  \n",
       "17   8.759400e+10  8.749600e+10  8.862500e+10  1.116990e+11   NaN          NaN  \n",
       "18   1.829225e+11  2.194425e+11  2.544750e+11  2.884030e+11   NaN          NaN  \n",
       "19   1.232000e+09  1.166000e+09  1.336000e+09  1.508000e+09   NaN          NaN  \n",
       "20   5.547000e+08  5.422000e+08  5.660810e+08  5.252000e+08   NaN          NaN  \n",
       "21            NaN           NaN           NaN           NaN   NaN          NaN  \n",
       "22   2.806530e+08  2.860660e+08  2.908710e+08  2.856890e+08   NaN          NaN  \n",
       "23   1.033480e+09  1.152500e+09  1.200300e+09  1.222851e+09   NaN          NaN  \n",
       "24   3.983375e+07  3.943525e+07  4.372150e+07  4.558850e+07   NaN          NaN  \n",
       "25            NaN           NaN           NaN           NaN   NaN          NaN  \n",
       "26   4.324866e+09  3.976500e+09  3.818043e+09  4.555274e+09   NaN          NaN  \n",
       "27   7.687420e+10  8.187350e+10  8.450900e+10  9.312140e+10   NaN          NaN  \n",
       "28            NaN           NaN           NaN           NaN   NaN          NaN  \n",
       "29   6.687250e+08  5.829925e+08  5.573725e+08  4.798425e+08   NaN          NaN  \n",
       "..            ...           ...           ...           ...   ...          ...  \n",
       "234           NaN           NaN           NaN           NaN   NaN          NaN  \n",
       "235  2.962400e+07  3.695900e+07  2.621700e+07  2.544200e+07   NaN          NaN  \n",
       "236           NaN           NaN           NaN           NaN   NaN          NaN  \n",
       "237           NaN           NaN           NaN           NaN   NaN          NaN  \n",
       "238           NaN           NaN           NaN           NaN   NaN          NaN  \n",
       "239           NaN           NaN           NaN           NaN   NaN          NaN  \n",
       "240  1.210587e+09  1.288925e+09  1.433550e+09  1.367550e+09   NaN          NaN  \n",
       "241  1.542100e+09  1.921400e+09  2.120120e+09  2.016200e+09   NaN          NaN  \n",
       "242  3.889510e+10  4.319612e+10  5.393238e+10  6.556623e+10   NaN          NaN  \n",
       "243           NaN           NaN           NaN           NaN   NaN          NaN  \n",
       "244  8.390530e+11  1.029700e+12  1.185150e+12  1.321328e+12   NaN          NaN  \n",
       "245  1.209350e+12  1.569159e+12  1.789078e+12  1.604981e+12   NaN          NaN  \n",
       "246  4.794300e+10  7.901000e+10  8.751000e+10  9.669114e+10   NaN          NaN  \n",
       "247           NaN           NaN           NaN           NaN   NaN          NaN  \n",
       "248  2.404800e+10  2.650500e+10  2.977300e+10  3.558400e+10   NaN          NaN  \n",
       "249  6.099140e+11  5.961046e+11  6.001064e+11  6.097580e+11   NaN          NaN  \n",
       "250           NaN           NaN           NaN           NaN   NaN          NaN  \n",
       "251           NaN           NaN           NaN           NaN   NaN          NaN  \n",
       "252  3.521748e+10  5.672101e+10  1.078443e+11  9.698638e+11   NaN          NaN  \n",
       "253           NaN           NaN           NaN           NaN   NaN          NaN  \n",
       "254           NaN           NaN           NaN           NaN   NaN          NaN  \n",
       "255  9.000000e+13  9.900000e+13  1.100000e+14  1.135340e+14   NaN          NaN  \n",
       "256           NaN           NaN           NaN           NaN   NaN          NaN  \n",
       "257           NaN           NaN           NaN           NaN   NaN          NaN  \n",
       "258           NaN           NaN           NaN           NaN   NaN          NaN  \n",
       "259  4.038172e+07  4.507072e+07  4.696200e+07  5.103600e+07   NaN          NaN  \n",
       "260  3.685000e+11           NaN           NaN           NaN   NaN          NaN  \n",
       "261  4.225475e+10  4.451825e+10  4.669575e+10  4.827335e+10   NaN          NaN  \n",
       "262  2.729418e+09  3.215100e+09  3.088700e+09  3.204640e+09   NaN          NaN  \n",
       "263  3.681000e+08  3.766770e+08  3.580650e+08  3.405220e+08   NaN          NaN  \n",
       "\n",
       "[264 rows x 64 columns]"
      ]
     },
<<<<<<< HEAD
<<<<<<< HEAD
     "execution_count": 22,
=======
     "execution_count": 124,
>>>>>>> upstream/master
=======
     "execution_count": 49,
>>>>>>> upstream/master
     "metadata": {},
     "output_type": "execute_result"
    }
   ],
   "source": [
    "import pandas as pd\n",
    "\n",
    "\n",
    "expenditures = pd.read_csv(expenditure_csv, skiprows=4)\n",
    "expenditures"
   ]
  },
  {
   "cell_type": "markdown",
   "metadata": {
    "slideshow": {
     "slide_type": "subslide"
    }
   },
   "source": [
    "## Viewing Data"
   ]
  },
  {
   "cell_type": "code",
<<<<<<< HEAD
<<<<<<< HEAD
   "execution_count": 23,
=======
   "execution_count": 125,
>>>>>>> upstream/master
   "metadata": {
    "slideshow": {
     "slide_type": "subslide"
    }
   },
=======
   "execution_count": 50,
   "metadata": {},
>>>>>>> upstream/master
   "outputs": [
    {
     "data": {
      "text/html": [
       "<div>\n",
       "<style scoped>\n",
       "    .dataframe tbody tr th:only-of-type {\n",
       "        vertical-align: middle;\n",
       "    }\n",
       "\n",
       "    .dataframe tbody tr th {\n",
       "        vertical-align: top;\n",
       "    }\n",
       "\n",
       "    .dataframe thead th {\n",
       "        text-align: right;\n",
       "    }\n",
       "</style>\n",
       "<table border=\"1\" class=\"dataframe\">\n",
       "  <thead>\n",
       "    <tr style=\"text-align: right;\">\n",
       "      <th></th>\n",
       "      <th>Country Name</th>\n",
       "      <th>Country Code</th>\n",
       "      <th>Indicator Name</th>\n",
       "      <th>Indicator Code</th>\n",
       "      <th>1960</th>\n",
       "      <th>1961</th>\n",
       "      <th>1962</th>\n",
       "      <th>1963</th>\n",
       "      <th>1964</th>\n",
       "      <th>1965</th>\n",
       "      <th>...</th>\n",
       "      <th>2010</th>\n",
       "      <th>2011</th>\n",
       "      <th>2012</th>\n",
       "      <th>2013</th>\n",
       "      <th>2014</th>\n",
       "      <th>2015</th>\n",
       "      <th>2016</th>\n",
       "      <th>2017</th>\n",
       "      <th>2018</th>\n",
       "      <th>Unnamed: 63</th>\n",
       "    </tr>\n",
       "  </thead>\n",
       "  <tbody>\n",
       "    <tr>\n",
       "      <th>0</th>\n",
       "      <td>Aruba</td>\n",
       "      <td>ABW</td>\n",
       "      <td>Military expenditure (current LCU)</td>\n",
       "      <td>MS.MIL.XPND.CN</td>\n",
       "      <td>NaN</td>\n",
       "      <td>NaN</td>\n",
       "      <td>NaN</td>\n",
       "      <td>NaN</td>\n",
       "      <td>NaN</td>\n",
       "      <td>NaN</td>\n",
       "      <td>...</td>\n",
       "      <td>NaN</td>\n",
       "      <td>NaN</td>\n",
       "      <td>NaN</td>\n",
       "      <td>NaN</td>\n",
       "      <td>NaN</td>\n",
       "      <td>NaN</td>\n",
       "      <td>NaN</td>\n",
       "      <td>NaN</td>\n",
       "      <td>NaN</td>\n",
       "      <td>NaN</td>\n",
       "    </tr>\n",
       "    <tr>\n",
       "      <th>1</th>\n",
       "      <td>Afghanistan</td>\n",
       "      <td>AFG</td>\n",
       "      <td>Military expenditure (current LCU)</td>\n",
       "      <td>MS.MIL.XPND.CN</td>\n",
       "      <td>NaN</td>\n",
       "      <td>NaN</td>\n",
       "      <td>NaN</td>\n",
       "      <td>NaN</td>\n",
       "      <td>NaN</td>\n",
       "      <td>NaN</td>\n",
       "      <td>...</td>\n",
       "      <td>1.384967e+10</td>\n",
       "      <td>1.523050e+10</td>\n",
       "      <td>1.214900e+10</td>\n",
       "      <td>1.202767e+10</td>\n",
       "      <td>1.535600e+10</td>\n",
       "      <td>1.219917e+10</td>\n",
       "      <td>1.261483e+10</td>\n",
       "      <td>1.302083e+10</td>\n",
       "      <td>NaN</td>\n",
       "      <td>NaN</td>\n",
       "    </tr>\n",
       "    <tr>\n",
       "      <th>2</th>\n",
       "      <td>Angola</td>\n",
       "      <td>AGO</td>\n",
       "      <td>Military expenditure (current LCU)</td>\n",
       "      <td>MS.MIL.XPND.CN</td>\n",
       "      <td>NaN</td>\n",
       "      <td>NaN</td>\n",
       "      <td>NaN</td>\n",
       "      <td>NaN</td>\n",
       "      <td>NaN</td>\n",
       "      <td>NaN</td>\n",
       "      <td>...</td>\n",
       "      <td>3.217430e+11</td>\n",
       "      <td>3.418750e+11</td>\n",
       "      <td>3.956800e+11</td>\n",
       "      <td>5.878690e+11</td>\n",
       "      <td>6.730000e+11</td>\n",
       "      <td>4.332150e+11</td>\n",
       "      <td>4.622090e+11</td>\n",
       "      <td>5.081750e+11</td>\n",
       "      <td>NaN</td>\n",
       "      <td>NaN</td>\n",
       "    </tr>\n",
       "    <tr>\n",
       "      <th>3</th>\n",
       "      <td>Albania</td>\n",
       "      <td>ALB</td>\n",
       "      <td>Military expenditure (current LCU)</td>\n",
       "      <td>MS.MIL.XPND.CN</td>\n",
       "      <td>NaN</td>\n",
       "      <td>NaN</td>\n",
       "      <td>NaN</td>\n",
       "      <td>NaN</td>\n",
       "      <td>NaN</td>\n",
       "      <td>NaN</td>\n",
       "      <td>...</td>\n",
       "      <td>1.932100e+10</td>\n",
       "      <td>1.987700e+10</td>\n",
       "      <td>1.982000e+10</td>\n",
       "      <td>1.902200e+10</td>\n",
       "      <td>1.878800e+10</td>\n",
       "      <td>1.667100e+10</td>\n",
       "      <td>1.625000e+10</td>\n",
       "      <td>1.935200e+10</td>\n",
       "      <td>NaN</td>\n",
       "      <td>NaN</td>\n",
       "    </tr>\n",
       "    <tr>\n",
       "      <th>4</th>\n",
       "      <td>Andorra</td>\n",
       "      <td>AND</td>\n",
       "      <td>Military expenditure (current LCU)</td>\n",
       "      <td>MS.MIL.XPND.CN</td>\n",
       "      <td>NaN</td>\n",
       "      <td>NaN</td>\n",
       "      <td>NaN</td>\n",
       "      <td>NaN</td>\n",
       "      <td>NaN</td>\n",
       "      <td>NaN</td>\n",
       "      <td>...</td>\n",
       "      <td>NaN</td>\n",
       "      <td>NaN</td>\n",
       "      <td>NaN</td>\n",
       "      <td>NaN</td>\n",
       "      <td>NaN</td>\n",
       "      <td>NaN</td>\n",
       "      <td>NaN</td>\n",
       "      <td>NaN</td>\n",
       "      <td>NaN</td>\n",
       "      <td>NaN</td>\n",
       "    </tr>\n",
       "  </tbody>\n",
       "</table>\n",
       "<p>5 rows × 64 columns</p>\n",
       "</div>"
      ],
      "text/plain": [
       "  Country Name Country Code                      Indicator Name  \\\n",
       "0        Aruba          ABW  Military expenditure (current LCU)   \n",
       "1  Afghanistan          AFG  Military expenditure (current LCU)   \n",
       "2       Angola          AGO  Military expenditure (current LCU)   \n",
       "3      Albania          ALB  Military expenditure (current LCU)   \n",
       "4      Andorra          AND  Military expenditure (current LCU)   \n",
       "\n",
<<<<<<< HEAD
<<<<<<< HEAD
       "   Indicator Code  1960  1961  1962  1963  1964  1965     ...       \\\n",
       "0  MS.MIL.XPND.CN   NaN   NaN   NaN   NaN   NaN   NaN     ...        \n",
       "1  MS.MIL.XPND.CN   NaN   NaN   NaN   NaN   NaN   NaN     ...        \n",
       "2  MS.MIL.XPND.CN   NaN   NaN   NaN   NaN   NaN   NaN     ...        \n",
       "3  MS.MIL.XPND.CN   NaN   NaN   NaN   NaN   NaN   NaN     ...        \n",
       "4  MS.MIL.XPND.CN   NaN   NaN   NaN   NaN   NaN   NaN     ...        \n",
       "\n",
       "           2010          2011          2012          2013          2014  \\\n",
       "0           NaN           NaN           NaN           NaN           NaN   \n",
       "1  1.384967e+10  1.523050e+10  1.214900e+10  1.202767e+10  1.535600e+10   \n",
       "2  3.217430e+11  3.418750e+11  3.956800e+11  5.878690e+11  6.730000e+11   \n",
       "3  1.932100e+10  1.987700e+10  1.982000e+10  1.902200e+10  1.878800e+10   \n",
       "4           NaN           NaN           NaN           NaN           NaN   \n",
       "\n",
       "           2015          2016          2017  2018  Unnamed: 63  \n",
       "0           NaN           NaN           NaN   NaN          NaN  \n",
       "1  1.219917e+10  1.261483e+10  1.302083e+10   NaN          NaN  \n",
       "2  4.332150e+11  4.622090e+11  5.081750e+11   NaN          NaN  \n",
       "3  1.667100e+10  1.625000e+10  1.935200e+10   NaN          NaN  \n",
       "4           NaN           NaN           NaN   NaN          NaN  \n",
=======
=======
>>>>>>> upstream/master
       "   Indicator Code  1960  1961  1962  1963  1964  1965  ...          2010  \\\n",
       "0  MS.MIL.XPND.CN   NaN   NaN   NaN   NaN   NaN   NaN  ...           NaN   \n",
       "1  MS.MIL.XPND.CN   NaN   NaN   NaN   NaN   NaN   NaN  ...  1.384967e+10   \n",
       "2  MS.MIL.XPND.CN   NaN   NaN   NaN   NaN   NaN   NaN  ...  3.217430e+11   \n",
       "3  MS.MIL.XPND.CN   NaN   NaN   NaN   NaN   NaN   NaN  ...  1.932100e+10   \n",
       "4  MS.MIL.XPND.CN   NaN   NaN   NaN   NaN   NaN   NaN  ...           NaN   \n",
       "\n",
       "           2011          2012          2013          2014          2015  \\\n",
       "0           NaN           NaN           NaN           NaN           NaN   \n",
       "1  1.523050e+10  1.214900e+10  1.202767e+10  1.535600e+10  1.219917e+10   \n",
       "2  3.418750e+11  3.956800e+11  5.878690e+11  6.730000e+11  4.332150e+11   \n",
       "3  1.987700e+10  1.982000e+10  1.902200e+10  1.878800e+10  1.667100e+10   \n",
       "4           NaN           NaN           NaN           NaN           NaN   \n",
       "\n",
       "           2016          2017  2018  Unnamed: 63  \n",
       "0           NaN           NaN   NaN          NaN  \n",
       "1  1.261483e+10  1.302083e+10   NaN          NaN  \n",
       "2  4.622090e+11  5.081750e+11   NaN          NaN  \n",
       "3  1.625000e+10  1.935200e+10   NaN          NaN  \n",
       "4           NaN           NaN   NaN          NaN  \n",
<<<<<<< HEAD
>>>>>>> upstream/master
=======
>>>>>>> upstream/master
       "\n",
       "[5 rows x 64 columns]"
      ]
     },
<<<<<<< HEAD
<<<<<<< HEAD
     "execution_count": 23,
=======
     "execution_count": 125,
>>>>>>> upstream/master
=======
     "execution_count": 50,
>>>>>>> upstream/master
     "metadata": {},
     "output_type": "execute_result"
    }
   ],
   "source": [
    "expenditures.head()"
   ]
  },
  {
   "cell_type": "code",
<<<<<<< HEAD
<<<<<<< HEAD
   "execution_count": 24,
=======
   "execution_count": 126,
>>>>>>> upstream/master
   "metadata": {
    "slideshow": {
     "slide_type": "fragment"
    }
   },
=======
   "execution_count": 51,
   "metadata": {},
>>>>>>> upstream/master
   "outputs": [
    {
     "data": {
      "text/html": [
       "<div>\n",
       "<style scoped>\n",
       "    .dataframe tbody tr th:only-of-type {\n",
       "        vertical-align: middle;\n",
       "    }\n",
       "\n",
       "    .dataframe tbody tr th {\n",
       "        vertical-align: top;\n",
       "    }\n",
       "\n",
       "    .dataframe thead th {\n",
       "        text-align: right;\n",
       "    }\n",
       "</style>\n",
       "<table border=\"1\" class=\"dataframe\">\n",
       "  <thead>\n",
       "    <tr style=\"text-align: right;\">\n",
       "      <th></th>\n",
       "      <th>Country Name</th>\n",
       "      <th>Country Code</th>\n",
       "      <th>Indicator Name</th>\n",
       "      <th>Indicator Code</th>\n",
       "      <th>1960</th>\n",
       "      <th>1961</th>\n",
       "      <th>1962</th>\n",
       "      <th>1963</th>\n",
       "      <th>1964</th>\n",
       "      <th>1965</th>\n",
       "      <th>...</th>\n",
       "      <th>2010</th>\n",
       "      <th>2011</th>\n",
       "      <th>2012</th>\n",
       "      <th>2013</th>\n",
       "      <th>2014</th>\n",
       "      <th>2015</th>\n",
       "      <th>2016</th>\n",
       "      <th>2017</th>\n",
       "      <th>2018</th>\n",
       "      <th>Unnamed: 63</th>\n",
       "    </tr>\n",
       "  </thead>\n",
       "  <tbody>\n",
       "    <tr>\n",
       "      <th>259</th>\n",
       "      <td>Kosovo</td>\n",
       "      <td>XKX</td>\n",
       "      <td>Military expenditure (current LCU)</td>\n",
       "      <td>MS.MIL.XPND.CN</td>\n",
       "      <td>NaN</td>\n",
       "      <td>NaN</td>\n",
       "      <td>NaN</td>\n",
       "      <td>NaN</td>\n",
       "      <td>NaN</td>\n",
       "      <td>NaN</td>\n",
       "      <td>...</td>\n",
       "      <td>2.912822e+07</td>\n",
       "      <td>3.666471e+07</td>\n",
       "      <td>3.377049e+07</td>\n",
       "      <td>3.660178e+07</td>\n",
       "      <td>4.038172e+07</td>\n",
       "      <td>4.507072e+07</td>\n",
       "      <td>4.696200e+07</td>\n",
       "      <td>5.103600e+07</td>\n",
       "      <td>NaN</td>\n",
       "      <td>NaN</td>\n",
       "    </tr>\n",
       "    <tr>\n",
       "      <th>260</th>\n",
       "      <td>Yemen, Rep.</td>\n",
       "      <td>YEM</td>\n",
       "      <td>Military expenditure (current LCU)</td>\n",
       "      <td>MS.MIL.XPND.CN</td>\n",
       "      <td>NaN</td>\n",
       "      <td>NaN</td>\n",
       "      <td>NaN</td>\n",
       "      <td>NaN</td>\n",
       "      <td>NaN</td>\n",
       "      <td>NaN</td>\n",
       "      <td>...</td>\n",
       "      <td>3.180000e+11</td>\n",
       "      <td>3.447000e+11</td>\n",
       "      <td>3.470000e+11</td>\n",
       "      <td>3.543000e+11</td>\n",
       "      <td>3.685000e+11</td>\n",
       "      <td>NaN</td>\n",
       "      <td>NaN</td>\n",
       "      <td>NaN</td>\n",
       "      <td>NaN</td>\n",
       "      <td>NaN</td>\n",
       "    </tr>\n",
       "    <tr>\n",
       "      <th>261</th>\n",
       "      <td>South Africa</td>\n",
       "      <td>ZAF</td>\n",
       "      <td>Military expenditure (current LCU)</td>\n",
       "      <td>MS.MIL.XPND.CN</td>\n",
       "      <td>50000000.0</td>\n",
       "      <td>81250000.0</td>\n",
       "      <td>133000000.0</td>\n",
       "      <td>135000000.0</td>\n",
       "      <td>194000000.0</td>\n",
       "      <td>206750000.0</td>\n",
       "      <td>...</td>\n",
       "      <td>3.066250e+10</td>\n",
       "      <td>3.335875e+10</td>\n",
       "      <td>3.685940e+10</td>\n",
       "      <td>3.976155e+10</td>\n",
       "      <td>4.225475e+10</td>\n",
       "      <td>4.451825e+10</td>\n",
       "      <td>4.669575e+10</td>\n",
       "      <td>4.827335e+10</td>\n",
       "      <td>NaN</td>\n",
       "      <td>NaN</td>\n",
       "    </tr>\n",
       "    <tr>\n",
       "      <th>262</th>\n",
       "      <td>Zambia</td>\n",
       "      <td>ZMB</td>\n",
       "      <td>Military expenditure (current LCU)</td>\n",
       "      <td>MS.MIL.XPND.CN</td>\n",
       "      <td>NaN</td>\n",
       "      <td>NaN</td>\n",
       "      <td>NaN</td>\n",
       "      <td>NaN</td>\n",
       "      <td>NaN</td>\n",
       "      <td>NaN</td>\n",
       "      <td>...</td>\n",
       "      <td>1.344100e+09</td>\n",
       "      <td>1.502500e+09</td>\n",
       "      <td>1.782500e+09</td>\n",
       "      <td>2.057700e+09</td>\n",
       "      <td>2.729418e+09</td>\n",
       "      <td>3.215100e+09</td>\n",
       "      <td>3.088700e+09</td>\n",
       "      <td>3.204640e+09</td>\n",
       "      <td>NaN</td>\n",
       "      <td>NaN</td>\n",
       "    </tr>\n",
       "    <tr>\n",
       "      <th>263</th>\n",
       "      <td>Zimbabwe</td>\n",
       "      <td>ZWE</td>\n",
       "      <td>Military expenditure (current LCU)</td>\n",
       "      <td>MS.MIL.XPND.CN</td>\n",
       "      <td>NaN</td>\n",
       "      <td>NaN</td>\n",
       "      <td>NaN</td>\n",
       "      <td>NaN</td>\n",
       "      <td>NaN</td>\n",
       "      <td>15600000.0</td>\n",
       "      <td>...</td>\n",
       "      <td>9.829300e+07</td>\n",
       "      <td>1.984380e+08</td>\n",
       "      <td>3.182720e+08</td>\n",
       "      <td>3.567000e+08</td>\n",
       "      <td>3.681000e+08</td>\n",
       "      <td>3.766770e+08</td>\n",
       "      <td>3.580650e+08</td>\n",
       "      <td>3.405220e+08</td>\n",
       "      <td>NaN</td>\n",
       "      <td>NaN</td>\n",
       "    </tr>\n",
       "  </tbody>\n",
       "</table>\n",
       "<p>5 rows × 64 columns</p>\n",
       "</div>"
      ],
      "text/plain": [
       "     Country Name Country Code                      Indicator Name  \\\n",
       "259        Kosovo          XKX  Military expenditure (current LCU)   \n",
       "260   Yemen, Rep.          YEM  Military expenditure (current LCU)   \n",
       "261  South Africa          ZAF  Military expenditure (current LCU)   \n",
       "262        Zambia          ZMB  Military expenditure (current LCU)   \n",
       "263      Zimbabwe          ZWE  Military expenditure (current LCU)   \n",
       "\n",
       "     Indicator Code        1960        1961         1962         1963  \\\n",
       "259  MS.MIL.XPND.CN         NaN         NaN          NaN          NaN   \n",
       "260  MS.MIL.XPND.CN         NaN         NaN          NaN          NaN   \n",
       "261  MS.MIL.XPND.CN  50000000.0  81250000.0  133000000.0  135000000.0   \n",
       "262  MS.MIL.XPND.CN         NaN         NaN          NaN          NaN   \n",
       "263  MS.MIL.XPND.CN         NaN         NaN          NaN          NaN   \n",
       "\n",
<<<<<<< HEAD
<<<<<<< HEAD
       "            1964         1965     ...               2010          2011  \\\n",
       "259          NaN          NaN     ...       2.912822e+07  3.666471e+07   \n",
       "260          NaN          NaN     ...       3.180000e+11  3.447000e+11   \n",
       "261  194000000.0  206750000.0     ...       3.066250e+10  3.335875e+10   \n",
       "262          NaN          NaN     ...       1.344100e+09  1.502500e+09   \n",
       "263          NaN   15600000.0     ...       9.829300e+07  1.984380e+08   \n",
       "\n",
       "             2012          2013          2014          2015          2016  \\\n",
       "259  3.377049e+07  3.660178e+07  4.038172e+07  4.507072e+07  4.696200e+07   \n",
       "260  3.470000e+11  3.543000e+11  3.685000e+11           NaN           NaN   \n",
       "261  3.685940e+10  3.976155e+10  4.225475e+10  4.451825e+10  4.669575e+10   \n",
       "262  1.782500e+09  2.057700e+09  2.729418e+09  3.215100e+09  3.088700e+09   \n",
       "263  3.182720e+08  3.567000e+08  3.681000e+08  3.766770e+08  3.580650e+08   \n",
       "\n",
       "             2017  2018  Unnamed: 63  \n",
       "259  5.103600e+07   NaN          NaN  \n",
       "260           NaN   NaN          NaN  \n",
       "261  4.827335e+10   NaN          NaN  \n",
       "262  3.204640e+09   NaN          NaN  \n",
       "263  3.405220e+08   NaN          NaN  \n",
=======
=======
>>>>>>> upstream/master
       "            1964         1965  ...          2010          2011          2012  \\\n",
       "259          NaN          NaN  ...  2.912822e+07  3.666471e+07  3.377049e+07   \n",
       "260          NaN          NaN  ...  3.180000e+11  3.447000e+11  3.470000e+11   \n",
       "261  194000000.0  206750000.0  ...  3.066250e+10  3.335875e+10  3.685940e+10   \n",
       "262          NaN          NaN  ...  1.344100e+09  1.502500e+09  1.782500e+09   \n",
       "263          NaN   15600000.0  ...  9.829300e+07  1.984380e+08  3.182720e+08   \n",
       "\n",
       "             2013          2014          2015          2016          2017  \\\n",
       "259  3.660178e+07  4.038172e+07  4.507072e+07  4.696200e+07  5.103600e+07   \n",
       "260  3.543000e+11  3.685000e+11           NaN           NaN           NaN   \n",
       "261  3.976155e+10  4.225475e+10  4.451825e+10  4.669575e+10  4.827335e+10   \n",
       "262  2.057700e+09  2.729418e+09  3.215100e+09  3.088700e+09  3.204640e+09   \n",
       "263  3.567000e+08  3.681000e+08  3.766770e+08  3.580650e+08  3.405220e+08   \n",
       "\n",
       "     2018  Unnamed: 63  \n",
       "259   NaN          NaN  \n",
       "260   NaN          NaN  \n",
       "261   NaN          NaN  \n",
       "262   NaN          NaN  \n",
       "263   NaN          NaN  \n",
<<<<<<< HEAD
>>>>>>> upstream/master
=======
>>>>>>> upstream/master
       "\n",
       "[5 rows x 64 columns]"
      ]
     },
<<<<<<< HEAD
<<<<<<< HEAD
     "execution_count": 24,
=======
     "execution_count": 126,
>>>>>>> upstream/master
=======
     "execution_count": 51,
>>>>>>> upstream/master
     "metadata": {},
     "output_type": "execute_result"
    }
   ],
   "source": [
    "expenditures.tail()"
   ]
  },
  {
   "cell_type": "code",
<<<<<<< HEAD
<<<<<<< HEAD
   "execution_count": 25,
=======
   "execution_count": 127,
>>>>>>> upstream/master
   "metadata": {
    "slideshow": {
     "slide_type": "subslide"
    }
   },
=======
   "execution_count": 52,
   "metadata": {},
>>>>>>> upstream/master
   "outputs": [
    {
     "data": {
      "text/plain": [
       "RangeIndex(start=0, stop=264, step=1)"
      ]
     },
<<<<<<< HEAD
<<<<<<< HEAD
     "execution_count": 25,
=======
     "execution_count": 127,
>>>>>>> upstream/master
=======
     "execution_count": 52,
>>>>>>> upstream/master
     "metadata": {},
     "output_type": "execute_result"
    }
   ],
   "source": [
    "expenditures.index"
   ]
  },
  {
   "cell_type": "code",
<<<<<<< HEAD
<<<<<<< HEAD
   "execution_count": 26,
=======
   "execution_count": 128,
>>>>>>> upstream/master
   "metadata": {
    "slideshow": {
     "slide_type": "fragment"
    }
   },
=======
   "execution_count": 53,
   "metadata": {},
>>>>>>> upstream/master
   "outputs": [
    {
     "data": {
      "text/plain": [
       "Index(['Country Name', 'Country Code', 'Indicator Name', 'Indicator Code',\n",
       "       '1960', '1961', '1962', '1963', '1964', '1965', '1966', '1967', '1968',\n",
       "       '1969', '1970', '1971', '1972', '1973', '1974', '1975', '1976', '1977',\n",
       "       '1978', '1979', '1980', '1981', '1982', '1983', '1984', '1985', '1986',\n",
       "       '1987', '1988', '1989', '1990', '1991', '1992', '1993', '1994', '1995',\n",
       "       '1996', '1997', '1998', '1999', '2000', '2001', '2002', '2003', '2004',\n",
       "       '2005', '2006', '2007', '2008', '2009', '2010', '2011', '2012', '2013',\n",
       "       '2014', '2015', '2016', '2017', '2018', 'Unnamed: 63'],\n",
       "      dtype='object')"
      ]
     },
<<<<<<< HEAD
<<<<<<< HEAD
     "execution_count": 26,
=======
     "execution_count": 128,
>>>>>>> upstream/master
=======
     "execution_count": 53,
>>>>>>> upstream/master
     "metadata": {},
     "output_type": "execute_result"
    }
   ],
   "source": [
    "expenditures.columns"
   ]
  },
  {
   "cell_type": "code",
<<<<<<< HEAD
<<<<<<< HEAD
   "execution_count": 27,
=======
   "execution_count": 129,
>>>>>>> upstream/master
   "metadata": {
    "slideshow": {
     "slide_type": "fragment"
    }
   },
=======
   "execution_count": 54,
   "metadata": {},
>>>>>>> upstream/master
   "outputs": [
    {
     "data": {
      "text/plain": [
       "array([['Aruba', 'ABW', 'Military expenditure (current LCU)', ..., nan,\n",
       "        nan, nan],\n",
       "       ['Afghanistan', 'AFG', 'Military expenditure (current LCU)', ...,\n",
       "        13020833333.3333, nan, nan],\n",
       "       ['Angola', 'AGO', 'Military expenditure (current LCU)', ...,\n",
       "        508175000000.0, nan, nan],\n",
       "       ...,\n",
       "       ['South Africa', 'ZAF', 'Military expenditure (current LCU)', ...,\n",
       "        48273350000.0, nan, nan],\n",
       "       ['Zambia', 'ZMB', 'Military expenditure (current LCU)', ...,\n",
       "        3204640000.0, nan, nan],\n",
       "       ['Zimbabwe', 'ZWE', 'Military expenditure (current LCU)', ...,\n",
       "        340522000.0, nan, nan]], dtype=object)"
      ]
     },
<<<<<<< HEAD
<<<<<<< HEAD
     "execution_count": 27,
=======
     "execution_count": 129,
>>>>>>> upstream/master
=======
     "execution_count": 54,
>>>>>>> upstream/master
     "metadata": {},
     "output_type": "execute_result"
    }
   ],
   "source": [
    "expenditures.values"
   ]
  },
  {
   "cell_type": "markdown",
   "metadata": {
    "slideshow": {
     "slide_type": "subslide"
    }
   },
   "source": [
    "## Selection of Data in a `DataFrame`\n",
    "\n",
    "### Selection by Column Name\n"
   ]
  },
  {
   "cell_type": "code",
<<<<<<< HEAD
<<<<<<< HEAD
   "execution_count": 28,
=======
   "execution_count": 130,
>>>>>>> upstream/master
   "metadata": {
    "slideshow": {
     "slide_type": "fragment"
    }
   },
=======
   "execution_count": 74,
   "metadata": {},
>>>>>>> upstream/master
   "outputs": [
    {
     "data": {
      "text/plain": [
       "0                                                  Aruba\n",
       "1                                            Afghanistan\n",
       "2                                                 Angola\n",
       "3                                                Albania\n",
       "4                                                Andorra\n",
       "5                                             Arab World\n",
       "6                                   United Arab Emirates\n",
       "7                                              Argentina\n",
       "8                                                Armenia\n",
       "9                                         American Samoa\n",
       "10                                   Antigua and Barbuda\n",
       "11                                             Australia\n",
       "12                                               Austria\n",
       "13                                            Azerbaijan\n",
       "14                                               Burundi\n",
       "15                                               Belgium\n",
       "16                                                 Benin\n",
       "17                                          Burkina Faso\n",
       "18                                            Bangladesh\n",
       "19                                              Bulgaria\n",
       "20                                               Bahrain\n",
       "21                                          Bahamas, The\n",
       "22                                Bosnia and Herzegovina\n",
       "23                                               Belarus\n",
       "24                                                Belize\n",
       "25                                               Bermuda\n",
       "26                                               Bolivia\n",
       "27                                                Brazil\n",
       "28                                              Barbados\n",
       "29                                     Brunei Darussalam\n",
       "                             ...                        \n",
       "234    Latin America & the Caribbean (IDA & IBRD coun...\n",
       "235                                          Timor-Leste\n",
       "236    Middle East & North Africa (IDA & IBRD countries)\n",
       "237                                                Tonga\n",
       "238                              South Asia (IDA & IBRD)\n",
       "239            Sub-Saharan Africa (IDA & IBRD countries)\n",
       "240                                  Trinidad and Tobago\n",
       "241                                              Tunisia\n",
       "242                                               Turkey\n",
       "243                                               Tuvalu\n",
       "244                                             Tanzania\n",
       "245                                               Uganda\n",
       "246                                              Ukraine\n",
       "247                                  Upper middle income\n",
       "248                                              Uruguay\n",
       "249                                        United States\n",
       "250                                           Uzbekistan\n",
       "251                       St. Vincent and the Grenadines\n",
       "252                                        Venezuela, RB\n",
       "253                               British Virgin Islands\n",
       "254                                Virgin Islands (U.S.)\n",
       "255                                              Vietnam\n",
       "256                                              Vanuatu\n",
       "257                                                World\n",
       "258                                                Samoa\n",
       "259                                               Kosovo\n",
       "260                                          Yemen, Rep.\n",
       "261                                         South Africa\n",
       "262                                               Zambia\n",
       "263                                             Zimbabwe\n",
       "Name: Country Name, Length: 264, dtype: object"
      ]
     },
<<<<<<< HEAD
<<<<<<< HEAD
     "execution_count": 28,
=======
     "execution_count": 130,
>>>>>>> upstream/master
=======
     "execution_count": 74,
>>>>>>> upstream/master
     "metadata": {},
     "output_type": "execute_result"
    }
   ],
   "source": [
    "expenditures['Country Name']"
   ]
  },
  {
   "cell_type": "markdown",
   "metadata": {
    "slideshow": {
     "slide_type": "subslide"
    }
   },
   "source": [
    "### Selection by Indexes\n",
    "\n",
    "In the following we index the third row directly."
   ]
  },
  {
   "cell_type": "code",
<<<<<<< HEAD
<<<<<<< HEAD
   "execution_count": 29,
=======
   "execution_count": 131,
>>>>>>> upstream/master
   "metadata": {
    "slideshow": {
     "slide_type": "fragment"
    }
   },
=======
   "execution_count": 56,
   "metadata": {},
>>>>>>> upstream/master
   "outputs": [
    {
     "name": "stdout",
     "output_type": "stream",
     "text": [
      "Country Name                                 Albania\n",
      "Country Code                                     ALB\n",
      "Indicator Name    Military expenditure (current LCU)\n",
      "Indicator Code                        MS.MIL.XPND.CN\n",
      "1960                                             NaN\n",
      "1961                                             NaN\n",
      "1962                                             NaN\n",
      "1963                                             NaN\n",
      "1964                                             NaN\n",
      "1965                                             NaN\n",
      "1966                                             NaN\n",
      "1967                                             NaN\n",
      "1968                                             NaN\n",
      "1969                                             NaN\n",
      "1970                                             NaN\n",
      "1971                                             NaN\n",
      "1972                                             NaN\n",
      "1973                                             NaN\n",
      "1974                                             NaN\n",
      "1975                                        6.53e+08\n",
      "1976                                        7.83e+08\n",
      "1977                                        8.05e+08\n",
      "1978                                        8.25e+08\n",
      "1979                                        8.85e+08\n",
      "1980                                         9.4e+08\n",
      "1981                                         9.4e+08\n",
      "1982                                        9.35e+08\n",
      "1983                                         9.1e+08\n",
      "1984                                        1.01e+09\n",
      "1985                                        9.53e+08\n",
      "                                 ...                \n",
      "1990                                         9.9e+08\n",
      "1991                                         9.5e+08\n",
      "1992                                       2.368e+09\n",
      "1993                                        4.01e+09\n",
      "1994                                       4.698e+09\n",
      "1995                                       4.719e+09\n",
      "1996                                       4.777e+09\n",
      "1997                                       4.442e+09\n",
      "1998                                       5.067e+09\n",
      "1999                                       5.891e+09\n",
      "2000                                       6.519e+09\n",
      "2001                                       7.638e+09\n",
      "2002                                        8.22e+09\n",
      "2003                                       9.279e+09\n",
      "2004                                     1.03728e+10\n",
      "2005                                     1.09998e+10\n",
      "2006                                      1.3831e+10\n",
      "2007                                      1.7619e+10\n",
      "2008                                       2.145e+10\n",
      "2009                                      1.7356e+10\n",
      "2010                                      1.9321e+10\n",
      "2011                                      1.9877e+10\n",
      "2012                                       1.982e+10\n",
      "2013                                      1.9022e+10\n",
      "2014                                      1.8788e+10\n",
      "2015                                      1.6671e+10\n",
      "2016                                       1.625e+10\n",
      "2017                                      1.9352e+10\n",
      "2018                                             NaN\n",
      "Unnamed: 63                                      NaN\n",
      "Name: 3, Length: 64, dtype: object\n"
     ]
    }
   ],
   "source": [
    "albania = expenditures.iloc[3]\n",
    "print(albania)"
   ]
  },
  {
   "cell_type": "code",
<<<<<<< HEAD
   "execution_count": 30,
   "metadata": {
    "slideshow": {
     "slide_type": "fragment"
    }
   },
=======
   "execution_count": 57,
   "metadata": {},
>>>>>>> upstream/master
   "outputs": [
    {
     "data": {
      "text/plain": [
       "Country Name                                 Albania\n",
       "Country Code                                     ALB\n",
       "Indicator Name    Military expenditure (current LCU)\n",
       "Indicator Code                        MS.MIL.XPND.CN\n",
       "1960                                             NaN\n",
       "1961                                             NaN\n",
       "1962                                             NaN\n",
       "1963                                             NaN\n",
       "1964                                             NaN\n",
       "1965                                             NaN\n",
       "1966                                             NaN\n",
       "1967                                             NaN\n",
       "1968                                             NaN\n",
       "1969                                             NaN\n",
       "1970                                             NaN\n",
       "1971                                             NaN\n",
       "1972                                             NaN\n",
       "1973                                             NaN\n",
       "1974                                             NaN\n",
       "1975                                        6.53e+08\n",
       "1976                                        7.83e+08\n",
       "1977                                        8.05e+08\n",
       "1978                                        8.25e+08\n",
       "1979                                        8.85e+08\n",
       "1980                                         9.4e+08\n",
       "1981                                         9.4e+08\n",
       "1982                                        9.35e+08\n",
       "1983                                         9.1e+08\n",
       "1984                                        1.01e+09\n",
       "1985                                        9.53e+08\n",
       "                                 ...                \n",
       "1990                                         9.9e+08\n",
       "1991                                         9.5e+08\n",
       "1992                                       2.368e+09\n",
       "1993                                        4.01e+09\n",
       "1994                                       4.698e+09\n",
       "1995                                       4.719e+09\n",
       "1996                                       4.777e+09\n",
       "1997                                       4.442e+09\n",
       "1998                                       5.067e+09\n",
       "1999                                       5.891e+09\n",
       "2000                                       6.519e+09\n",
       "2001                                       7.638e+09\n",
       "2002                                        8.22e+09\n",
       "2003                                       9.279e+09\n",
       "2004                                     1.03728e+10\n",
       "2005                                     1.09998e+10\n",
       "2006                                      1.3831e+10\n",
       "2007                                      1.7619e+10\n",
       "2008                                       2.145e+10\n",
       "2009                                      1.7356e+10\n",
       "2010                                      1.9321e+10\n",
       "2011                                      1.9877e+10\n",
       "2012                                       1.982e+10\n",
       "2013                                      1.9022e+10\n",
       "2014                                      1.8788e+10\n",
       "2015                                      1.6671e+10\n",
       "2016                                       1.625e+10\n",
       "2017                                      1.9352e+10\n",
       "2018                                             NaN\n",
       "Unnamed: 63                                      NaN\n",
       "Name: 3, Length: 64, dtype: object"
      ]
     },
<<<<<<< HEAD
     "execution_count": 30,
=======
     "execution_count": 57,
>>>>>>> upstream/master
     "metadata": {},
     "output_type": "execute_result"
    }
   ],
   "source": [
    "expenditures.loc[3]"
   ]
  },
  {
   "cell_type": "code",
<<<<<<< HEAD
<<<<<<< HEAD
   "execution_count": 31,
=======
   "execution_count": 132,
>>>>>>> upstream/master
   "metadata": {
    "slideshow": {
     "slide_type": "subslide"
    }
   },
=======
   "execution_count": 58,
   "metadata": {},
>>>>>>> upstream/master
   "outputs": [
    {
     "data": {
      "text/html": [
       "<div>\n",
       "<style scoped>\n",
       "    .dataframe tbody tr th:only-of-type {\n",
       "        vertical-align: middle;\n",
       "    }\n",
       "\n",
       "    .dataframe tbody tr th {\n",
       "        vertical-align: top;\n",
       "    }\n",
       "\n",
       "    .dataframe thead th {\n",
       "        text-align: right;\n",
       "    }\n",
       "</style>\n",
       "<table border=\"1\" class=\"dataframe\">\n",
       "  <thead>\n",
       "    <tr style=\"text-align: right;\">\n",
       "      <th></th>\n",
       "      <th>Country Name</th>\n",
       "      <th>Country Code</th>\n",
       "      <th>Indicator Name</th>\n",
       "      <th>Indicator Code</th>\n",
       "      <th>1960</th>\n",
       "      <th>1961</th>\n",
       "      <th>1962</th>\n",
       "      <th>1963</th>\n",
       "      <th>1964</th>\n",
       "      <th>1965</th>\n",
       "      <th>...</th>\n",
       "      <th>2010</th>\n",
       "      <th>2011</th>\n",
       "      <th>2012</th>\n",
       "      <th>2013</th>\n",
       "      <th>2014</th>\n",
       "      <th>2015</th>\n",
       "      <th>2016</th>\n",
       "      <th>2017</th>\n",
       "      <th>2018</th>\n",
       "      <th>Unnamed: 63</th>\n",
       "    </tr>\n",
       "  </thead>\n",
       "  <tbody>\n",
       "    <tr>\n",
       "      <th>3</th>\n",
       "      <td>Albania</td>\n",
       "      <td>ALB</td>\n",
       "      <td>Military expenditure (current LCU)</td>\n",
       "      <td>MS.MIL.XPND.CN</td>\n",
       "      <td>NaN</td>\n",
       "      <td>NaN</td>\n",
       "      <td>NaN</td>\n",
       "      <td>NaN</td>\n",
       "      <td>NaN</td>\n",
       "      <td>NaN</td>\n",
       "      <td>...</td>\n",
       "      <td>1.932100e+10</td>\n",
       "      <td>1.987700e+10</td>\n",
       "      <td>1.982000e+10</td>\n",
       "      <td>1.902200e+10</td>\n",
       "      <td>1.878800e+10</td>\n",
       "      <td>1.667100e+10</td>\n",
       "      <td>1.625000e+10</td>\n",
       "      <td>1.935200e+10</td>\n",
       "      <td>NaN</td>\n",
       "      <td>NaN</td>\n",
       "    </tr>\n",
       "    <tr>\n",
       "      <th>4</th>\n",
       "      <td>Andorra</td>\n",
       "      <td>AND</td>\n",
       "      <td>Military expenditure (current LCU)</td>\n",
       "      <td>MS.MIL.XPND.CN</td>\n",
       "      <td>NaN</td>\n",
       "      <td>NaN</td>\n",
       "      <td>NaN</td>\n",
       "      <td>NaN</td>\n",
       "      <td>NaN</td>\n",
       "      <td>NaN</td>\n",
       "      <td>...</td>\n",
       "      <td>NaN</td>\n",
       "      <td>NaN</td>\n",
       "      <td>NaN</td>\n",
       "      <td>NaN</td>\n",
       "      <td>NaN</td>\n",
       "      <td>NaN</td>\n",
       "      <td>NaN</td>\n",
       "      <td>NaN</td>\n",
       "      <td>NaN</td>\n",
       "      <td>NaN</td>\n",
       "    </tr>\n",
       "  </tbody>\n",
       "</table>\n",
       "<p>2 rows × 64 columns</p>\n",
       "</div>"
      ],
      "text/plain": [
       "  Country Name Country Code                      Indicator Name  \\\n",
       "3      Albania          ALB  Military expenditure (current LCU)   \n",
       "4      Andorra          AND  Military expenditure (current LCU)   \n",
       "\n",
<<<<<<< HEAD
<<<<<<< HEAD
       "   Indicator Code  1960  1961  1962  1963  1964  1965     ...       \\\n",
       "3  MS.MIL.XPND.CN   NaN   NaN   NaN   NaN   NaN   NaN     ...        \n",
       "4  MS.MIL.XPND.CN   NaN   NaN   NaN   NaN   NaN   NaN     ...        \n",
       "\n",
       "           2010          2011          2012          2013          2014  \\\n",
       "3  1.932100e+10  1.987700e+10  1.982000e+10  1.902200e+10  1.878800e+10   \n",
       "4           NaN           NaN           NaN           NaN           NaN   \n",
       "\n",
       "           2015          2016          2017  2018  Unnamed: 63  \n",
       "3  1.667100e+10  1.625000e+10  1.935200e+10   NaN          NaN  \n",
       "4           NaN           NaN           NaN   NaN          NaN  \n",
=======
=======
>>>>>>> upstream/master
       "   Indicator Code  1960  1961  1962  1963  1964  1965  ...          2010  \\\n",
       "3  MS.MIL.XPND.CN   NaN   NaN   NaN   NaN   NaN   NaN  ...  1.932100e+10   \n",
       "4  MS.MIL.XPND.CN   NaN   NaN   NaN   NaN   NaN   NaN  ...           NaN   \n",
       "\n",
       "           2011          2012          2013          2014          2015  \\\n",
       "3  1.987700e+10  1.982000e+10  1.902200e+10  1.878800e+10  1.667100e+10   \n",
       "4           NaN           NaN           NaN           NaN           NaN   \n",
       "\n",
       "           2016          2017  2018  Unnamed: 63  \n",
       "3  1.625000e+10  1.935200e+10   NaN          NaN  \n",
       "4           NaN           NaN   NaN          NaN  \n",
<<<<<<< HEAD
>>>>>>> upstream/master
=======
>>>>>>> upstream/master
       "\n",
       "[2 rows x 64 columns]"
      ]
     },
<<<<<<< HEAD
<<<<<<< HEAD
     "execution_count": 31,
=======
     "execution_count": 132,
>>>>>>> upstream/master
=======
     "execution_count": 58,
>>>>>>> upstream/master
     "metadata": {},
     "output_type": "execute_result"
    }
   ],
   "source": [
    "expenditures.iloc[3:5]"
   ]
  },
  {
   "cell_type": "code",
<<<<<<< HEAD
   "execution_count": null,
=======
   "execution_count": 75,
>>>>>>> upstream/master
   "metadata": {
    "scrolled": true,
    "slideshow": {
     "slide_type": "subslide"
    }
   },
<<<<<<< HEAD
   "outputs": [],
=======
   "outputs": [
    {
     "data": {
      "text/html": [
       "<div>\n",
       "<style scoped>\n",
       "    .dataframe tbody tr th:only-of-type {\n",
       "        vertical-align: middle;\n",
       "    }\n",
       "\n",
       "    .dataframe tbody tr th {\n",
       "        vertical-align: top;\n",
       "    }\n",
       "\n",
       "    .dataframe thead th {\n",
       "        text-align: right;\n",
       "    }\n",
       "</style>\n",
       "<table border=\"1\" class=\"dataframe\">\n",
       "  <thead>\n",
       "    <tr style=\"text-align: right;\">\n",
       "      <th></th>\n",
       "      <th>1960</th>\n",
       "      <th>1961</th>\n",
       "      <th>1962</th>\n",
       "      <th>1963</th>\n",
       "      <th>1964</th>\n",
       "      <th>1965</th>\n",
       "      <th>1966</th>\n",
       "      <th>1967</th>\n",
       "      <th>1968</th>\n",
       "      <th>1969</th>\n",
       "      <th>...</th>\n",
       "      <th>2009</th>\n",
       "      <th>2010</th>\n",
       "      <th>2011</th>\n",
       "      <th>2012</th>\n",
       "      <th>2013</th>\n",
       "      <th>2014</th>\n",
       "      <th>2015</th>\n",
       "      <th>2016</th>\n",
       "      <th>2017</th>\n",
       "      <th>2018</th>\n",
       "    </tr>\n",
       "  </thead>\n",
       "  <tbody>\n",
       "    <tr>\n",
       "      <th>3</th>\n",
       "      <td>NaN</td>\n",
       "      <td>NaN</td>\n",
       "      <td>NaN</td>\n",
       "      <td>NaN</td>\n",
       "      <td>NaN</td>\n",
       "      <td>NaN</td>\n",
       "      <td>NaN</td>\n",
       "      <td>NaN</td>\n",
       "      <td>NaN</td>\n",
       "      <td>NaN</td>\n",
       "      <td>...</td>\n",
       "      <td>1.735600e+10</td>\n",
       "      <td>1.932100e+10</td>\n",
       "      <td>1.987700e+10</td>\n",
       "      <td>1.982000e+10</td>\n",
       "      <td>1.902200e+10</td>\n",
       "      <td>1.878800e+10</td>\n",
       "      <td>1.667100e+10</td>\n",
       "      <td>1.625000e+10</td>\n",
       "      <td>1.935200e+10</td>\n",
       "      <td>NaN</td>\n",
       "    </tr>\n",
       "    <tr>\n",
       "      <th>4</th>\n",
       "      <td>NaN</td>\n",
       "      <td>NaN</td>\n",
       "      <td>NaN</td>\n",
       "      <td>NaN</td>\n",
       "      <td>NaN</td>\n",
       "      <td>NaN</td>\n",
       "      <td>NaN</td>\n",
       "      <td>NaN</td>\n",
       "      <td>NaN</td>\n",
       "      <td>NaN</td>\n",
       "      <td>...</td>\n",
       "      <td>NaN</td>\n",
       "      <td>NaN</td>\n",
       "      <td>NaN</td>\n",
       "      <td>NaN</td>\n",
       "      <td>NaN</td>\n",
       "      <td>NaN</td>\n",
       "      <td>NaN</td>\n",
       "      <td>NaN</td>\n",
       "      <td>NaN</td>\n",
       "      <td>NaN</td>\n",
       "    </tr>\n",
       "  </tbody>\n",
       "</table>\n",
       "<p>2 rows × 59 columns</p>\n",
       "</div>"
      ],
      "text/plain": [
       "   1960  1961  1962  1963  1964  1965  1966  1967  1968  1969  ...  \\\n",
       "3   NaN   NaN   NaN   NaN   NaN   NaN   NaN   NaN   NaN   NaN  ...   \n",
       "4   NaN   NaN   NaN   NaN   NaN   NaN   NaN   NaN   NaN   NaN  ...   \n",
       "\n",
       "           2009          2010          2011          2012          2013  \\\n",
       "3  1.735600e+10  1.932100e+10  1.987700e+10  1.982000e+10  1.902200e+10   \n",
       "4           NaN           NaN           NaN           NaN           NaN   \n",
       "\n",
       "           2014          2015          2016          2017  2018  \n",
       "3  1.878800e+10  1.667100e+10  1.625000e+10  1.935200e+10   NaN  \n",
       "4           NaN           NaN           NaN           NaN   NaN  \n",
       "\n",
       "[2 rows x 59 columns]"
      ]
     },
     "execution_count": 75,
     "metadata": {},
     "output_type": "execute_result"
    }
   ],
>>>>>>> upstream/master
   "source": [
    "expenditures.iloc[3:5, 4:-1]"
   ]
  },
  {
   "cell_type": "markdown",
   "metadata": {
    "slideshow": {
     "slide_type": "subslide"
    }
   },
   "source": [
    "## Boolean Indexing\n",
    "\n",
    "Similar to NumPy, you can use boolean arrays for indexing. That is, you can use boolean expressions directly for indexing.\n",
    "\n",
    "In the following we assign `expenditures` to `df`as the latter is shorter."
   ]
  },
  {
   "cell_type": "code",
<<<<<<< HEAD
<<<<<<< HEAD
   "execution_count": 32,
=======
   "execution_count": 133,
>>>>>>> upstream/master
   "metadata": {
    "slideshow": {
     "slide_type": "fragment"
    }
   },
=======
   "execution_count": 60,
   "metadata": {},
>>>>>>> upstream/master
   "outputs": [
    {
     "data": {
      "text/html": [
       "<div>\n",
       "<style scoped>\n",
       "    .dataframe tbody tr th:only-of-type {\n",
       "        vertical-align: middle;\n",
       "    }\n",
       "\n",
       "    .dataframe tbody tr th {\n",
       "        vertical-align: top;\n",
       "    }\n",
       "\n",
       "    .dataframe thead th {\n",
       "        text-align: right;\n",
       "    }\n",
       "</style>\n",
       "<table border=\"1\" class=\"dataframe\">\n",
       "  <thead>\n",
       "    <tr style=\"text-align: right;\">\n",
       "      <th></th>\n",
       "      <th>Country Name</th>\n",
       "      <th>Country Code</th>\n",
       "      <th>Indicator Name</th>\n",
       "      <th>Indicator Code</th>\n",
       "      <th>1960</th>\n",
       "      <th>1961</th>\n",
       "      <th>1962</th>\n",
       "      <th>1963</th>\n",
       "      <th>1964</th>\n",
       "      <th>1965</th>\n",
       "      <th>...</th>\n",
       "      <th>2010</th>\n",
       "      <th>2011</th>\n",
       "      <th>2012</th>\n",
       "      <th>2013</th>\n",
       "      <th>2014</th>\n",
       "      <th>2015</th>\n",
       "      <th>2016</th>\n",
       "      <th>2017</th>\n",
       "      <th>2018</th>\n",
       "      <th>Unnamed: 63</th>\n",
       "    </tr>\n",
       "  </thead>\n",
       "  <tbody>\n",
       "    <tr>\n",
       "      <th>56</th>\n",
       "      <td>Denmark</td>\n",
       "      <td>DNK</td>\n",
       "      <td>Military expenditure (current LCU)</td>\n",
       "      <td>MS.MIL.XPND.CN</td>\n",
       "      <td>1.113000e+09</td>\n",
       "      <td>1.180000e+09</td>\n",
       "      <td>1.551000e+09</td>\n",
       "      <td>1.651000e+09</td>\n",
       "      <td>1.764000e+09</td>\n",
       "      <td>1.974000e+09</td>\n",
       "      <td>...</td>\n",
       "      <td>2.532800e+10</td>\n",
       "      <td>2.425900e+10</td>\n",
       "      <td>2.561700e+10</td>\n",
       "      <td>2.368200e+10</td>\n",
       "      <td>2.276900e+10</td>\n",
       "      <td>2.263300e+10</td>\n",
       "      <td>2.419000e+10</td>\n",
       "      <td>2.516500e+10</td>\n",
       "      <td>NaN</td>\n",
       "      <td>NaN</td>\n",
       "    </tr>\n",
       "  </tbody>\n",
       "</table>\n",
       "<p>1 rows × 64 columns</p>\n",
       "</div>"
      ],
      "text/plain": [
       "   Country Name Country Code                      Indicator Name  \\\n",
       "56      Denmark          DNK  Military expenditure (current LCU)   \n",
       "\n",
       "    Indicator Code          1960          1961          1962          1963  \\\n",
       "56  MS.MIL.XPND.CN  1.113000e+09  1.180000e+09  1.551000e+09  1.651000e+09   \n",
       "\n",
<<<<<<< HEAD
<<<<<<< HEAD
       "            1964          1965     ...               2010          2011  \\\n",
       "56  1.764000e+09  1.974000e+09     ...       2.532800e+10  2.425900e+10   \n",
       "\n",
       "            2012          2013          2014          2015          2016  \\\n",
       "56  2.561700e+10  2.368200e+10  2.276900e+10  2.263300e+10  2.419000e+10   \n",
       "\n",
       "            2017  2018  Unnamed: 63  \n",
       "56  2.516500e+10   NaN          NaN  \n",
=======
=======
>>>>>>> upstream/master
       "            1964          1965  ...          2010          2011          2012  \\\n",
       "56  1.764000e+09  1.974000e+09  ...  2.532800e+10  2.425900e+10  2.561700e+10   \n",
       "\n",
       "            2013          2014          2015          2016          2017  \\\n",
       "56  2.368200e+10  2.276900e+10  2.263300e+10  2.419000e+10  2.516500e+10   \n",
       "\n",
       "    2018  Unnamed: 63  \n",
       "56   NaN          NaN  \n",
<<<<<<< HEAD
>>>>>>> upstream/master
=======
>>>>>>> upstream/master
       "\n",
       "[1 rows x 64 columns]"
      ]
     },
<<<<<<< HEAD
<<<<<<< HEAD
     "execution_count": 32,
=======
     "execution_count": 133,
>>>>>>> upstream/master
=======
     "execution_count": 60,
>>>>>>> upstream/master
     "metadata": {},
     "output_type": "execute_result"
    }
   ],
   "source": [
    "df = expenditures\n",
    "\n",
    "df[df['Country Name'] == 'Denmark']"
   ]
  },
  {
   "cell_type": "markdown",
   "metadata": {
    "slideshow": {
     "slide_type": "subslide"
    }
   },
   "source": [
    "Using the `isin()` method for filtering:"
   ]
  },
  {
   "cell_type": "code",
<<<<<<< HEAD
<<<<<<< HEAD
   "execution_count": 33,
=======
   "execution_count": 134,
>>>>>>> upstream/master
   "metadata": {
    "slideshow": {
     "slide_type": "fragment"
    }
   },
=======
   "execution_count": 61,
   "metadata": {},
>>>>>>> upstream/master
   "outputs": [
    {
     "data": {
      "text/html": [
       "<div>\n",
       "<style scoped>\n",
       "    .dataframe tbody tr th:only-of-type {\n",
       "        vertical-align: middle;\n",
       "    }\n",
       "\n",
       "    .dataframe tbody tr th {\n",
       "        vertical-align: top;\n",
       "    }\n",
       "\n",
       "    .dataframe thead th {\n",
       "        text-align: right;\n",
       "    }\n",
       "</style>\n",
       "<table border=\"1\" class=\"dataframe\">\n",
       "  <thead>\n",
       "    <tr style=\"text-align: right;\">\n",
       "      <th></th>\n",
       "      <th>Country Name</th>\n",
       "      <th>Country Code</th>\n",
       "      <th>Indicator Name</th>\n",
       "      <th>Indicator Code</th>\n",
       "      <th>1960</th>\n",
       "      <th>1961</th>\n",
       "      <th>1962</th>\n",
       "      <th>1963</th>\n",
       "      <th>1964</th>\n",
       "      <th>1965</th>\n",
       "      <th>...</th>\n",
       "      <th>2010</th>\n",
       "      <th>2011</th>\n",
       "      <th>2012</th>\n",
       "      <th>2013</th>\n",
       "      <th>2014</th>\n",
       "      <th>2015</th>\n",
       "      <th>2016</th>\n",
       "      <th>2017</th>\n",
       "      <th>2018</th>\n",
       "      <th>Unnamed: 63</th>\n",
       "    </tr>\n",
       "  </thead>\n",
       "  <tbody>\n",
       "    <tr>\n",
       "      <th>38</th>\n",
       "      <td>China</td>\n",
       "      <td>CHN</td>\n",
       "      <td>Military expenditure (current LCU)</td>\n",
       "      <td>MS.MIL.XPND.CN</td>\n",
       "      <td>NaN</td>\n",
       "      <td>NaN</td>\n",
       "      <td>NaN</td>\n",
       "      <td>NaN</td>\n",
       "      <td>NaN</td>\n",
       "      <td>NaN</td>\n",
       "      <td>...</td>\n",
       "      <td>7.834000e+11</td>\n",
       "      <td>8.914702e+11</td>\n",
       "      <td>9.935000e+11</td>\n",
       "      <td>1.114496e+12</td>\n",
       "      <td>1.233430e+12</td>\n",
       "      <td>1.333262e+12</td>\n",
       "      <td>1.436617e+12</td>\n",
       "      <td>1.544163e+12</td>\n",
       "      <td>NaN</td>\n",
       "      <td>NaN</td>\n",
       "    </tr>\n",
       "    <tr>\n",
       "      <th>56</th>\n",
       "      <td>Denmark</td>\n",
       "      <td>DNK</td>\n",
       "      <td>Military expenditure (current LCU)</td>\n",
       "      <td>MS.MIL.XPND.CN</td>\n",
       "      <td>1.113000e+09</td>\n",
       "      <td>1.180000e+09</td>\n",
       "      <td>1.551000e+09</td>\n",
       "      <td>1.651000e+09</td>\n",
       "      <td>1.764000e+09</td>\n",
       "      <td>1.974000e+09</td>\n",
       "      <td>...</td>\n",
       "      <td>2.532800e+10</td>\n",
       "      <td>2.425900e+10</td>\n",
       "      <td>2.561700e+10</td>\n",
       "      <td>2.368200e+10</td>\n",
       "      <td>2.276900e+10</td>\n",
       "      <td>2.263300e+10</td>\n",
       "      <td>2.419000e+10</td>\n",
       "      <td>2.516500e+10</td>\n",
       "      <td>NaN</td>\n",
       "      <td>NaN</td>\n",
       "    </tr>\n",
       "    <tr>\n",
       "      <th>200</th>\n",
       "      <td>Russian Federation</td>\n",
       "      <td>RUS</td>\n",
       "      <td>Military expenditure (current LCU)</td>\n",
       "      <td>MS.MIL.XPND.CN</td>\n",
       "      <td>NaN</td>\n",
       "      <td>NaN</td>\n",
       "      <td>NaN</td>\n",
       "      <td>NaN</td>\n",
       "      <td>NaN</td>\n",
       "      <td>NaN</td>\n",
       "      <td>...</td>\n",
       "      <td>1.783210e+12</td>\n",
       "      <td>2.063740e+12</td>\n",
       "      <td>2.512500e+12</td>\n",
       "      <td>2.812900e+12</td>\n",
       "      <td>3.250500e+12</td>\n",
       "      <td>4.047400e+12</td>\n",
       "      <td>4.644800e+12</td>\n",
       "      <td>3.868700e+12</td>\n",
       "      <td>NaN</td>\n",
       "      <td>NaN</td>\n",
       "    </tr>\n",
       "    <tr>\n",
       "      <th>249</th>\n",
       "      <td>United States</td>\n",
       "      <td>USA</td>\n",
       "      <td>Military expenditure (current LCU)</td>\n",
       "      <td>MS.MIL.XPND.CN</td>\n",
       "      <td>4.538000e+10</td>\n",
       "      <td>4.780800e+10</td>\n",
       "      <td>5.238100e+10</td>\n",
       "      <td>5.229500e+10</td>\n",
       "      <td>5.121300e+10</td>\n",
       "      <td>5.182700e+10</td>\n",
       "      <td>...</td>\n",
       "      <td>6.981800e+11</td>\n",
       "      <td>7.113380e+11</td>\n",
       "      <td>6.847800e+11</td>\n",
       "      <td>6.397040e+11</td>\n",
       "      <td>6.099140e+11</td>\n",
       "      <td>5.961046e+11</td>\n",
       "      <td>6.001064e+11</td>\n",
       "      <td>6.097580e+11</td>\n",
       "      <td>NaN</td>\n",
       "      <td>NaN</td>\n",
       "    </tr>\n",
       "  </tbody>\n",
       "</table>\n",
       "<p>4 rows × 64 columns</p>\n",
       "</div>"
      ],
      "text/plain": [
       "           Country Name Country Code                      Indicator Name  \\\n",
       "38                China          CHN  Military expenditure (current LCU)   \n",
       "56              Denmark          DNK  Military expenditure (current LCU)   \n",
       "200  Russian Federation          RUS  Military expenditure (current LCU)   \n",
       "249       United States          USA  Military expenditure (current LCU)   \n",
       "\n",
       "     Indicator Code          1960          1961          1962          1963  \\\n",
       "38   MS.MIL.XPND.CN           NaN           NaN           NaN           NaN   \n",
       "56   MS.MIL.XPND.CN  1.113000e+09  1.180000e+09  1.551000e+09  1.651000e+09   \n",
       "200  MS.MIL.XPND.CN           NaN           NaN           NaN           NaN   \n",
       "249  MS.MIL.XPND.CN  4.538000e+10  4.780800e+10  5.238100e+10  5.229500e+10   \n",
       "\n",
<<<<<<< HEAD
<<<<<<< HEAD
       "             1964          1965     ...               2010          2011  \\\n",
       "38            NaN           NaN     ...       7.834000e+11  8.914702e+11   \n",
       "56   1.764000e+09  1.974000e+09     ...       2.532800e+10  2.425900e+10   \n",
       "200           NaN           NaN     ...       1.783210e+12  2.063740e+12   \n",
       "249  5.121300e+10  5.182700e+10     ...       6.981800e+11  7.113380e+11   \n",
=======
=======
>>>>>>> upstream/master
       "             1964          1965  ...          2010          2011  \\\n",
       "38            NaN           NaN  ...  7.834000e+11  8.914702e+11   \n",
       "56   1.764000e+09  1.974000e+09  ...  2.532800e+10  2.425900e+10   \n",
       "200           NaN           NaN  ...  1.783210e+12  2.063740e+12   \n",
       "249  5.121300e+10  5.182700e+10  ...  6.981800e+11  7.113380e+11   \n",
<<<<<<< HEAD
>>>>>>> upstream/master
=======
>>>>>>> upstream/master
       "\n",
       "             2012          2013          2014          2015          2016  \\\n",
       "38   9.935000e+11  1.114496e+12  1.233430e+12  1.333262e+12  1.436617e+12   \n",
       "56   2.561700e+10  2.368200e+10  2.276900e+10  2.263300e+10  2.419000e+10   \n",
       "200  2.512500e+12  2.812900e+12  3.250500e+12  4.047400e+12  4.644800e+12   \n",
       "249  6.847800e+11  6.397040e+11  6.099140e+11  5.961046e+11  6.001064e+11   \n",
       "\n",
       "             2017  2018  Unnamed: 63  \n",
       "38   1.544163e+12   NaN          NaN  \n",
       "56   2.516500e+10   NaN          NaN  \n",
       "200  3.868700e+12   NaN          NaN  \n",
       "249  6.097580e+11   NaN          NaN  \n",
       "\n",
       "[4 rows x 64 columns]"
      ]
     },
<<<<<<< HEAD
<<<<<<< HEAD
     "execution_count": 33,
=======
     "execution_count": 134,
>>>>>>> upstream/master
=======
     "execution_count": 61,
>>>>>>> upstream/master
     "metadata": {},
     "output_type": "execute_result"
    }
   ],
   "source": [
    "df[df['Country Name'].isin(['United States', 'China', 'Denmark', 'Russian Federation'])]"
   ]
  },
  {
   "cell_type": "markdown",
   "metadata": {
    "slideshow": {
     "slide_type": "subslide"
    }
   },
   "source": [
    "Here, we create a `DataFrame` of all country codes for the four countries, which we want to study further in the following."
   ]
  },
  {
   "cell_type": "code",
<<<<<<< HEAD
<<<<<<< HEAD
   "execution_count": 34,
=======
   "execution_count": 135,
>>>>>>> upstream/master
   "metadata": {
    "slideshow": {
     "slide_type": "fragment"
    }
   },
=======
   "execution_count": 62,
   "metadata": {},
>>>>>>> upstream/master
   "outputs": [
    {
     "data": {
      "text/plain": [
       "38     CHN\n",
       "56     DNK\n",
       "200    RUS\n",
       "249    USA\n",
       "Name: Country Code, dtype: object"
      ]
     },
<<<<<<< HEAD
<<<<<<< HEAD
     "execution_count": 34,
=======
     "execution_count": 135,
>>>>>>> upstream/master
=======
     "execution_count": 62,
>>>>>>> upstream/master
     "metadata": {},
     "output_type": "execute_result"
    }
   ],
   "source": [
    "c_code_df = df[df['Country Name'].isin(['United States', 'China', \n",
    "                                        'Denmark', 'Russian Federation'])]['Country Code']\n",
    "c_code_df"
   ]
  },
  {
   "cell_type": "markdown",
   "metadata": {
    "slideshow": {
     "slide_type": "subslide"
    }
   },
   "source": [
    "We cannot plot the time series of military expenditures directly in a meaningful way as we would like to have the years on the y-axis but in the selection of our `DataFrame`, the year numbers are column names. Consequently, we have to transpose our `DataFrame`, see `T` function.\n",
    "\n",
    "Note, that the expenditures are given in `LUC` in the World Bank data set. That is, in currency of the corresponding country."
   ]
  },
  {
   "cell_type": "code",
<<<<<<< HEAD
<<<<<<< HEAD
   "execution_count": 40,
=======
   "execution_count": 136,
>>>>>>> upstream/master
   "metadata": {
    "slideshow": {
     "slide_type": "subslide"
    }
   },
=======
   "execution_count": 63,
   "metadata": {},
>>>>>>> upstream/master
   "outputs": [
    {
     "data": {
      "text/plain": [
<<<<<<< HEAD
<<<<<<< HEAD
       "<matplotlib.axes._subplots.AxesSubplot at 0x117f90198>"
      ]
     },
     "execution_count": 40,
=======
       "<matplotlib.axes._subplots.AxesSubplot at 0x7f725fa17470>"
      ]
     },
     "execution_count": 136,
>>>>>>> upstream/master
=======
       "<matplotlib.axes._subplots.AxesSubplot at 0x7fd143f427b8>"
      ]
     },
     "execution_count": 63,
>>>>>>> upstream/master
     "metadata": {},
     "output_type": "execute_result"
    },
    {
     "data": {
<<<<<<< HEAD
<<<<<<< HEAD
      "image/png": "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\n",
=======
      "image/png": "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\n",
>>>>>>> upstream/master
=======
      "image/png": "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\n",
>>>>>>> upstream/master
      "text/plain": [
       "<Figure size 432x288 with 1 Axes>"
      ]
     },
     "metadata": {
      "needs_background": "light"
     },
     "output_type": "display_data"
    }
   ],
   "source": [
    "import matplotlib.pyplot as plt\n",
    "\n",
    "\n",
    "ts_df = df.iloc[c_code_df.index, 31:-1].T\n",
    "ts_df = ts_df.rename(columns=dict(c_code_df))\n",
    "ts_df\n",
    "ts_df.plot()"
   ]
  },
  {
   "cell_type": "markdown",
   "metadata": {
    "slideshow": {
     "slide_type": "subslide"
    }
   },
   "source": [
    "Since this plot may be a bit misleading, we will 'normalize' all expeditures to Euro, so that they are better comparible."
   ]
  },
  {
   "cell_type": "code",
<<<<<<< HEAD
<<<<<<< HEAD
   "execution_count": 37,
=======
   "execution_count": 137,
>>>>>>> upstream/master
   "metadata": {
    "slideshow": {
     "slide_type": "fragment"
    }
   },
=======
   "execution_count": 64,
   "metadata": {},
>>>>>>> upstream/master
   "outputs": [
    {
     "data": {
      "text/plain": [
       "'<?xml version=\"1.0\" encoding=\"UTF-8\"?>\\n<gesmes:Envelope xmlns:gesmes=\"http://www.gesmes.org/xml/2002-08-01\" xmlns=\"http://www.ecb.int/vocabulary/2002-08-01/eurofxref\">\\n\\t<gesmes:subject>Reference rates</gesmes:subject>\\n\\t<gesmes:Sender>\\n\\t\\t<gesmes:name>European Central Bank</gesmes:name>\\n\\t</gesmes:Sender>\\n\\t<Cube>\\n\\t\\t<Cube time=\\'2019-03-04\\'>\\n\\t\\t\\t<Cube currency=\\'USD\\' rate=\\'1.1337\\'/>\\n\\t\\t\\t<Cube currency=\\'JPY\\' rate=\\'126.91\\'/>\\n\\t\\t\\t<Cube currency=\\'BGN\\' rate=\\'1.9558\\'/>\\n\\t\\t\\t<Cube currency=\\'CZK\\' rate=\\'25.621\\'/>\\n\\t\\t\\t<Cube currency=\\'DKK\\' rate=\\'7.4616\\'/>\\n\\t\\t\\t<Cube currency=\\'GBP\\' rate=\\'0.85775\\'/>\\n\\t\\t\\t<Cube currency=\\'HUF\\' rate=\\'315.84\\'/>\\n\\t\\t\\t<Cube currency=\\'PLN\\' rate=\\'4.2989\\'/>\\n\\t\\t\\t<Cube currency=\\'RON\\' rate=\\'4.7412\\'/>\\n\\t\\t\\t<Cube currency=\\'SEK\\' rate=\\'10.5543\\'/>\\n\\t\\t\\t<Cube currency=\\'CHF\\' rate=\\'1.1352\\'/>\\n\\t\\t\\t<Cube currency=\\'ISK\\' rate=\\'136.20\\'/>\\n\\t\\t\\t<Cube currency=\\'NOK\\' rate=\\'9.7633\\'/>\\n\\t\\t\\t<Cube currency=\\'HRK\\' rate=\\'7.4325\\'/>\\n\\t\\t\\t<Cube currency=\\'RUB\\' rate=\\'74.5435\\'/>\\n\\t\\t\\t<Cube currency=\\'TRY\\' rate=\\'6.1023\\'/>\\n\\t\\t\\t<Cube currency=\\'AUD\\' rate=\\'1.5990\\'/>\\n\\t\\t\\t<Cube currency=\\'BRL\\' rate=\\'4.2794\\'/>\\n\\t\\t\\t<Cube currency=\\'CAD\\' rate=\\'1.5092\\'/>\\n\\t\\t\\t<Cube currency=\\'CNY\\' rate=\\'7.5985\\'/>\\n\\t\\t\\t<Cube currency=\\'HKD\\' rate=\\'8.8986\\'/>\\n\\t\\t\\t<Cube currency=\\'IDR\\' rate=\\'16019.18\\'/>\\n\\t\\t\\t<Cube currency=\\'ILS\\' rate=\\'4.1102\\'/>\\n\\t\\t\\t<Cube currency=\\'INR\\' rate=\\'80.3630\\'/>\\n\\t\\t\\t<Cube currency=\\'KRW\\' rate=\\'1276.68\\'/>\\n\\t\\t\\t<Cube currency=\\'MXN\\' rate=\\'21.9374\\'/>\\n\\t\\t\\t<Cube currency=\\'MYR\\' rate=\\'4.6204\\'/>\\n\\t\\t\\t<Cube currency=\\'NZD\\' rate=\\'1.6660\\'/>\\n\\t\\t\\t<Cube currency=\\'PHP\\' rate=\\'58.726\\'/>\\n\\t\\t\\t<Cube currency=\\'SGD\\' rate=\\'1.5361\\'/>\\n\\t\\t\\t<Cube currency=\\'THB\\' rate=\\'36.142\\'/>\\n\\t\\t\\t<Cube currency=\\'ZAR\\' rate=\\'16.1463\\'/>\\n\\t\\t</Cube>\\n\\t</Cube>\\n</gesmes:Envelope>'"
      ]
     },
<<<<<<< HEAD
<<<<<<< HEAD
     "execution_count": 37,
=======
     "execution_count": 137,
>>>>>>> upstream/master
=======
     "execution_count": 64,
>>>>>>> upstream/master
     "metadata": {},
     "output_type": "execute_result"
    }
   ],
   "source": [
    "import requests\n",
    "\n",
    "\n",
    "# http://www.ecb.europa.eu/stats/policy_and_exchange_rates/euro_reference_exchange_rates/html/index.en.html#dev\n",
    "response = requests.get('http://www.ecb.europa.eu/stats/eurofxref/eurofxref-daily.xml')\n",
    "response.text"
   ]
  },
  {
   "cell_type": "code",
<<<<<<< HEAD
<<<<<<< HEAD
   "execution_count": 38,
=======
   "execution_count": 150,
>>>>>>> upstream/master
   "metadata": {
    "slideshow": {
     "slide_type": "subslide"
    }
   },
   "outputs": [
    {
<<<<<<< HEAD
=======
   "execution_count": 65,
   "metadata": {},
   "outputs": [
    {
>>>>>>> upstream/master
     "name": "stdout",
     "output_type": "stream",
     "text": [
      "1.1337\n",
      "7.4616\n",
      "74.5435\n",
      "7.5985\n"
     ]
    },
    {
     "data": {
      "text/plain": [
<<<<<<< HEAD
       "{'USD': 1.1337, 'DKK': 7.4616, 'RUB': 74.5435, 'CNY': 7.5985}"
      ]
     },
     "execution_count": 38,
     "metadata": {},
     "output_type": "execute_result"
=======
     "ename": "FeatureNotFound",
     "evalue": "Couldn't find a tree builder with the features you requested: html5lib. Do you need to install a parser library?",
     "output_type": "error",
     "traceback": [
      "\u001b[0;31m--------------------------------------\u001b[0m",
      "\u001b[0;31mFeatureNotFound\u001b[0mTraceback (most recent call last)",
      "\u001b[0;32m<ipython-input-150-a75f85159c96>\u001b[0m in \u001b[0;36m<module>\u001b[0;34m\u001b[0m\n\u001b[1;32m      2\u001b[0m \u001b[0;31m# Will be covered 26/3\u001b[0m\u001b[0;34m\u001b[0m\u001b[0;34m\u001b[0m\u001b[0;34m\u001b[0m\u001b[0m\n\u001b[1;32m      3\u001b[0m \u001b[0;34m\u001b[0m\u001b[0m\n\u001b[0;32m----> 4\u001b[0;31m \u001b[0mxml\u001b[0m \u001b[0;34m=\u001b[0m \u001b[0mBeautifulSoup\u001b[0m\u001b[0;34m(\u001b[0m\u001b[0mresponse\u001b[0m\u001b[0;34m.\u001b[0m\u001b[0mtext\u001b[0m\u001b[0;34m,\u001b[0m \u001b[0;34m'html5lib'\u001b[0m\u001b[0;34m)\u001b[0m\u001b[0;34m\u001b[0m\u001b[0;34m\u001b[0m\u001b[0m\n\u001b[0m\u001b[1;32m      5\u001b[0m \u001b[0mrate_list\u001b[0m \u001b[0;34m=\u001b[0m \u001b[0mxml\u001b[0m\u001b[0;34m.\u001b[0m\u001b[0mcube\u001b[0m\u001b[0;34m.\u001b[0m\u001b[0mcube\u001b[0m\u001b[0;34m.\u001b[0m\u001b[0mfindAll\u001b[0m\u001b[0;34m(\u001b[0m\u001b[0;34m\"cube\"\u001b[0m\u001b[0;34m)\u001b[0m \u001b[0;31m# [0]['rate']\u001b[0m\u001b[0;34m\u001b[0m\u001b[0;34m\u001b[0m\u001b[0m\n\u001b[1;32m      6\u001b[0m \u001b[0;34m\u001b[0m\u001b[0m\n",
      "\u001b[0;32m~/.virtualenvs/slides/lib/python3.6/site-packages/bs4/__init__.py\u001b[0m in \u001b[0;36m__init__\u001b[0;34m(self, markup, features, builder, parse_only, from_encoding, exclude_encodings, **kwargs)\u001b[0m\n\u001b[1;32m    194\u001b[0m                     \u001b[0;34m\"Couldn't find a tree builder with the features you \"\u001b[0m\u001b[0;34m\u001b[0m\u001b[0;34m\u001b[0m\u001b[0m\n\u001b[1;32m    195\u001b[0m                     \u001b[0;34m\"requested: %s. Do you need to install a parser library?\"\u001b[0m\u001b[0;34m\u001b[0m\u001b[0;34m\u001b[0m\u001b[0m\n\u001b[0;32m--> 196\u001b[0;31m                     % \",\".join(features))\n\u001b[0m\u001b[1;32m    197\u001b[0m             \u001b[0mbuilder\u001b[0m \u001b[0;34m=\u001b[0m \u001b[0mbuilder_class\u001b[0m\u001b[0;34m(\u001b[0m\u001b[0;34m)\u001b[0m\u001b[0;34m\u001b[0m\u001b[0;34m\u001b[0m\u001b[0m\n\u001b[1;32m    198\u001b[0m             if not (original_features == builder.NAME or\n",
      "\u001b[0;31mFeatureNotFound\u001b[0m: Couldn't find a tree builder with the features you requested: html5lib. Do you need to install a parser library?"
     ]
>>>>>>> upstream/master
=======
       "{'CNY': 7.5985, 'DKK': 7.4616, 'RUB': 74.5435, 'USD': 1.1337}"
      ]
     },
     "execution_count": 65,
     "metadata": {},
     "output_type": "execute_result"
>>>>>>> upstream/master
    }
   ],
   "source": [
    "from bs4 import BeautifulSoup\n",
    "# Will be covered 26/3\n",
    "\n",
    "xml = BeautifulSoup(response.text, 'html5lib')\n",
    "rate_list = xml.cube.cube.findAll(\"cube\") # [0]['rate']\n",
    "\n",
    "currency = ['USD', 'DKK', 'RUB', 'CNY']\n",
    "rate_dict = dict.fromkeys(currency)\n",
    "for r in rate_list:\n",
    "    if r['currency'] in currency:\n",
    "        rate_dict[r['currency']] = float(r['rate'])\n",
    "        print(r['rate'])\n",
    "rate_dict"
   ]
  },
  {
   "cell_type": "code",
<<<<<<< HEAD
   "execution_count": 39,
   "metadata": {
    "slideshow": {
     "slide_type": "subslide"
    }
   },
=======
   "execution_count": 66,
   "metadata": {},
>>>>>>> upstream/master
   "outputs": [
    {
     "data": {
      "text/plain": [
<<<<<<< HEAD
       "<matplotlib.axes._subplots.AxesSubplot at 0x117efdb38>"
      ]
     },
     "execution_count": 39,
=======
       "<matplotlib.axes._subplots.AxesSubplot at 0x7fd140d68128>"
      ]
     },
     "execution_count": 66,
>>>>>>> upstream/master
     "metadata": {},
     "output_type": "execute_result"
    },
    {
     "data": {
<<<<<<< HEAD
      "image/png": "iVBORw0KGgoAAAANSUhEUgAAAW4AAAD2CAYAAAD24G0VAAAABHNCSVQICAgIfAhkiAAAAAlwSFlzAAALEgAACxIB0t1+/AAAADl0RVh0U29mdHdhcmUAbWF0cGxvdGxpYiB2ZXJzaW9uIDMuMC4yLCBodHRwOi8vbWF0cGxvdGxpYi5vcmcvOIA7rQAAIABJREFUeJzt3Xl8VNX9//HXmS0zyWTfQwhh3wWVKlRUQEWroNVqXapV609qi9a6i9iCimgV16qtVGndAK11qdavShWsWtm0iMgmSyD7vswkmf38/pgkhEUIkJnJZD7Px2O4d+7cufczCbw5c++55yqtNUIIIaKHIdIFCCGEODwS3EIIEWUkuIUQIspIcAshRJSR4BZCiCgjwS2EEFEmZMGtlFqklKpSSm3owrqnKKW+Ukr5lFIX7vPa+0qpBqXUu6GqVQghokkoW9x/A87q4rq7gauAxQd47WHgiu4pSQghol/Igltr/R+grvMypdTAthb0l0qpT5VSw9rWLdJarwcCB9jOR4AjVHUKIUS0MYV5fwuB67TW3ymlTgSeAaaEuQYhhIhqYQtupZQd+CHwd6VU++K4cO1fCCF6i3C2uA1Ag9Z6bBj3KYQQvU7YugNqrZuAnUqpiwBU0Jhw7V8IIXoLFarRAZVSS4BJQAZQCcwBPgb+BOQCZmCp1vpepdQPgDeBVMAFVGitR7Zt51NgGGAHaoFrtNYfhKRoIYSIAiELbiGEEKEhV04KIUSUkeAWQogoE5JeJRkZGbqwsDAUmxZCiF7pyy+/rNFaZ3Zl3ZAEd2FhIWvXrg3FpoUQoldSSu3q6rpyqEQIIaKMBLcQQkQZCW4hhIgyYbvk3ev1UlJSgsvlCtcuw8pqtZKfn4/ZbI50KUKIXi5swV1SUkJiYiKFhYV0GmSqV9BaU1tbS0lJCf379490OUKIXi5sh0pcLhfp6em9LrQBlFKkp6f32m8TQoieJazHuHtjaLfrzZ9NCNGzxNTJyYqKCi655BIGDhzIiBEjOPvss9m6dSujRo3aa725c+eyYMECAK666ir69OmD2+0GoKamBrm4SIgD89XXU79kCUWXXMq2Kafh+PjjSJfUK8VMcGutOf/885k0aRLbt29n48aNzJ8/n8rKykO+12g0smjRojBUKUT0CbhcNL3/PsW/nsl3J59CxT33Emh2YrDbKfn1TCrum0egreEjuke4b10WMcuXL8dsNnPdddd1LBs7dixFRUWHfO9vf/tbHnvsMa699toQVihE9NCBAC1r1tL4zj9xvP8BAacTU1YWaT//OcnnTidu6FC010v1I49Q98KLtKxdS59HHyFu4MBIl94rRCS473nnWzaWNXXrNkfkJTFn+sjvfX3Dhg0cf/zxB3xt+/btjB2758Y8FRUV3HrrrR3PCwoKmDhxIi+99BLTp0/vvqKFiDLe8nLqFy+m8d1/4SsvxxAfT+LUqSSfdy7xJ5yAMho71lUWC9mzZhE/YQLls+5i508uJHv2XaRceKGcEzpKMdPiPpiBAweybt26judz587db5277rqLc889l3POOSeMlQnRczSvXEnpb2/C73BgnziRpFtvIXHKFAw220HflzhpEta336Lsjjuo+N3vaf78v+Teew/GpKQwVd77RCS4D9YyDpWRI0fy+uuvH/H7Bw0axNixY3nttde6sSohej6tNfUvvUzlH/6ApX8hhUuXYDnME/TmrCwKnn+e2uefp/qJJ3GtX0/eggXEH3dsSGru7bp0clIplaKUel0ptVkptUkpNSHUhXW3KVOm4Ha7+ctf/tKxbM2aNeza1eUBuZg9e3ZHbxMhYkHA46F89t1Uzp+PfdIkCpe+etih3U4ZDGRcey2Fr7wMBgO7rriCmj//Ge33d2/RMaCrvUqeAN7XWg8DxgCbQldSaCilePPNN1m2bBkDBw5k5MiRzJ07l7y8vC5vY+TIkRx33HEhrFKInsNbWcWuK66g8Y03yPj1r8n/45MY7QlHvV3bmDH0f/MNks46i+rHn2D3L67B73R2Q8Wx45D3nFRKJQFfAwN0F29QOW7cOL3veNybNm1i+PDhR1pnVIiFzyhiQ+vXX1Ny/Q34m5vJe/ABkqZO7fZ9aK1pfPMtyn/3O+ynnEL+00+hDDHTQ3k/SqkvtdbjurJuV35KA4Bq4K9Kqf8ppZ5TSu33365SaoZSaq1Sam11dfVhliyE6Cka3niTXZdfgYqLo3DJkpCENgS/BadccD7Zs2bhXL6cmqeeCsl+eqOuBLcJOA74k9b6WKAZuHPflbTWC7XW47TW4zIzu3T3HSFED6J9Pirmz6f8rruwjTuewr+/hnXokJDvN/Vnl5H8kwuoeeZPNH3wYcj31xt0JbhLgBKt9aq2568TDHIhRC/hq69n9/+7lvoXXyLtyp9T8Je/YEpNDcu+lVLkzJmDbcwYymbNwrVla1j2G80OGdxa6wqgWCk1tG3RacDGkFYlhAibQGsru6+6mtYvvyR3/nyyZ81CmcLbU9hgsdDnj09itNspmTkTX319WPcfbbp6JuAG4BWl1HpgLDA/dCUJIcJFa03F3Htwb91K/tNPkXLB+RGrxZyVRf4fn8RXWUnpTTejfb6I1dLTdSm4tdbr2o5fH6O1/rHWWv47FKIXaHjt7zS+/TYZv/419lNOiXQ52MaMIeeee2hZuZKqhx+OdDk9Vkz1vTEajYwdO5aRI0cyZswYHn30UQKBAAArVqxAKcU777zTsf60adNYsWIFAJMmTaK9i2NRURGDBw/mgw8+CPtnEKK7tG74lsp580g46SQyfv2rSJfTIeWC80n9+RXUvfAiDW++FelyeqSYCm6bzca6dev49ttvWbZsGe+99x733HNPx+v5+fncf//9B91GSUkJZ555Jo888ghnnnlmqEsWIiT8DQ2U3ngjxowM8hY8vNfgUD1B9u23Ez9+PBVz5tC6fn2ky+lxYiq4O8vKymLhwoU89dRTtF9XNGbMGJKTk1m2bNkB31NRUcHUqVOZN28e5557bjjLFaLb6ECAsjvuxFtVRf7jj4Wt98jhUCYTfR57FFNmJiXX34C3qirSJfUokRkd8P/uhIpvunebOaPhRw8e1lsGDBhAIBCgqtNfirvvvpu7776bM844Y7/1f/7znzNv3jwuuuiioy5XiEipXfgXnJ98Qvbdd2MbMybS5XwvU2oq+c88TdEll1L6mxspePEFDBZLpMvqEWK2xd1u36v4Tz75ZAA+/fTT/dY9/fTTeemll2hpaQlLbUJ0t+YvvqD6ySdJOvtsUn92WaTLOSTr0KHkPfAArevWUXHvvfv9e41VkWlxH2bLOFR27NiB0WgkKyuLTZv2jJs1e/Zs7r//fkz79GW9/fbbefnll7nooot4++2393tdiJ7MW1lJ6S23Yunfn9z77o2amxkknXUmrut+Se2fn8Vgiyf7jtvD3s+8p4nZFnd1dTXXXXcd119//X5/gadOnUp9fT1ff/31fu977LHHSEpK4pprrpH//UXU0F4vpTfdTMDlIv/JJzAkHP0of+GU+ZvfkHblz6l/6SV2X3ttzF+gE1PB3dra2tEd8PTTT2fq1KnMmTPngOvOnj2bkpKS/ZYrpXjhhRcoLy/n9ttvD3XJQnSLqgWP0PrVV+Ted29U3vdRGQxkz5pF7vz5tK79kqKfXoz7u+8iXVbEHHJY1yMhw7oK0XM0ffAhpTfeSOrll5Nz9+xIl3PUWv73P0p+8xt0cwt5Dz9E4mmnRbqkbtHdw7oKIaKUe+fO4Gh/Y8aQffttkS6nW8Qfeyz9X38dy8CBlMy8nupnnom5w5YS3EL0Utrno/Smm1EWC30efwzVi7rSmbOz6ffSiySdO52aJ/9I6W9vIhBDvb0kuIXopRr+/nfcmzeTM3cu5tzcSJfT7QxWK3l/+ANZt92GY9kyii77Gd7S0kiXFRYS3EL0Qv6mJqqfeJL4E04gcer+F5P1Fkop0q/5BX3//Ce8paXsvPAiWtasiXRZISfBLUQvVPOnP+NvbCR71p1R01/7aNhPOYXCV1/FmJzMrqt/Qfk999D6zYawHPv2VlbS8NZblN1xB7tnzAj5/iBSF+AIIULGU1RE3csvk/yTC7DGUC+nuAH9KXztVSofeJDGN96kYclS4gYPJvn880k+dzqmjIxu2Y+/qYmW1atp/mIlzV98gWfHDgCMaWkkTJiA9vtDPmhXTLW424d1HTVqFNOnT6ehoQEIDuk6bdq0vda96qqreP311wF49913OfbYYxkzZgwjRozg2WefDXvtQnRV5YIFGMxmsm68MdKlhJ0xKYm8B+Yz+NP/kDN3LireRtVDD/HdpMkU/3omjn//G+3xHNY2A83NNK9cRdVjj7Pz4ovZOn4CJdffQMMbb2DO70PWHXfQ/603GfzZp/R5ZEFYRlqMqRZ3+7CuAFdeeSVPP/00s2cfvF+r1+tlxowZrF69mvz8fNxuN0VFRWGoVojD17xyJc5/f0TmTTdhiuGbdhuTkki95GJSL7kY97ZtNLz5Jo3//CfOjz/GmJZG8vRpJF9wAebcXLwVFfgqK4PTikq8lcGpr7ICb0UlAYejbaNGbMccQ8Z115EwYTy2MWMi1lMnpoK7swkTJrC+C+P8OhwOfD4f6enpAMTFxTF06NBDvEuI8NN+P5UPPIg5L4+0q66MdDk9RtygQWTfdhtZN92E89NPaXzjTeoWL6HuhRf3X1kpjBnpmHNysRQWEn/ieMw52VgGDiT+Bz/AaLeH/wMcQESC+w+r/8Dmus3dus1hacO444Q7urSu3+/no48+4pprrjnkumlpaZx77rn069eP0047jWnTpnHppZdiMMTUUSYRBRreeAP3li30eexRDHFxkS6nx1EmE4mTJ5M4eTK++noc779PoNWFOScbU04O5uxsTJmZUdHfPaZa3O1jlRQVFXH88cd3jLn9fWfd25c/99xzfPPNN/z73/9mwYIFLFu2jL/97W/hKluIQ/I7nVQ//gS2444j8ayzIl1Oj2dKTSX10ksjXcYRi0hwd7Vl3N3aj3E3NjYybdo0nn76aX7zm9+Qnp5O/T6jjdXV1ZHR6Sz06NGjGT16NFdccQX9+/eX4BY9Su2zz+KvrSX7z3+Kie5/sS4mv+8nJyfz5JNPsmDBArxeL4MHD6asrKxjTO5du3bx9ddfM3bsWJxOZ8cNgwHWrVtHv379IlS5EPvzlJRQ97cXSD7vPGyjR0e6HBEGXWpxK6WKAAfgB3xdHcGqJ2vv3rd06VKuuOIKXn75Za6++mpcLhdms5nnnnuO5ORkHA4HDz30EL/85S+x2WwkJCRIa1v0KFUPLwCTicybb4p0KSJMDudQyWStdU3IKgkDp9O51/N33nmnY/6kk05i5cqV+70nMTGR9957L+S1CXEkWtaswfHBB2TccD3m7OxIlyPCJCYPlQjRG+hAgMoHHsSUk0P6L34R6XJEGHU1uDXwoVLqS6VUeC7GF0IcVONbb+PauJGsW27GYLNFuhwRRl09VHKS1rpMKZUFLFNKbdZa/6fzCm2BPgOgoKCgm8sUQnQWaG6m6rFHsY45hqRzzol0OSLMutTi1lqXtU2rgDeBEw6wzkKt9Tit9bjMGL7UVohwqHnuOfzVNeTMmoWSi8FiziF/40qpBKVUYvs8MBXYEOrChBAH1vjPf1L33PMknXMOtrFjI12OiICuHCrJBt5s69RvAhZrrd8PaVVCiP1on4+qhxdQ98ILxI8bR3YvuPGvODKHDG6t9Q5gTBhqCamioiKmTZvGhg17vizMnTsXu93OxIkTufHGG3G73bjdbi6++GLmzp3bsd55551HVVUVX3zxRQQqFwJ89fWU3nQzLStXknr55WTfcTvKbI50WSJCYmqsku9z5ZVX8tprrzFmzBj8fj9btmzpeK2hoYGvvvoKu93Ozp076d+/fwQrFbHItWkTJTOvx1dTQ+78+aRccH6kSxIRJmc1gKqqKnLbbqZqNBoZMWJEx2v/+Mc/mD59OpdccglLly6NVIkiRjW++y+KLr0M7ffT75WXJbQFEKEWd8X8+bg3de+wrnHDh5Fz111H9N6bbrqJoUOHMmnSJM466yyuvPJKrFYrAEuWLGHOnDlkZ2dz4YUXMmvWrO4sW4gD0j4fVY8+Rt2iRdiOP578Jx7vtltviegXMy3ugw3d+vvf/561a9cydepUFi9ezFltw2JWVlaybds2Jk6cyJAhQzCZTHsdIxciFPwNDRTP+CV1ixaRetml9PvrIgltsZeItLiPtGV8NL5v6Nb2Y9YDBw7kV7/6Fddeey2ZmZnU1tby6quvUl9f37FOU1MTS5cuZd68eWGvX8QG15YtwePZlZXkzruPlAsvjHRJogeKmRa33W4nNzeXjz76CAiG9vvvv8/EiRP517/+hdYagO+++w6j0UhKSgpLlizh/fffp6ioiKKiIr788ks5zi1CQgcC1C1eTNEll6I9Hvq99KKEtvheMdWr5MUXX2TmzJnccsstAMyZM4eBAwcye/ZsbrrpJuLj4zGZTLzyyisUFxeze/duxo8f3/H+/v37k5SUxKpVqzjxxBMj9TFEL+MpKaH8rtm0rF5NwkknkfvAfMxZWZEuS/RgMRXcI0aMYPny5fst/75WdGlp6X7Lvvrqq26vS8QmHQhQv2QJVY88ijIYyJ13H8k/+YncwUYcUkwFtxA9hae4mPLZdwdb2RMnknvfvZjbuqQKcSgS3EKEkbSyRXeQ4BYiTDzFxcFj2WvWSCtbHJWwBrfWute2LNp7pQixLx0IUL94CVWPPIIyGsm9fx7JF1zQa/8tiNALW3BbrVZqa2tJT0/vdX9htdbU1tZ2XG0pRDutNZXz5lG/eAkJJ59M7r33SCtbHLWwBXd+fj4lJSVUV1eHa5dhZbVayc/Pj3QZooepfvQx6hcvIe2aX5B16629rtEiIiNswW02m2VkPRFTap5dSO1f/kLKJRdLaItuFTNXTgoRTnWvvEL1Y4+RNH06Ob//vYS26FYS3EJ0s4Y336LyvnnYTzuNvPn3yz0hRbeTv1FCdKOmDz+kfPZs4ieMp8+jj8hdakRISHAL0U2cn35G6S23YjvmGPo+9RSGuLhIlyR6KQluIbpBy5dfUnLDDcQNGkTfhc9iSEiIdEmiF5PgFuIotW74luJfXoc5N5eC5/6CMSkp0iWJXk6CW4ij4N62jeL/9/8wJiVRsOh5TOnpkS5JxAAJbiGOkKekhN1X/wLMJgr+ukiuiBRh0+XgVkoZlVL/U0q9G8qChIgGAY+H0t/cSMDtpuD557H06xfpkkQMOZwrJ28ENgFyAE/EvKoFC3Bt3Ej+M09jHTIk0uWIGNOlFrdSKh84B3gutOUI0fM5Pv6Y+hdfIvWKK0icMiXS5YgY1NVDJY8DtwOB71tBKTVDKbVWKbW2tw4kJYS3vJzyWXdhHTGCrNtujXQ5IkYdMriVUtOAKq31lwdbT2u9UGs9Tms9LjMzs9sKFKKn0D4fpbfcivZ66fPoIxgslkiXJGJUV45xnwScq5Q6G7ACSUqpl7XWl4e2NCF6luqnnqL1q6/Ie/hhLIWFkS5HxLBDtri11rO01vla60LgEuBjCW0Ra5r/+19qn11I8k8uIHn6tEiXI2Kc9OMW4hB8NTWU3n4HlgEDyJk9O9LlCHF4N1LQWq8AVoSkEiF6IB0IUHbHnQQcDgoWPY8hPj7SJQkhLW4hDqb2uedp/vxzsu+6S/prix5DgluI79Hy1f+ofuIJEn90Fik/vSjS5QjRQYJbiAPwNzRQeustmPPyyL33Xrn1mOhRwnazYCGihdaasrvvxlddQ+HiVzAmJka6JCH2Ii1uIfZRv2QJzn9/RNbNN2MbPTrS5QixHwluITrxlpdTveAREk46ibSrrox0OUIckAS3EJ1U3H8/OhAg5565clxb9FgS3EK0cXz0Ec5/f0TGzF9jyc+PdDlCfC8JbiEAv7OZivvmETd4MOlXXRXpcoQ4KOlVIgRQ88c/4quooM9jj6LM5kiXI8RBSYtbxDzXxo3UvfQSKZdcTPyxx0a6HCEOSYJbxDTt91P++zkY09LIuvnmSJcjRJfIoRIR0+oXL8G1YQN5jyzAmCS3UxXRQVrcImZ5KyupfvxxEiZOJOnssyNdjhBdJsEtYlbl/fPRPh85c34vfbZFVJHgFjHJ8fFyHB9+SMbMmVj69o10OUIcFgluEXMCLS1UzLsv2Gf76qsiXY4Qh01OToqYU/3U0/jKyumzeLH02RZRSVrcIqa4Nm2i7oUXSPnpT4k/Tvpsi+gkwS1ihvb7KZ8zF2NKClm3SJ9tEb3kUImIGfVLl+Jav568BQswJidHuhwhjpi0uEVMaF2/nqo/PBTss32O9NkW0e2Qwa2UsiqlViulvlZKfauUuicchQnRXbwVFRTPnIkpK4u8hx+SPtsi6nXlUIkbmKK1diqlzMBnSqn/01qvDHFtQhy1QGsrJTOvR7e00nfRIkypqZEuSYijdsjg1lprwNn21Nz20KEsSojuoLWmbNZduDZuJP9PzxA3eHCkSxKiW3TpGLdSyqiUWgdUAcu01qtCW5YQR6/m6WdwvP8+WbfeSuKkSZEuR4hu06Xg1lr7tdZjgXzgBKXUqH3XUUrNUEqtVUqtra6u7u46hTgsTe+/T81TT5F8/vmk/eLqSJcjRLc6rF4lWusGYAVw1gFeW6i1Hqe1HpeZmdlN5Qlx+Fo3fEvZnbOwHXec3PRX9Epd6VWSqZRKaZu3AacDm0NdmBBHwltVRcnMmRjTUsn/45MYLJZIlyREt+tKr5Jc4AWllJFg0L+mtX43tGUJcfgCLhcl19+A3+GgcMliTOnpkS5JiJDoSq+S9YAM6iB6NK015Xf/Dtc335D/1B+xDh0a6ZKECBm5clL0CrXPLqTp3XfJ/O1vSTzttEiXI0RIyVglIqpprXH83/9R/fjjJE2fTvqMayNdkhAhJ8Etoo72eGheswbn8hU4ly/HW1qKdcwx5M67T3qQiJgQM8GttUZ7PAQcDgJOJ36Hk4DTgd/pJOBwYkxLxX7qqd32D9/vcGBISEAZ5GhUd/DV19P86ac4Pl5O82efEXA6UXFxJPzwh6T/cgZJZ5+DIS4u0mUKERa9Mri9VVU4V6zAueIT3Nu2EXAEAxqv96DvSzzjdHLuvfeoxrMINDdT+fDDNCx9FUNiItaRI7GNHoV15Chso0dhysuTVmEXeXbtwvHvj3AuX07LV19BIIAxM4OkH52FffIUEiaMx2CzRbpMIcKuVwS31hr3pk04li/HuXwFrg0bADDn5WEbOxZDchJGeyIGux1Doh2j3Y7Bnogx0d62LBHHh8uofuwxdp57HrkPPoD9pJMOu46WNWsom3UX3tJSUi65GADXNxuo/dsLHf9pGNPSsI4aiW3UaKyj2sJcLljai7eqiuonnqDxjTdBa+KGDSP9lzNInDIF68iR8i1GxDwVHEOqe40bN06vXbu227fbWcDtpmXlymBYr/gEX0UFKIXtmGOwT56MffJk4oYMPqzWrWvTJkpvvQ3P9u2kXXklmTff1KWv3wGXi+rHn6DuhRcw5+eT9+ADxB9//J7XPR7cW7bg2rCB1m824NqwAfe2bRAIAGDp14/4CeNJGD+B+BNPiNkR7AIuF3V/e4GahQvRXi9pl19O2uU/w9ynT6RLEyLklFJfaq3HdWndnh7cfqcT7+7deIpL8BbvxrO7GE/xblrXfY1ubUXZbCSc9EMSJ0/GfuqpmDIyjmp/AZeLqocXUP/KK8QNGULegoexDhnyveu3fvMNZXfOwrN9O6mXXUrWLbdgSEg49H5aWnBt3kzr1+tpWbWKltWrCbS0gFJYhw/fE+THH4chPv6oPlNPp7Wm6b33qHrkEXxl5SSecTpZt96KpV+/SJcmRNhEZXBrv5/Gt97GU7wbb3EJnuJivMXF+Ovr91rPmJKCuaAA68gRJE6eTPyJJ4bkpJTzk08ou2s2AYeDrFtvJfWKy/dqvWuPh5o//5maZxdiyswkd9487BMP//BKx/a8Xlq/2UDzyi9o+WIlLevWBQ+vmM3EjxlD/A8nkDB+PLZRo1C96DLu1q+/pvKBB2ldt4644cPJvvNOEk48IdJlCRF20RncWrN13A8ItLZizsvD3DcfS9+CjqmloC/mvn0xJiZ2e73fx1dbS/lds3F+8gkJJ59M3vz7MWVm4tqylbJZd+LeuInkH/+Y7LtmYUxK6tZ9B1paaPnyq44gd23aBFqjbDbijz2W+BNOIP7EE4JBbjZ3677DwVteTtWjj9H0zjsYMzLIuum3JP/4xyijMdKlCRERURncEPzHbMrI6FFBpLWmYelSKv/wEAabjaRp02hYuhRDUhK5994Ttqv0fPX1tKxdS8uq1bSsXo1761YAVHw88ccdR/wJJ5Bw4gnBk3emnnnO2e9w4N66Fed/PqXuhRcgECDt6qtJv/ZajPZDH14SojeL2uDuydzbt1N62224N24i8cwzyZk7J6InEX11dbSsXkPL6tU0r16FZ9t2AAzx8djGjsE6ctSeXiu5uUfcBTHgcuFvbMKQkIAh3talHh06EMBbUoJr82bcm7fg2rIF9+bNeEtLO9ZJOvtHZN58C5Z8OfEoBEhwh4z2eHBv307csGE9ri+2r6aGljVraF61itb163Fv/Q58PqBzF8RgmFtHjcKclQUEv1H46+rw7N6Nt6QkOO10jsFXVbVnJ0oFAzwxEaM9AUNCsCulwZ6A0W4HZcD93Xe4t2wJnmgFMBiw9OtH3LChWIcOC06HD8ecnR3uH5EQPZoEtyDgduPesoXWDRtwbfgW1zff4N6+vaMLoikrC2NKCt6Skj0h28aUnY2lb/CcgqWgL8bUNAItLXuuNHU2B69AbW6/AjX40D4floED9gT00KHEDR4sF8kI0QWHE9w982CoOGqGuDhsxxyD7ZhjOpa1d0Fs708ecDqJH38ilvy+mAv6BsM6P18uHReih5PgjiGG9hOZxx0X6VKEEEdBrh0WQogoI8EthBBRRoJbCCGijAS3EEJEGQluIYSIMhLcQggRZSS4hRAiyhwyuJVSfZVSy5VSm5RS3yqlbgxHYUIIIQ6sKy1uH3CL1no4MB6YqZQaEdqyhBBqKESWAAAUnUlEQVQiuuysaebd9WVh2dchr5zUWpcD5W3zDqXUJqAPsDHEtQkhRI+mteaL7bU8/9lOPt5SRZLVzOnDs7GaQzuu/GFd8q6UKgSOBVYd4LUZwAyAgoKCbihNCCF6JpfXzz+/LmPRZzvZXOEgPcHCDVMGc/n4gpCHNhxGcCul7MA/gN9qrZv2fV1rvRBYCMHRAbutQiGE6CGqHW5eXrmLV1btosbpYVhOIg/95BjOHZsXlsBu16XgVkqZCYb2K1rrN0JbkhBC9Cwby5pY9PlO/rmuDI8/wGnDsrhmYn8mDEyPyNj8hwxuFazqeWCT1vrR0JckhBCR5/MH+PemSv723yJW7qjDZjZyyQl9ueqHhQzItEe0tq60uE8CrgC+UUqta1t2l9b6vdCVJYQQkVHjdPPqmmJeXrmL8kYXfVJs3PmjYVz6gwKS43vG/XC70qvkM6Bn3adLCCG62briBl78bxHvri/H4w9w8uAM7j1vFFOGZWE09KwIlBspCCFilsvr51/ry3nxiyK+LmnEHmfishMLuHx8PwZlRfZwyMFIcAshYk5xXQtLVu/m1TXF1DZ7GJRl577zRnL+cfnY43p+LPb8CoUQohv4A5oVW6p4eeUuVmytRgGnDc/mqh8W8sMI9Q45UhLcQoherarJxatrilmyejdljS6yEuO4YcpgLvlBX/JSbJEu74hIcAsheh2tNf/dXssrq3bx4beV+AKaiYMy+P30EZw2PBuzMboHRpXgFkL0Gs1uH0vXFPPKyl3sqGkmJd7M1ScVctmJ/eifkRDp8rqNBLcQIuo1uby8+N8inv9sJ/UtXo4rSOHRn47h7NG5Yb0UPVwkuIUQUauhxcOiz3by1/8W4XD5mDIsi5mTB3F8v9RIlxZSEtxCiKhT43Tzl0938PIXu2j2+DlrZA7XTxnEqD7JkS4tLCS4hRBRo6LRxcL/7GDx6l14fAGmHZPHzMmDGJqTGOnSwkqCWwjR45U2tPKnFdt4bU0Jfq05/9g+/HrSwIgP9hQpEtxCiB6ruK6FZ1Zs4/UvSwC4aFxffnXqQPqmxUe4ssiS4BZC9Di7apt5evk23viqFINSXHpCAdedOjBqL5jpbhLcQogeY2dNM099vI231pViMiguH9+P604dSE6yNdKl9SgS3EKIiNtW5eTp5dt4e10pFpOBq35YyC9PGUBWkgT2gUhwCyEiZn1JA899upN31pdhNRm5ZmJ/ZpwykMzEuEiX1qNJcAshwsrl9fPu+nJeWrmLr4sbiLcYmXHKAK49eQAZdgnsrpDgFkKERXFdCy+v2sVra4qpb/EyMDOBudNHcMHx+SRZe8YtwaKFBLcQImQCAc1/vqvmpS928fGWKgxKccbwbK6Y0C/qxsDuSSS4hRDdrrHFy2tri3l51S521baQYY/j+smDuOzEAnKTpUvf0ZLgFkJ0m501zfz18528/mUJLR4/PyhM5eYzhvCjUblYTNE9BnZPIsEthDgqWmu+2FHLos928tHmKswGA9PH5PGLiYWMzIuNQZ/C7ZDBrZRaBEwDqrTWo0JfkhAiGrh9ft75upxFn+1kY3kTaQkWbpg8iMsn9CMrUfpfh1JXWtx/A54CXgxtKUKIaFDrdPPKqt28tHIX1Q43Q7LtPHjBaH58bJ9eedOCnuiQwa21/o9SqjD0pQgheqJAQPNdlZMvttfwxY5aVmypxu0LcOqQTK65qD8nD86Q3iFhJse4hRB70VqzrcrJFztqWbmjlpU76qhr9gDQJ8XGRePyuXJCIYOzY2sM7J6k24JbKTUDmAFQUFDQXZsVQoRBWUMrH2+u4osdtazaUUuNMxjUeclWJg3NZMKAdMYPSI/54VR7im4Lbq31QmAhwLhx43R3bVcIETrt413/fW0JvoAmJ8nKyYM7B7VNDoP0QHKoRIgYtLu2haeXb+MfX5VgUIrLTizgqh8W0j8jQYI6CnSlO+ASYBKQoZQqAeZorZ8PdWFCiO63qzY43vUb/yvFKONdR62u9Cq5NByFCCFCp6immaeWb+PN/wVvUHDF+H78atJAsmW866gkh0qE6MW2VTl5ZsU23l5XhsmguHJCIdedKjcoiHYS3EL0MsV1Lby7vpx/fVPGhtImrOa2O8qcOkCuaOwlJLiF6AVKG1p5b305764v4+uSRgDG9E3h7nOGc97YPnJHmV5GgluIKFXR6OK9b4Jh/dXuBgBG90nmzh8N45zRudLnuheT4BYiiuyqbWbZxko++LaCtbvq0RqG5yZx25lDOWd0LoUZCZEuUYSBBLcQPZjWmg2lTXy4sYIPv61kS6UDgGE5idx0+hDOOSaXgZn2CFcpwk2CW4gexusPsGpHHR9urGDZxkrKG10YFJzQP43fTRvB1BHZchgkxCqaK1hTsYa1lWtZW7EWk8HElIIpnN7vdEakjYj4RUpK6+6/On3cuHF67dq13b5dIXqr8sZWPt9Wy6ffVfPx5iocLh9Ws4FTBmcydWQOU4ZlkZZgiXSZvVa5s5y1lWtZU7GGNRVrKHGWAJBoSeT47ONp9baytnItfu2nj70PpxWcxhn9zuCYzGMwqO65s49S6kut9biurCstbiEioMnlZeX2Wj7fVsNn22rYXt0MQHqChbNG5jB1ZA4TB2Vgs8j41qHg9Dj5pOQTVpavZE3FGkqdpQAkWZIYlz2Onw3/GeNyxjE4ZTBGQ/B3UO+qZ0XxCpbtWsbizYt5ceOLZNoymVIwhTP6ncHx2cdjMoQnUqXFLUQYuH1+vtrV0BHU60saCGiwmY2cOCCNiYMyOGlQBkOzEzEYZKyQUHB4HKwoXsGHRR/yednneANeUuJSOD77eH6Q8wPGZY9jcOrgLrWgHR4Hn5R8wke7PuKz0s9w+V2kxKUwue9kfjfhd5gN5sOuT1rcQkSI1ppqh5stlQ62VDjYWulgS6WTLRVNuLwBjAbFmPxkrp88iJMGZXBsQarcRDeEmjxNHWH937L/4g14yY7P5uKhF3Nm4ZlHfKgj0ZLItAHTmDZgGi3eFj4v+5xlu5ZR7Cg+otA+XNLiFuIINbZ6g8HcHtBt0/oWb8c6GfY4hubYGZaTxIQB6Zw4II1Ea+j/YceyRndjMKx3BcPaF/CRk5DDGf3OYGq/qd16XHpfWusjPnEpLW4hupHHF2BHjZMtFQ42VzjYXN7ElgoHZY2ujnXscSaGZNs5a1QOQ7MTGZKTyNDsRNLtcsViqAR0gFJnKVvrtrK1fitb6rewpW5Lx4nF3IRcLht2GVMLpzI6Y3TIwrqzcPU2keAWguAx6KomN1UOF5VNbopqm9lSEWxFb6924vUHv5maDIqBmXbGFaYxLDcYzkNzEumTIjccCBWtNbWuWkocJWytbwvpui181/Adzd7gSV2FoiCpgOHpw/nxoB8zIW8CozNG99rfiQS36PU8vgC761ooqmmmrLGVyiYXVU1uKh1uqppcVDa59jq80S4v2crQnEQmDc1ieG4woAdk2OWYdDdrD+ZSZyllzrKOaft8eXM5br+7Y3272c6Q1CFMHzCdoWlDGZI6hEEpg4g3x07fdglu0St4/QGK61ooqm1mZ00Lu2qb2VnTTFFtM6X1rQQ6ncoxGhSZ9jiyk+LomxbPuMJUshOtZCdZyUqKIzvJSl6KjWSbHIvubs3eZrbWb2Vz3Wa21G1hc91mtjdsx+V37bVeSlwKefY8BqcO5tT8U8mz59HH3odBqYPIS8jrtS3prpLgFlHF5fWzvdrJtionWysdbK0Mzu+ua8HfKZ0TrSb6ZyRwbN9Uzj82n8L0eAozEshPtZGeEIdRutyFlNaaypbKjpBuD+rdjt0d6yTHJTMsdRgXDrmQvol96WPvQ549jzx7HglmGXPlYCS4RY8SCGgcbh9NrV4aWrzsqHHyXWUwpL+rcrKrtrmj9WwyKAozEhiem8i0Y3Lpl55A/4x4CtMTSEuwxHyrLJRcPhcVzRWUN5d3TNsfFc0VVDRX7HV4o29iX4alDePcgecyLG0YQ9OGkh2fLb+jIyTBLUJKa01Di5fShlZKG1opa2ilvNFFQ4uHplYfja1emlze4LTVi8PtY98eqkaDojA9nmE5iUwfk8eQbDtDshMpTE+Q481HyRfwUeeqo7qlmnp3PU6PkyZPEw6PA6fXicPjoMnThNMTnHd4HNS766lz1e21HYUi05ZJjj2HYWnDmNx3Mnn2PIamBo9B2y0yEFZ3kuAWh8XjC9Di8dHs8dPi3nva2OqlvKGVssZWSuqDIV3W4KLV699rG3EmA6nxFpJtZpJsJnKSrAzNTiTJZg4+rKa218wUpifQP0MC+nBprWlwN1DeXE5VSxVVLVVUt1ZT3VK917TOVUdABw64DZMykWhJxG6xk2hJJNGSSIYtg2Otx5KbkEtuQi45CTnkJuSSHZ+N2SjnBMJFgjsGaK1xuttat22t3MZWLw6Xl+a20HW6fTS7fR3TZveeZS0eP80eHy1uPx7/gf+Rd5Zht9AnxcaQ7GCPjD4pNvJSbPRJsdEn1UZqvFm+Ih8lt99NZXPlfocoyp175vc94adQpFnTyIzPJNOWyfD04WTaMsmKzyLDlkGaNa0joO1mOzaTdHHsqSS4o0h7ADe0eKlr9lDf0vZo9u4139C692GIplbvXr0qDsRsVCTEmUiwmLDHmUiIM5JoNZGbbCXeYsIeZyQ+zkSCxdj23ER8nJEEi4l4i5GEuOCynGQrVrMMjNRVXr+XRk8jTe4mmjxNNLobaXA37D/1NO61rNXXut+2MmwZ5CbkMjh1MKfkn9LRKs5OyCbDlkG6LT0sl2OL0JPg7kZaa1q9/rbWrA+vP4A/oPEFND6/xhfY+7k/EMDr1x0t3SaXD4fLi9Plw+Hy4XAHt+N0BV9rbPV0XAiyL4OClHgLKfFmUmxmMuwWBmYmkGQzBw87WM0dhybalyXGmbFbgyEdZ5KwPVJaa1p9rR3B2+hupNGzJ2Sb3E0dwdu+Tvv0QAHczqAMJFuSSY4LPrLjsxmSOoTkuGRS4lLIis8iNyGXvIQ8shOysRhl2NdY0aXgVkqdBTwBGIHntNYPhrSqbtLQ4sHp9uH1a3z+AB5/AJ9f4/UHA9PrD+ALBPD4gqHa+TVfW6j6/AF8gbZ1/RqPP4DD5d2vRdvkCvaE8B2qaXsI9jgTidb2h5nUeAsFafEkWs2kxJtJjQ8uS423kJpgITXeTFqChSSrWUaV20dAB3D73bT6WnH5XLh8Llr9rbh9blx+F26fG7d/z7zL7wo+97nw+D0dz9tf61jWad1WXyuN7ka8gf0v4GlnNpg7wjbJkkSePY/hluEkxSWRbEnumCbHJZNkSQquF5dEoiUxLJdpi+hzyOBWShmBp4EzgBJgjVLqn1rrjaEu7oi1dUuY9Y/1vP9tOQDtkabQ+0z3LG9ftu96qn2qwGJUJFnNJFpNJFnN5NlMDEsxk2izkdQWtsGHEbPRgFEpTEYDJoPCaACTCk6NBgNGg8JsVNgsJuxWE3aLEcNhHVPUgDf4aO95daBBwzqW6f2f7zffeZ3vm993W/u+dqBS97zm137cfg8tfjetfhcuv5tWX6f5tuWtfk9bsAYDNvjwBB+BttcCXjx+D60BDy6/J/j+9vmA52A/vO+lUFgNZuKMFuIMZqyGtqnRjMVgJtlgJtuUSJwlDZsxjmRTAsnmzg87SeYEkk12ki12rIa44LFi7QcdgEDbtON5AHx+8DaBbgB2d1QSnKgDP9e6bTuB4O+gfV4H2l5rW9bxHhWcdp7vWGbYe3sd2/Dvs6xt+YG2caBpR126U51675ohuP+DPtpq3G8fHGT/+/9m96cP8nPsVDv7zn/P1GSDMRd37S/aUehKi/sEYJvWegeAUmopcB7Q7cF95qKRuPZb2rUWrOq0WucwHjB4z7KOh943sMGs4e3S8q4V6gOcbY8DqDcYWGWz4gU8nT6B7vRoL0qjaPvrQgDwK9UxH1AQaHs9oMDfNu9vWx6c7j3vR7W9L7hcK/C3bd+v2rYFBNr20/5aQHWqo/N+Aa3AoINftwxoDBoMtD207pgH8CiFSyk8ClzKgFupvR4ug8J7BCe8TFoT1/kR0Fi1xqKD00ytsQYC2Nqe2wK6bT6AtW3ets9743Sgbdr2PBCcN3Pgf+JCHFJCVo8J7j5AcafnJcCJ+66klJoBzAAoKCg4omImJw3GF2jrOqY6/ti/xdE23xGInRbr/aY6+B9n23rtw9juCVGNBgwoGHbtPvvcZ/6AdeyvqLWC20rePuTnPVoGFAYURtU+NXQ8V52m7a8paJsqjCiUAgOGPeu1bWfPvKHjG0AAjUdrAmgC7dO2eX/bT1FriDOYsCgTVoOJRIOZOIMJqzJhMZiCrVhlIs5gwmawYDOYsRrMHfN7HhasBjNWgwmbMQ6L0YTJYO7U4jpQa6yrLawDOdC3lM5v77SdA/4dONC3j7Y/On9DUUYwtNdsDE4Nxj3PDZ1alAf7ltRRn2Kv1mj7Y6+fUafW+V4txH1ajzrw/S3djho7bb9LLdD2n1enOtmn5o6f476t/X1bvW3fVL7vm+G+0wP9Pg+4UB3457jfz/Ag31Y6Tw3hOVfUleD+nu8X+yzQeiGwEILjcR9JMXde+NaRvK3HGeZr5S3n1QAoVPD32vZjVChUW1B2fm5URpRSGJRhzwMDBkPbtG2ZURk75qWrlhCxqSvBXQL07fQ8HygLTTm9g81kY2DKwEiXIYTopbpyynoNMFgp1V8pZQEuAf4Z2rKEEEJ8n0O2uLXWPqXU9cAHBM9PLdJafxvyyoQQQhxQl/pxa63fA94LcS1CCCG6QHr3CyFElJHgFkKIKCPBLYQQUUaCWwghoozS+oiulTn4RpWqBnYd4dszgJpuLCeSestn6S2fA+Sz9ES95XPA0X2WflrrzK6sGJLgPhpKqbVa63GRrqM79JbP0ls+B8hn6Yl6y+eA8H0WOVQihBBRRoJbCCGiTE8M7oWRLqAb9ZbP0ls+B8hn6Yl6y+eAMH2WHneMWwghxMH1xBa3EEKIg5DgFkKIKCPBLYQQUUaCWwghoowEtxBCRJn/D8xPxslEG4YWAAAAAElFTkSuQmCC\n",
=======
      "image/png": "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\n",
>>>>>>> upstream/master
      "text/plain": [
       "<Figure size 432x288 with 1 Axes>"
      ]
     },
     "metadata": {
      "needs_background": "light"
     },
     "output_type": "display_data"
    }
   ],
   "source": [
    "ts_df['DNK'] = ts_df['DNK'] / rate_dict['DKK']\n",
    "ts_df['USA'] = ts_df['USA'] / rate_dict['USD']\n",
    "ts_df['CHN'] = ts_df['CHN'] / rate_dict['CNY']\n",
    "ts_df['RUS'] = ts_df['RUS'] / rate_dict['RUB']\n",
    "ts_df.plot()"
   ]
  },
  {
   "cell_type": "markdown",
   "metadata": {
    "slideshow": {
     "slide_type": "subslide"
    }
   },
   "source": [
    "**OBS!!!** Be careful, the graph above is still not really well suited for comparison as currency exchange rates are not fix. However, the code above normalizes just relying on the most current exchange rate from the European Central Bank. See the exercise block in the bottom for how to fix that isuue!"
   ]
  },
  {
   "cell_type": "markdown",
   "metadata": {
    "slideshow": {
     "slide_type": "subslide"
    }
   },
   "source": [
<<<<<<< HEAD
=======
    "\n",
    "## Exercises for the Interested\n",
    "\n",
    "Complete the comparison of military expenditures by converting all currencies to USD. Since we have yearly expenditures, use for example the yearly median for normalization. Likely, you will find an API to collect historical echange rates at Yahoo Finance.\n",
    "\n",
    "[https://finance.yahoo.com/quote/USDRUB%3DX](https://finance.yahoo.com/quote/USDRUB%3DX)\n",
    "\n",
    "\n",
    "\n"
   ]
  },
  {
   "cell_type": "markdown",
   "metadata": {},
   "source": [
>>>>>>> upstream/master
    "## PS\n",
    "\n",
    "In case you have to sort the data in your `DataFrames` see the methods `sort_index` and `sort_values`.\n",
    "\n",
    "\n",
    "```python\n",
    "df.sort_index(axis=1, ascending=True)\n",
    "df.sort_values(by='Country Code')\n",
    "```"
   ]
  },
  {
   "cell_type": "code",
<<<<<<< HEAD
   "execution_count": 41,
   "metadata": {
    "slideshow": {
     "slide_type": "fragment"
    }
   },
=======
   "execution_count": 67,
   "metadata": {},
>>>>>>> upstream/master
   "outputs": [],
   "source": [
    "df.sort_index?"
   ]
  },
  {
   "cell_type": "code",
<<<<<<< HEAD
   "execution_count": null,
   "metadata": {
    "slideshow": {
     "slide_type": "fragment"
    }
   },
=======
   "execution_count": 68,
   "metadata": {},
>>>>>>> upstream/master
   "outputs": [],
   "source": [
    "df.sort_values?"
   ]
  },
  {
   "cell_type": "markdown",
   "metadata": {
    "slideshow": {
     "slide_type": "subslide"
    }
   },
   "source": [
    "## XKCD plotting with Python\n",
    "\n",
    "https://matplotlib.org/examples/showcase/xkcd.html"
   ]
  }
 ],
 "metadata": {
  "celltoolbar": "Slideshow",
  "kernelspec": {
   "display_name": "Python 3",
   "language": "python",
   "name": "python3"
<<<<<<< HEAD
=======
  },
  "language_info": {
   "codemirror_mode": {
    "name": "ipython",
    "version": 3
   },
   "file_extension": ".py",
   "mimetype": "text/x-python",
   "name": "python",
   "nbconvert_exporter": "python",
   "pygments_lexer": "ipython3",
   "version": "3.6.7"
>>>>>>> upstream/master
  }
 },
 "nbformat": 4,
 "nbformat_minor": 2
}
