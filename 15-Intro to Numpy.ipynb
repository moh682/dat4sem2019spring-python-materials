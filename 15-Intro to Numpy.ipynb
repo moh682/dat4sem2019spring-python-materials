{
 "cells": [
  {
   "cell_type": "markdown",
   "metadata": {},
   "source": [
    "## TOC\n",
    "- numpy arrays\n",
    "  - np.array()\n",
    "  - np.arange(1,10,2) # like range(1,10,2)\n",
    "  - np.linspace(start, end, num_of_el)\n",
    "  - indexing and slicing\n",
    "- multidimensional arrays\n",
    "  - np.array().shape attribute\n",
    "  - np.array().reshape(array1_len, array2_len)\n",
    "  "
   ]
  },
  {
   "cell_type": "code",
   "execution_count": 129,
   "metadata": {},
   "outputs": [],
   "source": [
    "# the following line is jupyter notebook specific \n",
    "%matplotlib inline"
   ]
  },
  {
   "cell_type": "markdown",
   "metadata": {},
   "source": [
    "The following introduction to NumPy is based on the following article:\n",
    "    http://www.datadependence.com/2016/05/scientific-python-numpy/\n",
    "    \n",
    "For futher details refer to the official quickstart documentation:\n",
    "https://docs.scipy.org/doc/numpy-dev/user/quickstart.html\n",
    "\n",
    "# Initialization of NumPy Arrays\n",
    "\n",
    "You can initialize a one-dimensional NumPy array, for example, by passing a list or a tuple to `np.array`."
   ]
  },
  {
   "cell_type": "code",
   "execution_count": 130,
   "metadata": {},
   "outputs": [
    {
     "name": "stdout",
     "output_type": "stream",
     "text": [
      "[0 1 2 3 4]\n",
      "[0 1 2 3 4]\n"
     ]
    }
   ],
   "source": [
    "import numpy as np\n",
    "\n",
    "\n",
    "a = np.array([0, 1, 2, 3, 4])\n",
    "b = np.array((0, 1, 2, 3, 4))\n",
    "\n",
    "print(a)\n",
    "print(b)"
   ]
  },
  {
   "cell_type": "markdown",
   "metadata": {},
   "source": [
    "Alternatively, you can create a one-dimensional NumPy array with the `np.arange` function, which is similar to its counterpart `range` in the standard library. Read it's documentation with `np.arange?`."
   ]
  },
  {
   "cell_type": "code",
   "execution_count": 131,
   "metadata": {},
   "outputs": [
    {
     "name": "stdout",
     "output_type": "stream",
     "text": [
      "[ 9 12 15 18 21 24 27]\n",
      "[9, 12, 15, 18, 21, 24, 27]\n",
      "[9, 12, 15, 18, 21, 24, 27]\n"
     ]
    }
   ],
   "source": [
    "c = np.arange(9, 30, 3)\n",
    "d = list(range(9, 30, 3))\n",
    "print(c)\n",
    "print(list(c))\n",
    "print(d)"
   ]
  },
  {
   "cell_type": "markdown",
   "metadata": {},
   "source": [
    "Similar to `np.arange`, `np.linspace` creates an array of evenly spaced numbers over a specified interval."
   ]
  },
  {
   "cell_type": "code",
   "execution_count": 132,
   "metadata": {},
   "outputs": [
    {
     "name": "stdout",
     "output_type": "stream",
     "text": [
      "[0.         1.57079633 3.14159265 4.71238898 6.28318531]\n"
     ]
    }
   ],
   "source": [
    "pi_steps = np.linspace(0, 2 * np.pi, 5) # args: start, end, number of elements to produce. returns array of number of elements evenly spaced between start and end.\n",
    "print(pi_steps)"
   ]
  },
  {
   "cell_type": "markdown",
   "metadata": {},
   "source": [
    "## Indexing Elements"
   ]
  },
  {
   "cell_type": "code",
   "execution_count": 133,
   "metadata": {},
   "outputs": [
    {
     "name": "stdout",
     "output_type": "stream",
     "text": [
      "[ 9 12 15 18 21 24 27]\n",
      "9\n",
      "12\n",
      "[15 18 21 24]\n",
      "[12 18 24]\n"
     ]
    }
   ],
   "source": [
    "print(c)\n",
    "print(c[0])  # Get element at index position 0\n",
    "print(c[1])  # Get element at index position 1\n",
    "print(c[2:6])  # Get subarray from index pos. 2 to excluding index pos. 6\n",
    "print(c[1:-1:2])  # Get every second element from subarray"
   ]
  },
  {
   "cell_type": "markdown",
   "metadata": {},
   "source": [
    "# Multi-Dimensional Arrays\n",
    "\n",
    "You can initialize multi-dimensional arrays either explicitely as in the following."
   ]
  },
  {
   "cell_type": "code",
   "execution_count": 134,
   "metadata": {},
   "outputs": [
    {
     "name": "stdout",
     "output_type": "stream",
     "text": [
      "(3, 4)\n",
      "(3, 3, 4)\n"
     ]
    }
   ],
   "source": [
    "two_dim = np.array([[ 0,  1,  2,  3],\n",
    "                    [ 4,  5,  6,  7],\n",
    "                    [ 8,  9, 10, 11]])\n",
    "\n",
    "three_dim = np.array([[[ 0,  1,  2,  3],\n",
    "                       [ 4,  5,  6,  7],\n",
    "                       [ 8,  9, 10, 11]],\n",
    "\n",
    "                      [[12, 13, 14, 15],\n",
    "                       [16, 17, 18, 19],\n",
    "                       [20, 21, 22, 23]],\n",
    "\n",
    "                      [[24, 25, 26, 27],\n",
    "                       [28, 29, 30, 31],\n",
    "                       [32, 33, 34, 35]]])\n",
    "print(two_dim.shape)\n",
    "print(three_dim.shape)"
   ]
  },
  {
   "cell_type": "markdown",
   "metadata": {},
   "source": [
    "Or you create a one-dimensional array, which you `reshape` into the desired form."
   ]
  },
  {
   "cell_type": "code",
   "execution_count": 135,
   "metadata": {},
   "outputs": [
    {
     "name": "stdout",
     "output_type": "stream",
     "text": [
      "[[11 12 13 14 15]\n",
      " [16 17 18 19 20]\n",
      " [21 22 23 24 25]\n",
      " [26 27 28 29 30]\n",
      " [31 32 33 34 35]]\n",
      "13\n",
      "(5, 5)\n"
     ]
    },
    {
     "data": {
      "text/plain": [
       "array([[ 0,  1,  2,  3],\n",
       "       [ 4,  5,  6,  7],\n",
       "       [ 8,  9, 10, 11]])"
      ]
     },
     "execution_count": 135,
     "metadata": {},
     "output_type": "execute_result"
    }
   ],
   "source": [
    "a = np.arange(11, 36).reshape(5, 5)\n",
    "\n",
    "print(a)\n",
    "print(a[0, 2]) # print the 3 value of the first subarray\n",
    "print(a.shape)\n",
    "np.arange(12).reshape(3, 4)"
   ]
  },
  {
   "cell_type": "markdown",
   "metadata": {},
   "source": [
    "When defining shapes the shape coordinates are given in the order '*y*', '*x*' for two-dimensional arrays, '*z*', '*y*', '*x*' for three-dimensional arrays, and so on."
   ]
  },
  {
   "cell_type": "code",
   "execution_count": 136,
   "metadata": {},
   "outputs": [
    {
     "name": "stdout",
     "output_type": "stream",
     "text": [
      "[[[ 0  1  2  3  4]\n",
      "  [ 5  6  7  8  9]\n",
      "  [10 11 12 13 14]]\n",
      "\n",
      " [[15 16 17 18 19]\n",
      "  [20 21 22 23 24]\n",
      "  [25 26 27 28 29]]\n",
      "\n",
      " [[30 31 32 33 34]\n",
      "  [35 36 37 38 39]\n",
      "  [40 41 42 43 44]]\n",
      "\n",
      " [[45 46 47 48 49]\n",
      "  [50 51 52 53 54]\n",
      "  [55 56 57 58 59]]]\n",
      "(4, 3, 5)\n"
     ]
    }
   ],
   "source": [
    "a = np.arange(60).reshape((4,3,5)) # z=4,y=3,x=5 \n",
    "print(a)\n",
    "print(a.shape)"
   ]
  },
  {
   "cell_type": "markdown",
   "metadata": {},
   "source": [
    "## Indexing Elements of Multi-dimensional Arrays\n",
    "\n",
    "  * How does one create a 2D-array as in the following with NumPy?\n",
    "  * How to select the highlighted data?"
   ]
  },
  {
   "cell_type": "markdown",
   "metadata": {},
   "source": [
    "![slicing_img](images/numpy_2D_slicing_diagram_task.png)"
   ]
  },
  {
   "cell_type": "code",
   "execution_count": 137,
   "metadata": {},
   "outputs": [
    {
     "name": "stdout",
     "output_type": "stream",
     "text": [
      "[12 13 14]\n",
      "[16 21 26]\n",
      "[[11 13 15]\n",
      " [21 23 25]\n",
      " [31 33 35]]\n",
      "[12 17 22 27 32]\n"
     ]
    }
   ],
   "source": [
    "a = np.arange(11, 36).reshape(5, 5)\n",
    "# explanation: comma separates the arrays and colon does the positional selection\n",
    "# 2dArray[rows, columns]\n",
    "# double colon: get every n^th value e.g. ::2 menas print every second value and 2::3 means get every third value starting from third pos.\n",
    "print(a[0, 1:4])  # red: get one-dim. subarray of row 0, start:1 (pos=2) end:4 (not included, pos=4)\n",
    "print(a[1:4, 0])  # blue: get one-dim. subarrays (index 1,2,3) of column 0\n",
    "print(a[::2,::2]) # green: get a two-dim. subarray of every second element by row and column\n",
    "print(a[:, 1])    # purple: get the second column"
   ]
  },
  {
   "cell_type": "markdown",
   "metadata": {},
   "source": [
    "### Class exercise: table\n",
    "![](images/numpy_slice_ex.png)\n",
    "- on the above image find the 3 different slicings using only the array slicing notation"
   ]
  },
  {
   "cell_type": "code",
   "execution_count": 138,
   "metadata": {},
   "outputs": [
    {
     "name": "stdout",
     "output_type": "stream",
     "text": [
      "[[10 11 12 13 14]\n",
      " [15 16 17 18 19]\n",
      " [20 21 22 23 24]\n",
      " [25 26 27 28 29]]\n",
      "10\n",
      "[[11 13]\n",
      " [16 18]\n",
      " [21 23]\n",
      " [26 28]]\n",
      "[11 12 13]\n",
      "[14 24]\n"
     ]
    }
   ],
   "source": [
    "import numpy as np\n",
    "a = np.arange(10, 30).reshape(4, 5)\n",
    "print(a) # print everything\n",
    "print(a[0,0]) # print : YELLOW\n",
    "print(a[:,1::2]) # print : LIGHT BLUE\n",
    "print(a[0,1:-1]) # print : RED \n",
    "print(a[::2,4]) # print : DARK BLUE"
   ]
  },
  {
   "cell_type": "markdown",
   "metadata": {},
   "source": [
    "### 3D\n",
    "reshape can be done with multiple dimensions. Here is an example with 3d\n",
    "`a = np.arange(0, 27).reshape((3, 3, 3))`  \n",
    "![](images/cube.png)"
   ]
  },
  {
   "cell_type": "code",
   "execution_count": 139,
   "metadata": {
    "scrolled": true
   },
   "outputs": [
    {
     "name": "stdout",
     "output_type": "stream",
     "text": [
      "[[[ 0  1  2]\n",
      "  [ 3  4  5]\n",
      "  [ 6  7  8]]\n",
      "\n",
      " [[ 9 10 11]\n",
      "  [12 13 14]\n",
      "  [15 16 17]]\n",
      "\n",
      " [[18 19 20]\n",
      "  [21 22 23]\n",
      "  [24 25 26]]]\n",
      "a)\n",
      "[12 13 14]\n",
      "b)\n",
      "[ 3 12 21]\n",
      "c)\n",
      "[2 5 8]\n",
      "--------\n",
      "1st row (x-values): \n",
      " [0 1 2] \n",
      "---------\n",
      "1st collumn (y-values, where x==0): \n",
      " [0 3 6] \n",
      "---------\n",
      "1st depth (z-values, where y==0 and x==0): \n",
      " [ 0  9 18] \n",
      "---------\n",
      "value of first side, second slice, third piece:\n",
      " 5 \n",
      "-------------\n",
      "values of all x*z where y=2\n",
      " [[ 6  7  8]\n",
      " [15 16 17]\n",
      " [24 25 26]] \n",
      "----------\n",
      "all z and y values where x = 2: \n",
      " [[ 2  5  8]\n",
      " [11 14 17]\n",
      " [20 23 26]] \n",
      "--------\n",
      "skip each second z,y,x: \n",
      " [[[ 0  2]\n",
      "  [ 6  8]]\n",
      "\n",
      " [[18 20]\n",
      "  [24 26]]]\n"
     ]
    }
   ],
   "source": [
    "a = np.arange(0, 27).reshape((3, 3, 3)) # = (z, y, x)\n",
    "#print('whole cube: \\n',a, '\\n---------------')\n",
    "\n",
    "print(a)\n",
    "print('a)')\n",
    "print(a[1,1,0::])\n",
    "print('b)')\n",
    "print(a[0:,1,0])\n",
    "print('c)')\n",
    "print(a[0,0:,2])\n",
    "print('--------')\n",
    "print('1st row (x-values): \\n',a[0,0,:],'\\n---------')\n",
    "print('1st collumn (y-values, where x==0): \\n',a[0,:,0],'\\n---------')\n",
    "print('1st depth (z-values, where y==0 and x==0): \\n',a[:,0,0],'\\n---------')\n",
    "print('value of first side, second slice, third piece:\\n',a[0, 1, 2], '\\n-------------')  # equal to a[0][1][2] = 5\n",
    "print('values of all x*z where y=2\\n',a[:,2], '\\n----------')  # equivivalent to a[:,2,:] all z, y=2, all x.\n",
    "print('all z and y values where x = 2: \\n',a[:,:,2], '\\n--------')  # \n",
    "print('skip each second z,y,x: \\n',a[::2,::2,::2])  # all z (skip each second) and all y (skip each second) etc."
   ]
  },
  {
   "cell_type": "markdown",
   "metadata": {},
   "source": [
    "### Class exercise: cube\n",
    "1. Slice out [12 13 14] from the above cube using only one slice. e.g: a[:,:,:]\n",
    "2. Slice out [3 12 21].\n",
    "3. Slice out all y-values where x is 2 and z is 0."
   ]
  },
  {
   "cell_type": "code",
   "execution_count": 140,
   "metadata": {},
   "outputs": [
    {
     "name": "stderr",
     "output_type": "stream",
     "text": [
      "UsageError: Line magic function `%autoreload` not found.\n"
     ]
    }
   ],
   "source": [
    "#%load_ext autoreload\n",
    "%autoreload 2\n",
    "# %aimport solutions.numpy_ex\n",
    "from solutions import numpy_ex as nump\n",
    "nump.cube_ex()"
   ]
  },
  {
   "cell_type": "markdown",
   "metadata": {},
   "source": [
    "### Properties of the numpy array"
   ]
  },
  {
   "cell_type": "code",
   "execution_count": null,
   "metadata": {},
   "outputs": [],
   "source": [
    "a = np.arange(10, 70, dtype=np.int8).reshape((4,3,5))\n",
    "\n",
    "print('type: ',type(a))\n",
    "print('dtype',a.dtype)\n",
    "print('size',a.size)\n",
    "print('shape',a.shape)\n",
    "print('itemsize: ',a.itemsize)\n",
    "print('ndim: ',a.ndim)\n",
    "print('nbytes: ',a.nbytes)"
   ]
  },
  {
   "cell_type": "markdown",
   "metadata": {},
   "source": [
    "## Basic Operators"
   ]
  },
  {
   "cell_type": "code",
   "execution_count": null,
   "metadata": {},
   "outputs": [],
   "source": [
    "a = np.ones((3, 3))\n",
    "a[1] = 2\n",
    "a[2] = 3\n",
    "b = np.arange(9).reshape(3, 3)\n",
    "\n",
    "print(a)\n",
    "print(b)"
   ]
  },
  {
   "cell_type": "code",
   "execution_count": null,
   "metadata": {},
   "outputs": [],
   "source": [
    "a = np.ones((3, 3), dtype=int)\n",
    "a[1] = 2\n",
    "a[2] = 3\n",
    "b = np.arange(9).reshape(3, 3)\n",
    "\n",
    "print('a: \\n',a)\n",
    "print('b: \\n',b) \n",
    "\n",
    "print('a+b: \\n',a + b) # sum values on each index"
   ]
  },
  {
   "cell_type": "code",
   "execution_count": null,
   "metadata": {},
   "outputs": [],
   "source": [
    "print(a - b)"
   ]
  },
  {
   "cell_type": "code",
   "execution_count": null,
   "metadata": {},
   "outputs": [],
   "source": [
    "print(a * b)"
   ]
  },
  {
   "cell_type": "code",
   "execution_count": null,
   "metadata": {},
   "outputs": [],
   "source": [
    "print(b / a)"
   ]
  },
  {
   "cell_type": "code",
   "execution_count": null,
   "metadata": {},
   "outputs": [],
   "source": [
    "print(a ** 2)"
   ]
  },
  {
   "cell_type": "code",
   "execution_count": null,
   "metadata": {},
   "outputs": [],
   "source": [
    "print(a < b)"
   ]
  },
  {
   "cell_type": "code",
   "execution_count": null,
   "metadata": {},
   "outputs": [],
   "source": [
    "print(a > b)"
   ]
  },
  {
   "cell_type": "code",
   "execution_count": null,
   "metadata": {},
   "outputs": [],
   "source": [
    "# for 2 np arrays with nummeric values the product of the matching indices are summed.\n",
    "print(a)\n",
    "print(b)\n",
    "print(a.dot(b))"
   ]
  },
  {
   "cell_type": "code",
   "execution_count": null,
   "metadata": {},
   "outputs": [],
   "source": [
    "array_a = np.array([1,2,3]) \n",
    "array_b = np.array([1,2,3]) \n",
    "\n",
    "print('adding all the products a[0,0]*b[0,0]+a[1,0]*b[1,0]...\\n'\n",
    "      ,np.dot(array_a, array_b))\n",
    "\n",
    "print('adding all the products a[0,0]*b[0,0]+a[1,0]*b[1,0]...\\n'\n",
    "      ,array_a.dot(array_b))\n"
   ]
  },
  {
   "cell_type": "code",
   "execution_count": null,
   "metadata": {},
   "outputs": [],
   "source": [
    "print(a)\n",
    "\n",
    "print(a[1:4].sum())\n",
    "print(a.cumsum()) #cumulated sum\n",
    "print(a.min())\n",
    "print(a.max())"
   ]
  },
  {
   "cell_type": "markdown",
   "metadata": {},
   "source": [
    "## Fancy Indexing\n",
    "\n"
   ]
  },
  {
   "cell_type": "code",
   "execution_count": null,
   "metadata": {},
   "outputs": [],
   "source": [
    "# use one np array as indices for another\n",
    "a = np.arange(0, 100, 10)\n",
    "indices = np.array([1, 5, -1])\n",
    "print(indices)\n",
    "print(a)\n",
    "print(a[indices])"
   ]
  },
  {
   "cell_type": "markdown",
   "metadata": {},
   "source": [
    "## Boolean masking\n",
    "retrieving only the numbers that matches the condition. The mask is a condition\n",
    "and `a[mask]` is the part of a[] that matches the condition.\n",
    "\n"
   ]
  },
  {
   "cell_type": "code",
   "execution_count": null,
   "metadata": {},
   "outputs": [],
   "source": [
    "# X=Having 50 values between 0-2*pi, Y=sinus values to x\n",
    "import matplotlib.pyplot as plt\n",
    " \n",
    "xs = np.linspace(0, 2 * np.pi, 50)\n",
    "ys = np.sin(xs)\n",
    "#print(xs,'\\n',ys, '\\n',len(ys))\n",
    "plt.plot(xs, ys)"
   ]
  },
  {
   "cell_type": "code",
   "execution_count": null,
   "metadata": {},
   "outputs": [],
   "source": [
    "mask = ys >= 0                        # condition for the blue dots\n",
    "plt.plot(xs[mask], ys[mask], 'b')    # rendering the blue plots only with filtered values\n",
    "mask = (ys < 0)                       # condition for the green dots\n",
    "plt.plot(xs[mask], ys[mask], 'go')    # condition applied to xs and ys data sets\n",
    "plt.show()"
   ]
  },
  {
   "cell_type": "markdown",
   "metadata": {},
   "source": [
    "## Incomplete Indexing\n",
    "\n",
    "As you saw above, you can omit index numbers, which then default to index 0 or index for the last element of the array."
   ]
  },
  {
   "cell_type": "code",
   "execution_count": null,
   "metadata": {},
   "outputs": [],
   "source": [
    "a = np.arange(0, 100, 10)\n",
    "b = a[:5]                       # when first index is 0 we can omit it.\n",
    "c = a[a >= 50]                  # mask provided to filter all values below 50\n",
    "d = a[(a%20 == 0) & (a != 40)]  # more complex conditinal mask\n",
    "print(d)"
   ]
  },
  {
   "cell_type": "markdown",
   "metadata": {},
   "source": [
    "## Where\n",
    "\n",
    "the `where()` function is another useful way of retrieving elements of an array conditionally. Simply pass it a condition and it will return a tuple of lists of elements where that condition is true."
   ]
  },
  {
   "cell_type": "code",
   "execution_count": 182,
   "metadata": {},
   "outputs": [
    {
     "name": "stdout",
     "output_type": "stream",
     "text": [
      "a contains all values:  [ 0 10 20 30 40 50 60 70 80 90]\n",
      "b contains the indices of the filtered values:  (array([0, 1, 2, 3, 4]),) <class 'tuple'>\n",
      "c contains the filtered values: in [5 6 7 8 9] <class 'numpy.ndarray'>\n"
     ]
    }
   ],
   "source": [
    "a = np.arange(0, 100, 10)\n",
    "b = np.where(a < 50)     # returns a tuple\n",
    "c = np.where(a >= 50)[0] # returns an array (first element of the tuple is the data array)\n",
    "print('a contains all values: ',a)\n",
    "print('b contains the indices of the filtered values: ',b,type(b))\n",
    "print('c contains the filtered values: in',c,type(c))"
   ]
  },
  {
   "cell_type": "markdown",
   "metadata": {},
   "source": [
    "### Class exercise: masking\n",
    "- For the dataset: `data = np.arange(1,101).reshape(10,10)`\n",
    "  - apply a mask that will return only the even numbers\n",
    "  - using `np.where()` return only numbers that ends with 6\n",
    "  - using the operators: `%` or `|` mask away both numbers that is divisible by 3 and numbers begging with 8\n"
   ]
  },
  {
   "cell_type": "code",
   "execution_count": 258,
   "metadata": {
    "scrolled": true
   },
   "outputs": [
    {
     "name": "stdout",
     "output_type": "stream",
     "text": [
      "[[  1   2   3   4   5   6   7   8   9  10]\n",
      " [ 11  12  13  14  15  16  17  18  19  20]\n",
      " [ 21  22  23  24  25  26  27  28  29  30]\n",
      " [ 31  32  33  34  35  36  37  38  39  40]\n",
      " [ 41  42  43  44  45  46  47  48  49  50]\n",
      " [ 51  52  53  54  55  56  57  58  59  60]\n",
      " [ 61  62  63  64  65  66  67  68  69  70]\n",
      " [ 71  72  73  74  75  76  77  78  79  80]\n",
      " [ 81  82  83  84  85  86  87  88  89  90]\n",
      " [ 91  92  93  94  95  96  97  98  99 100]]\n",
      "---------\n",
      "[[  2   4   6   8  10]\n",
      " [ 12  14  16  18  20]\n",
      " [ 22  24  26  28  30]\n",
      " [ 32  34  36  38  40]\n",
      " [ 42  44  46  48  50]\n",
      " [ 52  54  56  58  60]\n",
      " [ 62  64  66  68  70]\n",
      " [ 72  74  76  78  80]\n",
      " [ 82  84  86  88  90]\n",
      " [ 92  94  96  98 100]]\n",
      "---------\n",
      "[ 6 16 26 36 46 56 66 76 86 96]\n",
      "---------\n",
      "[  1   2   4   5   7   8  10  11  13  14  16  17  19  20  22  23  25  26\n",
      "  28  29  31  32  34  35  37  38  40  41  43  44  46  47  49  50  52  53\n",
      "  55  56  58  59  61  62  64  65  67  68  70  71  73  74  76  77  79  91\n",
      "  92  94  95  97  98 100]\n"
     ]
    }
   ],
   "source": [
    "# solution:\n",
    "\n",
    "#%load_ext autoreload\n",
    "#%aimport solutions.numpy_ex\n",
    "#from solutions import numpy_ex as nump\n",
    "#nump.cube_ex()\n",
    "#nump.masking_ex()\n",
    "data = np.arange(1,101).reshape(10,10)\n",
    "print(data)\n",
    "print('---------')\n",
    "even = data[data%2 == 0]\n",
    "print(even.reshape(10,5))\n",
    "print('---------')\n",
    "mask = np.where(data % 10 == 6)\n",
    "print(data[mask])\n",
    "print('---------')\n",
    "mask = np.where((data % 3 != 0) & ((data < 80) | (data > 90)))\n",
    "print(data[mask])\n"
   ]
  },
  {
   "cell_type": "markdown",
   "metadata": {},
   "source": [
    "### Why do we care about NumPy?\n",
    "\n",
    "Because we want to get things done. As you remember from the last session *Intro to Plotting.ipynb*, we had to write quite a bit of code to compute the histograms for the age distribution within Copenhagen citizens per year.\n",
    "\n",
    "By representing our input data as a matrix, i.e., a two-dimensional array, and using boolean indexing, we can generate for example the histograms way more concisely and with way fewer lines of code.\n",
    "\n",
    "In the following we use Pandas, to import the CSV file with the statistics about Copenhagen citizens and we convert the read data into a numpy matrix. We will have a closer look on the  Pandas library in the next session."
   ]
  },
  {
   "cell_type": "code",
   "execution_count": null,
   "metadata": {},
   "outputs": [],
   "source": [
    "%%bash\n",
    "wget https://data.kk.dk/dataset/76ecf368-bf2d-46a2-bcf8-adaf37662528/resource/9286af17-f74e-46c9-a428-9fb707542189/download/befkbhalderstatkode.csv"
   ]
  },
  {
   "cell_type": "code",
   "execution_count": null,
   "metadata": {},
   "outputs": [],
   "source": [
    "%%bash\n",
    "head befkbhalderstatkode.csv"
   ]
  },
  {
   "cell_type": "code",
   "execution_count": 262,
   "metadata": {},
   "outputs": [
    {
     "name": "stdout",
     "output_type": "stream",
     "text": [
      "<class 'numpy.ndarray'>  of size:  2712585\n",
      "The skip_header=1 means that we have only the data\n",
      "\n",
      "first line:\n",
      " [2015    1    0 5100  614] \n",
      "last line\n",
      " [1992   99   93 5100    1]\n"
     ]
    }
   ],
   "source": [
    "filename = './befkbhalderstatkode.csv'\n",
    "\n",
    "bef_stats_df = np.genfromtxt(filename, delimiter=',', dtype=np.uint, skip_header=1)\n",
    "print(type(bef_stats_df),' of size: ',bef_stats_df.size)\n",
    "print('The skip_header=1 means that we have only the data\\n\\nfirst line:\\n',bef_stats_df[0],'\\nlast line\\n',bef_stats_df[len(bef_stats_df)-1])"
   ]
  },
  {
   "cell_type": "code",
   "execution_count": 263,
   "metadata": {},
   "outputs": [
    {
     "data": {
      "text/plain": [
       "array([[1998,    1,    0, 5100,  500],\n",
       "       [1998,    1,    0, 5106,    3],\n",
       "       [1998,    1,    0, 5110,    5],\n",
       "       ...,\n",
       "       [1998,   99,   85, 5100,    1],\n",
       "       [1998,   99,   91, 5100,    1],\n",
       "       [1998,   99,   99, 5100,    1]], dtype=uint64)"
      ]
     },
     "execution_count": 263,
     "metadata": {},
     "output_type": "execute_result"
    }
   ],
   "source": [
    "dd = bef_stats_df\n",
    "mask = (dd[:,0] == 1998) # for all rows filter column/index = 0 to be 1998\n",
    "dd[mask]"
   ]
  },
  {
   "cell_type": "markdown",
   "metadata": {},
   "source": [
    "### Amount of 18 years old Danes in CPH?\n",
    "\n",
    "For example, how can we quickly compute the amount of all Danes (`STATKODE == 5100`) with age 18 in all neighbourhoods for the year 2015?\n",
    "\n",
    "We just collect that data by expressing it as a conjunction of constraints and subsequently sum it up.\n"
   ]
  },
  {
   "cell_type": "code",
   "execution_count": 264,
   "metadata": {},
   "outputs": [
    {
     "name": "stdout",
     "output_type": "stream",
     "text": [
      "[[2015    1   18 5100  378]\n",
      " [2015    2   18 5100  577]\n",
      " [2015    3   18 5100  513]\n",
      " [2015    4   18 5100  309]\n",
      " [2015    5   18 5100  428]\n",
      " [2015    6   18 5100  349]\n",
      " [2015    7   18 5100  406]\n",
      " [2015    8   18 5100  339]\n",
      " [2015    9   18 5100  359]\n",
      " [2015   10   18 5100  424]\n",
      " [2015   99   18 5100   20]]\n"
     ]
    },
    {
     "data": {
      "text/plain": [
       "4102"
      ]
     },
     "execution_count": 264,
     "metadata": {},
     "output_type": "execute_result"
    }
   ],
   "source": [
    "mask = (dd[:,0] == 2015) & (dd[:,2] == 18) & (dd[:,3] == 5100)\n",
    "print(dd[mask])\n",
    "#plt.axis([0,10,300,600])\n",
    "#plt.bar(dd[:,1], dd[:,4])\n",
    "np.sum(dd[mask][:,4])\n",
    "#plt.show()"
   ]
  },
  {
   "cell_type": "markdown",
   "metadata": {},
   "source": [
    "### Distribution of French and Germans in CPH?\n",
    "\n",
    "\n",
    "Similarly, in which neighbourhood lifed the most Frenchmen and Germans respectively in 2015?\n",
    "\n",
    "The following dictionary of neighbourhood codes is created from the explanatory text on the municipalities homepage."
   ]
  },
  {
   "cell_type": "code",
   "execution_count": 266,
   "metadata": {},
   "outputs": [],
   "source": [
    "neighb = {1: 'Indre By', 2: 'Østerbro', 3: 'Nørrebro', 4: 'Vesterbro/Kgs. Enghave', \n",
    "          5: 'Valby', 6: 'Vanløse', 7: 'Brønshøj-Husum', 8: 'Bispebjerg', 9: 'Amager Øst', \n",
    "          10: 'Amager Vest', 99: 'Udenfor'}"
   ]
  },
  {
   "cell_type": "code",
   "execution_count": 267,
   "metadata": {},
   "outputs": [
    {
     "name": "stdout",
     "output_type": "stream",
     "text": [
      "The majority of 346 Frenchmen are living in Indre By\n",
      "The majority of 653 Germans are living in Nørrebro\n"
     ]
    }
   ],
   "source": [
    "french_mask = (dd[:,0] == 2015) & (dd[:,3] == 5130)\n",
    "german_mask = (dd[:,0] == 2015) & (dd[:,3] == 5180)\n",
    "\n",
    "french = np.array([np.sum(dd[french_mask & (dd[:,1] == n)][:,4]) for n in neighb.keys()])\n",
    "germans = np.array([np.sum(dd[german_mask & (dd[:,1] == n)][:,4]) for n in neighb.keys()])\n",
    "\n",
    "index_max_fr = np.argmax(french)\n",
    "index_max_de = np.argmax(germans)\n",
    "\n",
    "msg = 'The majority of {} {} are living in {}'\n",
    "print(msg.format(french.max(), 'Frenchmen', neighb[list(neighb.keys())[index_max_fr]]))\n",
    "print(msg.format(germans.max(), 'Germans', neighb[list(neighb.keys())[index_max_de]]))"
   ]
  },
  {
   "cell_type": "markdown",
   "metadata": {},
   "source": [
    "### From which country came the most imigrants in 2015?\n",
    "\n",
    "Popular belief says that most imigrants come somewhere from the middle-east. But is it true?\n",
    "\n",
    "To answer this question, convert the cuntry code data from Danmarks Statistik (http://www.dst.dk/da/Statistik/dokumentation/Times/forebyggelsesregistret/statkode.aspx) into a Python dictionary."
   ]
  },
  {
   "cell_type": "code",
   "execution_count": 272,
   "metadata": {},
   "outputs": [],
   "source": [
    "country_codes = {0: 'Uoplyst (1)', 5001: 'Uoplyst (2)', 5100: 'Danmark', 5101: 'Grønland', \n",
    "                 5102: 'Udlandet uoplyst', 5103: 'Statsløs', 5104: 'Finland', \n",
    "                 5105: 'Island, ligeret dansk', 5106: 'Island', 5107: 'Liechtenstein', \n",
    "                 5108: 'Luxembourg', 5109: 'Monaco', 5110: 'Norge', 5114: 'Europa uoplyst', \n",
    "                 5115: 'Kongelig', 5120: 'Sverige', 5122: 'Albanien', 5124: 'Andorra', \n",
    "                 5126: 'Belgien', 5128: 'Bulgarien', 5129: 'Tjekkoslovakiet', \n",
    "                 5130: 'Frankrig', 5134: 'Grækenland', 5140: 'Nederlandene', \n",
    "                 5142: 'Irland', 5150: 'Italien', 5151: 'Serbien og Montenegro', \n",
    "                 5152: 'Jugoslavien', 5153: 'Malta', 5154: 'Polen', 5156: 'Portugal', \n",
    "                 5158: 'Rumænien', 5159: 'San Marino', 5160: 'Schweiz', \n",
    "                 5162: 'Sovjetunionen', 5164: 'Spanien', 5170: 'Storbritannien', \n",
    "                 5172: 'Tyrkiet', 5174: 'Ungarn', 5176: 'Vatikanstaten', 5180: 'Tyskland', \n",
    "                 5182: 'Østrig', 5199: 'Europa uoplyst', 5202: 'Algeriet', 5204: 'Angola', \n",
    "                 5207: 'Botswana', 5213: 'Burundi', 5214: 'Etiopien', 5215: 'Comorerne', \n",
    "                 5216: 'Eritrea', 5222: 'Gambia', 5228: 'Ghana', 5230: 'Ækvatorialguinea', \n",
    "                 5231: 'Guinea-Bissau', 5232: 'Guinea', 5233: 'Kap Verde', 5234: 'Kenya', \n",
    "                 5235: 'Lesotho', 5236: 'Liberia', 5238: 'Libyen', 5240: 'Mozambique', \n",
    "                 5242: 'Madagaskar', 5243: 'Mali', 5244: 'Marokko', 5245: 'Mauritius', \n",
    "                 5246: 'Nigeria', 5247: 'Namibia', 5248: 'Marshalløerne', \n",
    "                 5255: 'Sierra Leone', 5258: 'Sudan', 5259: 'Swaziland', 5260: 'Sydsudan', \n",
    "                 5262: 'Sydafrika', 5266: 'Tanzania', 5268: 'Tunesien', 5269: 'Uganda', \n",
    "                 5272: 'Egypten', 5273: 'Tuvalu', 5274: 'Kiribati', 5275: 'Vanuatu', \n",
    "                 5276: 'Centralafrikanske Republik', 5277: 'Cameroun', \n",
    "                 5278: 'Congo, Demokratiske Republik', 5279: 'Congo, Republikken', \n",
    "                 5281: 'Benin', 5282: 'Elfenbenskysten', 5283: 'Gabon', 5284: 'Mauretanien', \n",
    "                 5285: 'Niger', 5287: 'Rwanda', 5288: 'Senegal', 5289: 'Somalia', \n",
    "                 5292: 'Tchad', 5293: 'Togo', 5294: 'Burkina Faso', 5295: 'Zimbabwe', \n",
    "                 5296: 'Zambia', 5297: 'Malawi', 5298: 'Seychellerne', \n",
    "                 5299: 'Afrika uoplyst', 5302: 'Argentina', 5303: 'Bahamas', \n",
    "                 5304: 'Bolivia', 5305: 'Barbados', 5306: 'Brasilien', 5308: 'Guyana', \n",
    "                 5309: 'Antigua og Barbuda', 5310: 'Nauru', \n",
    "                 5311: 'Skt. Vincent og Grenadinerne', 5314: 'Canada', 5316: 'Chile', \n",
    "                 5318: 'Colombia', 5319: 'Syd- og Mellemamerika uoplyst', \n",
    "                 5322: 'Costa Rica', 5324: 'Cuba', 5326: 'Dominikanske Republik', \n",
    "                 5328: 'Ecuador', 5338: 'Guatemala', 5339: 'Grenada', 5342: 'Haiti', \n",
    "                 5344: 'Surinam', 5345: 'Dominica', 5347: 'Skt. Lucia', 5348: 'Honduras', \n",
    "                 5352: 'Jamaica', 5354: 'Mexico', 5356: 'Nicaragua', 5358: 'Panama', \n",
    "                 5364: 'Paraguay', 5366: 'Peru', 5372: 'El Salvador', \n",
    "                 5374: 'Trinidad og Tobago', 5376: 'Uruguay', 5390: 'USA', \n",
    "                 5392: 'Venezuela', 5395: 'Vestindiske Øer', 5397: 'Nordamerika uoplyst', \n",
    "                 5398: 'Syd- og Mellemamerika uoplyst', 5402: 'Yemen', \n",
    "                 5403: 'Forenede Arabiske Emirater', 5404: 'Afghanistan', 5406: 'Bahrain', \n",
    "                 5408: 'Bhutan', 5410: 'Bangladesh', 5412: 'Brunei', 5414: 'Myanmar', \n",
    "                 5416: 'Cambodja', 5418: 'Sri Lanka', 5422: 'Cypern', 5424: 'Taiwan', \n",
    "                 5432: 'Indien', 5434: 'Indonesien', 5435: 'Østtimor', 5436: 'Irak', \n",
    "                 5438: 'Iran', 5442: 'Israel', 5444: 'Japan', 5446: 'Jordan', 5448: 'Kina', \n",
    "                 5452: 'Kuwait', 5454: 'Laos', 5456: 'Libanon', 5457: 'Maldiverne', \n",
    "                 5458: 'Malaysia', 5459: 'Mongoliet', 5462: 'Oman', 5464: 'Nepal', \n",
    "                 5466: 'Nordkorea', 5468: 'Vietnam (1)', 5471: 'Asien uoplyst', \n",
    "                 5472: 'Pakistan', 5474: 'Filippinerne', 5478: 'Saudi-Arabien', \n",
    "                 5482: 'Singapore', 5484: 'Sydkorea', 5486: 'Syrien', \n",
    "                 5487: 'Mellemøsten uoplyst', 5488: 'Vietnam (2)', 5492: 'Thailand', \n",
    "                 5496: 'Qatar', 5499: 'Asien uoplyst', 5502: 'Australien', 5505: 'Tonga', \n",
    "                 5508: 'Fiji', 5514: 'New Zealand', 5522: 'Samoa', 5525: 'Djibouti', \n",
    "                 5526: 'Belize', 5534: 'Papua Ny Guinea', 5599: 'Øer i Stillehavet', \n",
    "                 5607: 'Estland', 5609: 'Letland', 5611: 'Litauen', \n",
    "                 5621: 'Sao Tome og Principe', 5623: 'Salomonøerne', \n",
    "                 5625: 'Skt. Kitts og Nevis', 5700: 'Rusland', 5704: 'Ukraine', \n",
    "                 5706: 'Hviderusland', 5708: 'Armenien', 5710: 'Aserbajdsjan', \n",
    "                 5712: 'Moldova', 5714: 'Usbekistan', 5716: 'Kasakhstan', \n",
    "                 5718: 'Turkmenistan', 5720: 'Kirgisistan', 5722: 'Tadsjikistan', \n",
    "                 5724: 'Georgien', 5750: 'Kroatien', 5752: 'Slovenien', \n",
    "                 5754: 'Bosnien-Hercegovina', 5756: 'Makedonien', 5757: 'Serbien', \n",
    "                 5758: 'Jugoslavien, Forbundsrepublikken', 5759: 'Montenegro', \n",
    "                 5761: 'Kosovo', 5776: 'Tjekkiet', 5778: 'Slovakiet', 5779: 'Cookøerne', \n",
    "                 5800: 'Land ukendt (2)', 5901: 'Færøerne uoplyst', 5902: 'Færøerne', \n",
    "                 5999: 'Land ukendt (1)'}"
   ]
  },
  {
   "cell_type": "code",
   "execution_count": 268,
   "metadata": {},
   "outputs": [
    {
     "data": {
      "text/plain": [
       "array([1992, 1993, 1994, 1995, 1996, 1997, 1998, 1999, 2000, 2001, 2002,\n",
       "       2003, 2004, 2005, 2006, 2007, 2008, 2009, 2010, 2011, 2012, 2013,\n",
       "       2014, 2015], dtype=uint64)"
      ]
     },
     "execution_count": 268,
     "metadata": {},
     "output_type": "execute_result"
    }
   ],
   "source": [
    "# unique years in the dataset:\n",
    "# x = year, \n",
    "unique_years = np.unique(dd[:,0]) # all yś where x is index 0 (which is year)\n",
    "unique_years"
   ]
  },
  {
   "cell_type": "code",
   "execution_count": 270,
   "metadata": {},
   "outputs": [
    {
     "name": "stdout",
     "output_type": "stream",
     "text": [
      "{1: 'Indre By', 2: 'Østerbro', 3: 'Nørrebro', 4: 'Vesterbro/Kgs. Enghave', 5: 'Valby', 6: 'Vanløse', 7: 'Brønshøj-Husum', 8: 'Bispebjerg', 9: 'Amager Øst', 10: 'Amager Vest', 99: 'Udenfor'}\n"
     ]
    }
   ],
   "source": [
    "# unique areas\n",
    "unique_areas = np.unique(dd[:])\n",
    "print(neighb)"
   ]
  },
  {
   "cell_type": "code",
   "execution_count": null,
   "metadata": {},
   "outputs": [],
   "source": [
    "# dataset is [year=0, age=1, area=2, nationality=3, amount=4]\n",
    "\n",
    "# unique nationalities/citizenships:\n",
    "c_keys = np.unique(dd[:,3])\n",
    "c_keys = c_keys[c_keys != 5100] #remove danish citizens\n",
    "#print(c_keys)\n",
    "mask_year_2012 = dd[:,0] == 2012\n",
    "mask_swedish = dd[:,3] == 5120\n",
    "\n",
    "#SUM all the swedish people in 2012\n",
    "np.sum(dd[(mask_year_2012) & (mask_swedish)][:,4])\n"
   ]
  },
  {
   "cell_type": "code",
   "execution_count": 273,
   "metadata": {},
   "outputs": [
    {
     "name": "stdout",
     "output_type": "stream",
     "text": [
      "all the country keys:\n",
      " [5001 5102 5103 5104 5105 5106 5107 5108 5110 5115 5120 5122 5126 5128\n",
      " 5129 5130 5134 5140 5142 5150 5151 5152 5153 5154 5156 5158 5159 5160\n",
      " 5162 5164 5170 5172 5174 5180 5182 5202 5204 5207 5213 5214 5215 5216\n",
      " 5222 5228 5231 5232 5233 5234 5235 5236 5238 5240 5242 5243 5244 5245\n",
      " 5246 5247 5255 5258 5259 5262 5266 5268 5269 5272 5275 5277 5278 5279\n",
      " 5281 5282 5283 5284 5285 5287 5288 5289 5292 5293 5294 5295 5296 5297\n",
      " 5298 5299 5302 5303 5304 5305 5306 5308 5311 5314 5316 5318 5322 5324\n",
      " 5326 5328 5338 5339 5342 5344 5345 5347 5348 5352 5354 5356 5358 5364\n",
      " 5366 5372 5374 5376 5390 5392 5402 5403 5404 5406 5408 5410 5412 5414\n",
      " 5416 5418 5422 5424 5432 5434 5436 5438 5442 5444 5446 5448 5452 5454\n",
      " 5456 5457 5458 5459 5462 5464 5466 5472 5474 5478 5482 5484 5486 5487\n",
      " 5488 5492 5496 5499 5502 5505 5508 5514 5522 5525 5526 5607 5609 5611\n",
      " 5625 5700 5704 5706 5708 5710 5712 5714 5716 5718 5720 5722 5724 5750\n",
      " 5752 5754 5756 5757 5758 5759 5761 5776 5778 5902 5999]\n",
      "all the number of people in each citizen group:\n",
      " [   4    9  632  899    2 1968    1   11 4093   15 4745   68  273 1413\n",
      "   23 2156  744  977  565 3069   19 1487   22 3906  849 1891    1  387\n",
      "   51 1999 4523 3792  796 4021  377  132    7    4   48  273    3   50\n",
      "  175  404   16   40    3  151    5   11   12   24    1    9 1499   15\n",
      "  364    5   68  129    3   93  125  199  196  321    0  122   25   25\n",
      "    5   99    2    2    2   29   38 2087    3   32    8   14   31    5\n",
      "    2    2  161    3   29    3  560    3    0  605  223  146   23  152\n",
      "   16   54   29    4    4    0    2    2   12   20  253   27   15    3\n",
      "  137    4   21   17 2534   84   11    1  658    0    8  787    2   47\n",
      "   27   86   24   60 2168  137 2544 1093  192  383  460 2552    4    6\n",
      "  343    1  122    8    7 1692   13 4502 1396    9  128  149  200    3\n",
      "  278 1544    2    1  609    2    2  143    2   12    2  323  585 1348\n",
      "    0  787  447   58   59   28   25   42   36    2    7    2   34  285\n",
      "  102  688 1518  195   57  121  121  217  321    0    1]\n",
      "index (or indices if more) of the largest group:  10\n",
      "c_k: 5120\n",
      "country_name:  Sverige\n"
     ]
    },
    {
     "ename": "NameError",
     "evalue": "name 'no_per_c' is not defined",
     "output_type": "error",
     "traceback": [
      "\u001b[0;31m---------------------------------------------------------------------------\u001b[0m",
      "\u001b[0;31mNameError\u001b[0m                                 Traceback (most recent call last)",
      "\u001b[0;32m<ipython-input-273-4817d0816fae>\u001b[0m in \u001b[0;36m<module>\u001b[0;34m\u001b[0m\n\u001b[1;32m     15\u001b[0m \u001b[0mcountry_name\u001b[0m \u001b[0;34m=\u001b[0m \u001b[0mcountry_codes\u001b[0m\u001b[0;34m[\u001b[0m\u001b[0mcounty_code\u001b[0m\u001b[0;34m]\u001b[0m \u001b[0;31m# this is a dictionary where key=country_code and value=country name\u001b[0m\u001b[0;34m\u001b[0m\u001b[0;34m\u001b[0m\u001b[0m\n\u001b[1;32m     16\u001b[0m \u001b[0mprint\u001b[0m\u001b[0;34m(\u001b[0m\u001b[0;34m'country_name: '\u001b[0m\u001b[0;34m,\u001b[0m\u001b[0mcountry_name\u001b[0m\u001b[0;34m)\u001b[0m\u001b[0;34m\u001b[0m\u001b[0;34m\u001b[0m\u001b[0m\n\u001b[0;32m---> 17\u001b[0;31m \u001b[0mprint\u001b[0m\u001b[0;34m(\u001b[0m\u001b[0;34mf'{no_per_c.max()} inhabitants come from {c_name}'\u001b[0m\u001b[0;34m)\u001b[0m\u001b[0;34m\u001b[0m\u001b[0;34m\u001b[0m\u001b[0m\n\u001b[0m",
      "\u001b[0;31mNameError\u001b[0m: name 'no_per_c' is not defined"
     ]
    }
   ],
   "source": [
    "# create a set of conuntry codes with people living in Copenhagen\n",
    "c_keys = np.unique(dd[:,3])\n",
    "# we are interested in non-danes only\n",
    "c_keys = c_keys[c_keys != 5100]\n",
    "print('all the country keys:\\n',c_keys)\n",
    "# and again we only consider 2015\n",
    "mask_year_2015 = (dd[:,0] == 2015)\n",
    "\n",
    "number_per_citizen_group = np.array([np.sum(dd[mask_year_2015 & (dd[:,3] == c_code)][:,4]) for c_code in c_keys])\n",
    "print('all the number of people in each citizen group:\\n',number_per_citizen_group)\n",
    "idx_of_largest_group = np.argmax(number_per_citizen_group)\n",
    "print('index (or indices if more) of the largest group: ',idx_of_largest_group)\n",
    "county_code = c_keys[idx_of_largest_group] # using the index of the largest summed up group and finding the value of that index in another slice of the same dataset\n",
    "print('c_k:',county_code)\n",
    "country_name = country_codes[county_code] # this is a dictionary where key=country_code and value=country name\n",
    "print('country_name: ',country_name)\n",
    "print(f'{no_per_c.max()} inhabitants come from {c_name}')"
   ]
  },
  {
   "cell_type": "code",
   "execution_count": null,
   "metadata": {},
   "outputs": [],
   "source": [
    "no_per_c_sorted = np.copy(no_per_c)\n",
    "no_per_c_sorted.sort()\n",
    "snd_max_idx = np.where(no_per_c==no_per_c_sorted[-2])[0][0]\n",
    "#no_per_c[no_per_c == no_per_c_orig[-2]][0]\n",
    "country_codes[c_keys[snd_max_idx]]"
   ]
  },
  {
   "cell_type": "markdown",
   "metadata": {},
   "source": [
    "### class exercise: extracting\n",
    "Based on the Copenhagen population data do the following (not including danish citizens):\n",
    "1. Find the 10 largest population groups\n",
    "2. Find the 10 largest population groups of children (0-17 y.o.) \n",
    "3. Create a barplot with the 10 largest groups on x-axis and 2 bars of both adult and children on y-axis\n",
    "  - make one bar red and the other green\n",
    "  - give them labels\n",
    "4. Find the neigbourhood with most eastern european citizens (just choose the 5 countries with the largest population shares).\n",
    "  - show in a pie plot how they are distributed by nationality\n",
    "  - show in a bar plot their distribution by age"
   ]
  },
  {
   "cell_type": "code",
   "execution_count": null,
   "metadata": {},
   "outputs": [],
   "source": [
    "def transformByMaks(data, mask):\n",
    "    \"\"\"\n",
    "    arg1 is the dataset on the form [[year, area, age, nationality, amount]]\n",
    "    arg2 is the mask on the form data[:,3] == 5120 to find swedish or data[:,0] == 1999 to filter on year\n",
    "    returns a new numpy array with the filtered data.\n",
    "    \"\"\"\n",
    "    return data[mask]\n",
    "\n",
    "def getDataByX(data, x_value):\n",
    "    params = {'year':0, 'area':1, 'age':2, 'nationality': 3}\n",
    "    x = params[x_value]\n",
    "    return {year:np.sum(data[:,4]) for year in np.unique(data[x])}\n",
    "    \n",
    "mask = (dd[:,2] == 18) & (dd[:,3] == 5100)\n",
    "result = transformByMaks(dd, mask)\n",
    "print(result)\n",
    "print(getDataByX(result, 'year'))"
   ]
  },
  {
   "cell_type": "markdown",
   "metadata": {},
   "source": [
    "### Computing a Histogram Concisely\n",
    "\n",
    "As said, we are using NumPy to express our data queries more concisely. The first three lines of the following program compute the histogram of ages in 2015. That is, in three lines we can express the same as in the 13 lines of , seethe function `get_population_stat` under *Bar Plots* in *14-Intro to Plotting*."
   ]
  },
  {
   "cell_type": "code",
   "execution_count": null,
   "metadata": {
    "scrolled": false
   },
   "outputs": [],
   "source": [
    "mask = (dd[:,0] == 2015)\n",
    "set_of_ages = np.unique(dd[mask][:,2])\n",
    "freq_ages = np.array([np.sum(dd[mask & (dd[:,2] == age)][:,4]) \n",
    "                      for age ain set_of_ages])\n",
    "\n",
    "plt.bar(set_of_ages, freq_ages)\n",
    "plt.show()"
   ]
  },
  {
   "cell_type": "markdown",
   "metadata": {},
   "source": [
    "And computing the increase of foreign population from 2014 to 2015 is similarly easy. Read and explain the following program."
   ]
  },
  {
   "cell_type": "code",
   "execution_count": null,
   "metadata": {},
   "outputs": [],
   "source": [
    "mask = (dd[:,3] != 5100)\n",
    "sum_14 = np.sum(dd[(dd[:,0] == 2014) & mask][:,4])\n",
    "sum_15 = np.sum(dd[(dd[:,0] == 2015) & mask][:,4])\n",
    "\n",
    "plt.axis([2013, 2016, 0, max([sum_14, sum_15]) + 2000])\n",
    "plt.bar([2014, 2015], [sum_14, sum_15], width=0.8,  align='center')\n",
    "plt.xticks([2014, 2015])\n",
    "plt.ticklabel_format(useOffset=False)"
   ]
  },
  {
   "cell_type": "markdown",
   "metadata": {},
   "source": [
    "# Self study: For what else can we use NumPy?\n",
    "\n",
    "Images are just multi-dimensional arrays. For example, lets have a look at a small running Commander Keen\n",
    "\n",
    "![keen](images/commander_keen.png)\n",
    "\n",
    "With the following code we receive the image and convert it into a NumPy array so that we can inspect the image data."
   ]
  },
  {
   "cell_type": "code",
   "execution_count": 275,
   "metadata": {},
   "outputs": [
    {
     "name": "stdout",
     "output_type": "stream",
     "text": [
      "/bin/sh: wget: command not found\r\n"
     ]
    }
   ],
   "source": [
    "!wget https://16couleurs.files.wordpress.com/2014/01/commander_keen_sprite_run.gif?w=611"
   ]
  },
  {
   "cell_type": "code",
   "execution_count": null,
   "metadata": {},
   "outputs": [],
   "source": [
    "%%bash\n",
    "wget https://16couleurs.files.wordpress.com/2014/01/commander_keen_sprite_run.gif"
   ]
  },
  {
   "cell_type": "code",
   "execution_count": null,
   "metadata": {},
   "outputs": [],
   "source": [
    "#### import webget\n",
    "import numpy as np\n",
    "from PIL import Image\n",
    "\n",
    "\n",
    "im = Image.open('commander_keen_sprite_run.gif')\n",
    "# convert the data to RGB color space\n",
    "rgb_im = im.convert('RGB')\n",
    "print(rgb_im)\n",
    "im_array = np.asarray(rgb_im)\n",
    "print(im_array.shape, ' represents the rows(y),columns(x) and pixelcolor (as rgb)')\n",
    "print('255 255 255 is white to see other colors lets slice away the first 10 squares of data: \\n\\n',im_array[10:11,7:17,0:])\n",
    "im_data = np.copy(im_array)  # we have to copy the data as we want to modify it later"
   ]
  },
  {
   "cell_type": "markdown",
   "metadata": {},
   "source": [
    "Let's get a feeling for how colors are distributed in the image by plotting the values per color channel."
   ]
  },
  {
   "cell_type": "code",
   "execution_count": null,
   "metadata": {},
   "outputs": [],
   "source": [
    "# import matplotlib.pyplot as plt\n",
    "print('im_data.shape[0] is the y-values (verical dimension):\\n',im_data.shape[0],'\\nim_data.shape[1] is the x-values (horizontal dimension):\\n',im_data.shape[1],'\\nim_data.shape[2] is the actual rgb color of the pixel:\\n',im_data.shape[2])\n",
    "img_line = im_data.reshape(im_data.shape[0] * im_data.shape[1], im_data.shape[2]) # reshaping 3d array to a 2d array by putting the x,y values one long data row\n",
    "print('now its a 2d array:\\n',img_line)\n",
    "print('new shape: ',img_line.shape)\n",
    "plt.plot(img_line[:,0], 'ro') #shorthand for red circle\n",
    "plt.plot(img_line[:,1], 'gx') #green x\n",
    "plt.plot(img_line[:,2], 'b+') #blue plus\n",
    "plt.xlabel('Pixels starting from upper left corner')\n",
    "plt.ylabel('strength of the r,g or b color in the pixel') # white color shows up as full force on all 3 chanels, but blue overpowers because it is written on top (last)\n",
    "plt.show()"
   ]
  },
  {
   "cell_type": "markdown",
   "metadata": {},
   "source": [
    "Replacing a set of RGB values can be done as in the following. We want to give Commander Keen another t-shirt color. So by querying the color at the central pixel `im_data[32,24,:]`, we see that it is `[252, 84, 252]`. Consequently, we find all pixels with these values and assign a new value to those positions."
   ]
  },
  {
   "cell_type": "code",
   "execution_count": null,
   "metadata": {},
   "outputs": [],
   "source": [
    "im_data_orig = np.copy(im_data)"
   ]
  },
  {
   "cell_type": "code",
   "execution_count": null,
   "metadata": {},
   "outputs": [],
   "source": [
    "%matplotlib notebook\n",
    "print(im_data.shape)\n",
    "print(im_data_orig[32,24,:]) # pink color from 32px down - 24px right in commander_keen img\n",
    "\n",
    "mask = (im_data_orig[:,:,0] == 252) & (im_data_orig[:,:,1] == 84) & (im_data_orig[:,:,2] == 252)\n",
    "im_data[mask] = np.array([250, 230, 0]) # replace the pixels chosen by the mask with [250,230,0]=yellow\n",
    "plt.figure()\n",
    "plt.subplot(1, 2, 2) # 1=row, 2=column, 2=index (image will have one row with 2 columns AND this plot will be in the second column/index)\n",
    "plt.title('Original')\n",
    "plt.imshow(im_data_orig)\n",
    "plt.subplot(1, 2, 1)\n",
    "plt.title('Modified')\n",
    "plt.imshow(im_data)\n",
    "plt.show()"
   ]
  },
  {
   "cell_type": "markdown",
   "metadata": {},
   "source": [
    "As you saw above, each channel for the RGB values is represented with the help of a two-dimensional array. We can split them up to inspect the respective intensities."
   ]
  },
  {
   "cell_type": "code",
   "execution_count": null,
   "metadata": {},
   "outputs": [],
   "source": [
    "%matplotlib inline\n",
    "red_channel = im_data_orig[:,:,0] # red=0, green=1, blue=2\n",
    "print('upper left corner is all white and red,green,blue==255:',red_channel[0,0],'\\n somewhere in the center:',red_channel[50,24])\n",
    "plt.imshow(red_channel, cmap=plt.cm.Greys) # low value becomes light and close to 255 becomes black."
   ]
  },
  {
   "cell_type": "code",
   "execution_count": 1,
   "metadata": {},
   "outputs": [
    {
     "ename": "NameError",
     "evalue": "name 'plt' is not defined",
     "output_type": "error",
     "traceback": [
      "\u001b[0;31m---------------------------------------------------------------------------\u001b[0m",
      "\u001b[0;31mNameError\u001b[0m                                 Traceback (most recent call last)",
      "\u001b[0;32m<ipython-input-1-a083c9efd1ea>\u001b[0m in \u001b[0;36m<module>\u001b[0;34m\u001b[0m\n\u001b[1;32m      1\u001b[0m \u001b[0mchannels\u001b[0m \u001b[0;34m=\u001b[0m \u001b[0;34m[\u001b[0m\u001b[0;34m(\u001b[0m\u001b[0;34m'Red'\u001b[0m\u001b[0;34m,\u001b[0m \u001b[0;36m0\u001b[0m\u001b[0;34m)\u001b[0m\u001b[0;34m,\u001b[0m \u001b[0;34m(\u001b[0m\u001b[0;34m'Green'\u001b[0m\u001b[0;34m,\u001b[0m \u001b[0;36m1\u001b[0m\u001b[0;34m)\u001b[0m\u001b[0;34m,\u001b[0m \u001b[0;34m(\u001b[0m\u001b[0;34m'Blue'\u001b[0m\u001b[0;34m,\u001b[0m \u001b[0;36m2\u001b[0m\u001b[0;34m)\u001b[0m\u001b[0;34m]\u001b[0m\u001b[0;34m\u001b[0m\u001b[0;34m\u001b[0m\u001b[0m\n\u001b[0;32m----> 2\u001b[0;31m \u001b[0mplt\u001b[0m\u001b[0;34m.\u001b[0m\u001b[0mfigure\u001b[0m\u001b[0;34m(\u001b[0m\u001b[0;34m)\u001b[0m\u001b[0;34m\u001b[0m\u001b[0;34m\u001b[0m\u001b[0m\n\u001b[0m\u001b[1;32m      3\u001b[0m \u001b[0;32mfor\u001b[0m \u001b[0mchannel\u001b[0m\u001b[0;34m,\u001b[0m \u001b[0mchannel_idx\u001b[0m \u001b[0;32min\u001b[0m \u001b[0mchannels\u001b[0m\u001b[0;34m:\u001b[0m\u001b[0;34m\u001b[0m\u001b[0;34m\u001b[0m\u001b[0m\n\u001b[1;32m      4\u001b[0m     \u001b[0mplt\u001b[0m\u001b[0;34m.\u001b[0m\u001b[0msubplot\u001b[0m\u001b[0;34m(\u001b[0m\u001b[0;36m1\u001b[0m\u001b[0;34m,\u001b[0m \u001b[0;36m3\u001b[0m\u001b[0;34m,\u001b[0m \u001b[0mchannel_idx\u001b[0m\u001b[0;34m+\u001b[0m\u001b[0;36m1\u001b[0m\u001b[0;34m)\u001b[0m\u001b[0;34m\u001b[0m\u001b[0;34m\u001b[0m\u001b[0m\n\u001b[1;32m      5\u001b[0m     \u001b[0mplt\u001b[0m\u001b[0;34m.\u001b[0m\u001b[0mtitle\u001b[0m\u001b[0;34m(\u001b[0m\u001b[0;34m'{}'\u001b[0m\u001b[0;34m.\u001b[0m\u001b[0mformat\u001b[0m\u001b[0;34m(\u001b[0m\u001b[0mchannel\u001b[0m\u001b[0;34m)\u001b[0m\u001b[0;34m)\u001b[0m\u001b[0;34m\u001b[0m\u001b[0;34m\u001b[0m\u001b[0m\n",
      "\u001b[0;31mNameError\u001b[0m: name 'plt' is not defined"
     ]
    }
   ],
   "source": [
    "channels = [('Red', 0), ('Green', 1), ('Blue', 2)]\n",
    "plt.figure()\n",
    "for channel, channel_idx in channels:\n",
    "    plt.subplot(1, 3, channel_idx+1)\n",
    "    plt.title('{}'.format(channel))\n",
    "    imarray = im_data_orig[:,:,channel_idx]\n",
    "    plt.imshow(imarray, cmap=plt.cm.Greys)"
   ]
  },
  {
   "cell_type": "code",
   "execution_count": null,
   "metadata": {},
   "outputs": [],
   "source": []
  }
 ],
 "metadata": {
  "kernelspec": {
   "display_name": "Python 3",
   "language": "python",
   "name": "python3"
  },
  "language_info": {
   "codemirror_mode": {
    "name": "ipython",
    "version": 3
   },
   "file_extension": ".py",
   "mimetype": "text/x-python",
   "name": "python",
   "nbconvert_exporter": "python",
   "pygments_lexer": "ipython3",
   "version": "3.7.1"
  }
 },
 "nbformat": 4,
 "nbformat_minor": 2
}
