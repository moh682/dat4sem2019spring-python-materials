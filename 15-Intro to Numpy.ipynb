{
 "cells": [
  {
   "cell_type": "markdown",
   "metadata": {},
   "source": [
    "## TOC\n",
    "- numpy arrays\n",
    "  - np.array()\n",
    "  - np.arange(1,10,2) # like range(1,10,2)\n",
    "  - np.linspace(start, end, num_of_el)\n",
    "  - indexing and slicing\n",
    "- multidimensional arrays\n",
    "  - np.array().shape attribute\n",
    "  - np.array().reshape(array1_len, array2_len)\n",
<<<<<<< HEAD
=======
    "- masking\n",
    "\n",
>>>>>>> upstream/master
    "  "
   ]
  },
  {
   "cell_type": "code",
<<<<<<< HEAD
   "execution_count": 129,
=======
   "execution_count": 1,
>>>>>>> upstream/master
   "metadata": {},
   "outputs": [],
   "source": [
    "# the following line is jupyter notebook specific \n",
    "%matplotlib inline"
   ]
  },
  {
   "cell_type": "markdown",
   "metadata": {},
   "source": [
    "The following introduction to NumPy is based on the following article:\n",
    "    http://www.datadependence.com/2016/05/scientific-python-numpy/\n",
    "    \n",
    "For futher details refer to the official quickstart documentation:\n",
    "https://docs.scipy.org/doc/numpy-dev/user/quickstart.html\n",
    "\n",
    "# Initialization of NumPy Arrays\n",
    "\n",
    "You can initialize a one-dimensional NumPy array, for example, by passing a list or a tuple to `np.array`."
   ]
  },
  {
   "cell_type": "code",
<<<<<<< HEAD
   "execution_count": 130,
=======
   "execution_count": 2,
>>>>>>> upstream/master
   "metadata": {},
   "outputs": [
    {
     "name": "stdout",
     "output_type": "stream",
     "text": [
      "[0 1 2 3 4]\n",
      "[0 1 2 3 4]\n"
     ]
    }
   ],
   "source": [
    "import numpy as np\n",
    "\n",
    "\n",
    "a = np.array([0, 1, 2, 3, 4])\n",
    "b = np.array((0, 1, 2, 3, 4))\n",
    "\n",
    "print(a)\n",
    "print(b)"
   ]
  },
  {
   "cell_type": "markdown",
   "metadata": {},
   "source": [
    "Alternatively, you can create a one-dimensional NumPy array with the `np.arange` function, which is similar to its counterpart `range` in the standard library. Read it's documentation with `np.arange?`."
   ]
  },
  {
   "cell_type": "code",
<<<<<<< HEAD
   "execution_count": 131,
=======
   "execution_count": 3,
>>>>>>> upstream/master
   "metadata": {},
   "outputs": [
    {
     "name": "stdout",
     "output_type": "stream",
     "text": [
      "[ 9 12 15 18 21 24 27]\n",
      "[9, 12, 15, 18, 21, 24, 27]\n",
      "[9, 12, 15, 18, 21, 24, 27]\n"
     ]
    }
   ],
   "source": [
    "c = np.arange(9, 30, 3)\n",
    "d = list(range(9, 30, 3))\n",
    "print(c)\n",
    "print(list(c))\n",
    "print(d)"
   ]
  },
  {
   "cell_type": "markdown",
   "metadata": {},
   "source": [
    "Similar to `np.arange`, `np.linspace` creates an array of evenly spaced numbers over a specified interval."
   ]
  },
  {
   "cell_type": "code",
<<<<<<< HEAD
   "execution_count": 132,
=======
   "execution_count": 4,
>>>>>>> upstream/master
   "metadata": {},
   "outputs": [
    {
     "name": "stdout",
     "output_type": "stream",
     "text": [
      "[0.         1.57079633 3.14159265 4.71238898 6.28318531]\n"
     ]
    }
   ],
   "source": [
    "pi_steps = np.linspace(0, 2 * np.pi, 5) # args: start, end, number of elements to produce. returns array of number of elements evenly spaced between start and end.\n",
    "print(pi_steps)"
   ]
  },
  {
   "cell_type": "markdown",
   "metadata": {},
   "source": [
    "## Indexing Elements"
   ]
  },
  {
   "cell_type": "code",
<<<<<<< HEAD
   "execution_count": 133,
=======
   "execution_count": 5,
>>>>>>> upstream/master
   "metadata": {},
   "outputs": [
    {
     "name": "stdout",
     "output_type": "stream",
     "text": [
      "[ 9 12 15 18 21 24 27]\n",
      "9\n",
      "12\n",
      "[15 18 21 24]\n",
      "[12 18 24]\n"
     ]
    }
   ],
   "source": [
    "print(c)\n",
    "print(c[0])  # Get element at index position 0\n",
    "print(c[1])  # Get element at index position 1\n",
    "print(c[2:6])  # Get subarray from index pos. 2 to excluding index pos. 6\n",
    "print(c[1:-1:2])  # Get every second element from subarray"
   ]
  },
  {
   "cell_type": "markdown",
   "metadata": {},
   "source": [
    "# Multi-Dimensional Arrays\n",
    "\n",
    "You can initialize multi-dimensional arrays either explicitely as in the following."
   ]
  },
  {
   "cell_type": "code",
<<<<<<< HEAD
   "execution_count": 134,
=======
   "execution_count": 6,
>>>>>>> upstream/master
   "metadata": {},
   "outputs": [
    {
     "name": "stdout",
     "output_type": "stream",
     "text": [
      "(3, 4)\n",
      "(3, 3, 4)\n"
     ]
    }
   ],
   "source": [
    "two_dim = np.array([[ 0,  1,  2,  3],\n",
    "                    [ 4,  5,  6,  7],\n",
    "                    [ 8,  9, 10, 11]])\n",
    "\n",
    "three_dim = np.array([[[ 0,  1,  2,  3],\n",
    "                       [ 4,  5,  6,  7],\n",
    "                       [ 8,  9, 10, 11]],\n",
    "\n",
    "                      [[12, 13, 14, 15],\n",
    "                       [16, 17, 18, 19],\n",
    "                       [20, 21, 22, 23]],\n",
    "\n",
    "                      [[24, 25, 26, 27],\n",
    "                       [28, 29, 30, 31],\n",
    "                       [32, 33, 34, 35]]])\n",
    "print(two_dim.shape)\n",
    "print(three_dim.shape)"
   ]
  },
  {
   "cell_type": "markdown",
   "metadata": {},
   "source": [
    "Or you create a one-dimensional array, which you `reshape` into the desired form."
   ]
  },
  {
   "cell_type": "code",
<<<<<<< HEAD
   "execution_count": 135,
=======
   "execution_count": 7,
>>>>>>> upstream/master
   "metadata": {},
   "outputs": [
    {
     "name": "stdout",
     "output_type": "stream",
     "text": [
      "[[11 12 13 14 15]\n",
      " [16 17 18 19 20]\n",
      " [21 22 23 24 25]\n",
      " [26 27 28 29 30]\n",
      " [31 32 33 34 35]]\n",
      "13\n",
      "(5, 5)\n"
     ]
    },
    {
     "data": {
      "text/plain": [
       "array([[ 0,  1,  2,  3],\n",
       "       [ 4,  5,  6,  7],\n",
       "       [ 8,  9, 10, 11]])"
      ]
     },
<<<<<<< HEAD
     "execution_count": 135,
=======
     "execution_count": 7,
>>>>>>> upstream/master
     "metadata": {},
     "output_type": "execute_result"
    }
   ],
   "source": [
    "a = np.arange(11, 36).reshape(5, 5)\n",
    "\n",
    "print(a)\n",
    "print(a[0, 2]) # print the 3 value of the first subarray\n",
    "print(a.shape)\n",
    "np.arange(12).reshape(3, 4)"
   ]
  },
  {
   "cell_type": "markdown",
   "metadata": {},
   "source": [
    "When defining shapes the shape coordinates are given in the order '*y*', '*x*' for two-dimensional arrays, '*z*', '*y*', '*x*' for three-dimensional arrays, and so on."
   ]
  },
  {
   "cell_type": "code",
<<<<<<< HEAD
   "execution_count": 136,
=======
   "execution_count": 8,
>>>>>>> upstream/master
   "metadata": {},
   "outputs": [
    {
     "name": "stdout",
     "output_type": "stream",
     "text": [
      "[[[ 0  1  2  3  4]\n",
      "  [ 5  6  7  8  9]\n",
      "  [10 11 12 13 14]]\n",
      "\n",
      " [[15 16 17 18 19]\n",
      "  [20 21 22 23 24]\n",
      "  [25 26 27 28 29]]\n",
      "\n",
      " [[30 31 32 33 34]\n",
      "  [35 36 37 38 39]\n",
      "  [40 41 42 43 44]]\n",
      "\n",
      " [[45 46 47 48 49]\n",
      "  [50 51 52 53 54]\n",
      "  [55 56 57 58 59]]]\n",
      "(4, 3, 5)\n"
     ]
    }
   ],
   "source": [
    "a = np.arange(60).reshape((4,3,5)) # z=4,y=3,x=5 \n",
    "print(a)\n",
    "print(a.shape)"
   ]
  },
  {
   "cell_type": "markdown",
   "metadata": {},
   "source": [
    "## Indexing Elements of Multi-dimensional Arrays\n",
    "\n",
    "  * How does one create a 2D-array as in the following with NumPy?\n",
    "  * How to select the highlighted data?"
   ]
  },
  {
   "cell_type": "markdown",
   "metadata": {},
   "source": [
    "![slicing_img](images/numpy_2D_slicing_diagram_task.png)"
   ]
  },
  {
   "cell_type": "code",
<<<<<<< HEAD
   "execution_count": 137,
=======
   "execution_count": 9,
>>>>>>> upstream/master
   "metadata": {},
   "outputs": [
    {
     "name": "stdout",
     "output_type": "stream",
     "text": [
      "[12 13 14]\n",
      "[16 21 26]\n",
      "[[11 13 15]\n",
      " [21 23 25]\n",
      " [31 33 35]]\n",
      "[12 17 22 27 32]\n"
     ]
    }
   ],
   "source": [
    "a = np.arange(11, 36).reshape(5, 5)\n",
    "# explanation: comma separates the arrays and colon does the positional selection\n",
    "# 2dArray[rows, columns]\n",
    "# double colon: get every n^th value e.g. ::2 menas print every second value and 2::3 means get every third value starting from third pos.\n",
    "print(a[0, 1:4])  # red: get one-dim. subarray of row 0, start:1 (pos=2) end:4 (not included, pos=4)\n",
    "print(a[1:4, 0])  # blue: get one-dim. subarrays (index 1,2,3) of column 0\n",
    "print(a[::2,::2]) # green: get a two-dim. subarray of every second element by row and column\n",
    "print(a[:, 1])    # purple: get the second column"
   ]
  },
  {
   "cell_type": "markdown",
   "metadata": {},
   "source": [
    "### Class exercise: table\n",
    "![](images/numpy_slice_ex.png)\n",
    "- on the above image find the 3 different slicings using only the array slicing notation"
   ]
  },
  {
<<<<<<< HEAD
   "cell_type": "code",
   "execution_count": 138,
   "metadata": {},
   "outputs": [
    {
     "name": "stdout",
     "output_type": "stream",
     "text": [
      "[[10 11 12 13 14]\n",
      " [15 16 17 18 19]\n",
      " [20 21 22 23 24]\n",
      " [25 26 27 28 29]]\n",
      "10\n",
      "[[11 13]\n",
      " [16 18]\n",
      " [21 23]\n",
      " [26 28]]\n",
      "[11 12 13]\n",
      "[14 24]\n"
     ]
    }
   ],
   "source": [
    "import numpy as np\n",
    "a = np.arange(10, 30).reshape(4, 5)\n",
    "print(a) # print everything\n",
    "print(a[0,0]) # print : YELLOW\n",
    "print(a[:,1::2]) # print : LIGHT BLUE\n",
    "print(a[0,1:-1]) # print : RED \n",
    "print(a[::2,4]) # print : DARK BLUE"
   ]
  },
  {
=======
>>>>>>> upstream/master
   "cell_type": "markdown",
   "metadata": {},
   "source": [
    "### 3D\n",
    "reshape can be done with multiple dimensions. Here is an example with 3d\n",
    "`a = np.arange(0, 27).reshape((3, 3, 3))`  \n",
    "![](images/cube.png)"
   ]
  },
  {
   "cell_type": "code",
<<<<<<< HEAD
   "execution_count": 139,
   "metadata": {
    "scrolled": true
   },
=======
   "execution_count": 10,
   "metadata": {},
>>>>>>> upstream/master
   "outputs": [
    {
     "name": "stdout",
     "output_type": "stream",
     "text": [
<<<<<<< HEAD
      "[[[ 0  1  2]\n",
      "  [ 3  4  5]\n",
      "  [ 6  7  8]]\n",
      "\n",
      " [[ 9 10 11]\n",
      "  [12 13 14]\n",
      "  [15 16 17]]\n",
      "\n",
      " [[18 19 20]\n",
      "  [21 22 23]\n",
      "  [24 25 26]]]\n",
      "a)\n",
      "[12 13 14]\n",
      "b)\n",
      "[ 3 12 21]\n",
      "c)\n",
      "[2 5 8]\n",
      "--------\n",
=======
>>>>>>> upstream/master
      "1st row (x-values): \n",
      " [0 1 2] \n",
      "---------\n",
      "1st collumn (y-values, where x==0): \n",
      " [0 3 6] \n",
      "---------\n",
      "1st depth (z-values, where y==0 and x==0): \n",
      " [ 0  9 18] \n",
      "---------\n",
      "value of first side, second slice, third piece:\n",
      " 5 \n",
      "-------------\n",
      "values of all x*z where y=2\n",
      " [[ 6  7  8]\n",
      " [15 16 17]\n",
      " [24 25 26]] \n",
      "----------\n",
      "all z and y values where x = 2: \n",
      " [[ 2  5  8]\n",
      " [11 14 17]\n",
      " [20 23 26]] \n",
      "--------\n",
      "skip each second z,y,x: \n",
      " [[[ 0  2]\n",
      "  [ 6  8]]\n",
      "\n",
      " [[18 20]\n",
      "  [24 26]]]\n"
     ]
    }
   ],
   "source": [
    "a = np.arange(0, 27).reshape((3, 3, 3)) # = (z, y, x)\n",
    "#print('whole cube: \\n',a, '\\n---------------')\n",
    "\n",
<<<<<<< HEAD
    "print(a)\n",
    "print('a)')\n",
    "print(a[1,1,0::])\n",
    "print('b)')\n",
    "print(a[0:,1,0])\n",
    "print('c)')\n",
    "print(a[0,0:,2])\n",
    "print('--------')\n",
=======
>>>>>>> upstream/master
    "print('1st row (x-values): \\n',a[0,0,:],'\\n---------')\n",
    "print('1st collumn (y-values, where x==0): \\n',a[0,:,0],'\\n---------')\n",
    "print('1st depth (z-values, where y==0 and x==0): \\n',a[:,0,0],'\\n---------')\n",
    "print('value of first side, second slice, third piece:\\n',a[0, 1, 2], '\\n-------------')  # equal to a[0][1][2] = 5\n",
    "print('values of all x*z where y=2\\n',a[:,2], '\\n----------')  # equivivalent to a[:,2,:] all z, y=2, all x.\n",
    "print('all z and y values where x = 2: \\n',a[:,:,2], '\\n--------')  # \n",
    "print('skip each second z,y,x: \\n',a[::2,::2,::2])  # all z (skip each second) and all y (skip each second) etc."
   ]
  },
  {
   "cell_type": "markdown",
   "metadata": {},
   "source": [
    "### Class exercise: cube\n",
    "1. Slice out [12 13 14] from the above cube using only one slice. e.g: a[:,:,:]\n",
    "2. Slice out [3 12 21].\n",
    "3. Slice out all y-values where x is 2 and z is 0."
   ]
  },
  {
   "cell_type": "code",
<<<<<<< HEAD
   "execution_count": 140,
   "metadata": {},
   "outputs": [
    {
     "name": "stderr",
     "output_type": "stream",
     "text": [
      "UsageError: Line magic function `%autoreload` not found.\n"
=======
   "execution_count": 11,
   "metadata": {},
   "outputs": [
    {
     "name": "stdout",
     "output_type": "stream",
     "text": [
      "[12 13 14]\n",
      "[ 3 12 21]\n",
      "[2 5 8]\n"
>>>>>>> upstream/master
     ]
    }
   ],
   "source": [
<<<<<<< HEAD
    "#%load_ext autoreload\n",
=======
    "%load_ext autoreload\n",
>>>>>>> upstream/master
    "%autoreload 2\n",
    "# %aimport solutions.numpy_ex\n",
    "from solutions import numpy_ex as nump\n",
    "nump.cube_ex()"
   ]
  },
  {
   "cell_type": "markdown",
   "metadata": {},
   "source": [
    "### Properties of the numpy array"
   ]
  },
  {
   "cell_type": "code",
<<<<<<< HEAD
   "execution_count": null,
   "metadata": {},
   "outputs": [],
=======
   "execution_count": 12,
   "metadata": {},
   "outputs": [
    {
     "name": "stdout",
     "output_type": "stream",
     "text": [
      "type:  <class 'numpy.ndarray'>\n",
      "dtype int8\n",
      "size 60\n",
      "shape (4, 3, 5)\n",
      "itemsize:  1\n",
      "ndim:  3\n",
      "nbytes:  60\n"
     ]
    }
   ],
>>>>>>> upstream/master
   "source": [
    "a = np.arange(10, 70, dtype=np.int8).reshape((4,3,5))\n",
    "\n",
    "print('type: ',type(a))\n",
    "print('dtype',a.dtype)\n",
    "print('size',a.size)\n",
    "print('shape',a.shape)\n",
    "print('itemsize: ',a.itemsize)\n",
    "print('ndim: ',a.ndim)\n",
    "print('nbytes: ',a.nbytes)"
   ]
  },
  {
   "cell_type": "markdown",
   "metadata": {},
   "source": [
    "## Basic Operators"
   ]
  },
  {
   "cell_type": "code",
<<<<<<< HEAD
   "execution_count": null,
   "metadata": {},
   "outputs": [],
   "source": [
    "a = np.ones((3, 3))\n",
=======
   "execution_count": 43,
   "metadata": {},
   "outputs": [
    {
     "name": "stdout",
     "output_type": "stream",
     "text": [
      "[[1. 1. 1.]\n",
      " [1. 1. 1.]\n",
      " [1. 1. 1.]] \n",
      "-------------\n",
      "[[1. 1. 1.]\n",
      " [2. 2. 2.]\n",
      " [3. 3. 3.]]\n",
      "[[0 1 2]\n",
      " [3 4 5]\n",
      " [6 7 8]]\n"
     ]
    }
   ],
   "source": [
    "a = np.ones((3, 3))\n",
    "print(a, '\\n-------------')\n",
>>>>>>> upstream/master
    "a[1] = 2\n",
    "a[2] = 3\n",
    "b = np.arange(9).reshape(3, 3)\n",
    "\n",
    "print(a)\n",
    "print(b)"
   ]
  },
  {
   "cell_type": "code",
<<<<<<< HEAD
   "execution_count": null,
   "metadata": {},
   "outputs": [],
=======
   "execution_count": 14,
   "metadata": {},
   "outputs": [
    {
     "name": "stdout",
     "output_type": "stream",
     "text": [
      "a: \n",
      " [[1 1 1]\n",
      " [2 2 2]\n",
      " [3 3 3]]\n",
      "b: \n",
      " [[0 1 2]\n",
      " [3 4 5]\n",
      " [6 7 8]]\n",
      "a+b: \n",
      " [[ 1  2  3]\n",
      " [ 5  6  7]\n",
      " [ 9 10 11]]\n"
     ]
    }
   ],
>>>>>>> upstream/master
   "source": [
    "a = np.ones((3, 3), dtype=int)\n",
    "a[1] = 2\n",
    "a[2] = 3\n",
    "b = np.arange(9).reshape(3, 3)\n",
    "\n",
    "print('a: \\n',a)\n",
    "print('b: \\n',b) \n",
    "\n",
    "print('a+b: \\n',a + b) # sum values on each index"
   ]
  },
  {
   "cell_type": "code",
<<<<<<< HEAD
   "execution_count": null,
   "metadata": {},
   "outputs": [],
=======
   "execution_count": 15,
   "metadata": {},
   "outputs": [
    {
     "name": "stdout",
     "output_type": "stream",
     "text": [
      "[[ 1  0 -1]\n",
      " [-1 -2 -3]\n",
      " [-3 -4 -5]]\n"
     ]
    }
   ],
>>>>>>> upstream/master
   "source": [
    "print(a - b)"
   ]
  },
  {
   "cell_type": "code",
<<<<<<< HEAD
   "execution_count": null,
   "metadata": {},
   "outputs": [],
=======
   "execution_count": 16,
   "metadata": {},
   "outputs": [
    {
     "name": "stdout",
     "output_type": "stream",
     "text": [
      "[[ 0  1  2]\n",
      " [ 6  8 10]\n",
      " [18 21 24]]\n"
     ]
    }
   ],
>>>>>>> upstream/master
   "source": [
    "print(a * b)"
   ]
  },
  {
   "cell_type": "code",
<<<<<<< HEAD
   "execution_count": null,
   "metadata": {},
   "outputs": [],
=======
   "execution_count": 17,
   "metadata": {},
   "outputs": [
    {
     "name": "stdout",
     "output_type": "stream",
     "text": [
      "[[0.         1.         2.        ]\n",
      " [1.5        2.         2.5       ]\n",
      " [2.         2.33333333 2.66666667]]\n"
     ]
    }
   ],
>>>>>>> upstream/master
   "source": [
    "print(b / a)"
   ]
  },
  {
   "cell_type": "code",
<<<<<<< HEAD
   "execution_count": null,
   "metadata": {},
   "outputs": [],
=======
   "execution_count": 18,
   "metadata": {},
   "outputs": [
    {
     "name": "stdout",
     "output_type": "stream",
     "text": [
      "[[1 1 1]\n",
      " [4 4 4]\n",
      " [9 9 9]]\n"
     ]
    }
   ],
>>>>>>> upstream/master
   "source": [
    "print(a ** 2)"
   ]
  },
  {
   "cell_type": "code",
<<<<<<< HEAD
   "execution_count": null,
   "metadata": {},
   "outputs": [],
=======
   "execution_count": 19,
   "metadata": {},
   "outputs": [
    {
     "name": "stdout",
     "output_type": "stream",
     "text": [
      "[[False False  True]\n",
      " [ True  True  True]\n",
      " [ True  True  True]]\n"
     ]
    }
   ],
>>>>>>> upstream/master
   "source": [
    "print(a < b)"
   ]
  },
  {
   "cell_type": "code",
<<<<<<< HEAD
   "execution_count": null,
   "metadata": {},
   "outputs": [],
=======
   "execution_count": 20,
   "metadata": {},
   "outputs": [
    {
     "name": "stdout",
     "output_type": "stream",
     "text": [
      "[[ True False False]\n",
      " [False False False]\n",
      " [False False False]]\n"
     ]
    }
   ],
>>>>>>> upstream/master
   "source": [
    "print(a > b)"
   ]
  },
  {
   "cell_type": "code",
<<<<<<< HEAD
   "execution_count": null,
   "metadata": {},
   "outputs": [],
   "source": [
    "# for 2 np arrays with nummeric values the product of the matching indices are summed.\n",
    "print(a)\n",
    "print(b)\n",
    "print(a.dot(b))"
   ]
  },
  {
   "cell_type": "code",
   "execution_count": null,
   "metadata": {},
   "outputs": [],
=======
   "execution_count": 22,
   "metadata": {},
   "outputs": [
    {
     "name": "stdout",
     "output_type": "stream",
     "text": [
      "adding all the products a[0,0]*b[0,0]+a[1,0]*b[1,0]...\n",
      " 14\n",
      "adding all the products a[0,0]*b[0,0]+a[1,0]*b[1,0]...\n",
      " 14\n"
     ]
    }
   ],
>>>>>>> upstream/master
   "source": [
    "array_a = np.array([1,2,3]) \n",
    "array_b = np.array([1,2,3]) \n",
    "\n",
    "print('adding all the products a[0,0]*b[0,0]+a[1,0]*b[1,0]...\\n'\n",
    "      ,np.dot(array_a, array_b))\n",
    "\n",
    "print('adding all the products a[0,0]*b[0,0]+a[1,0]*b[1,0]...\\n'\n",
    "      ,array_a.dot(array_b))\n"
   ]
  },
  {
   "cell_type": "code",
<<<<<<< HEAD
   "execution_count": null,
   "metadata": {},
   "outputs": [],
=======
   "execution_count": 23,
   "metadata": {},
   "outputs": [
    {
     "name": "stdout",
     "output_type": "stream",
     "text": [
      "[[1 1 1]\n",
      " [2 2 2]\n",
      " [3 3 3]]\n",
      "15\n",
      "[ 1  2  3  5  7  9 12 15 18]\n",
      "1\n",
      "3\n"
     ]
    }
   ],
>>>>>>> upstream/master
   "source": [
    "print(a)\n",
    "\n",
    "print(a[1:4].sum())\n",
    "print(a.cumsum()) #cumulated sum\n",
    "print(a.min())\n",
    "print(a.max())"
   ]
  },
  {
   "cell_type": "markdown",
   "metadata": {},
   "source": [
    "## Fancy Indexing\n",
    "\n"
   ]
  },
  {
   "cell_type": "code",
<<<<<<< HEAD
   "execution_count": null,
   "metadata": {},
   "outputs": [],
=======
   "execution_count": 24,
   "metadata": {},
   "outputs": [
    {
     "name": "stdout",
     "output_type": "stream",
     "text": [
      "[ 1  5 -1]\n",
      "[ 0 10 20 30 40 50 60 70 80 90]\n",
      "[10 50 90]\n"
     ]
    }
   ],
>>>>>>> upstream/master
   "source": [
    "# use one np array as indices for another\n",
    "a = np.arange(0, 100, 10)\n",
    "indices = np.array([1, 5, -1])\n",
    "print(indices)\n",
    "print(a)\n",
    "print(a[indices])"
   ]
  },
  {
   "cell_type": "markdown",
   "metadata": {},
   "source": [
    "## Boolean masking\n",
    "retrieving only the numbers that matches the condition. The mask is a condition\n",
    "and `a[mask]` is the part of a[] that matches the condition.\n",
    "\n"
   ]
  },
  {
   "cell_type": "code",
<<<<<<< HEAD
   "execution_count": null,
   "metadata": {},
   "outputs": [],
=======
   "execution_count": 25,
   "metadata": {},
   "outputs": [
    {
     "data": {
      "text/plain": [
       "[<matplotlib.lines.Line2D at 0x7f12bcafa5f8>]"
      ]
     },
     "execution_count": 25,
     "metadata": {},
     "output_type": "execute_result"
    },
    {
     "data": {
      "image/png": "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\n",
      "text/plain": [
       "<Figure size 432x288 with 1 Axes>"
      ]
     },
     "metadata": {
      "needs_background": "light"
     },
     "output_type": "display_data"
    }
   ],
>>>>>>> upstream/master
   "source": [
    "# X=Having 50 values between 0-2*pi, Y=sinus values to x\n",
    "import matplotlib.pyplot as plt\n",
    " \n",
    "xs = np.linspace(0, 2 * np.pi, 50)\n",
    "ys = np.sin(xs)\n",
    "#print(xs,'\\n',ys, '\\n',len(ys))\n",
    "plt.plot(xs, ys)"
   ]
  },
  {
   "cell_type": "code",
<<<<<<< HEAD
   "execution_count": null,
   "metadata": {},
   "outputs": [],
   "source": [
    "mask = ys >= 0                        # condition for the blue dots\n",
    "plt.plot(xs[mask], ys[mask], 'b')    # rendering the blue plots only with filtered values\n",
=======
   "execution_count": 50,
   "metadata": {},
   "outputs": [
    {
     "data": {
      "image/png": "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\n",
      "text/plain": [
       "<Figure size 432x288 with 1 Axes>"
      ]
     },
     "metadata": {
      "needs_background": "light"
     },
     "output_type": "display_data"
    }
   ],
   "source": [
    "mask = ys >= 0                        # condition for the blue dots\n",
    "plt.plot(xs[mask], ys[mask], 'bx')    # rendering the blue plots only with filtered values\n",
>>>>>>> upstream/master
    "mask = (ys < 0)                       # condition for the green dots\n",
    "plt.plot(xs[mask], ys[mask], 'go')    # condition applied to xs and ys data sets\n",
    "plt.show()"
   ]
  },
  {
   "cell_type": "markdown",
   "metadata": {},
   "source": [
    "## Incomplete Indexing\n",
    "\n",
    "As you saw above, you can omit index numbers, which then default to index 0 or index for the last element of the array."
   ]
  },
  {
   "cell_type": "code",
<<<<<<< HEAD
   "execution_count": null,
   "metadata": {},
   "outputs": [],
=======
   "execution_count": 55,
   "metadata": {},
   "outputs": [
    {
     "name": "stdout",
     "output_type": "stream",
     "text": [
      "[ 0 20 60 80]\n",
      "---------------\n",
      " [0 None 20 None None None 60 None 80 None]\n"
     ]
    }
   ],
>>>>>>> upstream/master
   "source": [
    "a = np.arange(0, 100, 10)\n",
    "b = a[:5]                       # when first index is 0 we can omit it.\n",
    "c = a[a >= 50]                  # mask provided to filter all values below 50\n",
    "d = a[(a%20 == 0) & (a != 40)]  # more complex conditinal mask\n",
<<<<<<< HEAD
    "print(d)"
=======
    "e = np.where((a%20 == 0) & (a != 40), a, None)\n",
    "print(d)\n",
    "print('---------------\\n',e)"
>>>>>>> upstream/master
   ]
  },
  {
   "cell_type": "markdown",
   "metadata": {},
   "source": [
    "## Where\n",
    "\n",
    "the `where()` function is another useful way of retrieving elements of an array conditionally. Simply pass it a condition and it will return a tuple of lists of elements where that condition is true."
   ]
  },
  {
   "cell_type": "code",
<<<<<<< HEAD
   "execution_count": 182,
=======
   "execution_count": 57,
>>>>>>> upstream/master
   "metadata": {},
   "outputs": [
    {
     "name": "stdout",
     "output_type": "stream",
     "text": [
      "a contains all values:  [ 0 10 20 30 40 50 60 70 80 90]\n",
      "b contains the indices of the filtered values:  (array([0, 1, 2, 3, 4]),) <class 'tuple'>\n",
<<<<<<< HEAD
      "c contains the filtered values: in [5 6 7 8 9] <class 'numpy.ndarray'>\n"
=======
      "c contains the filtered values: in [5 6 7 8 9] <class 'numpy.ndarray'>\n",
      "using the indices returned by np.where to get the values:\n",
      " [50 60 70 80 90]\n"
>>>>>>> upstream/master
     ]
    }
   ],
   "source": [
    "a = np.arange(0, 100, 10)\n",
    "b = np.where(a < 50)     # returns a tuple\n",
    "c = np.where(a >= 50)[0] # returns an array (first element of the tuple is the data array)\n",
<<<<<<< HEAD
    "print('a contains all values: ',a)\n",
    "print('b contains the indices of the filtered values: ',b,type(b))\n",
    "print('c contains the filtered values: in',c,type(c))"
=======
    "\n",
    "print('a contains all values: ',a)\n",
    "print('b contains the indices of the filtered values: ',b,type(b))\n",
    "print('c contains the filtered values: in',c,type(c))\n",
    "print('using the indices returned by np.where to get the values:\\n',a[c])"
>>>>>>> upstream/master
   ]
  },
  {
   "cell_type": "markdown",
   "metadata": {},
   "source": [
    "### Class exercise: masking\n",
    "- For the dataset: `data = np.arange(1,101).reshape(10,10)`\n",
    "  - apply a mask that will return only the even numbers\n",
    "  - using `np.where()` return only numbers that ends with 6\n",
<<<<<<< HEAD
    "  - using the operators: `%` or `|` mask away both numbers that is divisible by 3 and numbers begging with 8\n"
=======
    "  - using the operators: `%` or `|` mask away both numbers that is divisible by 3 and numbers begining with 8\n"
>>>>>>> upstream/master
   ]
  },
  {
   "cell_type": "code",
<<<<<<< HEAD
   "execution_count": 258,
=======
   "execution_count": 29,
>>>>>>> upstream/master
   "metadata": {
    "scrolled": true
   },
   "outputs": [
    {
     "name": "stdout",
     "output_type": "stream",
     "text": [
<<<<<<< HEAD
      "[[  1   2   3   4   5   6   7   8   9  10]\n",
=======
      "dataset:\n",
      " [[  1   2   3   4   5   6   7   8   9  10]\n",
>>>>>>> upstream/master
      " [ 11  12  13  14  15  16  17  18  19  20]\n",
      " [ 21  22  23  24  25  26  27  28  29  30]\n",
      " [ 31  32  33  34  35  36  37  38  39  40]\n",
      " [ 41  42  43  44  45  46  47  48  49  50]\n",
      " [ 51  52  53  54  55  56  57  58  59  60]\n",
      " [ 61  62  63  64  65  66  67  68  69  70]\n",
      " [ 71  72  73  74  75  76  77  78  79  80]\n",
      " [ 81  82  83  84  85  86  87  88  89  90]\n",
      " [ 91  92  93  94  95  96  97  98  99 100]]\n",
<<<<<<< HEAD
      "---------\n",
      "[[  2   4   6   8  10]\n",
      " [ 12  14  16  18  20]\n",
      " [ 22  24  26  28  30]\n",
      " [ 32  34  36  38  40]\n",
      " [ 42  44  46  48  50]\n",
      " [ 52  54  56  58  60]\n",
      " [ 62  64  66  68  70]\n",
      " [ 72  74  76  78  80]\n",
      " [ 82  84  86  88  90]\n",
      " [ 92  94  96  98 100]]\n",
      "---------\n",
      "[ 6 16 26 36 46 56 66 76 86 96]\n",
      "---------\n",
      "[  1   2   4   5   7   8  10  11  13  14  16  17  19  20  22  23  25  26\n",
      "  28  29  31  32  34  35  37  38  40  41  43  44  46  47  49  50  52  53\n",
      "  55  56  58  59  61  62  64  65  67  68  70  71  73  74  76  77  79  91\n",
      "  92  94  95  97  98 100]\n"
=======
      "even numbers:\n",
      " [  2   4   6   8  10  12  14  16  18  20  22  24  26  28  30  32  34  36\n",
      "  38  40  42  44  46  48  50  52  54  56  58  60  62  64  66  68  70  72\n",
      "  74  76  78  80  82  84  86  88  90  92  94  96  98 100]\n",
      "ending with 6 [ 6 16 26 36 46 56 66 76 86 96]\n",
      "divisible by 3 and beginning with 8 [81 84 87]\n"
>>>>>>> upstream/master
     ]
    }
   ],
   "source": [
    "# solution:\n",
<<<<<<< HEAD
    "\n",
    "#%load_ext autoreload\n",
    "#%aimport solutions.numpy_ex\n",
    "#from solutions import numpy_ex as nump\n",
    "#nump.cube_ex()\n",
    "#nump.masking_ex()\n",
    "data = np.arange(1,101).reshape(10,10)\n",
    "print(data)\n",
    "print('---------')\n",
    "even = data[data%2 == 0]\n",
    "print(even.reshape(10,5))\n",
    "print('---------')\n",
    "mask = np.where(data % 10 == 6)\n",
    "print(data[mask])\n",
    "print('---------')\n",
    "mask = np.where((data % 3 != 0) & ((data < 80) | (data > 90)))\n",
    "print(data[mask])\n"
=======
    "nump.masking_ex()"
>>>>>>> upstream/master
   ]
  },
  {
   "cell_type": "markdown",
   "metadata": {},
   "source": [
<<<<<<< HEAD
    "### Why do we care about NumPy?\n",
=======
    "# Why do we care about NumPy?\n",
>>>>>>> upstream/master
    "\n",
    "Because we want to get things done. As you remember from the last session *Intro to Plotting.ipynb*, we had to write quite a bit of code to compute the histograms for the age distribution within Copenhagen citizens per year.\n",
    "\n",
    "By representing our input data as a matrix, i.e., a two-dimensional array, and using boolean indexing, we can generate for example the histograms way more concisely and with way fewer lines of code.\n",
    "\n",
    "In the following we use Pandas, to import the CSV file with the statistics about Copenhagen citizens and we convert the read data into a numpy matrix. We will have a closer look on the  Pandas library in the next session."
   ]
  },
  {
   "cell_type": "code",
<<<<<<< HEAD
   "execution_count": null,
   "metadata": {},
   "outputs": [],
=======
   "execution_count": 30,
   "metadata": {},
   "outputs": [
    {
     "name": "stderr",
     "output_type": "stream",
     "text": [
      "--2019-02-26 13:14:27--  https://data.kk.dk/dataset/76ecf368-bf2d-46a2-bcf8-adaf37662528/resource/9286af17-f74e-46c9-a428-9fb707542189/download/befkbhalderstatkode.csv\n",
      "Resolving data.kk.dk (data.kk.dk)... 185.134.30.209\n",
      "Connecting to data.kk.dk (data.kk.dk)|185.134.30.209|:443... connected.\n",
      "HTTP request sent, awaiting response... 200 OK\n",
      "Length: 9852462 (9.4M) [text/csv]\n",
      "Saving to: ‘befkbhalderstatkode.csv.3’\n",
      "\n",
      "     0K .......... .......... .......... .......... ..........  0% 3.57M 3s\n",
      "    50K .......... .......... .......... .......... ..........  1% 3.96M 2s\n",
      "   100K .......... .......... .......... .......... ..........  1% 5.12M 2s\n",
      "   150K .......... .......... .......... .......... ..........  2% 3.47M 2s\n",
      "   200K .......... .......... .......... .......... ..........  2% 7.92M 2s\n",
      "   250K .......... .......... .......... .......... ..........  3% 3.84M 2s\n",
      "   300K .......... .......... .......... .......... ..........  3% 6.33M 2s\n",
      "   350K .......... .......... .......... .......... ..........  4% 4.11M 2s\n",
      "   400K .......... .......... .......... .......... ..........  4% 7.34M 2s\n",
      "   450K .......... .......... .......... .......... ..........  5% 7.14M 2s\n",
      "   500K .......... .......... .......... .......... ..........  5% 6.89M 2s\n",
      "   550K .......... .......... .......... .......... ..........  6% 4.12M 2s\n",
      "   600K .......... .......... .......... .......... ..........  6% 6.83M 2s\n",
      "   650K .......... .......... .......... .......... ..........  7% 6.59M 2s\n",
      "   700K .......... .......... .......... .......... ..........  7% 6.80M 2s\n",
      "   750K .......... .......... .......... .......... ..........  8% 4.59M 2s\n",
      "   800K .......... .......... .......... .......... ..........  8% 10.7M 2s\n",
      "   850K .......... .......... .......... .......... ..........  9% 8.48M 2s\n",
      "   900K .......... .......... .......... .......... ..........  9% 11.1M 2s\n",
      "   950K .......... .......... .......... .......... .......... 10% 7.54M 2s\n",
      "  1000K .......... .......... .......... .......... .......... 10% 17.0M 1s\n",
      "  1050K .......... .......... .......... .......... .......... 11% 10.7M 1s\n",
      "  1100K .......... .......... .......... .......... .......... 11% 7.24M 1s\n",
      "  1150K .......... .......... .......... .......... .......... 12% 5.18M 1s\n",
      "  1200K .......... .......... .......... .......... .......... 12% 6.57M 1s\n",
      "  1250K .......... .......... .......... .......... .......... 13% 37.2M 1s\n",
      "  1300K .......... .......... .......... .......... .......... 14% 6.22M 1s\n",
      "  1350K .......... .......... .......... .......... .......... 14% 6.07M 1s\n",
      "  1400K .......... .......... .......... .......... .......... 15% 14.8M 1s\n",
      "  1450K .......... .......... .......... .......... .......... 15% 15.6M 1s\n",
      "  1500K .......... .......... .......... .......... .......... 16% 9.85M 1s\n",
      "  1550K .......... .......... .......... .......... .......... 16% 7.49M 1s\n",
      "  1600K .......... .......... .......... .......... .......... 17% 23.6M 1s\n",
      "  1650K .......... .......... .......... .......... .......... 17% 6.25M 1s\n",
      "  1700K .......... .......... .......... .......... .......... 18% 48.8M 1s\n",
      "  1750K .......... .......... .......... .......... .......... 18% 6.74M 1s\n",
      "  1800K .......... .......... .......... .......... .......... 19% 43.4M 1s\n",
      "  1850K .......... .......... .......... .......... .......... 19% 7.83M 1s\n",
      "  1900K .......... .......... .......... .......... .......... 20% 44.1M 1s\n",
      "  1950K .......... .......... .......... .......... .......... 20% 8.80M 1s\n",
      "  2000K .......... .......... .......... .......... .......... 21% 34.3M 1s\n",
      "  2050K .......... .......... .......... .......... .......... 21% 8.54M 1s\n",
      "  2100K .......... .......... .......... .......... .......... 22% 10.5M 1s\n",
      "  2150K .......... .......... .......... .......... .......... 22% 19.0M 1s\n",
      "  2200K .......... .......... .......... .......... .......... 23% 13.9M 1s\n",
      "  2250K .......... .......... .......... .......... .......... 23% 14.2M 1s\n",
      "  2300K .......... .......... .......... .......... .......... 24% 8.59M 1s\n",
      "  2350K .......... .......... .......... .......... .......... 24% 22.4M 1s\n",
      "  2400K .......... .......... .......... .......... .......... 25% 24.9M 1s\n",
      "  2450K .......... .......... .......... .......... .......... 25% 6.64M 1s\n",
      "  2500K .......... .......... .......... .......... .......... 26% 22.8M 1s\n",
      "  2550K .......... .......... .......... .......... .......... 27% 8.53M 1s\n",
      "  2600K .......... .......... .......... .......... .......... 27% 41.9M 1s\n",
      "  2650K .......... .......... .......... .......... .......... 28% 16.0M 1s\n",
      "  2700K .......... .......... .......... .......... .......... 28% 10.6M 1s\n",
      "  2750K .......... .......... .......... .......... .......... 29% 6.06M 1s\n",
      "  2800K .......... .......... .......... .......... .......... 29% 52.3M 1s\n",
      "  2850K .......... .......... .......... .......... .......... 30% 40.9M 1s\n",
      "  2900K .......... .......... .......... .......... .......... 30% 6.73M 1s\n",
      "  2950K .......... .......... .......... .......... .......... 31% 20.4M 1s\n",
      "  3000K .......... .......... .......... .......... .......... 31% 6.73M 1s\n",
      "  3050K .......... .......... .......... .......... .......... 32% 34.6M 1s\n",
      "  3100K .......... .......... .......... .......... .......... 32% 38.8M 1s\n",
      "  3150K .......... .......... .......... .......... .......... 33% 6.78M 1s\n",
      "  3200K .......... .......... .......... .......... .......... 33% 24.8M 1s\n",
      "  3250K .......... .......... .......... .......... .......... 34% 13.2M 1s\n",
      "  3300K .......... .......... .......... .......... .......... 34% 22.8M 1s\n",
      "  3350K .......... .......... .......... .......... .......... 35% 34.0M 1s\n",
      "  3400K .......... .......... .......... .......... .......... 35% 10.7M 1s\n",
      "  3450K .......... .......... .......... .......... .......... 36% 29.0M 1s\n",
      "  3500K .......... .......... .......... .......... .......... 36% 10.2M 1s\n",
      "  3550K .......... .......... .......... .......... .......... 37% 39.9M 1s\n",
      "  3600K .......... .......... .......... .......... .......... 37% 32.6M 1s\n",
      "  3650K .......... .......... .......... .......... .......... 38% 10.7M 1s\n",
      "  3700K .......... .......... .......... .......... .......... 38% 29.6M 1s\n",
      "  3750K .......... .......... .......... .......... .......... 39% 8.35M 1s\n",
      "  3800K .......... .......... .......... .......... .......... 40% 26.3M 1s\n",
      "  3850K .......... .......... .......... .......... .......... 40% 42.2M 1s\n",
      "  3900K .......... .......... .......... .......... .......... 41% 12.0M 1s\n",
      "  3950K .......... .......... .......... .......... .......... 41% 15.6M 1s\n",
      "  4000K .......... .......... .......... .......... .......... 42% 13.1M 1s\n",
      "  4050K .......... .......... .......... .......... .......... 42% 60.8M 1s\n",
      "  4100K .......... .......... .......... .......... .......... 43% 16.0M 1s\n",
      "  4150K .......... .......... .......... .......... .......... 43% 12.1M 1s\n",
      "  4200K .......... .......... .......... .......... .......... 44% 21.1M 1s\n",
      "  4250K .......... .......... .......... .......... .......... 44% 26.0M 1s\n",
      "  4300K .......... .......... .......... .......... .......... 45% 12.7M 1s\n",
      "  4350K .......... .......... .......... .......... .......... 45% 24.5M 1s\n",
      "  4400K .......... .......... .......... .......... .......... 46% 8.52M 1s\n",
      "  4450K .......... .......... .......... .......... .......... 46% 34.5M 0s\n",
      "  4500K .......... .......... .......... .......... .......... 47% 58.1M 0s\n",
      "  4550K .......... .......... .......... .......... .......... 47% 10.4M 0s\n",
      "  4600K .......... .......... .......... .......... .......... 48% 22.6M 0s\n",
      "  4650K .......... .......... .......... .......... .......... 48% 11.2M 0s\n",
      "  4700K .......... .......... .......... .......... .......... 49% 19.8M 0s\n",
      "  4750K .......... .......... .......... .......... .......... 49% 10.6M 0s\n",
      "  4800K .......... .......... .......... .......... .......... 50% 57.4M 0s\n",
      "  4850K .......... .......... .......... .......... .......... 50% 17.2M 0s\n",
      "  4900K .......... .......... .......... .......... .......... 51% 13.3M 0s\n",
      "  4950K .......... .......... .......... .......... .......... 51% 23.9M 0s\n",
      "  5000K .......... .......... .......... .......... .......... 52% 54.6M 0s\n",
      "  5050K .......... .......... .......... .......... .......... 53% 20.8M 0s\n",
      "  5100K .......... .......... .......... .......... .......... 53% 48.5M 0s\n",
      "  5150K .......... .......... .......... .......... .......... 54% 16.6M 0s\n",
      "  5200K .......... .......... .......... .......... .......... 54% 15.4M 0s\n",
      "  5250K .......... .......... .......... .......... .......... 55% 60.4M 0s\n",
      "  5300K .......... .......... .......... .......... .......... 55% 22.6M 0s\n",
      "  5350K .......... .......... .......... .......... .......... 56% 29.6M 0s\n",
      "  5400K .......... .......... .......... .......... .......... 56% 16.2M 0s\n",
      "  5450K .......... .......... .......... .......... .......... 57% 72.6M 0s\n",
      "  5500K .......... .......... .......... .......... .......... 57% 35.2M 0s\n",
      "  5550K .......... .......... .......... .......... .......... 58% 23.1M 0s\n",
      "  5600K .......... .......... .......... .......... .......... 58% 17.0M 0s\n",
      "  5650K .......... .......... .......... .......... .......... 59% 27.3M 0s\n",
      "  5700K .......... .......... .......... .......... .......... 59% 62.1M 0s\n",
      "  5750K .......... .......... .......... .......... .......... 60% 22.3M 0s\n",
      "  5800K .......... .......... .......... .......... .......... 60% 25.3M 0s\n",
      "  5850K .......... .......... .......... .......... .......... 61% 14.1M 0s\n",
      "  5900K .......... .......... .......... .......... .......... 61% 76.1M 0s\n",
      "  5950K .......... .......... .......... .......... .......... 62% 26.2M 0s\n",
      "  6000K .......... .......... .......... .......... .......... 62% 17.6M 0s\n",
      "  6050K .......... .......... .......... .......... .......... 63% 26.5M 0s\n",
      "  6100K .......... .......... .......... .......... .......... 63% 38.9M 0s\n",
      "  6150K .......... .......... .......... .......... .......... 64% 30.5M 0s\n",
      "  6200K .......... .......... .......... .......... .......... 64% 17.0M 0s\n",
      "  6250K .......... .......... .......... .......... .......... 65% 12.8M 0s\n",
      "  6300K .......... .......... .......... .......... .......... 65% 30.8M 0s\n",
      "  6350K .......... .......... .......... .......... .......... 66% 6.44M 0s\n",
      "  6400K .......... .......... .......... .......... .......... 67% 57.3M 0s\n",
      "  6450K .......... .......... .......... .......... .......... 67% 67.1M 0s\n",
      "  6500K .......... .......... .......... .......... .......... 68% 56.2M 0s\n",
      "  6550K .......... .......... .......... .......... .......... 68% 4.59M 0s\n",
      "  6600K .......... .......... .......... .......... .......... 69% 51.2M 0s\n",
      "  6650K .......... .......... .......... .......... .......... 69% 48.5M 0s\n",
      "  6700K .......... .......... .......... .......... .......... 70% 50.4M 0s\n",
      "  6750K .......... .......... .......... .......... .......... 70% 7.57M 0s\n",
      "  6800K .......... .......... .......... .......... .......... 71% 47.4M 0s\n",
      "  6850K .......... .......... .......... .......... .......... 71% 25.2M 0s\n",
      "  6900K .......... .......... .......... .......... .......... 72% 37.1M 0s\n",
      "  6950K .......... .......... .......... .......... .......... 72% 16.5M 0s\n",
      "  7000K .......... .......... .......... .......... .......... 73% 35.4M 0s\n",
      "  7050K .......... .......... .......... .......... .......... 73% 20.1M 0s\n",
      "  7100K .......... .......... .......... .......... .......... 74% 24.7M 0s\n",
      "  7150K .......... .......... .......... .......... .......... 74% 17.0M 0s\n",
      "  7200K .......... .......... .......... .......... .......... 75% 25.0M 0s\n",
      "  7250K .......... .......... .......... .......... .......... 75% 25.4M 0s\n",
      "  7300K .......... .......... .......... .......... .......... 76% 21.5M 0s\n",
      "  7350K .......... .......... .......... .......... .......... 76% 54.6M 0s\n",
      "  7400K .......... .......... .......... .......... .......... 77% 15.4M 0s\n",
      "  7450K .......... .......... .......... .......... .......... 77% 23.5M 0s\n",
      "  7500K .......... .......... .......... .......... .......... 78% 16.5M 0s\n",
      "  7550K .......... .......... .......... .......... .......... 78% 67.3M 0s\n",
      "  7600K .......... .......... .......... .......... .......... 79% 76.3M 0s\n",
      "  7650K .......... .......... .......... .......... .......... 80% 10.5M 0s\n",
      "  7700K .......... .......... .......... .......... .......... 80% 64.9M 0s\n",
      "  7750K .......... .......... .......... .......... .......... 81% 61.3M 0s\n",
      "  7800K .......... .......... .......... .......... .......... 81% 16.5M 0s\n",
      "  7850K .......... .......... .......... .......... .......... 82% 61.4M 0s\n",
      "  7900K .......... .......... .......... .......... .......... 82% 18.1M 0s\n",
      "  7950K .......... .......... .......... .......... .......... 83% 14.6M 0s\n",
      "  8000K .......... .......... .......... .......... .......... 83% 20.8M 0s\n",
      "  8050K .......... .......... .......... .......... .......... 84% 55.9M 0s\n",
      "  8100K .......... .......... .......... .......... .......... 84% 55.4M 0s\n",
      "  8150K .......... .......... .......... .......... .......... 85% 17.5M 0s\n",
      "  8200K .......... .......... .......... .......... .......... 85% 11.0M 0s\n",
      "  8250K .......... .......... .......... .......... .......... 86% 59.0M 0s\n",
      "  8300K .......... .......... .......... .......... .......... 86% 50.8M 0s\n",
      "  8350K .......... .......... .......... .......... .......... 87% 58.8M 0s\n",
      "  8400K .......... .......... .......... .......... .......... 87% 23.5M 0s\n",
      "  8450K .......... .......... .......... .......... .......... 88% 57.2M 0s\n",
      "  8500K .......... .......... .......... .......... .......... 88% 10.6M 0s\n",
      "  8550K .......... .......... .......... .......... .......... 89% 61.1M 0s\n",
      "  8600K .......... .......... .......... .......... .......... 89% 25.6M 0s\n",
      "  8650K .......... .......... .......... .......... .......... 90% 33.9M 0s\n",
      "  8700K .......... .......... .......... .......... .......... 90% 15.9M 0s\n",
      "  8750K .......... .......... .......... .......... .......... 91% 20.3M 0s\n",
      "  8800K .......... .......... .......... .......... .......... 91% 72.8M 0s\n",
      "  8850K .......... .......... .......... .......... .......... 92% 16.6M 0s\n",
      "  8900K .......... .......... .......... .......... .......... 93% 62.6M 0s\n",
      "  8950K .......... .......... .......... .......... .......... 93% 40.3M 0s\n",
      "  9000K .......... .......... .......... .......... .......... 94% 57.5M 0s\n",
      "  9050K .......... .......... .......... .......... .......... 94% 7.29M 0s\n",
      "  9100K .......... .......... .......... .......... .......... 95% 13.4M 0s\n",
      "  9150K .......... .......... .......... .......... .......... 95% 61.9M 0s\n",
      "  9200K .......... .......... .......... .......... .......... 96% 63.5M 0s\n",
      "  9250K .......... .......... .......... .......... .......... 96% 56.7M 0s\n",
      "  9300K .......... .......... .......... .......... .......... 97% 23.3M 0s\n",
      "  9350K .......... .......... .......... .......... .......... 97% 26.0M 0s\n",
      "  9400K .......... .......... .......... .......... .......... 98% 9.93M 0s\n",
      "  9450K .......... .......... .......... .......... .......... 98% 53.0M 0s\n",
      "  9500K .......... .......... .......... .......... .......... 99% 19.0M 0s\n",
      "  9550K .......... .......... .......... .......... .......... 99% 71.4M 0s\n",
      "  9600K .......... .......... .                               100% 67.9M=0.7s\n",
      "\n",
      "2019-02-26 13:14:27 (14.2 MB/s) - ‘befkbhalderstatkode.csv.3’ saved [9852462/9852462]\n",
      "\n"
     ]
    }
   ],
>>>>>>> upstream/master
   "source": [
    "%%bash\n",
    "wget https://data.kk.dk/dataset/76ecf368-bf2d-46a2-bcf8-adaf37662528/resource/9286af17-f74e-46c9-a428-9fb707542189/download/befkbhalderstatkode.csv"
   ]
  },
  {
   "cell_type": "code",
<<<<<<< HEAD
   "execution_count": null,
   "metadata": {},
   "outputs": [],
=======
   "execution_count": 47,
   "metadata": {},
   "outputs": [
    {
     "name": "stdout",
     "output_type": "stream",
     "text": [
      "AAR,BYDEL,ALDER,STATKODE,PERSONER\r\n",
      "2015,1,0,5100,614\r\n",
      "2015,1,0,5104,2\r\n",
      "2015,1,0,5106,1\r\n",
      "2015,1,0,5110,1\r\n",
      "2015,1,0,5120,4\r\n",
      "2015,1,0,5126,1\r\n",
      "2015,1,0,5130,5\r\n",
      "2015,1,0,5140,3\r\n",
      "2015,1,0,5150,5\r\n"
     ]
    }
   ],
>>>>>>> upstream/master
   "source": [
    "%%bash\n",
    "head befkbhalderstatkode.csv"
   ]
  },
  {
   "cell_type": "code",
<<<<<<< HEAD
   "execution_count": 262,
=======
   "execution_count": 48,
>>>>>>> upstream/master
   "metadata": {},
   "outputs": [
    {
     "name": "stdout",
     "output_type": "stream",
     "text": [
      "<class 'numpy.ndarray'>  of size:  2712585\n",
      "The skip_header=1 means that we have only the data\n",
      "\n",
      "first line:\n",
      " [2015    1    0 5100  614] \n",
      "last line\n",
      " [1992   99   93 5100    1]\n"
     ]
    }
   ],
   "source": [
    "filename = './befkbhalderstatkode.csv'\n",
    "\n",
    "bef_stats_df = np.genfromtxt(filename, delimiter=',', dtype=np.uint, skip_header=1)\n",
    "print(type(bef_stats_df),' of size: ',bef_stats_df.size)\n",
    "print('The skip_header=1 means that we have only the data\\n\\nfirst line:\\n',bef_stats_df[0],'\\nlast line\\n',bef_stats_df[len(bef_stats_df)-1])"
   ]
  },
  {
   "cell_type": "code",
<<<<<<< HEAD
   "execution_count": 263,
=======
   "execution_count": 33,
>>>>>>> upstream/master
   "metadata": {},
   "outputs": [
    {
     "data": {
      "text/plain": [
       "array([[1998,    1,    0, 5100,  500],\n",
       "       [1998,    1,    0, 5106,    3],\n",
       "       [1998,    1,    0, 5110,    5],\n",
       "       ...,\n",
       "       [1998,   99,   85, 5100,    1],\n",
       "       [1998,   99,   91, 5100,    1],\n",
       "       [1998,   99,   99, 5100,    1]], dtype=uint64)"
      ]
     },
<<<<<<< HEAD
     "execution_count": 263,
=======
     "execution_count": 33,
>>>>>>> upstream/master
     "metadata": {},
     "output_type": "execute_result"
    }
   ],
   "source": [
    "dd = bef_stats_df\n",
    "mask = (dd[:,0] == 1998) # for all rows filter column/index = 0 to be 1998\n",
    "dd[mask]"
   ]
  },
  {
   "cell_type": "markdown",
   "metadata": {},
   "source": [
    "### Amount of 18 years old Danes in CPH?\n",
    "\n",
    "For example, how can we quickly compute the amount of all Danes (`STATKODE == 5100`) with age 18 in all neighbourhoods for the year 2015?\n",
    "\n",
    "We just collect that data by expressing it as a conjunction of constraints and subsequently sum it up.\n"
   ]
  },
  {
   "cell_type": "code",
<<<<<<< HEAD
   "execution_count": 264,
=======
   "execution_count": 34,
>>>>>>> upstream/master
   "metadata": {},
   "outputs": [
    {
     "name": "stdout",
     "output_type": "stream",
     "text": [
      "[[2015    1   18 5100  378]\n",
      " [2015    2   18 5100  577]\n",
      " [2015    3   18 5100  513]\n",
      " [2015    4   18 5100  309]\n",
      " [2015    5   18 5100  428]\n",
      " [2015    6   18 5100  349]\n",
      " [2015    7   18 5100  406]\n",
      " [2015    8   18 5100  339]\n",
      " [2015    9   18 5100  359]\n",
      " [2015   10   18 5100  424]\n",
      " [2015   99   18 5100   20]]\n"
     ]
    },
    {
     "data": {
      "text/plain": [
       "4102"
      ]
     },
<<<<<<< HEAD
     "execution_count": 264,
=======
     "execution_count": 34,
>>>>>>> upstream/master
     "metadata": {},
     "output_type": "execute_result"
    }
   ],
   "source": [
    "mask = (dd[:,0] == 2015) & (dd[:,2] == 18) & (dd[:,3] == 5100)\n",
    "print(dd[mask])\n",
    "#plt.axis([0,10,300,600])\n",
    "#plt.bar(dd[:,1], dd[:,4])\n",
    "np.sum(dd[mask][:,4])\n",
    "#plt.show()"
   ]
  },
  {
   "cell_type": "markdown",
   "metadata": {},
   "source": [
    "### Distribution of French and Germans in CPH?\n",
    "\n",
    "\n",
    "Similarly, in which neighbourhood lifed the most Frenchmen and Germans respectively in 2015?\n",
    "\n",
    "The following dictionary of neighbourhood codes is created from the explanatory text on the municipalities homepage."
   ]
  },
  {
   "cell_type": "code",
<<<<<<< HEAD
   "execution_count": 266,
=======
   "execution_count": 35,
>>>>>>> upstream/master
   "metadata": {},
   "outputs": [],
   "source": [
    "neighb = {1: 'Indre By', 2: 'Østerbro', 3: 'Nørrebro', 4: 'Vesterbro/Kgs. Enghave', \n",
    "          5: 'Valby', 6: 'Vanløse', 7: 'Brønshøj-Husum', 8: 'Bispebjerg', 9: 'Amager Øst', \n",
    "          10: 'Amager Vest', 99: 'Udenfor'}"
   ]
  },
  {
   "cell_type": "code",
<<<<<<< HEAD
   "execution_count": 267,
=======
   "execution_count": 106,
   "metadata": {},
   "outputs": [],
   "source": [
    "def number_of_people_per_neighbourhood(n, mask):\n",
    "    all_people = dd[mask & (dd[:,1] == n)]\n",
    "    sum_of_people = all_people[:,4].sum()\n",
    "    return sum_of_people"
   ]
  },
  {
   "cell_type": "code",
   "execution_count": 107,
   "metadata": {},
   "outputs": [
    {
     "data": {
      "text/plain": [
       "array([544, 557, 653, 474, 258, 166, 197, 314, 372, 460,  26],\n",
       "      dtype=uint64)"
      ]
     },
     "execution_count": 107,
     "metadata": {},
     "output_type": "execute_result"
    }
   ],
   "source": [
    "french_mask = (dd[:,0] == 2015) & (dd[:,3] == 5130)\n",
    "german_mask = (dd[:,0] == 2015) & (dd[:,3] == 5180)\n",
    "\n",
    "french = np.array([number_of_people_per_neighbourhood(n, french_mask) for n in neighb.keys()])\n",
    "#print(french)\n",
    "germans = np.array([number_of_people_per_neighbourhood(n, german_mask) for n in neighb.keys()])\n",
    "germans"
   ]
  },
  {
   "cell_type": "code",
   "execution_count": 108,
>>>>>>> upstream/master
   "metadata": {},
   "outputs": [
    {
     "name": "stdout",
     "output_type": "stream",
     "text": [
      "The majority of 346 Frenchmen are living in Indre By\n",
      "The majority of 653 Germans are living in Nørrebro\n"
     ]
    }
   ],
   "source": [
<<<<<<< HEAD
    "french_mask = (dd[:,0] == 2015) & (dd[:,3] == 5130)\n",
    "german_mask = (dd[:,0] == 2015) & (dd[:,3] == 5180)\n",
    "\n",
    "french = np.array([np.sum(dd[french_mask & (dd[:,1] == n)][:,4]) for n in neighb.keys()])\n",
    "germans = np.array([np.sum(dd[german_mask & (dd[:,1] == n)][:,4]) for n in neighb.keys()])\n",
    "\n",
=======
>>>>>>> upstream/master
    "index_max_fr = np.argmax(french)\n",
    "index_max_de = np.argmax(germans)\n",
    "\n",
    "msg = 'The majority of {} {} are living in {}'\n",
<<<<<<< HEAD
    "print(msg.format(french.max(), 'Frenchmen', neighb[list(neighb.keys())[index_max_fr]]))\n",
=======
    "french_neighbourhood_index = list(neighb.keys())[index_max_fr]\n",
    "print(msg.format(french.max(), 'Frenchmen', neighb[french_neighbourhood_index]))\n",
>>>>>>> upstream/master
    "print(msg.format(germans.max(), 'Germans', neighb[list(neighb.keys())[index_max_de]]))"
   ]
  },
  {
   "cell_type": "markdown",
   "metadata": {},
   "source": [
    "### From which country came the most imigrants in 2015?\n",
    "\n",
    "Popular belief says that most imigrants come somewhere from the middle-east. But is it true?\n",
    "\n",
    "To answer this question, convert the cuntry code data from Danmarks Statistik (http://www.dst.dk/da/Statistik/dokumentation/Times/forebyggelsesregistret/statkode.aspx) into a Python dictionary."
   ]
  },
  {
   "cell_type": "code",
<<<<<<< HEAD
   "execution_count": 272,
=======
   "execution_count": 37,
>>>>>>> upstream/master
   "metadata": {},
   "outputs": [],
   "source": [
    "country_codes = {0: 'Uoplyst (1)', 5001: 'Uoplyst (2)', 5100: 'Danmark', 5101: 'Grønland', \n",
    "                 5102: 'Udlandet uoplyst', 5103: 'Statsløs', 5104: 'Finland', \n",
    "                 5105: 'Island, ligeret dansk', 5106: 'Island', 5107: 'Liechtenstein', \n",
    "                 5108: 'Luxembourg', 5109: 'Monaco', 5110: 'Norge', 5114: 'Europa uoplyst', \n",
    "                 5115: 'Kongelig', 5120: 'Sverige', 5122: 'Albanien', 5124: 'Andorra', \n",
    "                 5126: 'Belgien', 5128: 'Bulgarien', 5129: 'Tjekkoslovakiet', \n",
    "                 5130: 'Frankrig', 5134: 'Grækenland', 5140: 'Nederlandene', \n",
    "                 5142: 'Irland', 5150: 'Italien', 5151: 'Serbien og Montenegro', \n",
    "                 5152: 'Jugoslavien', 5153: 'Malta', 5154: 'Polen', 5156: 'Portugal', \n",
    "                 5158: 'Rumænien', 5159: 'San Marino', 5160: 'Schweiz', \n",
    "                 5162: 'Sovjetunionen', 5164: 'Spanien', 5170: 'Storbritannien', \n",
    "                 5172: 'Tyrkiet', 5174: 'Ungarn', 5176: 'Vatikanstaten', 5180: 'Tyskland', \n",
    "                 5182: 'Østrig', 5199: 'Europa uoplyst', 5202: 'Algeriet', 5204: 'Angola', \n",
    "                 5207: 'Botswana', 5213: 'Burundi', 5214: 'Etiopien', 5215: 'Comorerne', \n",
    "                 5216: 'Eritrea', 5222: 'Gambia', 5228: 'Ghana', 5230: 'Ækvatorialguinea', \n",
    "                 5231: 'Guinea-Bissau', 5232: 'Guinea', 5233: 'Kap Verde', 5234: 'Kenya', \n",
    "                 5235: 'Lesotho', 5236: 'Liberia', 5238: 'Libyen', 5240: 'Mozambique', \n",
    "                 5242: 'Madagaskar', 5243: 'Mali', 5244: 'Marokko', 5245: 'Mauritius', \n",
    "                 5246: 'Nigeria', 5247: 'Namibia', 5248: 'Marshalløerne', \n",
    "                 5255: 'Sierra Leone', 5258: 'Sudan', 5259: 'Swaziland', 5260: 'Sydsudan', \n",
    "                 5262: 'Sydafrika', 5266: 'Tanzania', 5268: 'Tunesien', 5269: 'Uganda', \n",
    "                 5272: 'Egypten', 5273: 'Tuvalu', 5274: 'Kiribati', 5275: 'Vanuatu', \n",
    "                 5276: 'Centralafrikanske Republik', 5277: 'Cameroun', \n",
    "                 5278: 'Congo, Demokratiske Republik', 5279: 'Congo, Republikken', \n",
    "                 5281: 'Benin', 5282: 'Elfenbenskysten', 5283: 'Gabon', 5284: 'Mauretanien', \n",
    "                 5285: 'Niger', 5287: 'Rwanda', 5288: 'Senegal', 5289: 'Somalia', \n",
    "                 5292: 'Tchad', 5293: 'Togo', 5294: 'Burkina Faso', 5295: 'Zimbabwe', \n",
    "                 5296: 'Zambia', 5297: 'Malawi', 5298: 'Seychellerne', \n",
    "                 5299: 'Afrika uoplyst', 5302: 'Argentina', 5303: 'Bahamas', \n",
    "                 5304: 'Bolivia', 5305: 'Barbados', 5306: 'Brasilien', 5308: 'Guyana', \n",
    "                 5309: 'Antigua og Barbuda', 5310: 'Nauru', \n",
    "                 5311: 'Skt. Vincent og Grenadinerne', 5314: 'Canada', 5316: 'Chile', \n",
    "                 5318: 'Colombia', 5319: 'Syd- og Mellemamerika uoplyst', \n",
    "                 5322: 'Costa Rica', 5324: 'Cuba', 5326: 'Dominikanske Republik', \n",
    "                 5328: 'Ecuador', 5338: 'Guatemala', 5339: 'Grenada', 5342: 'Haiti', \n",
    "                 5344: 'Surinam', 5345: 'Dominica', 5347: 'Skt. Lucia', 5348: 'Honduras', \n",
    "                 5352: 'Jamaica', 5354: 'Mexico', 5356: 'Nicaragua', 5358: 'Panama', \n",
    "                 5364: 'Paraguay', 5366: 'Peru', 5372: 'El Salvador', \n",
    "                 5374: 'Trinidad og Tobago', 5376: 'Uruguay', 5390: 'USA', \n",
    "                 5392: 'Venezuela', 5395: 'Vestindiske Øer', 5397: 'Nordamerika uoplyst', \n",
    "                 5398: 'Syd- og Mellemamerika uoplyst', 5402: 'Yemen', \n",
    "                 5403: 'Forenede Arabiske Emirater', 5404: 'Afghanistan', 5406: 'Bahrain', \n",
    "                 5408: 'Bhutan', 5410: 'Bangladesh', 5412: 'Brunei', 5414: 'Myanmar', \n",
    "                 5416: 'Cambodja', 5418: 'Sri Lanka', 5422: 'Cypern', 5424: 'Taiwan', \n",
    "                 5432: 'Indien', 5434: 'Indonesien', 5435: 'Østtimor', 5436: 'Irak', \n",
    "                 5438: 'Iran', 5442: 'Israel', 5444: 'Japan', 5446: 'Jordan', 5448: 'Kina', \n",
    "                 5452: 'Kuwait', 5454: 'Laos', 5456: 'Libanon', 5457: 'Maldiverne', \n",
    "                 5458: 'Malaysia', 5459: 'Mongoliet', 5462: 'Oman', 5464: 'Nepal', \n",
    "                 5466: 'Nordkorea', 5468: 'Vietnam (1)', 5471: 'Asien uoplyst', \n",
    "                 5472: 'Pakistan', 5474: 'Filippinerne', 5478: 'Saudi-Arabien', \n",
    "                 5482: 'Singapore', 5484: 'Sydkorea', 5486: 'Syrien', \n",
    "                 5487: 'Mellemøsten uoplyst', 5488: 'Vietnam (2)', 5492: 'Thailand', \n",
    "                 5496: 'Qatar', 5499: 'Asien uoplyst', 5502: 'Australien', 5505: 'Tonga', \n",
    "                 5508: 'Fiji', 5514: 'New Zealand', 5522: 'Samoa', 5525: 'Djibouti', \n",
    "                 5526: 'Belize', 5534: 'Papua Ny Guinea', 5599: 'Øer i Stillehavet', \n",
    "                 5607: 'Estland', 5609: 'Letland', 5611: 'Litauen', \n",
    "                 5621: 'Sao Tome og Principe', 5623: 'Salomonøerne', \n",
    "                 5625: 'Skt. Kitts og Nevis', 5700: 'Rusland', 5704: 'Ukraine', \n",
    "                 5706: 'Hviderusland', 5708: 'Armenien', 5710: 'Aserbajdsjan', \n",
    "                 5712: 'Moldova', 5714: 'Usbekistan', 5716: 'Kasakhstan', \n",
    "                 5718: 'Turkmenistan', 5720: 'Kirgisistan', 5722: 'Tadsjikistan', \n",
    "                 5724: 'Georgien', 5750: 'Kroatien', 5752: 'Slovenien', \n",
    "                 5754: 'Bosnien-Hercegovina', 5756: 'Makedonien', 5757: 'Serbien', \n",
    "                 5758: 'Jugoslavien, Forbundsrepublikken', 5759: 'Montenegro', \n",
    "                 5761: 'Kosovo', 5776: 'Tjekkiet', 5778: 'Slovakiet', 5779: 'Cookøerne', \n",
    "                 5800: 'Land ukendt (2)', 5901: 'Færøerne uoplyst', 5902: 'Færøerne', \n",
    "                 5999: 'Land ukendt (1)'}"
   ]
  },
  {
   "cell_type": "code",
<<<<<<< HEAD
   "execution_count": 268,
=======
   "execution_count": 38,
>>>>>>> upstream/master
   "metadata": {},
   "outputs": [
    {
     "data": {
      "text/plain": [
       "array([1992, 1993, 1994, 1995, 1996, 1997, 1998, 1999, 2000, 2001, 2002,\n",
       "       2003, 2004, 2005, 2006, 2007, 2008, 2009, 2010, 2011, 2012, 2013,\n",
       "       2014, 2015], dtype=uint64)"
      ]
     },
<<<<<<< HEAD
     "execution_count": 268,
=======
     "execution_count": 38,
>>>>>>> upstream/master
     "metadata": {},
     "output_type": "execute_result"
    }
   ],
   "source": [
    "# unique years in the dataset:\n",
    "# x = year, \n",
    "unique_years = np.unique(dd[:,0]) # all yś where x is index 0 (which is year)\n",
    "unique_years"
   ]
  },
  {
   "cell_type": "code",
<<<<<<< HEAD
   "execution_count": 270,
=======
   "execution_count": 39,
>>>>>>> upstream/master
   "metadata": {},
   "outputs": [
    {
     "name": "stdout",
     "output_type": "stream",
     "text": [
      "{1: 'Indre By', 2: 'Østerbro', 3: 'Nørrebro', 4: 'Vesterbro/Kgs. Enghave', 5: 'Valby', 6: 'Vanløse', 7: 'Brønshøj-Husum', 8: 'Bispebjerg', 9: 'Amager Øst', 10: 'Amager Vest', 99: 'Udenfor'}\n"
     ]
    }
   ],
   "source": [
    "# unique areas\n",
    "unique_areas = np.unique(dd[:])\n",
    "print(neighb)"
   ]
  },
  {
   "cell_type": "code",
<<<<<<< HEAD
   "execution_count": null,
   "metadata": {},
   "outputs": [],
=======
   "execution_count": 40,
   "metadata": {},
   "outputs": [
    {
     "data": {
      "text/plain": [
       "4230"
      ]
     },
     "execution_count": 40,
     "metadata": {},
     "output_type": "execute_result"
    }
   ],
>>>>>>> upstream/master
   "source": [
    "# dataset is [year=0, age=1, area=2, nationality=3, amount=4]\n",
    "\n",
    "# unique nationalities/citizenships:\n",
    "c_keys = np.unique(dd[:,3])\n",
    "c_keys = c_keys[c_keys != 5100] #remove danish citizens\n",
    "#print(c_keys)\n",
    "mask_year_2012 = dd[:,0] == 2012\n",
    "mask_swedish = dd[:,3] == 5120\n",
    "\n",
    "#SUM all the swedish people in 2012\n",
    "np.sum(dd[(mask_year_2012) & (mask_swedish)][:,4])\n"
   ]
  },
  {
   "cell_type": "code",
<<<<<<< HEAD
   "execution_count": 273,
=======
   "execution_count": 60,
>>>>>>> upstream/master
   "metadata": {},
   "outputs": [
    {
     "name": "stdout",
     "output_type": "stream",
     "text": [
      "all the country keys:\n",
      " [5001 5102 5103 5104 5105 5106 5107 5108 5110 5115 5120 5122 5126 5128\n",
      " 5129 5130 5134 5140 5142 5150 5151 5152 5153 5154 5156 5158 5159 5160\n",
      " 5162 5164 5170 5172 5174 5180 5182 5202 5204 5207 5213 5214 5215 5216\n",
      " 5222 5228 5231 5232 5233 5234 5235 5236 5238 5240 5242 5243 5244 5245\n",
      " 5246 5247 5255 5258 5259 5262 5266 5268 5269 5272 5275 5277 5278 5279\n",
      " 5281 5282 5283 5284 5285 5287 5288 5289 5292 5293 5294 5295 5296 5297\n",
      " 5298 5299 5302 5303 5304 5305 5306 5308 5311 5314 5316 5318 5322 5324\n",
      " 5326 5328 5338 5339 5342 5344 5345 5347 5348 5352 5354 5356 5358 5364\n",
      " 5366 5372 5374 5376 5390 5392 5402 5403 5404 5406 5408 5410 5412 5414\n",
      " 5416 5418 5422 5424 5432 5434 5436 5438 5442 5444 5446 5448 5452 5454\n",
      " 5456 5457 5458 5459 5462 5464 5466 5472 5474 5478 5482 5484 5486 5487\n",
      " 5488 5492 5496 5499 5502 5505 5508 5514 5522 5525 5526 5607 5609 5611\n",
      " 5625 5700 5704 5706 5708 5710 5712 5714 5716 5718 5720 5722 5724 5750\n",
      " 5752 5754 5756 5757 5758 5759 5761 5776 5778 5902 5999]\n",
      "all the number of people in each citizen group:\n",
      " [   4    9  632  899    2 1968    1   11 4093   15 4745   68  273 1413\n",
      "   23 2156  744  977  565 3069   19 1487   22 3906  849 1891    1  387\n",
      "   51 1999 4523 3792  796 4021  377  132    7    4   48  273    3   50\n",
      "  175  404   16   40    3  151    5   11   12   24    1    9 1499   15\n",
      "  364    5   68  129    3   93  125  199  196  321    0  122   25   25\n",
      "    5   99    2    2    2   29   38 2087    3   32    8   14   31    5\n",
      "    2    2  161    3   29    3  560    3    0  605  223  146   23  152\n",
      "   16   54   29    4    4    0    2    2   12   20  253   27   15    3\n",
      "  137    4   21   17 2534   84   11    1  658    0    8  787    2   47\n",
      "   27   86   24   60 2168  137 2544 1093  192  383  460 2552    4    6\n",
      "  343    1  122    8    7 1692   13 4502 1396    9  128  149  200    3\n",
      "  278 1544    2    1  609    2    2  143    2   12    2  323  585 1348\n",
      "    0  787  447   58   59   28   25   42   36    2    7    2   34  285\n",
      "  102  688 1518  195   57  121  121  217  321    0    1]\n",
      "index (or indices if more) of the largest group:  10\n",
      "c_k: 5120\n",
      "country_name:  Sverige\n"
     ]
    },
    {
     "ename": "NameError",
     "evalue": "name 'no_per_c' is not defined",
     "output_type": "error",
     "traceback": [
<<<<<<< HEAD
      "\u001b[0;31m---------------------------------------------------------------------------\u001b[0m",
      "\u001b[0;31mNameError\u001b[0m                                 Traceback (most recent call last)",
      "\u001b[0;32m<ipython-input-273-4817d0816fae>\u001b[0m in \u001b[0;36m<module>\u001b[0;34m\u001b[0m\n\u001b[1;32m     15\u001b[0m \u001b[0mcountry_name\u001b[0m \u001b[0;34m=\u001b[0m \u001b[0mcountry_codes\u001b[0m\u001b[0;34m[\u001b[0m\u001b[0mcounty_code\u001b[0m\u001b[0;34m]\u001b[0m \u001b[0;31m# this is a dictionary where key=country_code and value=country name\u001b[0m\u001b[0;34m\u001b[0m\u001b[0;34m\u001b[0m\u001b[0m\n\u001b[1;32m     16\u001b[0m \u001b[0mprint\u001b[0m\u001b[0;34m(\u001b[0m\u001b[0;34m'country_name: '\u001b[0m\u001b[0;34m,\u001b[0m\u001b[0mcountry_name\u001b[0m\u001b[0;34m)\u001b[0m\u001b[0;34m\u001b[0m\u001b[0;34m\u001b[0m\u001b[0m\n\u001b[0;32m---> 17\u001b[0;31m \u001b[0mprint\u001b[0m\u001b[0;34m(\u001b[0m\u001b[0;34mf'{no_per_c.max()} inhabitants come from {c_name}'\u001b[0m\u001b[0;34m)\u001b[0m\u001b[0;34m\u001b[0m\u001b[0;34m\u001b[0m\u001b[0m\n\u001b[0m",
=======
      "\u001b[0;31m---------------------\u001b[0m",
      "\u001b[0;31mNameError\u001b[0mTraceback (most recent call last)",
      "\u001b[0;32m<ipython-input-60-4817d0816fae>\u001b[0m in \u001b[0;36m<module>\u001b[0;34m\u001b[0m\n\u001b[1;32m     15\u001b[0m \u001b[0mcountry_name\u001b[0m \u001b[0;34m=\u001b[0m \u001b[0mcountry_codes\u001b[0m\u001b[0;34m[\u001b[0m\u001b[0mcounty_code\u001b[0m\u001b[0;34m]\u001b[0m \u001b[0;31m# this is a dictionary where key=country_code and value=country name\u001b[0m\u001b[0;34m\u001b[0m\u001b[0;34m\u001b[0m\u001b[0m\n\u001b[1;32m     16\u001b[0m \u001b[0mprint\u001b[0m\u001b[0;34m(\u001b[0m\u001b[0;34m'country_name: '\u001b[0m\u001b[0;34m,\u001b[0m\u001b[0mcountry_name\u001b[0m\u001b[0;34m)\u001b[0m\u001b[0;34m\u001b[0m\u001b[0;34m\u001b[0m\u001b[0m\n\u001b[0;32m---> 17\u001b[0;31m \u001b[0mprint\u001b[0m\u001b[0;34m(\u001b[0m\u001b[0;34mf'{no_per_c.max()} inhabitants come from {c_name}'\u001b[0m\u001b[0;34m)\u001b[0m\u001b[0;34m\u001b[0m\u001b[0;34m\u001b[0m\u001b[0m\n\u001b[0m",
>>>>>>> upstream/master
      "\u001b[0;31mNameError\u001b[0m: name 'no_per_c' is not defined"
     ]
    }
   ],
   "source": [
    "# create a set of conuntry codes with people living in Copenhagen\n",
    "c_keys = np.unique(dd[:,3])\n",
    "# we are interested in non-danes only\n",
    "c_keys = c_keys[c_keys != 5100]\n",
    "print('all the country keys:\\n',c_keys)\n",
    "# and again we only consider 2015\n",
    "mask_year_2015 = (dd[:,0] == 2015)\n",
    "\n",
    "number_per_citizen_group = np.array([np.sum(dd[mask_year_2015 & (dd[:,3] == c_code)][:,4]) for c_code in c_keys])\n",
    "print('all the number of people in each citizen group:\\n',number_per_citizen_group)\n",
    "idx_of_largest_group = np.argmax(number_per_citizen_group)\n",
    "print('index (or indices if more) of the largest group: ',idx_of_largest_group)\n",
    "county_code = c_keys[idx_of_largest_group] # using the index of the largest summed up group and finding the value of that index in another slice of the same dataset\n",
    "print('c_k:',county_code)\n",
    "country_name = country_codes[county_code] # this is a dictionary where key=country_code and value=country name\n",
    "print('country_name: ',country_name)\n",
    "print(f'{no_per_c.max()} inhabitants come from {c_name}')"
   ]
  },
  {
   "cell_type": "code",
   "execution_count": null,
   "metadata": {},
   "outputs": [],
   "source": [
    "no_per_c_sorted = np.copy(no_per_c)\n",
    "no_per_c_sorted.sort()\n",
    "snd_max_idx = np.where(no_per_c==no_per_c_sorted[-2])[0][0]\n",
    "#no_per_c[no_per_c == no_per_c_orig[-2]][0]\n",
    "country_codes[c_keys[snd_max_idx]]"
   ]
  },
  {
   "cell_type": "markdown",
   "metadata": {},
   "source": [
    "### class exercise: extracting\n",
    "Based on the Copenhagen population data do the following (not including danish citizens):\n",
    "1. Find the 10 largest population groups\n",
    "2. Find the 10 largest population groups of children (0-17 y.o.) \n",
    "3. Create a barplot with the 10 largest groups on x-axis and 2 bars of both adult and children on y-axis\n",
    "  - make one bar red and the other green\n",
    "  - give them labels\n",
    "4. Find the neigbourhood with most eastern european citizens (just choose the 5 countries with the largest population shares).\n",
    "  - show in a pie plot how they are distributed by nationality\n",
    "  - show in a bar plot their distribution by age"
   ]
  },
  {
   "cell_type": "code",
   "execution_count": null,
   "metadata": {},
   "outputs": [],
   "source": [
    "def transformByMaks(data, mask):\n",
    "    \"\"\"\n",
    "    arg1 is the dataset on the form [[year, area, age, nationality, amount]]\n",
    "    arg2 is the mask on the form data[:,3] == 5120 to find swedish or data[:,0] == 1999 to filter on year\n",
    "    returns a new numpy array with the filtered data.\n",
    "    \"\"\"\n",
    "    return data[mask]\n",
    "\n",
    "def getDataByX(data, x_value):\n",
    "    params = {'year':0, 'area':1, 'age':2, 'nationality': 3}\n",
    "    x = params[x_value]\n",
    "    return {year:np.sum(data[:,4]) for year in np.unique(data[x])}\n",
    "    \n",
    "mask = (dd[:,2] == 18) & (dd[:,3] == 5100)\n",
    "result = transformByMaks(dd, mask)\n",
    "print(result)\n",
    "print(getDataByX(result, 'year'))"
   ]
  },
  {
   "cell_type": "markdown",
   "metadata": {},
   "source": [
    "### Computing a Histogram Concisely\n",
    "\n",
    "As said, we are using NumPy to express our data queries more concisely. The first three lines of the following program compute the histogram of ages in 2015. That is, in three lines we can express the same as in the 13 lines of , seethe function `get_population_stat` under *Bar Plots* in *14-Intro to Plotting*."
   ]
  },
  {
   "cell_type": "code",
   "execution_count": null,
   "metadata": {
    "scrolled": false
   },
   "outputs": [],
   "source": [
    "mask = (dd[:,0] == 2015)\n",
    "set_of_ages = np.unique(dd[mask][:,2])\n",
    "freq_ages = np.array([np.sum(dd[mask & (dd[:,2] == age)][:,4]) \n",
    "                      for age ain set_of_ages])\n",
    "\n",
    "plt.bar(set_of_ages, freq_ages)\n",
    "plt.show()"
   ]
  },
  {
   "cell_type": "markdown",
   "metadata": {},
   "source": [
    "And computing the increase of foreign population from 2014 to 2015 is similarly easy. Read and explain the following program."
   ]
  },
  {
   "cell_type": "code",
   "execution_count": null,
   "metadata": {},
   "outputs": [],
   "source": [
    "mask = (dd[:,3] != 5100)\n",
    "sum_14 = np.sum(dd[(dd[:,0] == 2014) & mask][:,4])\n",
    "sum_15 = np.sum(dd[(dd[:,0] == 2015) & mask][:,4])\n",
    "\n",
    "plt.axis([2013, 2016, 0, max([sum_14, sum_15]) + 2000])\n",
    "plt.bar([2014, 2015], [sum_14, sum_15], width=0.8,  align='center')\n",
    "plt.xticks([2014, 2015])\n",
    "plt.ticklabel_format(useOffset=False)"
   ]
  },
  {
   "cell_type": "markdown",
   "metadata": {},
   "source": [
    "# Self study: For what else can we use NumPy?\n",
    "\n",
    "Images are just multi-dimensional arrays. For example, lets have a look at a small running Commander Keen\n",
    "\n",
    "![keen](images/commander_keen.png)\n",
    "\n",
    "With the following code we receive the image and convert it into a NumPy array so that we can inspect the image data."
   ]
  },
  {
   "cell_type": "code",
<<<<<<< HEAD
   "execution_count": 275,
   "metadata": {},
   "outputs": [
    {
     "name": "stdout",
     "output_type": "stream",
     "text": [
      "/bin/sh: wget: command not found\r\n"
     ]
    }
   ],
=======
   "execution_count": null,
   "metadata": {},
   "outputs": [],
>>>>>>> upstream/master
   "source": [
    "!wget https://16couleurs.files.wordpress.com/2014/01/commander_keen_sprite_run.gif?w=611"
   ]
  },
  {
   "cell_type": "code",
   "execution_count": null,
   "metadata": {},
   "outputs": [],
   "source": [
    "%%bash\n",
    "wget https://16couleurs.files.wordpress.com/2014/01/commander_keen_sprite_run.gif"
   ]
  },
  {
   "cell_type": "code",
   "execution_count": null,
   "metadata": {},
   "outputs": [],
   "source": [
    "#### import webget\n",
    "import numpy as np\n",
    "from PIL import Image\n",
    "\n",
    "\n",
    "im = Image.open('commander_keen_sprite_run.gif')\n",
    "# convert the data to RGB color space\n",
    "rgb_im = im.convert('RGB')\n",
    "print(rgb_im)\n",
    "im_array = np.asarray(rgb_im)\n",
    "print(im_array.shape, ' represents the rows(y),columns(x) and pixelcolor (as rgb)')\n",
    "print('255 255 255 is white to see other colors lets slice away the first 10 squares of data: \\n\\n',im_array[10:11,7:17,0:])\n",
    "im_data = np.copy(im_array)  # we have to copy the data as we want to modify it later"
   ]
  },
  {
   "cell_type": "markdown",
   "metadata": {},
   "source": [
    "Let's get a feeling for how colors are distributed in the image by plotting the values per color channel."
   ]
  },
  {
   "cell_type": "code",
   "execution_count": null,
   "metadata": {},
   "outputs": [],
   "source": [
    "# import matplotlib.pyplot as plt\n",
    "print('im_data.shape[0] is the y-values (verical dimension):\\n',im_data.shape[0],'\\nim_data.shape[1] is the x-values (horizontal dimension):\\n',im_data.shape[1],'\\nim_data.shape[2] is the actual rgb color of the pixel:\\n',im_data.shape[2])\n",
    "img_line = im_data.reshape(im_data.shape[0] * im_data.shape[1], im_data.shape[2]) # reshaping 3d array to a 2d array by putting the x,y values one long data row\n",
    "print('now its a 2d array:\\n',img_line)\n",
    "print('new shape: ',img_line.shape)\n",
    "plt.plot(img_line[:,0], 'ro') #shorthand for red circle\n",
    "plt.plot(img_line[:,1], 'gx') #green x\n",
    "plt.plot(img_line[:,2], 'b+') #blue plus\n",
    "plt.xlabel('Pixels starting from upper left corner')\n",
    "plt.ylabel('strength of the r,g or b color in the pixel') # white color shows up as full force on all 3 chanels, but blue overpowers because it is written on top (last)\n",
    "plt.show()"
   ]
  },
  {
   "cell_type": "markdown",
   "metadata": {},
   "source": [
    "Replacing a set of RGB values can be done as in the following. We want to give Commander Keen another t-shirt color. So by querying the color at the central pixel `im_data[32,24,:]`, we see that it is `[252, 84, 252]`. Consequently, we find all pixels with these values and assign a new value to those positions."
   ]
  },
  {
   "cell_type": "code",
   "execution_count": null,
   "metadata": {},
   "outputs": [],
   "source": [
    "im_data_orig = np.copy(im_data)"
   ]
  },
  {
   "cell_type": "code",
   "execution_count": null,
   "metadata": {},
   "outputs": [],
   "source": [
    "%matplotlib notebook\n",
    "print(im_data.shape)\n",
    "print(im_data_orig[32,24,:]) # pink color from 32px down - 24px right in commander_keen img\n",
    "\n",
    "mask = (im_data_orig[:,:,0] == 252) & (im_data_orig[:,:,1] == 84) & (im_data_orig[:,:,2] == 252)\n",
    "im_data[mask] = np.array([250, 230, 0]) # replace the pixels chosen by the mask with [250,230,0]=yellow\n",
    "plt.figure()\n",
    "plt.subplot(1, 2, 2) # 1=row, 2=column, 2=index (image will have one row with 2 columns AND this plot will be in the second column/index)\n",
    "plt.title('Original')\n",
    "plt.imshow(im_data_orig)\n",
    "plt.subplot(1, 2, 1)\n",
    "plt.title('Modified')\n",
    "plt.imshow(im_data)\n",
    "plt.show()"
   ]
  },
  {
   "cell_type": "markdown",
   "metadata": {},
   "source": [
    "As you saw above, each channel for the RGB values is represented with the help of a two-dimensional array. We can split them up to inspect the respective intensities."
   ]
  },
  {
   "cell_type": "code",
   "execution_count": null,
   "metadata": {},
   "outputs": [],
   "source": [
    "%matplotlib inline\n",
    "red_channel = im_data_orig[:,:,0] # red=0, green=1, blue=2\n",
    "print('upper left corner is all white and red,green,blue==255:',red_channel[0,0],'\\n somewhere in the center:',red_channel[50,24])\n",
    "plt.imshow(red_channel, cmap=plt.cm.Greys) # low value becomes light and close to 255 becomes black."
   ]
  },
  {
   "cell_type": "code",
<<<<<<< HEAD
   "execution_count": 1,
   "metadata": {},
   "outputs": [
    {
     "ename": "NameError",
     "evalue": "name 'plt' is not defined",
     "output_type": "error",
     "traceback": [
      "\u001b[0;31m---------------------------------------------------------------------------\u001b[0m",
      "\u001b[0;31mNameError\u001b[0m                                 Traceback (most recent call last)",
      "\u001b[0;32m<ipython-input-1-a083c9efd1ea>\u001b[0m in \u001b[0;36m<module>\u001b[0;34m\u001b[0m\n\u001b[1;32m      1\u001b[0m \u001b[0mchannels\u001b[0m \u001b[0;34m=\u001b[0m \u001b[0;34m[\u001b[0m\u001b[0;34m(\u001b[0m\u001b[0;34m'Red'\u001b[0m\u001b[0;34m,\u001b[0m \u001b[0;36m0\u001b[0m\u001b[0;34m)\u001b[0m\u001b[0;34m,\u001b[0m \u001b[0;34m(\u001b[0m\u001b[0;34m'Green'\u001b[0m\u001b[0;34m,\u001b[0m \u001b[0;36m1\u001b[0m\u001b[0;34m)\u001b[0m\u001b[0;34m,\u001b[0m \u001b[0;34m(\u001b[0m\u001b[0;34m'Blue'\u001b[0m\u001b[0;34m,\u001b[0m \u001b[0;36m2\u001b[0m\u001b[0;34m)\u001b[0m\u001b[0;34m]\u001b[0m\u001b[0;34m\u001b[0m\u001b[0;34m\u001b[0m\u001b[0m\n\u001b[0;32m----> 2\u001b[0;31m \u001b[0mplt\u001b[0m\u001b[0;34m.\u001b[0m\u001b[0mfigure\u001b[0m\u001b[0;34m(\u001b[0m\u001b[0;34m)\u001b[0m\u001b[0;34m\u001b[0m\u001b[0;34m\u001b[0m\u001b[0m\n\u001b[0m\u001b[1;32m      3\u001b[0m \u001b[0;32mfor\u001b[0m \u001b[0mchannel\u001b[0m\u001b[0;34m,\u001b[0m \u001b[0mchannel_idx\u001b[0m \u001b[0;32min\u001b[0m \u001b[0mchannels\u001b[0m\u001b[0;34m:\u001b[0m\u001b[0;34m\u001b[0m\u001b[0;34m\u001b[0m\u001b[0m\n\u001b[1;32m      4\u001b[0m     \u001b[0mplt\u001b[0m\u001b[0;34m.\u001b[0m\u001b[0msubplot\u001b[0m\u001b[0;34m(\u001b[0m\u001b[0;36m1\u001b[0m\u001b[0;34m,\u001b[0m \u001b[0;36m3\u001b[0m\u001b[0;34m,\u001b[0m \u001b[0mchannel_idx\u001b[0m\u001b[0;34m+\u001b[0m\u001b[0;36m1\u001b[0m\u001b[0;34m)\u001b[0m\u001b[0;34m\u001b[0m\u001b[0;34m\u001b[0m\u001b[0m\n\u001b[1;32m      5\u001b[0m     \u001b[0mplt\u001b[0m\u001b[0;34m.\u001b[0m\u001b[0mtitle\u001b[0m\u001b[0;34m(\u001b[0m\u001b[0;34m'{}'\u001b[0m\u001b[0;34m.\u001b[0m\u001b[0mformat\u001b[0m\u001b[0;34m(\u001b[0m\u001b[0mchannel\u001b[0m\u001b[0;34m)\u001b[0m\u001b[0;34m)\u001b[0m\u001b[0;34m\u001b[0m\u001b[0;34m\u001b[0m\u001b[0m\n",
      "\u001b[0;31mNameError\u001b[0m: name 'plt' is not defined"
     ]
    }
   ],
=======
   "execution_count": null,
   "metadata": {},
   "outputs": [],
>>>>>>> upstream/master
   "source": [
    "channels = [('Red', 0), ('Green', 1), ('Blue', 2)]\n",
    "plt.figure()\n",
    "for channel, channel_idx in channels:\n",
    "    plt.subplot(1, 3, channel_idx+1)\n",
    "    plt.title('{}'.format(channel))\n",
    "    imarray = im_data_orig[:,:,channel_idx]\n",
    "    plt.imshow(imarray, cmap=plt.cm.Greys)"
   ]
<<<<<<< HEAD
  },
  {
   "cell_type": "code",
   "execution_count": null,
   "metadata": {},
   "outputs": [],
   "source": []
=======
>>>>>>> upstream/master
  }
 ],
 "metadata": {
  "kernelspec": {
   "display_name": "Python 3",
   "language": "python",
   "name": "python3"
  },
  "language_info": {
   "codemirror_mode": {
    "name": "ipython",
    "version": 3
   },
   "file_extension": ".py",
   "mimetype": "text/x-python",
   "name": "python",
   "nbconvert_exporter": "python",
   "pygments_lexer": "ipython3",
<<<<<<< HEAD
   "version": "3.7.1"
=======
   "version": "3.5.2"
>>>>>>> upstream/master
  }
 },
 "nbformat": 4,
 "nbformat_minor": 2
}
