{
 "cells": [
  {
   "cell_type": "markdown",
   "metadata": {
    "collapsed": true
   },
   "source": [
    "# Object-oriented Programming\n",
    "\n",
    "Object-oriented programming is one of the most common ways to write and structure software. In object-oriented programming you write classes that represent real-world things and situations, and you create objects based on these classes. When you write a class, you define the general\n",
    "behavior that a whole category of objects can have. When you create individual objects from the class, each object is automatically equipped with the general behavior; you can then give each object whatever unique traits you desire. \n",
    "\n",
    "Making an object from a class is called *instantiation*, and you work with instances of a class. \n",
    "\n",
    "\n",
    "## Creating and Using a Class\n",
    "\n",
    "You can model almost anything using classes. Let’s start by writing a simple class, `Book`, that represents a book and its contents—not one book in particular, but any book. What do we know about most books? Well, they likely all have a *title* an *author*, and contain some *chapters*. We also know that you can *read* books and *open* them to inspect them further. Those two pieces of information (title and author) and those two behaviors (read and open) will be constituents of our Book class because they are common to most books. After our class is written, we will use it to create individual instances, each of which represents one specific book.\n",
    "\n",
    "### Creating the Book Class\n",
    "\n",
    "Each instance created from the Book class will store a `title` an `author`, and its `chapters`, and we will give each book the 'ability' to get `read()` and to get opened `open_book()`.\n",
    "\n",
    "#### The __init__() Method\n",
    "\n",
    "A function that’s part of a class is a *method*. Everything you learned about functions applies to methods as well; the only practical difference for now is the way we will call methods. The `__init__()` method is a special method Python runs automatically whenever we create a new instance based on the `Book` class. This method has two leading underscores and two trailing underscores, a convention that helps prevent Python’s default method names from conflicting with your method names.\n",
    "\n",
    "We define the `__init__()` method to have four parameters: `self`, `title`, `author`, and `chapters=`. The `self` parameter is **required** in the method definition, and it must come **first** before the other parameters. It must be included in the definition because when Python calls this `__init__()` method later (to create an instance of `Book`), the method call will automatically pass the `self` argument. Every method call associated with a class automatically passes `self`, which\n",
    "is a reference to the instance itself; it gives the individual instance access to the attributes and methods in the class. When we make an instance of `Book`, Python will call the `__init__()` method from the `Book` class. We will pass `Book()` a `title`, an `author`, and `chapters=` as arguments; `self` is passed automatically, so we do not need to pass it. Whenever we want to make an instance from the`Book` class, we will provide values for only the last three parameters.\n",
    "\n",
    "The three variables defined each have the prefix `self`. Any variable prefixed with `self` is available to every method in the class, and we will also be able to access these variables through any instance created from the class. `self.title = title` takes the value stored in the parameter name and stores it in the variable name, which is then attached to the instance being created. Variables that are accessible through instances like this are called attributes.\n",
    "\n",
    "The `Book` class has two other methods: `read` and `open`. The instances we create later will have access to these methods."
   ]
  },
  {
   "cell_type": "code",
   "execution_count": null,
   "metadata": {},
   "outputs": [],
   "source": [
    "class Book():\n",
    "    \"\"\"A simple book model consisting of chapters, which in \n",
    "    turn consist of paragraphs.\"\"\"\n",
    "\n",
    "    def __init__(self, title, author, chapters=[]):\n",
    "        \"\"\"Initialize title, the author, and the chapters.\"\"\"\n",
    "        self.title = title \n",
    "        self.author = author\n",
    "        self.chapters = chapters        \n",
    "    \n",
    "    def read(self, chapter=1):\n",
    "        \"\"\"Simulate reading a chapter, by calling the reading \n",
    "        method of a chapter.\"\"\" \n",
    "        self.chapters[chapter - 1].read()\n",
    "        \n",
    "    def open_book(self, chapter=1 :int) -> Chapter:\n",
    "        \"\"\"Simulate opening a book, which returns a chapter \n",
    "        object.\"\"\" \n",
    "        return self.chapters[chapter - 1]"
   ]
  },
  {
   "cell_type": "markdown",
   "metadata": {},
   "source": [
    "### Making an Instance from a Class\n",
    "\n",
    "Think of a class as a set of instructions for how to make an instance. The class `Book` is a set of instructions that tells Python how to make individual instances representing specific books.\n",
    "\n",
    "We tell Python to create a book whose title is `'The Empty Book'` and whose author is `'Helge'`. When Python reads the line, `empty_book = Book('The Empty Book', 'Helge')` it calls the `__init__()` method in `Book` with the arguments `'The Empty Book'` and `'Helge'`. The `__init__()` method creates an instance representing this particular book and sets the `author` and `title` attributes using the values we provided. The `__init__()` method has no explicit return statement, but Python automatically returns an instance representing this book. We store that instance in the variable `empty_book`. The *naming convention* is helpful here: we can usually assume that a capitalized name like `Book` refers to a class, and a lowercase name like `empty_book` refers to a single instance created from a class.\n",
    "\n",
    "#### Accessing Attributes\n",
    "\n",
    "To access the attributes of an instance, you use 'dot' notation. We access the value of `empty_book`’s attribute `author` by writing: `empty_book.author`."
   ]
  },
  {
   "cell_type": "code",
   "execution_count": null,
   "metadata": {},
   "outputs": [],
   "source": [
    "empty_book = Book('The Empty Book', 'Helge')\n",
    "\n",
    "print(empty_book.author)\n",
    "print(empty_book.title)\n",
    "print(len(empty_book.chapters))"
   ]
  },
  {
   "cell_type": "code",
   "execution_count": null,
   "metadata": {},
   "outputs": [],
   "source": [
    "class Chapter():\n",
    "\n",
    "    def __init__(self, number, title, paragraphs):\n",
    "        \"\"\"A chapter consists of multiple paragraphs.\"\"\"\n",
    "        self.number = number\n",
    "        self.title = title\n",
    "        self.paragraphs = []\n",
    "        for paragraph_lines in paragraphs:\n",
    "            new_pragraph = Paragraph(paragraph_lines)\n",
    "            self.paragraphs.append(new_pragraph)\n",
    "\n",
    "    def read(self, paragraph_idx=None):\n",
    "        \"\"\"A paragraph can be read.\"\"\" \n",
    "        if paragraph_idx:\n",
    "            self.paragraphs[paragraph_idx].read()\n",
    "        else:\n",
    "            for paragraph in self.paragraphs:\n",
    "                paragraph.read()"
   ]
  },
  {
   "cell_type": "code",
   "execution_count": null,
   "metadata": {},
   "outputs": [],
   "source": [
    "class Paragraph():\n",
    "    \"\"\"A paragraph consists of a list of lines.\"\"\"\n",
    "\n",
    "    def __init__(self, lines):\n",
    "        \"\"\"Initialize the paragraph with its lines of text.\"\"\"\n",
    "        self.lines = lines\n",
    "\n",
    "    def read(self):\n",
    "        \"\"\"Simulate reading a paragraph by printing its contents.\"\"\" \n",
    "        for line in self.lines:\n",
    "            print(line)"
   ]
  },
  {
   "cell_type": "markdown",
   "metadata": {},
   "source": [
    "Now, we get some text from a real book to build an instance of it using the above clases."
   ]
  },
  {
   "cell_type": "code",
   "execution_count": null,
   "metadata": {},
   "outputs": [],
   "source": [
    "import webget\n",
    "\n",
    "\n",
    "bones_in_london_url = 'http://www.gutenberg.org/cache/epub/27525/pg27525.txt'\n",
    "# download the book\n",
    "webget.download(bones_in_london_url)\n",
    "# open it and read all lines in the text file\n",
    "with open('./pg27525.txt') as f:\n",
    "    content = f.readlines()\n",
    "\n",
    "\n",
    "def get_text(lower_bound, upper_bound):\n",
    "    \"\"\"A utility function which allow us to read slices of lines\"\"\"\n",
    "    chapter_content = []\n",
    "    paragraph = []\n",
    "    for line in content[lower_bound:upper_bound]:\n",
    "        if line == '\\n':\n",
    "            chapter_content.append(paragraph)\n",
    "            paragraph = []\n",
    "        else:\n",
    "            paragraph.append(line.strip())\n",
    "\n",
    "    return chapter_content"
   ]
  },
  {
   "cell_type": "markdown",
   "metadata": {},
   "source": [
    "Now, that we can read some real text from a file, we can create instances of chapters and an instance of a book. For simplicity, our book consists only of the first two chapters."
   ]
  },
  {
   "cell_type": "code",
   "execution_count": null,
   "metadata": {},
   "outputs": [],
   "source": [
    "chapter_1 = Chapter(1, 'Bones and Big Business', get_text(82, 762))\n",
    "chapter_2 = Chapter(2, 'Hidden Treassure', get_text(769, 1455))\n",
    "book = Book('Bones in London', 'Edgar Wallace', [chapter_1, chapter_2])"
   ]
  },
  {
   "cell_type": "code",
   "execution_count": null,
   "metadata": {},
   "outputs": [],
   "source": [
    "print(book.author)\n",
    "print(book.title)\n",
    "print(len(book.chapters))"
   ]
  },
  {
   "cell_type": "markdown",
   "metadata": {},
   "source": [
    "### Calling Methods\n",
    "\n",
    "After we create an instance from the class `Book`, we can use 'dot' notation to call any method defined in `Book`. To call a method, give the name of the instance (in this case, `book`) and the method you want to call, separated by a dot. When Python reads `book.read(chapter=1)`, it looks for the method `read(chapter)` in the class `Book` and runs that code."
   ]
  },
  {
   "cell_type": "code",
   "execution_count": null,
   "metadata": {},
   "outputs": [],
   "source": [
    "book.read(chapter=1)"
   ]
  },
  {
   "cell_type": "code",
   "execution_count": null,
   "metadata": {},
   "outputs": [],
   "source": [
    "book.open_book(chapter=2).read(paragraph_idx=3)"
   ]
  },
  {
   "cell_type": "code",
   "execution_count": null,
   "metadata": {},
   "outputs": [],
   "source": [
    "book.open_book(chapter=2).read(3)"
   ]
  },
  {
   "cell_type": "markdown",
   "metadata": {},
   "source": [
    "### Creating Multiple Instances\n",
    "\n",
    "You can create as many instances from a class as you need. Even if we used the same `title`, `author`, and `chapters` for the second book, Python would still create a separate instance from the `Book` class. You can make as many instances from one class as you need, as long as you give each instance a unique variable name or it occupies a unique spot in a list or dictionary."
   ]
  },
  {
   "cell_type": "code",
   "execution_count": null,
   "metadata": {},
   "outputs": [],
   "source": [
    "chapter_1 = Chapter(1, 'Bones and Big Business', get_text(82, 762))\n",
    "chapter_2 = Chapter(2, 'Hidden Treassure', get_text(769, 1455))\n",
    "book = Book('Bones in London', 'Edgar Wallace', [chapter_1, chapter_2])\n",
    "\n",
    "empty_book = Book('The Empty Book', 'Helge')\n",
    "\n",
    "book, empty_book"
   ]
  },
  {
   "cell_type": "code",
   "execution_count": null,
   "metadata": {},
   "outputs": [],
   "source": [
    "empty_book = Book('The Empty Book', 'Helge')"
   ]
  },
  {
   "cell_type": "markdown",
   "metadata": {},
   "source": [
    "# Working with Classes and Instances\n",
    "\n",
    "You can use classes to represent many real-world situations. Once you write a class, you will spend most of your time working with instances created from that class. One of the first tasks you will want to do is modify the attributes associated with a particular instance. You can modify the attributes of an instance directly or write methods that update attributes in specific ways.\n",
    "\n",
    "\n",
    "## String representation\n",
    "\n",
    "***Fluent Python by Luciano Ramalho***:\n",
    "\n",
    "\n",
    "The `__repr__` special method is called by the `repr` built-in to get string representation of the object for inspection. If we did not implement `__repr__`, book instances would be shown in the console like `<Book at 0x7f43aea894a8>`.\n",
    "The interactive console and debugger call `repr` on te results of the expressions evaluated, as does the `%r` place holder in classic formatting with `%` operator, and the `!r` conversion field in the new Format String Syntax used in the `str.format` method.\n",
    "\n",
    "Note that in our `__repr__` implementation we used `%r` to obtain the standard representation of the attributes to be displayed. This is good practice.\n",
    "\n",
    "The string returned by `__repr__` should be unambiguous and, if possible, **match the source code necessary to recreate the object** being represented. That is why our chosen representation looks like calling the constructor of the class, e.g. `Book('The Empty Book', 'Helge', [])`.\n",
    "\n",
    "Contrast `__repr__` with `__str__`, which is called by the `str()` constructor and **implicitly used by the print function**. `__str__` should return **a string suitable for display to end-users**.\n",
    "If you only implement one of these special methods, choose `__repr__`, because when no custom `__str__` is available, Python will call `__repr__` as a fallback.\n"
   ]
  },
  {
   "cell_type": "code",
   "execution_count": null,
   "metadata": {},
   "outputs": [],
   "source": [
    "str(book)"
   ]
  },
  {
   "cell_type": "code",
   "execution_count": null,
   "metadata": {},
   "outputs": [],
   "source": [
    "class Book():\n",
    "    \"\"\"A simple book model consisting of chapters, which in \n",
    "    turn consist of paragraphs.\"\"\"\n",
    "\n",
    "    def __init__(self, title, author, chapters=[]):\n",
    "        \"\"\"Initialize title, the author, and the chapters.\"\"\"\n",
    "        self.title = title \n",
    "        self.author = author\n",
    "        self.chapters = chapters        \n",
    "    \n",
    "    def __repr__(self):\n",
    "        return 'Book(%r, %r, %r)' % (self.title, self.author, \n",
    "                                     self.chapters)\n",
    "    \n",
    "    def __str__(self):\n",
    "        return '{name} by {by} has {nr_chap} chapters.'.format(\n",
    "            name=self.title, by=self.author, nr_chap=len(self.chapters))\n",
    "    \n",
    "    \n",
    "    def read(self, chapter=1):\n",
    "        \"\"\"Simulate reading a chapter, by calling the reading \n",
    "        method of a chapter.\"\"\" \n",
    "        self.chapters[chapter - 1].read()\n",
    "        \n",
    "    def open_book(self, chapter=1):\n",
    "        \"\"\"Simulate opening a book, which returns a chapter \n",
    "        object.\"\"\" \n",
    "        return self.chapters[chapter - 1]\n",
    "    \n",
    "\n",
    "class Chapter():\n",
    "\n",
    "    def __init__(self, number, title, paragraphs):\n",
    "        \"\"\"A chapter consists of multiple paragraphs.\"\"\"\n",
    "        self.number = number\n",
    "        self.title = title\n",
    "        self.paragraphs = []\n",
    "        for paragraph_lines in paragraphs:\n",
    "            new_pragraph = Paragraph(paragraph_lines)\n",
    "            self.paragraphs.append(new_pragraph)\n",
    "\n",
    "    def __repr__(self):\n",
    "        return 'Chapter(%r, %r, %r)' % (self.number, self.title, \n",
    "                                        self.paragraphs)\n",
    "    \n",
    "    def read(self, paragraph_idx=None):\n",
    "        \"\"\"A paragraph can be read.\"\"\" \n",
    "        if paragraph_idx:\n",
    "            self.paragraphs[paragraph_idx].read()\n",
    "        else:\n",
    "            for paragraph in self.paragraphs:\n",
    "                paragraph.read()\n",
    "                \n",
    "class Paragraph():\n",
    "    \"\"\"A paragraph consists of a list of lines.\"\"\"\n",
    "\n",
    "    def __init__(self, lines):\n",
    "        \"\"\"Initialize the paragraph with its lines of text.\"\"\"\n",
    "        self.lines = lines\n",
    "        \n",
    "    def __repr__(self):\n",
    "        return 'Paragraph(%r)' % (self.lines)\n",
    "    \n",
    "    def __str__(self):\n",
    "        return '{}...'.format(self.lines[0][0:35])\n",
    "\n",
    "    def read(self):\n",
    "        \"\"\"Simulate reading a paragraph by printing its contents.\"\"\" \n",
    "        for line in self.lines:\n",
    "            print(line)"
   ]
  },
  {
   "cell_type": "code",
   "execution_count": null,
   "metadata": {},
   "outputs": [],
   "source": [
    "chapter_1 = Chapter(1, 'Bones and Big Business', get_text(82, 762))\n",
    "chapter_2 = Chapter(2, 'Hidden Treassure', get_text(769, 1455))\n",
    "book = Book('Bones in London', 'Edgar Wallace', [chapter_1, chapter_2])\n",
    "\n",
    "empty_book = Book('The Empty Book', 'Helge')\n",
    "\n",
    "print(empty_book)\n",
    "print(book.chapters[1].paragraphs[0])\n",
    "\n",
    "book.chapters[1].paragraphs"
   ]
  },
  {
   "cell_type": "markdown",
   "metadata": {},
   "source": [
    "## Setting a Default Value for an Attribute\n",
    "\n",
    "Every attribute in a class needs an initial value, even if that value is 0 or an empty string. In some cases, such as when setting a default value, it makes sense to specify this initial value in the body of the `__init__()` method; if you do this for an attribute, you do not have to include a parameter for that attribute.\n",
    "\n",
    "Let’s add an attribute called `reading_position` that always starts with a value of `0`. We’ll also add a method `get_reading_position()` that returns a reader's current position in the text."
   ]
  },
  {
   "cell_type": "code",
   "execution_count": null,
   "metadata": {},
   "outputs": [],
   "source": [
    "class Paragraph():\n",
    "    \"\"\"A paragraph consists of a list of lines.\"\"\"\n",
    "\n",
    "    def __init__(self, lines):\n",
    "        \"\"\"Initialize name and age attributes.\"\"\"\n",
    "        self.lines = lines\n",
    "        self.reading_position = 0\n",
    "        \n",
    "    def read(self):\n",
    "        \"\"\"Simulate reading a paragraph by printing its contents.\"\"\" \n",
    "        # for line in self.lines:\n",
    "        #     print(line)\n",
    "        print(self.lines[self.reading_position])\n",
    "            \n",
    "    def get_reading_position(self):\n",
    "        return self.reading_position"
   ]
  },
  {
   "cell_type": "code",
   "execution_count": null,
   "metadata": {},
   "outputs": [],
   "source": [
    "paragraph = Paragraph([])\n",
    "paragraph.reading_position"
   ]
  },
  {
   "cell_type": "code",
   "execution_count": null,
   "metadata": {},
   "outputs": [],
   "source": [
    "class Paragraph():\n",
    "    \"\"\"A paragraph consists of a list of lines.\"\"\"\n",
    "\n",
    "    def __init__(self, lines):\n",
    "        \"\"\"Initialize name and age attributes.\"\"\"\n",
    "        self.lines = lines\n",
    "        self.reading_position = 0\n",
    "        \n",
    "    def read(self):\n",
    "        \"\"\"Simulate reading a paragraph by printing its contents.\"\"\" \n",
    "        # for line in self.lines:\n",
    "        #     print(line)\n",
    "        print(self.lines[self.reading_position])\n",
    "\n",
    "    def get_reading_position(self):\n",
    "        return self.reading_position"
   ]
  },
  {
   "cell_type": "code",
   "execution_count": null,
   "metadata": {
    "collapsed": true
   },
   "outputs": [],
   "source": [
    "paragraph = Paragraph([])\n",
    "paragraph.lines"
   ]
  },
  {
   "cell_type": "code",
   "execution_count": null,
   "metadata": {},
   "outputs": [],
   "source": [
    "fst_paragraph = Paragraph([\n",
    "    \"Mrs. Staleyborn's first husband was a dreamy Fellow of a Learned\", \n",
    "    'University.']),\n",
    "snd_paragraph = Paragraph([\n",
    "    'Her second husband had begun life at the bottom of the ladder as a', \n",
    "    'three-card trickster, and by strict attention to business and the', \n",
    "    'exercise of his natural genius, had attained to the proprietorship of a', \n",
    "    'bucket-shop.'])\n",
    "snd_paragraph.read()"
   ]
  },
  {
   "cell_type": "markdown",
   "metadata": {},
   "source": [
    "## Modifying Attribute Values\n",
    "\n",
    "You can change an attribute’s value in three ways: \n",
    "\n",
    "  * you can change the value directly through an instance, \n",
    "  * set the value through a method, \n",
    "  * or increment the value (add a certain amount to it) through a method. \n",
    " \n",
    "Let’s look at each of these approaches.\n",
    "\n",
    "### Modifying an Attribute’s Value Directly\n",
    "\n",
    "The simplest way to modify the value of an attribute is to access the attribute directly through an instance. Here we set the `reading_position` to `3` directly."
   ]
  },
  {
   "cell_type": "code",
   "execution_count": null,
   "metadata": {},
   "outputs": [],
   "source": [
    "snd_paragraph.reading_position = 3\n",
    "snd_paragraph.get_reading_position()"
   ]
  },
  {
   "cell_type": "markdown",
   "metadata": {},
   "source": [
    "### Modifying an Attribute’s Value Through a Method\n",
    "\n",
    "It can be helpful to have methods that update certain attributes for you. Instead of accessing the attribute directly, you pass the new value to a method that handles the updating internally.\n",
    "\n",
    "We can extend the method `update_reading_position(self, new_position)` to do additional work every time the reading position is modified. Let’s add a little logic to make sure no one tries to set the reading position beyond a paragraph's limit."
   ]
  },
  {
   "cell_type": "code",
   "execution_count": null,
   "metadata": {},
   "outputs": [],
   "source": [
    "class Paragraph():\n",
    "    \"\"\"A paragraph consists of a list of lines.\"\"\"\n",
    "\n",
    "    def __init__(self, lines):\n",
    "        \"\"\"Initialize name and age attributes.\"\"\"\n",
    "        self.lines = lines\n",
    "        self.reading_position = 0\n",
    "        \n",
    "    def read(self):\n",
    "        \"\"\"Simulate reading a paragraph by printing its contents.\"\"\" \n",
    "        # for line in self.lines:\n",
    "        #     print(line)\n",
    "        print(self.lines[self.reading_position])\n",
    "\n",
    "    def get_reading_position(self):\n",
    "        return self.reading_position\n",
    "    \n",
    "    def update_reading_position(self, new_position):\n",
    "        if new_position <= len(self.lines) - 1:\n",
    "            self.reading_position = new_position\n",
    "    \n",
    "    \n",
    "snd_paragraph = Paragraph([\n",
    "    'Her second husband had begun life at the bottom of the ladder as a', \n",
    "    'three-card trickster, and by strict attention to business and the', \n",
    "    'exercise of his natural genius, had attained to the proprietorship of a', \n",
    "    'bucket-shop.'])"
   ]
  },
  {
   "cell_type": "code",
   "execution_count": null,
   "metadata": {},
   "outputs": [],
   "source": [
    "print(snd_paragraph.get_reading_position())\n",
    "\n",
    "snd_paragraph.update_reading_position(3)\n",
    "\n",
    "print(snd_paragraph.get_reading_position())\n",
    "\n",
    "snd_paragraph.read()"
   ]
  },
  {
   "cell_type": "markdown",
   "metadata": {},
   "source": [
    "### Incrementing an Attribute’s Value Through a Method\n",
    "\n",
    "Sometimes you may want to increment an attribute’s value by a certain amount rather than set an entirely new value. Say we want to scroll through a paragraph, where a method allows us to pass to incrementally modify the reading position."
   ]
  },
  {
   "cell_type": "code",
   "execution_count": null,
   "metadata": {},
   "outputs": [],
   "source": [
    "class Paragraph():\n",
    "    \"\"\"A paragraph consists of a list of lines.\"\"\"\n",
    "\n",
    "    def __init__(self, lines):\n",
    "        \"\"\"Initialize name and age attributes.\"\"\"\n",
    "        self.lines = lines\n",
    "        self.reading_position = 0\n",
    "        \n",
    "    def read(self):\n",
    "        \"\"\"Simulate reading a paragraph by printing its contents.\"\"\" \n",
    "        # for line in self.lines:\n",
    "        #     print(line)\n",
    "        print(self.lines[self.reading_position])\n",
    "\n",
    "    def get_reading_position(self):\n",
    "        return self.reading_position\n",
    "    \n",
    "    def update_reading_position(self, new_position):\n",
    "        if new_position <= len(self.lines) - 1:\n",
    "            self.reading_position = new_position\n",
    "            \n",
    "    def scroll_down(self):\n",
    "        if self.reading_position < len(self.lines) - 1:\n",
    "            self.reading_position += 1\n",
    "        else:\n",
    "            self.reading_position = 0\n",
    "            \n",
    "    def scroll_up(self):\n",
    "        if self.reading_position >= 1:\n",
    "            self.reading_position -= 1\n",
    "        else:\n",
    "            self.reading_position = len(self.lines) - 1\n",
    "    \n",
    "snd_paragraph = Paragraph([\n",
    "    'Her second husband had begun life at the bottom of the ladder as a', \n",
    "    'three-card trickster, and by strict attention to business and the', \n",
    "    'exercise of his natural genius, had attained to the proprietorship of a', \n",
    "    'bucket-shop.'])"
   ]
  },
  {
   "cell_type": "code",
   "execution_count": null,
   "metadata": {},
   "outputs": [],
   "source": [
    "snd_paragraph.read()\n",
    "\n",
    "snd_paragraph.scroll_down()\n",
    "snd_paragraph.read()\n",
    "\n",
    "snd_paragraph.scroll_down()\n",
    "snd_paragraph.read()\n",
    "\n",
    "snd_paragraph.scroll_down()\n",
    "snd_paragraph.read()\n",
    "\n",
    "snd_paragraph.scroll_down()\n",
    "snd_paragraph.read()"
   ]
  },
  {
   "cell_type": "code",
   "execution_count": null,
   "metadata": {},
   "outputs": [],
   "source": [
    "snd_paragraph.read()\n",
    "\n",
    "snd_paragraph.scroll_up()\n",
    "snd_paragraph.read()\n",
    "\n",
    "snd_paragraph.scroll_up()\n",
    "snd_paragraph.read()\n",
    "\n",
    "snd_paragraph.scroll_up()\n",
    "snd_paragraph.read()"
   ]
  },
  {
   "cell_type": "markdown",
   "metadata": {},
   "source": [
    "### Private Attributes???\n",
    "\n",
    "You can use methods as shown above to control how users of your program update values, such as the reading position, but anyone with access to the program can set any attribute to any value by accessing it directly.\n",
    "\n",
    "In Python, there is no concept of private fields. That is, the interpreter will not stop you of modifying whatever you are 'touching'.\n",
    "\n",
    "A good practice is to *mark* your attributes and methodss as private by a leading underscore. However, this is only a visual marker for others using your code that you do not intend them to access the corresponding fields."
   ]
  },
  {
   "cell_type": "code",
   "execution_count": null,
   "metadata": {},
   "outputs": [],
   "source": [
    "class Paragraph():\n",
    "    \"\"\"A paragraph consists of a list of lines.\"\"\"\n",
    "\n",
    "    def __init__(self, lines):\n",
    "        \"\"\"Initialize name and age attributes.\"\"\"\n",
    "        self.lines = lines\n",
    "        self._reading_position = 0\n",
    "        \n",
    "    def read(self):\n",
    "        \"\"\"Simulate reading a paragraph by printing its contents.\"\"\" \n",
    "        print(self.lines[self._reading_position])\n",
    "\n",
    "    def get_reading_position(self):\n",
    "        return self._reading_position\n",
    "    \n",
    "    def _update_reading_position(self, new_position):\n",
    "        if new_position <= len(self.lines) - 1:\n",
    "            self._reading_position = new_position\n",
    "            \n",
    "    def scroll_down(self):\n",
    "        if self._reading_position < len(self.lines) - 1:\n",
    "            self._reading_position += 1\n",
    "        else:\n",
    "            self._reading_position = 0\n",
    "            \n",
    "    def scroll_up(self):\n",
    "        if self._reading_position >= 1:\n",
    "            self._reading_position -= 1\n",
    "        else:\n",
    "            self._reading_position = len(self.lines) - 1\n",
    "    \n",
    "snd_paragraph = Paragraph([\n",
    "    'Her second husband had begun life at the bottom of the ladder as a', \n",
    "    'three-card trickster, and by strict attention to business and the', \n",
    "    'exercise of his natural genius, had attained to the proprietorship of a', \n",
    "    'bucket-shop.'])"
   ]
  },
  {
   "cell_type": "code",
   "execution_count": null,
   "metadata": {},
   "outputs": [],
   "source": [
    "# This is now discouraged!\n",
    "print(snd_paragraph._reading_position)\n",
    "\n",
    "# Better use the 'public' methods\n",
    "print(snd_paragraph.get_reading_position())\n",
    "\n",
    "# discouraged too, but possible\n",
    "snd_paragraph._update_reading_position(3)\n",
    "\n",
    "print(snd_paragraph.get_reading_position())\n",
    "\n",
    "snd_paragraph.read()"
   ]
  },
  {
   "cell_type": "markdown",
   "metadata": {},
   "source": [
    "# Inheritance\n",
    "\n",
    "You do not always have to start from scratch when writing a class. If the class you are writing is a specialized version of another -readily available- class, you can use inheritance to implement your extensions. \n",
    "\n",
    "When one class inherits from another, it automatically takes on all the attributes and methods of the first class. The original class is called the *parent class*, and the new class is the *child class*. The child class inherits every attribute and method from its parent class but is also free to define new attributes and methods of its own.\n",
    "\n",
    "\n",
    "## The __init__() Method for a Child Class\n",
    "\n",
    "The first task Python has when creating an instance from a child class is to assign values to all attributes in the parent class. To do this, the `__init__()` method for a child class needs help from its parent class.\n",
    "\n",
    "As an example, let’s model a comic book. A comic book is just a specific kind of book, with less text and more images :). Consequently, we can base our new `ComicBook` class on the `Book` class we wrote earlier. Then we’ll only have to write code for the attributes and behavior specific to comic books.\n",
    "\n",
    "When you create a child class, the parent class **must be part of the current file and must appear before the child class in the file**. The name of the parent class must be included in parentheses in the definition of the child class. The `__init__()` method takes the information required to make a `ComicBook` instance.\n",
    "\n",
    "The `super()` function is a special function that helps Python make connections between the parent and child class. It tells Python to call the `__init__()` method from `ComicBook`’s parent class, which gives a `ComicBook` instance all the attributes of its parent class. The name super comes from a convention of calling the parent class a **superclass** and the child class a **subclass**."
   ]
  },
  {
   "cell_type": "code",
   "execution_count": null,
   "metadata": {},
   "outputs": [],
   "source": [
    "class Book():\n",
    "    \"\"\"A simple book model consisting of chapters, which in \n",
    "    turn consist of paragraphs.\"\"\"\n",
    "\n",
    "    def __init__(self, title, author, chapters=[]):\n",
    "        \"\"\"Initialize title, the author, and the chapters.\"\"\"\n",
    "        self.title = title \n",
    "        self.author = author\n",
    "        self.chapters = chapters        \n",
    "    \n",
    "    def __repr__(self):\n",
    "        return 'Book(%r, %r, %r)' % (self.title, self.author, \n",
    "                                     self.chapters)\n",
    "    \n",
    "    def __str__(self):\n",
    "        return '{name} by {by} has {nr_chap} chapters.'.format(\n",
    "            name=self.title, by=self.author, nr_chap=len(self.chapters))\n",
    "    \n",
    "    \n",
    "    def read(self, chapter=1):\n",
    "        \"\"\"Simulate reading a chapter, by calling the reading \n",
    "        method of a chapter.\"\"\" \n",
    "        self.chapters[chapter - 1].read()\n",
    "        \n",
    "    def open_book(self, chapter=1):\n",
    "        \"\"\"Simulate opening a book, which returns a chapter \n",
    "        object.\"\"\" \n",
    "        return self.chapters[chapter - 1]\n",
    "    \n",
    "    \n",
    "class ComicBook(Book):\n",
    "    def __init__(self, title, author, chapters=[]):\n",
    "        \"\"\"Initialize attributes of the parent class.\"\"\"\n",
    "        super().__init__(title, author, chapters=chapters)"
   ]
  },
  {
   "cell_type": "code",
   "execution_count": null,
   "metadata": {},
   "outputs": [],
   "source": [
    "comic = ComicBook('Le Grand Mort', 'Loisel')\n",
    "comic.title"
   ]
  },
  {
   "cell_type": "markdown",
   "metadata": {},
   "source": [
    "## Defining Attributes and Methods for the Child Class\n",
    "\n",
    "Once you have a child class that inherits from a parent class, you can add any new attributes and methods necessary to differentiate the child class from the parent class.\n",
    "\n",
    "Let’s add an attribute that is specific to comic books, such as, images, and a method to report on this attribute."
   ]
  },
  {
   "cell_type": "code",
   "execution_count": null,
   "metadata": {},
   "outputs": [],
   "source": [
    "class ComicBook(Book):\n",
    "    def __init__(self, title, author, chapters=[]):\n",
    "        \"\"\"Initialize attributes of the parent class.\"\"\"\n",
    "        super().__init__(title, author, chapters=chapters)\n",
    "        self.images = []\n",
    "        \n",
    "    def get_images(self):\n",
    "        return self.images"
   ]
  },
  {
   "cell_type": "markdown",
   "metadata": {},
   "source": [
    "There is no limit to how much you can specialize the `ComicBook` class. You can add as many attributes and methods as you need to model acomic book to whatever degree of accuracy you need. An attribute or method that could belong to any book, rather than one that is specific to a comic book, should be added to the `Book` class instead of the `ComicBook` class. Then anyone who uses the `Book` class will have that functionality available as well, and the `ComicBook` class will only contain code for the information and behavior specific to comic books.\n",
    "\n",
    "## Overriding Methods from the Parent Class\n",
    "\n",
    "You can override any method from the parent class that does not fit what you are trying to model with the child class. To do this, you define a method in the child class with **the same name as the method you want to override in the parent class**. Python will disregard the parent class method and only pay attention to the method you define in the child class.\n",
    "\n",
    "In the above example, we have to override the method `__repr__` to get the correct representation of a comic book.\n",
    "\n",
    "Now if someone inspects or tries to call `__repr__()` with on a comic book, Python will ignore the method `__repr__()` in `Book` and run this code instead. When you use inheritance, you can make your child classes retain what you need and override anything you do not need from the parent class."
   ]
  },
  {
   "cell_type": "code",
   "execution_count": null,
   "metadata": {
    "collapsed": true
   },
   "outputs": [],
   "source": [
    "comic = ComicBook('Le Grand Mort', 'Loisel')\n",
    "comic"
   ]
  },
  {
   "cell_type": "code",
   "execution_count": null,
   "metadata": {
    "collapsed": true
   },
   "outputs": [],
   "source": [
    "class ComicBook(Book):\n",
    "    def __init__(self, title, author, chapters=[]):\n",
    "        \"\"\"Initialize attributes of the parent class.\"\"\"\n",
    "        super().__init__(title, author, chapters=chapters)\n",
    "        self.images = []\n",
    "        \n",
    "    def get_images(self):\n",
    "        return self.images\n",
    "    \n",
    "    def __repr__(self):\n",
    "        return 'ComicBook(%r, %r, %r)' % (self.title, self.author, \n",
    "                                     self.chapters)"
   ]
  },
  {
   "cell_type": "code",
   "execution_count": null,
   "metadata": {
    "collapsed": true
   },
   "outputs": [],
   "source": [
    "comic = ComicBook('Le Grand Mort', 'Loisel')\n",
    "comic"
   ]
  },
  {
   "cell_type": "markdown",
   "metadata": {},
   "source": [
    "## Checking *instance of* Relation Ships\n",
    "\n",
    "Sometimes, during development, you would like to know of which class a certain variable is instance of. You can do so with the built-in method `isinstance()` as illustrated in the following. However, usually you will not need this function in your programs as Python supports *duck-typing*. "
   ]
  },
  {
   "cell_type": "code",
   "execution_count": null,
   "metadata": {},
   "outputs": [],
   "source": [
    "isinstance(ComicBook('Le Grand Mort', 'Loisel'), ComicBook)"
   ]
  },
  {
   "cell_type": "code",
   "execution_count": null,
   "metadata": {},
   "outputs": [],
   "source": [
    "isinstance(ComicBook('Le Grand Mort', 'Loisel'), Book)"
   ]
  },
  {
   "cell_type": "markdown",
   "metadata": {},
   "source": [
    "# Importing Classes\n",
    "\n",
    "As you add more functionality to your classes, your files can get long, even when you use inheritance properly. In keeping with the overall philosophy of Python, you will want to keep your files as uncluttered as possible. To help, Python lets you store classes in modules and then import the classes you need into your main program.\n",
    "\n",
    "You can store as many classes as you need in a single module, although each class in a module should be related somehow.\n",
    "\n",
    "## Importing a Single Class or Multiple Classes\n",
    "\n",
    "We include a module-level docstring that briefly describes the contents of this module. You should write a docstring for each module you create.\n",
    "\n",
    "Now we make a separate file called `book.py`. From this file will import the `Book` class and then create an instance from that class.\n",
    "\n",
    "You can import as many classes as you need into a program file. If we want to make a regular car and an electric car in the same file, we need to import both classes, Car and ElectricCar\n",
    "\n",
    "\n"
   ]
  },
  {
   "cell_type": "code",
   "execution_count": null,
   "metadata": {},
   "outputs": [],
   "source": [
    "%load_ext autoreload"
   ]
  },
  {
   "cell_type": "code",
   "execution_count": null,
   "metadata": {},
   "outputs": [],
   "source": [
    "%autoreload 2\n",
    "\n",
    "from book import Book"
   ]
  },
  {
   "cell_type": "code",
   "execution_count": null,
   "metadata": {},
   "outputs": [],
   "source": [
    "book?"
   ]
  },
  {
   "cell_type": "code",
   "execution_count": null,
   "metadata": {},
   "outputs": [],
   "source": [
    "Book?"
   ]
  },
  {
   "cell_type": "code",
   "execution_count": null,
   "metadata": {
    "collapsed": true
   },
   "outputs": [],
   "source": [
    "from book import Book, Chapter, Paragraph\n",
    "\n",
    "chapter_1 = Chapter(1, 'Bones and Big Business', get_text(82, 762))\n",
    "chapter_2 = Chapter(2, 'Hidden Treassure', get_text(769, 1455))\n",
    "book = Book('Bones in London', 'Edgar Wallace', [chapter_1, chapter_2])\n",
    "\n",
    "empty_book = Book('The Empty Book', 'Helge')\n",
    "\n",
    "empty_book"
   ]
  },
  {
   "cell_type": "markdown",
   "metadata": {},
   "source": [
    "## Importing an Entire Module\n",
    "\n",
    "You can import every class from a module using the following syntax:\n",
    "\n",
    "```python\n",
    "from module_name import *\n",
    "```\n",
    "\n",
    "This method is **not** recommended for two reasons: \n",
    "\n",
    "  * It is helpful to be able to read the import statements at the top of a file and get a clear sense of which classes a program uses. With this approach it is unclear which classes you are using from the module. This approach can also lead to confusion with names in the file. If you accidentally import a class with the same name as something else in your program file, you can create errors that are hard to diagnose. I show this here because even though it is not a recommended approach, you are likely to see it in other people’s code.\n",
    "\n",
    "If you need to import many classes from a module, you are better off importing the entire module and using the `module_name.class_name` syntax.\n",
    "\n",
    "You will not see all the classes used at the top of the file, but you will see clearly where the module is used in the program. You will also avoid the potential naming conflicts that can arise when you import every class in a module.\n"
   ]
  },
  {
   "cell_type": "markdown",
   "metadata": {
    "collapsed": true
   },
   "source": [
    "# Exercises\n",
    "\n",
    "  1. Create a Python module, which consists of a class TextContainer. The class shall implement methods for computing statistics on texts.\n",
    "    * Counting the amount of words used in a text.\n",
    "    * Counting the amount of chars used in a text.\n",
    "    * Counting the amount of letters, where letters are all ASCII letters, see \n",
    "    ```python\n",
    "    import string\n",
    "    string.ascii_letters  # returns 'abcdefghijklmnopqrstuvwxyzABCDEFGHIJKLMNOPQRSTUVWXYZ'\n",
    "    ```\n",
    "    * Remove all punctuation characters, see\n",
    "    ```python\n",
    "    import string\n",
    "    string.punctuation  # returns '!\"#$%&\\'()*+,-./:;<=>?@[\\\\]^_`{|}~'\n",
    "    ```"
   ]
  },
  {
   "cell_type": "code",
   "execution_count": null,
   "metadata": {
    "collapsed": true
   },
   "outputs": [],
   "source": []
  }
 ],
 "metadata": {
  "kernelspec": {
   "display_name": "Python 3",
   "language": "python",
   "name": "python3"
  },
  "language_info": {
   "codemirror_mode": {
    "name": "ipython",
    "version": 3
   },
   "file_extension": ".py",
   "mimetype": "text/x-python",
   "name": "python",
   "nbconvert_exporter": "python",
   "pygments_lexer": "ipython3",
   "version": "3.6.7"
  }
 },
 "nbformat": 4,
 "nbformat_minor": 2
}
