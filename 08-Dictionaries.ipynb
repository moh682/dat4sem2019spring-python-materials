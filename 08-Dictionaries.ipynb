{
 "cells": [
  {
   "cell_type": "markdown",
   "metadata": {},
   "source": [
    "# The Dictionary Data Type\n",
    "\n",
    "The dictionary data type provides a flexible way to access and organize data.\n",
    "\n",
    "Like a list, a dictionary is a collection of many values. But unlike indexes for lists, indexes for dictionaries can use many different data types, not just integers. Indexes for dictionaries are called keys, and a key with its associated value is called a key-value pair.\n",
    "\n",
    "In code, a dictionary is typed with braces, `{}`."
   ]
  },
  {
   "cell_type": "code",
   "execution_count": null,
   "metadata": {},
   "outputs": [],
   "source": [
    "image = {'color': 'greyscale', 'size': 289983, 'type': 'jpg',\n",
    "         'address': 'https://upload.wikimedia.org/wikipedia/commons/7/7b/Moby_Dick_p510_illustration.jpg'}\n",
    "\n",
    "image"
   ]
  },
  {
   "cell_type": "markdown",
   "metadata": {},
   "source": [
    "This assigns a dictionary to the `image` variable. This dictionary’s keys are `'color'`, `'size'`, `'type'`, and `'address'`. The values for these keys are `'greyscale'`, `289983`, `'jpg'`, and `'https://upload.wikimedia.org/wikipedia/commons/7/7b/Moby_Dick_p510_illustration.jpg'`, respectively. You can access these values through their keys."
   ]
  },
  {
   "cell_type": "code",
   "execution_count": null,
   "metadata": {},
   "outputs": [],
   "source": [
    "image['color']"
   ]
  },
  {
   "cell_type": "code",
   "execution_count": null,
   "metadata": {},
   "outputs": [],
   "source": [
    "image['size']"
   ]
  },
  {
   "cell_type": "markdown",
   "metadata": {},
   "source": [
    "Dictionaries can still use integer values as keys, just like lists use integers for indexes, but they do not have to start at `0` and can be any number."
   ]
  },
  {
   "cell_type": "code",
   "execution_count": null,
   "metadata": {},
   "outputs": [],
   "source": [
    "image = {510: 'page in book', 'color': 'greyscale', 'size': 289983, 'type': 'jpg',\n",
    "         'address': 'https://upload.wikimedia.org/wikipedia/commons/7/7b/Moby_Dick_p510_illustration.jpg'}"
   ]
  },
  {
   "cell_type": "code",
   "execution_count": null,
   "metadata": {},
   "outputs": [],
   "source": [
    "image[510]"
   ]
  },
  {
   "cell_type": "markdown",
   "metadata": {},
   "source": [
    "## Dictionaries vs. Lists\n",
    "\n",
    "Unlike lists, items in dictionaries are unordered. The first item in a list named `values` would be `values[0]`. But there is no \"first\" item in a dictionary. While the order of items matters for determining whether two lists are the same, it does not matter in what order the key-value pairs are typed in a dictionary."
   ]
  },
  {
   "cell_type": "code",
   "execution_count": null,
   "metadata": {},
   "outputs": [],
   "source": [
    "fst_sentence = ['Call', 'me', 'Ishmael']\n",
    "fst_sentence_juggled = ['Ishmael', 'me', 'Call']\n",
    "\n",
    "fst_sentence == fst_sentence_juggled"
   ]
  },
  {
   "cell_type": "code",
   "execution_count": null,
   "metadata": {},
   "outputs": [],
   "source": [
    "fst_sentence = {1: 'Call', 2: 'me', 3: 'Ishmael'}\n",
    "fst_sentence_juggled = {3: 'Ishmael', 2: 'me', 1: 'Call'}\n",
    "\n",
    "fst_sentence == fst_sentence_juggled"
   ]
  },
  {
   "cell_type": "markdown",
   "metadata": {},
   "source": [
    "Because dictionaries are not ordered, they cannot be sliced like lists."
   ]
  },
  {
   "cell_type": "markdown",
   "metadata": {},
   "source": [
    "## Accessing Values in a Dictionary\n",
    "\n",
    "To get the value associated with a key, give the name of the dictionary and then place the key inside a set of square brackets.\n",
    "\n",
    "Trying to access a key that does not exist in a dictionary will result in a `KeyError` error message, much like a list’s \"out-of-range\" `IndexError` error message. "
   ]
  },
  {
   "cell_type": "code",
   "execution_count": null,
   "metadata": {},
   "outputs": [],
   "source": [
    "image = {'color': 'greyscale', 'size': 289983, 'type': 'jpg',\n",
    "         'address': 'https://upload.wikimedia.org/wikipedia/commons/7/7b/Moby_Dick_p510_illustration.jpg'}\n",
    "\n",
    "image['size']"
   ]
  },
  {
   "cell_type": "code",
   "execution_count": null,
   "metadata": {},
   "outputs": [],
   "source": [
    "image['author']"
   ]
  },
  {
   "cell_type": "markdown",
   "metadata": {},
   "source": [
    "## Adding New Key-Value Pairs\n",
    "\n",
    "Dictionaries are dynamic structures, and you can add new key-value pairs to a dictionary at any time. For example, to add a new key-value pair, you would give the name of the dictionary followed by the new key in square brackets along with the new value."
   ]
  },
  {
   "cell_type": "code",
   "execution_count": null,
   "metadata": {},
   "outputs": [],
   "source": [
    "image = {'color': 'greyscale', 'size': 289983, 'type': 'jpg',\n",
    "         'address': 'https://upload.wikimedia.org/wikipedia/commons/7/7b/Moby_Dick_p510_illustration.jpg'}\n",
    "\n",
    "image['source'] = 'Wikipedia'\n",
    "image"
   ]
  },
  {
   "cell_type": "markdown",
   "metadata": {},
   "source": [
    "## Modifying Values in a Dictionary\n",
    "\n",
    "To modify a value in a dictionary, give the name of the dictionary with the key in square brackets and then the new value you want associated with that key."
   ]
  },
  {
   "cell_type": "code",
   "execution_count": null,
   "metadata": {},
   "outputs": [],
   "source": [
    "image = {'color': 'greyscale', 'size': 289983, 'type': 'jpg',\n",
    "         'address': 'https://upload.wikimedia.org/wikipedia/commons/7/7b/Moby_Dick_p510_illustration.jpg'}\n",
    "\n",
    "image['color'] = 'Black&White'\n",
    "image"
   ]
  },
  {
   "cell_type": "markdown",
   "metadata": {},
   "source": [
    "## Removing Key-Value Pairs\n",
    "\n",
    "When you no longer need a piece of information that’s stored in a dictionary, you can use the `del` statement to completely remove a key-value pair. All `del` needs is the name of the dictionary and the key that you want to remove."
   ]
  },
  {
   "cell_type": "code",
   "execution_count": null,
   "metadata": {},
   "outputs": [],
   "source": [
    "del image['color']\n",
    "\n",
    "image"
   ]
  },
  {
   "cell_type": "markdown",
   "metadata": {},
   "source": [
    "## The `keys()`, `values()`, and `items()` Methods\n",
    "\n",
    "There are three dictionary methods that will return list-like values of the dictionary’s keys, values, or both keys and values: `keys()`, `values()`, and `items()`. The values returned by these methods are not true lists: They **cannot be modified and do not have an `append()` method**. But these data types (`dict_keys`, `dict_values`, and `dict_items`, respectively) can be used in for loops."
   ]
  },
  {
   "cell_type": "code",
   "execution_count": null,
   "metadata": {},
   "outputs": [],
   "source": [
    "image = {'color': 'greyscale', 'size': 289983, 'type': 'jpg',\n",
    "         'address': 'https://upload.wikimedia.org/wikipedia/commons/7/7b/Moby_Dick_p510_illustration.jpg'}\n",
    "\n",
    "for key in image.keys():\n",
    "    print(key)"
   ]
  },
  {
   "cell_type": "code",
   "execution_count": null,
   "metadata": {},
   "outputs": [],
   "source": [
    "for value in image.values():\n",
    "    print(value)"
   ]
  },
  {
   "cell_type": "code",
   "execution_count": null,
   "metadata": {},
   "outputs": [],
   "source": [
    "for key, value in image.items():\n",
    "    print(key)\n",
    "    print('\\t -' + value)"
   ]
  },
  {
   "cell_type": "markdown",
   "metadata": {},
   "source": [
    "## Checking Whether a Key or Value Exists in a Dictionary\n",
    "\n",
    "Recall from the previous session, that the `in` and `not in` operators can check whether a value exists in a list. You can also use these operators to see whether a certain key or value exists in a dictionary."
   ]
  },
  {
   "cell_type": "code",
   "execution_count": null,
   "metadata": {},
   "outputs": [],
   "source": [
    "image = {'color': 'greyscale', 'size': 289983, 'type': 'jpg',\n",
    "         'address': 'https://upload.wikimedia.org/wikipedia/commons/7/7b/Moby_Dick_p510_illustration.jpg'}\n",
    "\n",
    "'color' in image.keys()"
   ]
  },
  {
   "cell_type": "code",
   "execution_count": null,
   "metadata": {},
   "outputs": [],
   "source": [
    "289983 in image.values()"
   ]
  },
  {
   "cell_type": "code",
   "execution_count": null,
   "metadata": {},
   "outputs": [],
   "source": [
    "'compression' not in image.keys()"
   ]
  },
  {
   "cell_type": "markdown",
   "metadata": {},
   "source": [
    "## The `get()` Method\n",
    "\n",
    "It is tedious to check whether a key exists in a dictionary before accessing that key’s value. Fortunately, dictionaries have a `get()` method that takes two arguments: the key of the value to retrieve and a fallback value to return if that key does not exist."
   ]
  },
  {
   "cell_type": "code",
   "execution_count": null,
   "metadata": {},
   "outputs": [],
   "source": [
    "image = {'color': 'greyscale', 'size': 289983, 'type': 'jpg',\n",
    "         'address': 'https://upload.wikimedia.org/wikipedia/commons/7/7b/Moby_Dick_p510_illustration.jpg'}\n",
    "\n",
    "color_val = image.get('color', 'unknown')\n",
    "designer_val = image.get('designer', 'unknown')\n",
    "\n",
    "designer_val"
   ]
  },
  {
   "cell_type": "markdown",
   "metadata": {},
   "source": [
    "## The `setdefault()` Method\n",
    "\n",
    "\n",
    "You will often have to set a value in a dictionary for a certain key only if that key does not already have a value.\n",
    "\n",
    "The `setdefault()` method offers a way to do this in one line of code. The  rst argument passed to the method is the key to check for, and the second argument is the value to set at that key if the key does not exist. If the key does exist, the `setdefault()` method returns the key’s value."
   ]
  },
  {
   "cell_type": "code",
   "execution_count": null,
   "metadata": {},
   "outputs": [],
   "source": [
    "# A simple character counter using the setdefault() method\n",
    "fst_paragraph = '''\n",
    "Call me Ishmael. Some years ago—never mind how long precisely—having\n",
    "little or no money in my purse, and nothing particular to interest me on\n",
    "shore, I thought I would sail about a little and see the watery part of\n",
    "the world. It is a way I have of driving off the spleen and regulating\n",
    "the circulation. Whenever I find myself growing grim about the mouth;\n",
    "whenever it is a damp, drizzly November in my soul; whenever I find\n",
    "myself involuntarily pausing before coffin warehouses, and bringing up\n",
    "the rear of every funeral I meet; and especially whenever my hypos get\n",
    "such an upper hand of me, that it requires a strong moral principle to\n",
    "prevent me from deliberately stepping into the street, and methodically\n",
    "knocking people’s hats off—then, I account it high time to get to\n",
    "sea as soon as I can. This is my substitute for pistol and ball. With\n",
    "a philosophical flourish Cato throws himself upon his sword; I quietly\n",
    "take to the ship. There is nothing surprising in this. If they but knew\n",
    "it, almost all men in their degree, some time or other, cherish very\n",
    "nearly the same feelings towards the ocean with me.'''\n",
    "\n",
    "count = {}\n",
    "\n",
    "for character in fst_paragraph:\n",
    "    count.setdefault(character, 0)\n",
    "    count[character] += 1\n",
    "\n",
    "print(count)"
   ]
  },
  {
   "cell_type": "markdown",
   "metadata": {},
   "source": [
    "# Nesting\n",
    "\n",
    "Sometimes you will want to store a set of dictionaries in a list or a list of items as a value in a dictionary. This is called *nesting*. You can nest a set of dictionaries inside a list, a list of items inside a dictionary, or even a dictionary inside another dictionary. Nesting is a powerful feature, as the following examples will demonstrate.\n",
    "\n",
    "In general, lists are useful to contain an ordered series of values, and dictionaries are useful for associating keys with values.\n",
    "\n",
    "## A List of Dictionaries\n",
    "\n"
   ]
  },
  {
   "cell_type": "code",
   "execution_count": null,
   "metadata": {},
   "outputs": [],
   "source": [
    "image_0 = {'color': 'greyscale', 'size': 289983, 'type': 'jpg',\n",
    "         'address': 'https://upload.wikimedia.org/wikipedia/commons/7/7b/Moby_Dick_p510_illustration.jpg'}\n",
    "image_1 = {'color': 'greyscale', 'size': 492872, 'type': 'jpg',\n",
    "         'address': 'https://upload.wikimedia.org/wikipedia/commons/f/f7/Queequeg.JPG'}\n",
    "image_2 = {'color': 'greyscale', 'size': 497121, 'type': 'jpg',\n",
    "         'address': 'https://upload.wikimedia.org/wikipedia/commons/8/8b/Moby_Dick_final_chase.jpg'}\n",
    "\n",
    "article_images = [image_0, image_1, image_2]\n",
    "\n",
    "article_images\n"
   ]
  },
  {
   "cell_type": "markdown",
   "metadata": {},
   "source": [
    "## A List in a Dictionary\n",
    "\n",
    "Rather than putting a dictionary inside a list, it is sometimes useful to put a list inside a dictionary."
   ]
  },
  {
   "cell_type": "code",
   "execution_count": null,
   "metadata": {},
   "outputs": [],
   "source": [
    "images = {'color': 'greyscale', 'size': [289983, 492872, 497121], 'type': 'jpg',\n",
    "         'address': ['https://upload.wikimedia.org/wikipedia/commons/7/7b/Moby_Dick_p510_illustration.jpg', \n",
    "                     'https://upload.wikimedia.org/wikipedia/commons/f/f7/Queequeg.JPG', \n",
    "                     'https://upload.wikimedia.org/wikipedia/commons/8/8b/Moby_Dick_final_chase.jpg']\n",
    "         }\n",
    "\n",
    "images['size'][-1]"
   ]
  },
  {
   "cell_type": "code",
   "execution_count": null,
   "metadata": {},
   "outputs": [],
   "source": [
    "for key, value in images.items():\n",
    "    print(\"\\n\" + key.title())\n",
    "    \n",
    "    if type(value) == list:\n",
    "        for element in value: \n",
    "            print(\"\\t * \" + str(element))\n",
    "    else:\n",
    "        print(\"\\t\" + value)"
   ]
  },
  {
   "cell_type": "markdown",
   "metadata": {},
   "source": [
    "## A Dictionary in a Dictionary\n",
    "\n",
    "You can nest a dictionary inside another dictionary, but your code can get complicated quickly when you do. For example, if you have several users for a website, each with a unique username, you can use the usernames as the keys in a dictionary. You can then store information about each user by using a dictionary as the value associated with their username. In the following listing, we store three pieces of information about each user: their first name, last name, and location. We’ll access this information by looping through the usernames and the dictionary of information associated with each username:\n"
   ]
  },
  {
   "cell_type": "code",
   "execution_count": null,
   "metadata": {},
   "outputs": [],
   "source": [
    "users = {\n",
    "    'aeinstein': {\n",
    "        'first': 'albert',\n",
    "        'last': 'einstein',\n",
    "        'locations': ['princeton', 'copenhagen'],\n",
    "        },\n",
    "    \n",
    "    'mcurie': {\n",
    "           'first': 'marie',\n",
    "           'last': 'curie',\n",
    "           'locations': ['paris', 'athens'],\n",
    "           },\n",
    "}"
   ]
  },
  {
   "cell_type": "code",
   "execution_count": null,
   "metadata": {},
   "outputs": [],
   "source": [
    "for username, user_info in users.items():\n",
    "    print(\"\\nUsername: \" + username)\n",
    "    full_name = user_info['first'] + \" \" + user_info['last']\n",
    "    locations = user_info['locations']\n",
    "    \n",
    "    print(\"\\tFull name: \" + full_name.title()) \n",
    "    for location in locations:\n",
    "        print(\"\\tLocation: \" + location.title())"
   ]
  },
  {
   "cell_type": "markdown",
   "metadata": {},
   "source": [
    "## Pretty Printing\n",
    "\n",
    "If you import the pprint module into your programs, you will have access to the `pprint()` and `pformat()` functions that will “pretty print” a dictionary’s values. This is helpful when you want a cleaner display of the items in a dictionary than what `print()` provides.\n"
   ]
  },
  {
   "cell_type": "code",
   "execution_count": null,
   "metadata": {},
   "outputs": [],
   "source": [
    "print(users)"
   ]
  },
  {
   "cell_type": "code",
   "execution_count": null,
   "metadata": {},
   "outputs": [],
   "source": [
    "import pprint\n",
    "\n",
    "pprint.pprint(users)"
   ]
  },
  {
   "cell_type": "markdown",
   "metadata": {},
   "source": [
    "# Exercises!!!\n",
    "\n",
    "![image](https://i.makeagif.com/media/2-03-2015/0GlCUD.gif)\n",
    "\n",
    "Using the `str` in `fst_paragraph`, your job is to return a `dict` containing all the words as keys, and the *number of occurrences* for each word as value. \n",
    "For instance, the word `'Ishmael'` occurs once, so a key with `'Ishmael'` is expected to contain the value `1`: `{'Ishmael': 1}`"
   ]
  }
 ],
 "metadata": {
  "kernelspec": {
   "display_name": "Python 3",
   "language": "python",
   "name": "python3"
  },
  "language_info": {
   "codemirror_mode": {
    "name": "ipython",
    "version": 3
   },
   "file_extension": ".py",
   "mimetype": "text/x-python",
   "name": "python",
   "nbconvert_exporter": "python",
   "pygments_lexer": "ipython3",
   "version": "3.6.7"
  }
 },
 "nbformat": 4,
 "nbformat_minor": 2
}
