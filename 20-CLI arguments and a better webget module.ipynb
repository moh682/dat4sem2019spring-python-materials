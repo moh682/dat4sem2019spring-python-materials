{
 "cells": [
  {
   "cell_type": "markdown",
   "metadata": {
    "slideshow": {
     "slide_type": "slide"
    }
   },
   "source": [
    "## Agenda\n",
    "\n",
    "* CLI arguments and CLI scripting\n",
    "* Sets\n",
    "* Graphs\n",
    "* PageRank"
   ]
  },
  {
   "cell_type": "markdown",
   "metadata": {
    "slideshow": {
     "slide_type": "slide"
    }
   },
   "source": [
    "## CLI Arguments in Python"
   ]
  },
  {
   "cell_type": "code",
   "execution_count": 1,
   "metadata": {
    "slideshow": {
     "slide_type": "subslide"
    }
   },
   "outputs": [
    {
     "name": "stdout",
     "output_type": "stream",
     "text": [
      "['/home/jens/.virtualenvs/slides/lib/python3.6/site-packages/ipykernel_launcher.py', '-f', '/run/user/1000/jupyter/kernel-e79d3bd8-183d-4b97-a45c-eeafe92dd499.json']\n"
     ]
    }
   ],
   "source": [
    "import sys\n",
    "print(sys.argv)"
   ]
  },
  {
   "cell_type": "markdown",
   "metadata": {
    "slideshow": {
     "slide_type": "subslide"
    }
   },
   "source": [
    "## argparse library\n",
    "\n",
    "https://docs.python.org/3/library/argparse.html"
   ]
  },
  {
   "cell_type": "code",
   "execution_count": null,
   "metadata": {
    "slideshow": {
     "slide_type": "subslide"
    }
   },
   "outputs": [],
   "source": [
    "import argparse\n",
    " \n",
    "parser = argparse.ArgumentParser(description='A program that downloads a URL and stores it locally')\n",
    "\n",
    "print(parser.parse_args())"
   ]
  },
  {
   "cell_type": "markdown",
   "metadata": {
    "slideshow": {
     "slide_type": "subslide"
    }
   },
   "source": [
    "## Adding positional arguments\n",
    "\n",
    "```python\n",
    "parser.add_argument('url', help='an integer for the accumulator')\n",
    "```\n",
    "\n",
    "* Positional arguments are **required**"
   ]
  },
  {
   "cell_type": "markdown",
   "metadata": {
    "slideshow": {
     "slide_type": "subslide"
    }
   },
   "source": [
    "## Getting argument values\n",
    "\n",
    "```python3\n",
    "args = parser.parse_args()\n",
    "print(args.url)\n",
    "```"
   ]
  },
  {
   "cell_type": "markdown",
   "metadata": {
    "slideshow": {
     "slide_type": "subslide"
    }
   },
   "source": [
    "## Exercise\n",
    "\n",
    "Do what we just did on class:\n",
    "\n",
    "1. Create a file with a `if __name__ == '__main__':` clause\n",
    "2. Use the `argparse` library to create an `ArgumentParser`\n",
    "3. Add the *positional* argument `URL` that gives you a string\n",
    "4. Save that url into a string"
   ]
  },
  {
   "cell_type": "markdown",
   "metadata": {
    "slideshow": {
     "slide_type": "subslide"
    }
   },
   "source": [
    "## Adding optional arguments\n",
    "\n",
    "* Convention: optional arguments are prepended with `-` or `--`\n",
    "\n",
    "```python3\n",
    "parser.add_argument('--destination', help='The name of the file to store the url in')\n",
    "```"
   ]
  },
  {
   "cell_type": "markdown",
   "metadata": {
    "slideshow": {
     "slide_type": "subslide"
    }
   },
   "source": [
    "## Optional arguments shorthands\n",
    "\n",
    "```python3\n",
    "parser.add_argument('-d', '--destination', help='The name of the file to store the url in')\n",
    "```"
   ]
  },
  {
   "cell_type": "markdown",
   "metadata": {
    "slideshow": {
     "slide_type": "subslide"
    }
   },
   "source": [
    "## Argument default values\n",
    "\n",
    "```python3\n",
    "parser.add_argument('-d', '--destination', default='default_file.exe' help='The name of the file to store the url in')\n",
    "```"
   ]
  },
  {
   "cell_type": "markdown",
   "metadata": {
    "slideshow": {
     "slide_type": "subslide"
    }
   },
   "source": [
    "## Exercise\n",
    "\n",
    "Implement the whole program, using `https://hackernews.com` as a test URL:\n",
    "\n",
    "1. Implement the download part\n",
    "  * If no destination file was specified, save the file in `default_file.dat`\n",
    "2. Improve the code: if no destination file was specified, use the last subset of the URL as the name for the file\n",
    "3. Improve the code: if no destination file was specified, use the MIME-type of the HTTP header to guess the file extension"
   ]
  }
 ],
 "metadata": {
  "celltoolbar": "Slideshow",
  "kernelspec": {
   "display_name": "Python 3",
   "language": "python",
   "name": "python3"
  },
  "language_info": {
   "codemirror_mode": {
    "name": "ipython",
    "version": 3
   },
   "file_extension": ".py",
   "mimetype": "text/x-python",
   "name": "python",
   "nbconvert_exporter": "python",
   "pygments_lexer": "ipython3",
   "version": "3.7.2"
  }
 },
 "nbformat": 4,
 "nbformat_minor": 2
}
